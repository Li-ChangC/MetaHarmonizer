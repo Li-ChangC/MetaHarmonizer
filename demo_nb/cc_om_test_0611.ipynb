{
 "cells": [
  {
   "cell_type": "code",
   "execution_count": 33,
   "id": "1aea3cfe",
   "metadata": {},
   "outputs": [
    {
     "name": "stdout",
     "output_type": "stream",
     "text": [
      "/home/lcc/projects/MetaHarmonizer\n"
     ]
    },
    {
     "name": "stderr",
     "output_type": "stream",
     "text": [
      "/home/lcc/miniconda3/envs/py310/lib/python3.10/site-packages/IPython/core/magics/osm.py:417: UserWarning: This is now an optional IPython functionality, setting dhist requires you to install the `pickleshare` library.\n",
      "  self.shell.db['dhist'] = compress_dhist(dhist)[-100:]\n"
     ]
    }
   ],
   "source": [
    "%cd /home/lcc/projects/MetaHarmonizer"
   ]
  },
  {
   "cell_type": "code",
   "execution_count": 24,
   "id": "0f9d1fed",
   "metadata": {},
   "outputs": [],
   "source": [
    "import gevent.monkey\n",
    "\n",
    "gevent.monkey.patch_all(thread=False, select=False)"
   ]
  },
  {
   "cell_type": "code",
   "execution_count": 34,
   "id": "782e1f0b",
   "metadata": {},
   "outputs": [
    {
     "data": {
      "text/plain": [
       "<module 'src.models.ontology_mapper_rag_faiss' from '/home/lcc/projects/MetaHarmonizer/src/models/ontology_mapper_rag_faiss.py'>"
      ]
     },
     "execution_count": 34,
     "metadata": {},
     "output_type": "execute_result"
    }
   ],
   "source": [
    "import pandas as pd\n",
    "from importlib import reload\n",
    "from src.models import ontology_mapper_st as om_st\n",
    "from src.Engine import ontology_mapping_engine as ome\n",
    "import src.models.ontology_mapper_lm as om_lm\n",
    "import src.models.ontology_mapper_rag_faiss as om_rag\n",
    "\n",
    "reload(om_st)\n",
    "reload(ome)\n",
    "reload(om_lm)\n",
    "reload(om_rag)"
   ]
  },
  {
   "cell_type": "code",
   "execution_count": 35,
   "id": "cfa9f51d",
   "metadata": {},
   "outputs": [],
   "source": [
    "from src.models.calc_stats import CalcStats\n",
    "\n",
    "calc = CalcStats()"
   ]
  },
  {
   "cell_type": "code",
   "execution_count": null,
   "id": "6a0ff26d",
   "metadata": {},
   "outputs": [],
   "source": [
    "# Deprecated\n",
    "cura_map = pd.read_csv(\n",
    "    './data/corpus/cbio_body_site/body_site_query_for_NCIT:C32221.csv')\n",
    "query_list = cura_map['original_value'].tolist()\n",
    "small_corpus_list = cura_map['curated_ontology'].to_list()\n",
    "# large_corpus_list = pd.read_csv('./data/corpus_from_NCIT_C1909.csv')"
   ]
  },
  {
   "cell_type": "code",
   "execution_count": 36,
   "id": "ab08246f",
   "metadata": {},
   "outputs": [],
   "source": [
    "# Updated code to pass the dict rather than a DataFrame\n",
    "df = pd.read_csv(\n",
    "    './data/corpus/cbio_body_site/body_site_query_for_NCIT:C32221.csv')\n",
    "\n",
    "query_list = df['original_value'].tolist()\n",
    "small_corpus_list = df['curated_ontology'].tolist()\n",
    "\n",
    "cura_map = dict(zip(df['original_value'], df['curated_ontology']))"
   ]
  },
  {
   "cell_type": "code",
   "execution_count": 37,
   "id": "4ede01a5",
   "metadata": {},
   "outputs": [
    {
     "name": "stdout",
     "output_type": "stream",
     "text": [
      "19/06//2025 11:32:1750357961 AM - INFO - OntoMapEngine: Initialized OntoMap Engine module\n",
      "19/06//2025 11:32:1750357961 AM - INFO - OntoMapEngine: Initialized OntoMap Engine module\n",
      "19/06//2025 11:32:1750357961 AM - INFO - OntoMapEngine: Initialized OntoMap Engine module\n",
      "19/06//2025 11:32:1750357961 AM - INFO - OntoMapEngine: Initialized OntoMap Engine module\n",
      "19/06//2025 11:32:1750357961 AM - INFO - OntoMapEngine: Initialized OntoMap Engine module\n",
      "19/06//2025 11:32:1750357961 AM - INFO - OntoMapEngine: Initialized OntoMap Engine module\n"
     ]
    }
   ],
   "source": [
    "# LM Strategy w/ SapBERT\n",
    "other_params = {\"test_or_prod\": \"test\"}\n",
    "onto_engine_large = ome.OntoMapEngine(\n",
    "    method='sap-bert',\n",
    "    topk=5,\n",
    "    query=query_list,\n",
    "    corpus=small_corpus_list,\n",
    "    cura_map=cura_map,\n",
    "    yaml_path='./src/models/method_model.yaml',\n",
    "    om_strategy='lm',\n",
    "    **other_params)"
   ]
  },
  {
   "cell_type": "code",
   "execution_count": 38,
   "id": "6ea22f4b",
   "metadata": {},
   "outputs": [
    {
     "name": "stdout",
     "output_type": "stream",
     "text": [
      "19/06//2025 11:32:1750357967 AM - INFO - OntoMapEngine: Running Ontology Mapping\n",
      "19/06//2025 11:32:1750357967 AM - INFO - OntoMapEngine: Running Ontology Mapping\n",
      "19/06//2025 11:32:1750357967 AM - INFO - OntoMapEngine: Running Ontology Mapping\n",
      "19/06//2025 11:32:1750357967 AM - INFO - OntoMapEngine: Running Ontology Mapping\n",
      "19/06//2025 11:32:1750357967 AM - INFO - OntoMapEngine: Running Ontology Mapping\n",
      "19/06//2025 11:32:1750357967 AM - INFO - OntoMapEngine: Running Ontology Mapping\n",
      "19/06//2025 11:32:1750357967 AM - INFO - OntoMapEngine: Separating exact and non-exact matches\n",
      "19/06//2025 11:32:1750357967 AM - INFO - OntoMapEngine: Separating exact and non-exact matches\n",
      "19/06//2025 11:32:1750357967 AM - INFO - OntoMapEngine: Separating exact and non-exact matches\n",
      "19/06//2025 11:32:1750357967 AM - INFO - OntoMapEngine: Separating exact and non-exact matches\n",
      "19/06//2025 11:32:1750357967 AM - INFO - OntoMapEngine: Separating exact and non-exact matches\n",
      "19/06//2025 11:32:1750357967 AM - INFO - OntoMapEngine: Separating exact and non-exact matches\n",
      "19/06//2025 11:32:1750357967 AM - INFO - OntoMapEngine: Running OntoMap model for non-exact matches\n",
      "19/06//2025 11:32:1750357967 AM - INFO - OntoMapEngine: Running OntoMap model for non-exact matches\n",
      "19/06//2025 11:32:1750357967 AM - INFO - OntoMapEngine: Running OntoMap model for non-exact matches\n",
      "19/06//2025 11:32:1750357967 AM - INFO - OntoMapEngine: Running OntoMap model for non-exact matches\n",
      "19/06//2025 11:32:1750357967 AM - INFO - OntoMapEngine: Running OntoMap model for non-exact matches\n",
      "19/06//2025 11:32:1750357967 AM - INFO - OntoMapEngine: Running OntoMap model for non-exact matches\n",
      "19/06//2025 11:32:1750357967 AM - INFO - OntoMapLM: Initialized OntoMap Language Model module\n",
      "19/06//2025 11:32:1750357967 AM - INFO - OntoMapLM: Initialized OntoMap Language Model module\n",
      "19/06//2025 11:32:1750357967 AM - INFO - OntoMapLM.get_match_results: Creating embeddings for query_list and corpus\n",
      "19/06//2025 11:32:1750357967 AM - INFO - OntoMapLM.get_match_results: Creating embeddings for query_list and corpus\n",
      "19/06//2025 11:32:1750357979 AM - INFO - OntoMapLM.get_match_results: Calculating cosine similarity matrix\n",
      "19/06//2025 11:32:1750357979 AM - INFO - OntoMapLM.get_match_results: Calculating cosine similarity matrix\n",
      "19/06//2025 11:32:1750357979 AM - INFO - OntoMapLM.get_match_results: Generating results table\n",
      "19/06//2025 11:32:1750357979 AM - INFO - OntoMapLM.get_match_results: Generating results table\n",
      "19/06//2025 11:33:1750357980 AM - INFO - OntoMapLM.get_match_results: Results Generated\n",
      "19/06//2025 11:33:1750357980 AM - INFO - OntoMapLM.get_match_results: Results Generated\n"
     ]
    }
   ],
   "source": [
    "lm_sapbert_result = onto_engine_large.run()"
   ]
  },
  {
   "cell_type": "code",
   "execution_count": 39,
   "id": "f8e4f7f4",
   "metadata": {},
   "outputs": [
    {
     "data": {
      "text/html": [
       "<div>\n",
       "<style scoped>\n",
       "    .dataframe tbody tr th:only-of-type {\n",
       "        vertical-align: middle;\n",
       "    }\n",
       "\n",
       "    .dataframe tbody tr th {\n",
       "        vertical-align: top;\n",
       "    }\n",
       "\n",
       "    .dataframe thead th {\n",
       "        text-align: right;\n",
       "    }\n",
       "</style>\n",
       "<table border=\"1\" class=\"dataframe\">\n",
       "  <thead>\n",
       "    <tr style=\"text-align: right;\">\n",
       "      <th></th>\n",
       "      <th>original_value</th>\n",
       "      <th>curated_ontology</th>\n",
       "      <th>match_level</th>\n",
       "      <th>stage</th>\n",
       "      <th>top1_match</th>\n",
       "      <th>top1_score</th>\n",
       "      <th>top2_match</th>\n",
       "      <th>top2_score</th>\n",
       "      <th>top3_match</th>\n",
       "      <th>top3_score</th>\n",
       "      <th>top4_match</th>\n",
       "      <th>top4_score</th>\n",
       "      <th>top5_match</th>\n",
       "      <th>top5_score</th>\n",
       "    </tr>\n",
       "  </thead>\n",
       "  <tbody>\n",
       "    <tr>\n",
       "      <th>0</th>\n",
       "      <td>\"BRAIN, CEREBELLUM\"</td>\n",
       "      <td>Cerebellum</td>\n",
       "      <td>1</td>\n",
       "      <td>2</td>\n",
       "      <td>Cerebellum</td>\n",
       "      <td>0.9504</td>\n",
       "      <td>Brain</td>\n",
       "      <td>0.7141</td>\n",
       "      <td>Central Lobe</td>\n",
       "      <td>0.6609</td>\n",
       "      <td>Medulla Oblongata</td>\n",
       "      <td>0.6389</td>\n",
       "      <td>Infratentorial Brain</td>\n",
       "      <td>0.6267</td>\n",
       "    </tr>\n",
       "    <tr>\n",
       "      <th>1</th>\n",
       "      <td>\"BRAIN, LEFT FRONTAL\"</td>\n",
       "      <td>Frontal Lobe</td>\n",
       "      <td>1</td>\n",
       "      <td>2</td>\n",
       "      <td>Frontal Lobe</td>\n",
       "      <td>0.6448</td>\n",
       "      <td>Left Lobe of the Liver</td>\n",
       "      <td>0.5966</td>\n",
       "      <td>Lobe of the Left Lung</td>\n",
       "      <td>0.5741</td>\n",
       "      <td>Upper Lobe of the Left Lung</td>\n",
       "      <td>0.5677</td>\n",
       "      <td>Left Thigh</td>\n",
       "      <td>0.5379</td>\n",
       "    </tr>\n",
       "    <tr>\n",
       "      <th>2</th>\n",
       "      <td>\"BRAIN, PARIETAL\"</td>\n",
       "      <td>Parietal Lobe</td>\n",
       "      <td>1</td>\n",
       "      <td>2</td>\n",
       "      <td>Parietal Lobe</td>\n",
       "      <td>0.9447</td>\n",
       "      <td>Frontal Lobe</td>\n",
       "      <td>0.6623</td>\n",
       "      <td>Occipital Lobe</td>\n",
       "      <td>0.6383</td>\n",
       "      <td>Infratentorial Brain</td>\n",
       "      <td>0.6245</td>\n",
       "      <td>Cerebral Cortex</td>\n",
       "      <td>0.6010</td>\n",
       "    </tr>\n",
       "    <tr>\n",
       "      <th>3</th>\n",
       "      <td>\"BRAIN, RIGHT FRONTAL\"</td>\n",
       "      <td>Frontal Lobe</td>\n",
       "      <td>1</td>\n",
       "      <td>2</td>\n",
       "      <td>Frontal Lobe</td>\n",
       "      <td>0.6667</td>\n",
       "      <td>Right Thigh</td>\n",
       "      <td>0.5532</td>\n",
       "      <td>Right Lobe of the Liver</td>\n",
       "      <td>0.5188</td>\n",
       "      <td>Upper Lobe of the Right Lung</td>\n",
       "      <td>0.5136</td>\n",
       "      <td>Middle Lobe of the Right Lung</td>\n",
       "      <td>0.4916</td>\n",
       "    </tr>\n",
       "    <tr>\n",
       "      <th>4</th>\n",
       "      <td>\"BRAIN, RIGHT TEMPORAL\"</td>\n",
       "      <td>Temporal Lobe</td>\n",
       "      <td>1</td>\n",
       "      <td>2</td>\n",
       "      <td>Temporal Lobe</td>\n",
       "      <td>0.6343</td>\n",
       "      <td>Temporal Muscle</td>\n",
       "      <td>0.5315</td>\n",
       "      <td>Middle Lobe of the Right Lung</td>\n",
       "      <td>0.5315</td>\n",
       "      <td>Thalamus</td>\n",
       "      <td>0.5253</td>\n",
       "      <td>Right Lobe of the Liver</td>\n",
       "      <td>0.5125</td>\n",
       "    </tr>\n",
       "    <tr>\n",
       "      <th>...</th>\n",
       "      <td>...</td>\n",
       "      <td>...</td>\n",
       "      <td>...</td>\n",
       "      <td>...</td>\n",
       "      <td>...</td>\n",
       "      <td>...</td>\n",
       "      <td>...</td>\n",
       "      <td>...</td>\n",
       "      <td>...</td>\n",
       "      <td>...</td>\n",
       "      <td>...</td>\n",
       "      <td>...</td>\n",
       "      <td>...</td>\n",
       "      <td>...</td>\n",
       "    </tr>\n",
       "    <tr>\n",
       "      <th>434</th>\n",
       "      <td>URETER; RENAL PELVIS</td>\n",
       "      <td>Renal Pelvis</td>\n",
       "      <td>1</td>\n",
       "      <td>2</td>\n",
       "      <td>Renal Pelvis</td>\n",
       "      <td>0.7736</td>\n",
       "      <td>Upper Urinary System</td>\n",
       "      <td>0.6299</td>\n",
       "      <td>Infrarenal Aortic Segment</td>\n",
       "      <td>0.4830</td>\n",
       "      <td>Ilium</td>\n",
       "      <td>0.4674</td>\n",
       "      <td>Bladder Neck</td>\n",
       "      <td>0.4256</td>\n",
       "    </tr>\n",
       "    <tr>\n",
       "      <th>435</th>\n",
       "      <td>URETER; RENAL PELVIS; BLADDER</td>\n",
       "      <td>Renal Pelvis</td>\n",
       "      <td>1</td>\n",
       "      <td>2</td>\n",
       "      <td>Renal Pelvis</td>\n",
       "      <td>0.6544</td>\n",
       "      <td>Upper Urinary System</td>\n",
       "      <td>0.5991</td>\n",
       "      <td>Bladder Neck</td>\n",
       "      <td>0.4968</td>\n",
       "      <td>Ilium</td>\n",
       "      <td>0.4073</td>\n",
       "      <td>Recto-Vaginal Pouch</td>\n",
       "      <td>0.3952</td>\n",
       "    </tr>\n",
       "    <tr>\n",
       "      <th>436</th>\n",
       "      <td>VENTRICLES</td>\n",
       "      <td>Brain Ventricle</td>\n",
       "      <td>1</td>\n",
       "      <td>2</td>\n",
       "      <td>Brain Ventricle</td>\n",
       "      <td>0.8461</td>\n",
       "      <td>Fourth Ventricle</td>\n",
       "      <td>0.7390</td>\n",
       "      <td>Third Ventricle</td>\n",
       "      <td>0.6933</td>\n",
       "      <td>Lateral Ventricle</td>\n",
       "      <td>0.6389</td>\n",
       "      <td>Cardiac Atrium</td>\n",
       "      <td>0.5948</td>\n",
       "    </tr>\n",
       "    <tr>\n",
       "      <th>437</th>\n",
       "      <td>VERY DISTAL RECTUM RECURRENCE</td>\n",
       "      <td>Rectum</td>\n",
       "      <td>1</td>\n",
       "      <td>2</td>\n",
       "      <td>Rectum</td>\n",
       "      <td>0.5060</td>\n",
       "      <td>Recto-Vaginal Pouch</td>\n",
       "      <td>0.4271</td>\n",
       "      <td>Right Colon</td>\n",
       "      <td>0.4023</td>\n",
       "      <td>Descending Colon</td>\n",
       "      <td>0.3790</td>\n",
       "      <td>Transverse Colon</td>\n",
       "      <td>0.3349</td>\n",
       "    </tr>\n",
       "    <tr>\n",
       "      <th>438</th>\n",
       "      <td>VETEBRAL METASTASOS</td>\n",
       "      <td>Vertebra</td>\n",
       "      <td>4</td>\n",
       "      <td>2</td>\n",
       "      <td>Fourth Ventricle</td>\n",
       "      <td>0.4073</td>\n",
       "      <td>T4 Vertebra</td>\n",
       "      <td>0.4027</td>\n",
       "      <td>Pons Varolii</td>\n",
       "      <td>0.3870</td>\n",
       "      <td>Vertebra</td>\n",
       "      <td>0.3767</td>\n",
       "      <td>C4 Vertebra</td>\n",
       "      <td>0.3726</td>\n",
       "    </tr>\n",
       "  </tbody>\n",
       "</table>\n",
       "<p>439 rows × 14 columns</p>\n",
       "</div>"
      ],
      "text/plain": [
       "                    original_value curated_ontology  match_level  stage  \\\n",
       "0              \"BRAIN, CEREBELLUM\"       Cerebellum            1      2   \n",
       "1            \"BRAIN, LEFT FRONTAL\"     Frontal Lobe            1      2   \n",
       "2                \"BRAIN, PARIETAL\"    Parietal Lobe            1      2   \n",
       "3           \"BRAIN, RIGHT FRONTAL\"     Frontal Lobe            1      2   \n",
       "4          \"BRAIN, RIGHT TEMPORAL\"    Temporal Lobe            1      2   \n",
       "..                             ...              ...          ...    ...   \n",
       "434           URETER; RENAL PELVIS     Renal Pelvis            1      2   \n",
       "435  URETER; RENAL PELVIS; BLADDER     Renal Pelvis            1      2   \n",
       "436                     VENTRICLES  Brain Ventricle            1      2   \n",
       "437  VERY DISTAL RECTUM RECURRENCE           Rectum            1      2   \n",
       "438            VETEBRAL METASTASOS         Vertebra            4      2   \n",
       "\n",
       "           top1_match top1_score              top2_match top2_score  \\\n",
       "0          Cerebellum     0.9504                   Brain     0.7141   \n",
       "1        Frontal Lobe     0.6448  Left Lobe of the Liver     0.5966   \n",
       "2       Parietal Lobe     0.9447            Frontal Lobe     0.6623   \n",
       "3        Frontal Lobe     0.6667             Right Thigh     0.5532   \n",
       "4       Temporal Lobe     0.6343         Temporal Muscle     0.5315   \n",
       "..                ...        ...                     ...        ...   \n",
       "434      Renal Pelvis     0.7736    Upper Urinary System     0.6299   \n",
       "435      Renal Pelvis     0.6544    Upper Urinary System     0.5991   \n",
       "436   Brain Ventricle     0.8461        Fourth Ventricle     0.7390   \n",
       "437            Rectum     0.5060     Recto-Vaginal Pouch     0.4271   \n",
       "438  Fourth Ventricle     0.4073             T4 Vertebra     0.4027   \n",
       "\n",
       "                        top3_match top3_score                    top4_match  \\\n",
       "0                     Central Lobe     0.6609             Medulla Oblongata   \n",
       "1            Lobe of the Left Lung     0.5741   Upper Lobe of the Left Lung   \n",
       "2                   Occipital Lobe     0.6383          Infratentorial Brain   \n",
       "3          Right Lobe of the Liver     0.5188  Upper Lobe of the Right Lung   \n",
       "4    Middle Lobe of the Right Lung     0.5315                      Thalamus   \n",
       "..                             ...        ...                           ...   \n",
       "434      Infrarenal Aortic Segment     0.4830                         Ilium   \n",
       "435                   Bladder Neck     0.4968                         Ilium   \n",
       "436                Third Ventricle     0.6933             Lateral Ventricle   \n",
       "437                    Right Colon     0.4023              Descending Colon   \n",
       "438                   Pons Varolii     0.3870                      Vertebra   \n",
       "\n",
       "    top4_score                     top5_match top5_score  \n",
       "0       0.6389           Infratentorial Brain     0.6267  \n",
       "1       0.5677                     Left Thigh     0.5379  \n",
       "2       0.6245                Cerebral Cortex     0.6010  \n",
       "3       0.5136  Middle Lobe of the Right Lung     0.4916  \n",
       "4       0.5253        Right Lobe of the Liver     0.5125  \n",
       "..         ...                            ...        ...  \n",
       "434     0.4674                   Bladder Neck     0.4256  \n",
       "435     0.4073            Recto-Vaginal Pouch     0.3952  \n",
       "436     0.6389                 Cardiac Atrium     0.5948  \n",
       "437     0.3790               Transverse Colon     0.3349  \n",
       "438     0.3767                    C4 Vertebra     0.3726  \n",
       "\n",
       "[439 rows x 14 columns]"
      ]
     },
     "execution_count": 39,
     "metadata": {},
     "output_type": "execute_result"
    }
   ],
   "source": [
    "lm_sapbert_result"
   ]
  },
  {
   "cell_type": "code",
   "execution_count": 40,
   "id": "d29c04ae",
   "metadata": {},
   "outputs": [],
   "source": [
    "lm_sapbert_result.to_csv(\"lm_sapbert_result_bodysite.csv\", index=False)"
   ]
  },
  {
   "cell_type": "code",
   "execution_count": 41,
   "id": "ea87df3f",
   "metadata": {},
   "outputs": [
    {
     "name": "stdout",
     "output_type": "stream",
     "text": [
      "  Accuracy Level   Accuracy\n",
      "0    Top 1 Match  71.298405\n",
      "1  Top 3 Matches  89.977221\n",
      "2  Top 5 Matches  93.849658\n"
     ]
    }
   ],
   "source": [
    "# LM Strategy w/ SapBERT\n",
    "lm_sapbert_accuracy_df = calc.calc_accuracy(lm_sapbert_result)\n",
    "print(lm_sapbert_accuracy_df)"
   ]
  },
  {
   "cell_type": "code",
   "execution_count": 11,
   "id": "4b00623c",
   "metadata": {},
   "outputs": [
    {
     "name": "stdout",
     "output_type": "stream",
     "text": [
      "17/06//2025 02:03:1750194231 PM - INFO - OntoMapEngine: Initialized OntoMap Engine module\n",
      "17/06//2025 02:03:1750194231 PM - INFO - OntoMapEngine: Initialized OntoMap Engine module\n",
      "17/06//2025 02:03:1750194231 PM - INFO - OntoMapEngine: Running Ontology Mapping\n",
      "17/06//2025 02:03:1750194231 PM - INFO - OntoMapEngine: Running Ontology Mapping\n",
      "17/06//2025 02:03:1750194231 PM - INFO - OntoMapEngine: Separating exact and non-exact matches\n",
      "17/06//2025 02:03:1750194231 PM - INFO - OntoMapEngine: Separating exact and non-exact matches\n",
      "17/06//2025 02:03:1750194231 PM - INFO - OntoMapEngine: Running OntoMap model for non-exact matches\n",
      "17/06//2025 02:03:1750194231 PM - INFO - OntoMapEngine: Running OntoMap model for non-exact matches\n",
      "17/06//2025 02:03:1750194231 PM - INFO - OntoMapST: Initialized OntoMap Sentence Transformer module\n",
      "17/06//2025 02:03:1750194231 PM - INFO - OntoMapST: Initialized OntoMap Sentence Transformer module\n",
      "17/06//2025 02:03:1750194231 PM - INFO - OntoMapST.get_match_results: Creating embeddings for query_list and corpus\n",
      "17/06//2025 02:03:1750194231 PM - INFO - OntoMapST.get_match_results: Creating embeddings for query_list and corpus\n"
     ]
    },
    {
     "name": "stderr",
     "output_type": "stream",
     "text": [
      "Exception in worker\n",
      "Traceback (most recent call last):\n",
      "  File \"/home/lcc/miniconda3/envs/py310/lib/python3.10/concurrent/futures/thread.py\", line 81, in _worker\n",
      "    work_item = work_queue.get(block=True)\n",
      "  File \"src/gevent/queue.py\", line 381, in gevent._gevent_cqueue.SimpleQueue.get\n",
      "  File \"src/gevent/queue.py\", line 397, in gevent._gevent_cqueue.SimpleQueue.get\n",
      "  File \"src/gevent/queue.py\", line 373, in gevent._gevent_cqueue.SimpleQueue._SimpleQueue__get_or_peek\n",
      "  File \"src/gevent/_waiter.py\", line 154, in gevent._gevent_c_waiter.Waiter.get\n",
      "  File \"src/gevent/_greenlet_primitives.py\", line 65, in gevent._gevent_c_greenlet_primitives.SwitchOutGreenletWithLoop.switch\n",
      "  File \"src/gevent/_gevent_c_greenlet_primitives.pxd\", line 35, in gevent._gevent_c_greenlet_primitives._greenlet_switch\n",
      "gevent.exceptions.LoopExit: This operation would block forever\n",
      "\tHub: <Hub '' at 0x7fab6900a480 epoll pending=0 ref=0 fileno=96 thread_ident=0x7fab69bff640>\n",
      "\tHandles:\n",
      "[]\n",
      "Exception in worker\n",
      "Traceback (most recent call last):\n",
      "  File \"/home/lcc/miniconda3/envs/py310/lib/python3.10/concurrent/futures/thread.py\", line 81, in _worker\n",
      "    work_item = work_queue.get(block=True)\n",
      "  File \"src/gevent/queue.py\", line 381, in gevent._gevent_cqueue.SimpleQueue.get\n",
      "  File \"src/gevent/queue.py\", line 397, in gevent._gevent_cqueue.SimpleQueue.get\n",
      "  File \"src/gevent/queue.py\", line 373, in gevent._gevent_cqueue.SimpleQueue._SimpleQueue__get_or_peek\n",
      "  File \"src/gevent/_waiter.py\", line 154, in gevent._gevent_c_waiter.Waiter.get\n",
      "  File \"src/gevent/_greenlet_primitives.py\", line 65, in gevent._gevent_c_greenlet_primitives.SwitchOutGreenletWithLoop.switch\n",
      "  File \"src/gevent/_gevent_c_greenlet_primitives.pxd\", line 35, in gevent._gevent_c_greenlet_primitives._greenlet_switch\n",
      "gevent.exceptions.LoopExit: This operation would block forever\n",
      "\tHub: <Hub '' at 0x7fab54134770 epoll pending=0 ref=0 fileno=95 thread_ident=0x7fab69bff640>\n",
      "\tHandles:\n",
      "[]\n"
     ]
    },
    {
     "name": "stdout",
     "output_type": "stream",
     "text": [
      "17/06//2025 02:03:1750194236 PM - INFO - OntoMapST.get_match_results: Calculating cosine similarity matrix\n",
      "17/06//2025 02:03:1750194236 PM - INFO - OntoMapST.get_match_results: Calculating cosine similarity matrix\n",
      "17/06//2025 02:03:1750194236 PM - INFO - OntoMapST.get_match_results: Generating results table\n",
      "17/06//2025 02:03:1750194236 PM - INFO - OntoMapST.get_match_results: Generating results table\n",
      "17/06//2025 02:03:1750194236 PM - INFO - OntoMapST.get_match_results: Results Generated\n",
      "17/06//2025 02:03:1750194236 PM - INFO - OntoMapST.get_match_results: Results Generated\n"
     ]
    }
   ],
   "source": [
    "# st - pubmed-bert\n",
    "other_params = {\"test_or_prod\": \"test\"}\n",
    "onto_engine_large = ome.OntoMapEngine(\n",
    "    method='pubmed-bert',\n",
    "    topk=5,\n",
    "    query=query_list,\n",
    "    corpus=small_corpus_list,\n",
    "    cura_map=cura_map,\n",
    "    yaml_path='./src/models/method_model.yaml',\n",
    "    om_strategy='st',\n",
    "    **other_params)\n",
    "\n",
    "st_pubmetbert_result = onto_engine_large.run()"
   ]
  },
  {
   "cell_type": "code",
   "execution_count": 12,
   "id": "ff38f0c1",
   "metadata": {},
   "outputs": [
    {
     "name": "stdout",
     "output_type": "stream",
     "text": [
      "  Accuracy Level   Accuracy\n",
      "0    Top 1 Match  74.259681\n",
      "1  Top 3 Matches  88.838269\n",
      "2  Top 5 Matches  92.710706\n"
     ]
    }
   ],
   "source": [
    "# Sentences Transformer Strategy w/ PubMedBERT\n",
    "st_pubmedbert_accuracy_df = calc.calc_accuracy(st_pubmetbert_result)\n",
    "print(st_pubmedbert_accuracy_df)"
   ]
  },
  {
   "cell_type": "code",
   "execution_count": 13,
   "id": "e17d3bd7",
   "metadata": {},
   "outputs": [],
   "source": [
    "st_pubmetbert_result.to_csv(\"st_pubmedbert_result_bodysite.csv\", index=False)"
   ]
  },
  {
   "cell_type": "code",
   "execution_count": 14,
   "id": "f2764a49",
   "metadata": {},
   "outputs": [
    {
     "name": "stdout",
     "output_type": "stream",
     "text": [
      "17/06//2025 02:04:1750194273 PM - INFO - OntoMapEngine: Initialized OntoMap Engine module\n",
      "17/06//2025 02:04:1750194273 PM - INFO - OntoMapEngine: Initialized OntoMap Engine module\n",
      "17/06//2025 02:04:1750194273 PM - INFO - OntoMapEngine: Initialized OntoMap Engine module\n",
      "17/06//2025 02:04:1750194273 PM - INFO - OntoMapEngine: Running Ontology Mapping\n",
      "17/06//2025 02:04:1750194273 PM - INFO - OntoMapEngine: Running Ontology Mapping\n",
      "17/06//2025 02:04:1750194273 PM - INFO - OntoMapEngine: Running Ontology Mapping\n",
      "17/06//2025 02:04:1750194273 PM - INFO - OntoMapEngine: Separating exact and non-exact matches\n",
      "17/06//2025 02:04:1750194273 PM - INFO - OntoMapEngine: Separating exact and non-exact matches\n",
      "17/06//2025 02:04:1750194273 PM - INFO - OntoMapEngine: Separating exact and non-exact matches\n",
      "17/06//2025 02:04:1750194273 PM - INFO - OntoMapEngine: Running OntoMap model for non-exact matches\n",
      "17/06//2025 02:04:1750194273 PM - INFO - OntoMapEngine: Running OntoMap model for non-exact matches\n",
      "17/06//2025 02:04:1750194273 PM - INFO - OntoMapEngine: Running OntoMap model for non-exact matches\n",
      "17/06//2025 02:04:1750194273 PM - INFO - OntoMapLM: Initialized OntoMap Language Model module\n",
      "17/06//2025 02:04:1750194273 PM - INFO - OntoMapLM.get_match_results: Creating embeddings for query_list and corpus\n",
      "17/06//2025 02:04:1750194283 PM - INFO - OntoMapLM.get_match_results: Calculating cosine similarity matrix\n",
      "17/06//2025 02:04:1750194283 PM - INFO - OntoMapLM.get_match_results: Generating results table\n",
      "17/06//2025 02:04:1750194284 PM - INFO - OntoMapLM.get_match_results: Results Generated\n"
     ]
    }
   ],
   "source": [
    "# Language Model Strategy w/ PubMedBERT\n",
    "other_params = {\"test_or_prod\": \"test\"}\n",
    "onto_engine_large = ome.OntoMapEngine(\n",
    "    method='pubmed-bert',\n",
    "    topk=5,\n",
    "    query=query_list,\n",
    "    corpus=small_corpus_list,\n",
    "    cura_map=cura_map,\n",
    "    yaml_path='./src/models/method_model.yaml',\n",
    "    om_strategy='lm',\n",
    "    **other_params)\n",
    "\n",
    "lm_pubmedbert_result = onto_engine_large.run()"
   ]
  },
  {
   "cell_type": "code",
   "execution_count": 15,
   "id": "6284a8d3",
   "metadata": {},
   "outputs": [
    {
     "name": "stdout",
     "output_type": "stream",
     "text": [
      "  Accuracy Level   Accuracy\n",
      "0    Top 1 Match  72.892938\n",
      "1  Top 3 Matches  88.382688\n",
      "2  Top 5 Matches  92.482916\n"
     ]
    }
   ],
   "source": [
    "# Language Model Strategy w/ PubMedBERT\n",
    "lm_pubmedbert_accuracy_df = calc.calc_accuracy(lm_pubmedbert_result)\n",
    "print(lm_pubmedbert_accuracy_df)"
   ]
  },
  {
   "cell_type": "code",
   "execution_count": 16,
   "id": "92059d79",
   "metadata": {},
   "outputs": [],
   "source": [
    "lm_pubmedbert_result.to_csv(\"lm_pubmedbert_result_bodysite.csv\", index=False)"
   ]
  },
  {
   "cell_type": "code",
   "execution_count": 14,
   "id": "550487bf",
   "metadata": {},
   "outputs": [
    {
     "name": "stdout",
     "output_type": "stream",
     "text": [
      "13/06//2025 11:29:1749839365 AM - INFO - OntoMapEngine: Initialized OntoMap Engine module\n",
      "13/06//2025 11:29:1749839365 AM - INFO - OntoMapEngine: Initialized OntoMap Engine module\n",
      "13/06//2025 11:29:1749839365 AM - INFO - OntoMapEngine: Initialized OntoMap Engine module\n",
      "13/06//2025 11:29:1749839365 AM - INFO - OntoMapEngine: Running Ontology Mapping\n",
      "13/06//2025 11:29:1749839365 AM - INFO - OntoMapEngine: Running Ontology Mapping\n",
      "13/06//2025 11:29:1749839365 AM - INFO - OntoMapEngine: Running Ontology Mapping\n",
      "13/06//2025 11:29:1749839365 AM - INFO - OntoMapEngine: Separating exact and non-exact matches\n",
      "13/06//2025 11:29:1749839365 AM - INFO - OntoMapEngine: Separating exact and non-exact matches\n",
      "13/06//2025 11:29:1749839365 AM - INFO - OntoMapEngine: Separating exact and non-exact matches\n",
      "13/06//2025 11:29:1749839365 AM - INFO - OntoMapEngine: Running OntoMap model for non-exact matches\n",
      "13/06//2025 11:29:1749839365 AM - INFO - OntoMapEngine: Running OntoMap model for non-exact matches\n",
      "13/06//2025 11:29:1749839365 AM - INFO - OntoMapEngine: Running OntoMap model for non-exact matches\n",
      "13/06//2025 11:29:1749839365 AM - INFO - OntoMapRAG: Initialized OntoMapRAG module\n",
      "13/06//2025 11:29:1749839365 AM - INFO - OntoMapRAG: Generating results table\n"
     ]
    },
    {
     "name": "stderr",
     "output_type": "stream",
     "text": [
      "Processing queries:   0%|          | 0/439 [00:00<?, ?it/s]No sentence-transformers model found with name cambridgeltl/SapBERT-from-PubMedBERT-fulltext-mean-token. Creating a new one with mean pooling.\n",
      "Processing queries: 100%|██████████| 439/439 [00:07<00:00, 58.18it/s]"
     ]
    },
    {
     "name": "stdout",
     "output_type": "stream",
     "text": [
      "13/06//2025 11:29:1749839373 AM - INFO - OntoMapRAG: Results Generated\n"
     ]
    },
    {
     "name": "stderr",
     "output_type": "stream",
     "text": [
      "\n"
     ]
    }
   ],
   "source": [
    "# RAG Strategy w/ SapBERT\n",
    "rag_engine = ome.OntoMapEngine(method='mt-sap-bert',\n",
    "                               topk=5,\n",
    "                               query=query_list,\n",
    "                               corpus=small_corpus_list,\n",
    "                               cura_map=cura_map,\n",
    "                               yaml_path='./src/models/method_model.yaml',\n",
    "                               om_strategy='rag',\n",
    "                               test_or_prod='test')\n",
    "rag_result = rag_engine.run()"
   ]
  },
  {
   "cell_type": "code",
   "execution_count": null,
   "id": "73bfde4c",
   "metadata": {},
   "outputs": [],
   "source": [
    "rag_result.to_csv(\"rag_sapbert_result_partially_cleaned_contexts.csv\",\n",
    "                  index=False)"
   ]
  },
  {
   "cell_type": "code",
   "execution_count": 16,
   "id": "749da2c8",
   "metadata": {},
   "outputs": [
    {
     "name": "stdout",
     "output_type": "stream",
     "text": [
      "RAG SapBERT Top-5 Accuracy: 91.34%\n",
      "  Accuracy Level   Accuracy\n",
      "0    Top 1 Match  64.464692\n",
      "1  Top 3 Matches  87.471526\n",
      "2  Top 5 Matches  91.343964\n"
     ]
    }
   ],
   "source": [
    "# RAG Strategy w/ SapBERT\n",
    "rag_accuracy_df = calc.calc_accuracy(rag_result)\n",
    "rag_accuracy = rag_accuracy_df[rag_accuracy_df[\"Accuracy Level\"] ==\n",
    "                               \"Top 5 Matches\"][\"Accuracy\"].values[0]\n",
    "print(f\"RAG SapBERT Top-5 Accuracy: {rag_accuracy:.2f}%\")\n",
    "print(rag_accuracy_df)"
   ]
  },
  {
   "cell_type": "code",
   "execution_count": 21,
   "id": "2bcf14e1",
   "metadata": {},
   "outputs": [
    {
     "name": "stdout",
     "output_type": "stream",
     "text": [
      "13/06//2025 12:16:1749842188 PM - INFO - OntoMapEngine: Initialized OntoMap Engine module\n",
      "13/06//2025 12:16:1749842188 PM - INFO - OntoMapEngine: Initialized OntoMap Engine module\n",
      "13/06//2025 12:16:1749842188 PM - INFO - OntoMapEngine: Initialized OntoMap Engine module\n",
      "13/06//2025 12:16:1749842188 PM - INFO - OntoMapEngine: Initialized OntoMap Engine module\n",
      "13/06//2025 12:16:1749842188 PM - INFO - OntoMapEngine: Initialized OntoMap Engine module\n",
      "13/06//2025 12:16:1749842188 PM - INFO - OntoMapEngine: Running Ontology Mapping\n",
      "13/06//2025 12:16:1749842188 PM - INFO - OntoMapEngine: Running Ontology Mapping\n",
      "13/06//2025 12:16:1749842188 PM - INFO - OntoMapEngine: Running Ontology Mapping\n",
      "13/06//2025 12:16:1749842188 PM - INFO - OntoMapEngine: Running Ontology Mapping\n",
      "13/06//2025 12:16:1749842188 PM - INFO - OntoMapEngine: Running Ontology Mapping\n",
      "13/06//2025 12:16:1749842188 PM - INFO - OntoMapEngine: Separating exact and non-exact matches\n",
      "13/06//2025 12:16:1749842188 PM - INFO - OntoMapEngine: Separating exact and non-exact matches\n",
      "13/06//2025 12:16:1749842188 PM - INFO - OntoMapEngine: Separating exact and non-exact matches\n",
      "13/06//2025 12:16:1749842188 PM - INFO - OntoMapEngine: Separating exact and non-exact matches\n",
      "13/06//2025 12:16:1749842188 PM - INFO - OntoMapEngine: Separating exact and non-exact matches\n",
      "13/06//2025 12:16:1749842188 PM - INFO - OntoMapEngine: Running OntoMap model for non-exact matches\n",
      "13/06//2025 12:16:1749842188 PM - INFO - OntoMapEngine: Running OntoMap model for non-exact matches\n",
      "13/06//2025 12:16:1749842188 PM - INFO - OntoMapEngine: Running OntoMap model for non-exact matches\n",
      "13/06//2025 12:16:1749842188 PM - INFO - OntoMapEngine: Running OntoMap model for non-exact matches\n",
      "13/06//2025 12:16:1749842188 PM - INFO - OntoMapEngine: Running OntoMap model for non-exact matches\n",
      "13/06//2025 12:16:1749842188 PM - INFO - OntoMapRAG: Initialized OntoMapRAG module\n",
      "13/06//2025 12:16:1749842188 PM - INFO - OntoMapRAG: Initialized OntoMapRAG module\n",
      "13/06//2025 12:16:1749842188 PM - INFO - OntoMapRAG: Initialized OntoMapRAG module\n",
      "13/06//2025 12:16:1749842188 PM - INFO - OntoMapRAG: Generating results table\n",
      "13/06//2025 12:16:1749842188 PM - INFO - OntoMapRAG: Generating results table\n",
      "13/06//2025 12:16:1749842188 PM - INFO - OntoMapRAG: Generating results table\n"
     ]
    },
    {
     "name": "stderr",
     "output_type": "stream",
     "text": [
      "Processing queries: 100%|██████████| 439/439 [00:05<00:00, 77.17it/s]"
     ]
    },
    {
     "name": "stdout",
     "output_type": "stream",
     "text": [
      "13/06//2025 12:16:1749842193 PM - INFO - OntoMapRAG: Results Generated\n",
      "13/06//2025 12:16:1749842193 PM - INFO - OntoMapRAG: Results Generated\n",
      "13/06//2025 12:16:1749842193 PM - INFO - OntoMapRAG: Results Generated\n"
     ]
    },
    {
     "name": "stderr",
     "output_type": "stream",
     "text": [
      "\n"
     ]
    }
   ],
   "source": [
    "# RAG Strategy w/ SapBERT not cleaned up\n",
    "rag_engine = ome.OntoMapEngine(method='mt-sap-bert',\n",
    "                               topk=5,\n",
    "                               query=query_list,\n",
    "                               corpus=small_corpus_list,\n",
    "                               cura_map=cura_map,\n",
    "                               yaml_path='./src/models/method_model.yaml',\n",
    "                               om_strategy='rag',\n",
    "                               test_or_prod='test')\n",
    "rag_result = rag_engine.run()"
   ]
  },
  {
   "cell_type": "code",
   "execution_count": 23,
   "id": "835395ca",
   "metadata": {},
   "outputs": [],
   "source": [
    "rag_result.to_csv(\"rag_sapbert_result_removed_duplicates.csv\", index=False)"
   ]
  },
  {
   "cell_type": "code",
   "execution_count": 22,
   "id": "b12a91e0",
   "metadata": {},
   "outputs": [
    {
     "name": "stdout",
     "output_type": "stream",
     "text": [
      "RAG SapBERT Top-5 Accuracy: 90.66%\n",
      "  Accuracy Level   Accuracy\n",
      "0    Top 1 Match  67.198178\n",
      "1  Top 3 Matches  85.876993\n",
      "2  Top 5 Matches  90.660592\n"
     ]
    }
   ],
   "source": [
    "# RAG Strategy w/ SapBERT not cleaned up\n",
    "rag_accuracy_df = calc.calc_accuracy(rag_result)\n",
    "rag_accuracy = rag_accuracy_df[rag_accuracy_df[\"Accuracy Level\"] ==\n",
    "                               \"Top 5 Matches\"][\"Accuracy\"].values[0]\n",
    "print(f\"RAG SapBERT Top-5 Accuracy: {rag_accuracy:.2f}%\")\n",
    "print(rag_accuracy_df)"
   ]
  },
  {
   "cell_type": "code",
   "execution_count": 17,
   "id": "8c954c22",
   "metadata": {},
   "outputs": [
    {
     "name": "stdout",
     "output_type": "stream",
     "text": [
      "17/06//2025 02:16:1750195004 PM - INFO - OntoMapEngine: Initialized OntoMap Engine module\n",
      "17/06//2025 02:16:1750195004 PM - INFO - OntoMapEngine: Initialized OntoMap Engine module\n",
      "17/06//2025 02:16:1750195004 PM - INFO - OntoMapEngine: Initialized OntoMap Engine module\n",
      "17/06//2025 02:16:1750195004 PM - INFO - OntoMapEngine: Initialized OntoMap Engine module\n",
      "17/06//2025 02:16:1750195004 PM - INFO - OntoMapEngine: Running Ontology Mapping\n",
      "17/06//2025 02:16:1750195004 PM - INFO - OntoMapEngine: Running Ontology Mapping\n",
      "17/06//2025 02:16:1750195004 PM - INFO - OntoMapEngine: Running Ontology Mapping\n",
      "17/06//2025 02:16:1750195004 PM - INFO - OntoMapEngine: Running Ontology Mapping\n",
      "17/06//2025 02:16:1750195004 PM - INFO - OntoMapEngine: Separating exact and non-exact matches\n",
      "17/06//2025 02:16:1750195004 PM - INFO - OntoMapEngine: Separating exact and non-exact matches\n",
      "17/06//2025 02:16:1750195004 PM - INFO - OntoMapEngine: Separating exact and non-exact matches\n",
      "17/06//2025 02:16:1750195004 PM - INFO - OntoMapEngine: Separating exact and non-exact matches\n",
      "17/06//2025 02:16:1750195004 PM - INFO - OntoMapEngine: Running OntoMap model for non-exact matches\n",
      "17/06//2025 02:16:1750195004 PM - INFO - OntoMapEngine: Running OntoMap model for non-exact matches\n",
      "17/06//2025 02:16:1750195004 PM - INFO - OntoMapEngine: Running OntoMap model for non-exact matches\n",
      "17/06//2025 02:16:1750195004 PM - INFO - OntoMapEngine: Running OntoMap model for non-exact matches\n",
      "17/06//2025 02:16:1750195004 PM - INFO - OntoMapST: Initialized OntoMap Sentence Transformer module\n",
      "17/06//2025 02:16:1750195004 PM - INFO - OntoMapST: Initialized OntoMap Sentence Transformer module\n",
      "17/06//2025 02:16:1750195004 PM - INFO - OntoMapST: Initialized OntoMap Sentence Transformer module\n",
      "17/06//2025 02:16:1750195004 PM - INFO - OntoMapST.get_match_results: Creating embeddings for query_list and corpus\n",
      "17/06//2025 02:16:1750195004 PM - INFO - OntoMapST.get_match_results: Creating embeddings for query_list and corpus\n",
      "17/06//2025 02:16:1750195004 PM - INFO - OntoMapST.get_match_results: Creating embeddings for query_list and corpus\n"
     ]
    },
    {
     "name": "stderr",
     "output_type": "stream",
     "text": [
      "No sentence-transformers model found with name cambridgeltl/SapBERT-from-PubMedBERT-fulltext-mean-token. Creating a new one with mean pooling.\n",
      "No sentence-transformers model found with name cambridgeltl/SapBERT-from-PubMedBERT-fulltext-mean-token. Creating a new one with mean pooling.\n"
     ]
    },
    {
     "name": "stdout",
     "output_type": "stream",
     "text": [
      "17/06//2025 02:16:1750195011 PM - INFO - OntoMapST.get_match_results: Calculating cosine similarity matrix\n",
      "17/06//2025 02:16:1750195011 PM - INFO - OntoMapST.get_match_results: Calculating cosine similarity matrix\n",
      "17/06//2025 02:16:1750195011 PM - INFO - OntoMapST.get_match_results: Calculating cosine similarity matrix\n",
      "17/06//2025 02:16:1750195011 PM - INFO - OntoMapST.get_match_results: Generating results table\n",
      "17/06//2025 02:16:1750195011 PM - INFO - OntoMapST.get_match_results: Generating results table\n",
      "17/06//2025 02:16:1750195011 PM - INFO - OntoMapST.get_match_results: Generating results table\n",
      "17/06//2025 02:16:1750195012 PM - INFO - OntoMapST.get_match_results: Results Generated\n",
      "17/06//2025 02:16:1750195012 PM - INFO - OntoMapST.get_match_results: Results Generated\n",
      "17/06//2025 02:16:1750195012 PM - INFO - OntoMapST.get_match_results: Results Generated\n"
     ]
    }
   ],
   "source": [
    "# Real ST Strategy w/ SapBERT\n",
    "other_params = {\"test_or_prod\": \"test\"}\n",
    "onto_engine_large = ome.OntoMapEngine(\n",
    "    method='mt-sap-bert',\n",
    "    topk=5,\n",
    "    query=query_list,\n",
    "    corpus=small_corpus_list,\n",
    "    cura_map=cura_map,\n",
    "    yaml_path='./src/models/method_model.yaml',\n",
    "    om_strategy='st',\n",
    "    **other_params)\n",
    "st_sapbert_result = onto_engine_large.run()"
   ]
  },
  {
   "cell_type": "code",
   "execution_count": 18,
   "id": "952f497d",
   "metadata": {},
   "outputs": [],
   "source": [
    "st_sapbert_result.to_csv(\"st_sapbert_result_bodysite.csv\", index=False)"
   ]
  },
  {
   "cell_type": "code",
   "execution_count": 20,
   "id": "c6c6f43d",
   "metadata": {},
   "outputs": [
    {
     "name": "stdout",
     "output_type": "stream",
     "text": [
      "  Accuracy Level   Accuracy\n",
      "0    Top 1 Match  72.437358\n",
      "1  Top 3 Matches  91.571754\n",
      "2  Top 5 Matches  94.533030\n"
     ]
    }
   ],
   "source": [
    "st_sapbert_accuracy_df = calc.calc_accuracy(st_sapbert_result)\n",
    "print(st_sapbert_accuracy_df)"
   ]
  },
  {
   "cell_type": "code",
   "execution_count": 22,
   "id": "b7a5871a",
   "metadata": {},
   "outputs": [
    {
     "data": {
      "image/png": "[encoded data removed]",
      "text/plain": [
       "<Figure size 800x500 with 1 Axes>"
      ]
     },
     "metadata": {},
     "output_type": "display_data"
    }
   ],
   "source": [
    "import matplotlib.pyplot as plt\n",
    "\n",
    "for df, name in [\n",
    "    (lm_sapbert_accuracy_df, (\"SapBERT\", \"LM\")),\n",
    "    (lm_pubmedbert_accuracy_df, (\"PubMedBERT\", \"LM\")),\n",
    "    (st_sapbert_accuracy_df, (\"SapBERT\", \"ST\")),\n",
    "    (st_pubmedbert_accuracy_df, (\"PubMedBERT\", \"ST\")),\n",
    "]:\n",
    "    df[\"Model\"] = name[0]\n",
    "    df[\"Type\"] = name[1]  # LM or ST\n",
    "\n",
    "all_df = pd.concat([\n",
    "    lm_sapbert_accuracy_df,\n",
    "    lm_pubmedbert_accuracy_df,\n",
    "    st_sapbert_accuracy_df,\n",
    "    st_pubmedbert_accuracy_df\n",
    "])\n",
    "\n",
    "plt.figure(figsize=(8, 5))\n",
    "\n",
    "model_palette = {\n",
    "    \"SapBERT\": \"#1f77b4\",      \n",
    "    \"PubMedBERT\": \"#ff7f0e\"    \n",
    "}\n",
    "linestyle_map = {\n",
    "    \"LM\": \"-\",\n",
    "    \"ST\": \"--\"\n",
    "}\n",
    "\n",
    "for (model, typ), subdf in all_df.groupby([\"Model\", \"Type\"]):\n",
    "    plt.plot(\n",
    "        subdf[\"Accuracy Level\"],\n",
    "        subdf[\"Accuracy\"],\n",
    "        label=f\"{typ} + {model}\",\n",
    "        linestyle=linestyle_map[typ],\n",
    "        color=model_palette[model],\n",
    "        marker=\"o\"\n",
    "    )\n",
    "\n",
    "plt.title(\"Top-K Accuracy Comparison\")\n",
    "plt.ylabel(\"Accuracy (%)\")\n",
    "plt.xlabel(\"Top-K Level\")\n",
    "plt.ylim(70, 100)\n",
    "plt.grid(True, linestyle='--', alpha=0.5)\n",
    "plt.legend(title=\"Model Combination\")\n",
    "plt.tight_layout()\n",
    "plt.show()\n"
   ]
  },
  {
   "cell_type": "code",
   "execution_count": 51,
   "id": "a1e99310",
   "metadata": {},
   "outputs": [
    {
     "name": "stdout",
     "output_type": "stream",
     "text": [
      "11/06//2025 12:35:1749627351 AM - INFO - OntoMapEngine: Initialized OntoMap Engine module\n",
      "11/06//2025 12:35:1749627351 AM - INFO - OntoMapEngine: Initialized OntoMap Engine module\n",
      "11/06//2025 12:35:1749627351 AM - INFO - OntoMapEngine: Initialized OntoMap Engine module\n",
      "11/06//2025 12:35:1749627351 AM - INFO - OntoMapEngine: Initialized OntoMap Engine module\n",
      "11/06//2025 12:35:1749627351 AM - INFO - OntoMapEngine: Initialized OntoMap Engine module\n",
      "11/06//2025 12:35:1749627351 AM - INFO - OntoMapEngine: Initialized OntoMap Engine module\n",
      "11/06//2025 12:35:1749627351 AM - INFO - OntoMapEngine: Initialized OntoMap Engine module\n",
      "11/06//2025 12:35:1749627351 AM - INFO - OntoMapEngine: Initialized OntoMap Engine module\n",
      "11/06//2025 12:35:1749627351 AM - INFO - OntoMapEngine: Initialized OntoMap Engine module\n",
      "11/06//2025 12:35:1749627351 AM - INFO - OntoMapEngine: Initialized OntoMap Engine module\n",
      "11/06//2025 12:35:1749627351 AM - INFO - OntoMapEngine: Initialized OntoMap Engine module\n",
      "11/06//2025 12:35:1749627351 AM - INFO - OntoMapEngine: Running Ontology Mapping\n",
      "11/06//2025 12:35:1749627351 AM - INFO - OntoMapEngine: Running Ontology Mapping\n",
      "11/06//2025 12:35:1749627351 AM - INFO - OntoMapEngine: Running Ontology Mapping\n",
      "11/06//2025 12:35:1749627351 AM - INFO - OntoMapEngine: Running Ontology Mapping\n",
      "11/06//2025 12:35:1749627351 AM - INFO - OntoMapEngine: Running Ontology Mapping\n",
      "11/06//2025 12:35:1749627351 AM - INFO - OntoMapEngine: Running Ontology Mapping\n",
      "11/06//2025 12:35:1749627351 AM - INFO - OntoMapEngine: Running Ontology Mapping\n",
      "11/06//2025 12:35:1749627351 AM - INFO - OntoMapEngine: Running Ontology Mapping\n",
      "11/06//2025 12:35:1749627351 AM - INFO - OntoMapEngine: Running Ontology Mapping\n",
      "11/06//2025 12:35:1749627351 AM - INFO - OntoMapEngine: Running Ontology Mapping\n",
      "11/06//2025 12:35:1749627351 AM - INFO - OntoMapEngine: Running Ontology Mapping\n",
      "11/06//2025 12:35:1749627351 AM - INFO - OntoMapEngine: Separating exact and non-exact matches\n",
      "11/06//2025 12:35:1749627351 AM - INFO - OntoMapEngine: Separating exact and non-exact matches\n",
      "11/06//2025 12:35:1749627351 AM - INFO - OntoMapEngine: Separating exact and non-exact matches\n",
      "11/06//2025 12:35:1749627351 AM - INFO - OntoMapEngine: Separating exact and non-exact matches\n",
      "11/06//2025 12:35:1749627351 AM - INFO - OntoMapEngine: Separating exact and non-exact matches\n",
      "11/06//2025 12:35:1749627351 AM - INFO - OntoMapEngine: Separating exact and non-exact matches\n",
      "11/06//2025 12:35:1749627351 AM - INFO - OntoMapEngine: Separating exact and non-exact matches\n",
      "11/06//2025 12:35:1749627351 AM - INFO - OntoMapEngine: Separating exact and non-exact matches\n",
      "11/06//2025 12:35:1749627351 AM - INFO - OntoMapEngine: Separating exact and non-exact matches\n",
      "11/06//2025 12:35:1749627351 AM - INFO - OntoMapEngine: Separating exact and non-exact matches\n",
      "11/06//2025 12:35:1749627351 AM - INFO - OntoMapEngine: Separating exact and non-exact matches\n",
      "11/06//2025 12:35:1749627351 AM - INFO - OntoMapEngine: Running OntoMap model for non-exact matches\n",
      "11/06//2025 12:35:1749627351 AM - INFO - OntoMapEngine: Running OntoMap model for non-exact matches\n",
      "11/06//2025 12:35:1749627351 AM - INFO - OntoMapEngine: Running OntoMap model for non-exact matches\n",
      "11/06//2025 12:35:1749627351 AM - INFO - OntoMapEngine: Running OntoMap model for non-exact matches\n",
      "11/06//2025 12:35:1749627351 AM - INFO - OntoMapEngine: Running OntoMap model for non-exact matches\n",
      "11/06//2025 12:35:1749627351 AM - INFO - OntoMapEngine: Running OntoMap model for non-exact matches\n",
      "11/06//2025 12:35:1749627351 AM - INFO - OntoMapEngine: Running OntoMap model for non-exact matches\n",
      "11/06//2025 12:35:1749627351 AM - INFO - OntoMapEngine: Running OntoMap model for non-exact matches\n",
      "11/06//2025 12:35:1749627351 AM - INFO - OntoMapEngine: Running OntoMap model for non-exact matches\n",
      "11/06//2025 12:35:1749627351 AM - INFO - OntoMapEngine: Running OntoMap model for non-exact matches\n",
      "11/06//2025 12:35:1749627351 AM - INFO - OntoMapEngine: Running OntoMap model for non-exact matches\n",
      "11/06//2025 12:35:1749627351 AM - INFO - OntoMapRAG: Initialized OntoMapRAG module\n",
      "11/06//2025 12:35:1749627351 AM - INFO - OntoMapRAG: Initialized OntoMapRAG module\n",
      "11/06//2025 12:35:1749627351 AM - INFO - OntoMapRAG: Initialized OntoMapRAG module\n",
      "11/06//2025 12:35:1749627351 AM - INFO - OntoMapRAG: Initialized OntoMapRAG module\n",
      "11/06//2025 12:35:1749627351 AM - INFO - OntoMapRAG: Initialized OntoMapRAG module\n",
      "11/06//2025 12:35:1749627351 AM - INFO - OntoMapRAG: Initialized OntoMapRAG module\n",
      "11/06//2025 12:35:1749627351 AM - INFO - OntoMapRAG: Initialized OntoMapRAG module\n",
      "11/06//2025 12:35:1749627351 AM - INFO - OntoMapRAG: Initialized OntoMapRAG module\n",
      "11/06//2025 12:35:1749627351 AM - INFO - OntoMapRAG: Generating results table\n",
      "11/06//2025 12:35:1749627351 AM - INFO - OntoMapRAG: Generating results table\n",
      "11/06//2025 12:35:1749627351 AM - INFO - OntoMapRAG: Generating results table\n",
      "11/06//2025 12:35:1749627351 AM - INFO - OntoMapRAG: Generating results table\n",
      "11/06//2025 12:35:1749627351 AM - INFO - OntoMapRAG: Generating results table\n",
      "11/06//2025 12:35:1749627351 AM - INFO - OntoMapRAG: Generating results table\n",
      "11/06//2025 12:35:1749627351 AM - INFO - OntoMapRAG: Generating results table\n",
      "11/06//2025 12:35:1749627351 AM - INFO - OntoMapRAG: Generating results table\n"
     ]
    },
    {
     "name": "stderr",
     "output_type": "stream",
     "text": [
      "Processing queries: 100%|██████████| 439/439 [00:05<00:00, 73.64it/s]"
     ]
    },
    {
     "name": "stdout",
     "output_type": "stream",
     "text": [
      "11/06//2025 12:35:1749627357 AM - INFO - OntoMapRAG: Results Generated\n",
      "11/06//2025 12:35:1749627357 AM - INFO - OntoMapRAG: Results Generated\n",
      "11/06//2025 12:35:1749627357 AM - INFO - OntoMapRAG: Results Generated\n",
      "11/06//2025 12:35:1749627357 AM - INFO - OntoMapRAG: Results Generated\n",
      "11/06//2025 12:35:1749627357 AM - INFO - OntoMapRAG: Results Generated\n",
      "11/06//2025 12:35:1749627357 AM - INFO - OntoMapRAG: Results Generated\n",
      "11/06//2025 12:35:1749627357 AM - INFO - OntoMapRAG: Results Generated\n",
      "11/06//2025 12:35:1749627357 AM - INFO - OntoMapRAG: Results Generated\n"
     ]
    },
    {
     "name": "stderr",
     "output_type": "stream",
     "text": [
      "\n"
     ]
    }
   ],
   "source": [
    "# RAG Strategy w/ msr-biomed-bert\n",
    "rag_engine = ome.OntoMapEngine(method='msr-biomed-bert',\n",
    "                               topk=5,\n",
    "                               query=query_list,\n",
    "                               corpus=small_corpus_list,\n",
    "                               cura_map=cura_map,\n",
    "                               yaml_path='./src/models/method_model.yaml',\n",
    "                               om_strategy='rag',\n",
    "                               test_or_prod='test')\n",
    "rag_msr_result = rag_engine.run()"
   ]
  },
  {
   "cell_type": "code",
   "execution_count": null,
   "id": "0a49e40f",
   "metadata": {},
   "outputs": [
    {
     "name": "stdout",
     "output_type": "stream",
     "text": [
      "RAG PubMedBERT Top-5 Accuracy: 34.40%\n",
      "  Accuracy Level   Accuracy\n",
      "0    Top 1 Match   9.567198\n",
      "1  Top 3 Matches  24.145786\n",
      "2  Top 5 Matches  34.396355\n"
     ]
    }
   ],
   "source": [
    "# RAG Strategy w/ msr-biomed-bert\n",
    "rag_msr_accuracy_df = calc.calc_accuracy(rag_msr_result)\n",
    "rag_msr_accuracy = rag_msr_accuracy_df[rag_msr_accuracy_df[\"Accuracy Level\"] ==\n",
    "                                       \"Top 5 Matches\"][\"Accuracy\"].values[0]\n",
    "print(f\"RAG PubMedBERT Top-5 Accuracy: {rag_msr_accuracy:.2f}%\")\n",
    "print(rag_msr_accuracy_df)"
   ]
  },
  {
   "cell_type": "code",
   "execution_count": 7,
   "id": "e31e4a30",
   "metadata": {},
   "outputs": [
    {
     "name": "stdout",
     "output_type": "stream",
     "text": [
      "11/06//2025 01:02:1749628924 AM - INFO - OntoMapEngine: Initialized OntoMap Engine module\n",
      "11/06//2025 01:02:1749628924 AM - INFO - OntoMapEngine: Running Ontology Mapping\n",
      "11/06//2025 01:02:1749628924 AM - INFO - OntoMapEngine: Separating exact and non-exact matches\n",
      "11/06//2025 01:02:1749628924 AM - INFO - OntoMapEngine: Running OntoMap model for non-exact matches\n",
      "11/06//2025 01:02:1749628924 AM - INFO - OntoMapRAG: Initialized OntoMapRAG module\n",
      "11/06//2025 01:02:1749628924 AM - INFO - OntoMapRAG: Generating results table\n"
     ]
    },
    {
     "name": "stderr",
     "output_type": "stream",
     "text": [
      "Processing queries:   0%|          | 0/439 [00:00<?, ?it/s]No sentence-transformers model found with name michiyasunaga/BioLinkBERT-large. Creating a new one with mean pooling.\n",
      "Processing queries: 100%|██████████| 439/439 [00:26<00:00, 16.72it/s]"
     ]
    },
    {
     "name": "stdout",
     "output_type": "stream",
     "text": [
      "11/06//2025 01:02:1749628951 AM - INFO - OntoMapRAG: Results Generated\n"
     ]
    },
    {
     "name": "stderr",
     "output_type": "stream",
     "text": [
      "\n"
     ]
    }
   ],
   "source": [
    "# RAG Strategy w/ biolink-large\n",
    "rag_engine = ome.OntoMapEngine(method='biolink-large',\n",
    "                               topk=5,\n",
    "                               query=query_list,\n",
    "                               corpus=small_corpus_list,\n",
    "                               cura_map=cura_map,\n",
    "                               yaml_path='./src/models/method_model.yaml',\n",
    "                               om_strategy='rag',\n",
    "                               test_or_prod='test')\n",
    "rag_biolink_result = rag_engine.run()"
   ]
  },
  {
   "cell_type": "code",
   "execution_count": 8,
   "id": "7db1e729",
   "metadata": {},
   "outputs": [
    {
     "name": "stdout",
     "output_type": "stream",
     "text": [
      "RAG BioLinkBERT Top-5 Accuracy: 26.65%\n",
      "  Accuracy Level   Accuracy\n",
      "0    Top 1 Match   9.567198\n",
      "1  Top 3 Matches  18.906606\n",
      "2  Top 5 Matches  26.651481\n"
     ]
    }
   ],
   "source": [
    "# RAG Strategy w/ biolink-large\n",
    "rag_biolink_accuracy_df = calc.calc_accuracy(rag_biolink_result)\n",
    "rag_biolink_accuracy = rag_biolink_accuracy_df[\n",
    "    rag_biolink_accuracy_df[\"Accuracy Level\"] ==\n",
    "    \"Top 5 Matches\"][\"Accuracy\"].values[0]\n",
    "print(f\"RAG BioLinkBERT Top-5 Accuracy: {rag_biolink_accuracy:.2f}%\")\n",
    "print(rag_biolink_accuracy_df)"
   ]
  },
  {
   "cell_type": "code",
   "execution_count": 17,
   "id": "fdbd92ac",
   "metadata": {},
   "outputs": [
    {
     "name": "stdout",
     "output_type": "stream",
     "text": [
      "13/06//2025 11:33:1749839608 AM - INFO - OntoMapEngine: Initialized OntoMap Engine module\n",
      "13/06//2025 11:33:1749839608 AM - INFO - OntoMapEngine: Initialized OntoMap Engine module\n",
      "13/06//2025 11:33:1749839608 AM - INFO - OntoMapEngine: Initialized OntoMap Engine module\n",
      "13/06//2025 11:33:1749839608 AM - INFO - OntoMapEngine: Initialized OntoMap Engine module\n",
      "13/06//2025 11:33:1749839608 AM - INFO - OntoMapEngine: Running Ontology Mapping\n",
      "13/06//2025 11:33:1749839608 AM - INFO - OntoMapEngine: Running Ontology Mapping\n",
      "13/06//2025 11:33:1749839608 AM - INFO - OntoMapEngine: Running Ontology Mapping\n",
      "13/06//2025 11:33:1749839608 AM - INFO - OntoMapEngine: Running Ontology Mapping\n",
      "13/06//2025 11:33:1749839608 AM - INFO - OntoMapEngine: Separating exact and non-exact matches\n",
      "13/06//2025 11:33:1749839608 AM - INFO - OntoMapEngine: Separating exact and non-exact matches\n",
      "13/06//2025 11:33:1749839608 AM - INFO - OntoMapEngine: Separating exact and non-exact matches\n",
      "13/06//2025 11:33:1749839608 AM - INFO - OntoMapEngine: Separating exact and non-exact matches\n",
      "13/06//2025 11:33:1749839608 AM - INFO - OntoMapEngine: Running OntoMap model for non-exact matches\n",
      "13/06//2025 11:33:1749839608 AM - INFO - OntoMapEngine: Running OntoMap model for non-exact matches\n",
      "13/06//2025 11:33:1749839608 AM - INFO - OntoMapEngine: Running OntoMap model for non-exact matches\n",
      "13/06//2025 11:33:1749839608 AM - INFO - OntoMapEngine: Running OntoMap model for non-exact matches\n",
      "13/06//2025 11:33:1749839608 AM - INFO - OntoMapRAG: Initialized OntoMapRAG module\n",
      "13/06//2025 11:33:1749839608 AM - INFO - OntoMapRAG: Initialized OntoMapRAG module\n",
      "13/06//2025 11:33:1749839608 AM - INFO - OntoMapRAG: Generating results table\n",
      "13/06//2025 11:33:1749839608 AM - INFO - OntoMapRAG: Generating results table\n"
     ]
    },
    {
     "name": "stderr",
     "output_type": "stream",
     "text": [
      "Processing queries:   0%|          | 0/439 [00:00<?, ?it/s]Exception in worker\n",
      "Traceback (most recent call last):\n",
      "  File \"/home/lcc/miniconda3/envs/py310/lib/python3.10/concurrent/futures/thread.py\", line 81, in _worker\n",
      "    work_item = work_queue.get(block=True)\n",
      "  File \"src/gevent/queue.py\", line 381, in gevent._gevent_cqueue.SimpleQueue.get\n",
      "  File \"src/gevent/queue.py\", line 397, in gevent._gevent_cqueue.SimpleQueue.get\n",
      "  File \"src/gevent/queue.py\", line 373, in gevent._gevent_cqueue.SimpleQueue._SimpleQueue__get_or_peek\n",
      "  File \"src/gevent/_waiter.py\", line 154, in gevent._gevent_c_waiter.Waiter.get\n",
      "  File \"src/gevent/_greenlet_primitives.py\", line 65, in gevent._gevent_c_greenlet_primitives.SwitchOutGreenletWithLoop.switch\n",
      "  File \"src/gevent/_gevent_c_greenlet_primitives.pxd\", line 35, in gevent._gevent_c_greenlet_primitives._greenlet_switch\n",
      "gevent.exceptions.LoopExit: This operation would block forever\n",
      "\tHub: <Hub '' at 0x7f5db426ec00 epoll pending=0 ref=0 fileno=101 thread_ident=0x7f5d33fff640>\n",
      "\tHandles:\n",
      "[]\n",
      "Processing queries: 100%|██████████| 439/439 [00:09<00:00, 44.45it/s]"
     ]
    },
    {
     "name": "stdout",
     "output_type": "stream",
     "text": [
      "13/06//2025 11:33:1749839618 AM - INFO - OntoMapRAG: Results Generated\n",
      "13/06//2025 11:33:1749839618 AM - INFO - OntoMapRAG: Results Generated\n"
     ]
    },
    {
     "name": "stderr",
     "output_type": "stream",
     "text": [
      "\n"
     ]
    }
   ],
   "source": [
    "# RAG Strategy w/ pubmed-bert\n",
    "rag_engine = ome.OntoMapEngine(method='pubmed-bert',\n",
    "                               topk=5,\n",
    "                               query=query_list,\n",
    "                               corpus=small_corpus_list,\n",
    "                               cura_map=cura_map,\n",
    "                               yaml_path='./src/models/method_model.yaml',\n",
    "                               om_strategy='rag',\n",
    "                               test_or_prod='test')\n",
    "rag_pubmed_result = rag_engine.run()"
   ]
  },
  {
   "cell_type": "code",
   "execution_count": null,
   "id": "b63b5424",
   "metadata": {},
   "outputs": [],
   "source": [
    "rag_pubmed_result.to_csv(\"rag_pubmed_result_partially_cleaned_contexts.csv\",\n",
    "                         index=False)"
   ]
  },
  {
   "cell_type": "code",
   "execution_count": 18,
   "id": "c63304c8",
   "metadata": {},
   "outputs": [
    {
     "name": "stdout",
     "output_type": "stream",
     "text": [
      "RAG PubMedBERT Top-5 Accuracy: 93.85%\n",
      "  Accuracy Level   Accuracy\n",
      "0    Top 1 Match  70.387244\n",
      "1  Top 3 Matches  89.293850\n",
      "2  Top 5 Matches  93.849658\n"
     ]
    }
   ],
   "source": [
    "# RAG Strategy w/ pubmed-bert\n",
    "rag_pubmed_accuracy_df = calc.calc_accuracy(rag_pubmed_result)\n",
    "rag_pubmed_accuracy = rag_pubmed_accuracy_df[\n",
    "    rag_pubmed_accuracy_df[\"Accuracy Level\"] ==\n",
    "    \"Top 5 Matches\"][\"Accuracy\"].values[0]\n",
    "print(f\"RAG PubMedBERT Top-5 Accuracy: {rag_pubmed_accuracy:.2f}%\")\n",
    "print(rag_pubmed_accuracy_df)"
   ]
  },
  {
   "cell_type": "code",
   "execution_count": 8,
   "id": "2b7af671",
   "metadata": {},
   "outputs": [
    {
     "name": "stdout",
     "output_type": "stream",
     "text": [
      "11/06//2025 02:08:1749632890 AM - INFO - OntoMapEngine: Initialized OntoMap Engine module\n",
      "11/06//2025 02:08:1749632890 AM - INFO - OntoMapEngine: Initialized OntoMap Engine module\n",
      "11/06//2025 02:08:1749632890 AM - INFO - OntoMapEngine: Running Ontology Mapping\n",
      "11/06//2025 02:08:1749632890 AM - INFO - OntoMapEngine: Running Ontology Mapping\n",
      "11/06//2025 02:08:1749632890 AM - INFO - OntoMapEngine: Separating exact and non-exact matches\n",
      "11/06//2025 02:08:1749632890 AM - INFO - OntoMapEngine: Separating exact and non-exact matches\n",
      "11/06//2025 02:08:1749632890 AM - INFO - OntoMapEngine: Running OntoMap model for non-exact matches\n",
      "11/06//2025 02:08:1749632890 AM - INFO - OntoMapEngine: Running OntoMap model for non-exact matches\n",
      "11/06//2025 02:08:1749632890 AM - INFO - OntoMapRAG: Initialized OntoMapRAG module\n",
      "11/06//2025 02:08:1749632890 AM - INFO - OntoMapRAG: Initialized OntoMapRAG module\n",
      "11/06//2025 02:08:1749632890 AM - INFO - OntoMapRAG: Generating results table\n",
      "11/06//2025 02:08:1749632890 AM - INFO - OntoMapRAG: Generating results table\n"
     ]
    },
    {
     "name": "stderr",
     "output_type": "stream",
     "text": [
      "Processing queries:   0%|          | 0/439 [00:00<?, ?it/s]No sentence-transformers model found with name emilyalsentzer/Bio_ClinicalBERT. Creating a new one with mean pooling.\n",
      "Processing queries: 100%|██████████| 439/439 [00:16<00:00, 26.07it/s]"
     ]
    },
    {
     "name": "stdout",
     "output_type": "stream",
     "text": [
      "11/06//2025 02:08:1749632907 AM - INFO - OntoMapRAG: Results Generated\n",
      "11/06//2025 02:08:1749632907 AM - INFO - OntoMapRAG: Results Generated\n"
     ]
    },
    {
     "name": "stderr",
     "output_type": "stream",
     "text": [
      "\n"
     ]
    }
   ],
   "source": [
    "# RAG Strategy w/ clinical-bert\n",
    "rag_engine = ome.OntoMapEngine(method='clinical-bert',\n",
    "                               topk=5,\n",
    "                               query=query_list,\n",
    "                               corpus=small_corpus_list,\n",
    "                               cura_map=cura_map,\n",
    "                               yaml_path='./src/models/method_model.yaml',\n",
    "                               om_strategy='rag',\n",
    "                               test_or_prod='test')\n",
    "rag_clinical_result = rag_engine.run()"
   ]
  },
  {
   "cell_type": "code",
   "execution_count": 9,
   "id": "0e87470b",
   "metadata": {},
   "outputs": [
    {
     "name": "stdout",
     "output_type": "stream",
     "text": [
      "RAG ClinicalBERT Top-5 Accuracy: 37.81%\n",
      "  Accuracy Level   Accuracy\n",
      "0    Top 1 Match  10.022779\n",
      "1  Top 3 Matches  26.879271\n",
      "2  Top 5 Matches  37.813212\n"
     ]
    }
   ],
   "source": [
    "rag_clinical_accuracy_df = calc.calc_accuracy(rag_clinical_result)\n",
    "rag_clinical_accuracy = rag_clinical_accuracy_df[\n",
    "    rag_clinical_accuracy_df[\"Accuracy Level\"] ==\n",
    "    \"Top 5 Matches\"][\"Accuracy\"].values[0]\n",
    "print(f\"RAG ClinicalBERT Top-5 Accuracy: {rag_clinical_accuracy:.2f}%\")\n",
    "print(rag_clinical_accuracy_df)"
   ]
  },
  {
   "cell_type": "markdown",
   "id": "f1912ce5",
   "metadata": {},
   "source": [
    "Sample output"
   ]
  },
  {
   "cell_type": "code",
   "execution_count": 15,
   "id": "2897251f",
   "metadata": {},
   "outputs": [
    {
     "name": "stdout",
     "output_type": "stream",
     "text": [
      "Error fetching NCI code for 'Breast Papillary Ductal Carcinoma with Invasion': 401 Client Error: Unauthorized for url: https://uts-ws.nlm.nih.gov/rest/search/current?string=Breast+Papillary+Ductal+Carcinoma+with+Invasion&apiKey=&pageNumber=1&searchType=exact&sabs=NCI&returnIdType=code\n",
      "[]\n"
     ]
    }
   ],
   "source": [
    "from src.KnowledgeDb.faiss_sqlite_pipeline import UMLSDb\n",
    "\n",
    "umls = UMLSDb(api_key=\"\")\n",
    "codes = umls.get_nci_code_by_term(\"Breast Papillary Ductal Carcinoma with Invasion\")\n",
    "print(codes)"
   ]
  },
  {
   "cell_type": "code",
   "execution_count": 16,
   "id": "054a1c9b",
   "metadata": {},
   "outputs": [
    {
     "name": "stdout",
     "output_type": "stream",
     "text": [
      "{'C7439': {'code': 'C7439', 'name': 'Breast Papillary Ductal Carcinoma In Situ with Invasion', 'terminology': 'ncit', 'version': '25.05d', 'conceptStatus': 'DEFAULT', 'leaf': True, 'active': True, 'roles': [{'type': 'Disease_Has_Abnormal_Cell', 'relatedCode': 'C36773', 'relatedName': 'Adenocarcinoma Cell'}, {'type': 'Disease_Excludes_Finding', 'relatedCode': 'C36122', 'relatedName': 'Benign Cellular Infiltrate'}, {'type': 'Disease_May_Have_Finding', 'relatedCode': 'C3197', 'relatedName': 'Breast Lump'}, {'type': 'Disease_Has_Associated_Anatomic_Site', 'relatedCode': 'C12971', 'relatedName': 'Breast'}, {'type': 'Disease_Has_Primary_Anatomic_Site', 'relatedCode': 'C12971', 'relatedName': 'Breast'}, {'type': 'Disease_Has_Finding', 'relatedCode': 'C54172', 'relatedName': 'Carcinomatous Component Present'}, {'type': 'Disease_Has_Normal_Cell_Origin', 'relatedCode': 'C12578', 'relatedName': 'Epithelial Cell'}, {'type': 'Disease_Has_Finding', 'relatedCode': 'C53596', 'relatedName': 'Epithelial Component Present'}, {'type': 'Disease_Has_Normal_Tissue_Origin', 'relatedCode': 'C45714', 'relatedName': 'Epithelial Tissue'}, {'type': 'Disease_Excludes_Primary_Anatomic_Site', 'relatedCode': 'C32573', 'relatedName': 'Extrahepatic Bile Duct'}, {'type': 'Disease_Excludes_Primary_Anatomic_Site', 'relatedCode': 'C12677', 'relatedName': 'Intrahepatic Bile Duct'}, {'type': 'Disease_Has_Finding', 'relatedCode': 'C36117', 'relatedName': 'Invasive Lesion'}, {'type': 'Disease_Has_Abnormal_Cell', 'relatedCode': 'C12917', 'relatedName': 'Malignant Cell'}, {'type': 'Disease_Has_Finding', 'relatedCode': 'C36115', 'relatedName': 'Malignant Cellular Infiltrate'}, {'type': 'Disease_Has_Abnormal_Cell', 'relatedCode': 'C36779', 'relatedName': 'Malignant Epithelial Cell'}, {'type': 'Disease_Excludes_Abnormal_Cell', 'relatedCode': 'C36771', 'relatedName': 'Malignant Squamous Cell'}, {'type': 'Disease_Excludes_Abnormal_Cell', 'relatedCode': 'C37153', 'relatedName': 'Malignant Stromal Cell'}, {'type': 'Disease_Has_Normal_Tissue_Origin', 'relatedCode': 'C12937', 'relatedName': 'Mammary Epithelium'}, {'type': 'Disease_Excludes_Finding', 'relatedCode': 'C62273', 'relatedName': 'Mixed Neoplastic Glandular and Squamous Cell Population'}, {'type': 'Disease_Excludes_Finding', 'relatedCode': 'C35999', 'relatedName': 'Mucoid Stroma Formation'}, {'type': 'Disease_Has_Abnormal_Cell', 'relatedCode': 'C12922', 'relatedName': 'Neoplastic Cell'}, {'type': 'Disease_Has_Abnormal_Cell', 'relatedCode': 'C36753', 'relatedName': 'Neoplastic Epithelial Cell'}, {'type': 'Disease_Has_Abnormal_Cell', 'relatedCode': 'C36763', 'relatedName': 'Neoplastic Glandular Cell'}, {'type': 'Disease_Excludes_Abnormal_Cell', 'relatedCode': 'C36937', 'relatedName': 'Neoplastic Smooth Muscle Cell'}, {'type': 'Disease_Excludes_Abnormal_Cell', 'relatedCode': 'C36760', 'relatedName': 'Neoplastic Squamous Cell'}, {'type': 'Disease_Has_Finding', 'relatedCode': 'C35911', 'relatedName': 'Papillary Growth Pattern'}, {'type': 'Disease_Has_Finding', 'relatedCode': 'C54687', 'relatedName': 'Prominent Intraductal Component Present'}, {'type': 'Disease_Excludes_Finding', 'relatedCode': 'C35912', 'relatedName': 'Pseudopapillary Pattern'}]}}\n",
      "roles: Disease_Has_Abnormal_Cell: Adenocarcinoma Cell; Disease_Excludes_Finding: Benign Cellular Infiltrate; Disease_May_Have_Finding: Breast Lump; Disease_Has_Associated_Anatomic_Site: Breast; Disease_Has_Primary_Anatomic_Site: Breast; Disease_Has_Finding: Carcinomatous Component Present; Disease_Has_Normal_Cell_Origin: Epithelial Cell; Disease_Has_Finding: Epithelial Component Present; Disease_Has_Normal_Tissue_Origin: Epithelial Tissue; Disease_Excludes_Primary_Anatomic_Site: Extrahepatic Bile Duct; Disease_Excludes_Primary_Anatomic_Site: Intrahepatic Bile Duct; Disease_Has_Finding: Invasive Lesion; Disease_Has_Abnormal_Cell: Malignant Cell; Disease_Has_Finding: Malignant Cellular Infiltrate; Disease_Has_Abnormal_Cell: Malignant Epithelial Cell; Disease_Excludes_Abnormal_Cell: Malignant Squamous Cell; Disease_Excludes_Abnormal_Cell: Malignant Stromal Cell; Disease_Has_Normal_Tissue_Origin: Mammary Epithelium; Disease_Excludes_Finding: Mixed Neoplastic Glandular and Squamous Cell Population; Disease_Excludes_Finding: Mucoid Stroma Formation; Disease_Has_Abnormal_Cell: Neoplastic Cell; Disease_Has_Abnormal_Cell: Neoplastic Epithelial Cell; Disease_Has_Abnormal_Cell: Neoplastic Glandular Cell; Disease_Excludes_Abnormal_Cell: Neoplastic Smooth Muscle Cell; Disease_Excludes_Abnormal_Cell: Neoplastic Squamous Cell; Disease_Has_Finding: Papillary Growth Pattern; Disease_Has_Finding: Prominent Intraductal Component Present; Disease_Excludes_Finding: Pseudopapillary Pattern\n"
     ]
    }
   ],
   "source": [
    "from src.KnowledgeDb.faiss_sqlite_pipeline import NCIDb\n",
    "\n",
    "nci = NCIDb(umls_api_key=\"\")\n",
    "conceptDict = nci.get_custom_concepts_by_codes([\"C7439\"], [\"roles\"])\n",
    "print(conceptDict)\n",
    "\n",
    "context = nci.create_context_list(conceptDict[\"C7439\"])\n",
    "\n",
    "print(context)"
   ]
  },
  {
   "cell_type": "markdown",
   "id": "bf097f33",
   "metadata": {},
   "source": [
    "Overlapping of different strategies"
   ]
  },
  {
   "cell_type": "code",
   "execution_count": 8,
   "id": "36f91350",
   "metadata": {},
   "outputs": [],
   "source": [
    "import pandas as pd\n",
    "import seaborn as sns\n",
    "import matplotlib.pyplot as plt\n",
    "\n",
    "\n",
    "def compute_overlap_matrix(data_dict):\n",
    "    methods = list(data_dict.keys())\n",
    "    matrix = pd.DataFrame(index=methods, columns=methods)\n",
    "\n",
    "    for m1 in methods:\n",
    "        for m2 in methods:\n",
    "            if m1 == m2:\n",
    "                matrix.loc[m1, m2] = 1.0\n",
    "            else:\n",
    "                intersect = len(data_dict[m1] & data_dict[m2])\n",
    "                union = len(data_dict[m1] | data_dict[m2])\n",
    "                matrix.loc[m1, m2] = round(intersect / union, 3)\n",
    "    return matrix\n",
    "\n",
    "\n",
    "def plot_heatmap(matrix, title):\n",
    "    plt.figure(figsize=(8, 6))\n",
    "    sns.heatmap(matrix.astype(float),\n",
    "                annot=True,\n",
    "                fmt=\".2f\",\n",
    "                cmap=\"Blues\",\n",
    "                linewidths=0.5)\n",
    "    plt.title(title)\n",
    "    plt.tight_layout()\n",
    "    plt.show()\n"
   ]
  },
  {
   "cell_type": "code",
   "execution_count": 9,
   "id": "c4ec5e94",
   "metadata": {},
   "outputs": [
    {
     "name": "stdout",
     "output_type": "stream",
     "text": [
      "🔹 Top1 Jaccard Overlap Matrix\n",
      "         lm     st   rag1   rag2   rag3\n",
      "lm      1.0  0.884  0.759  0.719  0.754\n",
      "st    0.884    1.0  0.772  0.737  0.781\n",
      "rag1  0.759  0.772    1.0  0.895  0.721\n",
      "rag2  0.719  0.737  0.895    1.0  0.726\n",
      "rag3  0.754  0.781  0.721  0.726    1.0\n",
      "\n",
      "🔹 Top5 Jaccard Overlap Matrix\n",
      "         lm     st   rag1   rag2   rag3\n",
      "lm      1.0  0.899  0.855  0.853  0.822\n",
      "st    0.899    1.0  0.851  0.849  0.836\n",
      "rag1  0.855  0.851    1.0  0.973  0.915\n",
      "rag2  0.853  0.849  0.973    1.0  0.908\n",
      "rag3  0.822  0.836  0.915  0.908    1.0\n"
     ]
    }
   ],
   "source": [
    "files = {\n",
    "    'lm':\n",
    "    'data/outputs/cbio_bodysite/lm_sapbert_result.csv',\n",
    "    'st':\n",
    "    'data/outputs/cbio_bodysite/st_sapbert_result.csv',\n",
    "    'rag1':\n",
    "    'data/outputs/cbio_bodysite/rag_sapbert_result_removed_duplicates.csv',\n",
    "    'rag2':\n",
    "    'data/outputs/cbio_bodysite/rag_sapbert_result_partially_cleaned_contexts.csv',\n",
    "    'rag3':\n",
    "    'data/outputs/cbio_bodysite/rag_pubmed_result_partially_cleaned_contexts.csv',\n",
    "}\n",
    "\n",
    "top1_dict = {}\n",
    "top5_dict = {}\n",
    "\n",
    "for name, path in files.items():\n",
    "    df = pd.read_csv(path)\n",
    "    top1_dict[name] = set(df[df['match_level'] == 1]['original_value'])\n",
    "    top5_dict[name] = set(df[df['match_level'] <= 5]['original_value'])\n",
    "\n",
    "top1_overlap = compute_overlap_matrix(top1_dict)\n",
    "top5_overlap = compute_overlap_matrix(top5_dict)\n",
    "\n",
    "print(\"🔹 Top1 Jaccard Overlap Matrix\")\n",
    "print(top1_overlap)\n",
    "\n",
    "print(\"\\n🔹 Top5 Jaccard Overlap Matrix\")\n",
    "print(top5_overlap)"
   ]
  },
  {
   "cell_type": "code",
   "execution_count": 10,
   "id": "cbaa6815",
   "metadata": {},
   "outputs": [
    {
     "data": {
      "image/png": "[encoded data removed]",
      "text/plain": [
       "<Figure size 800x600 with 2 Axes>"
      ]
     },
     "metadata": {},
     "output_type": "display_data"
    },
    {
     "data": {
      "image/png": "[encoded data removed]",
      "text/plain": [
       "<Figure size 800x600 with 2 Axes>"
      ]
     },
     "metadata": {},
     "output_type": "display_data"
    }
   ],
   "source": [
    "plot_heatmap(top1_overlap, \"Top-1 Jaccard Overlap\")\n",
    "plot_heatmap(top5_overlap, \"Top-5 Jaccard Overlap\")"
   ]
  }
 ],
 "metadata": {
  "kernelspec": {
   "display_name": "py310",
   "language": "python",
   "name": "python3"
  },
  "language_info": {
   "codemirror_mode": {
    "name": "ipython",
    "version": 3
   },
   "file_extension": ".py",
   "mimetype": "text/x-python",
   "name": "python",
   "nbconvert_exporter": "python",
   "pygments_lexer": "ipython3",
   "version": "3.10.16"
  }
 },
 "nbformat": 4,
 "nbformat_minor": 5
}
