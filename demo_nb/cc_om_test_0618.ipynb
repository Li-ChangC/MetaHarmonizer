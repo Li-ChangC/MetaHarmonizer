{
 "cells": [
  {
   "cell_type": "code",
   "execution_count": 2,
   "id": "1aea3cfe",
   "metadata": {},
   "outputs": [
    {
     "name": "stdout",
     "output_type": "stream",
     "text": [
      "/home/lcc/projects/MetaHarmonizer\n"
     ]
    },
    {
     "name": "stderr",
     "output_type": "stream",
     "text": [
      "/home/lcc/miniconda3/envs/py310/lib/python3.10/site-packages/IPython/core/magics/osm.py:417: UserWarning: This is now an optional IPython functionality, setting dhist requires you to install the `pickleshare` library.\n",
      "  self.shell.db['dhist'] = compress_dhist(dhist)[-100:]\n"
     ]
    }
   ],
   "source": [
    "%cd /home/lcc/projects/MetaHarmonizer"
   ]
  },
  {
   "cell_type": "code",
   "execution_count": 2,
   "id": "0f9d1fed",
   "metadata": {},
   "outputs": [
    {
     "data": {
      "text/plain": [
       "True"
      ]
     },
     "execution_count": 2,
     "metadata": {},
     "output_type": "execute_result"
    }
   ],
   "source": [
    "import gevent.monkey\n",
    "\n",
    "gevent.monkey.patch_all(thread=False, select=False)"
   ]
  },
  {
   "cell_type": "code",
   "execution_count": 3,
   "id": "782e1f0b",
   "metadata": {},
   "outputs": [
    {
     "name": "stderr",
     "output_type": "stream",
     "text": [
      "/home/lcc/miniconda3/envs/py310/lib/python3.10/site-packages/tqdm/auto.py:21: TqdmWarning: IProgress not found. Please update jupyter and ipywidgets. See https://ipywidgets.readthedocs.io/en/stable/user_install.html\n",
      "  from .autonotebook import tqdm as notebook_tqdm\n",
      "/home/lcc/miniconda3/envs/py310/lib/python3.10/site-packages/fuzzywuzzy/fuzz.py:11: UserWarning: Using slow pure-python SequenceMatcher. Install python-Levenshtein to remove this warning\n",
      "  warnings.warn('Using slow pure-python SequenceMatcher. Install python-Levenshtein to remove this warning')\n",
      "[nltk_data] Downloading package punkt to /home/lcc/nltk_data...\n",
      "[nltk_data]   Package punkt is already up-to-date!\n",
      "[nltk_data] Downloading package wordnet to /home/lcc/nltk_data...\n",
      "[nltk_data]   Package wordnet is already up-to-date!\n",
      "[nltk_data] Downloading package punkt to /home/lcc/nltk_data...\n",
      "[nltk_data]   Package punkt is already up-to-date!\n",
      "[nltk_data] Downloading package stopwords to /home/lcc/nltk_data...\n",
      "[nltk_data]   Package stopwords is already up-to-date!\n",
      "[nltk_data] Downloading package wordnet to /home/lcc/nltk_data...\n",
      "[nltk_data]   Package wordnet is already up-to-date!\n"
     ]
    },
    {
     "data": {
      "text/plain": [
       "<module 'src.models.ontology_mapper_rag_faiss' from '/home/lcc/projects/MetaHarmonizer/src/models/ontology_mapper_rag_faiss.py'>"
      ]
     },
     "execution_count": 3,
     "metadata": {},
     "output_type": "execute_result"
    }
   ],
   "source": [
    "import pandas as pd\n",
    "from importlib import reload\n",
    "from src.models import ontology_mapper_st as om_st\n",
    "from src.Engine import ontology_mapping_engine as ome\n",
    "import src.models.ontology_mapper_lm as om_lm\n",
    "import src.models.ontology_mapper_rag_faiss as om_rag\n",
    "\n",
    "reload(om_st)\n",
    "reload(ome)\n",
    "reload(om_lm)\n",
    "reload(om_rag)"
   ]
  },
  {
   "cell_type": "code",
   "execution_count": 4,
   "id": "cfa9f51d",
   "metadata": {},
   "outputs": [],
   "source": [
    "from src.models.calc_stats import CalcStats\n",
    "\n",
    "calc = CalcStats()"
   ]
  },
  {
   "cell_type": "markdown",
   "id": "4ce17921",
   "metadata": {},
   "source": [
    "**Diseases**"
   ]
  },
  {
   "cell_type": "code",
   "execution_count": 5,
   "id": "ab08246f",
   "metadata": {},
   "outputs": [],
   "source": [
    "# Updated code to pass the dict rather than a DataFrame\n",
    "df = pd.read_csv('./data/corpus/cbio_disease/disease_query_for_NCIT:C3262.csv')\n",
    "\n",
    "query_list = df['original_value'].tolist()\n",
    "small_corpus_list = df['curated_ontology'].tolist()\n",
    "\n",
    "cura_map = dict(zip(df['original_value'], df['curated_ontology']))"
   ]
  },
  {
   "cell_type": "code",
   "execution_count": 37,
   "id": "b6c1f5f5",
   "metadata": {},
   "outputs": [],
   "source": [
    "import pandas as pd\n",
    "\n",
    "file_path = \"data/corpus/cbio_disease/disease_query_for_NCIT:C3262.csv\"\n",
    "df = pd.read_csv(file_path, encoding='utf-8')\n",
    "\n",
    "sample_df = df.sample(n=20, random_state=42)\n",
    "\n",
    "sample_df.to_csv(\"random_20_samples.csv\", index=False, encoding='utf-8')"
   ]
  },
  {
   "cell_type": "code",
   "execution_count": 44,
   "id": "6d326e8f",
   "metadata": {},
   "outputs": [],
   "source": [
    "df = pd.read_csv('random_20_samples.csv')\n",
    "\n",
    "query_list = df['original_value'].tolist()\n",
    "small_corpus_list = df['curated_ontology'].tolist()\n",
    "\n",
    "cura_map = dict(zip(df['original_value'], df['curated_ontology']))"
   ]
  },
  {
   "cell_type": "markdown",
   "id": "737437ba",
   "metadata": {},
   "source": [
    "LM Strategy"
   ]
  },
  {
   "cell_type": "code",
   "execution_count": 6,
   "id": "1809a1ea",
   "metadata": {},
   "outputs": [
    {
     "name": "stdout",
     "output_type": "stream",
     "text": [
      "19/06//2025 11:28:1750357686 AM - INFO - OntoMapEngine: Initialized OntoMap Engine module\n",
      "19/06//2025 11:28:1750357686 AM - INFO - OntoMapEngine: Running Ontology Mapping\n",
      "19/06//2025 11:28:1750357686 AM - INFO - OntoMapEngine: Separating exact and non-exact matches\n",
      "19/06//2025 11:28:1750357686 AM - INFO - OntoMapEngine: Running OntoMap model for non-exact matches\n",
      "19/06//2025 11:28:1750357686 AM - INFO - OntoMapLM: Initialized OntoMap Language Model module\n",
      "19/06//2025 11:28:1750357686 AM - INFO - OntoMapLM.get_match_results: Creating embeddings for query_list and corpus\n",
      "19/06//2025 11:28:1750357728 AM - INFO - OntoMapLM.get_match_results: Calculating cosine similarity matrix\n",
      "19/06//2025 11:28:1750357728 AM - INFO - OntoMapLM.get_match_results: Generating results table\n",
      "19/06//2025 11:28:1750357729 AM - INFO - OntoMapLM.get_match_results: Results Generated\n"
     ]
    }
   ],
   "source": [
    "# LM Strategy w/ SapBERT\n",
    "other_params = {\"test_or_prod\": \"test\"}\n",
    "onto_engine_large = ome.OntoMapEngine(\n",
    "    method='sap-bert',\n",
    "    topk=5,\n",
    "    query=query_list,\n",
    "    corpus=small_corpus_list,\n",
    "    cura_map=cura_map,\n",
    "    yaml_path='./src/models/method_model.yaml',\n",
    "    om_strategy='lm',\n",
    "    **other_params)\n",
    "lm_sapbert_result = onto_engine_large.run()"
   ]
  },
  {
   "cell_type": "code",
   "execution_count": 7,
   "id": "810e2afa",
   "metadata": {},
   "outputs": [
    {
     "name": "stdout",
     "output_type": "stream",
     "text": [
      "  Accuracy Level   Accuracy\n",
      "0    Top 1 Match  81.519639\n",
      "1  Top 3 Matches  89.826143\n",
      "2  Top 5 Matches  92.530586\n"
     ]
    }
   ],
   "source": [
    "lm_sapbert_accuracy_df = calc.calc_accuracy(lm_sapbert_result)\n",
    "print(lm_sapbert_accuracy_df)"
   ]
  },
  {
   "cell_type": "code",
   "execution_count": 8,
   "id": "46074341",
   "metadata": {},
   "outputs": [],
   "source": [
    "lm_sapbert_result.to_csv(\"lm_sapbert_result_disease.csv\", index=False)"
   ]
  },
  {
   "cell_type": "code",
   "execution_count": 9,
   "id": "2ac3bb8e",
   "metadata": {},
   "outputs": [
    {
     "name": "stdout",
     "output_type": "stream",
     "text": [
      "17/06//2025 03:16:1750155401 AM - INFO - OntoMapEngine: Initialized OntoMap Engine module\n",
      "17/06//2025 03:16:1750155401 AM - INFO - OntoMapEngine: Initialized OntoMap Engine module\n",
      "17/06//2025 03:16:1750155401 AM - INFO - OntoMapEngine: Running Ontology Mapping\n",
      "17/06//2025 03:16:1750155401 AM - INFO - OntoMapEngine: Running Ontology Mapping\n",
      "17/06//2025 03:16:1750155401 AM - INFO - OntoMapEngine: Separating exact and non-exact matches\n",
      "17/06//2025 03:16:1750155401 AM - INFO - OntoMapEngine: Separating exact and non-exact matches\n",
      "17/06//2025 03:16:1750155401 AM - INFO - OntoMapEngine: Running OntoMap model for non-exact matches\n",
      "17/06//2025 03:16:1750155401 AM - INFO - OntoMapEngine: Running OntoMap model for non-exact matches\n",
      "17/06//2025 03:16:1750155401 AM - INFO - OntoMapLM: Initialized OntoMap Language Model module\n",
      "17/06//2025 03:16:1750155401 AM - INFO - OntoMapLM.get_match_results: Creating embeddings for query_list and corpus\n",
      "17/06//2025 03:17:1750155436 AM - INFO - OntoMapLM.get_match_results: Calculating cosine similarity matrix\n",
      "17/06//2025 03:17:1750155436 AM - INFO - OntoMapLM.get_match_results: Generating results table\n",
      "17/06//2025 03:17:1750155438 AM - INFO - OntoMapLM.get_match_results: Results Generated\n"
     ]
    }
   ],
   "source": [
    "# Language Model Strategy w/ PubMedBERT\n",
    "other_params = {\"test_or_prod\": \"test\"}\n",
    "onto_engine_large = ome.OntoMapEngine(\n",
    "    method='pubmed-bert',\n",
    "    topk=5,\n",
    "    query=query_list,\n",
    "    corpus=small_corpus_list,\n",
    "    cura_map=cura_map,\n",
    "    yaml_path='./src/models/method_model.yaml',\n",
    "    om_strategy='lm',\n",
    "    **other_params)\n",
    "\n",
    "lm_pubmedbert_result = onto_engine_large.run()"
   ]
  },
  {
   "cell_type": "code",
   "execution_count": 10,
   "id": "447111a4",
   "metadata": {},
   "outputs": [
    {
     "name": "stdout",
     "output_type": "stream",
     "text": [
      "  Accuracy Level   Accuracy\n",
      "0    Top 1 Match  76.497102\n",
      "1  Top 3 Matches  87.443657\n",
      "2  Top 5 Matches  89.568577\n"
     ]
    }
   ],
   "source": [
    "# Language Model Strategy w/ PubMedBERT\n",
    "lm_pubmedbert_accuracy_df = calc.calc_accuracy(lm_pubmedbert_result)\n",
    "print(lm_pubmedbert_accuracy_df)"
   ]
  },
  {
   "cell_type": "code",
   "execution_count": 11,
   "id": "10523623",
   "metadata": {},
   "outputs": [],
   "source": [
    "lm_pubmedbert_result.to_csv(\"lm_pubmedbert_result.csv\", index=False)"
   ]
  },
  {
   "cell_type": "markdown",
   "id": "0ccfb1a2",
   "metadata": {},
   "source": [
    "ST Strategy (PubMedBERT‑MS‑MARCO, SapBERT-mean-token)"
   ]
  },
  {
   "cell_type": "code",
   "execution_count": 12,
   "id": "a1235c13",
   "metadata": {},
   "outputs": [
    {
     "name": "stdout",
     "output_type": "stream",
     "text": [
      "17/06//2025 03:17:1750155460 AM - INFO - OntoMapEngine: Initialized OntoMap Engine module\n",
      "17/06//2025 03:17:1750155460 AM - INFO - OntoMapEngine: Initialized OntoMap Engine module\n",
      "17/06//2025 03:17:1750155460 AM - INFO - OntoMapEngine: Initialized OntoMap Engine module\n",
      "17/06//2025 03:17:1750155460 AM - INFO - OntoMapEngine: Running Ontology Mapping\n",
      "17/06//2025 03:17:1750155460 AM - INFO - OntoMapEngine: Running Ontology Mapping\n",
      "17/06//2025 03:17:1750155460 AM - INFO - OntoMapEngine: Running Ontology Mapping\n",
      "17/06//2025 03:17:1750155460 AM - INFO - OntoMapEngine: Separating exact and non-exact matches\n",
      "17/06//2025 03:17:1750155460 AM - INFO - OntoMapEngine: Separating exact and non-exact matches\n",
      "17/06//2025 03:17:1750155460 AM - INFO - OntoMapEngine: Separating exact and non-exact matches\n",
      "17/06//2025 03:17:1750155460 AM - INFO - OntoMapEngine: Running OntoMap model for non-exact matches\n",
      "17/06//2025 03:17:1750155460 AM - INFO - OntoMapEngine: Running OntoMap model for non-exact matches\n",
      "17/06//2025 03:17:1750155460 AM - INFO - OntoMapEngine: Running OntoMap model for non-exact matches\n",
      "17/06//2025 03:17:1750155460 AM - INFO - OntoMapST: Initialized OntoMap Sentence Transformer module\n",
      "17/06//2025 03:17:1750155460 AM - INFO - OntoMapST: Initialized OntoMap Sentence Transformer module\n",
      "17/06//2025 03:17:1750155460 AM - INFO - OntoMapST.get_match_results: Creating embeddings for query_list and corpus\n",
      "17/06//2025 03:17:1750155460 AM - INFO - OntoMapST.get_match_results: Creating embeddings for query_list and corpus\n"
     ]
    },
    {
     "name": "stderr",
     "output_type": "stream",
     "text": [
      "No sentence-transformers model found with name cambridgeltl/SapBERT-from-PubMedBERT-fulltext-mean-token. Creating a new one with mean pooling.\n",
      "No sentence-transformers model found with name cambridgeltl/SapBERT-from-PubMedBERT-fulltext-mean-token. Creating a new one with mean pooling.\n"
     ]
    },
    {
     "name": "stdout",
     "output_type": "stream",
     "text": [
      "17/06//2025 03:17:1750155465 AM - INFO - OntoMapST.get_match_results: Calculating cosine similarity matrix\n",
      "17/06//2025 03:17:1750155465 AM - INFO - OntoMapST.get_match_results: Calculating cosine similarity matrix\n",
      "17/06//2025 03:17:1750155465 AM - INFO - OntoMapST.get_match_results: Generating results table\n",
      "17/06//2025 03:17:1750155465 AM - INFO - OntoMapST.get_match_results: Generating results table\n",
      "17/06//2025 03:17:1750155467 AM - INFO - OntoMapST.get_match_results: Results Generated\n",
      "17/06//2025 03:17:1750155467 AM - INFO - OntoMapST.get_match_results: Results Generated\n"
     ]
    }
   ],
   "source": [
    "# ST Strategy w/ SapBERT-mean-token\n",
    "other_params = {\"test_or_prod\": \"test\"}\n",
    "onto_engine_large = ome.OntoMapEngine(\n",
    "    method='mt-sap-bert',\n",
    "    topk=5,\n",
    "    query=query_list,\n",
    "    corpus=small_corpus_list,\n",
    "    cura_map=cura_map,\n",
    "    yaml_path='./src/models/method_model.yaml',\n",
    "    om_strategy='st',\n",
    "    **other_params)\n",
    "st_sapbert_result = onto_engine_large.run()"
   ]
  },
  {
   "cell_type": "code",
   "execution_count": 14,
   "id": "e0e34e45",
   "metadata": {},
   "outputs": [],
   "source": [
    "st_sapbert_result.to_csv(\"st_sapbert_result.csv\", index=False)"
   ]
  },
  {
   "cell_type": "code",
   "execution_count": 13,
   "id": "f25547cf",
   "metadata": {},
   "outputs": [
    {
     "name": "stdout",
     "output_type": "stream",
     "text": [
      "  Accuracy Level   Accuracy\n",
      "0    Top 1 Match  80.811333\n",
      "1  Top 3 Matches  89.954926\n",
      "2  Top 5 Matches  92.981326\n"
     ]
    }
   ],
   "source": [
    "st_sapbert_accuracy_df = calc.calc_accuracy(st_sapbert_result)\n",
    "print(st_sapbert_accuracy_df)"
   ]
  },
  {
   "cell_type": "code",
   "execution_count": 15,
   "id": "4b00623c",
   "metadata": {},
   "outputs": [
    {
     "name": "stdout",
     "output_type": "stream",
     "text": [
      "17/06//2025 03:19:1750155546 AM - INFO - OntoMapEngine: Initialized OntoMap Engine module\n",
      "17/06//2025 03:19:1750155546 AM - INFO - OntoMapEngine: Initialized OntoMap Engine module\n",
      "17/06//2025 03:19:1750155546 AM - INFO - OntoMapEngine: Initialized OntoMap Engine module\n",
      "17/06//2025 03:19:1750155546 AM - INFO - OntoMapEngine: Initialized OntoMap Engine module\n",
      "17/06//2025 03:19:1750155546 AM - INFO - OntoMapEngine: Running Ontology Mapping\n",
      "17/06//2025 03:19:1750155546 AM - INFO - OntoMapEngine: Running Ontology Mapping\n",
      "17/06//2025 03:19:1750155546 AM - INFO - OntoMapEngine: Running Ontology Mapping\n",
      "17/06//2025 03:19:1750155546 AM - INFO - OntoMapEngine: Running Ontology Mapping\n",
      "17/06//2025 03:19:1750155546 AM - INFO - OntoMapEngine: Separating exact and non-exact matches\n",
      "17/06//2025 03:19:1750155546 AM - INFO - OntoMapEngine: Separating exact and non-exact matches\n",
      "17/06//2025 03:19:1750155546 AM - INFO - OntoMapEngine: Separating exact and non-exact matches\n",
      "17/06//2025 03:19:1750155546 AM - INFO - OntoMapEngine: Separating exact and non-exact matches\n",
      "17/06//2025 03:19:1750155546 AM - INFO - OntoMapEngine: Running OntoMap model for non-exact matches\n",
      "17/06//2025 03:19:1750155546 AM - INFO - OntoMapEngine: Running OntoMap model for non-exact matches\n",
      "17/06//2025 03:19:1750155546 AM - INFO - OntoMapEngine: Running OntoMap model for non-exact matches\n",
      "17/06//2025 03:19:1750155546 AM - INFO - OntoMapEngine: Running OntoMap model for non-exact matches\n",
      "17/06//2025 03:19:1750155546 AM - INFO - OntoMapST: Initialized OntoMap Sentence Transformer module\n",
      "17/06//2025 03:19:1750155546 AM - INFO - OntoMapST: Initialized OntoMap Sentence Transformer module\n",
      "17/06//2025 03:19:1750155546 AM - INFO - OntoMapST: Initialized OntoMap Sentence Transformer module\n",
      "17/06//2025 03:19:1750155546 AM - INFO - OntoMapST.get_match_results: Creating embeddings for query_list and corpus\n",
      "17/06//2025 03:19:1750155546 AM - INFO - OntoMapST.get_match_results: Creating embeddings for query_list and corpus\n",
      "17/06//2025 03:19:1750155546 AM - INFO - OntoMapST.get_match_results: Creating embeddings for query_list and corpus\n"
     ]
    },
    {
     "name": "stderr",
     "output_type": "stream",
     "text": [
      "Exception in worker\n",
      "Traceback (most recent call last):\n",
      "  File \"/home/lcc/miniconda3/envs/py310/lib/python3.10/concurrent/futures/thread.py\", line 81, in _worker\n",
      "    work_item = work_queue.get(block=True)\n",
      "  File \"src/gevent/queue.py\", line 381, in gevent._gevent_cqueue.SimpleQueue.get\n",
      "  File \"src/gevent/queue.py\", line 397, in gevent._gevent_cqueue.SimpleQueue.get\n",
      "  File \"src/gevent/queue.py\", line 373, in gevent._gevent_cqueue.SimpleQueue._SimpleQueue__get_or_peek\n",
      "  File \"src/gevent/_waiter.py\", line 154, in gevent._gevent_c_waiter.Waiter.get\n",
      "  File \"src/gevent/_greenlet_primitives.py\", line 65, in gevent._gevent_c_greenlet_primitives.SwitchOutGreenletWithLoop.switch\n",
      "  File \"src/gevent/_gevent_c_greenlet_primitives.pxd\", line 35, in gevent._gevent_c_greenlet_primitives._greenlet_switch\n",
      "gevent.exceptions.LoopExit: This operation would block forever\n",
      "\tHub: <Hub '' at 0x7fe8d2d0ae80 epoll pending=0 ref=0 fileno=96 thread_ident=0x7fe8d99ff640>\n",
      "\tHandles:\n",
      "[]\n",
      "Exception in worker\n",
      "Traceback (most recent call last):\n",
      "  File \"/home/lcc/miniconda3/envs/py310/lib/python3.10/concurrent/futures/thread.py\", line 81, in _worker\n",
      "    work_item = work_queue.get(block=True)\n",
      "  File \"src/gevent/queue.py\", line 381, in gevent._gevent_cqueue.SimpleQueue.get\n",
      "  File \"src/gevent/queue.py\", line 397, in gevent._gevent_cqueue.SimpleQueue.get\n",
      "  File \"src/gevent/queue.py\", line 373, in gevent._gevent_cqueue.SimpleQueue._SimpleQueue__get_or_peek\n",
      "  File \"src/gevent/_waiter.py\", line 154, in gevent._gevent_c_waiter.Waiter.get\n",
      "  File \"src/gevent/_greenlet_primitives.py\", line 65, in gevent._gevent_c_greenlet_primitives.SwitchOutGreenletWithLoop.switch\n",
      "  File \"src/gevent/_gevent_c_greenlet_primitives.pxd\", line 35, in gevent._gevent_c_greenlet_primitives._greenlet_switch\n",
      "gevent.exceptions.LoopExit: This operation would block forever\n",
      "\tHub: <Hub '' at 0x7fe8ac3a6bb0 epoll pending=0 ref=0 fileno=108 thread_ident=0x7fe85b7fe640>\n",
      "\tHandles:\n",
      "[]\n"
     ]
    },
    {
     "name": "stdout",
     "output_type": "stream",
     "text": [
      "17/06//2025 03:19:1750155552 AM - INFO - OntoMapST.get_match_results: Calculating cosine similarity matrix\n",
      "17/06//2025 03:19:1750155552 AM - INFO - OntoMapST.get_match_results: Calculating cosine similarity matrix\n",
      "17/06//2025 03:19:1750155552 AM - INFO - OntoMapST.get_match_results: Calculating cosine similarity matrix\n",
      "17/06//2025 03:19:1750155552 AM - INFO - OntoMapST.get_match_results: Generating results table\n",
      "17/06//2025 03:19:1750155552 AM - INFO - OntoMapST.get_match_results: Generating results table\n",
      "17/06//2025 03:19:1750155552 AM - INFO - OntoMapST.get_match_results: Generating results table\n",
      "17/06//2025 03:19:1750155554 AM - INFO - OntoMapST.get_match_results: Results Generated\n",
      "17/06//2025 03:19:1750155554 AM - INFO - OntoMapST.get_match_results: Results Generated\n",
      "17/06//2025 03:19:1750155554 AM - INFO - OntoMapST.get_match_results: Results Generated\n"
     ]
    }
   ],
   "source": [
    "# st - pubmed-bert\n",
    "other_params = {\"test_or_prod\": \"test\"}\n",
    "onto_engine_large = ome.OntoMapEngine(\n",
    "    method='pubmed-bert',\n",
    "    topk=5,\n",
    "    query=query_list,\n",
    "    corpus=small_corpus_list,\n",
    "    cura_map=cura_map,\n",
    "    yaml_path='./src/models/method_model.yaml',\n",
    "    om_strategy='st',\n",
    "    **other_params)\n",
    "\n",
    "st_pubmetbert_result = onto_engine_large.run()"
   ]
  },
  {
   "cell_type": "code",
   "execution_count": 16,
   "id": "ff38f0c1",
   "metadata": {},
   "outputs": [
    {
     "name": "stdout",
     "output_type": "stream",
     "text": [
      "  Accuracy Level   Accuracy\n",
      "0    Top 1 Match  76.625885\n",
      "1  Top 3 Matches  87.572440\n",
      "2  Top 5 Matches  90.920798\n"
     ]
    }
   ],
   "source": [
    "# Sentences Transformer Strategy w/ PubMedBERT\n",
    "st_pubmedbert_accuracy_df = calc.calc_accuracy(st_pubmetbert_result)\n",
    "print(st_pubmedbert_accuracy_df)"
   ]
  },
  {
   "cell_type": "code",
   "execution_count": 17,
   "id": "b8481a29",
   "metadata": {},
   "outputs": [],
   "source": [
    "st_pubmetbert_result.to_csv(\"st_pubmedbert_result.csv\", index=False)"
   ]
  },
  {
   "cell_type": "code",
   "execution_count": 18,
   "id": "b7ba1202",
   "metadata": {},
   "outputs": [],
   "source": [
    "lm_sapbert_accuracy_df[\"Model\"] = \"LM + SapBERT\"\n",
    "lm_pubmedbert_accuracy_df[\"Model\"] = \"LM + PubMedBERT\"\n",
    "st_sapbert_accuracy_df[\"Model\"] = \"ST + SapBERT\"\n",
    "st_pubmedbert_accuracy_df[\"Model\"] = \"ST + PubMedBERT\"\n",
    "\n",
    "combined_df = pd.concat([\n",
    "    lm_sapbert_accuracy_df,\n",
    "    lm_pubmedbert_accuracy_df,\n",
    "    st_sapbert_accuracy_df,\n",
    "    st_pubmedbert_accuracy_df\n",
    "], ignore_index=True)\n",
    "\n",
    "pivot_df = combined_df.pivot(index=\"Accuracy Level\", columns=\"Model\", values=\"Accuracy\")"
   ]
  },
  {
   "cell_type": "code",
   "execution_count": 19,
   "id": "c8086a48",
   "metadata": {},
   "outputs": [],
   "source": [
    "pivot_df\n",
    "pivot_df.to_csv(\"accuracy_comparison_disease.csv\")"
   ]
  },
  {
   "cell_type": "code",
   "execution_count": 23,
   "id": "2adfe3a4",
   "metadata": {},
   "outputs": [
    {
     "data": {
      "image/png": "[encoded data removed]",
      "text/plain": [
       "<Figure size 800x500 with 1 Axes>"
      ]
     },
     "metadata": {},
     "output_type": "display_data"
    }
   ],
   "source": [
    "import matplotlib.pyplot as plt\n",
    "\n",
    "for df, name in [\n",
    "    (lm_sapbert_accuracy_df, (\"SapBERT\", \"LM\")),\n",
    "    (lm_pubmedbert_accuracy_df, (\"PubMedBERT\", \"LM\")),\n",
    "    (st_sapbert_accuracy_df, (\"SapBERT\", \"ST\")),\n",
    "    (st_pubmedbert_accuracy_df, (\"PubMedBERT\", \"ST\")),\n",
    "]:\n",
    "    df[\"Model\"] = name[0]\n",
    "    df[\"Type\"] = name[1]  # LM or ST\n",
    "\n",
    "all_df = pd.concat([\n",
    "    lm_sapbert_accuracy_df,\n",
    "    lm_pubmedbert_accuracy_df,\n",
    "    st_sapbert_accuracy_df,\n",
    "    st_pubmedbert_accuracy_df\n",
    "])\n",
    "\n",
    "plt.figure(figsize=(8, 5))\n",
    "\n",
    "model_palette = {\n",
    "    \"SapBERT\": \"#1f77b4\",      \n",
    "    \"PubMedBERT\": \"#ff7f0e\"    \n",
    "}\n",
    "linestyle_map = {\n",
    "    \"LM\": \"-\",\n",
    "    \"ST\": \"--\"\n",
    "}\n",
    "\n",
    "for (model, typ), subdf in all_df.groupby([\"Model\", \"Type\"]):\n",
    "    plt.plot(\n",
    "        subdf[\"Accuracy Level\"],\n",
    "        subdf[\"Accuracy\"],\n",
    "        label=f\"{typ} + {model}\",\n",
    "        linestyle=linestyle_map[typ],\n",
    "        color=model_palette[model],\n",
    "        marker=\"o\"\n",
    "    )\n",
    "\n",
    "plt.title(\"Top-K Accuracy Comparison\")\n",
    "plt.ylabel(\"Accuracy (%)\")\n",
    "plt.xlabel(\"Top-K Level\")\n",
    "plt.ylim(75, 100)\n",
    "plt.grid(True, linestyle='--', alpha=0.5)\n",
    "plt.legend(title=\"Model Combination\")\n",
    "plt.tight_layout()\n",
    "plt.show()\n"
   ]
  },
  {
   "cell_type": "markdown",
   "id": "864ede60",
   "metadata": {},
   "source": [
    "RAG"
   ]
  },
  {
   "cell_type": "code",
   "execution_count": 83,
   "id": "550487bf",
   "metadata": {},
   "outputs": [
    {
     "name": "stdout",
     "output_type": "stream",
     "text": [
      "17/06//2025 11:48:1750229326 PM - INFO - OntoMapEngine: Initialized OntoMap Engine module\n",
      "17/06//2025 11:48:1750229326 PM - INFO - OntoMapEngine: Initialized OntoMap Engine module\n",
      "17/06//2025 11:48:1750229326 PM - INFO - OntoMapEngine: Initialized OntoMap Engine module\n",
      "17/06//2025 11:48:1750229326 PM - INFO - OntoMapEngine: Initialized OntoMap Engine module\n",
      "17/06//2025 11:48:1750229326 PM - INFO - OntoMapEngine: Initialized OntoMap Engine module\n",
      "17/06//2025 11:48:1750229326 PM - INFO - OntoMapEngine: Initialized OntoMap Engine module\n",
      "17/06//2025 11:48:1750229326 PM - INFO - OntoMapEngine: Initialized OntoMap Engine module\n",
      "17/06//2025 11:48:1750229326 PM - INFO - OntoMapEngine: Initialized OntoMap Engine module\n",
      "17/06//2025 11:48:1750229326 PM - INFO - OntoMapEngine: Initialized OntoMap Engine module\n",
      "17/06//2025 11:48:1750229326 PM - INFO - OntoMapEngine: Initialized OntoMap Engine module\n",
      "17/06//2025 11:48:1750229326 PM - INFO - OntoMapEngine: Initialized OntoMap Engine module\n",
      "17/06//2025 11:48:1750229326 PM - INFO - OntoMapEngine: Initialized OntoMap Engine module\n",
      "17/06//2025 11:48:1750229326 PM - INFO - OntoMapEngine: Initialized OntoMap Engine module\n",
      "17/06//2025 11:48:1750229326 PM - INFO - OntoMapEngine: Initialized OntoMap Engine module\n",
      "17/06//2025 11:48:1750229326 PM - INFO - OntoMapEngine: Initialized OntoMap Engine module\n",
      "17/06//2025 11:48:1750229326 PM - INFO - OntoMapEngine: Initialized OntoMap Engine module\n",
      "17/06//2025 11:48:1750229326 PM - INFO - OntoMapEngine: Initialized OntoMap Engine module\n",
      "17/06//2025 11:48:1750229326 PM - INFO - OntoMapEngine: Initialized OntoMap Engine module\n",
      "17/06//2025 11:48:1750229326 PM - INFO - OntoMapEngine: Initialized OntoMap Engine module\n",
      "17/06//2025 11:48:1750229326 PM - INFO - OntoMapEngine: Initialized OntoMap Engine module\n",
      "17/06//2025 11:48:1750229326 PM - INFO - OntoMapEngine: Running Ontology Mapping\n",
      "17/06//2025 11:48:1750229326 PM - INFO - OntoMapEngine: Running Ontology Mapping\n",
      "17/06//2025 11:48:1750229326 PM - INFO - OntoMapEngine: Running Ontology Mapping\n",
      "17/06//2025 11:48:1750229326 PM - INFO - OntoMapEngine: Running Ontology Mapping\n",
      "17/06//2025 11:48:1750229326 PM - INFO - OntoMapEngine: Running Ontology Mapping\n",
      "17/06//2025 11:48:1750229326 PM - INFO - OntoMapEngine: Running Ontology Mapping\n",
      "17/06//2025 11:48:1750229326 PM - INFO - OntoMapEngine: Running Ontology Mapping\n",
      "17/06//2025 11:48:1750229326 PM - INFO - OntoMapEngine: Running Ontology Mapping\n",
      "17/06//2025 11:48:1750229326 PM - INFO - OntoMapEngine: Running Ontology Mapping\n",
      "17/06//2025 11:48:1750229326 PM - INFO - OntoMapEngine: Running Ontology Mapping\n",
      "17/06//2025 11:48:1750229326 PM - INFO - OntoMapEngine: Running Ontology Mapping\n",
      "17/06//2025 11:48:1750229326 PM - INFO - OntoMapEngine: Running Ontology Mapping\n",
      "17/06//2025 11:48:1750229326 PM - INFO - OntoMapEngine: Running Ontology Mapping\n",
      "17/06//2025 11:48:1750229326 PM - INFO - OntoMapEngine: Running Ontology Mapping\n",
      "17/06//2025 11:48:1750229326 PM - INFO - OntoMapEngine: Running Ontology Mapping\n",
      "17/06//2025 11:48:1750229326 PM - INFO - OntoMapEngine: Running Ontology Mapping\n",
      "17/06//2025 11:48:1750229326 PM - INFO - OntoMapEngine: Running Ontology Mapping\n",
      "17/06//2025 11:48:1750229326 PM - INFO - OntoMapEngine: Running Ontology Mapping\n",
      "17/06//2025 11:48:1750229326 PM - INFO - OntoMapEngine: Running Ontology Mapping\n",
      "17/06//2025 11:48:1750229326 PM - INFO - OntoMapEngine: Running Ontology Mapping\n",
      "17/06//2025 11:48:1750229326 PM - INFO - OntoMapEngine: Separating exact and non-exact matches\n",
      "17/06//2025 11:48:1750229326 PM - INFO - OntoMapEngine: Separating exact and non-exact matches\n",
      "17/06//2025 11:48:1750229326 PM - INFO - OntoMapEngine: Separating exact and non-exact matches\n",
      "17/06//2025 11:48:1750229326 PM - INFO - OntoMapEngine: Separating exact and non-exact matches\n",
      "17/06//2025 11:48:1750229326 PM - INFO - OntoMapEngine: Separating exact and non-exact matches\n",
      "17/06//2025 11:48:1750229326 PM - INFO - OntoMapEngine: Separating exact and non-exact matches\n",
      "17/06//2025 11:48:1750229326 PM - INFO - OntoMapEngine: Separating exact and non-exact matches\n",
      "17/06//2025 11:48:1750229326 PM - INFO - OntoMapEngine: Separating exact and non-exact matches\n",
      "17/06//2025 11:48:1750229326 PM - INFO - OntoMapEngine: Separating exact and non-exact matches\n",
      "17/06//2025 11:48:1750229326 PM - INFO - OntoMapEngine: Separating exact and non-exact matches\n",
      "17/06//2025 11:48:1750229326 PM - INFO - OntoMapEngine: Separating exact and non-exact matches\n",
      "17/06//2025 11:48:1750229326 PM - INFO - OntoMapEngine: Separating exact and non-exact matches\n",
      "17/06//2025 11:48:1750229326 PM - INFO - OntoMapEngine: Separating exact and non-exact matches\n",
      "17/06//2025 11:48:1750229326 PM - INFO - OntoMapEngine: Separating exact and non-exact matches\n",
      "17/06//2025 11:48:1750229326 PM - INFO - OntoMapEngine: Separating exact and non-exact matches\n",
      "17/06//2025 11:48:1750229326 PM - INFO - OntoMapEngine: Separating exact and non-exact matches\n",
      "17/06//2025 11:48:1750229326 PM - INFO - OntoMapEngine: Separating exact and non-exact matches\n",
      "17/06//2025 11:48:1750229326 PM - INFO - OntoMapEngine: Separating exact and non-exact matches\n",
      "17/06//2025 11:48:1750229326 PM - INFO - OntoMapEngine: Separating exact and non-exact matches\n",
      "17/06//2025 11:48:1750229326 PM - INFO - OntoMapEngine: Separating exact and non-exact matches\n",
      "17/06//2025 11:48:1750229326 PM - INFO - OntoMapEngine: Running OntoMap model for non-exact matches\n",
      "17/06//2025 11:48:1750229326 PM - INFO - OntoMapEngine: Running OntoMap model for non-exact matches\n",
      "17/06//2025 11:48:1750229326 PM - INFO - OntoMapEngine: Running OntoMap model for non-exact matches\n",
      "17/06//2025 11:48:1750229326 PM - INFO - OntoMapEngine: Running OntoMap model for non-exact matches\n",
      "17/06//2025 11:48:1750229326 PM - INFO - OntoMapEngine: Running OntoMap model for non-exact matches\n",
      "17/06//2025 11:48:1750229326 PM - INFO - OntoMapEngine: Running OntoMap model for non-exact matches\n",
      "17/06//2025 11:48:1750229326 PM - INFO - OntoMapEngine: Running OntoMap model for non-exact matches\n",
      "17/06//2025 11:48:1750229326 PM - INFO - OntoMapEngine: Running OntoMap model for non-exact matches\n",
      "17/06//2025 11:48:1750229326 PM - INFO - OntoMapEngine: Running OntoMap model for non-exact matches\n",
      "17/06//2025 11:48:1750229326 PM - INFO - OntoMapEngine: Running OntoMap model for non-exact matches\n",
      "17/06//2025 11:48:1750229326 PM - INFO - OntoMapEngine: Running OntoMap model for non-exact matches\n",
      "17/06//2025 11:48:1750229326 PM - INFO - OntoMapEngine: Running OntoMap model for non-exact matches\n",
      "17/06//2025 11:48:1750229326 PM - INFO - OntoMapEngine: Running OntoMap model for non-exact matches\n",
      "17/06//2025 11:48:1750229326 PM - INFO - OntoMapEngine: Running OntoMap model for non-exact matches\n",
      "17/06//2025 11:48:1750229326 PM - INFO - OntoMapEngine: Running OntoMap model for non-exact matches\n",
      "17/06//2025 11:48:1750229326 PM - INFO - OntoMapEngine: Running OntoMap model for non-exact matches\n",
      "17/06//2025 11:48:1750229326 PM - INFO - OntoMapEngine: Running OntoMap model for non-exact matches\n",
      "17/06//2025 11:48:1750229326 PM - INFO - OntoMapEngine: Running OntoMap model for non-exact matches\n",
      "17/06//2025 11:48:1750229326 PM - INFO - OntoMapEngine: Running OntoMap model for non-exact matches\n",
      "17/06//2025 11:48:1750229326 PM - INFO - OntoMapEngine: Running OntoMap model for non-exact matches\n",
      "17/06//2025 11:48:1750229326 PM - INFO - OntoMapRAG: Initialized OntoMapRAG module\n",
      "17/06//2025 11:48:1750229326 PM - INFO - OntoMapRAG: Initialized OntoMapRAG module\n",
      "17/06//2025 11:48:1750229326 PM - INFO - OntoMapRAG: Initialized OntoMapRAG module\n",
      "17/06//2025 11:48:1750229326 PM - INFO - OntoMapRAG: Initialized OntoMapRAG module\n",
      "17/06//2025 11:48:1750229326 PM - INFO - OntoMapRAG: Initialized OntoMapRAG module\n",
      "17/06//2025 11:48:1750229326 PM - INFO - OntoMapRAG: Initialized OntoMapRAG module\n",
      "17/06//2025 11:48:1750229326 PM - INFO - OntoMapRAG: Initialized OntoMapRAG module\n",
      "17/06//2025 11:48:1750229326 PM - INFO - OntoMapRAG: Initialized OntoMapRAG module\n",
      "17/06//2025 11:48:1750229326 PM - INFO - OntoMapRAG: Initialized OntoMapRAG module\n",
      "17/06//2025 11:48:1750229326 PM - INFO - OntoMapRAG: Initialized OntoMapRAG module\n",
      "17/06//2025 11:48:1750229326 PM - INFO - OntoMapRAG: Initialized OntoMapRAG module\n",
      "17/06//2025 11:48:1750229326 PM - INFO - OntoMapRAG: Initialized OntoMapRAG module\n",
      "17/06//2025 11:48:1750229326 PM - INFO - OntoMapRAG: Initialized OntoMapRAG module\n",
      "17/06//2025 11:48:1750229326 PM - INFO - OntoMapRAG: Initialized OntoMapRAG module\n",
      "17/06//2025 11:48:1750229326 PM - INFO - OntoMapRAG: Initialized OntoMapRAG module\n",
      "17/06//2025 11:48:1750229326 PM - INFO - OntoMapRAG: Initialized OntoMapRAG module\n",
      "17/06//2025 11:48:1750229326 PM - INFO - OntoMapRAG: Initialized OntoMapRAG module\n",
      "17/06//2025 11:48:1750229326 PM - INFO - OntoMapRAG: Initialized OntoMapRAG module\n",
      "17/06//2025 11:48:1750229326 PM - INFO - OntoMapRAG: Initialized OntoMapRAG module\n",
      "17/06//2025 11:48:1750229326 PM - INFO - OntoMapRAG: Initialized OntoMapRAG module\n",
      "17/06//2025 11:48:1750229326 PM - INFO - OntoMapRAG: Generating results table\n",
      "17/06//2025 11:48:1750229326 PM - INFO - OntoMapRAG: Generating results table\n",
      "17/06//2025 11:48:1750229326 PM - INFO - OntoMapRAG: Generating results table\n",
      "17/06//2025 11:48:1750229326 PM - INFO - OntoMapRAG: Generating results table\n",
      "17/06//2025 11:48:1750229326 PM - INFO - OntoMapRAG: Generating results table\n",
      "17/06//2025 11:48:1750229326 PM - INFO - OntoMapRAG: Generating results table\n",
      "17/06//2025 11:48:1750229326 PM - INFO - OntoMapRAG: Generating results table\n",
      "17/06//2025 11:48:1750229326 PM - INFO - OntoMapRAG: Generating results table\n",
      "17/06//2025 11:48:1750229326 PM - INFO - OntoMapRAG: Generating results table\n",
      "17/06//2025 11:48:1750229326 PM - INFO - OntoMapRAG: Generating results table\n",
      "17/06//2025 11:48:1750229326 PM - INFO - OntoMapRAG: Generating results table\n",
      "17/06//2025 11:48:1750229326 PM - INFO - OntoMapRAG: Generating results table\n",
      "17/06//2025 11:48:1750229326 PM - INFO - OntoMapRAG: Generating results table\n",
      "17/06//2025 11:48:1750229326 PM - INFO - OntoMapRAG: Generating results table\n",
      "17/06//2025 11:48:1750229326 PM - INFO - OntoMapRAG: Generating results table\n",
      "17/06//2025 11:48:1750229326 PM - INFO - OntoMapRAG: Generating results table\n",
      "17/06//2025 11:48:1750229326 PM - INFO - OntoMapRAG: Generating results table\n",
      "17/06//2025 11:48:1750229326 PM - INFO - OntoMapRAG: Generating results table\n",
      "17/06//2025 11:48:1750229326 PM - INFO - OntoMapRAG: Generating results table\n",
      "17/06//2025 11:48:1750229326 PM - INFO - OntoMapRAG: Generating results table\n"
     ]
    },
    {
     "name": "stderr",
     "output_type": "stream",
     "text": [
      "Processing queries: 100%|██████████| 1553/1553 [00:20<00:00, 73.99it/s]\n"
     ]
    },
    {
     "name": "stdout",
     "output_type": "stream",
     "text": [
      "17/06//2025 11:49:1750229348 PM - INFO - OntoMapRAG: Results Generated\n",
      "17/06//2025 11:49:1750229348 PM - INFO - OntoMapRAG: Results Generated\n",
      "17/06//2025 11:49:1750229348 PM - INFO - OntoMapRAG: Results Generated\n",
      "17/06//2025 11:49:1750229348 PM - INFO - OntoMapRAG: Results Generated\n",
      "17/06//2025 11:49:1750229348 PM - INFO - OntoMapRAG: Results Generated\n",
      "17/06//2025 11:49:1750229348 PM - INFO - OntoMapRAG: Results Generated\n",
      "17/06//2025 11:49:1750229348 PM - INFO - OntoMapRAG: Results Generated\n",
      "17/06//2025 11:49:1750229348 PM - INFO - OntoMapRAG: Results Generated\n",
      "17/06//2025 11:49:1750229348 PM - INFO - OntoMapRAG: Results Generated\n",
      "17/06//2025 11:49:1750229348 PM - INFO - OntoMapRAG: Results Generated\n",
      "17/06//2025 11:49:1750229348 PM - INFO - OntoMapRAG: Results Generated\n",
      "17/06//2025 11:49:1750229348 PM - INFO - OntoMapRAG: Results Generated\n",
      "17/06//2025 11:49:1750229348 PM - INFO - OntoMapRAG: Results Generated\n",
      "17/06//2025 11:49:1750229348 PM - INFO - OntoMapRAG: Results Generated\n",
      "17/06//2025 11:49:1750229348 PM - INFO - OntoMapRAG: Results Generated\n",
      "17/06//2025 11:49:1750229348 PM - INFO - OntoMapRAG: Results Generated\n",
      "17/06//2025 11:49:1750229348 PM - INFO - OntoMapRAG: Results Generated\n",
      "17/06//2025 11:49:1750229348 PM - INFO - OntoMapRAG: Results Generated\n",
      "17/06//2025 11:49:1750229348 PM - INFO - OntoMapRAG: Results Generated\n",
      "17/06//2025 11:49:1750229348 PM - INFO - OntoMapRAG: Results Generated\n"
     ]
    }
   ],
   "source": [
    "# RAG Strategy w/ SapBERT\n",
    "rag_engine = ome.OntoMapEngine(method='mt-sap-bert',\n",
    "                               topk=5,\n",
    "                               query=query_list,\n",
    "                               corpus=small_corpus_list,\n",
    "                               cura_map=cura_map,\n",
    "                               yaml_path='./src/models/method_model.yaml',\n",
    "                               om_strategy='rag',\n",
    "                               test_or_prod='test')\n",
    "rag_sapbert_result = rag_engine.run()"
   ]
  },
  {
   "cell_type": "code",
   "execution_count": null,
   "id": "73bfde4c",
   "metadata": {},
   "outputs": [],
   "source": [
    "rag_sapbert_result.to_csv(\"rag_sapbert_result_disease.csv\",\n",
    "                  index=False)"
   ]
  },
  {
   "cell_type": "code",
   "execution_count": 84,
   "id": "749da2c8",
   "metadata": {},
   "outputs": [
    {
     "name": "stdout",
     "output_type": "stream",
     "text": [
      "  Accuracy Level   Accuracy\n",
      "0    Top 1 Match  52.350290\n",
      "1  Top 3 Matches  75.917579\n",
      "2  Top 5 Matches  83.258210\n"
     ]
    }
   ],
   "source": [
    "# RAG Strategy w/ SapBERT\n",
    "rag_sapbert_accuracy_df = calc.calc_accuracy(rag_sapbert_result)\n",
    "print(rag_sapbert_accuracy_df)"
   ]
  },
  {
   "cell_type": "code",
   "execution_count": 79,
   "id": "fdbd92ac",
   "metadata": {},
   "outputs": [
    {
     "name": "stdout",
     "output_type": "stream",
     "text": [
      "17/06//2025 11:21:1750227667 PM - INFO - OntoMapEngine: Initialized OntoMap Engine module\n",
      "17/06//2025 11:21:1750227667 PM - INFO - OntoMapEngine: Initialized OntoMap Engine module\n",
      "17/06//2025 11:21:1750227667 PM - INFO - OntoMapEngine: Initialized OntoMap Engine module\n",
      "17/06//2025 11:21:1750227667 PM - INFO - OntoMapEngine: Initialized OntoMap Engine module\n",
      "17/06//2025 11:21:1750227667 PM - INFO - OntoMapEngine: Initialized OntoMap Engine module\n",
      "17/06//2025 11:21:1750227667 PM - INFO - OntoMapEngine: Initialized OntoMap Engine module\n",
      "17/06//2025 11:21:1750227667 PM - INFO - OntoMapEngine: Initialized OntoMap Engine module\n",
      "17/06//2025 11:21:1750227667 PM - INFO - OntoMapEngine: Initialized OntoMap Engine module\n",
      "17/06//2025 11:21:1750227667 PM - INFO - OntoMapEngine: Initialized OntoMap Engine module\n",
      "17/06//2025 11:21:1750227667 PM - INFO - OntoMapEngine: Initialized OntoMap Engine module\n",
      "17/06//2025 11:21:1750227667 PM - INFO - OntoMapEngine: Initialized OntoMap Engine module\n",
      "17/06//2025 11:21:1750227667 PM - INFO - OntoMapEngine: Initialized OntoMap Engine module\n",
      "17/06//2025 11:21:1750227667 PM - INFO - OntoMapEngine: Initialized OntoMap Engine module\n",
      "17/06//2025 11:21:1750227667 PM - INFO - OntoMapEngine: Initialized OntoMap Engine module\n",
      "17/06//2025 11:21:1750227667 PM - INFO - OntoMapEngine: Initialized OntoMap Engine module\n",
      "17/06//2025 11:21:1750227667 PM - INFO - OntoMapEngine: Initialized OntoMap Engine module\n",
      "17/06//2025 11:21:1750227667 PM - INFO - OntoMapEngine: Initialized OntoMap Engine module\n",
      "17/06//2025 11:21:1750227667 PM - INFO - OntoMapEngine: Initialized OntoMap Engine module\n",
      "17/06//2025 11:21:1750227667 PM - INFO - OntoMapEngine: Initialized OntoMap Engine module\n",
      "17/06//2025 11:21:1750227667 PM - INFO - OntoMapEngine: Running Ontology Mapping\n",
      "17/06//2025 11:21:1750227667 PM - INFO - OntoMapEngine: Running Ontology Mapping\n",
      "17/06//2025 11:21:1750227667 PM - INFO - OntoMapEngine: Running Ontology Mapping\n",
      "17/06//2025 11:21:1750227667 PM - INFO - OntoMapEngine: Running Ontology Mapping\n",
      "17/06//2025 11:21:1750227667 PM - INFO - OntoMapEngine: Running Ontology Mapping\n",
      "17/06//2025 11:21:1750227667 PM - INFO - OntoMapEngine: Running Ontology Mapping\n",
      "17/06//2025 11:21:1750227667 PM - INFO - OntoMapEngine: Running Ontology Mapping\n",
      "17/06//2025 11:21:1750227667 PM - INFO - OntoMapEngine: Running Ontology Mapping\n",
      "17/06//2025 11:21:1750227667 PM - INFO - OntoMapEngine: Running Ontology Mapping\n",
      "17/06//2025 11:21:1750227667 PM - INFO - OntoMapEngine: Running Ontology Mapping\n",
      "17/06//2025 11:21:1750227667 PM - INFO - OntoMapEngine: Running Ontology Mapping\n",
      "17/06//2025 11:21:1750227667 PM - INFO - OntoMapEngine: Running Ontology Mapping\n",
      "17/06//2025 11:21:1750227667 PM - INFO - OntoMapEngine: Running Ontology Mapping\n",
      "17/06//2025 11:21:1750227667 PM - INFO - OntoMapEngine: Running Ontology Mapping\n",
      "17/06//2025 11:21:1750227667 PM - INFO - OntoMapEngine: Running Ontology Mapping\n",
      "17/06//2025 11:21:1750227667 PM - INFO - OntoMapEngine: Running Ontology Mapping\n",
      "17/06//2025 11:21:1750227667 PM - INFO - OntoMapEngine: Running Ontology Mapping\n",
      "17/06//2025 11:21:1750227667 PM - INFO - OntoMapEngine: Running Ontology Mapping\n",
      "17/06//2025 11:21:1750227667 PM - INFO - OntoMapEngine: Running Ontology Mapping\n",
      "17/06//2025 11:21:1750227667 PM - INFO - OntoMapEngine: Separating exact and non-exact matches\n",
      "17/06//2025 11:21:1750227667 PM - INFO - OntoMapEngine: Separating exact and non-exact matches\n",
      "17/06//2025 11:21:1750227667 PM - INFO - OntoMapEngine: Separating exact and non-exact matches\n",
      "17/06//2025 11:21:1750227667 PM - INFO - OntoMapEngine: Separating exact and non-exact matches\n",
      "17/06//2025 11:21:1750227667 PM - INFO - OntoMapEngine: Separating exact and non-exact matches\n",
      "17/06//2025 11:21:1750227667 PM - INFO - OntoMapEngine: Separating exact and non-exact matches\n",
      "17/06//2025 11:21:1750227667 PM - INFO - OntoMapEngine: Separating exact and non-exact matches\n",
      "17/06//2025 11:21:1750227667 PM - INFO - OntoMapEngine: Separating exact and non-exact matches\n",
      "17/06//2025 11:21:1750227667 PM - INFO - OntoMapEngine: Separating exact and non-exact matches\n",
      "17/06//2025 11:21:1750227667 PM - INFO - OntoMapEngine: Separating exact and non-exact matches\n",
      "17/06//2025 11:21:1750227667 PM - INFO - OntoMapEngine: Separating exact and non-exact matches\n",
      "17/06//2025 11:21:1750227667 PM - INFO - OntoMapEngine: Separating exact and non-exact matches\n",
      "17/06//2025 11:21:1750227667 PM - INFO - OntoMapEngine: Separating exact and non-exact matches\n",
      "17/06//2025 11:21:1750227667 PM - INFO - OntoMapEngine: Separating exact and non-exact matches\n",
      "17/06//2025 11:21:1750227667 PM - INFO - OntoMapEngine: Separating exact and non-exact matches\n",
      "17/06//2025 11:21:1750227667 PM - INFO - OntoMapEngine: Separating exact and non-exact matches\n",
      "17/06//2025 11:21:1750227667 PM - INFO - OntoMapEngine: Separating exact and non-exact matches\n",
      "17/06//2025 11:21:1750227667 PM - INFO - OntoMapEngine: Separating exact and non-exact matches\n",
      "17/06//2025 11:21:1750227667 PM - INFO - OntoMapEngine: Separating exact and non-exact matches\n",
      "17/06//2025 11:21:1750227667 PM - INFO - OntoMapEngine: Running OntoMap model for non-exact matches\n",
      "17/06//2025 11:21:1750227667 PM - INFO - OntoMapEngine: Running OntoMap model for non-exact matches\n",
      "17/06//2025 11:21:1750227667 PM - INFO - OntoMapEngine: Running OntoMap model for non-exact matches\n",
      "17/06//2025 11:21:1750227667 PM - INFO - OntoMapEngine: Running OntoMap model for non-exact matches\n",
      "17/06//2025 11:21:1750227667 PM - INFO - OntoMapEngine: Running OntoMap model for non-exact matches\n",
      "17/06//2025 11:21:1750227667 PM - INFO - OntoMapEngine: Running OntoMap model for non-exact matches\n",
      "17/06//2025 11:21:1750227667 PM - INFO - OntoMapEngine: Running OntoMap model for non-exact matches\n",
      "17/06//2025 11:21:1750227667 PM - INFO - OntoMapEngine: Running OntoMap model for non-exact matches\n",
      "17/06//2025 11:21:1750227667 PM - INFO - OntoMapEngine: Running OntoMap model for non-exact matches\n",
      "17/06//2025 11:21:1750227667 PM - INFO - OntoMapEngine: Running OntoMap model for non-exact matches\n",
      "17/06//2025 11:21:1750227667 PM - INFO - OntoMapEngine: Running OntoMap model for non-exact matches\n",
      "17/06//2025 11:21:1750227667 PM - INFO - OntoMapEngine: Running OntoMap model for non-exact matches\n",
      "17/06//2025 11:21:1750227667 PM - INFO - OntoMapEngine: Running OntoMap model for non-exact matches\n",
      "17/06//2025 11:21:1750227667 PM - INFO - OntoMapEngine: Running OntoMap model for non-exact matches\n",
      "17/06//2025 11:21:1750227667 PM - INFO - OntoMapEngine: Running OntoMap model for non-exact matches\n",
      "17/06//2025 11:21:1750227667 PM - INFO - OntoMapEngine: Running OntoMap model for non-exact matches\n",
      "17/06//2025 11:21:1750227667 PM - INFO - OntoMapEngine: Running OntoMap model for non-exact matches\n",
      "17/06//2025 11:21:1750227667 PM - INFO - OntoMapEngine: Running OntoMap model for non-exact matches\n",
      "17/06//2025 11:21:1750227667 PM - INFO - OntoMapEngine: Running OntoMap model for non-exact matches\n",
      "17/06//2025 11:21:1750227667 PM - INFO - OntoMapRAG: Initialized OntoMapRAG module\n",
      "17/06//2025 11:21:1750227667 PM - INFO - OntoMapRAG: Initialized OntoMapRAG module\n",
      "17/06//2025 11:21:1750227667 PM - INFO - OntoMapRAG: Initialized OntoMapRAG module\n",
      "17/06//2025 11:21:1750227667 PM - INFO - OntoMapRAG: Initialized OntoMapRAG module\n",
      "17/06//2025 11:21:1750227667 PM - INFO - OntoMapRAG: Initialized OntoMapRAG module\n",
      "17/06//2025 11:21:1750227667 PM - INFO - OntoMapRAG: Initialized OntoMapRAG module\n",
      "17/06//2025 11:21:1750227667 PM - INFO - OntoMapRAG: Initialized OntoMapRAG module\n",
      "17/06//2025 11:21:1750227667 PM - INFO - OntoMapRAG: Initialized OntoMapRAG module\n",
      "17/06//2025 11:21:1750227667 PM - INFO - OntoMapRAG: Initialized OntoMapRAG module\n",
      "17/06//2025 11:21:1750227667 PM - INFO - OntoMapRAG: Initialized OntoMapRAG module\n",
      "17/06//2025 11:21:1750227667 PM - INFO - OntoMapRAG: Initialized OntoMapRAG module\n",
      "17/06//2025 11:21:1750227667 PM - INFO - OntoMapRAG: Initialized OntoMapRAG module\n",
      "17/06//2025 11:21:1750227667 PM - INFO - OntoMapRAG: Initialized OntoMapRAG module\n",
      "17/06//2025 11:21:1750227667 PM - INFO - OntoMapRAG: Initialized OntoMapRAG module\n",
      "17/06//2025 11:21:1750227667 PM - INFO - OntoMapRAG: Initialized OntoMapRAG module\n",
      "17/06//2025 11:21:1750227667 PM - INFO - OntoMapRAG: Initialized OntoMapRAG module\n",
      "17/06//2025 11:21:1750227667 PM - INFO - OntoMapRAG: Initialized OntoMapRAG module\n",
      "17/06//2025 11:21:1750227667 PM - INFO - OntoMapRAG: Initialized OntoMapRAG module\n",
      "17/06//2025 11:21:1750227667 PM - INFO - OntoMapRAG: Initialized OntoMapRAG module\n",
      "17/06//2025 11:21:1750227667 PM - INFO - OntoMapRAG: Generating results table\n",
      "17/06//2025 11:21:1750227667 PM - INFO - OntoMapRAG: Generating results table\n",
      "17/06//2025 11:21:1750227667 PM - INFO - OntoMapRAG: Generating results table\n",
      "17/06//2025 11:21:1750227667 PM - INFO - OntoMapRAG: Generating results table\n",
      "17/06//2025 11:21:1750227667 PM - INFO - OntoMapRAG: Generating results table\n",
      "17/06//2025 11:21:1750227667 PM - INFO - OntoMapRAG: Generating results table\n",
      "17/06//2025 11:21:1750227667 PM - INFO - OntoMapRAG: Generating results table\n",
      "17/06//2025 11:21:1750227667 PM - INFO - OntoMapRAG: Generating results table\n",
      "17/06//2025 11:21:1750227667 PM - INFO - OntoMapRAG: Generating results table\n",
      "17/06//2025 11:21:1750227667 PM - INFO - OntoMapRAG: Generating results table\n",
      "17/06//2025 11:21:1750227667 PM - INFO - OntoMapRAG: Generating results table\n",
      "17/06//2025 11:21:1750227667 PM - INFO - OntoMapRAG: Generating results table\n",
      "17/06//2025 11:21:1750227667 PM - INFO - OntoMapRAG: Generating results table\n",
      "17/06//2025 11:21:1750227667 PM - INFO - OntoMapRAG: Generating results table\n",
      "17/06//2025 11:21:1750227667 PM - INFO - OntoMapRAG: Generating results table\n",
      "17/06//2025 11:21:1750227667 PM - INFO - OntoMapRAG: Generating results table\n",
      "17/06//2025 11:21:1750227667 PM - INFO - OntoMapRAG: Generating results table\n",
      "17/06//2025 11:21:1750227667 PM - INFO - OntoMapRAG: Generating results table\n",
      "17/06//2025 11:21:1750227667 PM - INFO - OntoMapRAG: Generating results table\n"
     ]
    },
    {
     "name": "stderr",
     "output_type": "stream",
     "text": [
      "Processing queries: 100%|██████████| 1553/1553 [00:21<00:00, 71.28it/s]"
     ]
    },
    {
     "name": "stdout",
     "output_type": "stream",
     "text": [
      "17/06//2025 11:21:1750227689 PM - INFO - OntoMapRAG: Results Generated\n",
      "17/06//2025 11:21:1750227689 PM - INFO - OntoMapRAG: Results Generated\n",
      "17/06//2025 11:21:1750227689 PM - INFO - OntoMapRAG: Results Generated\n",
      "17/06//2025 11:21:1750227689 PM - INFO - OntoMapRAG: Results Generated\n",
      "17/06//2025 11:21:1750227689 PM - INFO - OntoMapRAG: Results Generated\n",
      "17/06//2025 11:21:1750227689 PM - INFO - OntoMapRAG: Results Generated\n",
      "17/06//2025 11:21:1750227689 PM - INFO - OntoMapRAG: Results Generated\n",
      "17/06//2025 11:21:1750227689 PM - INFO - OntoMapRAG: Results Generated\n",
      "17/06//2025 11:21:1750227689 PM - INFO - OntoMapRAG: Results Generated\n",
      "17/06//2025 11:21:1750227689 PM - INFO - OntoMapRAG: Results Generated\n",
      "17/06//2025 11:21:1750227689 PM - INFO - OntoMapRAG: Results Generated\n",
      "17/06//2025 11:21:1750227689 PM - INFO - OntoMapRAG: Results Generated\n",
      "17/06//2025 11:21:1750227689 PM - INFO - OntoMapRAG: Results Generated\n",
      "17/06//2025 11:21:1750227689 PM - INFO - OntoMapRAG: Results Generated\n",
      "17/06//2025 11:21:1750227689 PM - INFO - OntoMapRAG: Results Generated\n",
      "17/06//2025 11:21:1750227689 PM - INFO - OntoMapRAG: Results Generated\n",
      "17/06//2025 11:21:1750227689 PM - INFO - OntoMapRAG: Results Generated\n",
      "17/06//2025 11:21:1750227689 PM - INFO - OntoMapRAG: Results Generated\n",
      "17/06//2025 11:21:1750227689 PM - INFO - OntoMapRAG: Results Generated\n"
     ]
    },
    {
     "name": "stderr",
     "output_type": "stream",
     "text": [
      "\n"
     ]
    }
   ],
   "source": [
    "# RAG Strategy w/ pubmed-bert\n",
    "rag_engine = ome.OntoMapEngine(method='pubmed-bert',\n",
    "                               topk=5,\n",
    "                               query=query_list,\n",
    "                               corpus=small_corpus_list,\n",
    "                               cura_map=cura_map,\n",
    "                               yaml_path='./src/models/method_model.yaml',\n",
    "                               om_strategy='rag',\n",
    "                               test_or_prod='test')\n",
    "rag_pubmed_result = rag_engine.run()"
   ]
  },
  {
   "cell_type": "code",
   "execution_count": 80,
   "id": "c63304c8",
   "metadata": {},
   "outputs": [
    {
     "name": "stdout",
     "output_type": "stream",
     "text": [
      "  Accuracy Level   Accuracy\n",
      "0    Top 1 Match  77.076626\n",
      "1  Top 3 Matches  87.894398\n",
      "2  Top 5 Matches  90.534449\n"
     ]
    }
   ],
   "source": [
    "# RAG Strategy w/ pubmed-bert\n",
    "rag_pubmed_accuracy_df = calc.calc_accuracy(rag_pubmed_result)\n",
    "print(rag_pubmed_accuracy_df)"
   ]
  },
  {
   "cell_type": "code",
   "execution_count": 81,
   "id": "c86ae851",
   "metadata": {},
   "outputs": [],
   "source": [
    "rag_pubmed_result.to_csv(\"rag_pubmed_result_disease.csv\",\n",
    "                  index=False)"
   ]
  },
  {
   "cell_type": "code",
   "execution_count": 47,
   "id": "2540cfb6",
   "metadata": {},
   "outputs": [
    {
     "data": {
      "text/html": [
       "<div>\n",
       "<style scoped>\n",
       "    .dataframe tbody tr th:only-of-type {\n",
       "        vertical-align: middle;\n",
       "    }\n",
       "\n",
       "    .dataframe tbody tr th {\n",
       "        vertical-align: top;\n",
       "    }\n",
       "\n",
       "    .dataframe thead th {\n",
       "        text-align: right;\n",
       "    }\n",
       "</style>\n",
       "<table border=\"1\" class=\"dataframe\">\n",
       "  <thead>\n",
       "    <tr style=\"text-align: right;\">\n",
       "      <th></th>\n",
       "      <th>original_value</th>\n",
       "      <th>curated_ontology</th>\n",
       "      <th>match_level</th>\n",
       "      <th>stage</th>\n",
       "      <th>top1_match</th>\n",
       "      <th>top1_score</th>\n",
       "      <th>top2_match</th>\n",
       "      <th>top2_score</th>\n",
       "      <th>top3_match</th>\n",
       "      <th>top3_score</th>\n",
       "      <th>top4_match</th>\n",
       "      <th>top4_score</th>\n",
       "      <th>top5_match</th>\n",
       "      <th>top5_score</th>\n",
       "      <th>top1_accuracy</th>\n",
       "      <th>top3_accuracy</th>\n",
       "      <th>top5_accuracy</th>\n",
       "    </tr>\n",
       "  </thead>\n",
       "  <tbody>\n",
       "    <tr>\n",
       "      <th>0</th>\n",
       "      <td>ACUTE MEGAKARYOBLASTIC LEUKAEMIA</td>\n",
       "      <td>Acute Megakaryoblastic Leukemia</td>\n",
       "      <td>1</td>\n",
       "      <td>2</td>\n",
       "      <td>Acute Megakaryoblastic Leukemia</td>\n",
       "      <td>0.9421</td>\n",
       "      <td>Chondrosarcoma</td>\n",
       "      <td>0.8788</td>\n",
       "      <td>Small Cell Osteosarcoma</td>\n",
       "      <td>0.8747</td>\n",
       "      <td>Non-Hodgkin Lymphoma</td>\n",
       "      <td>0.8735</td>\n",
       "      <td>Cervical Endometrioid Adenocarcinoma</td>\n",
       "      <td>0.8701</td>\n",
       "      <td>True</td>\n",
       "      <td>True</td>\n",
       "      <td>True</td>\n",
       "    </tr>\n",
       "    <tr>\n",
       "      <th>1</th>\n",
       "      <td>ANAPLASTIC THYROID CANCER</td>\n",
       "      <td>Thyroid Gland Anaplastic Carcinoma</td>\n",
       "      <td>1</td>\n",
       "      <td>2</td>\n",
       "      <td>Thyroid Gland Anaplastic Carcinoma</td>\n",
       "      <td>0.9324</td>\n",
       "      <td>Thyroid Gland Carcinoma</td>\n",
       "      <td>0.9252</td>\n",
       "      <td>Thyroid Gland Sarcoma</td>\n",
       "      <td>0.9030</td>\n",
       "      <td>Papillary Carcinoma</td>\n",
       "      <td>0.8967</td>\n",
       "      <td>Head and Neck Basaloid Carcinoma</td>\n",
       "      <td>0.8848</td>\n",
       "      <td>True</td>\n",
       "      <td>True</td>\n",
       "      <td>True</td>\n",
       "    </tr>\n",
       "    <tr>\n",
       "      <th>2</th>\n",
       "      <td>CARCINOMA, PAPILLARY</td>\n",
       "      <td>Papillary Carcinoma</td>\n",
       "      <td>1</td>\n",
       "      <td>2</td>\n",
       "      <td>Papillary Carcinoma</td>\n",
       "      <td>0.9604</td>\n",
       "      <td>Thyroid Gland Carcinoma</td>\n",
       "      <td>0.9264</td>\n",
       "      <td>Borderline Ovarian Clear Cell Tumor</td>\n",
       "      <td>0.9216</td>\n",
       "      <td>Head and Neck Basaloid Carcinoma</td>\n",
       "      <td>0.9174</td>\n",
       "      <td>Thyroid Gland Anaplastic Carcinoma</td>\n",
       "      <td>0.9137</td>\n",
       "      <td>True</td>\n",
       "      <td>True</td>\n",
       "      <td>True</td>\n",
       "    </tr>\n",
       "    <tr>\n",
       "      <th>3</th>\n",
       "      <td>CERVICAL ENDOMETRIOID CARCINOMA</td>\n",
       "      <td>Cervical Endometrioid Adenocarcinoma</td>\n",
       "      <td>1</td>\n",
       "      <td>2</td>\n",
       "      <td>Cervical Endometrioid Adenocarcinoma</td>\n",
       "      <td>0.9420</td>\n",
       "      <td>Ovarian High Grade Serous Adenocarcinoma</td>\n",
       "      <td>0.9020</td>\n",
       "      <td>Borderline Ovarian Clear Cell Tumor</td>\n",
       "      <td>0.8934</td>\n",
       "      <td>Chondrosarcoma</td>\n",
       "      <td>0.8820</td>\n",
       "      <td>Thyroid Gland Carcinoma</td>\n",
       "      <td>0.8796</td>\n",
       "      <td>True</td>\n",
       "      <td>True</td>\n",
       "      <td>True</td>\n",
       "    </tr>\n",
       "    <tr>\n",
       "      <th>4</th>\n",
       "      <td>CHONDROSARCOMA</td>\n",
       "      <td>Chondrosarcoma</td>\n",
       "      <td>1</td>\n",
       "      <td>2</td>\n",
       "      <td>Chondrosarcoma</td>\n",
       "      <td>0.9442</td>\n",
       "      <td>Small Cell Osteosarcoma</td>\n",
       "      <td>0.9014</td>\n",
       "      <td>Cervical Endometrioid Adenocarcinoma</td>\n",
       "      <td>0.8824</td>\n",
       "      <td>Sacrococcygeal Teratoma</td>\n",
       "      <td>0.8821</td>\n",
       "      <td>Thyroid Gland Sarcoma</td>\n",
       "      <td>0.8771</td>\n",
       "      <td>True</td>\n",
       "      <td>True</td>\n",
       "      <td>True</td>\n",
       "    </tr>\n",
       "    <tr>\n",
       "      <th>5</th>\n",
       "      <td>CLEAR CELL BORDERLINE OVARIAN TUMOR</td>\n",
       "      <td>Borderline Ovarian Clear Cell Tumor</td>\n",
       "      <td>1</td>\n",
       "      <td>2</td>\n",
       "      <td>Borderline Ovarian Clear Cell Tumor</td>\n",
       "      <td>0.9578</td>\n",
       "      <td>Papillary Carcinoma</td>\n",
       "      <td>0.9083</td>\n",
       "      <td>Ovarian High Grade Serous Adenocarcinoma</td>\n",
       "      <td>0.9018</td>\n",
       "      <td>Cervical Endometrioid Adenocarcinoma</td>\n",
       "      <td>0.8922</td>\n",
       "      <td>Thyroid Gland Carcinoma</td>\n",
       "      <td>0.8847</td>\n",
       "      <td>True</td>\n",
       "      <td>True</td>\n",
       "      <td>True</td>\n",
       "    </tr>\n",
       "    <tr>\n",
       "      <th>6</th>\n",
       "      <td>GASTROINTESTINAL NEUROENDOCRINE</td>\n",
       "      <td>Digestive System Neuroendocrine Tumor</td>\n",
       "      <td>1</td>\n",
       "      <td>2</td>\n",
       "      <td>Digestive System Neuroendocrine Tumor</td>\n",
       "      <td>0.9250</td>\n",
       "      <td>Neuroendocrine Neoplasm</td>\n",
       "      <td>0.9055</td>\n",
       "      <td>Primitive Neuroectodermal Tumor</td>\n",
       "      <td>0.8667</td>\n",
       "      <td>Hilar Cholangiocarcinoma</td>\n",
       "      <td>0.8628</td>\n",
       "      <td>Thyroid Gland Carcinoma</td>\n",
       "      <td>0.8527</td>\n",
       "      <td>True</td>\n",
       "      <td>True</td>\n",
       "      <td>True</td>\n",
       "    </tr>\n",
       "    <tr>\n",
       "      <th>7</th>\n",
       "      <td>HEAD &amp; NECK SQUAMOUS CELL CARCINOMA BASALOID TYPE</td>\n",
       "      <td>Head and Neck Basaloid Carcinoma</td>\n",
       "      <td>1</td>\n",
       "      <td>2</td>\n",
       "      <td>Head and Neck Basaloid Carcinoma</td>\n",
       "      <td>0.9586</td>\n",
       "      <td>Thyroid Gland Carcinoma</td>\n",
       "      <td>0.9154</td>\n",
       "      <td>Thyroid Gland Anaplastic Carcinoma</td>\n",
       "      <td>0.9136</td>\n",
       "      <td>Papillary Carcinoma</td>\n",
       "      <td>0.9078</td>\n",
       "      <td>Ovarian High Grade Serous Adenocarcinoma</td>\n",
       "      <td>0.9007</td>\n",
       "      <td>True</td>\n",
       "      <td>True</td>\n",
       "      <td>True</td>\n",
       "    </tr>\n",
       "    <tr>\n",
       "      <th>8</th>\n",
       "      <td>HGS</td>\n",
       "      <td>Ovarian High Grade Serous Adenocarcinoma</td>\n",
       "      <td>1</td>\n",
       "      <td>2</td>\n",
       "      <td>Ovarian High Grade Serous Adenocarcinoma</td>\n",
       "      <td>0.8795</td>\n",
       "      <td>Non-Hodgkin Lymphoma</td>\n",
       "      <td>0.8710</td>\n",
       "      <td>Cervical Endometrioid Adenocarcinoma</td>\n",
       "      <td>0.8590</td>\n",
       "      <td>Hilar Cholangiocarcinoma</td>\n",
       "      <td>0.8583</td>\n",
       "      <td>Chondrosarcoma</td>\n",
       "      <td>0.8570</td>\n",
       "      <td>True</td>\n",
       "      <td>True</td>\n",
       "      <td>True</td>\n",
       "    </tr>\n",
       "    <tr>\n",
       "      <th>9</th>\n",
       "      <td>MALIGNANT SACROCOCCYGEAL TERATOMA</td>\n",
       "      <td>Sacrococcygeal Teratoma</td>\n",
       "      <td>1</td>\n",
       "      <td>2</td>\n",
       "      <td>Sacrococcygeal Teratoma</td>\n",
       "      <td>0.9432</td>\n",
       "      <td>Chondrosarcoma</td>\n",
       "      <td>0.9038</td>\n",
       "      <td>Ovarian High Grade Serous Adenocarcinoma</td>\n",
       "      <td>0.8897</td>\n",
       "      <td>Primitive Neuroectodermal Tumor</td>\n",
       "      <td>0.8859</td>\n",
       "      <td>Thyroid Gland Sarcoma</td>\n",
       "      <td>0.8844</td>\n",
       "      <td>True</td>\n",
       "      <td>True</td>\n",
       "      <td>True</td>\n",
       "    </tr>\n",
       "    <tr>\n",
       "      <th>10</th>\n",
       "      <td>NEUROENDOCRINE</td>\n",
       "      <td>Neuroendocrine Neoplasm</td>\n",
       "      <td>1</td>\n",
       "      <td>2</td>\n",
       "      <td>Neuroendocrine Neoplasm</td>\n",
       "      <td>0.9359</td>\n",
       "      <td>Digestive System Neuroendocrine Tumor</td>\n",
       "      <td>0.9234</td>\n",
       "      <td>Primitive Neuroectodermal Tumor</td>\n",
       "      <td>0.8895</td>\n",
       "      <td>Head and Neck Basaloid Carcinoma</td>\n",
       "      <td>0.8734</td>\n",
       "      <td>Non-Hodgkin Lymphoma</td>\n",
       "      <td>0.8733</td>\n",
       "      <td>True</td>\n",
       "      <td>True</td>\n",
       "      <td>True</td>\n",
       "    </tr>\n",
       "    <tr>\n",
       "      <th>11</th>\n",
       "      <td>NEUROEPITHELIOMA</td>\n",
       "      <td>Primitive Neuroectodermal Tumor</td>\n",
       "      <td>1</td>\n",
       "      <td>2</td>\n",
       "      <td>Primitive Neuroectodermal Tumor</td>\n",
       "      <td>0.8998</td>\n",
       "      <td>Neuroendocrine Neoplasm</td>\n",
       "      <td>0.8912</td>\n",
       "      <td>Digestive System Neuroendocrine Tumor</td>\n",
       "      <td>0.8770</td>\n",
       "      <td>Non-Hodgkin Lymphoma</td>\n",
       "      <td>0.8682</td>\n",
       "      <td>Head and Neck Basaloid Carcinoma</td>\n",
       "      <td>0.8651</td>\n",
       "      <td>True</td>\n",
       "      <td>True</td>\n",
       "      <td>True</td>\n",
       "    </tr>\n",
       "    <tr>\n",
       "      <th>12</th>\n",
       "      <td>NON-HODGKIN LYMPHOMA</td>\n",
       "      <td>Non-Hodgkin Lymphoma</td>\n",
       "      <td>1</td>\n",
       "      <td>2</td>\n",
       "      <td>Non-Hodgkin Lymphoma</td>\n",
       "      <td>0.9450</td>\n",
       "      <td>Thyroid Gland Carcinoma</td>\n",
       "      <td>0.8818</td>\n",
       "      <td>Head and Neck Basaloid Carcinoma</td>\n",
       "      <td>0.8801</td>\n",
       "      <td>Thyroid Gland Anaplastic Carcinoma</td>\n",
       "      <td>0.8774</td>\n",
       "      <td>Chondrosarcoma</td>\n",
       "      <td>0.8773</td>\n",
       "      <td>True</td>\n",
       "      <td>True</td>\n",
       "      <td>True</td>\n",
       "    </tr>\n",
       "    <tr>\n",
       "      <th>13</th>\n",
       "      <td>NON_HODGKIN_LYMPHOMA</td>\n",
       "      <td>Non-Hodgkin Lymphoma</td>\n",
       "      <td>1</td>\n",
       "      <td>2</td>\n",
       "      <td>Non-Hodgkin Lymphoma</td>\n",
       "      <td>0.9393</td>\n",
       "      <td>Thyroid Gland Carcinoma</td>\n",
       "      <td>0.8773</td>\n",
       "      <td>Head and Neck Basaloid Carcinoma</td>\n",
       "      <td>0.8754</td>\n",
       "      <td>Thyroid Gland Anaplastic Carcinoma</td>\n",
       "      <td>0.8735</td>\n",
       "      <td>Chondrosarcoma</td>\n",
       "      <td>0.8730</td>\n",
       "      <td>True</td>\n",
       "      <td>True</td>\n",
       "      <td>True</td>\n",
       "    </tr>\n",
       "    <tr>\n",
       "      <th>14</th>\n",
       "      <td>PAPILLARY INFILTRATING DUCTAL CARCINOMA-MAMMAR...</td>\n",
       "      <td>Breast Papillary Ductal Carcinoma with Invasion</td>\n",
       "      <td>99</td>\n",
       "      <td>2</td>\n",
       "      <td>Papillary Carcinoma</td>\n",
       "      <td>0.9389</td>\n",
       "      <td>Thyroid Gland Carcinoma</td>\n",
       "      <td>0.9116</td>\n",
       "      <td>Borderline Ovarian Clear Cell Tumor</td>\n",
       "      <td>0.9067</td>\n",
       "      <td>Head and Neck Basaloid Carcinoma</td>\n",
       "      <td>0.9001</td>\n",
       "      <td>Cervical Endometrioid Adenocarcinoma</td>\n",
       "      <td>0.9001</td>\n",
       "      <td>False</td>\n",
       "      <td>False</td>\n",
       "      <td>False</td>\n",
       "    </tr>\n",
       "    <tr>\n",
       "      <th>15</th>\n",
       "      <td>PERIHILAR CHOLANGIOCARCINOMA</td>\n",
       "      <td>Hilar Cholangiocarcinoma</td>\n",
       "      <td>1</td>\n",
       "      <td>2</td>\n",
       "      <td>Hilar Cholangiocarcinoma</td>\n",
       "      <td>0.9230</td>\n",
       "      <td>Papillary Carcinoma</td>\n",
       "      <td>0.8656</td>\n",
       "      <td>Borderline Ovarian Clear Cell Tumor</td>\n",
       "      <td>0.8652</td>\n",
       "      <td>Head and Neck Basaloid Carcinoma</td>\n",
       "      <td>0.8594</td>\n",
       "      <td>Chondrosarcoma</td>\n",
       "      <td>0.8582</td>\n",
       "      <td>True</td>\n",
       "      <td>True</td>\n",
       "      <td>True</td>\n",
       "    </tr>\n",
       "    <tr>\n",
       "      <th>16</th>\n",
       "      <td>SEROUS BORDERLINE OVARIAN TUMOR, MICROPAPILLARY</td>\n",
       "      <td>Borderline Ovarian Serous Tumor-Micropapillary...</td>\n",
       "      <td>99</td>\n",
       "      <td>2</td>\n",
       "      <td>Borderline Ovarian Clear Cell Tumor</td>\n",
       "      <td>0.9282</td>\n",
       "      <td>Ovarian High Grade Serous Adenocarcinoma</td>\n",
       "      <td>0.9251</td>\n",
       "      <td>Papillary Carcinoma</td>\n",
       "      <td>0.9250</td>\n",
       "      <td>Thyroid Gland Carcinoma</td>\n",
       "      <td>0.9048</td>\n",
       "      <td>Head and Neck Basaloid Carcinoma</td>\n",
       "      <td>0.9047</td>\n",
       "      <td>False</td>\n",
       "      <td>False</td>\n",
       "      <td>False</td>\n",
       "    </tr>\n",
       "    <tr>\n",
       "      <th>17</th>\n",
       "      <td>SMALL CELL OSTEOSARCOMA</td>\n",
       "      <td>Small Cell Osteosarcoma</td>\n",
       "      <td>1</td>\n",
       "      <td>2</td>\n",
       "      <td>Small Cell Osteosarcoma</td>\n",
       "      <td>0.9331</td>\n",
       "      <td>Chondrosarcoma</td>\n",
       "      <td>0.8896</td>\n",
       "      <td>Ovarian High Grade Serous Adenocarcinoma</td>\n",
       "      <td>0.8747</td>\n",
       "      <td>Cervical Endometrioid Adenocarcinoma</td>\n",
       "      <td>0.8656</td>\n",
       "      <td>Head and Neck Basaloid Carcinoma</td>\n",
       "      <td>0.8620</td>\n",
       "      <td>True</td>\n",
       "      <td>True</td>\n",
       "      <td>True</td>\n",
       "    </tr>\n",
       "    <tr>\n",
       "      <th>18</th>\n",
       "      <td>THYROID CANCER</td>\n",
       "      <td>Thyroid Gland Carcinoma</td>\n",
       "      <td>1</td>\n",
       "      <td>2</td>\n",
       "      <td>Thyroid Gland Carcinoma</td>\n",
       "      <td>0.9261</td>\n",
       "      <td>Thyroid Gland Sarcoma</td>\n",
       "      <td>0.9065</td>\n",
       "      <td>Thyroid Gland Anaplastic Carcinoma</td>\n",
       "      <td>0.9059</td>\n",
       "      <td>Papillary Carcinoma</td>\n",
       "      <td>0.8808</td>\n",
       "      <td>Neuroendocrine Neoplasm</td>\n",
       "      <td>0.8791</td>\n",
       "      <td>True</td>\n",
       "      <td>True</td>\n",
       "      <td>True</td>\n",
       "    </tr>\n",
       "    <tr>\n",
       "      <th>19</th>\n",
       "      <td>THYROID_SARCOMA</td>\n",
       "      <td>Thyroid Gland Sarcoma</td>\n",
       "      <td>1</td>\n",
       "      <td>2</td>\n",
       "      <td>Thyroid Gland Sarcoma</td>\n",
       "      <td>0.9429</td>\n",
       "      <td>Thyroid Gland Anaplastic Carcinoma</td>\n",
       "      <td>0.9059</td>\n",
       "      <td>Thyroid Gland Carcinoma</td>\n",
       "      <td>0.9056</td>\n",
       "      <td>Neuroendocrine Neoplasm</td>\n",
       "      <td>0.8792</td>\n",
       "      <td>Chondrosarcoma</td>\n",
       "      <td>0.8707</td>\n",
       "      <td>True</td>\n",
       "      <td>True</td>\n",
       "      <td>True</td>\n",
       "    </tr>\n",
       "  </tbody>\n",
       "</table>\n",
       "</div>"
      ],
      "text/plain": [
       "                                       original_value  \\\n",
       "0                    ACUTE MEGAKARYOBLASTIC LEUKAEMIA   \n",
       "1                           ANAPLASTIC THYROID CANCER   \n",
       "2                                CARCINOMA, PAPILLARY   \n",
       "3                     CERVICAL ENDOMETRIOID CARCINOMA   \n",
       "4                                      CHONDROSARCOMA   \n",
       "5                 CLEAR CELL BORDERLINE OVARIAN TUMOR   \n",
       "6                     GASTROINTESTINAL NEUROENDOCRINE   \n",
       "7   HEAD & NECK SQUAMOUS CELL CARCINOMA BASALOID TYPE   \n",
       "8                                                 HGS   \n",
       "9                   MALIGNANT SACROCOCCYGEAL TERATOMA   \n",
       "10                                     NEUROENDOCRINE   \n",
       "11                                   NEUROEPITHELIOMA   \n",
       "12                               NON-HODGKIN LYMPHOMA   \n",
       "13                               NON_HODGKIN_LYMPHOMA   \n",
       "14  PAPILLARY INFILTRATING DUCTAL CARCINOMA-MAMMAR...   \n",
       "15                       PERIHILAR CHOLANGIOCARCINOMA   \n",
       "16    SEROUS BORDERLINE OVARIAN TUMOR, MICROPAPILLARY   \n",
       "17                            SMALL CELL OSTEOSARCOMA   \n",
       "18                                     THYROID CANCER   \n",
       "19                                    THYROID_SARCOMA   \n",
       "\n",
       "                                     curated_ontology  match_level  stage  \\\n",
       "0                     Acute Megakaryoblastic Leukemia            1      2   \n",
       "1                  Thyroid Gland Anaplastic Carcinoma            1      2   \n",
       "2                                 Papillary Carcinoma            1      2   \n",
       "3                Cervical Endometrioid Adenocarcinoma            1      2   \n",
       "4                                      Chondrosarcoma            1      2   \n",
       "5                 Borderline Ovarian Clear Cell Tumor            1      2   \n",
       "6               Digestive System Neuroendocrine Tumor            1      2   \n",
       "7                    Head and Neck Basaloid Carcinoma            1      2   \n",
       "8            Ovarian High Grade Serous Adenocarcinoma            1      2   \n",
       "9                             Sacrococcygeal Teratoma            1      2   \n",
       "10                            Neuroendocrine Neoplasm            1      2   \n",
       "11                    Primitive Neuroectodermal Tumor            1      2   \n",
       "12                               Non-Hodgkin Lymphoma            1      2   \n",
       "13                               Non-Hodgkin Lymphoma            1      2   \n",
       "14    Breast Papillary Ductal Carcinoma with Invasion           99      2   \n",
       "15                           Hilar Cholangiocarcinoma            1      2   \n",
       "16  Borderline Ovarian Serous Tumor-Micropapillary...           99      2   \n",
       "17                            Small Cell Osteosarcoma            1      2   \n",
       "18                            Thyroid Gland Carcinoma            1      2   \n",
       "19                              Thyroid Gland Sarcoma            1      2   \n",
       "\n",
       "                                  top1_match top1_score  \\\n",
       "0            Acute Megakaryoblastic Leukemia     0.9421   \n",
       "1         Thyroid Gland Anaplastic Carcinoma     0.9324   \n",
       "2                        Papillary Carcinoma     0.9604   \n",
       "3       Cervical Endometrioid Adenocarcinoma     0.9420   \n",
       "4                             Chondrosarcoma     0.9442   \n",
       "5        Borderline Ovarian Clear Cell Tumor     0.9578   \n",
       "6      Digestive System Neuroendocrine Tumor     0.9250   \n",
       "7           Head and Neck Basaloid Carcinoma     0.9586   \n",
       "8   Ovarian High Grade Serous Adenocarcinoma     0.8795   \n",
       "9                    Sacrococcygeal Teratoma     0.9432   \n",
       "10                   Neuroendocrine Neoplasm     0.9359   \n",
       "11           Primitive Neuroectodermal Tumor     0.8998   \n",
       "12                      Non-Hodgkin Lymphoma     0.9450   \n",
       "13                      Non-Hodgkin Lymphoma     0.9393   \n",
       "14                       Papillary Carcinoma     0.9389   \n",
       "15                  Hilar Cholangiocarcinoma     0.9230   \n",
       "16       Borderline Ovarian Clear Cell Tumor     0.9282   \n",
       "17                   Small Cell Osteosarcoma     0.9331   \n",
       "18                   Thyroid Gland Carcinoma     0.9261   \n",
       "19                     Thyroid Gland Sarcoma     0.9429   \n",
       "\n",
       "                                  top2_match top2_score  \\\n",
       "0                             Chondrosarcoma     0.8788   \n",
       "1                    Thyroid Gland Carcinoma     0.9252   \n",
       "2                    Thyroid Gland Carcinoma     0.9264   \n",
       "3   Ovarian High Grade Serous Adenocarcinoma     0.9020   \n",
       "4                    Small Cell Osteosarcoma     0.9014   \n",
       "5                        Papillary Carcinoma     0.9083   \n",
       "6                    Neuroendocrine Neoplasm     0.9055   \n",
       "7                    Thyroid Gland Carcinoma     0.9154   \n",
       "8                       Non-Hodgkin Lymphoma     0.8710   \n",
       "9                             Chondrosarcoma     0.9038   \n",
       "10     Digestive System Neuroendocrine Tumor     0.9234   \n",
       "11                   Neuroendocrine Neoplasm     0.8912   \n",
       "12                   Thyroid Gland Carcinoma     0.8818   \n",
       "13                   Thyroid Gland Carcinoma     0.8773   \n",
       "14                   Thyroid Gland Carcinoma     0.9116   \n",
       "15                       Papillary Carcinoma     0.8656   \n",
       "16  Ovarian High Grade Serous Adenocarcinoma     0.9251   \n",
       "17                            Chondrosarcoma     0.8896   \n",
       "18                     Thyroid Gland Sarcoma     0.9065   \n",
       "19        Thyroid Gland Anaplastic Carcinoma     0.9059   \n",
       "\n",
       "                                  top3_match top3_score  \\\n",
       "0                    Small Cell Osteosarcoma     0.8747   \n",
       "1                      Thyroid Gland Sarcoma     0.9030   \n",
       "2        Borderline Ovarian Clear Cell Tumor     0.9216   \n",
       "3        Borderline Ovarian Clear Cell Tumor     0.8934   \n",
       "4       Cervical Endometrioid Adenocarcinoma     0.8824   \n",
       "5   Ovarian High Grade Serous Adenocarcinoma     0.9018   \n",
       "6            Primitive Neuroectodermal Tumor     0.8667   \n",
       "7         Thyroid Gland Anaplastic Carcinoma     0.9136   \n",
       "8       Cervical Endometrioid Adenocarcinoma     0.8590   \n",
       "9   Ovarian High Grade Serous Adenocarcinoma     0.8897   \n",
       "10           Primitive Neuroectodermal Tumor     0.8895   \n",
       "11     Digestive System Neuroendocrine Tumor     0.8770   \n",
       "12          Head and Neck Basaloid Carcinoma     0.8801   \n",
       "13          Head and Neck Basaloid Carcinoma     0.8754   \n",
       "14       Borderline Ovarian Clear Cell Tumor     0.9067   \n",
       "15       Borderline Ovarian Clear Cell Tumor     0.8652   \n",
       "16                       Papillary Carcinoma     0.9250   \n",
       "17  Ovarian High Grade Serous Adenocarcinoma     0.8747   \n",
       "18        Thyroid Gland Anaplastic Carcinoma     0.9059   \n",
       "19                   Thyroid Gland Carcinoma     0.9056   \n",
       "\n",
       "                              top4_match top4_score  \\\n",
       "0                   Non-Hodgkin Lymphoma     0.8735   \n",
       "1                    Papillary Carcinoma     0.8967   \n",
       "2       Head and Neck Basaloid Carcinoma     0.9174   \n",
       "3                         Chondrosarcoma     0.8820   \n",
       "4                Sacrococcygeal Teratoma     0.8821   \n",
       "5   Cervical Endometrioid Adenocarcinoma     0.8922   \n",
       "6               Hilar Cholangiocarcinoma     0.8628   \n",
       "7                    Papillary Carcinoma     0.9078   \n",
       "8               Hilar Cholangiocarcinoma     0.8583   \n",
       "9        Primitive Neuroectodermal Tumor     0.8859   \n",
       "10      Head and Neck Basaloid Carcinoma     0.8734   \n",
       "11                  Non-Hodgkin Lymphoma     0.8682   \n",
       "12    Thyroid Gland Anaplastic Carcinoma     0.8774   \n",
       "13    Thyroid Gland Anaplastic Carcinoma     0.8735   \n",
       "14      Head and Neck Basaloid Carcinoma     0.9001   \n",
       "15      Head and Neck Basaloid Carcinoma     0.8594   \n",
       "16               Thyroid Gland Carcinoma     0.9048   \n",
       "17  Cervical Endometrioid Adenocarcinoma     0.8656   \n",
       "18                   Papillary Carcinoma     0.8808   \n",
       "19               Neuroendocrine Neoplasm     0.8792   \n",
       "\n",
       "                                  top5_match top5_score  top1_accuracy  \\\n",
       "0       Cervical Endometrioid Adenocarcinoma     0.8701           True   \n",
       "1           Head and Neck Basaloid Carcinoma     0.8848           True   \n",
       "2         Thyroid Gland Anaplastic Carcinoma     0.9137           True   \n",
       "3                    Thyroid Gland Carcinoma     0.8796           True   \n",
       "4                      Thyroid Gland Sarcoma     0.8771           True   \n",
       "5                    Thyroid Gland Carcinoma     0.8847           True   \n",
       "6                    Thyroid Gland Carcinoma     0.8527           True   \n",
       "7   Ovarian High Grade Serous Adenocarcinoma     0.9007           True   \n",
       "8                             Chondrosarcoma     0.8570           True   \n",
       "9                      Thyroid Gland Sarcoma     0.8844           True   \n",
       "10                      Non-Hodgkin Lymphoma     0.8733           True   \n",
       "11          Head and Neck Basaloid Carcinoma     0.8651           True   \n",
       "12                            Chondrosarcoma     0.8773           True   \n",
       "13                            Chondrosarcoma     0.8730           True   \n",
       "14      Cervical Endometrioid Adenocarcinoma     0.9001          False   \n",
       "15                            Chondrosarcoma     0.8582           True   \n",
       "16          Head and Neck Basaloid Carcinoma     0.9047          False   \n",
       "17          Head and Neck Basaloid Carcinoma     0.8620           True   \n",
       "18                   Neuroendocrine Neoplasm     0.8791           True   \n",
       "19                            Chondrosarcoma     0.8707           True   \n",
       "\n",
       "    top3_accuracy  top5_accuracy  \n",
       "0            True           True  \n",
       "1            True           True  \n",
       "2            True           True  \n",
       "3            True           True  \n",
       "4            True           True  \n",
       "5            True           True  \n",
       "6            True           True  \n",
       "7            True           True  \n",
       "8            True           True  \n",
       "9            True           True  \n",
       "10           True           True  \n",
       "11           True           True  \n",
       "12           True           True  \n",
       "13           True           True  \n",
       "14          False          False  \n",
       "15           True           True  \n",
       "16          False          False  \n",
       "17           True           True  \n",
       "18           True           True  \n",
       "19           True           True  "
      ]
     },
     "execution_count": 47,
     "metadata": {},
     "output_type": "execute_result"
    }
   ],
   "source": [
    "rag_pubmed_result"
   ]
  },
  {
   "cell_type": "markdown",
   "id": "bf097f33",
   "metadata": {},
   "source": [
    "Overlapping of different strategies"
   ]
  },
  {
   "cell_type": "code",
   "execution_count": 82,
   "id": "36f91350",
   "metadata": {},
   "outputs": [],
   "source": [
    "import pandas as pd\n",
    "import seaborn as sns\n",
    "import matplotlib.pyplot as plt\n",
    "\n",
    "\n",
    "def compute_overlap_matrix(data_dict):\n",
    "    methods = list(data_dict.keys())\n",
    "    matrix = pd.DataFrame(index=methods, columns=methods)\n",
    "\n",
    "    for m1 in methods:\n",
    "        for m2 in methods:\n",
    "            if m1 == m2:\n",
    "                matrix.loc[m1, m2] = 1.0\n",
    "            else:\n",
    "                intersect = len(data_dict[m1] & data_dict[m2])\n",
    "                union = len(data_dict[m1] | data_dict[m2])\n",
    "                matrix.loc[m1, m2] = round(intersect / union, 3)\n",
    "    return matrix\n",
    "\n",
    "\n",
    "def plot_heatmap(matrix, title):\n",
    "    plt.figure(figsize=(8, 6))\n",
    "    sns.heatmap(matrix.astype(float),\n",
    "                annot=True,\n",
    "                fmt=\".2f\",\n",
    "                cmap=\"Blues\",\n",
    "                linewidths=0.5)\n",
    "    plt.title(title)\n",
    "    plt.tight_layout()\n",
    "    plt.show()\n"
   ]
  },
  {
   "cell_type": "code",
   "execution_count": 87,
   "id": "c4ec5e94",
   "metadata": {},
   "outputs": [
    {
     "name": "stdout",
     "output_type": "stream",
     "text": [
      "🔹 Top1 Jaccard Overlap Matrix\n",
      "            sapbert_lm sapbert_st sapbert_rag pubmed_lm pubmed_st pubmed_rag\n",
      "sapbert_lm         1.0      0.911       0.573     0.842     0.844      0.817\n",
      "sapbert_st       0.911        1.0       0.562     0.858     0.862      0.816\n",
      "sapbert_rag      0.573      0.562         1.0     0.543     0.545       0.58\n",
      "pubmed_lm        0.842      0.858       0.543       1.0     0.949      0.818\n",
      "pubmed_st        0.844      0.862       0.545     0.949       1.0      0.818\n",
      "pubmed_rag       0.817      0.816        0.58     0.818     0.818        1.0\n",
      "\n",
      "🔹 Top5 Jaccard Overlap Matrix\n",
      "            sapbert_lm sapbert_st sapbert_rag pubmed_lm pubmed_st pubmed_rag\n",
      "sapbert_lm         1.0      0.966       0.833     0.939     0.941      0.914\n",
      "sapbert_st       0.966        1.0       0.825      0.94     0.949      0.918\n",
      "sapbert_rag      0.833      0.825         1.0      0.82     0.822      0.839\n",
      "pubmed_lm        0.939       0.94        0.82       1.0     0.975      0.912\n",
      "pubmed_st        0.941      0.949       0.822     0.975       1.0      0.917\n",
      "pubmed_rag       0.914      0.918       0.839     0.912     0.917        1.0\n"
     ]
    }
   ],
   "source": [
    "files = {\n",
    "    'sapbert_lm':\n",
    "    'lm_sapbert_result.csv',\n",
    "    'sapbert_st':\n",
    "    'st_sapbert_result.csv',\n",
    "    'sapbert_rag':\n",
    "    'rag_sapbert_result.csv',\n",
    "    'pubmed_lm':\n",
    "    'lm_pubmedbert_result.csv',\n",
    "    'pubmed_st':\n",
    "    'st_pubmedbert_result.csv',\n",
    "    'pubmed_rag':\n",
    "    'rag_pubmed_result_disease.csv',\n",
    "}\n",
    "\n",
    "top1_dict = {}\n",
    "top5_dict = {}\n",
    "\n",
    "for name, path in files.items():\n",
    "    df = pd.read_csv(path)\n",
    "    top1_dict[name] = set(df[df['match_level'] == 1]['original_value'])\n",
    "    top5_dict[name] = set(df[df['match_level'] <= 5]['original_value'])\n",
    "\n",
    "top1_overlap = compute_overlap_matrix(top1_dict)\n",
    "top5_overlap = compute_overlap_matrix(top5_dict)\n",
    "\n",
    "print(\"🔹 Top1 Jaccard Overlap Matrix\")\n",
    "print(top1_overlap)\n",
    "\n",
    "print(\"\\n🔹 Top5 Jaccard Overlap Matrix\")\n",
    "print(top5_overlap)"
   ]
  },
  {
   "cell_type": "code",
   "execution_count": 88,
   "id": "cbaa6815",
   "metadata": {},
   "outputs": [
    {
     "data": {
      "image/png": "[encoded data removed]",
      "text/plain": [
       "<Figure size 800x600 with 2 Axes>"
      ]
     },
     "metadata": {},
     "output_type": "display_data"
    },
    {
     "data": {
      "image/png": "[encoded data removed]",
      "text/plain": [
       "<Figure size 800x600 with 2 Axes>"
      ]
     },
     "metadata": {},
     "output_type": "display_data"
    }
   ],
   "source": [
    "plot_heatmap(top1_overlap, \"Disease Top-1 Jaccard Overlap\")\n",
    "plot_heatmap(top5_overlap, \"Disease Top-5 Jaccard Overlap\")"
   ]
  },
  {
   "cell_type": "markdown",
   "id": "db1eb193",
   "metadata": {},
   "source": [
    "Sample"
   ]
  },
  {
   "cell_type": "code",
   "execution_count": 28,
   "id": "97ca4eef",
   "metadata": {},
   "outputs": [
    {
     "name": "stdout",
     "output_type": "stream",
     "text": [
      "Max length of 'context' column: 6898\n"
     ]
    }
   ],
   "source": [
    "import sqlite3\n",
    "\n",
    "conn = sqlite3.connect('src/KnowledgeDb/vector_db.sqlite')\n",
    "cursor = conn.cursor()\n",
    "\n",
    "cursor.execute(\"SELECT MAX(LENGTH(context)) FROM mt_sap_bert_term_info;\")\n",
    "max_len = cursor.fetchone()[0]\n",
    "\n",
    "print(\"Max length of 'context' column:\", max_len)\n",
    "\n",
    "conn.close()"
   ]
  },
  {
   "cell_type": "code",
   "execution_count": 36,
   "id": "77f1b100",
   "metadata": {},
   "outputs": [
    {
     "name": "stdout",
     "output_type": "stream",
     "text": [
      "✅ Exported 1 rows with long contexts.\n"
     ]
    }
   ],
   "source": [
    "import sqlite3\n",
    "import csv\n",
    "\n",
    "conn = sqlite3.connect('src/KnowledgeDb/version1/vector_db.sqlite')\n",
    "cursor = conn.cursor()\n",
    "\n",
    "cursor.execute(\"\"\"\n",
    "    SELECT * FROM mt_sap_bert_term_info\n",
    "    WHERE LENGTH(context) > 2200;\n",
    "\"\"\")\n",
    "\n",
    "rows = cursor.fetchall()\n",
    "\n",
    "print(\n",
    "    f\"✅ Exported {len(rows)} rows with long contexts.\"\n",
    ")\n",
    "\n",
    "conn.close()\n"
   ]
  },
  {
   "cell_type": "markdown",
   "id": "1d3d6c82",
   "metadata": {},
   "source": [
    "**Treatment**"
   ]
  },
  {
   "cell_type": "code",
   "execution_count": 9,
   "id": "f23eb028",
   "metadata": {},
   "outputs": [],
   "source": [
    "# Updated code to pass the dict rather than a DataFrame\n",
    "df = pd.read_csv(\n",
    "    './data/corpus/cbio_treatment_name/trt_name_query_for_NCIT:C1909.csv')\n",
    "\n",
    "query_list = df['original_value'].tolist()\n",
    "small_corpus_list = df['curated_ontology'].tolist()\n",
    "\n",
    "cura_map = dict(zip(df['original_value'], df['curated_ontology']))"
   ]
  },
  {
   "cell_type": "markdown",
   "id": "693c4d7e",
   "metadata": {},
   "source": [
    "LM Strategy (SapBERT)"
   ]
  },
  {
   "cell_type": "code",
   "execution_count": 10,
   "id": "be2a9ad1",
   "metadata": {},
   "outputs": [
    {
     "name": "stdout",
     "output_type": "stream",
     "text": [
      "19/06//2025 11:30:1750357825 AM - INFO - OntoMapEngine: Initialized OntoMap Engine module\n",
      "19/06//2025 11:30:1750357825 AM - INFO - OntoMapEngine: Initialized OntoMap Engine module\n",
      "19/06//2025 11:30:1750357825 AM - INFO - OntoMapEngine: Running Ontology Mapping\n",
      "19/06//2025 11:30:1750357825 AM - INFO - OntoMapEngine: Running Ontology Mapping\n",
      "19/06//2025 11:30:1750357825 AM - INFO - OntoMapEngine: Separating exact and non-exact matches\n",
      "19/06//2025 11:30:1750357825 AM - INFO - OntoMapEngine: Separating exact and non-exact matches\n",
      "19/06//2025 11:30:1750357825 AM - INFO - OntoMapEngine: Running OntoMap model for non-exact matches\n",
      "19/06//2025 11:30:1750357825 AM - INFO - OntoMapEngine: Running OntoMap model for non-exact matches\n",
      "19/06//2025 11:30:1750357825 AM - INFO - OntoMapLM: Initialized OntoMap Language Model module\n",
      "19/06//2025 11:30:1750357825 AM - INFO - OntoMapLM: Initialized OntoMap Language Model module\n",
      "19/06//2025 11:30:1750357825 AM - INFO - OntoMapLM.get_match_results: Creating embeddings for query_list and corpus\n",
      "19/06//2025 11:30:1750357825 AM - INFO - OntoMapLM.get_match_results: Creating embeddings for query_list and corpus\n",
      "19/06//2025 11:30:1750357836 AM - INFO - OntoMapLM.get_match_results: Calculating cosine similarity matrix\n",
      "19/06//2025 11:30:1750357836 AM - INFO - OntoMapLM.get_match_results: Calculating cosine similarity matrix\n",
      "19/06//2025 11:30:1750357836 AM - INFO - OntoMapLM.get_match_results: Generating results table\n",
      "19/06//2025 11:30:1750357836 AM - INFO - OntoMapLM.get_match_results: Generating results table\n",
      "19/06//2025 11:30:1750357836 AM - INFO - OntoMapLM.get_match_results: Results Generated\n",
      "19/06//2025 11:30:1750357836 AM - INFO - OntoMapLM.get_match_results: Results Generated\n"
     ]
    }
   ],
   "source": [
    "# LM Strategy w/ SapBERT\n",
    "other_params = {\"test_or_prod\": \"test\"}\n",
    "onto_engine_large = ome.OntoMapEngine(\n",
    "    method='sap-bert',\n",
    "    topk=5,\n",
    "    query=query_list,\n",
    "    corpus=small_corpus_list,\n",
    "    cura_map=cura_map,\n",
    "    yaml_path='./src/models/method_model.yaml',\n",
    "    om_strategy='lm',\n",
    "    **other_params)\n",
    "lm_sapbert_result = onto_engine_large.run()"
   ]
  },
  {
   "cell_type": "code",
   "execution_count": 11,
   "id": "e30a8645",
   "metadata": {},
   "outputs": [
    {
     "name": "stdout",
     "output_type": "stream",
     "text": [
      "  Accuracy Level   Accuracy\n",
      "0    Top 1 Match  74.221453\n",
      "1  Top 3 Matches  79.930796\n",
      "2  Top 5 Matches  81.314879\n"
     ]
    }
   ],
   "source": [
    "lm_sapbert_accuracy_df = calc.calc_accuracy(lm_sapbert_result)\n",
    "print(lm_sapbert_accuracy_df)"
   ]
  },
  {
   "cell_type": "code",
   "execution_count": 12,
   "id": "3a8d3895",
   "metadata": {},
   "outputs": [],
   "source": [
    "lm_sapbert_result.to_csv(\"lm_sapbert_result_trt.csv\", index=False)"
   ]
  },
  {
   "cell_type": "code",
   "execution_count": 28,
   "id": "7d341830",
   "metadata": {},
   "outputs": [
    {
     "name": "stdout",
     "output_type": "stream",
     "text": [
      "17/06//2025 03:35:1750156501 AM - INFO - OntoMapEngine: Initialized OntoMap Engine module\n",
      "17/06//2025 03:35:1750156501 AM - INFO - OntoMapEngine: Initialized OntoMap Engine module\n",
      "17/06//2025 03:35:1750156501 AM - INFO - OntoMapEngine: Initialized OntoMap Engine module\n",
      "17/06//2025 03:35:1750156501 AM - INFO - OntoMapEngine: Initialized OntoMap Engine module\n",
      "17/06//2025 03:35:1750156501 AM - INFO - OntoMapEngine: Initialized OntoMap Engine module\n",
      "17/06//2025 03:35:1750156501 AM - INFO - OntoMapEngine: Initialized OntoMap Engine module\n",
      "17/06//2025 03:35:1750156501 AM - INFO - OntoMapEngine: Running Ontology Mapping\n",
      "17/06//2025 03:35:1750156501 AM - INFO - OntoMapEngine: Running Ontology Mapping\n",
      "17/06//2025 03:35:1750156501 AM - INFO - OntoMapEngine: Running Ontology Mapping\n",
      "17/06//2025 03:35:1750156501 AM - INFO - OntoMapEngine: Running Ontology Mapping\n",
      "17/06//2025 03:35:1750156501 AM - INFO - OntoMapEngine: Running Ontology Mapping\n",
      "17/06//2025 03:35:1750156501 AM - INFO - OntoMapEngine: Running Ontology Mapping\n",
      "17/06//2025 03:35:1750156501 AM - INFO - OntoMapEngine: Separating exact and non-exact matches\n",
      "17/06//2025 03:35:1750156501 AM - INFO - OntoMapEngine: Separating exact and non-exact matches\n",
      "17/06//2025 03:35:1750156501 AM - INFO - OntoMapEngine: Separating exact and non-exact matches\n",
      "17/06//2025 03:35:1750156501 AM - INFO - OntoMapEngine: Separating exact and non-exact matches\n",
      "17/06//2025 03:35:1750156501 AM - INFO - OntoMapEngine: Separating exact and non-exact matches\n",
      "17/06//2025 03:35:1750156501 AM - INFO - OntoMapEngine: Separating exact and non-exact matches\n",
      "17/06//2025 03:35:1750156501 AM - INFO - OntoMapEngine: Running OntoMap model for non-exact matches\n",
      "17/06//2025 03:35:1750156501 AM - INFO - OntoMapEngine: Running OntoMap model for non-exact matches\n",
      "17/06//2025 03:35:1750156501 AM - INFO - OntoMapEngine: Running OntoMap model for non-exact matches\n",
      "17/06//2025 03:35:1750156501 AM - INFO - OntoMapEngine: Running OntoMap model for non-exact matches\n",
      "17/06//2025 03:35:1750156501 AM - INFO - OntoMapEngine: Running OntoMap model for non-exact matches\n",
      "17/06//2025 03:35:1750156501 AM - INFO - OntoMapEngine: Running OntoMap model for non-exact matches\n",
      "17/06//2025 03:35:1750156501 AM - INFO - OntoMapLM: Initialized OntoMap Language Model module\n",
      "17/06//2025 03:35:1750156501 AM - INFO - OntoMapLM: Initialized OntoMap Language Model module\n",
      "17/06//2025 03:35:1750156501 AM - INFO - OntoMapLM.get_match_results: Creating embeddings for query_list and corpus\n",
      "17/06//2025 03:35:1750156501 AM - INFO - OntoMapLM.get_match_results: Creating embeddings for query_list and corpus\n",
      "17/06//2025 03:35:1750156515 AM - INFO - OntoMapLM.get_match_results: Calculating cosine similarity matrix\n",
      "17/06//2025 03:35:1750156515 AM - INFO - OntoMapLM.get_match_results: Calculating cosine similarity matrix\n",
      "17/06//2025 03:35:1750156515 AM - INFO - OntoMapLM.get_match_results: Generating results table\n",
      "17/06//2025 03:35:1750156515 AM - INFO - OntoMapLM.get_match_results: Generating results table\n",
      "17/06//2025 03:35:1750156515 AM - INFO - OntoMapLM.get_match_results: Results Generated\n",
      "17/06//2025 03:35:1750156515 AM - INFO - OntoMapLM.get_match_results: Results Generated\n"
     ]
    }
   ],
   "source": [
    "# Language Model Strategy w/ PubMedBERT\n",
    "other_params = {\"test_or_prod\": \"test\"}\n",
    "onto_engine_large = ome.OntoMapEngine(\n",
    "    method='pubmed-bert',\n",
    "    topk=5,\n",
    "    query=query_list,\n",
    "    corpus=small_corpus_list,\n",
    "    cura_map=cura_map,\n",
    "    yaml_path='./src/models/method_model.yaml',\n",
    "    om_strategy='lm',\n",
    "    **other_params)\n",
    "\n",
    "lm_pubmedbert_result = onto_engine_large.run()"
   ]
  },
  {
   "cell_type": "code",
   "execution_count": 29,
   "id": "7068406e",
   "metadata": {},
   "outputs": [
    {
     "name": "stdout",
     "output_type": "stream",
     "text": [
      "  Accuracy Level   Accuracy\n",
      "0    Top 1 Match  67.647059\n",
      "1  Top 3 Matches  72.318339\n",
      "2  Top 5 Matches  73.183391\n"
     ]
    }
   ],
   "source": [
    "# Language Model Strategy w/ PubMedBERT\n",
    "lm_pubmedbert_accuracy_df = calc.calc_accuracy(lm_pubmedbert_result)\n",
    "print(lm_pubmedbert_accuracy_df)"
   ]
  },
  {
   "cell_type": "code",
   "execution_count": 30,
   "id": "55586a0c",
   "metadata": {},
   "outputs": [],
   "source": [
    "lm_pubmedbert_result.to_csv(\"lm_pubmedbert_result_trt.csv\", index=False)"
   ]
  },
  {
   "cell_type": "markdown",
   "id": "cd701edd",
   "metadata": {},
   "source": [
    "ST Strategy (PubMedBERT‑MS‑MARCO, SapBERT-mean-token)"
   ]
  },
  {
   "cell_type": "code",
   "execution_count": 31,
   "id": "c3b84a34",
   "metadata": {},
   "outputs": [
    {
     "name": "stdout",
     "output_type": "stream",
     "text": [
      "17/06//2025 03:35:1750156536 AM - INFO - OntoMapEngine: Initialized OntoMap Engine module\n",
      "17/06//2025 03:35:1750156536 AM - INFO - OntoMapEngine: Initialized OntoMap Engine module\n"
     ]
    },
    {
     "name": "stdout",
     "output_type": "stream",
     "text": [
      "17/06//2025 03:35:1750156536 AM - INFO - OntoMapEngine: Initialized OntoMap Engine module\n",
      "17/06//2025 03:35:1750156536 AM - INFO - OntoMapEngine: Initialized OntoMap Engine module\n",
      "17/06//2025 03:35:1750156536 AM - INFO - OntoMapEngine: Initialized OntoMap Engine module\n",
      "17/06//2025 03:35:1750156536 AM - INFO - OntoMapEngine: Initialized OntoMap Engine module\n",
      "17/06//2025 03:35:1750156536 AM - INFO - OntoMapEngine: Initialized OntoMap Engine module\n",
      "17/06//2025 03:35:1750156536 AM - INFO - OntoMapEngine: Running Ontology Mapping\n",
      "17/06//2025 03:35:1750156536 AM - INFO - OntoMapEngine: Running Ontology Mapping\n",
      "17/06//2025 03:35:1750156536 AM - INFO - OntoMapEngine: Running Ontology Mapping\n",
      "17/06//2025 03:35:1750156536 AM - INFO - OntoMapEngine: Running Ontology Mapping\n",
      "17/06//2025 03:35:1750156536 AM - INFO - OntoMapEngine: Running Ontology Mapping\n",
      "17/06//2025 03:35:1750156536 AM - INFO - OntoMapEngine: Running Ontology Mapping\n",
      "17/06//2025 03:35:1750156536 AM - INFO - OntoMapEngine: Running Ontology Mapping\n",
      "17/06//2025 03:35:1750156536 AM - INFO - OntoMapEngine: Separating exact and non-exact matches\n",
      "17/06//2025 03:35:1750156536 AM - INFO - OntoMapEngine: Separating exact and non-exact matches\n",
      "17/06//2025 03:35:1750156536 AM - INFO - OntoMapEngine: Separating exact and non-exact matches\n",
      "17/06//2025 03:35:1750156536 AM - INFO - OntoMapEngine: Separating exact and non-exact matches\n",
      "17/06//2025 03:35:1750156536 AM - INFO - OntoMapEngine: Separating exact and non-exact matches\n",
      "17/06//2025 03:35:1750156536 AM - INFO - OntoMapEngine: Separating exact and non-exact matches\n",
      "17/06//2025 03:35:1750156536 AM - INFO - OntoMapEngine: Separating exact and non-exact matches\n",
      "17/06//2025 03:35:1750156536 AM - INFO - OntoMapEngine: Running OntoMap model for non-exact matches\n",
      "17/06//2025 03:35:1750156536 AM - INFO - OntoMapEngine: Running OntoMap model for non-exact matches\n",
      "17/06//2025 03:35:1750156536 AM - INFO - OntoMapEngine: Running OntoMap model for non-exact matches\n",
      "17/06//2025 03:35:1750156536 AM - INFO - OntoMapEngine: Running OntoMap model for non-exact matches\n",
      "17/06//2025 03:35:1750156536 AM - INFO - OntoMapEngine: Running OntoMap model for non-exact matches\n",
      "17/06//2025 03:35:1750156536 AM - INFO - OntoMapEngine: Running OntoMap model for non-exact matches\n",
      "17/06//2025 03:35:1750156536 AM - INFO - OntoMapEngine: Running OntoMap model for non-exact matches\n",
      "17/06//2025 03:35:1750156536 AM - INFO - OntoMapST: Initialized OntoMap Sentence Transformer module\n",
      "17/06//2025 03:35:1750156536 AM - INFO - OntoMapST: Initialized OntoMap Sentence Transformer module\n",
      "17/06//2025 03:35:1750156536 AM - INFO - OntoMapST: Initialized OntoMap Sentence Transformer module\n",
      "17/06//2025 03:35:1750156536 AM - INFO - OntoMapST: Initialized OntoMap Sentence Transformer module\n",
      "17/06//2025 03:35:1750156536 AM - INFO - OntoMapST: Initialized OntoMap Sentence Transformer module\n",
      "17/06//2025 03:35:1750156536 AM - INFO - OntoMapST.get_match_results: Creating embeddings for query_list and corpus\n",
      "17/06//2025 03:35:1750156536 AM - INFO - OntoMapST.get_match_results: Creating embeddings for query_list and corpus\n",
      "17/06//2025 03:35:1750156536 AM - INFO - OntoMapST.get_match_results: Creating embeddings for query_list and corpus\n",
      "17/06//2025 03:35:1750156536 AM - INFO - OntoMapST.get_match_results: Creating embeddings for query_list and corpus\n",
      "17/06//2025 03:35:1750156536 AM - INFO - OntoMapST.get_match_results: Creating embeddings for query_list and corpus\n"
     ]
    },
    {
     "name": "stderr",
     "output_type": "stream",
     "text": [
      "No sentence-transformers model found with name cambridgeltl/SapBERT-from-PubMedBERT-fulltext-mean-token. Creating a new one with mean pooling.\n",
      "No sentence-transformers model found with name cambridgeltl/SapBERT-from-PubMedBERT-fulltext-mean-token. Creating a new one with mean pooling.\n"
     ]
    },
    {
     "name": "stdout",
     "output_type": "stream",
     "text": [
      "17/06//2025 03:35:1750156540 AM - INFO - OntoMapST.get_match_results: Calculating cosine similarity matrix\n",
      "17/06//2025 03:35:1750156540 AM - INFO - OntoMapST.get_match_results: Calculating cosine similarity matrix\n",
      "17/06//2025 03:35:1750156540 AM - INFO - OntoMapST.get_match_results: Calculating cosine similarity matrix\n",
      "17/06//2025 03:35:1750156540 AM - INFO - OntoMapST.get_match_results: Calculating cosine similarity matrix\n",
      "17/06//2025 03:35:1750156540 AM - INFO - OntoMapST.get_match_results: Calculating cosine similarity matrix\n",
      "17/06//2025 03:35:1750156540 AM - INFO - OntoMapST.get_match_results: Generating results table\n",
      "17/06//2025 03:35:1750156540 AM - INFO - OntoMapST.get_match_results: Generating results table\n",
      "17/06//2025 03:35:1750156540 AM - INFO - OntoMapST.get_match_results: Generating results table\n",
      "17/06//2025 03:35:1750156540 AM - INFO - OntoMapST.get_match_results: Generating results table\n",
      "17/06//2025 03:35:1750156540 AM - INFO - OntoMapST.get_match_results: Generating results table\n",
      "17/06//2025 03:35:1750156540 AM - INFO - OntoMapST.get_match_results: Results Generated\n",
      "17/06//2025 03:35:1750156540 AM - INFO - OntoMapST.get_match_results: Results Generated\n",
      "17/06//2025 03:35:1750156540 AM - INFO - OntoMapST.get_match_results: Results Generated\n",
      "17/06//2025 03:35:1750156540 AM - INFO - OntoMapST.get_match_results: Results Generated\n",
      "17/06//2025 03:35:1750156540 AM - INFO - OntoMapST.get_match_results: Results Generated\n"
     ]
    }
   ],
   "source": [
    "# ST Strategy w/ SapBERT-mean-token\n",
    "other_params = {\"test_or_prod\": \"test\"}\n",
    "onto_engine_large = ome.OntoMapEngine(\n",
    "    method='mt-sap-bert',\n",
    "    topk=5,\n",
    "    query=query_list,\n",
    "    corpus=small_corpus_list,\n",
    "    cura_map=cura_map,\n",
    "    yaml_path='./src/models/method_model.yaml',\n",
    "    om_strategy='st',\n",
    "    **other_params)\n",
    "st_sapbert_result = onto_engine_large.run()"
   ]
  },
  {
   "cell_type": "code",
   "execution_count": 32,
   "id": "1b062590",
   "metadata": {},
   "outputs": [],
   "source": [
    "st_sapbert_result.to_csv(\"st_sapbert_result_trt.csv\", index=False)"
   ]
  },
  {
   "cell_type": "code",
   "execution_count": 33,
   "id": "7ab7ae52",
   "metadata": {},
   "outputs": [
    {
     "name": "stdout",
     "output_type": "stream",
     "text": [
      "  Accuracy Level   Accuracy\n",
      "0    Top 1 Match  73.356401\n",
      "1  Top 3 Matches  79.757785\n",
      "2  Top 5 Matches  81.141869\n"
     ]
    }
   ],
   "source": [
    "st_sapbert_accuracy_df = calc.calc_accuracy(st_sapbert_result)\n",
    "print(st_sapbert_accuracy_df)"
   ]
  },
  {
   "cell_type": "code",
   "execution_count": 34,
   "id": "ade5543c",
   "metadata": {},
   "outputs": [
    {
     "name": "stdout",
     "output_type": "stream",
     "text": [
      "17/06//2025 03:36:1750156562 AM - INFO - OntoMapEngine: Initialized OntoMap Engine module\n",
      "17/06//2025 03:36:1750156562 AM - INFO - OntoMapEngine: Initialized OntoMap Engine module\n",
      "17/06//2025 03:36:1750156562 AM - INFO - OntoMapEngine: Initialized OntoMap Engine module\n",
      "17/06//2025 03:36:1750156562 AM - INFO - OntoMapEngine: Initialized OntoMap Engine module\n",
      "17/06//2025 03:36:1750156562 AM - INFO - OntoMapEngine: Initialized OntoMap Engine module\n",
      "17/06//2025 03:36:1750156562 AM - INFO - OntoMapEngine: Initialized OntoMap Engine module\n",
      "17/06//2025 03:36:1750156562 AM - INFO - OntoMapEngine: Initialized OntoMap Engine module\n",
      "17/06//2025 03:36:1750156562 AM - INFO - OntoMapEngine: Initialized OntoMap Engine module\n",
      "17/06//2025 03:36:1750156562 AM - INFO - OntoMapEngine: Running Ontology Mapping\n",
      "17/06//2025 03:36:1750156562 AM - INFO - OntoMapEngine: Running Ontology Mapping\n",
      "17/06//2025 03:36:1750156562 AM - INFO - OntoMapEngine: Running Ontology Mapping\n",
      "17/06//2025 03:36:1750156562 AM - INFO - OntoMapEngine: Running Ontology Mapping\n",
      "17/06//2025 03:36:1750156562 AM - INFO - OntoMapEngine: Running Ontology Mapping\n",
      "17/06//2025 03:36:1750156562 AM - INFO - OntoMapEngine: Running Ontology Mapping\n",
      "17/06//2025 03:36:1750156562 AM - INFO - OntoMapEngine: Running Ontology Mapping\n",
      "17/06//2025 03:36:1750156562 AM - INFO - OntoMapEngine: Running Ontology Mapping\n",
      "17/06//2025 03:36:1750156562 AM - INFO - OntoMapEngine: Separating exact and non-exact matches\n",
      "17/06//2025 03:36:1750156562 AM - INFO - OntoMapEngine: Separating exact and non-exact matches\n",
      "17/06//2025 03:36:1750156562 AM - INFO - OntoMapEngine: Separating exact and non-exact matches\n",
      "17/06//2025 03:36:1750156562 AM - INFO - OntoMapEngine: Separating exact and non-exact matches\n",
      "17/06//2025 03:36:1750156562 AM - INFO - OntoMapEngine: Separating exact and non-exact matches\n",
      "17/06//2025 03:36:1750156562 AM - INFO - OntoMapEngine: Separating exact and non-exact matches\n",
      "17/06//2025 03:36:1750156562 AM - INFO - OntoMapEngine: Separating exact and non-exact matches\n",
      "17/06//2025 03:36:1750156562 AM - INFO - OntoMapEngine: Separating exact and non-exact matches\n",
      "17/06//2025 03:36:1750156562 AM - INFO - OntoMapEngine: Running OntoMap model for non-exact matches\n",
      "17/06//2025 03:36:1750156562 AM - INFO - OntoMapEngine: Running OntoMap model for non-exact matches\n",
      "17/06//2025 03:36:1750156562 AM - INFO - OntoMapEngine: Running OntoMap model for non-exact matches\n",
      "17/06//2025 03:36:1750156562 AM - INFO - OntoMapEngine: Running OntoMap model for non-exact matches\n",
      "17/06//2025 03:36:1750156562 AM - INFO - OntoMapEngine: Running OntoMap model for non-exact matches\n",
      "17/06//2025 03:36:1750156562 AM - INFO - OntoMapEngine: Running OntoMap model for non-exact matches\n",
      "17/06//2025 03:36:1750156562 AM - INFO - OntoMapEngine: Running OntoMap model for non-exact matches\n",
      "17/06//2025 03:36:1750156562 AM - INFO - OntoMapEngine: Running OntoMap model for non-exact matches\n",
      "17/06//2025 03:36:1750156562 AM - INFO - OntoMapST: Initialized OntoMap Sentence Transformer module\n",
      "17/06//2025 03:36:1750156562 AM - INFO - OntoMapST: Initialized OntoMap Sentence Transformer module\n",
      "17/06//2025 03:36:1750156562 AM - INFO - OntoMapST: Initialized OntoMap Sentence Transformer module\n",
      "17/06//2025 03:36:1750156562 AM - INFO - OntoMapST: Initialized OntoMap Sentence Transformer module\n",
      "17/06//2025 03:36:1750156562 AM - INFO - OntoMapST: Initialized OntoMap Sentence Transformer module\n",
      "17/06//2025 03:36:1750156562 AM - INFO - OntoMapST: Initialized OntoMap Sentence Transformer module\n",
      "17/06//2025 03:36:1750156562 AM - INFO - OntoMapST.get_match_results: Creating embeddings for query_list and corpus\n",
      "17/06//2025 03:36:1750156562 AM - INFO - OntoMapST.get_match_results: Creating embeddings for query_list and corpus\n",
      "17/06//2025 03:36:1750156562 AM - INFO - OntoMapST.get_match_results: Creating embeddings for query_list and corpus\n",
      "17/06//2025 03:36:1750156562 AM - INFO - OntoMapST.get_match_results: Creating embeddings for query_list and corpus\n",
      "17/06//2025 03:36:1750156562 AM - INFO - OntoMapST.get_match_results: Creating embeddings for query_list and corpus\n",
      "17/06//2025 03:36:1750156562 AM - INFO - OntoMapST.get_match_results: Creating embeddings for query_list and corpus\n"
     ]
    },
    {
     "name": "stderr",
     "output_type": "stream",
     "text": [
      "Exception in worker\n",
      "Traceback (most recent call last):\n",
      "  File \"/home/lcc/miniconda3/envs/py310/lib/python3.10/concurrent/futures/thread.py\", line 81, in _worker\n",
      "    work_item = work_queue.get(block=True)\n",
      "  File \"src/gevent/queue.py\", line 381, in gevent._gevent_cqueue.SimpleQueue.get\n",
      "  File \"src/gevent/queue.py\", line 397, in gevent._gevent_cqueue.SimpleQueue.get\n",
      "  File \"src/gevent/queue.py\", line 373, in gevent._gevent_cqueue.SimpleQueue._SimpleQueue__get_or_peek\n",
      "  File \"src/gevent/_waiter.py\", line 154, in gevent._gevent_c_waiter.Waiter.get\n",
      "  File \"src/gevent/_greenlet_primitives.py\", line 65, in gevent._gevent_c_greenlet_primitives.SwitchOutGreenletWithLoop.switch\n",
      "  File \"src/gevent/_gevent_c_greenlet_primitives.pxd\", line 35, in gevent._gevent_c_greenlet_primitives._greenlet_switch\n",
      "gevent.exceptions.LoopExit: This operation would block forever\n",
      "\tHub: <Hub '' at 0x7fe849ddeb10 epoll pending=0 ref=0 fileno=124 thread_ident=0x7fe84a5ff640>\n",
      "\tHandles:\n",
      "[]\n",
      "Exception in worker\n",
      "Traceback (most recent call last):\n",
      "  File \"/home/lcc/miniconda3/envs/py310/lib/python3.10/concurrent/futures/thread.py\", line 81, in _worker\n",
      "    work_item = work_queue.get(block=True)\n",
      "  File \"src/gevent/queue.py\", line 381, in gevent._gevent_cqueue.SimpleQueue.get\n",
      "  File \"src/gevent/queue.py\", line 397, in gevent._gevent_cqueue.SimpleQueue.get\n",
      "  File \"src/gevent/queue.py\", line 373, in gevent._gevent_cqueue.SimpleQueue._SimpleQueue__get_or_peek\n",
      "  File \"src/gevent/_waiter.py\", line 154, in gevent._gevent_c_waiter.Waiter.get\n",
      "  File \"src/gevent/_greenlet_primitives.py\", line 65, in gevent._gevent_c_greenlet_primitives.SwitchOutGreenletWithLoop.switch\n",
      "  File \"src/gevent/_gevent_c_greenlet_primitives.pxd\", line 35, in gevent._gevent_c_greenlet_primitives._greenlet_switch\n",
      "gevent.exceptions.LoopExit: This operation would block forever\n",
      "\tHub: <Hub '' at 0x7fe849c7e610 epoll pending=0 ref=0 fileno=137 thread_ident=0x7fe82ec44640>\n",
      "\tHandles:\n",
      "[]\n"
     ]
    },
    {
     "name": "stdout",
     "output_type": "stream",
     "text": [
      "17/06//2025 03:36:1750156567 AM - INFO - OntoMapST.get_match_results: Calculating cosine similarity matrix\n",
      "17/06//2025 03:36:1750156567 AM - INFO - OntoMapST.get_match_results: Calculating cosine similarity matrix\n",
      "17/06//2025 03:36:1750156567 AM - INFO - OntoMapST.get_match_results: Calculating cosine similarity matrix\n",
      "17/06//2025 03:36:1750156567 AM - INFO - OntoMapST.get_match_results: Calculating cosine similarity matrix\n",
      "17/06//2025 03:36:1750156567 AM - INFO - OntoMapST.get_match_results: Calculating cosine similarity matrix\n",
      "17/06//2025 03:36:1750156567 AM - INFO - OntoMapST.get_match_results: Calculating cosine similarity matrix\n",
      "17/06//2025 03:36:1750156567 AM - INFO - OntoMapST.get_match_results: Generating results table\n",
      "17/06//2025 03:36:1750156567 AM - INFO - OntoMapST.get_match_results: Generating results table\n",
      "17/06//2025 03:36:1750156567 AM - INFO - OntoMapST.get_match_results: Generating results table\n",
      "17/06//2025 03:36:1750156567 AM - INFO - OntoMapST.get_match_results: Generating results table\n",
      "17/06//2025 03:36:1750156567 AM - INFO - OntoMapST.get_match_results: Generating results table\n",
      "17/06//2025 03:36:1750156567 AM - INFO - OntoMapST.get_match_results: Generating results table\n",
      "17/06//2025 03:36:1750156567 AM - INFO - OntoMapST.get_match_results: Results Generated\n",
      "17/06//2025 03:36:1750156567 AM - INFO - OntoMapST.get_match_results: Results Generated\n",
      "17/06//2025 03:36:1750156567 AM - INFO - OntoMapST.get_match_results: Results Generated\n",
      "17/06//2025 03:36:1750156567 AM - INFO - OntoMapST.get_match_results: Results Generated\n",
      "17/06//2025 03:36:1750156567 AM - INFO - OntoMapST.get_match_results: Results Generated\n",
      "17/06//2025 03:36:1750156567 AM - INFO - OntoMapST.get_match_results: Results Generated\n"
     ]
    }
   ],
   "source": [
    "# st - pubmed-bert\n",
    "other_params = {\"test_or_prod\": \"test\"}\n",
    "onto_engine_large = ome.OntoMapEngine(\n",
    "    method='pubmed-bert',\n",
    "    topk=5,\n",
    "    query=query_list,\n",
    "    corpus=small_corpus_list,\n",
    "    cura_map=cura_map,\n",
    "    yaml_path='./src/models/method_model.yaml',\n",
    "    om_strategy='st',\n",
    "    **other_params)\n",
    "\n",
    "st_pubmetbert_result = onto_engine_large.run()"
   ]
  },
  {
   "cell_type": "code",
   "execution_count": 35,
   "id": "fd7b0257",
   "metadata": {},
   "outputs": [
    {
     "name": "stdout",
     "output_type": "stream",
     "text": [
      "  Accuracy Level   Accuracy\n",
      "0    Top 1 Match  67.820069\n",
      "1  Top 3 Matches  71.972318\n",
      "2  Top 5 Matches  73.702422\n"
     ]
    }
   ],
   "source": [
    "# Sentences Transformer Strategy w/ PubMedBERT\n",
    "st_pubmedbert_accuracy_df = calc.calc_accuracy(st_pubmetbert_result)\n",
    "print(st_pubmedbert_accuracy_df)"
   ]
  },
  {
   "cell_type": "code",
   "execution_count": 36,
   "id": "82534e99",
   "metadata": {},
   "outputs": [],
   "source": [
    "st_pubmetbert_result.to_csv(\"st_pubmedbert_result_trt.csv\", index=False)"
   ]
  },
  {
   "cell_type": "code",
   "execution_count": 38,
   "id": "ad5cbe55",
   "metadata": {},
   "outputs": [
    {
     "data": {
      "image/png": "[encoded data removed]",
      "text/plain": [
       "<Figure size 800x500 with 1 Axes>"
      ]
     },
     "metadata": {},
     "output_type": "display_data"
    }
   ],
   "source": [
    "for df, name in [\n",
    "    (lm_sapbert_accuracy_df, (\"SapBERT\", \"LM\")),\n",
    "    (lm_pubmedbert_accuracy_df, (\"PubMedBERT\", \"LM\")),\n",
    "    (st_sapbert_accuracy_df, (\"SapBERT\", \"ST\")),\n",
    "    (st_pubmedbert_accuracy_df, (\"PubMedBERT\", \"ST\")),\n",
    "]:\n",
    "    df[\"Model\"] = name[0]\n",
    "    df[\"Type\"] = name[1]  # LM or ST\n",
    "\n",
    "all_df = pd.concat([\n",
    "    lm_sapbert_accuracy_df,\n",
    "    lm_pubmedbert_accuracy_df,\n",
    "    st_sapbert_accuracy_df,\n",
    "    st_pubmedbert_accuracy_df\n",
    "])\n",
    "\n",
    "plt.figure(figsize=(8, 5))\n",
    "\n",
    "model_palette = {\n",
    "    \"SapBERT\": \"#1f77b4\",      \n",
    "    \"PubMedBERT\": \"#ff7f0e\"    \n",
    "}\n",
    "linestyle_map = {\n",
    "    \"LM\": \"-\",\n",
    "    \"ST\": \"--\"\n",
    "}\n",
    "\n",
    "for (model, typ), subdf in all_df.groupby([\"Model\", \"Type\"]):\n",
    "    plt.plot(\n",
    "        subdf[\"Accuracy Level\"],\n",
    "        subdf[\"Accuracy\"],\n",
    "        label=f\"{typ} + {model}\",\n",
    "        linestyle=linestyle_map[typ],\n",
    "        color=model_palette[model],\n",
    "        marker=\"o\"\n",
    "    )\n",
    "\n",
    "plt.title(\"Top-K Accuracy Comparison\")\n",
    "plt.ylabel(\"Accuracy (%)\")\n",
    "plt.xlabel(\"Top-K Level\")\n",
    "plt.ylim(65, 95)\n",
    "plt.grid(True, linestyle='--', alpha=0.5)\n",
    "plt.legend(title=\"Model Combination\")\n",
    "plt.tight_layout()\n",
    "plt.show()"
   ]
  },
  {
   "cell_type": "markdown",
   "id": "6bcab5b4",
   "metadata": {},
   "source": [
    "RAG"
   ]
  },
  {
   "cell_type": "code",
   "execution_count": 58,
   "id": "6facb7b9",
   "metadata": {},
   "outputs": [
    {
     "name": "stdout",
     "output_type": "stream",
     "text": [
      "17/06//2025 10:11:1750223486 PM - INFO - OntoMapEngine: Initialized OntoMap Engine module\n",
      "17/06//2025 10:11:1750223486 PM - INFO - OntoMapEngine: Initialized OntoMap Engine module\n",
      "17/06//2025 10:11:1750223486 PM - INFO - OntoMapEngine: Initialized OntoMap Engine module\n",
      "17/06//2025 10:11:1750223486 PM - INFO - OntoMapEngine: Initialized OntoMap Engine module\n",
      "17/06//2025 10:11:1750223486 PM - INFO - OntoMapEngine: Initialized OntoMap Engine module\n",
      "17/06//2025 10:11:1750223486 PM - INFO - OntoMapEngine: Initialized OntoMap Engine module\n",
      "17/06//2025 10:11:1750223486 PM - INFO - OntoMapEngine: Initialized OntoMap Engine module\n",
      "17/06//2025 10:11:1750223486 PM - INFO - OntoMapEngine: Initialized OntoMap Engine module\n",
      "17/06//2025 10:11:1750223486 PM - INFO - OntoMapEngine: Initialized OntoMap Engine module\n",
      "17/06//2025 10:11:1750223486 PM - INFO - OntoMapEngine: Initialized OntoMap Engine module\n",
      "17/06//2025 10:11:1750223486 PM - INFO - OntoMapEngine: Initialized OntoMap Engine module\n",
      "17/06//2025 10:11:1750223486 PM - INFO - OntoMapEngine: Initialized OntoMap Engine module\n",
      "17/06//2025 10:11:1750223486 PM - INFO - OntoMapEngine: Initialized OntoMap Engine module\n",
      "17/06//2025 10:11:1750223486 PM - INFO - OntoMapEngine: Initialized OntoMap Engine module\n",
      "17/06//2025 10:11:1750223486 PM - INFO - OntoMapEngine: Running Ontology Mapping\n",
      "17/06//2025 10:11:1750223486 PM - INFO - OntoMapEngine: Running Ontology Mapping\n",
      "17/06//2025 10:11:1750223486 PM - INFO - OntoMapEngine: Running Ontology Mapping\n",
      "17/06//2025 10:11:1750223486 PM - INFO - OntoMapEngine: Running Ontology Mapping\n",
      "17/06//2025 10:11:1750223486 PM - INFO - OntoMapEngine: Running Ontology Mapping\n",
      "17/06//2025 10:11:1750223486 PM - INFO - OntoMapEngine: Running Ontology Mapping\n",
      "17/06//2025 10:11:1750223486 PM - INFO - OntoMapEngine: Running Ontology Mapping\n",
      "17/06//2025 10:11:1750223486 PM - INFO - OntoMapEngine: Running Ontology Mapping\n",
      "17/06//2025 10:11:1750223486 PM - INFO - OntoMapEngine: Running Ontology Mapping\n",
      "17/06//2025 10:11:1750223486 PM - INFO - OntoMapEngine: Running Ontology Mapping\n",
      "17/06//2025 10:11:1750223486 PM - INFO - OntoMapEngine: Running Ontology Mapping\n",
      "17/06//2025 10:11:1750223486 PM - INFO - OntoMapEngine: Running Ontology Mapping\n",
      "17/06//2025 10:11:1750223486 PM - INFO - OntoMapEngine: Running Ontology Mapping\n",
      "17/06//2025 10:11:1750223486 PM - INFO - OntoMapEngine: Running Ontology Mapping\n",
      "17/06//2025 10:11:1750223486 PM - INFO - OntoMapEngine: Separating exact and non-exact matches\n",
      "17/06//2025 10:11:1750223486 PM - INFO - OntoMapEngine: Separating exact and non-exact matches\n",
      "17/06//2025 10:11:1750223486 PM - INFO - OntoMapEngine: Separating exact and non-exact matches\n",
      "17/06//2025 10:11:1750223486 PM - INFO - OntoMapEngine: Separating exact and non-exact matches\n",
      "17/06//2025 10:11:1750223486 PM - INFO - OntoMapEngine: Separating exact and non-exact matches\n",
      "17/06//2025 10:11:1750223486 PM - INFO - OntoMapEngine: Separating exact and non-exact matches\n",
      "17/06//2025 10:11:1750223486 PM - INFO - OntoMapEngine: Separating exact and non-exact matches\n",
      "17/06//2025 10:11:1750223486 PM - INFO - OntoMapEngine: Separating exact and non-exact matches\n",
      "17/06//2025 10:11:1750223486 PM - INFO - OntoMapEngine: Separating exact and non-exact matches\n",
      "17/06//2025 10:11:1750223486 PM - INFO - OntoMapEngine: Separating exact and non-exact matches\n",
      "17/06//2025 10:11:1750223486 PM - INFO - OntoMapEngine: Separating exact and non-exact matches\n",
      "17/06//2025 10:11:1750223486 PM - INFO - OntoMapEngine: Separating exact and non-exact matches\n",
      "17/06//2025 10:11:1750223486 PM - INFO - OntoMapEngine: Separating exact and non-exact matches\n",
      "17/06//2025 10:11:1750223486 PM - INFO - OntoMapEngine: Separating exact and non-exact matches\n",
      "17/06//2025 10:11:1750223486 PM - INFO - OntoMapEngine: Running OntoMap model for non-exact matches\n",
      "17/06//2025 10:11:1750223486 PM - INFO - OntoMapEngine: Running OntoMap model for non-exact matches\n",
      "17/06//2025 10:11:1750223486 PM - INFO - OntoMapEngine: Running OntoMap model for non-exact matches\n",
      "17/06//2025 10:11:1750223486 PM - INFO - OntoMapEngine: Running OntoMap model for non-exact matches\n",
      "17/06//2025 10:11:1750223486 PM - INFO - OntoMapEngine: Running OntoMap model for non-exact matches\n",
      "17/06//2025 10:11:1750223486 PM - INFO - OntoMapEngine: Running OntoMap model for non-exact matches\n",
      "17/06//2025 10:11:1750223486 PM - INFO - OntoMapEngine: Running OntoMap model for non-exact matches\n",
      "17/06//2025 10:11:1750223486 PM - INFO - OntoMapEngine: Running OntoMap model for non-exact matches\n",
      "17/06//2025 10:11:1750223486 PM - INFO - OntoMapEngine: Running OntoMap model for non-exact matches\n",
      "17/06//2025 10:11:1750223486 PM - INFO - OntoMapEngine: Running OntoMap model for non-exact matches\n",
      "17/06//2025 10:11:1750223486 PM - INFO - OntoMapEngine: Running OntoMap model for non-exact matches\n",
      "17/06//2025 10:11:1750223486 PM - INFO - OntoMapEngine: Running OntoMap model for non-exact matches\n",
      "17/06//2025 10:11:1750223486 PM - INFO - OntoMapEngine: Running OntoMap model for non-exact matches\n",
      "17/06//2025 10:11:1750223486 PM - INFO - OntoMapEngine: Running OntoMap model for non-exact matches\n",
      "17/06//2025 10:11:1750223486 PM - INFO - OntoMapRAG: Initialized OntoMapRAG module\n",
      "17/06//2025 10:11:1750223486 PM - INFO - OntoMapRAG: Initialized OntoMapRAG module\n",
      "17/06//2025 10:11:1750223486 PM - INFO - OntoMapRAG: Initialized OntoMapRAG module\n",
      "17/06//2025 10:11:1750223486 PM - INFO - OntoMapRAG: Initialized OntoMapRAG module\n",
      "17/06//2025 10:11:1750223486 PM - INFO - OntoMapRAG: Initialized OntoMapRAG module\n",
      "17/06//2025 10:11:1750223486 PM - INFO - OntoMapRAG: Initialized OntoMapRAG module\n",
      "17/06//2025 10:11:1750223486 PM - INFO - OntoMapRAG: Initialized OntoMapRAG module\n",
      "17/06//2025 10:11:1750223486 PM - INFO - OntoMapRAG: Initialized OntoMapRAG module\n",
      "17/06//2025 10:11:1750223486 PM - INFO - OntoMapRAG: Initialized OntoMapRAG module\n",
      "17/06//2025 10:11:1750223486 PM - INFO - OntoMapRAG: Initialized OntoMapRAG module\n",
      "17/06//2025 10:11:1750223486 PM - INFO - OntoMapRAG: Initialized OntoMapRAG module\n",
      "17/06//2025 10:11:1750223486 PM - INFO - OntoMapRAG: Initialized OntoMapRAG module\n",
      "17/06//2025 10:11:1750223486 PM - INFO - OntoMapRAG: Initialized OntoMapRAG module\n",
      "17/06//2025 10:11:1750223486 PM - INFO - OntoMapRAG: Initialized OntoMapRAG module\n",
      "17/06//2025 10:11:1750223486 PM - INFO - OntoMapRAG: Generating results table\n",
      "17/06//2025 10:11:1750223486 PM - INFO - OntoMapRAG: Generating results table\n",
      "17/06//2025 10:11:1750223486 PM - INFO - OntoMapRAG: Generating results table\n",
      "17/06//2025 10:11:1750223486 PM - INFO - OntoMapRAG: Generating results table\n",
      "17/06//2025 10:11:1750223486 PM - INFO - OntoMapRAG: Generating results table\n",
      "17/06//2025 10:11:1750223486 PM - INFO - OntoMapRAG: Generating results table\n",
      "17/06//2025 10:11:1750223486 PM - INFO - OntoMapRAG: Generating results table\n",
      "17/06//2025 10:11:1750223486 PM - INFO - OntoMapRAG: Generating results table\n",
      "17/06//2025 10:11:1750223486 PM - INFO - OntoMapRAG: Generating results table\n",
      "17/06//2025 10:11:1750223486 PM - INFO - OntoMapRAG: Generating results table\n",
      "17/06//2025 10:11:1750223486 PM - INFO - OntoMapRAG: Generating results table\n",
      "17/06//2025 10:11:1750223486 PM - INFO - OntoMapRAG: Generating results table\n",
      "17/06//2025 10:11:1750223486 PM - INFO - OntoMapRAG: Generating results table\n",
      "17/06//2025 10:11:1750223486 PM - INFO - OntoMapRAG: Generating results table\n"
     ]
    },
    {
     "name": "stderr",
     "output_type": "stream",
     "text": [
      "Processing queries: 100%|██████████| 436/436 [00:05<00:00, 75.87it/s]\n"
     ]
    },
    {
     "name": "stdout",
     "output_type": "stream",
     "text": [
      "17/06//2025 10:11:1750223492 PM - INFO - OntoMapRAG: Results Generated\n",
      "17/06//2025 10:11:1750223492 PM - INFO - OntoMapRAG: Results Generated\n",
      "17/06//2025 10:11:1750223492 PM - INFO - OntoMapRAG: Results Generated\n",
      "17/06//2025 10:11:1750223492 PM - INFO - OntoMapRAG: Results Generated\n",
      "17/06//2025 10:11:1750223492 PM - INFO - OntoMapRAG: Results Generated\n",
      "17/06//2025 10:11:1750223492 PM - INFO - OntoMapRAG: Results Generated\n",
      "17/06//2025 10:11:1750223492 PM - INFO - OntoMapRAG: Results Generated\n",
      "17/06//2025 10:11:1750223492 PM - INFO - OntoMapRAG: Results Generated\n",
      "17/06//2025 10:11:1750223492 PM - INFO - OntoMapRAG: Results Generated\n",
      "17/06//2025 10:11:1750223492 PM - INFO - OntoMapRAG: Results Generated\n",
      "17/06//2025 10:11:1750223492 PM - INFO - OntoMapRAG: Results Generated\n",
      "17/06//2025 10:11:1750223492 PM - INFO - OntoMapRAG: Results Generated\n",
      "17/06//2025 10:11:1750223492 PM - INFO - OntoMapRAG: Results Generated\n",
      "17/06//2025 10:11:1750223492 PM - INFO - OntoMapRAG: Results Generated\n"
     ]
    }
   ],
   "source": [
    "# RAG Strategy w/ SapBERT\n",
    "rag_engine = ome.OntoMapEngine(method='mt-sap-bert',\n",
    "                               topk=5,\n",
    "                               query=query_list,\n",
    "                               corpus=small_corpus_list,\n",
    "                               cura_map=cura_map,\n",
    "                               yaml_path='./src/models/method_model.yaml',\n",
    "                               om_strategy='rag',\n",
    "                               test_or_prod='test')\n",
    "rag_sapbert_result = rag_engine.run()"
   ]
  },
  {
   "cell_type": "code",
   "execution_count": 24,
   "id": "3c1d3a7b",
   "metadata": {},
   "outputs": [],
   "source": [
    "rag_sapbert_result.to_csv(\"rag_sapbert_result_trt.csv\",\n",
    "                  index=False)"
   ]
  },
  {
   "cell_type": "code",
   "execution_count": 59,
   "id": "11cef71b",
   "metadata": {},
   "outputs": [
    {
     "name": "stdout",
     "output_type": "stream",
     "text": [
      "  Accuracy Level   Accuracy\n",
      "0    Top 1 Match  66.435986\n",
      "1  Top 3 Matches  79.065744\n",
      "2  Top 5 Matches  82.352941\n"
     ]
    }
   ],
   "source": [
    "# RAG Strategy w/ SapBERT\n",
    "rag_sapbert_accuracy_df = calc.calc_accuracy(rag_sapbert_result)\n",
    "print(rag_sapbert_accuracy_df)"
   ]
  },
  {
   "cell_type": "code",
   "execution_count": 70,
   "id": "f2b577fc",
   "metadata": {},
   "outputs": [
    {
     "name": "stdout",
     "output_type": "stream",
     "text": [
      "17/06//2025 10:27:1750224458 PM - INFO - OntoMapEngine: Initialized OntoMap Engine module\n",
      "17/06//2025 10:27:1750224458 PM - INFO - OntoMapEngine: Initialized OntoMap Engine module\n",
      "17/06//2025 10:27:1750224458 PM - INFO - OntoMapEngine: Initialized OntoMap Engine module\n",
      "17/06//2025 10:27:1750224458 PM - INFO - OntoMapEngine: Initialized OntoMap Engine module\n",
      "17/06//2025 10:27:1750224458 PM - INFO - OntoMapEngine: Initialized OntoMap Engine module\n",
      "17/06//2025 10:27:1750224458 PM - INFO - OntoMapEngine: Initialized OntoMap Engine module\n",
      "17/06//2025 10:27:1750224458 PM - INFO - OntoMapEngine: Initialized OntoMap Engine module\n",
      "17/06//2025 10:27:1750224458 PM - INFO - OntoMapEngine: Initialized OntoMap Engine module\n",
      "17/06//2025 10:27:1750224458 PM - INFO - OntoMapEngine: Initialized OntoMap Engine module\n",
      "17/06//2025 10:27:1750224458 PM - INFO - OntoMapEngine: Initialized OntoMap Engine module\n"
     ]
    },
    {
     "name": "stdout",
     "output_type": "stream",
     "text": [
      "17/06//2025 10:27:1750224458 PM - INFO - OntoMapEngine: Initialized OntoMap Engine module\n",
      "17/06//2025 10:27:1750224458 PM - INFO - OntoMapEngine: Initialized OntoMap Engine module\n",
      "17/06//2025 10:27:1750224458 PM - INFO - OntoMapEngine: Initialized OntoMap Engine module\n",
      "17/06//2025 10:27:1750224458 PM - INFO - OntoMapEngine: Initialized OntoMap Engine module\n",
      "17/06//2025 10:27:1750224458 PM - INFO - OntoMapEngine: Initialized OntoMap Engine module\n",
      "17/06//2025 10:27:1750224458 PM - INFO - OntoMapEngine: Initialized OntoMap Engine module\n",
      "17/06//2025 10:27:1750224458 PM - INFO - OntoMapEngine: Initialized OntoMap Engine module\n",
      "17/06//2025 10:27:1750224458 PM - INFO - OntoMapEngine: Initialized OntoMap Engine module\n",
      "17/06//2025 10:27:1750224458 PM - INFO - OntoMapEngine: Running Ontology Mapping\n",
      "17/06//2025 10:27:1750224458 PM - INFO - OntoMapEngine: Running Ontology Mapping\n",
      "17/06//2025 10:27:1750224458 PM - INFO - OntoMapEngine: Running Ontology Mapping\n",
      "17/06//2025 10:27:1750224458 PM - INFO - OntoMapEngine: Running Ontology Mapping\n",
      "17/06//2025 10:27:1750224458 PM - INFO - OntoMapEngine: Running Ontology Mapping\n",
      "17/06//2025 10:27:1750224458 PM - INFO - OntoMapEngine: Running Ontology Mapping\n",
      "17/06//2025 10:27:1750224458 PM - INFO - OntoMapEngine: Running Ontology Mapping\n",
      "17/06//2025 10:27:1750224458 PM - INFO - OntoMapEngine: Running Ontology Mapping\n",
      "17/06//2025 10:27:1750224458 PM - INFO - OntoMapEngine: Running Ontology Mapping\n",
      "17/06//2025 10:27:1750224458 PM - INFO - OntoMapEngine: Running Ontology Mapping\n",
      "17/06//2025 10:27:1750224458 PM - INFO - OntoMapEngine: Running Ontology Mapping\n",
      "17/06//2025 10:27:1750224458 PM - INFO - OntoMapEngine: Running Ontology Mapping\n",
      "17/06//2025 10:27:1750224458 PM - INFO - OntoMapEngine: Running Ontology Mapping\n",
      "17/06//2025 10:27:1750224458 PM - INFO - OntoMapEngine: Running Ontology Mapping\n",
      "17/06//2025 10:27:1750224458 PM - INFO - OntoMapEngine: Running Ontology Mapping\n",
      "17/06//2025 10:27:1750224458 PM - INFO - OntoMapEngine: Running Ontology Mapping\n",
      "17/06//2025 10:27:1750224458 PM - INFO - OntoMapEngine: Running Ontology Mapping\n",
      "17/06//2025 10:27:1750224458 PM - INFO - OntoMapEngine: Running Ontology Mapping\n",
      "17/06//2025 10:27:1750224458 PM - INFO - OntoMapEngine: Separating exact and non-exact matches\n",
      "17/06//2025 10:27:1750224458 PM - INFO - OntoMapEngine: Separating exact and non-exact matches\n",
      "17/06//2025 10:27:1750224458 PM - INFO - OntoMapEngine: Separating exact and non-exact matches\n",
      "17/06//2025 10:27:1750224458 PM - INFO - OntoMapEngine: Separating exact and non-exact matches\n",
      "17/06//2025 10:27:1750224458 PM - INFO - OntoMapEngine: Separating exact and non-exact matches\n",
      "17/06//2025 10:27:1750224458 PM - INFO - OntoMapEngine: Separating exact and non-exact matches\n",
      "17/06//2025 10:27:1750224458 PM - INFO - OntoMapEngine: Separating exact and non-exact matches\n",
      "17/06//2025 10:27:1750224458 PM - INFO - OntoMapEngine: Separating exact and non-exact matches\n",
      "17/06//2025 10:27:1750224458 PM - INFO - OntoMapEngine: Separating exact and non-exact matches\n",
      "17/06//2025 10:27:1750224458 PM - INFO - OntoMapEngine: Separating exact and non-exact matches\n",
      "17/06//2025 10:27:1750224458 PM - INFO - OntoMapEngine: Separating exact and non-exact matches\n",
      "17/06//2025 10:27:1750224458 PM - INFO - OntoMapEngine: Separating exact and non-exact matches\n",
      "17/06//2025 10:27:1750224458 PM - INFO - OntoMapEngine: Separating exact and non-exact matches\n",
      "17/06//2025 10:27:1750224458 PM - INFO - OntoMapEngine: Separating exact and non-exact matches\n",
      "17/06//2025 10:27:1750224458 PM - INFO - OntoMapEngine: Separating exact and non-exact matches\n",
      "17/06//2025 10:27:1750224458 PM - INFO - OntoMapEngine: Separating exact and non-exact matches\n",
      "17/06//2025 10:27:1750224458 PM - INFO - OntoMapEngine: Separating exact and non-exact matches\n",
      "17/06//2025 10:27:1750224458 PM - INFO - OntoMapEngine: Separating exact and non-exact matches\n",
      "17/06//2025 10:27:1750224458 PM - INFO - OntoMapEngine: Running OntoMap model for non-exact matches\n",
      "17/06//2025 10:27:1750224458 PM - INFO - OntoMapEngine: Running OntoMap model for non-exact matches\n",
      "17/06//2025 10:27:1750224458 PM - INFO - OntoMapEngine: Running OntoMap model for non-exact matches\n",
      "17/06//2025 10:27:1750224458 PM - INFO - OntoMapEngine: Running OntoMap model for non-exact matches\n",
      "17/06//2025 10:27:1750224458 PM - INFO - OntoMapEngine: Running OntoMap model for non-exact matches\n",
      "17/06//2025 10:27:1750224458 PM - INFO - OntoMapEngine: Running OntoMap model for non-exact matches\n",
      "17/06//2025 10:27:1750224458 PM - INFO - OntoMapEngine: Running OntoMap model for non-exact matches\n",
      "17/06//2025 10:27:1750224458 PM - INFO - OntoMapEngine: Running OntoMap model for non-exact matches\n",
      "17/06//2025 10:27:1750224458 PM - INFO - OntoMapEngine: Running OntoMap model for non-exact matches\n",
      "17/06//2025 10:27:1750224458 PM - INFO - OntoMapEngine: Running OntoMap model for non-exact matches\n",
      "17/06//2025 10:27:1750224458 PM - INFO - OntoMapEngine: Running OntoMap model for non-exact matches\n",
      "17/06//2025 10:27:1750224458 PM - INFO - OntoMapEngine: Running OntoMap model for non-exact matches\n",
      "17/06//2025 10:27:1750224458 PM - INFO - OntoMapEngine: Running OntoMap model for non-exact matches\n",
      "17/06//2025 10:27:1750224458 PM - INFO - OntoMapEngine: Running OntoMap model for non-exact matches\n",
      "17/06//2025 10:27:1750224458 PM - INFO - OntoMapEngine: Running OntoMap model for non-exact matches\n",
      "17/06//2025 10:27:1750224458 PM - INFO - OntoMapEngine: Running OntoMap model for non-exact matches\n",
      "17/06//2025 10:27:1750224458 PM - INFO - OntoMapEngine: Running OntoMap model for non-exact matches\n",
      "17/06//2025 10:27:1750224458 PM - INFO - OntoMapEngine: Running OntoMap model for non-exact matches\n",
      "17/06//2025 10:27:1750224459 PM - INFO - OntoMapRAG: Initialized OntoMapRAG module\n",
      "17/06//2025 10:27:1750224459 PM - INFO - OntoMapRAG: Initialized OntoMapRAG module\n",
      "17/06//2025 10:27:1750224459 PM - INFO - OntoMapRAG: Initialized OntoMapRAG module\n",
      "17/06//2025 10:27:1750224459 PM - INFO - OntoMapRAG: Initialized OntoMapRAG module\n",
      "17/06//2025 10:27:1750224459 PM - INFO - OntoMapRAG: Initialized OntoMapRAG module\n",
      "17/06//2025 10:27:1750224459 PM - INFO - OntoMapRAG: Initialized OntoMapRAG module\n",
      "17/06//2025 10:27:1750224459 PM - INFO - OntoMapRAG: Initialized OntoMapRAG module\n",
      "17/06//2025 10:27:1750224459 PM - INFO - OntoMapRAG: Initialized OntoMapRAG module\n",
      "17/06//2025 10:27:1750224459 PM - INFO - OntoMapRAG: Initialized OntoMapRAG module\n",
      "17/06//2025 10:27:1750224459 PM - INFO - OntoMapRAG: Initialized OntoMapRAG module\n",
      "17/06//2025 10:27:1750224459 PM - INFO - OntoMapRAG: Initialized OntoMapRAG module\n",
      "17/06//2025 10:27:1750224459 PM - INFO - OntoMapRAG: Initialized OntoMapRAG module\n",
      "17/06//2025 10:27:1750224459 PM - INFO - OntoMapRAG: Initialized OntoMapRAG module\n",
      "17/06//2025 10:27:1750224459 PM - INFO - OntoMapRAG: Initialized OntoMapRAG module\n",
      "17/06//2025 10:27:1750224459 PM - INFO - OntoMapRAG: Initialized OntoMapRAG module\n",
      "17/06//2025 10:27:1750224459 PM - INFO - OntoMapRAG: Initialized OntoMapRAG module\n",
      "17/06//2025 10:27:1750224459 PM - INFO - OntoMapRAG: Initialized OntoMapRAG module\n",
      "17/06//2025 10:27:1750224459 PM - INFO - OntoMapRAG: Initialized OntoMapRAG module\n",
      "17/06//2025 10:27:1750224459 PM - INFO - OntoMapRAG: Generating results table\n",
      "17/06//2025 10:27:1750224459 PM - INFO - OntoMapRAG: Generating results table\n",
      "17/06//2025 10:27:1750224459 PM - INFO - OntoMapRAG: Generating results table\n",
      "17/06//2025 10:27:1750224459 PM - INFO - OntoMapRAG: Generating results table\n",
      "17/06//2025 10:27:1750224459 PM - INFO - OntoMapRAG: Generating results table\n",
      "17/06//2025 10:27:1750224459 PM - INFO - OntoMapRAG: Generating results table\n",
      "17/06//2025 10:27:1750224459 PM - INFO - OntoMapRAG: Generating results table\n",
      "17/06//2025 10:27:1750224459 PM - INFO - OntoMapRAG: Generating results table\n",
      "17/06//2025 10:27:1750224459 PM - INFO - OntoMapRAG: Generating results table\n",
      "17/06//2025 10:27:1750224459 PM - INFO - OntoMapRAG: Generating results table\n",
      "17/06//2025 10:27:1750224459 PM - INFO - OntoMapRAG: Generating results table\n",
      "17/06//2025 10:27:1750224459 PM - INFO - OntoMapRAG: Generating results table\n",
      "17/06//2025 10:27:1750224459 PM - INFO - OntoMapRAG: Generating results table\n",
      "17/06//2025 10:27:1750224459 PM - INFO - OntoMapRAG: Generating results table\n",
      "17/06//2025 10:27:1750224459 PM - INFO - OntoMapRAG: Generating results table\n",
      "17/06//2025 10:27:1750224459 PM - INFO - OntoMapRAG: Generating results table\n",
      "17/06//2025 10:27:1750224459 PM - INFO - OntoMapRAG: Generating results table\n",
      "17/06//2025 10:27:1750224459 PM - INFO - OntoMapRAG: Generating results table\n"
     ]
    },
    {
     "name": "stderr",
     "output_type": "stream",
     "text": [
      "Processing queries: 100%|██████████| 436/436 [00:05<00:00, 73.72it/s]"
     ]
    },
    {
     "name": "stdout",
     "output_type": "stream",
     "text": [
      "17/06//2025 10:27:1750224464 PM - INFO - OntoMapRAG: Results Generated\n",
      "17/06//2025 10:27:1750224464 PM - INFO - OntoMapRAG: Results Generated\n",
      "17/06//2025 10:27:1750224464 PM - INFO - OntoMapRAG: Results Generated\n",
      "17/06//2025 10:27:1750224464 PM - INFO - OntoMapRAG: Results Generated\n",
      "17/06//2025 10:27:1750224464 PM - INFO - OntoMapRAG: Results Generated\n",
      "17/06//2025 10:27:1750224464 PM - INFO - OntoMapRAG: Results Generated\n",
      "17/06//2025 10:27:1750224464 PM - INFO - OntoMapRAG: Results Generated\n",
      "17/06//2025 10:27:1750224464 PM - INFO - OntoMapRAG: Results Generated\n",
      "17/06//2025 10:27:1750224464 PM - INFO - OntoMapRAG: Results Generated\n",
      "17/06//2025 10:27:1750224464 PM - INFO - OntoMapRAG: Results Generated\n",
      "17/06//2025 10:27:1750224464 PM - INFO - OntoMapRAG: Results Generated\n",
      "17/06//2025 10:27:1750224464 PM - INFO - OntoMapRAG: Results Generated\n",
      "17/06//2025 10:27:1750224464 PM - INFO - OntoMapRAG: Results Generated\n",
      "17/06//2025 10:27:1750224464 PM - INFO - OntoMapRAG: Results Generated\n",
      "17/06//2025 10:27:1750224464 PM - INFO - OntoMapRAG: Results Generated\n",
      "17/06//2025 10:27:1750224464 PM - INFO - OntoMapRAG: Results Generated\n",
      "17/06//2025 10:27:1750224464 PM - INFO - OntoMapRAG: Results Generated\n",
      "17/06//2025 10:27:1750224464 PM - INFO - OntoMapRAG: Results Generated\n"
     ]
    },
    {
     "name": "stderr",
     "output_type": "stream",
     "text": [
      "\n"
     ]
    }
   ],
   "source": [
    "# RAG Strategy w/ pubmed-bert\n",
    "rag_engine = ome.OntoMapEngine(method='pubmed-bert',\n",
    "                               topk=5,\n",
    "                               query=query_list,\n",
    "                               corpus=small_corpus_list,\n",
    "                               cura_map=cura_map,\n",
    "                               yaml_path='./src/models/method_model.yaml',\n",
    "                               om_strategy='rag',\n",
    "                               test_or_prod='test')\n",
    "rag_pubmed_result = rag_engine.run()"
   ]
  },
  {
   "cell_type": "code",
   "execution_count": 72,
   "id": "355e90ba",
   "metadata": {},
   "outputs": [],
   "source": [
    "rag_pubmed_result.to_csv(\"rag_pubmed_result_trt.csv\",\n",
    "                         index=False)"
   ]
  },
  {
   "cell_type": "code",
   "execution_count": 71,
   "id": "dc7586ac",
   "metadata": {},
   "outputs": [
    {
     "name": "stdout",
     "output_type": "stream",
     "text": [
      "  Accuracy Level   Accuracy\n",
      "0    Top 1 Match  71.799308\n",
      "1  Top 3 Matches  81.141869\n",
      "2  Top 5 Matches  83.910035\n"
     ]
    }
   ],
   "source": [
    "# RAG Strategy w/ pubmed-bert\n",
    "rag_pubmed_accuracy_df = calc.calc_accuracy(rag_pubmed_result)\n",
    "print(rag_pubmed_accuracy_df)"
   ]
  },
  {
   "cell_type": "markdown",
   "id": "4deecbd2",
   "metadata": {},
   "source": [
    "Comparison"
   ]
  },
  {
   "cell_type": "code",
   "execution_count": 3,
   "id": "51927832",
   "metadata": {},
   "outputs": [
    {
     "data": {
      "image/png": "[encoded data removed]",
      "text/plain": [
       "<Figure size 800x600 with 1 Axes>"
      ]
     },
     "metadata": {},
     "output_type": "display_data"
    }
   ],
   "source": [
    "import pandas as pd\n",
    "import matplotlib.pyplot as plt\n",
    "\n",
    "file_path = r\"data/outputs/Comparison.xlsx\"\n",
    "df = pd.read_excel(file_path)\n",
    "\n",
    "df[\"model\"] = df[\"model\"].str.replace(\"–\", \"-\", regex=False)  # en dash\n",
    "df[\"model\"] = df[\"model\"].str.replace(\"‑\", \"-\",\n",
    "                                      regex=False)  # non-breaking hyphen\n",
    "\n",
    "categories = df[\"category\"].unique()\n",
    "topks = [\"Top 1\", \"Top 3\", \"Top 5\"]\n",
    "colors = {\"bodysite\": \"blue\", \"disease\": \"orange\", \"treatment\": \"green\"}\n",
    "linestyles = {\"SapBERT\": \"solid\", \"PubMedBERT-MS-MARCO\": \"dashed\"}\n",
    "\n",
    "plt.figure(figsize=(8, 6))\n",
    "\n",
    "for cat in categories:\n",
    "    df_sapbert = df[(df[\"category\"] == cat) & (df[\"model\"] == \"SapBERT\")]\n",
    "    if not df_sapbert.empty:\n",
    "        mean_accuracy = df_sapbert[topks].mean()\n",
    "        label = f\"{cat.capitalize()} - SapBERT\"\n",
    "        plt.plot(topks,\n",
    "                 mean_accuracy,\n",
    "                 label=label,\n",
    "                 color=colors[cat],\n",
    "                 linestyle=linestyles[\"SapBERT\"])\n",
    "\n",
    "    df_pubmed_mean = df[(df[\"category\"] == cat)\n",
    "                        & (df[\"model\"] == \"PubMedBERT-MS-MARCO\") &\n",
    "                        (df[\"pooling strategy\"] == \"lm\")]\n",
    "    if not df_pubmed_mean.empty:\n",
    "        mean_accuracy = df_pubmed_mean[topks].mean()\n",
    "        label = f\"{cat.capitalize()} - PubMedBERT\"\n",
    "        plt.plot(topks,\n",
    "                 mean_accuracy,\n",
    "                 label=label,\n",
    "                 color=colors[cat],\n",
    "                 linestyle=linestyles[\"PubMedBERT-MS-MARCO\"])\n",
    "\n",
    "plt.title(\"Accuracy Comparison between SapBERT and PubMedBERT\")\n",
    "plt.xlabel(\"Top K Match\")\n",
    "plt.ylabel(\"Accuracy (%)\")\n",
    "plt.ylim(60, 100)\n",
    "plt.grid(True)\n",
    "plt.legend(title=\"Model\")\n",
    "plt.tight_layout()\n",
    "plt.show()"
   ]
  },
  {
   "cell_type": "code",
   "execution_count": 25,
   "id": "aea964bd",
   "metadata": {},
   "outputs": [
    {
     "name": "stderr",
     "output_type": "stream",
     "text": [
      "huggingface/tokenizers: The current process just got forked, after parallelism has already been used. Disabling parallelism to avoid deadlocks...\n",
      "To disable this warning, you can either:\n",
      "\t- Avoid using `tokenizers` before the fork if possible\n",
      "\t- Explicitly set the environment variable TOKENIZERS_PARALLELISM=(true | false)\n"
     ]
    },
    {
     "name": "stdout",
     "output_type": "stream",
     "text": [
      "[{\"code\":\"R100\",\"name\":\"Disease_Has_Associated_Anatomic_Site\",\"terminology\":\"ncit\",\"version\":\"25.05d\"},{\"code\":\"R101\",\"name\":\"Disease_Has_Primary_Anatomic_Site\",\"terminology\":\"ncit\",\"version\":\"25.05d\"},{\"code\":\"R102\",\"name\":\"Disease_Has_Metastatic_Anatomic_Site\",\"terminology\":\"ncit\",\"version\":\"25.05d\"},{\"code\":\"R103\",\"name\":\"Disease_Has_Normal_Tissue_Origin\",\"terminology\":\"ncit\",\"version\":\"25.05d\"},{\"code\":\"R104\",\"name\":\"Disease_Has_Normal_Cell_Origin\",\"terminology\":\"ncit\",\"version\":\"25.05d\"},{\"code\":\"R105\",\"name\":\"Disease_Has_Abnormal_Cell\",\"terminology\":\"ncit\",\"version\":\"25.05d\"},{\"code\":\"R106\",\"name\":\"Disease_Has_Molecular_Abnormality\",\"terminology\":\"ncit\",\"version\":\"25.05d\"},{\"code\":\"R107\",\"name\":\"Disease_Has_Cytogenetic_Abnormality\",\"terminology\":\"ncit\",\"version\":\"25.05d\"},{\"code\":\"R108\",\"name\":\"Disease_Has_Finding\",\"terminology\":\"ncit\",\"version\":\"25.05d\"},{\"code\":\"R110\",\"name\":\"Disease_Is_Grade\",\"terminology\":\"ncit\",\"version\":\"25.05d\"},{\"code\":\"R111\",\"name\":\"Disease_May_Have_Normal_Tissue_Origin\",\"terminology\":\"ncit\",\"version\":\"25.05d\"},{\"code\":\"R112\",\"name\":\"Disease_May_Have_Normal_Cell_Origin\",\"terminology\":\"ncit\",\"version\":\"25.05d\"},{\"code\":\"R113\",\"name\":\"Disease_May_Have_Abnormal_Cell\",\"terminology\":\"ncit\",\"version\":\"25.05d\"},{\"code\":\"R114\",\"name\":\"Disease_May_Have_Cytogenetic_Abnormality\",\"terminology\":\"ncit\",\"version\":\"25.05d\"},{\"code\":\"R115\",\"name\":\"Disease_May_Have_Finding\",\"terminology\":\"ncit\",\"version\":\"25.05d\"},{\"code\":\"R116\",\"name\":\"Disease_May_Have_Associated_Disease\",\"terminology\":\"ncit\",\"version\":\"25.05d\"},{\"code\":\"R122\",\"name\":\"Chemical_Or_Drug_Is_Metabolized_By_Enzyme\",\"terminology\":\"ncit\",\"version\":\"25.05d\"},{\"code\":\"R123\",\"name\":\"Chemotherapy_Regimen_Has_Component\",\"terminology\":\"ncit\",\"version\":\"25.05d\"},{\"code\":\"R124\",\"name\":\"Chemical_Or_Drug_Has_Mechanism_Of_Action\",\"terminology\":\"ncit\",\"version\":\"25.05d\"},{\"code\":\"R125\",\"name\":\"Chemical_Or_Drug_Has_Physiologic_Effect\",\"terminology\":\"ncit\",\"version\":\"25.05d\"},{\"code\":\"R126\",\"name\":\"Disease_Has_Associated_Disease\",\"terminology\":\"ncit\",\"version\":\"25.05d\"},{\"code\":\"R130\",\"name\":\"Gene_Is_Element_In_Pathway\",\"terminology\":\"ncit\",\"version\":\"25.05d\"},{\"code\":\"R131\",\"name\":\"Gene_Product_Is_Element_In_Pathway\",\"terminology\":\"ncit\",\"version\":\"25.05d\"},{\"code\":\"R132\",\"name\":\"Gene_Has_Abnormality\",\"terminology\":\"ncit\",\"version\":\"25.05d\"},{\"code\":\"R133\",\"name\":\"Gene_Product_Has_Abnormality\",\"terminology\":\"ncit\",\"version\":\"25.05d\"},{\"code\":\"R135\",\"name\":\"Disease_Excludes_Primary_Anatomic_Site\",\"terminology\":\"ncit\",\"version\":\"25.05d\"},{\"code\":\"R136\",\"name\":\"Disease_Excludes_Metastatic_Anatomic_Site\",\"terminology\":\"ncit\",\"version\":\"25.05d\"},{\"code\":\"R137\",\"name\":\"Disease_Excludes_Normal_Tissue_Origin\",\"terminology\":\"ncit\",\"version\":\"25.05d\"},{\"code\":\"R138\",\"name\":\"Disease_Excludes_Normal_Cell_Origin\",\"terminology\":\"ncit\",\"version\":\"25.05d\"},{\"code\":\"R139\",\"name\":\"Disease_Excludes_Abnormal_Cell\",\"terminology\":\"ncit\",\"version\":\"25.05d\"},{\"code\":\"R140\",\"name\":\"Disease_Excludes_Molecular_Abnormality\",\"terminology\":\"ncit\",\"version\":\"25.05d\"},{\"code\":\"R141\",\"name\":\"Disease_Excludes_Cytogenetic_Abnormality\",\"terminology\":\"ncit\",\"version\":\"25.05d\"},{\"code\":\"R142\",\"name\":\"Disease_Excludes_Finding\",\"terminology\":\"ncit\",\"version\":\"25.05d\"},{\"code\":\"R145\",\"name\":\"Gene_Has_Physical_Location\",\"terminology\":\"ncit\",\"version\":\"25.05d\"},{\"code\":\"R146\",\"name\":\"Chemical_Or_Drug_Affects_Gene_Product\",\"terminology\":\"ncit\",\"version\":\"25.05d\"},{\"code\":\"R150\",\"name\":\"Chemical_Or_Drug_Affects_Abnormal_Cell\",\"terminology\":\"ncit\",\"version\":\"25.05d\"},{\"code\":\"R153\",\"name\":\"Allele_Has_Abnormality\",\"terminology\":\"ncit\",\"version\":\"25.05d\"},{\"code\":\"R155\",\"name\":\"Allele_In_Chromosomal_Location\",\"terminology\":\"ncit\",\"version\":\"25.05d\"},{\"code\":\"R40\",\"name\":\"Gene_In_Chromosomal_Location\",\"terminology\":\"ncit\",\"version\":\"25.05d\"},{\"code\":\"R156\",\"name\":\"Allele_Absent_From_Wild-type_Chromosomal_Location\",\"terminology\":\"ncit\",\"version\":\"25.05d\"},{\"code\":\"R158\",\"name\":\"Allele_Plays_Altered_Role_In_Process\",\"terminology\":\"ncit\",\"version\":\"25.05d\"},{\"code\":\"R37\",\"name\":\"Gene_Plays_Role_In_Process\",\"terminology\":\"ncit\",\"version\":\"25.05d\"},{\"code\":\"R159\",\"name\":\"Allele_Has_Activity\",\"terminology\":\"ncit\",\"version\":\"25.05d\"},{\"code\":\"R160\",\"name\":\"Allele_Plays_Role_In_Metabolism_Of_Chemical_Or_Drug\",\"terminology\":\"ncit\",\"version\":\"25.05d\"},{\"code\":\"R163\",\"name\":\"Procedure_Has_Target_Anatomy\",\"terminology\":\"ncit\",\"version\":\"25.05d\"},{\"code\":\"R165\",\"name\":\"Procedure_Has_Imaged_Anatomy\",\"terminology\":\"ncit\",\"version\":\"25.05d\"},{\"code\":\"R166\",\"name\":\"Procedure_May_Have_Excised_Anatomy\",\"terminology\":\"ncit\",\"version\":\"25.05d\"},{\"code\":\"R167\",\"name\":\"Procedure_Has_Excised_Anatomy\",\"terminology\":\"ncit\",\"version\":\"25.05d\"},{\"code\":\"R168\",\"name\":\"Procedure_May_Have_Partially_Excised_Anatomy\",\"terminology\":\"ncit\",\"version\":\"25.05d\"},{\"code\":\"R169\",\"name\":\"Procedure_Has_Partially_Excised_Anatomy\",\"terminology\":\"ncit\",\"version\":\"25.05d\"},{\"code\":\"R170\",\"name\":\"Procedure_May_Have_Completely_Excised_Anatomy\",\"terminology\":\"ncit\",\"version\":\"25.05d\"},{\"code\":\"R171\",\"name\":\"Procedure_Has_Completely_Excised_Anatomy\",\"terminology\":\"ncit\",\"version\":\"25.05d\"},{\"code\":\"R172\",\"name\":\"Regimen_Has_Accepted_Use_For_Disease\",\"terminology\":\"ncit\",\"version\":\"25.05d\"},{\"code\":\"R173\",\"name\":\"Cytogenetic_Abnormality_Involves_Chromosome\",\"terminology\":\"ncit\",\"version\":\"25.05d\"},{\"code\":\"R174\",\"name\":\"Disease_Mapped_To_Chromosome\",\"terminology\":\"ncit\",\"version\":\"25.05d\"},{\"code\":\"R175\",\"name\":\"Gene_Involved_In_Pathogenesis_Of_Disease\",\"terminology\":\"ncit\",\"version\":\"25.05d\"},{\"code\":\"R176\",\"name\":\"Disease_Mapped_To_Gene\",\"terminology\":\"ncit\",\"version\":\"25.05d\"},{\"code\":\"R177\",\"name\":\"Molecular_Abnormality_Involves_Gene\",\"terminology\":\"ncit\",\"version\":\"25.05d\"},{\"code\":\"R178\",\"name\":\"Gene_Mutant_Encodes_Gene_Product_Sequence_Variation\",\"terminology\":\"ncit\",\"version\":\"25.05d\"},{\"code\":\"R179\",\"name\":\"Gene_Product_Sequence_Variation_Encoded_By_Gene_Mutant\",\"terminology\":\"ncit\",\"version\":\"25.05d\"},{\"code\":\"R182\",\"name\":\"Gene_Product_Variant_Of_Gene_Product\",\"terminology\":\"ncit\",\"version\":\"25.05d\"},{\"code\":\"R23\",\"name\":\"EO_Disease_Has_Associated_Cell_Type\",\"terminology\":\"ncit\",\"version\":\"25.05d\"},{\"code\":\"R24\",\"name\":\"EO_Disease_Maps_To_Human_Disease\",\"terminology\":\"ncit\",\"version\":\"25.05d\"},{\"code\":\"R25\",\"name\":\"EO_Disease_Has_Associated_EO_Anatomy\",\"terminology\":\"ncit\",\"version\":\"25.05d\"},{\"code\":\"R26\",\"name\":\"EO_Disease_Has_Property_Or_Attribute\",\"terminology\":\"ncit\",\"version\":\"25.05d\"},{\"code\":\"R27\",\"name\":\"Conceptual_Part_Of\",\"terminology\":\"ncit\",\"version\":\"25.05d\"},{\"code\":\"R28\",\"name\":\"Biological_Process_Has_Initiator_Process\",\"terminology\":\"ncit\",\"version\":\"25.05d\"},{\"code\":\"R29\",\"name\":\"Biological_Process_Has_Result_Chemical_Or_Drug\",\"terminology\":\"ncit\",\"version\":\"25.05d\"},{\"code\":\"R30\",\"name\":\"Biological_Process_Has_Associated_Location\",\"terminology\":\"ncit\",\"version\":\"25.05d\"},{\"code\":\"R31\",\"name\":\"Biological_Process_Has_Result_Anatomy\",\"terminology\":\"ncit\",\"version\":\"25.05d\"},{\"code\":\"R32\",\"name\":\"Biological_Process_Has_Initiator_Chemical_Or_Drug\",\"terminology\":\"ncit\",\"version\":\"25.05d\"},{\"code\":\"R34\",\"name\":\"Biological_Process_Has_Result_Biological_Process\",\"terminology\":\"ncit\",\"version\":\"25.05d\"},{\"code\":\"R35\",\"name\":\"Biological_Process_Is_Part_Of_Process\",\"terminology\":\"ncit\",\"version\":\"25.05d\"},{\"code\":\"R36\",\"name\":\"Gene_Is_Biomarker_Type\",\"terminology\":\"ncit\",\"version\":\"25.05d\"},{\"code\":\"R38\",\"name\":\"Gene_Associated_With_Disease\",\"terminology\":\"ncit\",\"version\":\"25.05d\"},{\"code\":\"R39\",\"name\":\"Gene_Is_Biomarker_Of\",\"terminology\":\"ncit\",\"version\":\"25.05d\"},{\"code\":\"R41\",\"name\":\"Gene_Found_In_Organism\",\"terminology\":\"ncit\",\"version\":\"25.05d\"},{\"code\":\"R42\",\"name\":\"Gene_Product_Is_Biomarker_Type\",\"terminology\":\"ncit\",\"version\":\"25.05d\"},{\"code\":\"R44\",\"name\":\"Gene_Product_Has_Chemical_Classification\",\"terminology\":\"ncit\",\"version\":\"25.05d\"},{\"code\":\"R45\",\"name\":\"Gene_Product_Has_Organism_Source\",\"terminology\":\"ncit\",\"version\":\"25.05d\"},{\"code\":\"R46\",\"name\":\"Gene_Product_Has_Associated_Anatomy\",\"terminology\":\"ncit\",\"version\":\"25.05d\"},{\"code\":\"R47\",\"name\":\"Gene_Product_Is_Biomarker_Of\",\"terminology\":\"ncit\",\"version\":\"25.05d\"},{\"code\":\"R48\",\"name\":\"Gene_Product_Malfunction_Associated_With_Disease\",\"terminology\":\"ncit\",\"version\":\"25.05d\"},{\"code\":\"R49\",\"name\":\"Gene_Product_Expressed_In_Tissue\",\"terminology\":\"ncit\",\"version\":\"25.05d\"},{\"code\":\"R50\",\"name\":\"Gene_Product_Has_Structural_Domain_Or_Motif\",\"terminology\":\"ncit\",\"version\":\"25.05d\"},{\"code\":\"R51\",\"name\":\"Gene_Product_Is_Physical_Part_Of\",\"terminology\":\"ncit\",\"version\":\"25.05d\"},{\"code\":\"R52\",\"name\":\"Gene_Product_Has_Biochemical_Function\",\"terminology\":\"ncit\",\"version\":\"25.05d\"},{\"code\":\"R53\",\"name\":\"Gene_Product_Plays_Role_In_Biological_Process\",\"terminology\":\"ncit\",\"version\":\"25.05d\"},{\"code\":\"R54\",\"name\":\"Gene_Product_Encoded_By_Gene\",\"terminology\":\"ncit\",\"version\":\"25.05d\"},{\"code\":\"R66\",\"name\":\"Chemical_Or_Drug_Plays_Role_In_Biological_Process\",\"terminology\":\"ncit\",\"version\":\"25.05d\"},{\"code\":\"R72\",\"name\":\"Chemical_Or_Drug_Affects_Cell_Type_Or_Tissue\",\"terminology\":\"ncit\",\"version\":\"25.05d\"},{\"code\":\"R81\",\"name\":\"Anatomic_Structure_Has_Location\",\"terminology\":\"ncit\",\"version\":\"25.05d\"},{\"code\":\"R82\",\"name\":\"Anatomic_Structure_Is_Physical_Part_Of\",\"terminology\":\"ncit\",\"version\":\"25.05d\"},{\"code\":\"R88\",\"name\":\"Disease_Is_Stage\",\"terminology\":\"ncit\",\"version\":\"25.05d\"},{\"code\":\"R89\",\"name\":\"Disease_May_Have_Molecular_Abnormality\",\"terminology\":\"ncit\",\"version\":\"25.05d\"}]"
     ]
    }
   ],
   "source": [
    "!curl \"https://api-evsrest.nci.nih.gov/api/v1/metadata/ncit/roles\"\n",
    "\n"
   ]
  },
  {
   "cell_type": "code",
   "execution_count": null,
   "id": "4ea0d9f8",
   "metadata": {},
   "outputs": [
    {
     "name": "stdout",
     "output_type": "stream",
     "text": [
      "   code                                  name terminology version\n",
      "0  R100  Disease_Has_Associated_Anatomic_Site        ncit  25.05d\n",
      "1  R101     Disease_Has_Primary_Anatomic_Site        ncit  25.05d\n",
      "2  R102  Disease_Has_Metastatic_Anatomic_Site        ncit  25.05d\n",
      "3  R103      Disease_Has_Normal_Tissue_Origin        ncit  25.05d\n",
      "4  R104        Disease_Has_Normal_Cell_Origin        ncit  25.05d\n"
     ]
    }
   ],
   "source": [
    "import requests\n",
    "import pandas as pd\n",
    "\n",
    "url = \"https://api-evsrest.nci.nih.gov/api/v1/metadata/ncit/roles\"\n",
    "response = requests.get(url)\n",
    "roles = response.json()\n",
    "\n",
    "df = pd.DataFrame(roles)\n",
    "df.to_csv(\"ncit_roles.csv\", index=False)\n",
    "print(df.head())"
   ]
  },
  {
   "cell_type": "markdown",
   "id": "0e5b6734",
   "metadata": {},
   "source": [
    "Bodysite"
   ]
  },
  {
   "cell_type": "code",
   "execution_count": 60,
   "id": "ba767989",
   "metadata": {},
   "outputs": [],
   "source": [
    "df = pd.read_csv(\n",
    "    './data/corpus/cbio_body_site/body_site_query_for_NCIT:C32221.csv')\n",
    "\n",
    "query_list = df['original_value'].tolist()\n",
    "small_corpus_list = df['curated_ontology'].tolist()\n",
    "\n",
    "cura_map = dict(zip(df['original_value'], df['curated_ontology']))"
   ]
  },
  {
   "cell_type": "code",
   "execution_count": 64,
   "id": "36afcacc",
   "metadata": {},
   "outputs": [
    {
     "name": "stdout",
     "output_type": "stream",
     "text": [
      "17/06//2025 10:15:1750223752 PM - INFO - OntoMapEngine: Initialized OntoMap Engine module\n",
      "17/06//2025 10:15:1750223752 PM - INFO - OntoMapEngine: Initialized OntoMap Engine module\n",
      "17/06//2025 10:15:1750223752 PM - INFO - OntoMapEngine: Initialized OntoMap Engine module\n",
      "17/06//2025 10:15:1750223752 PM - INFO - OntoMapEngine: Initialized OntoMap Engine module\n",
      "17/06//2025 10:15:1750223752 PM - INFO - OntoMapEngine: Initialized OntoMap Engine module\n",
      "17/06//2025 10:15:1750223752 PM - INFO - OntoMapEngine: Initialized OntoMap Engine module\n",
      "17/06//2025 10:15:1750223752 PM - INFO - OntoMapEngine: Initialized OntoMap Engine module\n",
      "17/06//2025 10:15:1750223752 PM - INFO - OntoMapEngine: Initialized OntoMap Engine module\n",
      "17/06//2025 10:15:1750223752 PM - INFO - OntoMapEngine: Initialized OntoMap Engine module\n",
      "17/06//2025 10:15:1750223752 PM - INFO - OntoMapEngine: Initialized OntoMap Engine module\n",
      "17/06//2025 10:15:1750223752 PM - INFO - OntoMapEngine: Initialized OntoMap Engine module\n",
      "17/06//2025 10:15:1750223752 PM - INFO - OntoMapEngine: Initialized OntoMap Engine module\n",
      "17/06//2025 10:15:1750223752 PM - INFO - OntoMapEngine: Initialized OntoMap Engine module\n",
      "17/06//2025 10:15:1750223752 PM - INFO - OntoMapEngine: Initialized OntoMap Engine module\n",
      "17/06//2025 10:15:1750223752 PM - INFO - OntoMapEngine: Initialized OntoMap Engine module\n",
      "17/06//2025 10:15:1750223752 PM - INFO - OntoMapEngine: Initialized OntoMap Engine module\n",
      "17/06//2025 10:15:1750223752 PM - INFO - OntoMapEngine: Running Ontology Mapping\n",
      "17/06//2025 10:15:1750223752 PM - INFO - OntoMapEngine: Running Ontology Mapping\n",
      "17/06//2025 10:15:1750223752 PM - INFO - OntoMapEngine: Running Ontology Mapping\n",
      "17/06//2025 10:15:1750223752 PM - INFO - OntoMapEngine: Running Ontology Mapping\n",
      "17/06//2025 10:15:1750223752 PM - INFO - OntoMapEngine: Running Ontology Mapping\n",
      "17/06//2025 10:15:1750223752 PM - INFO - OntoMapEngine: Running Ontology Mapping\n",
      "17/06//2025 10:15:1750223752 PM - INFO - OntoMapEngine: Running Ontology Mapping\n",
      "17/06//2025 10:15:1750223752 PM - INFO - OntoMapEngine: Running Ontology Mapping\n",
      "17/06//2025 10:15:1750223752 PM - INFO - OntoMapEngine: Running Ontology Mapping\n",
      "17/06//2025 10:15:1750223752 PM - INFO - OntoMapEngine: Running Ontology Mapping\n",
      "17/06//2025 10:15:1750223752 PM - INFO - OntoMapEngine: Running Ontology Mapping\n",
      "17/06//2025 10:15:1750223752 PM - INFO - OntoMapEngine: Running Ontology Mapping\n",
      "17/06//2025 10:15:1750223752 PM - INFO - OntoMapEngine: Running Ontology Mapping\n",
      "17/06//2025 10:15:1750223752 PM - INFO - OntoMapEngine: Running Ontology Mapping\n",
      "17/06//2025 10:15:1750223752 PM - INFO - OntoMapEngine: Running Ontology Mapping\n",
      "17/06//2025 10:15:1750223752 PM - INFO - OntoMapEngine: Running Ontology Mapping\n",
      "17/06//2025 10:15:1750223752 PM - INFO - OntoMapEngine: Separating exact and non-exact matches\n",
      "17/06//2025 10:15:1750223752 PM - INFO - OntoMapEngine: Separating exact and non-exact matches\n",
      "17/06//2025 10:15:1750223752 PM - INFO - OntoMapEngine: Separating exact and non-exact matches\n",
      "17/06//2025 10:15:1750223752 PM - INFO - OntoMapEngine: Separating exact and non-exact matches\n",
      "17/06//2025 10:15:1750223752 PM - INFO - OntoMapEngine: Separating exact and non-exact matches\n",
      "17/06//2025 10:15:1750223752 PM - INFO - OntoMapEngine: Separating exact and non-exact matches\n",
      "17/06//2025 10:15:1750223752 PM - INFO - OntoMapEngine: Separating exact and non-exact matches\n",
      "17/06//2025 10:15:1750223752 PM - INFO - OntoMapEngine: Separating exact and non-exact matches\n",
      "17/06//2025 10:15:1750223752 PM - INFO - OntoMapEngine: Separating exact and non-exact matches\n",
      "17/06//2025 10:15:1750223752 PM - INFO - OntoMapEngine: Separating exact and non-exact matches\n",
      "17/06//2025 10:15:1750223752 PM - INFO - OntoMapEngine: Separating exact and non-exact matches\n",
      "17/06//2025 10:15:1750223752 PM - INFO - OntoMapEngine: Separating exact and non-exact matches\n",
      "17/06//2025 10:15:1750223752 PM - INFO - OntoMapEngine: Separating exact and non-exact matches\n",
      "17/06//2025 10:15:1750223752 PM - INFO - OntoMapEngine: Separating exact and non-exact matches\n",
      "17/06//2025 10:15:1750223752 PM - INFO - OntoMapEngine: Separating exact and non-exact matches\n",
      "17/06//2025 10:15:1750223752 PM - INFO - OntoMapEngine: Separating exact and non-exact matches\n",
      "17/06//2025 10:15:1750223752 PM - INFO - OntoMapEngine: Running OntoMap model for non-exact matches\n",
      "17/06//2025 10:15:1750223752 PM - INFO - OntoMapEngine: Running OntoMap model for non-exact matches\n",
      "17/06//2025 10:15:1750223752 PM - INFO - OntoMapEngine: Running OntoMap model for non-exact matches\n",
      "17/06//2025 10:15:1750223752 PM - INFO - OntoMapEngine: Running OntoMap model for non-exact matches\n",
      "17/06//2025 10:15:1750223752 PM - INFO - OntoMapEngine: Running OntoMap model for non-exact matches\n",
      "17/06//2025 10:15:1750223752 PM - INFO - OntoMapEngine: Running OntoMap model for non-exact matches\n",
      "17/06//2025 10:15:1750223752 PM - INFO - OntoMapEngine: Running OntoMap model for non-exact matches\n",
      "17/06//2025 10:15:1750223752 PM - INFO - OntoMapEngine: Running OntoMap model for non-exact matches\n",
      "17/06//2025 10:15:1750223752 PM - INFO - OntoMapEngine: Running OntoMap model for non-exact matches\n",
      "17/06//2025 10:15:1750223752 PM - INFO - OntoMapEngine: Running OntoMap model for non-exact matches\n",
      "17/06//2025 10:15:1750223752 PM - INFO - OntoMapEngine: Running OntoMap model for non-exact matches\n",
      "17/06//2025 10:15:1750223752 PM - INFO - OntoMapEngine: Running OntoMap model for non-exact matches\n",
      "17/06//2025 10:15:1750223752 PM - INFO - OntoMapEngine: Running OntoMap model for non-exact matches\n",
      "17/06//2025 10:15:1750223752 PM - INFO - OntoMapEngine: Running OntoMap model for non-exact matches\n",
      "17/06//2025 10:15:1750223752 PM - INFO - OntoMapEngine: Running OntoMap model for non-exact matches\n",
      "17/06//2025 10:15:1750223752 PM - INFO - OntoMapEngine: Running OntoMap model for non-exact matches\n",
      "17/06//2025 10:15:1750223752 PM - INFO - OntoMapRAG: Initialized OntoMapRAG module\n",
      "17/06//2025 10:15:1750223752 PM - INFO - OntoMapRAG: Initialized OntoMapRAG module\n",
      "17/06//2025 10:15:1750223752 PM - INFO - OntoMapRAG: Initialized OntoMapRAG module\n",
      "17/06//2025 10:15:1750223752 PM - INFO - OntoMapRAG: Initialized OntoMapRAG module\n",
      "17/06//2025 10:15:1750223752 PM - INFO - OntoMapRAG: Initialized OntoMapRAG module\n",
      "17/06//2025 10:15:1750223752 PM - INFO - OntoMapRAG: Initialized OntoMapRAG module\n",
      "17/06//2025 10:15:1750223752 PM - INFO - OntoMapRAG: Initialized OntoMapRAG module\n",
      "17/06//2025 10:15:1750223752 PM - INFO - OntoMapRAG: Initialized OntoMapRAG module\n",
      "17/06//2025 10:15:1750223752 PM - INFO - OntoMapRAG: Initialized OntoMapRAG module\n",
      "17/06//2025 10:15:1750223752 PM - INFO - OntoMapRAG: Initialized OntoMapRAG module\n",
      "17/06//2025 10:15:1750223752 PM - INFO - OntoMapRAG: Initialized OntoMapRAG module\n",
      "17/06//2025 10:15:1750223752 PM - INFO - OntoMapRAG: Initialized OntoMapRAG module\n",
      "17/06//2025 10:15:1750223752 PM - INFO - OntoMapRAG: Initialized OntoMapRAG module\n",
      "17/06//2025 10:15:1750223752 PM - INFO - OntoMapRAG: Initialized OntoMapRAG module\n",
      "17/06//2025 10:15:1750223752 PM - INFO - OntoMapRAG: Initialized OntoMapRAG module\n",
      "17/06//2025 10:15:1750223752 PM - INFO - OntoMapRAG: Initialized OntoMapRAG module\n",
      "17/06//2025 10:15:1750223752 PM - INFO - OntoMapRAG: Generating results table\n",
      "17/06//2025 10:15:1750223752 PM - INFO - OntoMapRAG: Generating results table\n",
      "17/06//2025 10:15:1750223752 PM - INFO - OntoMapRAG: Generating results table\n",
      "17/06//2025 10:15:1750223752 PM - INFO - OntoMapRAG: Generating results table\n",
      "17/06//2025 10:15:1750223752 PM - INFO - OntoMapRAG: Generating results table\n",
      "17/06//2025 10:15:1750223752 PM - INFO - OntoMapRAG: Generating results table\n",
      "17/06//2025 10:15:1750223752 PM - INFO - OntoMapRAG: Generating results table\n",
      "17/06//2025 10:15:1750223752 PM - INFO - OntoMapRAG: Generating results table\n",
      "17/06//2025 10:15:1750223752 PM - INFO - OntoMapRAG: Generating results table\n",
      "17/06//2025 10:15:1750223752 PM - INFO - OntoMapRAG: Generating results table\n",
      "17/06//2025 10:15:1750223752 PM - INFO - OntoMapRAG: Generating results table\n",
      "17/06//2025 10:15:1750223752 PM - INFO - OntoMapRAG: Generating results table\n",
      "17/06//2025 10:15:1750223752 PM - INFO - OntoMapRAG: Generating results table\n",
      "17/06//2025 10:15:1750223752 PM - INFO - OntoMapRAG: Generating results table\n",
      "17/06//2025 10:15:1750223752 PM - INFO - OntoMapRAG: Generating results table\n",
      "17/06//2025 10:15:1750223752 PM - INFO - OntoMapRAG: Generating results table\n"
     ]
    },
    {
     "name": "stderr",
     "output_type": "stream",
     "text": [
      "Processing queries: 100%|██████████| 439/439 [00:05<00:00, 79.32it/s]"
     ]
    },
    {
     "name": "stdout",
     "output_type": "stream",
     "text": [
      "17/06//2025 10:15:1750223758 PM - INFO - OntoMapRAG: Results Generated\n",
      "17/06//2025 10:15:1750223758 PM - INFO - OntoMapRAG: Results Generated\n",
      "17/06//2025 10:15:1750223758 PM - INFO - OntoMapRAG: Results Generated\n",
      "17/06//2025 10:15:1750223758 PM - INFO - OntoMapRAG: Results Generated\n",
      "17/06//2025 10:15:1750223758 PM - INFO - OntoMapRAG: Results Generated\n",
      "17/06//2025 10:15:1750223758 PM - INFO - OntoMapRAG: Results Generated\n",
      "17/06//2025 10:15:1750223758 PM - INFO - OntoMapRAG: Results Generated\n",
      "17/06//2025 10:15:1750223758 PM - INFO - OntoMapRAG: Results Generated\n",
      "17/06//2025 10:15:1750223758 PM - INFO - OntoMapRAG: Results Generated\n",
      "17/06//2025 10:15:1750223758 PM - INFO - OntoMapRAG: Results Generated\n",
      "17/06//2025 10:15:1750223758 PM - INFO - OntoMapRAG: Results Generated\n",
      "17/06//2025 10:15:1750223758 PM - INFO - OntoMapRAG: Results Generated\n",
      "17/06//2025 10:15:1750223758 PM - INFO - OntoMapRAG: Results Generated\n",
      "17/06//2025 10:15:1750223758 PM - INFO - OntoMapRAG: Results Generated\n",
      "17/06//2025 10:15:1750223758 PM - INFO - OntoMapRAG: Results Generated\n",
      "17/06//2025 10:15:1750223758 PM - INFO - OntoMapRAG: Results Generated\n"
     ]
    },
    {
     "name": "stderr",
     "output_type": "stream",
     "text": [
      "\n"
     ]
    }
   ],
   "source": [
    "# RAG Strategy w/ sap-bert\n",
    "rag_engine = ome.OntoMapEngine(method='mt-sap-bert',\n",
    "                               topk=5,\n",
    "                               query=query_list,\n",
    "                               corpus=small_corpus_list,\n",
    "                               cura_map=cura_map,\n",
    "                               yaml_path='./src/models/method_model.yaml',\n",
    "                               om_strategy='rag',\n",
    "                               test_or_prod='test')\n",
    "rag_sapbert_result = rag_engine.run()"
   ]
  },
  {
   "cell_type": "code",
   "execution_count": 74,
   "id": "6951dc25",
   "metadata": {},
   "outputs": [],
   "source": [
    "rag_sapbert_result.to_csv(\"rag_sapbert_result_bodysite.csv\",\n",
    "                  index=False)"
   ]
  },
  {
   "cell_type": "code",
   "execution_count": 65,
   "id": "8a806505",
   "metadata": {},
   "outputs": [
    {
     "name": "stdout",
     "output_type": "stream",
     "text": [
      "  Accuracy Level   Accuracy\n",
      "0    Top 1 Match  66.970387\n",
      "1  Top 3 Matches  86.560364\n",
      "2  Top 5 Matches  90.660592\n"
     ]
    }
   ],
   "source": [
    "rag_sapbert_accuracy_df = calc.calc_accuracy(rag_sapbert_result)\n",
    "print(rag_sapbert_accuracy_df)"
   ]
  },
  {
   "cell_type": "code",
   "execution_count": 47,
   "id": "4cdd2e16",
   "metadata": {},
   "outputs": [
    {
     "name": "stdout",
     "output_type": "stream",
     "text": [
      "17/06//2025 05:58:1750208291 PM - INFO - OntoMapEngine: Initialized OntoMap Engine module\n",
      "17/06//2025 05:58:1750208291 PM - INFO - OntoMapEngine: Initialized OntoMap Engine module\n",
      "17/06//2025 05:58:1750208291 PM - INFO - OntoMapEngine: Initialized OntoMap Engine module\n",
      "17/06//2025 05:58:1750208291 PM - INFO - OntoMapEngine: Initialized OntoMap Engine module\n",
      "17/06//2025 05:58:1750208291 PM - INFO - OntoMapEngine: Initialized OntoMap Engine module\n",
      "17/06//2025 05:58:1750208291 PM - INFO - OntoMapEngine: Initialized OntoMap Engine module\n",
      "17/06//2025 05:58:1750208291 PM - INFO - OntoMapEngine: Initialized OntoMap Engine module\n",
      "17/06//2025 05:58:1750208291 PM - INFO - OntoMapEngine: Initialized OntoMap Engine module\n",
      "17/06//2025 05:58:1750208291 PM - INFO - OntoMapEngine: Initialized OntoMap Engine module\n",
      "17/06//2025 05:58:1750208291 PM - INFO - OntoMapEngine: Initialized OntoMap Engine module\n",
      "17/06//2025 05:58:1750208291 PM - INFO - OntoMapEngine: Running Ontology Mapping\n",
      "17/06//2025 05:58:1750208291 PM - INFO - OntoMapEngine: Running Ontology Mapping\n",
      "17/06//2025 05:58:1750208291 PM - INFO - OntoMapEngine: Running Ontology Mapping\n",
      "17/06//2025 05:58:1750208291 PM - INFO - OntoMapEngine: Running Ontology Mapping\n",
      "17/06//2025 05:58:1750208291 PM - INFO - OntoMapEngine: Running Ontology Mapping\n",
      "17/06//2025 05:58:1750208291 PM - INFO - OntoMapEngine: Running Ontology Mapping\n",
      "17/06//2025 05:58:1750208291 PM - INFO - OntoMapEngine: Running Ontology Mapping\n",
      "17/06//2025 05:58:1750208291 PM - INFO - OntoMapEngine: Running Ontology Mapping\n",
      "17/06//2025 05:58:1750208291 PM - INFO - OntoMapEngine: Running Ontology Mapping\n",
      "17/06//2025 05:58:1750208291 PM - INFO - OntoMapEngine: Running Ontology Mapping\n",
      "17/06//2025 05:58:1750208291 PM - INFO - OntoMapEngine: Separating exact and non-exact matches\n",
      "17/06//2025 05:58:1750208291 PM - INFO - OntoMapEngine: Separating exact and non-exact matches\n",
      "17/06//2025 05:58:1750208291 PM - INFO - OntoMapEngine: Separating exact and non-exact matches\n",
      "17/06//2025 05:58:1750208291 PM - INFO - OntoMapEngine: Separating exact and non-exact matches\n",
      "17/06//2025 05:58:1750208291 PM - INFO - OntoMapEngine: Separating exact and non-exact matches\n",
      "17/06//2025 05:58:1750208291 PM - INFO - OntoMapEngine: Separating exact and non-exact matches\n",
      "17/06//2025 05:58:1750208291 PM - INFO - OntoMapEngine: Separating exact and non-exact matches\n",
      "17/06//2025 05:58:1750208291 PM - INFO - OntoMapEngine: Separating exact and non-exact matches\n",
      "17/06//2025 05:58:1750208291 PM - INFO - OntoMapEngine: Separating exact and non-exact matches\n",
      "17/06//2025 05:58:1750208291 PM - INFO - OntoMapEngine: Separating exact and non-exact matches\n",
      "17/06//2025 05:58:1750208291 PM - INFO - OntoMapEngine: Running OntoMap model for non-exact matches\n",
      "17/06//2025 05:58:1750208291 PM - INFO - OntoMapEngine: Running OntoMap model for non-exact matches\n",
      "17/06//2025 05:58:1750208291 PM - INFO - OntoMapEngine: Running OntoMap model for non-exact matches\n",
      "17/06//2025 05:58:1750208291 PM - INFO - OntoMapEngine: Running OntoMap model for non-exact matches\n",
      "17/06//2025 05:58:1750208291 PM - INFO - OntoMapEngine: Running OntoMap model for non-exact matches\n",
      "17/06//2025 05:58:1750208291 PM - INFO - OntoMapEngine: Running OntoMap model for non-exact matches\n",
      "17/06//2025 05:58:1750208291 PM - INFO - OntoMapEngine: Running OntoMap model for non-exact matches\n",
      "17/06//2025 05:58:1750208291 PM - INFO - OntoMapEngine: Running OntoMap model for non-exact matches\n",
      "17/06//2025 05:58:1750208291 PM - INFO - OntoMapEngine: Running OntoMap model for non-exact matches\n",
      "17/06//2025 05:58:1750208291 PM - INFO - OntoMapEngine: Running OntoMap model for non-exact matches\n",
      "17/06//2025 05:58:1750208291 PM - INFO - OntoMapRAG: Initialized OntoMapRAG module\n",
      "17/06//2025 05:58:1750208291 PM - INFO - OntoMapRAG: Initialized OntoMapRAG module\n",
      "17/06//2025 05:58:1750208291 PM - INFO - OntoMapRAG: Initialized OntoMapRAG module\n",
      "17/06//2025 05:58:1750208291 PM - INFO - OntoMapRAG: Initialized OntoMapRAG module\n",
      "17/06//2025 05:58:1750208291 PM - INFO - OntoMapRAG: Initialized OntoMapRAG module\n",
      "17/06//2025 05:58:1750208291 PM - INFO - OntoMapRAG: Initialized OntoMapRAG module\n",
      "17/06//2025 05:58:1750208291 PM - INFO - OntoMapRAG: Initialized OntoMapRAG module\n",
      "17/06//2025 05:58:1750208291 PM - INFO - OntoMapRAG: Initialized OntoMapRAG module\n",
      "17/06//2025 05:58:1750208291 PM - INFO - OntoMapRAG: Initialized OntoMapRAG module\n",
      "17/06//2025 05:58:1750208291 PM - INFO - OntoMapRAG: Initialized OntoMapRAG module\n",
      "17/06//2025 05:58:1750208291 PM - INFO - OntoMapRAG: Generating results table\n",
      "17/06//2025 05:58:1750208291 PM - INFO - OntoMapRAG: Generating results table\n",
      "17/06//2025 05:58:1750208291 PM - INFO - OntoMapRAG: Generating results table\n",
      "17/06//2025 05:58:1750208291 PM - INFO - OntoMapRAG: Generating results table\n",
      "17/06//2025 05:58:1750208291 PM - INFO - OntoMapRAG: Generating results table\n",
      "17/06//2025 05:58:1750208291 PM - INFO - OntoMapRAG: Generating results table\n",
      "17/06//2025 05:58:1750208291 PM - INFO - OntoMapRAG: Generating results table\n",
      "17/06//2025 05:58:1750208291 PM - INFO - OntoMapRAG: Generating results table\n",
      "17/06//2025 05:58:1750208291 PM - INFO - OntoMapRAG: Generating results table\n",
      "17/06//2025 05:58:1750208291 PM - INFO - OntoMapRAG: Generating results table\n"
     ]
    },
    {
     "name": "stderr",
     "output_type": "stream",
     "text": [
      "Processing queries: 100%|██████████| 439/439 [00:07<00:00, 58.89it/s]"
     ]
    },
    {
     "name": "stdout",
     "output_type": "stream",
     "text": [
      "17/06//2025 05:58:1750208298 PM - INFO - OntoMapRAG: Results Generated\n",
      "17/06//2025 05:58:1750208298 PM - INFO - OntoMapRAG: Results Generated\n",
      "17/06//2025 05:58:1750208298 PM - INFO - OntoMapRAG: Results Generated\n",
      "17/06//2025 05:58:1750208298 PM - INFO - OntoMapRAG: Results Generated\n",
      "17/06//2025 05:58:1750208298 PM - INFO - OntoMapRAG: Results Generated\n",
      "17/06//2025 05:58:1750208298 PM - INFO - OntoMapRAG: Results Generated\n",
      "17/06//2025 05:58:1750208298 PM - INFO - OntoMapRAG: Results Generated\n",
      "17/06//2025 05:58:1750208298 PM - INFO - OntoMapRAG: Results Generated\n",
      "17/06//2025 05:58:1750208298 PM - INFO - OntoMapRAG: Results Generated\n",
      "17/06//2025 05:58:1750208298 PM - INFO - OntoMapRAG: Results Generated\n"
     ]
    },
    {
     "name": "stderr",
     "output_type": "stream",
     "text": [
      "\n"
     ]
    }
   ],
   "source": [
    "# RAG Strategy w/ pubmed-bert\n",
    "rag_engine = ome.OntoMapEngine(method='pubmed-bert',\n",
    "                               topk=5,\n",
    "                               query=query_list,\n",
    "                               corpus=small_corpus_list,\n",
    "                               cura_map=cura_map,\n",
    "                               yaml_path='./src/models/method_model.yaml',\n",
    "                               om_strategy='rag',\n",
    "                               test_or_prod='test')\n",
    "rag_pubmed_result = rag_engine.run()"
   ]
  },
  {
   "cell_type": "code",
   "execution_count": 49,
   "id": "1abb00ea",
   "metadata": {},
   "outputs": [],
   "source": [
    "rag_pubmed_result.to_csv(\"rag_pubmed_result_bodysite.csv\",\n",
    "                  index=False)"
   ]
  },
  {
   "cell_type": "code",
   "execution_count": 48,
   "id": "97397aa4",
   "metadata": {},
   "outputs": [
    {
     "name": "stdout",
     "output_type": "stream",
     "text": [
      "  Accuracy Level   Accuracy\n",
      "0    Top 1 Match  71.298405\n",
      "1  Top 3 Matches  88.838269\n",
      "2  Top 5 Matches  93.394077\n"
     ]
    }
   ],
   "source": [
    "rag_pubmed_accuracy_df = calc.calc_accuracy(rag_pubmed_result)\n",
    "print(rag_pubmed_accuracy_df)"
   ]
  },
  {
   "cell_type": "markdown",
   "id": "ef6dfa92",
   "metadata": {},
   "source": [
    "Overlapping of different strategies"
   ]
  },
  {
   "cell_type": "code",
   "execution_count": 89,
   "id": "31d30c4e",
   "metadata": {},
   "outputs": [
    {
     "name": "stdout",
     "output_type": "stream",
     "text": [
      "🔹 Top1 Jaccard Overlap Matrix\n",
      "            sapbert_lm sapbert_st sapbert_rag pubmed_lm pubmed_st pubmed_rag\n",
      "sapbert_lm         1.0      0.934       0.718     0.834     0.824      0.784\n",
      "sapbert_st       0.934        1.0       0.715     0.836     0.826      0.778\n",
      "sapbert_rag      0.718      0.715         1.0     0.653     0.648      0.744\n",
      "pubmed_lm        0.834      0.836       0.653       1.0     0.977      0.811\n",
      "pubmed_st        0.824      0.826       0.648     0.977       1.0      0.805\n",
      "pubmed_rag       0.784      0.778       0.744     0.811     0.805        1.0\n",
      "\n",
      "🔹 Top5 Jaccard Overlap Matrix\n",
      "            sapbert_lm sapbert_st sapbert_rag pubmed_lm pubmed_st pubmed_rag\n",
      "sapbert_lm         1.0      0.962       0.786     0.866     0.865      0.838\n",
      "sapbert_st       0.962        1.0       0.786     0.866     0.868      0.835\n",
      "sapbert_rag      0.786      0.786         1.0     0.695     0.698      0.826\n",
      "pubmed_lm        0.866      0.866       0.695       1.0     0.974      0.809\n",
      "pubmed_st        0.865      0.868       0.698     0.974       1.0      0.815\n",
      "pubmed_rag       0.838      0.835       0.826     0.809     0.815        1.0\n"
     ]
    }
   ],
   "source": [
    "files = {\n",
    "    'sapbert_lm':\n",
    "    'lm_sapbert_result_trt.csv',\n",
    "    'sapbert_st':\n",
    "    'st_sapbert_result_trt.csv',\n",
    "    'sapbert_rag':\n",
    "    'rag_sapbert_result_trt.csv',\n",
    "    'pubmed_lm':\n",
    "    'lm_pubmedbert_result_trt.csv',\n",
    "    'pubmed_st':\n",
    "    'st_pubmedbert_result_trt.csv',\n",
    "    'pubmed_rag':\n",
    "    'rag_pubmed_result_trt.csv',\n",
    "}\n",
    "\n",
    "top1_dict = {}\n",
    "top5_dict = {}\n",
    "\n",
    "for name, path in files.items():\n",
    "    df = pd.read_csv(path)\n",
    "    top1_dict[name] = set(df[df['match_level'] == 1]['original_value'])\n",
    "    top5_dict[name] = set(df[df['match_level'] <= 5]['original_value'])\n",
    "\n",
    "top1_overlap = compute_overlap_matrix(top1_dict)\n",
    "top5_overlap = compute_overlap_matrix(top5_dict)\n",
    "\n",
    "print(\"🔹 Top1 Jaccard Overlap Matrix\")\n",
    "print(top1_overlap)\n",
    "\n",
    "print(\"\\n🔹 Top5 Jaccard Overlap Matrix\")\n",
    "print(top5_overlap)"
   ]
  },
  {
   "cell_type": "code",
   "execution_count": 90,
   "id": "f3412186",
   "metadata": {},
   "outputs": [
    {
     "data": {
      "image/png": "[encoded data removed]",
      "text/plain": [
       "<Figure size 800x600 with 2 Axes>"
      ]
     },
     "metadata": {},
     "output_type": "display_data"
    },
    {
     "data": {
      "image/png": "[encoded data removed]",
      "text/plain": [
       "<Figure size 800x600 with 2 Axes>"
      ]
     },
     "metadata": {},
     "output_type": "display_data"
    }
   ],
   "source": [
    "plot_heatmap(top1_overlap, \"Treatment Top-1 Jaccard Overlap\")\n",
    "plot_heatmap(top5_overlap, \"Treatment Top-5 Jaccard Overlap\")"
   ]
  }
 ],
 "metadata": {
  "kernelspec": {
   "display_name": "py310",
   "language": "python",
   "name": "python3"
  },
  "language_info": {
   "codemirror_mode": {
    "name": "ipython",
    "version": 3
   },
   "file_extension": ".py",
   "mimetype": "text/x-python",
   "name": "python",
   "nbconvert_exporter": "python",
   "pygments_lexer": "ipython3",
   "version": "3.10.16"
  }
 },
 "nbformat": 4,
 "nbformat_minor": 5
}
