{
 "cells": [
  {
   "cell_type": "code",
<<<<<<< HEAD
<<<<<<< HEAD
=======
>>>>>>> 11a0b3b (Final updates to schema mapper with schema_map  demo)
   "execution_count": 1,
   "metadata": {},
   "outputs": [
    {
     "name": "stdout",
     "output_type": "stream",
     "text": [
      "/Users/abhilashdhal/Desktop/cbioportal_gsoc/OmicsMLRepoHarmonizer/demo_nb\n"
     ]
    }
   ],
   "source": [
    "!pwd"
   ]
  },
  {
   "cell_type": "code",
<<<<<<< HEAD
<<<<<<< HEAD
<<<<<<< HEAD
=======
>>>>>>> parent of 742544a (Merge commit 'e73751844beddc38c705c558f40cc490b0f9f107' into abhi_devv)
   "execution_count": 3,
   "metadata": {},
   "outputs": [
    {
     "name": "stdout",
     "output_type": "stream",
     "text": [
      "/Users/abhilashdhal/Desktop/cbioportal_gsoc/OmicsMLRepoHarmonizer\n"
     ]
    }
   ],
   "source": [
    "%cd /Users/abhilashdhal/Desktop/cbioportal_gsoc/OmicsMLRepoHarmonizer/"
   ]
  },
  {
   "cell_type": "code",
   "execution_count": 1,
   "metadata": {},
   "outputs": [
    {
     "name": "stderr",
     "output_type": "stream",
     "text": [
      "/opt/homebrew/anaconda3/envs/‘gsoc_harmon_2024’/lib/python3.12/site-packages/tqdm/auto.py:21: TqdmWarning: IProgress not found. Please update jupyter and ipywidgets. See https://ipywidgets.readthedocs.io/en/stable/user_install.html\n",
      "  from .autonotebook import tqdm as notebook_tqdm\n"
     ]
    }
   ],
=======
   "execution_count": 3,
   "metadata": {},
   "outputs": [],
>>>>>>> b224039 (v0.2.4 updates:)
=======
=======
>>>>>>> 742544ac2f6635755f8ac6401976785606a7eb27
   "execution_count": 3,
=======
   "execution_count": 1,
>>>>>>> fd1285a (comitting unstaged changes for merging)
   "metadata": {},
   "outputs": [
    {
     "name": "stdout",
     "output_type": "stream",
     "text": [
      "/Users/abhilashdhal/Desktop/cbioportal_gsoc/OmicsMLRepoHarmonizer\n"
     ]
    }
   ],
   "source": [
    "%cd /Users/abhilashdhal/Desktop/cbioportal_gsoc/OmicsMLRepoHarmonizer/"
   ]
  },
  {
   "cell_type": "code",
<<<<<<< HEAD
   "execution_count": 1,
=======
   "execution_count": 2,
   "metadata": {},
   "outputs": [],
   "source": [
    "# import numpy as np\n",
    "# import torch\n",
    "# from tqdm.auto import tqdm\n",
    "# from transformers import AutoTokenizer, AutoModel\n",
    "# import os\n",
    "# import pandas as pd\n"
   ]
  },
  {
   "cell_type": "code",
   "execution_count": 3,
>>>>>>> fd1285a (comitting unstaged changes for merging)
   "metadata": {},
   "outputs": [
    {
     "name": "stderr",
     "output_type": "stream",
     "text": [
      "/opt/homebrew/anaconda3/envs/‘gsoc_harmon_2024’/lib/python3.12/site-packages/tqdm/auto.py:21: TqdmWarning: IProgress not found. Please update jupyter and ipywidgets. See https://ipywidgets.readthedocs.io/en/stable/user_install.html\n",
<<<<<<< HEAD
      "  from .autonotebook import tqdm as notebook_tqdm\n"
     ]
    }
   ],
>>>>>>> 11a0b3b (Final updates to schema mapper with schema_map  demo)
   "source": [
    "import numpy as np\n",
    "import torch\n",
    "from tqdm.auto import tqdm\n",
    "from transformers import AutoTokenizer, AutoModel\n",
    "import os\n",
    "import pandas as pd\n",
    "from importlib import reload"
   ]
  },
  {
   "cell_type": "code",
   "execution_count": 4,
   "metadata": {},
   "outputs": [
    {
<<<<<<< HEAD
<<<<<<< HEAD
=======
>>>>>>> 11a0b3b (Final updates to schema mapper with schema_map  demo)
     "ename": "ModuleNotFoundError",
     "evalue": "No module named 'src.Engine'",
     "output_type": "error",
     "traceback": [
      "\u001b[0;31m---------------------------------------------------------------------------\u001b[0m",
      "\u001b[0;31mModuleNotFoundError\u001b[0m                       Traceback (most recent call last)",
      "Cell \u001b[0;32mIn[4], line 2\u001b[0m\n\u001b[1;32m      1\u001b[0m \u001b[38;5;28;01mimport\u001b[39;00m \u001b[38;5;21;01msrc\u001b[39;00m\u001b[38;5;21;01m.\u001b[39;00m\u001b[38;5;21;01mmodels\u001b[39;00m\u001b[38;5;21;01m.\u001b[39;00m\u001b[38;5;21;01montology_mapper_st\u001b[39;00m \u001b[38;5;28;01mas\u001b[39;00m \u001b[38;5;21;01mom_st\u001b[39;00m\n\u001b[0;32m----> 2\u001b[0m \u001b[38;5;28;01mimport\u001b[39;00m \u001b[38;5;21;01msrc\u001b[39;00m\u001b[38;5;21;01m.\u001b[39;00m\u001b[38;5;21;01mEngine\u001b[39;00m\u001b[38;5;21;01m.\u001b[39;00m\u001b[38;5;21;01montology_mapping_engine\u001b[39;00m \u001b[38;5;28;01mas\u001b[39;00m \u001b[38;5;21;01mome\u001b[39;00m\n\u001b[1;32m      3\u001b[0m \u001b[38;5;28;01mimport\u001b[39;00m \u001b[38;5;21;01msrc\u001b[39;00m\u001b[38;5;21;01m.\u001b[39;00m\u001b[38;5;21;01mmodels\u001b[39;00m\u001b[38;5;21;01m.\u001b[39;00m\u001b[38;5;21;01montology_mapper_lm\u001b[39;00m \u001b[38;5;28;01mas\u001b[39;00m \u001b[38;5;21;01mom_lm\u001b[39;00m\n\u001b[1;32m      4\u001b[0m reload(om_st)\n",
      "\u001b[0;31mModuleNotFoundError\u001b[0m: No module named 'src.Engine'"
     ]
<<<<<<< HEAD
<<<<<<< HEAD
<<<<<<< HEAD
<<<<<<< HEAD
=======
=======
=======
>>>>>>> 742544ac2f6635755f8ac6401976785606a7eb27
=======
      "  from .autonotebook import tqdm as notebook_tqdm\n",
      "/opt/homebrew/anaconda3/envs/‘gsoc_harmon_2024’/lib/python3.12/site-packages/fuzzywuzzy/fuzz.py:11: UserWarning: Using slow pure-python SequenceMatcher. Install python-Levenshtein to remove this warning\n",
      "  warnings.warn('Using slow pure-python SequenceMatcher. Install python-Levenshtein to remove this warning')\n",
      "[nltk_data] Downloading package punkt to\n",
      "[nltk_data]     /Users/abhilashdhal/nltk_data...\n",
      "[nltk_data]   Package punkt is already up-to-date!\n",
      "[nltk_data] Downloading package wordnet to\n",
      "[nltk_data]     /Users/abhilashdhal/nltk_data...\n",
      "[nltk_data]   Package wordnet is already up-to-date!\n",
      "[nltk_data] Downloading package punkt to\n",
      "[nltk_data]     /Users/abhilashdhal/nltk_data...\n",
      "[nltk_data]   Package punkt is already up-to-date!\n",
      "[nltk_data] Downloading package stopwords to\n",
      "[nltk_data]     /Users/abhilashdhal/nltk_data...\n",
      "[nltk_data]   Package stopwords is already up-to-date!\n",
      "[nltk_data] Downloading package wordnet to\n",
      "[nltk_data]     /Users/abhilashdhal/nltk_data...\n",
      "[nltk_data]   Package wordnet is already up-to-date!\n"
     ]
    },
    {
<<<<<<< HEAD
>>>>>>> 1c20785 (comitting unstaged changes for merging)
=======
>>>>>>> 742544ac2f6635755f8ac6401976785606a7eb27
     "data": {
      "text/plain": [
       "<module 'src.models.ontology_mapper_lm' from '/Users/abhilashdhal/Desktop/cbioportal_gsoc/OmicsMLRepoHarmonizer/src/models/ontology_mapper_lm.py'>"
      ]
     },
<<<<<<< HEAD
<<<<<<< HEAD
     "execution_count": 4,
     "metadata": {},
     "output_type": "execute_result"
>>>>>>> b224039 (v0.2.4 updates:)
=======
>>>>>>> 11a0b3b (Final updates to schema mapper with schema_map  demo)
=======
=======
>>>>>>> 742544ac2f6635755f8ac6401976785606a7eb27
     "execution_count": 3,
     "metadata": {},
     "output_type": "execute_result"
>>>>>>> fd1285a (comitting unstaged changes for merging)
<<<<<<< HEAD
>>>>>>> 1c20785 (comitting unstaged changes for merging)
=======
>>>>>>> 742544ac2f6635755f8ac6401976785606a7eb27
=======
>>>>>>> parent of 742544a (Merge commit 'e73751844beddc38c705c558f40cc490b0f9f107' into abhi_devv)
    }
   ],
   "source": [
    "import src.models.ontology_mapper_st as om_st\n",
<<<<<<< HEAD
<<<<<<< HEAD
    "import src.Engine.ontology_mapping_engine as ome\n",
=======
    "import src.models.ontology_mapping_engine as ome\n",
>>>>>>> b224039 (v0.2.4 updates:)
=======
    "import src.Engine.ontology_mapping_engine as ome\n",
>>>>>>> 11a0b3b (Final updates to schema mapper with schema_map  demo)
    "import src.models.ontology_mapper_lm as om_lm\n",
    "reload(om_st)\n",
    "reload(ome)\n",
    "reload(om_lm)"
   ]
  },
  {
<<<<<<< HEAD
<<<<<<< HEAD
=======
>>>>>>> 11a0b3b (Final updates to schema mapper with schema_map  demo)
   "cell_type": "markdown",
   "metadata": {},
   "source": [
    "## Load corpus and query data "
   ]
  },
  {
<<<<<<< HEAD
   "cell_type": "code",
   "execution_count": 5,
<<<<<<< HEAD
=======
<<<<<<< HEAD
   "cell_type": "code",
   "execution_count": 6,
>>>>>>> b224039 (v0.2.4 updates:)
=======
   "cell_type": "code",
<<<<<<< HEAD
   "execution_count": 5,
<<<<<<< HEAD
>>>>>>> 11a0b3b (Final updates to schema mapper with schema_map  demo)
=======
   "execution_count": 4,
>>>>>>> fd1285a (comitting unstaged changes for merging)
>>>>>>> 1c20785 (comitting unstaged changes for merging)
=======
=======
   "execution_count": 4,
>>>>>>> fd1285a (comitting unstaged changes for merging)
>>>>>>> 742544ac2f6635755f8ac6401976785606a7eb27
=======
>>>>>>> parent of 742544a (Merge commit 'e73751844beddc38c705c558f40cc490b0f9f107' into abhi_devv)
   "metadata": {},
   "outputs": [],
   "source": [
    "cura_map_large_corpus = pd.read_csv('./data/cBioPortal_treatment_name_map_for_largerCorpus.csv', delimiter=',', on_bad_lines='skip')\n",
    "large_corpus = pd.read_csv('./data/corpus_from_NCIT_C1909.csv', header=None, on_bad_lines='skip')\n",
    "large_corpus.columns = ['curated_treatment']\n",
    "\n",
    "query_list = list(cura_map_large_corpus['original_value'])\n",
    "curated_list = list(cura_map_large_corpus['curated_ontology'])\n",
    "cura_map_lcs = dict(zip(query_list, curated_list))\n",
    "corpus_list = list(large_corpus['curated_treatment'])\n",
<<<<<<< HEAD
<<<<<<< HEAD
=======
>>>>>>> 11a0b3b (Final updates to schema mapper with schema_map  demo)
    "small_corpus_list = list(cura_map_large_corpus['curated_ontology'].unique())\n"
   ]
  },
  {
   "cell_type": "markdown",
   "metadata": {},
   "source": [
    "## Running Engine"
   ]
  },
  {
   "cell_type": "markdown",
   "metadata": {},
   "source": [
    "## Testing"
<<<<<<< HEAD
=======
    "small_corpus_list = list(cura_map_large_corpus['curated_ontology'].unique())"
>>>>>>> b224039 (v0.2.4 updates:)
=======
>>>>>>> 11a0b3b (Final updates to schema mapper with schema_map  demo)
   ]
  },
  {
   "cell_type": "code",
<<<<<<< HEAD
<<<<<<< HEAD
   "execution_count": 6,
=======
   "execution_count": 9,
>>>>>>> b224039 (v0.2.4 updates:)
=======
   "execution_count": 6,
>>>>>>> 11a0b3b (Final updates to schema mapper with schema_map  demo)
   "metadata": {},
   "outputs": [
    {
     "name": "stdout",
     "output_type": "stream",
     "text": [
<<<<<<< HEAD
<<<<<<< HEAD
      "30/07//2024 11:01:1722317509 AM - INFO - OntoMapEngine: Initialized OntoMap Engine module\n"
=======
      "23/07//2024 11:54:1721715854 AM - INFO - OntoMapLM: Initialized OntoMap Language Model module\n",
      "23/07//2024 11:54:1721715854 AM - INFO - OntoMapLM: Initialized OntoMap Language Model module\n"
>>>>>>> b224039 (v0.2.4 updates:)
=======
      "30/07//2024 11:01:1722317509 AM - INFO - OntoMapEngine: Initialized OntoMap Engine module\n"
>>>>>>> 11a0b3b (Final updates to schema mapper with schema_map  demo)
     ]
    }
   ],
   "source": [
<<<<<<< HEAD
<<<<<<< HEAD
    "other_params = {\"test_or_prod\": \"test\"}\n",
    "onto_engine_large = ome.OntoMapEngine(method='sap-bert', topk=5, query=query_list,\n",
    "                                      corpus=small_corpus_list,\n",
    "                                      cura_map=cura_map_lcs, yaml_path='./src/models/method_model.yaml', \n",
    "                                      om_strategy='lm', **other_params)"
=======
    "\n",
    "ct_instance_sapbert = om_lm.OntoMapLM(method='sap-bert', topk=5, query=query_list,\n",
    "                                      corpus=small_corpus_list,\n",
    "                                      yaml_path='./src/models/method_model.yaml', from_tokenizer=True)"
>>>>>>> b224039 (v0.2.4 updates:)
=======
    "other_params = {\"test_or_prod\": \"test\"}\n",
    "onto_engine_large = ome.OntoMapEngine(method='sap-bert', topk=5, query=query_list,\n",
    "                                      corpus=small_corpus_list,\n",
    "                                      cura_map=cura_map_lcs, yaml_path='./src/models/method_model.yaml', \n",
    "                                      om_strategy='lm', **other_params)"
>>>>>>> 11a0b3b (Final updates to schema mapper with schema_map  demo)
   ]
  },
  {
   "cell_type": "code",
<<<<<<< HEAD
<<<<<<< HEAD
   "execution_count": 7,
   "metadata": {},
   "outputs": [
    {
     "name": "stdout",
     "output_type": "stream",
     "text": [
      "30/07//2024 11:01:1722317510 AM - INFO - OntoMapEngine: Running Ontology Mapping\n",
      "30/07//2024 11:01:1722317510 AM - INFO - OntoMapEngine: Separating exact and non-exact matches\n",
      "30/07//2024 11:01:1722317510 AM - INFO - OntoMapEngine: Running OntoMap model for non-exact matches\n",
      "30/07//2024 11:01:1722317510 AM - INFO - OntoMapLM: Initialized OntoMap Language Model module\n",
      "30/07//2024 11:01:1722317510 AM - INFO - OntoMapLM.get_match_results: Creating embeddings for query_list and corpus\n",
      "30/07//2024 11:01:1722317518 AM - INFO - OntoMapLM.get_match_results: Calculating cosine similarity matrix\n",
      "30/07//2024 11:01:1722317518 AM - INFO - OntoMapLM.get_match_results: Generating results table\n",
      "30/07//2024 11:01:1722317518 AM - INFO - OntoMapLM.get_match_results: Results Generated\n"
     ]
    }
   ],
   "source": [
    "results_engine_testing = onto_engine_large.run()"
   ]
  },
  {
   "cell_type": "code",
   "execution_count": 8,
   "metadata": {},
   "outputs": [
    {
     "data": {
      "text/html": [
       "<div>\n",
       "<style scoped>\n",
       "    .dataframe tbody tr th:only-of-type {\n",
       "        vertical-align: middle;\n",
       "    }\n",
       "\n",
       "    .dataframe tbody tr th {\n",
       "        vertical-align: top;\n",
       "    }\n",
       "\n",
       "    .dataframe thead th {\n",
       "        text-align: right;\n",
       "    }\n",
       "</style>\n",
       "<table border=\"1\" class=\"dataframe\">\n",
       "  <thead>\n",
       "    <tr style=\"text-align: right;\">\n",
       "      <th></th>\n",
       "      <th>original_value</th>\n",
       "      <th>curated_ontology</th>\n",
       "      <th>match_level</th>\n",
       "      <th>top1_match</th>\n",
       "      <th>top1_score</th>\n",
       "      <th>top2_match</th>\n",
       "      <th>top2_score</th>\n",
       "      <th>top3_match</th>\n",
       "      <th>top3_score</th>\n",
       "      <th>top4_match</th>\n",
       "      <th>top4_score</th>\n",
       "      <th>top5_match</th>\n",
       "      <th>top5_score</th>\n",
       "    </tr>\n",
       "  </thead>\n",
       "  <tbody>\n",
       "    <tr>\n",
       "      <th>0</th>\n",
       "      <td>17-DMAG</td>\n",
       "      <td>Alvespimycin</td>\n",
       "      <td>99</td>\n",
       "      <td>Memantine</td>\n",
       "      <td>0.5213</td>\n",
       "      <td>Polyamine Analogue PG11047</td>\n",
       "      <td>0.4905</td>\n",
       "      <td>Serdemetan</td>\n",
       "      <td>0.4807</td>\n",
       "      <td>Methotrexate</td>\n",
       "      <td>0.4750</td>\n",
       "      <td>Dinaciclib</td>\n",
       "      <td>0.4725</td>\n",
       "    </tr>\n",
       "    <tr>\n",
       "      <th>1</th>\n",
       "      <td>19D12</td>\n",
       "      <td>Robatumumab</td>\n",
       "      <td>99</td>\n",
       "      <td>Everolimus</td>\n",
       "      <td>0.4492</td>\n",
       "      <td>MDM2 Inhibitor</td>\n",
       "      <td>0.4417</td>\n",
       "      <td>Cetuximab</td>\n",
       "      <td>0.4298</td>\n",
       "      <td>Trastuzumab</td>\n",
       "      <td>0.4275</td>\n",
       "      <td>Mapatumumab</td>\n",
       "      <td>0.4242</td>\n",
       "    </tr>\n",
       "    <tr>\n",
       "      <th>2</th>\n",
       "      <td>5 fu</td>\n",
       "      <td>Fluorouracil</td>\n",
       "      <td>1</td>\n",
       "      <td>Fluorouracil</td>\n",
       "      <td>0.8909</td>\n",
       "      <td>Floxuridine</td>\n",
       "      <td>0.7742</td>\n",
       "      <td>Fluoropyrimidine</td>\n",
       "      <td>0.7596</td>\n",
       "      <td>Gemcitabine</td>\n",
       "      <td>0.6081</td>\n",
       "      <td>Leucovorin</td>\n",
       "      <td>0.5865</td>\n",
       "    </tr>\n",
       "    <tr>\n",
       "      <th>3</th>\n",
       "      <td>5-FU</td>\n",
       "      <td>Fluorouracil</td>\n",
       "      <td>1</td>\n",
       "      <td>Fluorouracil</td>\n",
       "      <td>0.8948</td>\n",
       "      <td>Floxuridine</td>\n",
       "      <td>0.7626</td>\n",
       "      <td>Fluoropyrimidine</td>\n",
       "      <td>0.7557</td>\n",
       "      <td>Gemcitabine</td>\n",
       "      <td>0.6171</td>\n",
       "      <td>Fotemustine</td>\n",
       "      <td>0.5771</td>\n",
       "    </tr>\n",
       "    <tr>\n",
       "      <th>4</th>\n",
       "      <td>5-fluorouracil</td>\n",
       "      <td>Fluorouracil</td>\n",
       "      <td>1</td>\n",
       "      <td>Fluorouracil</td>\n",
       "      <td>0.9522</td>\n",
       "      <td>Fluoropyrimidine</td>\n",
       "      <td>0.7612</td>\n",
       "      <td>Floxuridine</td>\n",
       "      <td>0.7425</td>\n",
       "      <td>Gemcitabine</td>\n",
       "      <td>0.5893</td>\n",
       "      <td>Capecitabine</td>\n",
       "      <td>0.5692</td>\n",
       "    </tr>\n",
       "    <tr>\n",
       "      <th>...</th>\n",
       "      <td>...</td>\n",
       "      <td>...</td>\n",
       "      <td>...</td>\n",
       "      <td>...</td>\n",
       "      <td>...</td>\n",
       "      <td>...</td>\n",
       "      <td>...</td>\n",
       "      <td>...</td>\n",
       "      <td>...</td>\n",
       "      <td>...</td>\n",
       "      <td>...</td>\n",
       "      <td>...</td>\n",
       "      <td>...</td>\n",
       "    </tr>\n",
       "    <tr>\n",
       "      <th>431</th>\n",
       "      <td>vinblastine</td>\n",
       "      <td>Vinblastine</td>\n",
       "      <td>1</td>\n",
       "      <td>Vinblastine</td>\n",
       "      <td>1.0000</td>\n",
       "      <td>Vinorelbine</td>\n",
       "      <td>0.7998</td>\n",
       "      <td>Vincristine</td>\n",
       "      <td>0.6892</td>\n",
       "      <td>Vincristine Sulfate</td>\n",
       "      <td>0.6166</td>\n",
       "      <td>Brentuximab Vedotin</td>\n",
       "      <td>0.5999</td>\n",
       "    </tr>\n",
       "    <tr>\n",
       "      <th>432</th>\n",
       "      <td>vincrisinte</td>\n",
       "      <td>Vincristine</td>\n",
       "      <td>1</td>\n",
       "      <td>Vincristine</td>\n",
       "      <td>0.8570</td>\n",
       "      <td>Vincristine Sulfate</td>\n",
       "      <td>0.7572</td>\n",
       "      <td>Vinorelbine</td>\n",
       "      <td>0.6906</td>\n",
       "      <td>Vinblastine</td>\n",
       "      <td>0.6838</td>\n",
       "      <td>Etoposide Phosphate</td>\n",
       "      <td>0.6164</td>\n",
       "    </tr>\n",
       "    <tr>\n",
       "      <th>433</th>\n",
       "      <td>vincristine</td>\n",
       "      <td>Vincristine</td>\n",
       "      <td>1</td>\n",
       "      <td>Vincristine</td>\n",
       "      <td>1.0000</td>\n",
       "      <td>Vincristine Sulfate</td>\n",
       "      <td>0.8704</td>\n",
       "      <td>Vinblastine</td>\n",
       "      <td>0.6892</td>\n",
       "      <td>Vinorelbine</td>\n",
       "      <td>0.6849</td>\n",
       "      <td>Oxaliplatin</td>\n",
       "      <td>0.5546</td>\n",
       "    </tr>\n",
       "    <tr>\n",
       "      <th>434</th>\n",
       "      <td>vincristine sulfate</td>\n",
       "      <td>Vincristine Sulfate</td>\n",
       "      <td>1</td>\n",
       "      <td>Vincristine Sulfate</td>\n",
       "      <td>1.0000</td>\n",
       "      <td>Vincristine</td>\n",
       "      <td>0.8704</td>\n",
       "      <td>Vinblastine</td>\n",
       "      <td>0.6166</td>\n",
       "      <td>Vinorelbine</td>\n",
       "      <td>0.5915</td>\n",
       "      <td>Etoposide Phosphate</td>\n",
       "      <td>0.5471</td>\n",
       "    </tr>\n",
       "    <tr>\n",
       "      <th>435</th>\n",
       "      <td>xeloda</td>\n",
       "      <td>Capecitabine</td>\n",
       "      <td>1</td>\n",
       "      <td>Capecitabine</td>\n",
       "      <td>0.7316</td>\n",
       "      <td>Zoligratinib</td>\n",
       "      <td>0.6046</td>\n",
       "      <td>Alpelisib</td>\n",
       "      <td>0.5982</td>\n",
       "      <td>Quizartinib Dihydrochloride</td>\n",
       "      <td>0.5909</td>\n",
       "      <td>Cediranib</td>\n",
       "      <td>0.5862</td>\n",
       "    </tr>\n",
       "  </tbody>\n",
       "</table>\n",
       "<p>436 rows × 13 columns</p>\n",
       "</div>"
      ],
      "text/plain": [
       "          original_value     curated_ontology  match_level  \\\n",
       "0                17-DMAG         Alvespimycin           99   \n",
       "1                  19D12          Robatumumab           99   \n",
       "2                   5 fu         Fluorouracil            1   \n",
       "3                   5-FU         Fluorouracil            1   \n",
       "4         5-fluorouracil         Fluorouracil            1   \n",
       "..                   ...                  ...          ...   \n",
       "431          vinblastine          Vinblastine            1   \n",
       "432          vincrisinte          Vincristine            1   \n",
       "433          vincristine          Vincristine            1   \n",
       "434  vincristine sulfate  Vincristine Sulfate            1   \n",
       "435               xeloda         Capecitabine            1   \n",
       "\n",
       "              top1_match top1_score                  top2_match top2_score  \\\n",
       "0              Memantine     0.5213  Polyamine Analogue PG11047     0.4905   \n",
       "1             Everolimus     0.4492              MDM2 Inhibitor     0.4417   \n",
       "2           Fluorouracil     0.8909                 Floxuridine     0.7742   \n",
       "3           Fluorouracil     0.8948                 Floxuridine     0.7626   \n",
       "4           Fluorouracil     0.9522            Fluoropyrimidine     0.7612   \n",
       "..                   ...        ...                         ...        ...   \n",
       "431          Vinblastine     1.0000                 Vinorelbine     0.7998   \n",
       "432          Vincristine     0.8570         Vincristine Sulfate     0.7572   \n",
       "433          Vincristine     1.0000         Vincristine Sulfate     0.8704   \n",
       "434  Vincristine Sulfate     1.0000                 Vincristine     0.8704   \n",
       "435         Capecitabine     0.7316                Zoligratinib     0.6046   \n",
       "\n",
       "           top3_match top3_score                   top4_match top4_score  \\\n",
       "0          Serdemetan     0.4807                 Methotrexate     0.4750   \n",
       "1           Cetuximab     0.4298                  Trastuzumab     0.4275   \n",
       "2    Fluoropyrimidine     0.7596                  Gemcitabine     0.6081   \n",
       "3    Fluoropyrimidine     0.7557                  Gemcitabine     0.6171   \n",
       "4         Floxuridine     0.7425                  Gemcitabine     0.5893   \n",
       "..                ...        ...                          ...        ...   \n",
       "431       Vincristine     0.6892          Vincristine Sulfate     0.6166   \n",
       "432       Vinorelbine     0.6906                  Vinblastine     0.6838   \n",
       "433       Vinblastine     0.6892                  Vinorelbine     0.6849   \n",
       "434       Vinblastine     0.6166                  Vinorelbine     0.5915   \n",
       "435         Alpelisib     0.5982  Quizartinib Dihydrochloride     0.5909   \n",
       "\n",
       "              top5_match top5_score  \n",
       "0             Dinaciclib     0.4725  \n",
       "1            Mapatumumab     0.4242  \n",
       "2             Leucovorin     0.5865  \n",
       "3            Fotemustine     0.5771  \n",
       "4           Capecitabine     0.5692  \n",
       "..                   ...        ...  \n",
       "431  Brentuximab Vedotin     0.5999  \n",
       "432  Etoposide Phosphate     0.6164  \n",
       "433          Oxaliplatin     0.5546  \n",
       "434  Etoposide Phosphate     0.5471  \n",
       "435            Cediranib     0.5862  \n",
       "\n",
       "[436 rows x 13 columns]"
      ]
     },
     "execution_count": 8,
     "metadata": {},
     "output_type": "execute_result"
    }
   ],
   "source": [
    "results_engine_testing[1]"
   ]
  },
  {
   "cell_type": "markdown",
   "metadata": {},
   "source": [
    "## Production"
   ]
  },
  {
   "cell_type": "code",
   "execution_count": 10,
   "metadata": {},
   "outputs": [
    {
     "name": "stdout",
     "output_type": "stream",
     "text": [
<<<<<<< HEAD
<<<<<<< HEAD
<<<<<<< HEAD
=======
>>>>>>> parent of 742544a (Merge commit 'e73751844beddc38c705c558f40cc490b0f9f107' into abhi_devv)
      "23/07//2024 12:14:1721717062 PM - INFO - OntoMapEngine: Initialized OntoMap Engine module\n",
      "23/07//2024 12:14:1721717062 PM - INFO - OntoMapEngine: Initialized OntoMap Engine module\n"
     ]
    }
   ],
   "source": [
    "other_params = {\"test_or_prod\": \"prod\"}\n",
    "onto_engine_large_prod = ome.OntoMapEngine(method='sap-bert', topk=5, query=query_list,\n",
    "                                      corpus=small_corpus_list,\n",
    "                                      cura_map=None, yaml_path='./src/models/method_model.yaml', \n",
    "                                      om_strategy='lm', **other_params)"
   ]
  },
  {
   "cell_type": "code",
   "execution_count": 11,
   "metadata": {},
   "outputs": [
    {
     "name": "stdout",
     "output_type": "stream",
     "text": [
      "23/07//2024 12:14:1721717064 PM - INFO - OntoMapEngine: Running Ontology Mapping\n",
      "23/07//2024 12:14:1721717064 PM - INFO - OntoMapEngine: Running Ontology Mapping\n",
      "23/07//2024 12:14:1721717064 PM - INFO - OntoMapEngine: Separating exact and non-exact matches\n",
      "23/07//2024 12:14:1721717064 PM - INFO - OntoMapEngine: Separating exact and non-exact matches\n",
      "23/07//2024 12:14:1721717064 PM - INFO - OntoMapEngine: Running OntoMap model for non-exact matches\n",
      "23/07//2024 12:14:1721717064 PM - INFO - OntoMapEngine: Running OntoMap model for non-exact matches\n",
      "23/07//2024 12:14:1721717064 PM - INFO - OntoMapLM: Initialized OntoMap Language Model module\n",
      "23/07//2024 12:14:1721717064 PM - INFO - OntoMapLM: Initialized OntoMap Language Model module\n",
      "23/07//2024 12:14:1721717064 PM - INFO - OntoMapLM: Initialized OntoMap Language Model module\n",
      "23/07//2024 12:14:1721717064 PM - INFO - OntoMapLM.get_match_results: Creating embeddings for query_list and corpus\n",
      "23/07//2024 12:14:1721717064 PM - INFO - OntoMapLM.get_match_results: Creating embeddings for query_list and corpus\n",
      "23/07//2024 12:14:1721717064 PM - INFO - OntoMapLM.get_match_results: Creating embeddings for query_list and corpus\n",
      "23/07//2024 12:14:1721717077 PM - INFO - OntoMapLM.get_match_results: Calculating cosine similarity matrix\n",
      "23/07//2024 12:14:1721717077 PM - INFO - OntoMapLM.get_match_results: Calculating cosine similarity matrix\n",
      "23/07//2024 12:14:1721717077 PM - INFO - OntoMapLM.get_match_results: Calculating cosine similarity matrix\n",
      "23/07//2024 12:14:1721717077 PM - INFO - OntoMapLM.get_match_results: Generating results table\n",
      "23/07//2024 12:14:1721717077 PM - INFO - OntoMapLM.get_match_results: Generating results table\n",
      "23/07//2024 12:14:1721717077 PM - INFO - OntoMapLM.get_match_results: Generating results table\n",
      "23/07//2024 12:14:1721717077 PM - INFO - OntoMapLM.get_match_results: Results Generated\n",
      "23/07//2024 12:14:1721717077 PM - INFO - OntoMapLM.get_match_results: Results Generated\n",
      "23/07//2024 12:14:1721717077 PM - INFO - OntoMapLM.get_match_results: Results Generated\n"
     ]
    }
   ],
   "source": [
    "res_prod = onto_engine_large_prod.run()"
   ]
  },
  {
   "cell_type": "code",
   "execution_count": 12,
   "metadata": {},
   "outputs": [
    {
     "data": {
      "text/html": [
       "<div>\n",
       "<style scoped>\n",
       "    .dataframe tbody tr th:only-of-type {\n",
       "        vertical-align: middle;\n",
       "    }\n",
       "\n",
       "    .dataframe tbody tr th {\n",
       "        vertical-align: top;\n",
       "    }\n",
       "\n",
       "    .dataframe thead th {\n",
       "        text-align: right;\n",
       "    }\n",
       "</style>\n",
       "<table border=\"1\" class=\"dataframe\">\n",
       "  <thead>\n",
       "    <tr style=\"text-align: right;\">\n",
       "      <th></th>\n",
       "      <th>original_value</th>\n",
       "      <th>curated_ontology</th>\n",
       "      <th>match_level</th>\n",
       "      <th>top1_match</th>\n",
       "      <th>top1_score</th>\n",
       "      <th>top2_match</th>\n",
       "      <th>top2_score</th>\n",
       "      <th>top3_match</th>\n",
       "      <th>top3_score</th>\n",
       "      <th>top4_match</th>\n",
       "      <th>top4_score</th>\n",
       "      <th>top5_match</th>\n",
       "      <th>top5_score</th>\n",
       "    </tr>\n",
       "  </thead>\n",
       "  <tbody>\n",
       "    <tr>\n",
       "      <th>0</th>\n",
       "      <td>17-DMAG</td>\n",
       "      <td>Not Available for Prod Environment</td>\n",
       "      <td>99</td>\n",
       "      <td>Memantine</td>\n",
       "      <td>0.5213</td>\n",
       "      <td>Polyamine Analogue PG11047</td>\n",
       "      <td>0.4905</td>\n",
       "      <td>Serdemetan</td>\n",
       "      <td>0.4807</td>\n",
       "      <td>Methotrexate</td>\n",
       "      <td>0.4750</td>\n",
       "      <td>Dinaciclib</td>\n",
       "      <td>0.4725</td>\n",
       "    </tr>\n",
       "    <tr>\n",
       "      <th>1</th>\n",
       "      <td>19D12</td>\n",
       "      <td>Not Available for Prod Environment</td>\n",
       "      <td>99</td>\n",
       "      <td>Everolimus</td>\n",
       "      <td>0.4492</td>\n",
       "      <td>MDM2 Inhibitor</td>\n",
       "      <td>0.4417</td>\n",
       "      <td>Cetuximab</td>\n",
       "      <td>0.4298</td>\n",
       "      <td>Trastuzumab</td>\n",
       "      <td>0.4275</td>\n",
       "      <td>Mapatumumab</td>\n",
       "      <td>0.4242</td>\n",
       "    </tr>\n",
       "    <tr>\n",
       "      <th>2</th>\n",
       "      <td>5 fu</td>\n",
       "      <td>Not Available for Prod Environment</td>\n",
       "      <td>99</td>\n",
       "      <td>Fluorouracil</td>\n",
       "      <td>0.8909</td>\n",
       "      <td>Floxuridine</td>\n",
       "      <td>0.7742</td>\n",
       "      <td>Fluoropyrimidine</td>\n",
       "      <td>0.7596</td>\n",
       "      <td>Gemcitabine</td>\n",
       "      <td>0.6081</td>\n",
       "      <td>Leucovorin</td>\n",
       "      <td>0.5865</td>\n",
       "    </tr>\n",
       "    <tr>\n",
       "      <th>3</th>\n",
       "      <td>5-FU</td>\n",
       "      <td>Not Available for Prod Environment</td>\n",
       "      <td>99</td>\n",
       "      <td>Fluorouracil</td>\n",
       "      <td>0.8948</td>\n",
       "      <td>Floxuridine</td>\n",
       "      <td>0.7626</td>\n",
       "      <td>Fluoropyrimidine</td>\n",
       "      <td>0.7557</td>\n",
       "      <td>Gemcitabine</td>\n",
       "      <td>0.6171</td>\n",
       "      <td>Fotemustine</td>\n",
       "      <td>0.5771</td>\n",
       "    </tr>\n",
       "    <tr>\n",
       "      <th>4</th>\n",
       "      <td>5-fluorouracil</td>\n",
       "      <td>Not Available for Prod Environment</td>\n",
       "      <td>99</td>\n",
       "      <td>Fluorouracil</td>\n",
       "      <td>0.9522</td>\n",
       "      <td>Fluoropyrimidine</td>\n",
       "      <td>0.7612</td>\n",
       "      <td>Floxuridine</td>\n",
       "      <td>0.7425</td>\n",
       "      <td>Gemcitabine</td>\n",
       "      <td>0.5893</td>\n",
       "      <td>Capecitabine</td>\n",
       "      <td>0.5692</td>\n",
       "    </tr>\n",
       "    <tr>\n",
       "      <th>...</th>\n",
       "      <td>...</td>\n",
       "      <td>...</td>\n",
       "      <td>...</td>\n",
       "      <td>...</td>\n",
       "      <td>...</td>\n",
       "      <td>...</td>\n",
       "      <td>...</td>\n",
       "      <td>...</td>\n",
       "      <td>...</td>\n",
       "      <td>...</td>\n",
       "      <td>...</td>\n",
       "      <td>...</td>\n",
       "      <td>...</td>\n",
       "    </tr>\n",
       "    <tr>\n",
       "      <th>431</th>\n",
       "      <td>vinblastine</td>\n",
       "      <td>Not Available for Prod Environment</td>\n",
       "      <td>99</td>\n",
       "      <td>Vinblastine</td>\n",
       "      <td>1.0000</td>\n",
       "      <td>Vinorelbine</td>\n",
       "      <td>0.7998</td>\n",
       "      <td>Vincristine</td>\n",
       "      <td>0.6892</td>\n",
       "      <td>Vincristine Sulfate</td>\n",
       "      <td>0.6166</td>\n",
       "      <td>Brentuximab Vedotin</td>\n",
       "      <td>0.5999</td>\n",
       "    </tr>\n",
       "    <tr>\n",
       "      <th>432</th>\n",
       "      <td>vincrisinte</td>\n",
       "      <td>Not Available for Prod Environment</td>\n",
       "      <td>99</td>\n",
       "      <td>Vincristine</td>\n",
       "      <td>0.8570</td>\n",
       "      <td>Vincristine Sulfate</td>\n",
       "      <td>0.7572</td>\n",
       "      <td>Vinorelbine</td>\n",
       "      <td>0.6906</td>\n",
       "      <td>Vinblastine</td>\n",
       "      <td>0.6838</td>\n",
       "      <td>Etoposide Phosphate</td>\n",
       "      <td>0.6164</td>\n",
       "    </tr>\n",
       "    <tr>\n",
       "      <th>433</th>\n",
       "      <td>vincristine</td>\n",
       "      <td>Not Available for Prod Environment</td>\n",
       "      <td>99</td>\n",
       "      <td>Vincristine</td>\n",
       "      <td>1.0000</td>\n",
       "      <td>Vincristine Sulfate</td>\n",
       "      <td>0.8704</td>\n",
       "      <td>Vinblastine</td>\n",
       "      <td>0.6892</td>\n",
       "      <td>Vinorelbine</td>\n",
       "      <td>0.6849</td>\n",
       "      <td>Oxaliplatin</td>\n",
       "      <td>0.5546</td>\n",
       "    </tr>\n",
       "    <tr>\n",
       "      <th>434</th>\n",
       "      <td>vincristine sulfate</td>\n",
       "      <td>Not Available for Prod Environment</td>\n",
       "      <td>99</td>\n",
       "      <td>Vincristine Sulfate</td>\n",
       "      <td>1.0000</td>\n",
       "      <td>Vincristine</td>\n",
       "      <td>0.8704</td>\n",
       "      <td>Vinblastine</td>\n",
       "      <td>0.6166</td>\n",
       "      <td>Vinorelbine</td>\n",
       "      <td>0.5915</td>\n",
       "      <td>Etoposide Phosphate</td>\n",
       "      <td>0.5471</td>\n",
       "    </tr>\n",
       "    <tr>\n",
       "      <th>435</th>\n",
       "      <td>xeloda</td>\n",
       "      <td>Not Available for Prod Environment</td>\n",
       "      <td>99</td>\n",
       "      <td>Capecitabine</td>\n",
       "      <td>0.7316</td>\n",
       "      <td>Zoligratinib</td>\n",
       "      <td>0.6046</td>\n",
       "      <td>Alpelisib</td>\n",
       "      <td>0.5982</td>\n",
       "      <td>Quizartinib Dihydrochloride</td>\n",
       "      <td>0.5909</td>\n",
       "      <td>Cediranib</td>\n",
       "      <td>0.5862</td>\n",
       "    </tr>\n",
       "  </tbody>\n",
       "</table>\n",
       "<p>436 rows × 13 columns</p>\n",
       "</div>"
      ],
      "text/plain": [
       "          original_value                    curated_ontology  match_level  \\\n",
       "0                17-DMAG  Not Available for Prod Environment           99   \n",
       "1                  19D12  Not Available for Prod Environment           99   \n",
       "2                   5 fu  Not Available for Prod Environment           99   \n",
       "3                   5-FU  Not Available for Prod Environment           99   \n",
       "4         5-fluorouracil  Not Available for Prod Environment           99   \n",
       "..                   ...                                 ...          ...   \n",
       "431          vinblastine  Not Available for Prod Environment           99   \n",
       "432          vincrisinte  Not Available for Prod Environment           99   \n",
       "433          vincristine  Not Available for Prod Environment           99   \n",
       "434  vincristine sulfate  Not Available for Prod Environment           99   \n",
       "435               xeloda  Not Available for Prod Environment           99   \n",
       "\n",
       "              top1_match top1_score                  top2_match top2_score  \\\n",
       "0              Memantine     0.5213  Polyamine Analogue PG11047     0.4905   \n",
       "1             Everolimus     0.4492              MDM2 Inhibitor     0.4417   \n",
       "2           Fluorouracil     0.8909                 Floxuridine     0.7742   \n",
       "3           Fluorouracil     0.8948                 Floxuridine     0.7626   \n",
       "4           Fluorouracil     0.9522            Fluoropyrimidine     0.7612   \n",
       "..                   ...        ...                         ...        ...   \n",
       "431          Vinblastine     1.0000                 Vinorelbine     0.7998   \n",
       "432          Vincristine     0.8570         Vincristine Sulfate     0.7572   \n",
       "433          Vincristine     1.0000         Vincristine Sulfate     0.8704   \n",
       "434  Vincristine Sulfate     1.0000                 Vincristine     0.8704   \n",
       "435         Capecitabine     0.7316                Zoligratinib     0.6046   \n",
       "\n",
       "           top3_match top3_score                   top4_match top4_score  \\\n",
       "0          Serdemetan     0.4807                 Methotrexate     0.4750   \n",
       "1           Cetuximab     0.4298                  Trastuzumab     0.4275   \n",
       "2    Fluoropyrimidine     0.7596                  Gemcitabine     0.6081   \n",
       "3    Fluoropyrimidine     0.7557                  Gemcitabine     0.6171   \n",
       "4         Floxuridine     0.7425                  Gemcitabine     0.5893   \n",
       "..                ...        ...                          ...        ...   \n",
       "431       Vincristine     0.6892          Vincristine Sulfate     0.6166   \n",
       "432       Vinorelbine     0.6906                  Vinblastine     0.6838   \n",
       "433       Vinblastine     0.6892                  Vinorelbine     0.6849   \n",
       "434       Vinblastine     0.6166                  Vinorelbine     0.5915   \n",
       "435         Alpelisib     0.5982  Quizartinib Dihydrochloride     0.5909   \n",
       "\n",
       "              top5_match top5_score  \n",
       "0             Dinaciclib     0.4725  \n",
       "1            Mapatumumab     0.4242  \n",
       "2             Leucovorin     0.5865  \n",
       "3            Fotemustine     0.5771  \n",
       "4           Capecitabine     0.5692  \n",
       "..                   ...        ...  \n",
       "431  Brentuximab Vedotin     0.5999  \n",
       "432  Etoposide Phosphate     0.6164  \n",
       "433          Oxaliplatin     0.5546  \n",
       "434  Etoposide Phosphate     0.5471  \n",
       "435            Cediranib     0.5862  \n",
       "\n",
       "[436 rows x 13 columns]"
      ]
     },
     "execution_count": 12,
     "metadata": {},
     "output_type": "execute_result"
    }
   ],
   "source": [
    "res_prod[1]"
=======
   "execution_count": null,
=======
   "execution_count": 7,
>>>>>>> 11a0b3b (Final updates to schema mapper with schema_map  demo)
   "metadata": {},
   "outputs": [
    {
     "name": "stdout",
     "output_type": "stream",
     "text": [
      "30/07//2024 11:01:1722317510 AM - INFO - OntoMapEngine: Running Ontology Mapping\n",
      "30/07//2024 11:01:1722317510 AM - INFO - OntoMapEngine: Separating exact and non-exact matches\n",
      "30/07//2024 11:01:1722317510 AM - INFO - OntoMapEngine: Running OntoMap model for non-exact matches\n",
      "30/07//2024 11:01:1722317510 AM - INFO - OntoMapLM: Initialized OntoMap Language Model module\n",
      "30/07//2024 11:01:1722317510 AM - INFO - OntoMapLM.get_match_results: Creating embeddings for query_list and corpus\n",
      "30/07//2024 11:01:1722317518 AM - INFO - OntoMapLM.get_match_results: Calculating cosine similarity matrix\n",
      "30/07//2024 11:01:1722317518 AM - INFO - OntoMapLM.get_match_results: Generating results table\n",
      "30/07//2024 11:01:1722317518 AM - INFO - OntoMapLM.get_match_results: Results Generated\n"
     ]
    }
   ],
   "source": [
<<<<<<< HEAD
    "es_sapbert_small = ct_instance_sapbert.get_match_results(cura_map=cura_map_lcs, topk=5)"
>>>>>>> b224039 (v0.2.4 updates:)
=======
    "results_engine_testing = onto_engine_large.run()"
   ]
  },
  {
   "cell_type": "code",
   "execution_count": 8,
   "metadata": {},
   "outputs": [
    {
     "data": {
      "text/html": [
       "<div>\n",
       "<style scoped>\n",
       "    .dataframe tbody tr th:only-of-type {\n",
       "        vertical-align: middle;\n",
       "    }\n",
       "\n",
       "    .dataframe tbody tr th {\n",
       "        vertical-align: top;\n",
       "    }\n",
       "\n",
       "    .dataframe thead th {\n",
       "        text-align: right;\n",
       "    }\n",
       "</style>\n",
       "<table border=\"1\" class=\"dataframe\">\n",
       "  <thead>\n",
       "    <tr style=\"text-align: right;\">\n",
       "      <th></th>\n",
       "      <th>original_value</th>\n",
       "      <th>curated_ontology</th>\n",
       "      <th>match_level</th>\n",
       "      <th>top1_match</th>\n",
       "      <th>top1_score</th>\n",
       "      <th>top2_match</th>\n",
       "      <th>top2_score</th>\n",
       "      <th>top3_match</th>\n",
       "      <th>top3_score</th>\n",
       "      <th>top4_match</th>\n",
       "      <th>top4_score</th>\n",
       "      <th>top5_match</th>\n",
       "      <th>top5_score</th>\n",
       "    </tr>\n",
       "  </thead>\n",
       "  <tbody>\n",
       "    <tr>\n",
       "      <th>0</th>\n",
       "      <td>17-DMAG</td>\n",
       "      <td>Alvespimycin</td>\n",
       "      <td>99</td>\n",
       "      <td>Memantine</td>\n",
       "      <td>0.5213</td>\n",
       "      <td>Polyamine Analogue PG11047</td>\n",
       "      <td>0.4905</td>\n",
       "      <td>Serdemetan</td>\n",
       "      <td>0.4807</td>\n",
       "      <td>Methotrexate</td>\n",
       "      <td>0.4750</td>\n",
       "      <td>Dinaciclib</td>\n",
       "      <td>0.4725</td>\n",
       "    </tr>\n",
       "    <tr>\n",
       "      <th>1</th>\n",
       "      <td>19D12</td>\n",
       "      <td>Robatumumab</td>\n",
       "      <td>99</td>\n",
       "      <td>Everolimus</td>\n",
       "      <td>0.4492</td>\n",
       "      <td>MDM2 Inhibitor</td>\n",
       "      <td>0.4417</td>\n",
       "      <td>Cetuximab</td>\n",
       "      <td>0.4298</td>\n",
       "      <td>Trastuzumab</td>\n",
       "      <td>0.4275</td>\n",
       "      <td>Mapatumumab</td>\n",
       "      <td>0.4242</td>\n",
       "    </tr>\n",
       "    <tr>\n",
       "      <th>2</th>\n",
       "      <td>5 fu</td>\n",
       "      <td>Fluorouracil</td>\n",
       "      <td>1</td>\n",
       "      <td>Fluorouracil</td>\n",
       "      <td>0.8909</td>\n",
       "      <td>Floxuridine</td>\n",
       "      <td>0.7742</td>\n",
       "      <td>Fluoropyrimidine</td>\n",
       "      <td>0.7596</td>\n",
       "      <td>Gemcitabine</td>\n",
       "      <td>0.6081</td>\n",
       "      <td>Leucovorin</td>\n",
       "      <td>0.5865</td>\n",
       "    </tr>\n",
       "    <tr>\n",
       "      <th>3</th>\n",
       "      <td>5-FU</td>\n",
       "      <td>Fluorouracil</td>\n",
       "      <td>1</td>\n",
       "      <td>Fluorouracil</td>\n",
       "      <td>0.8948</td>\n",
       "      <td>Floxuridine</td>\n",
       "      <td>0.7626</td>\n",
       "      <td>Fluoropyrimidine</td>\n",
       "      <td>0.7557</td>\n",
       "      <td>Gemcitabine</td>\n",
       "      <td>0.6171</td>\n",
       "      <td>Fotemustine</td>\n",
       "      <td>0.5771</td>\n",
       "    </tr>\n",
       "    <tr>\n",
       "      <th>4</th>\n",
       "      <td>5-fluorouracil</td>\n",
       "      <td>Fluorouracil</td>\n",
       "      <td>1</td>\n",
       "      <td>Fluorouracil</td>\n",
       "      <td>0.9522</td>\n",
       "      <td>Fluoropyrimidine</td>\n",
       "      <td>0.7612</td>\n",
       "      <td>Floxuridine</td>\n",
       "      <td>0.7425</td>\n",
       "      <td>Gemcitabine</td>\n",
       "      <td>0.5893</td>\n",
       "      <td>Capecitabine</td>\n",
       "      <td>0.5692</td>\n",
       "    </tr>\n",
       "    <tr>\n",
       "      <th>...</th>\n",
       "      <td>...</td>\n",
       "      <td>...</td>\n",
       "      <td>...</td>\n",
       "      <td>...</td>\n",
       "      <td>...</td>\n",
       "      <td>...</td>\n",
       "      <td>...</td>\n",
       "      <td>...</td>\n",
       "      <td>...</td>\n",
       "      <td>...</td>\n",
       "      <td>...</td>\n",
       "      <td>...</td>\n",
       "      <td>...</td>\n",
       "    </tr>\n",
       "    <tr>\n",
       "      <th>431</th>\n",
       "      <td>vinblastine</td>\n",
       "      <td>Vinblastine</td>\n",
       "      <td>1</td>\n",
       "      <td>Vinblastine</td>\n",
       "      <td>1.0000</td>\n",
       "      <td>Vinorelbine</td>\n",
       "      <td>0.7998</td>\n",
       "      <td>Vincristine</td>\n",
       "      <td>0.6892</td>\n",
       "      <td>Vincristine Sulfate</td>\n",
       "      <td>0.6166</td>\n",
       "      <td>Brentuximab Vedotin</td>\n",
       "      <td>0.5999</td>\n",
       "    </tr>\n",
       "    <tr>\n",
       "      <th>432</th>\n",
       "      <td>vincrisinte</td>\n",
       "      <td>Vincristine</td>\n",
       "      <td>1</td>\n",
       "      <td>Vincristine</td>\n",
       "      <td>0.8570</td>\n",
       "      <td>Vincristine Sulfate</td>\n",
       "      <td>0.7572</td>\n",
       "      <td>Vinorelbine</td>\n",
       "      <td>0.6906</td>\n",
       "      <td>Vinblastine</td>\n",
       "      <td>0.6838</td>\n",
       "      <td>Etoposide Phosphate</td>\n",
       "      <td>0.6164</td>\n",
       "    </tr>\n",
       "    <tr>\n",
       "      <th>433</th>\n",
       "      <td>vincristine</td>\n",
       "      <td>Vincristine</td>\n",
       "      <td>1</td>\n",
       "      <td>Vincristine</td>\n",
       "      <td>1.0000</td>\n",
       "      <td>Vincristine Sulfate</td>\n",
       "      <td>0.8704</td>\n",
       "      <td>Vinblastine</td>\n",
       "      <td>0.6892</td>\n",
       "      <td>Vinorelbine</td>\n",
       "      <td>0.6849</td>\n",
       "      <td>Oxaliplatin</td>\n",
       "      <td>0.5546</td>\n",
       "    </tr>\n",
       "    <tr>\n",
       "      <th>434</th>\n",
       "      <td>vincristine sulfate</td>\n",
       "      <td>Vincristine Sulfate</td>\n",
       "      <td>1</td>\n",
       "      <td>Vincristine Sulfate</td>\n",
       "      <td>1.0000</td>\n",
       "      <td>Vincristine</td>\n",
       "      <td>0.8704</td>\n",
       "      <td>Vinblastine</td>\n",
       "      <td>0.6166</td>\n",
       "      <td>Vinorelbine</td>\n",
       "      <td>0.5915</td>\n",
       "      <td>Etoposide Phosphate</td>\n",
       "      <td>0.5471</td>\n",
       "    </tr>\n",
       "    <tr>\n",
       "      <th>435</th>\n",
       "      <td>xeloda</td>\n",
       "      <td>Capecitabine</td>\n",
       "      <td>1</td>\n",
       "      <td>Capecitabine</td>\n",
       "      <td>0.7316</td>\n",
       "      <td>Zoligratinib</td>\n",
       "      <td>0.6046</td>\n",
       "      <td>Alpelisib</td>\n",
       "      <td>0.5982</td>\n",
       "      <td>Quizartinib Dihydrochloride</td>\n",
       "      <td>0.5909</td>\n",
       "      <td>Cediranib</td>\n",
       "      <td>0.5862</td>\n",
       "    </tr>\n",
       "  </tbody>\n",
       "</table>\n",
       "<p>436 rows × 13 columns</p>\n",
       "</div>"
      ],
      "text/plain": [
       "          original_value     curated_ontology  match_level  \\\n",
       "0                17-DMAG         Alvespimycin           99   \n",
       "1                  19D12          Robatumumab           99   \n",
       "2                   5 fu         Fluorouracil            1   \n",
       "3                   5-FU         Fluorouracil            1   \n",
       "4         5-fluorouracil         Fluorouracil            1   \n",
       "..                   ...                  ...          ...   \n",
       "431          vinblastine          Vinblastine            1   \n",
       "432          vincrisinte          Vincristine            1   \n",
       "433          vincristine          Vincristine            1   \n",
       "434  vincristine sulfate  Vincristine Sulfate            1   \n",
       "435               xeloda         Capecitabine            1   \n",
       "\n",
       "              top1_match top1_score                  top2_match top2_score  \\\n",
       "0              Memantine     0.5213  Polyamine Analogue PG11047     0.4905   \n",
       "1             Everolimus     0.4492              MDM2 Inhibitor     0.4417   \n",
       "2           Fluorouracil     0.8909                 Floxuridine     0.7742   \n",
       "3           Fluorouracil     0.8948                 Floxuridine     0.7626   \n",
       "4           Fluorouracil     0.9522            Fluoropyrimidine     0.7612   \n",
       "..                   ...        ...                         ...        ...   \n",
       "431          Vinblastine     1.0000                 Vinorelbine     0.7998   \n",
       "432          Vincristine     0.8570         Vincristine Sulfate     0.7572   \n",
       "433          Vincristine     1.0000         Vincristine Sulfate     0.8704   \n",
       "434  Vincristine Sulfate     1.0000                 Vincristine     0.8704   \n",
       "435         Capecitabine     0.7316                Zoligratinib     0.6046   \n",
       "\n",
       "           top3_match top3_score                   top4_match top4_score  \\\n",
       "0          Serdemetan     0.4807                 Methotrexate     0.4750   \n",
       "1           Cetuximab     0.4298                  Trastuzumab     0.4275   \n",
       "2    Fluoropyrimidine     0.7596                  Gemcitabine     0.6081   \n",
       "3    Fluoropyrimidine     0.7557                  Gemcitabine     0.6171   \n",
       "4         Floxuridine     0.7425                  Gemcitabine     0.5893   \n",
       "..                ...        ...                          ...        ...   \n",
       "431       Vincristine     0.6892          Vincristine Sulfate     0.6166   \n",
       "432       Vinorelbine     0.6906                  Vinblastine     0.6838   \n",
       "433       Vinblastine     0.6892                  Vinorelbine     0.6849   \n",
       "434       Vinblastine     0.6166                  Vinorelbine     0.5915   \n",
       "435         Alpelisib     0.5982  Quizartinib Dihydrochloride     0.5909   \n",
       "\n",
       "              top5_match top5_score  \n",
       "0             Dinaciclib     0.4725  \n",
       "1            Mapatumumab     0.4242  \n",
       "2             Leucovorin     0.5865  \n",
       "3            Fotemustine     0.5771  \n",
       "4           Capecitabine     0.5692  \n",
       "..                   ...        ...  \n",
       "431  Brentuximab Vedotin     0.5999  \n",
       "432  Etoposide Phosphate     0.6164  \n",
       "433          Oxaliplatin     0.5546  \n",
       "434  Etoposide Phosphate     0.5471  \n",
       "435            Cediranib     0.5862  \n",
       "\n",
       "[436 rows x 13 columns]"
      ]
     },
     "execution_count": 8,
     "metadata": {},
     "output_type": "execute_result"
    }
   ],
   "source": [
    "results_engine_testing[1]"
   ]
  },
  {
   "cell_type": "markdown",
   "metadata": {},
   "source": [
    "## Production"
   ]
  },
  {
   "cell_type": "code",
   "execution_count": 10,
   "metadata": {},
   "outputs": [
    {
     "name": "stdout",
     "output_type": "stream",
     "text": [
=======
>>>>>>> 742544ac2f6635755f8ac6401976785606a7eb27
      "23/07//2024 12:14:1721717062 PM - INFO - OntoMapEngine: Initialized OntoMap Engine module\n",
      "23/07//2024 12:14:1721717062 PM - INFO - OntoMapEngine: Initialized OntoMap Engine module\n"
=======
      "02/09//2024 04:03:1725273222 PM - INFO - OntoMapEngine: Initialized OntoMap Engine module\n",
      "02/09//2024 04:03:1725273222 PM - INFO - OntoMapEngine: Initialized OntoMap Engine module\n"
>>>>>>> fd1285a (comitting unstaged changes for merging)
     ]
    }
   ],
   "source": [
<<<<<<< HEAD
    "other_params = {\"test_or_prod\": \"prod\"}\n",
    "onto_engine_large_prod = ome.OntoMapEngine(method='sap-bert', topk=5, query=query_list,\n",
    "                                      corpus=small_corpus_list,\n",
    "                                      cura_map=None, yaml_path='./src/models/method_model.yaml', \n",
    "                                      om_strategy='lm', **other_params)"
=======
    "query_list = ['17-DMAG', 'VCR']\n",
    "corpus_list = ['Alvespimycin',\n",
    "            'Robatumumab',\n",
    "            'Fluorouracil',\n",
    "            'Mercaptopurine',\n",
    "            'Nab-paclitaxel',\n",
    "            'Venetoclax',\n",
    "            'Navitoclax',\n",
    "            'Veliparib',\n",
    "            'Quizartinib Dihydrochloride',\n",
    "            'Dactinomycin',\n",
    "            'Ivosidenib',\n",
    "            'Enasidenib'\n",
    "            ]\n",
    "other_params = {\"test_or_prod\": \"prod\"}\n",
    "onto_engine_prod= ome.OntoMapEngine(method='sap-bert', topk=5, query=query_list,\n",
    "                                    corpus=corpus_list,\n",
    "                                    cura_map=None, yaml_path='./src/models/method_model.yaml', \n",
    "                                    om_strategy='lm', **other_params)"
>>>>>>> fd1285a (comitting unstaged changes for merging)
   ]
  },
  {
   "cell_type": "code",
   "execution_count": 11,
   "metadata": {},
   "outputs": [
    {
     "name": "stdout",
     "output_type": "stream",
     "text": [
<<<<<<< HEAD
      "23/07//2024 12:14:1721717064 PM - INFO - OntoMapEngine: Running Ontology Mapping\n",
      "23/07//2024 12:14:1721717064 PM - INFO - OntoMapEngine: Running Ontology Mapping\n",
      "23/07//2024 12:14:1721717064 PM - INFO - OntoMapEngine: Separating exact and non-exact matches\n",
      "23/07//2024 12:14:1721717064 PM - INFO - OntoMapEngine: Separating exact and non-exact matches\n",
      "23/07//2024 12:14:1721717064 PM - INFO - OntoMapEngine: Running OntoMap model for non-exact matches\n",
      "23/07//2024 12:14:1721717064 PM - INFO - OntoMapEngine: Running OntoMap model for non-exact matches\n",
      "23/07//2024 12:14:1721717064 PM - INFO - OntoMapLM: Initialized OntoMap Language Model module\n",
      "23/07//2024 12:14:1721717064 PM - INFO - OntoMapLM: Initialized OntoMap Language Model module\n",
      "23/07//2024 12:14:1721717064 PM - INFO - OntoMapLM: Initialized OntoMap Language Model module\n",
      "23/07//2024 12:14:1721717064 PM - INFO - OntoMapLM.get_match_results: Creating embeddings for query_list and corpus\n",
      "23/07//2024 12:14:1721717064 PM - INFO - OntoMapLM.get_match_results: Creating embeddings for query_list and corpus\n",
      "23/07//2024 12:14:1721717064 PM - INFO - OntoMapLM.get_match_results: Creating embeddings for query_list and corpus\n",
      "23/07//2024 12:14:1721717077 PM - INFO - OntoMapLM.get_match_results: Calculating cosine similarity matrix\n",
      "23/07//2024 12:14:1721717077 PM - INFO - OntoMapLM.get_match_results: Calculating cosine similarity matrix\n",
      "23/07//2024 12:14:1721717077 PM - INFO - OntoMapLM.get_match_results: Calculating cosine similarity matrix\n",
      "23/07//2024 12:14:1721717077 PM - INFO - OntoMapLM.get_match_results: Generating results table\n",
      "23/07//2024 12:14:1721717077 PM - INFO - OntoMapLM.get_match_results: Generating results table\n",
      "23/07//2024 12:14:1721717077 PM - INFO - OntoMapLM.get_match_results: Generating results table\n",
      "23/07//2024 12:14:1721717077 PM - INFO - OntoMapLM.get_match_results: Results Generated\n",
      "23/07//2024 12:14:1721717077 PM - INFO - OntoMapLM.get_match_results: Results Generated\n",
      "23/07//2024 12:14:1721717077 PM - INFO - OntoMapLM.get_match_results: Results Generated\n"
=======
      "02/09//2024 04:03:1725273224 PM - INFO - OntoMapEngine: Running Ontology Mapping\n",
      "02/09//2024 04:03:1725273224 PM - INFO - OntoMapEngine: Running Ontology Mapping\n",
      "02/09//2024 04:03:1725273224 PM - INFO - OntoMapEngine: Separating exact and non-exact matches\n",
      "02/09//2024 04:03:1725273224 PM - INFO - OntoMapEngine: Separating exact and non-exact matches\n",
      "02/09//2024 04:03:1725273224 PM - INFO - OntoMapEngine: Running OntoMap model for non-exact matches\n",
      "02/09//2024 04:03:1725273224 PM - INFO - OntoMapEngine: Running OntoMap model for non-exact matches\n",
      "02/09//2024 04:03:1725273224 PM - INFO - OntoMapLM: Initialized OntoMap Language Model module\n",
      "02/09//2024 04:03:1725273224 PM - INFO - OntoMapLM.get_match_results: Creating embeddings for query_list and corpus\n"
     ]
    },
    {
     "name": "stderr",
     "output_type": "stream",
     "text": [
      "/opt/homebrew/anaconda3/envs/‘gsoc_harmon_2024’/lib/python3.12/site-packages/transformers/tokenization_utils_base.py:1601: FutureWarning: `clean_up_tokenization_spaces` was not set. It will be set to `True` by default. This behavior will be depracted in transformers v4.45, and will be then set to `False` by default. For more details check this issue: https://github.com/huggingface/transformers/issues/31884\n",
      "  warnings.warn(\n",
      "/opt/homebrew/anaconda3/envs/‘gsoc_harmon_2024’/lib/python3.12/site-packages/transformers/tokenization_utils_base.py:1601: FutureWarning: `clean_up_tokenization_spaces` was not set. It will be set to `True` by default. This behavior will be depracted in transformers v4.45, and will be then set to `False` by default. For more details check this issue: https://github.com/huggingface/transformers/issues/31884\n",
      "  warnings.warn(\n"
     ]
    },
    {
     "name": "stdout",
     "output_type": "stream",
     "text": [
      "02/09//2024 04:03:1725273228 PM - INFO - OntoMapLM.get_match_results: Calculating cosine similarity matrix\n",
      "02/09//2024 04:03:1725273228 PM - INFO - OntoMapLM.get_match_results: Generating results table\n",
      "02/09//2024 04:03:1725273228 PM - INFO - OntoMapLM.get_match_results: Results Generated\n"
>>>>>>> fd1285a (comitting unstaged changes for merging)
     ]
    }
   ],
   "source": [
<<<<<<< HEAD
    "res_prod = onto_engine_large_prod.run()"
=======
    "res_prod = onto_engine_prod.run()"
>>>>>>> fd1285a (comitting unstaged changes for merging)
   ]
  },
  {
   "cell_type": "code",
   "execution_count": 12,
   "metadata": {},
   "outputs": [
    {
     "data": {
      "text/html": [
       "<div>\n",
       "<style scoped>\n",
       "    .dataframe tbody tr th:only-of-type {\n",
       "        vertical-align: middle;\n",
       "    }\n",
       "\n",
       "    .dataframe tbody tr th {\n",
       "        vertical-align: top;\n",
       "    }\n",
       "\n",
       "    .dataframe thead th {\n",
       "        text-align: right;\n",
       "    }\n",
       "</style>\n",
       "<table border=\"1\" class=\"dataframe\">\n",
       "  <thead>\n",
       "    <tr style=\"text-align: right;\">\n",
       "      <th></th>\n",
       "      <th>original_value</th>\n",
       "      <th>curated_ontology</th>\n",
       "      <th>match_level</th>\n",
       "      <th>top1_match</th>\n",
       "      <th>top1_score</th>\n",
       "      <th>top2_match</th>\n",
       "      <th>top2_score</th>\n",
       "      <th>top3_match</th>\n",
       "      <th>top3_score</th>\n",
       "      <th>top4_match</th>\n",
       "      <th>top4_score</th>\n",
       "      <th>top5_match</th>\n",
       "      <th>top5_score</th>\n",
       "    </tr>\n",
       "  </thead>\n",
       "  <tbody>\n",
       "    <tr>\n",
       "      <th>0</th>\n",
       "      <td>17-DMAG</td>\n",
       "      <td>Not Available for Prod Environment</td>\n",
       "      <td>99</td>\n",
<<<<<<< HEAD
       "      <td>Memantine</td>\n",
       "      <td>0.5213</td>\n",
       "      <td>Polyamine Analogue PG11047</td>\n",
       "      <td>0.4905</td>\n",
       "      <td>Serdemetan</td>\n",
       "      <td>0.4807</td>\n",
       "      <td>Methotrexate</td>\n",
       "      <td>0.4750</td>\n",
       "      <td>Dinaciclib</td>\n",
       "      <td>0.4725</td>\n",
       "    </tr>\n",
       "    <tr>\n",
       "      <th>1</th>\n",
       "      <td>19D12</td>\n",
       "      <td>Not Available for Prod Environment</td>\n",
       "      <td>99</td>\n",
       "      <td>Everolimus</td>\n",
       "      <td>0.4492</td>\n",
       "      <td>MDM2 Inhibitor</td>\n",
       "      <td>0.4417</td>\n",
       "      <td>Cetuximab</td>\n",
       "      <td>0.4298</td>\n",
       "      <td>Trastuzumab</td>\n",
       "      <td>0.4275</td>\n",
       "      <td>Mapatumumab</td>\n",
       "      <td>0.4242</td>\n",
       "    </tr>\n",
       "    <tr>\n",
       "      <th>2</th>\n",
       "      <td>5 fu</td>\n",
       "      <td>Not Available for Prod Environment</td>\n",
       "      <td>99</td>\n",
       "      <td>Fluorouracil</td>\n",
       "      <td>0.8909</td>\n",
       "      <td>Floxuridine</td>\n",
       "      <td>0.7742</td>\n",
       "      <td>Fluoropyrimidine</td>\n",
       "      <td>0.7596</td>\n",
       "      <td>Gemcitabine</td>\n",
       "      <td>0.6081</td>\n",
       "      <td>Leucovorin</td>\n",
       "      <td>0.5865</td>\n",
       "    </tr>\n",
       "    <tr>\n",
       "      <th>3</th>\n",
       "      <td>5-FU</td>\n",
       "      <td>Not Available for Prod Environment</td>\n",
       "      <td>99</td>\n",
       "      <td>Fluorouracil</td>\n",
       "      <td>0.8948</td>\n",
       "      <td>Floxuridine</td>\n",
       "      <td>0.7626</td>\n",
       "      <td>Fluoropyrimidine</td>\n",
       "      <td>0.7557</td>\n",
       "      <td>Gemcitabine</td>\n",
       "      <td>0.6171</td>\n",
       "      <td>Fotemustine</td>\n",
       "      <td>0.5771</td>\n",
       "    </tr>\n",
       "    <tr>\n",
       "      <th>4</th>\n",
       "      <td>5-fluorouracil</td>\n",
       "      <td>Not Available for Prod Environment</td>\n",
       "      <td>99</td>\n",
       "      <td>Fluorouracil</td>\n",
       "      <td>0.9522</td>\n",
       "      <td>Fluoropyrimidine</td>\n",
       "      <td>0.7612</td>\n",
       "      <td>Floxuridine</td>\n",
       "      <td>0.7425</td>\n",
       "      <td>Gemcitabine</td>\n",
       "      <td>0.5893</td>\n",
       "      <td>Capecitabine</td>\n",
       "      <td>0.5692</td>\n",
       "    </tr>\n",
       "    <tr>\n",
       "      <th>...</th>\n",
       "      <td>...</td>\n",
       "      <td>...</td>\n",
       "      <td>...</td>\n",
       "      <td>...</td>\n",
       "      <td>...</td>\n",
       "      <td>...</td>\n",
       "      <td>...</td>\n",
       "      <td>...</td>\n",
       "      <td>...</td>\n",
       "      <td>...</td>\n",
       "      <td>...</td>\n",
       "      <td>...</td>\n",
       "      <td>...</td>\n",
       "    </tr>\n",
       "    <tr>\n",
       "      <th>431</th>\n",
       "      <td>vinblastine</td>\n",
       "      <td>Not Available for Prod Environment</td>\n",
       "      <td>99</td>\n",
       "      <td>Vinblastine</td>\n",
       "      <td>1.0000</td>\n",
       "      <td>Vinorelbine</td>\n",
       "      <td>0.7998</td>\n",
       "      <td>Vincristine</td>\n",
       "      <td>0.6892</td>\n",
       "      <td>Vincristine Sulfate</td>\n",
       "      <td>0.6166</td>\n",
       "      <td>Brentuximab Vedotin</td>\n",
       "      <td>0.5999</td>\n",
       "    </tr>\n",
       "    <tr>\n",
       "      <th>432</th>\n",
       "      <td>vincrisinte</td>\n",
       "      <td>Not Available for Prod Environment</td>\n",
       "      <td>99</td>\n",
       "      <td>Vincristine</td>\n",
       "      <td>0.8570</td>\n",
       "      <td>Vincristine Sulfate</td>\n",
       "      <td>0.7572</td>\n",
       "      <td>Vinorelbine</td>\n",
       "      <td>0.6906</td>\n",
       "      <td>Vinblastine</td>\n",
       "      <td>0.6838</td>\n",
       "      <td>Etoposide Phosphate</td>\n",
       "      <td>0.6164</td>\n",
       "    </tr>\n",
       "    <tr>\n",
       "      <th>433</th>\n",
       "      <td>vincristine</td>\n",
       "      <td>Not Available for Prod Environment</td>\n",
       "      <td>99</td>\n",
       "      <td>Vincristine</td>\n",
       "      <td>1.0000</td>\n",
       "      <td>Vincristine Sulfate</td>\n",
       "      <td>0.8704</td>\n",
       "      <td>Vinblastine</td>\n",
       "      <td>0.6892</td>\n",
       "      <td>Vinorelbine</td>\n",
       "      <td>0.6849</td>\n",
       "      <td>Oxaliplatin</td>\n",
       "      <td>0.5546</td>\n",
       "    </tr>\n",
       "    <tr>\n",
       "      <th>434</th>\n",
       "      <td>vincristine sulfate</td>\n",
       "      <td>Not Available for Prod Environment</td>\n",
       "      <td>99</td>\n",
       "      <td>Vincristine Sulfate</td>\n",
       "      <td>1.0000</td>\n",
       "      <td>Vincristine</td>\n",
       "      <td>0.8704</td>\n",
       "      <td>Vinblastine</td>\n",
       "      <td>0.6166</td>\n",
       "      <td>Vinorelbine</td>\n",
       "      <td>0.5915</td>\n",
       "      <td>Etoposide Phosphate</td>\n",
       "      <td>0.5471</td>\n",
       "    </tr>\n",
       "    <tr>\n",
       "      <th>435</th>\n",
       "      <td>xeloda</td>\n",
       "      <td>Not Available for Prod Environment</td>\n",
       "      <td>99</td>\n",
       "      <td>Capecitabine</td>\n",
       "      <td>0.7316</td>\n",
       "      <td>Zoligratinib</td>\n",
       "      <td>0.6046</td>\n",
       "      <td>Alpelisib</td>\n",
       "      <td>0.5982</td>\n",
       "      <td>Quizartinib Dihydrochloride</td>\n",
       "      <td>0.5909</td>\n",
       "      <td>Cediranib</td>\n",
       "      <td>0.5862</td>\n",
       "    </tr>\n",
       "  </tbody>\n",
       "</table>\n",
       "<p>436 rows × 13 columns</p>\n",
       "</div>"
      ],
      "text/plain": [
       "          original_value                    curated_ontology  match_level  \\\n",
       "0                17-DMAG  Not Available for Prod Environment           99   \n",
       "1                  19D12  Not Available for Prod Environment           99   \n",
       "2                   5 fu  Not Available for Prod Environment           99   \n",
       "3                   5-FU  Not Available for Prod Environment           99   \n",
       "4         5-fluorouracil  Not Available for Prod Environment           99   \n",
       "..                   ...                                 ...          ...   \n",
       "431          vinblastine  Not Available for Prod Environment           99   \n",
       "432          vincrisinte  Not Available for Prod Environment           99   \n",
       "433          vincristine  Not Available for Prod Environment           99   \n",
       "434  vincristine sulfate  Not Available for Prod Environment           99   \n",
       "435               xeloda  Not Available for Prod Environment           99   \n",
       "\n",
       "              top1_match top1_score                  top2_match top2_score  \\\n",
       "0              Memantine     0.5213  Polyamine Analogue PG11047     0.4905   \n",
       "1             Everolimus     0.4492              MDM2 Inhibitor     0.4417   \n",
       "2           Fluorouracil     0.8909                 Floxuridine     0.7742   \n",
       "3           Fluorouracil     0.8948                 Floxuridine     0.7626   \n",
       "4           Fluorouracil     0.9522            Fluoropyrimidine     0.7612   \n",
       "..                   ...        ...                         ...        ...   \n",
       "431          Vinblastine     1.0000                 Vinorelbine     0.7998   \n",
       "432          Vincristine     0.8570         Vincristine Sulfate     0.7572   \n",
       "433          Vincristine     1.0000         Vincristine Sulfate     0.8704   \n",
       "434  Vincristine Sulfate     1.0000                 Vincristine     0.8704   \n",
       "435         Capecitabine     0.7316                Zoligratinib     0.6046   \n",
       "\n",
       "           top3_match top3_score                   top4_match top4_score  \\\n",
       "0          Serdemetan     0.4807                 Methotrexate     0.4750   \n",
       "1           Cetuximab     0.4298                  Trastuzumab     0.4275   \n",
       "2    Fluoropyrimidine     0.7596                  Gemcitabine     0.6081   \n",
       "3    Fluoropyrimidine     0.7557                  Gemcitabine     0.6171   \n",
       "4         Floxuridine     0.7425                  Gemcitabine     0.5893   \n",
       "..                ...        ...                          ...        ...   \n",
       "431       Vincristine     0.6892          Vincristine Sulfate     0.6166   \n",
       "432       Vinorelbine     0.6906                  Vinblastine     0.6838   \n",
       "433       Vinblastine     0.6892                  Vinorelbine     0.6849   \n",
       "434       Vinblastine     0.6166                  Vinorelbine     0.5915   \n",
       "435         Alpelisib     0.5982  Quizartinib Dihydrochloride     0.5909   \n",
       "\n",
       "              top5_match top5_score  \n",
       "0             Dinaciclib     0.4725  \n",
       "1            Mapatumumab     0.4242  \n",
       "2             Leucovorin     0.5865  \n",
       "3            Fotemustine     0.5771  \n",
       "4           Capecitabine     0.5692  \n",
       "..                   ...        ...  \n",
       "431  Brentuximab Vedotin     0.5999  \n",
       "432  Etoposide Phosphate     0.6164  \n",
       "433          Oxaliplatin     0.5546  \n",
       "434  Etoposide Phosphate     0.5471  \n",
       "435            Cediranib     0.5862  \n",
       "\n",
       "[436 rows x 13 columns]"
=======
       "      <td>Alvespimycin</td>\n",
       "      <td>0.4528</td>\n",
       "      <td>Dactinomycin</td>\n",
       "      <td>0.3792</td>\n",
       "      <td>Robatumumab</td>\n",
       "      <td>0.3485</td>\n",
       "      <td>Navitoclax</td>\n",
       "      <td>0.3334</td>\n",
       "      <td>Quizartinib Dihydrochloride</td>\n",
       "      <td>0.2862</td>\n",
       "    </tr>\n",
       "    <tr>\n",
       "      <th>1</th>\n",
       "      <td>VCR</td>\n",
       "      <td>Not Available for Prod Environment</td>\n",
       "      <td>99</td>\n",
       "      <td>Ivosidenib</td>\n",
       "      <td>0.4286</td>\n",
       "      <td>Venetoclax</td>\n",
       "      <td>0.4261</td>\n",
       "      <td>Dactinomycin</td>\n",
       "      <td>0.4177</td>\n",
       "      <td>Navitoclax</td>\n",
       "      <td>0.3830</td>\n",
       "      <td>Veliparib</td>\n",
       "      <td>0.3710</td>\n",
       "    </tr>\n",
       "  </tbody>\n",
       "</table>\n",
       "</div>"
      ],
      "text/plain": [
       "  original_value                    curated_ontology  match_level  \\\n",
       "0        17-DMAG  Not Available for Prod Environment           99   \n",
       "1            VCR  Not Available for Prod Environment           99   \n",
       "\n",
       "     top1_match top1_score    top2_match top2_score    top3_match top3_score  \\\n",
       "0  Alvespimycin     0.4528  Dactinomycin     0.3792   Robatumumab     0.3485   \n",
       "1    Ivosidenib     0.4286    Venetoclax     0.4261  Dactinomycin     0.4177   \n",
       "\n",
       "   top4_match top4_score                   top5_match top5_score  \n",
       "0  Navitoclax     0.3334  Quizartinib Dihydrochloride     0.2862  \n",
       "1  Navitoclax     0.3830                    Veliparib     0.3710  "
>>>>>>> fd1285a (comitting unstaged changes for merging)
      ]
     },
     "execution_count": 12,
     "metadata": {},
     "output_type": "execute_result"
    }
   ],
   "source": [
    "res_prod[1]"
>>>>>>> 11a0b3b (Final updates to schema mapper with schema_map  demo)
   ]
  }
 ],
 "metadata": {
  "kernelspec": {
   "display_name": "‘gsoc_harmon_2024’",
   "language": "python",
   "name": "python3"
  },
  "language_info": {
   "codemirror_mode": {
    "name": "ipython",
    "version": 3
   },
   "file_extension": ".py",
   "mimetype": "text/x-python",
   "name": "python",
   "nbconvert_exporter": "python",
   "pygments_lexer": "ipython3",
   "version": "3.12.2"
  }
 },
 "nbformat": 4,
 "nbformat_minor": 2
}
