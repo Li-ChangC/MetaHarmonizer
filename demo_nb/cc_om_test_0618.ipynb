{
 "cells": [
  {
   "cell_type": "code",
   "execution_count": 1,
   "id": "1aea3cfe",
   "metadata": {},
   "outputs": [
    {
     "name": "stdout",
     "output_type": "stream",
     "text": [
      "/home/lcc/projects/MetaHarmonizer\n"
     ]
    },
    {
     "name": "stderr",
     "output_type": "stream",
     "text": [
      "/home/lcc/miniconda3/envs/py310/lib/python3.10/site-packages/IPython/core/magics/osm.py:417: UserWarning: This is now an optional IPython functionality, setting dhist requires you to install the `pickleshare` library.\n",
      "  self.shell.db['dhist'] = compress_dhist(dhist)[-100:]\n"
     ]
    }
   ],
   "source": [
    "%cd /home/lcc/projects/MetaHarmonizer"
   ]
  },
  {
   "cell_type": "code",
   "execution_count": 2,
   "id": "0f9d1fed",
   "metadata": {},
   "outputs": [
    {
     "data": {
      "text/plain": [
       "True"
      ]
     },
     "execution_count": 2,
     "metadata": {},
     "output_type": "execute_result"
    }
   ],
   "source": [
    "import gevent.monkey\n",
    "\n",
    "gevent.monkey.patch_all(thread=False, select=False)"
   ]
  },
  {
   "cell_type": "code",
   "execution_count": 3,
   "id": "782e1f0b",
   "metadata": {},
   "outputs": [
    {
     "name": "stderr",
     "output_type": "stream",
     "text": [
      "/home/lcc/miniconda3/envs/py310/lib/python3.10/site-packages/tqdm/auto.py:21: TqdmWarning: IProgress not found. Please update jupyter and ipywidgets. See https://ipywidgets.readthedocs.io/en/stable/user_install.html\n",
      "  from .autonotebook import tqdm as notebook_tqdm\n",
      "/home/lcc/miniconda3/envs/py310/lib/python3.10/site-packages/fuzzywuzzy/fuzz.py:11: UserWarning: Using slow pure-python SequenceMatcher. Install python-Levenshtein to remove this warning\n",
      "  warnings.warn('Using slow pure-python SequenceMatcher. Install python-Levenshtein to remove this warning')\n",
      "[nltk_data] Downloading package punkt to /home/lcc/nltk_data...\n",
      "[nltk_data]   Package punkt is already up-to-date!\n",
      "[nltk_data] Downloading package wordnet to /home/lcc/nltk_data...\n",
      "[nltk_data]   Package wordnet is already up-to-date!\n",
      "[nltk_data] Downloading package punkt to /home/lcc/nltk_data...\n",
      "[nltk_data]   Package punkt is already up-to-date!\n",
      "[nltk_data] Downloading package stopwords to /home/lcc/nltk_data...\n",
      "[nltk_data]   Package stopwords is already up-to-date!\n",
      "[nltk_data] Downloading package wordnet to /home/lcc/nltk_data...\n",
      "[nltk_data]   Package wordnet is already up-to-date!\n"
     ]
    },
    {
     "data": {
      "text/plain": [
       "<module 'src.models.ontology_mapper_rag_faiss' from '/home/lcc/projects/MetaHarmonizer/src/models/ontology_mapper_rag_faiss.py'>"
      ]
     },
     "execution_count": 3,
     "metadata": {},
     "output_type": "execute_result"
    }
   ],
   "source": [
    "import pandas as pd\n",
    "from importlib import reload\n",
    "from src.models import ontology_mapper_st as om_st\n",
    "from src.Engine import ontology_mapping_engine as ome\n",
    "import src.models.ontology_mapper_lm as om_lm\n",
    "import src.models.ontology_mapper_rag_faiss as om_rag\n",
    "\n",
    "reload(om_st)\n",
    "reload(ome)\n",
    "reload(om_lm)\n",
    "reload(om_rag)"
   ]
  },
  {
   "cell_type": "code",
   "execution_count": 4,
   "id": "cfa9f51d",
   "metadata": {},
   "outputs": [],
   "source": [
    "from src.models.calc_stats import CalcStats\n",
    "\n",
    "calc = CalcStats()"
   ]
  },
  {
   "cell_type": "markdown",
   "id": "4ce17921",
   "metadata": {},
   "source": [
    "**Diseases**"
   ]
  },
  {
   "cell_type": "code",
   "execution_count": 5,
   "id": "ab08246f",
   "metadata": {},
   "outputs": [],
   "source": [
    "# Updated code to pass the dict rather than a DataFrame\n",
    "df = pd.read_csv('./data/corpus/cbio_disease/disease_query_for_NCIT:C3262.csv')\n",
    "\n",
    "query_list = df['original_value'].tolist()\n",
    "small_corpus_list = df['curated_ontology'].tolist()\n",
    "\n",
    "cura_map = dict(zip(df['original_value'], df['curated_ontology']))"
   ]
  },
  {
   "cell_type": "markdown",
   "id": "737437ba",
   "metadata": {},
   "source": [
    "LM Strategy"
   ]
  },
  {
   "cell_type": "code",
   "execution_count": 6,
   "id": "1809a1ea",
   "metadata": {},
   "outputs": [
    {
     "name": "stdout",
     "output_type": "stream",
     "text": [
      "14/06//2025 06:14:1749950061 PM - INFO - OntoMapEngine: Initialized OntoMap Engine module\n",
      "14/06//2025 06:14:1749950061 PM - INFO - OntoMapEngine: Running Ontology Mapping\n",
      "14/06//2025 06:14:1749950061 PM - INFO - OntoMapEngine: Separating exact and non-exact matches\n",
      "14/06//2025 06:14:1749950061 PM - INFO - OntoMapEngine: Running OntoMap model for non-exact matches\n",
      "14/06//2025 06:14:1749950061 PM - INFO - OntoMapST: Initialized OntoMap Sentence Transformer module\n",
      "14/06//2025 06:14:1749950061 PM - INFO - OntoMapST.get_match_results: Creating embeddings for query_list and corpus\n"
     ]
    },
    {
     "name": "stderr",
     "output_type": "stream",
     "text": [
      "No sentence-transformers model found with name cambridgeltl/SapBERT-from-PubmedBERT-fulltext. Creating a new one with mean pooling.\n",
      "No sentence-transformers model found with name cambridgeltl/SapBERT-from-PubmedBERT-fulltext. Creating a new one with mean pooling.\n"
     ]
    },
    {
     "name": "stdout",
     "output_type": "stream",
     "text": [
      "14/06//2025 06:14:1749950067 PM - INFO - OntoMapST.get_match_results: Calculating cosine similarity matrix\n",
      "14/06//2025 06:14:1749950068 PM - INFO - OntoMapST.get_match_results: Generating results table\n",
      "14/06//2025 06:14:1749950070 PM - INFO - OntoMapST.get_match_results: Results Generated\n"
     ]
    }
   ],
   "source": [
    "# LM Strategy w/ SapBERT\n",
    "other_params = {\"test_or_prod\": \"test\"}\n",
    "onto_engine_large = ome.OntoMapEngine(\n",
    "    method='sap-bert',\n",
    "    topk=5,\n",
    "    query=query_list,\n",
    "    corpus=small_corpus_list,\n",
    "    cura_map=cura_map,\n",
    "    yaml_path='./src/models/method_model.yaml',\n",
    "    om_strategy='st',  # SapBERT is already CLS so no need to use 'lm' strategy\n",
    "    **other_params)\n",
    "lm_sapbert_result = onto_engine_large.run()"
   ]
  },
  {
   "cell_type": "code",
   "execution_count": 7,
   "id": "810e2afa",
   "metadata": {},
   "outputs": [
    {
     "name": "stdout",
     "output_type": "stream",
     "text": [
      "  Accuracy Level   Accuracy\n",
      "0    Top 1 Match  81.262073\n",
      "1  Top 3 Matches  86.928525\n",
      "2  Top 5 Matches  89.117836\n"
     ]
    }
   ],
   "source": [
    "lm_sapbert_accuracy_df = calc.calc_accuracy(lm_sapbert_result)\n",
    "print(lm_sapbert_accuracy_df)"
   ]
  },
  {
   "cell_type": "code",
   "execution_count": 10,
   "id": "46074341",
   "metadata": {},
   "outputs": [],
   "source": [
    "lm_sapbert_result.to_csv(\"lm_sapbert_result.csv\", index=False)"
   ]
  },
  {
   "cell_type": "code",
   "execution_count": 8,
   "id": "2ac3bb8e",
   "metadata": {},
   "outputs": [
    {
     "name": "stdout",
     "output_type": "stream",
     "text": [
      "14/06//2025 06:15:1749950108 PM - INFO - OntoMapEngine: Initialized OntoMap Engine module\n",
      "14/06//2025 06:15:1749950108 PM - INFO - OntoMapEngine: Initialized OntoMap Engine module\n",
      "14/06//2025 06:15:1749950108 PM - INFO - OntoMapEngine: Running Ontology Mapping\n",
      "14/06//2025 06:15:1749950108 PM - INFO - OntoMapEngine: Running Ontology Mapping\n",
      "14/06//2025 06:15:1749950108 PM - INFO - OntoMapEngine: Separating exact and non-exact matches\n",
      "14/06//2025 06:15:1749950108 PM - INFO - OntoMapEngine: Separating exact and non-exact matches\n",
      "14/06//2025 06:15:1749950108 PM - INFO - OntoMapEngine: Running OntoMap model for non-exact matches\n",
      "14/06//2025 06:15:1749950108 PM - INFO - OntoMapEngine: Running OntoMap model for non-exact matches\n",
      "14/06//2025 06:15:1749950108 PM - INFO - OntoMapLM: Initialized OntoMap Language Model module\n",
      "14/06//2025 06:15:1749950108 PM - INFO - OntoMapLM.get_match_results: Creating embeddings for query_list and corpus\n",
      "14/06//2025 06:15:1749950155 PM - INFO - OntoMapLM.get_match_results: Calculating cosine similarity matrix\n",
      "14/06//2025 06:15:1749950155 PM - INFO - OntoMapLM.get_match_results: Generating results table\n",
      "14/06//2025 06:15:1749950159 PM - INFO - OntoMapLM.get_match_results: Results Generated\n"
     ]
    }
   ],
   "source": [
    "# Language Model Strategy w/ PubMedBERT\n",
    "other_params = {\"test_or_prod\": \"test\"}\n",
    "onto_engine_large = ome.OntoMapEngine(\n",
    "    method='pubmed-bert',\n",
    "    topk=5,\n",
    "    query=query_list,\n",
    "    corpus=small_corpus_list,\n",
    "    cura_map=cura_map,\n",
    "    yaml_path='./src/models/method_model.yaml',\n",
    "    om_strategy='lm',\n",
    "    **other_params)\n",
    "\n",
    "lm_pubmedbert_result = onto_engine_large.run()"
   ]
  },
  {
   "cell_type": "code",
   "execution_count": 9,
   "id": "447111a4",
   "metadata": {},
   "outputs": [
    {
     "name": "stdout",
     "output_type": "stream",
     "text": [
      "  Accuracy Level   Accuracy\n",
      "0    Top 1 Match  76.497102\n",
      "1  Top 3 Matches  82.034771\n",
      "2  Top 5 Matches  85.769478\n"
     ]
    }
   ],
   "source": [
    "# Language Model Strategy w/ PubMedBERT\n",
    "lm_pubmedbert_accuracy_df = calc.calc_accuracy(lm_pubmedbert_result)\n",
    "lm_pubmedbert_accuracy = lm_pubmedbert_accuracy_df[\n",
    "    lm_pubmedbert_accuracy_df[\"Accuracy Level\"] ==\n",
    "    \"Top 5 Matches\"][\"Accuracy\"].values[0]\n",
    "\n",
    "print(lm_pubmedbert_accuracy_df)"
   ]
  },
  {
   "cell_type": "code",
   "execution_count": 13,
   "id": "10523623",
   "metadata": {},
   "outputs": [],
   "source": [
    "lm_pubmedbert_result.to_csv(\"lm_pubmedbert_result.csv\", index=False)"
   ]
  },
  {
   "cell_type": "markdown",
   "id": "0ccfb1a2",
   "metadata": {},
   "source": [
    "ST Strategy (PubMedBERT‑MS‑MARCO, SapBERT-mean-token)"
   ]
  },
  {
   "cell_type": "code",
   "execution_count": 10,
   "id": "a1235c13",
   "metadata": {},
   "outputs": [
    {
     "name": "stdout",
     "output_type": "stream",
     "text": [
      "14/06//2025 06:16:1749950186 PM - INFO - OntoMapEngine: Initialized OntoMap Engine module\n",
      "14/06//2025 06:16:1749950186 PM - INFO - OntoMapEngine: Initialized OntoMap Engine module\n",
      "14/06//2025 06:16:1749950186 PM - INFO - OntoMapEngine: Initialized OntoMap Engine module\n",
      "14/06//2025 06:16:1749950186 PM - INFO - OntoMapEngine: Running Ontology Mapping\n",
      "14/06//2025 06:16:1749950186 PM - INFO - OntoMapEngine: Running Ontology Mapping\n",
      "14/06//2025 06:16:1749950186 PM - INFO - OntoMapEngine: Running Ontology Mapping\n",
      "14/06//2025 06:16:1749950186 PM - INFO - OntoMapEngine: Separating exact and non-exact matches\n",
      "14/06//2025 06:16:1749950186 PM - INFO - OntoMapEngine: Separating exact and non-exact matches\n",
      "14/06//2025 06:16:1749950186 PM - INFO - OntoMapEngine: Separating exact and non-exact matches\n",
      "14/06//2025 06:16:1749950186 PM - INFO - OntoMapEngine: Running OntoMap model for non-exact matches\n",
      "14/06//2025 06:16:1749950186 PM - INFO - OntoMapEngine: Running OntoMap model for non-exact matches\n",
      "14/06//2025 06:16:1749950186 PM - INFO - OntoMapEngine: Running OntoMap model for non-exact matches\n",
      "14/06//2025 06:16:1749950186 PM - INFO - OntoMapST: Initialized OntoMap Sentence Transformer module\n",
      "14/06//2025 06:16:1749950186 PM - INFO - OntoMapST: Initialized OntoMap Sentence Transformer module\n",
      "14/06//2025 06:16:1749950186 PM - INFO - OntoMapST.get_match_results: Creating embeddings for query_list and corpus\n",
      "14/06//2025 06:16:1749950186 PM - INFO - OntoMapST.get_match_results: Creating embeddings for query_list and corpus\n"
     ]
    },
    {
     "name": "stderr",
     "output_type": "stream",
     "text": [
      "No sentence-transformers model found with name cambridgeltl/SapBERT-from-PubMedBERT-fulltext-mean-token. Creating a new one with mean pooling.\n",
      "No sentence-transformers model found with name cambridgeltl/SapBERT-from-PubMedBERT-fulltext-mean-token. Creating a new one with mean pooling.\n"
     ]
    },
    {
     "name": "stdout",
     "output_type": "stream",
     "text": [
      "14/06//2025 06:16:1749950191 PM - INFO - OntoMapST.get_match_results: Calculating cosine similarity matrix\n",
      "14/06//2025 06:16:1749950191 PM - INFO - OntoMapST.get_match_results: Calculating cosine similarity matrix\n",
      "14/06//2025 06:16:1749950191 PM - INFO - OntoMapST.get_match_results: Generating results table\n",
      "14/06//2025 06:16:1749950191 PM - INFO - OntoMapST.get_match_results: Generating results table\n",
      "14/06//2025 06:16:1749950194 PM - INFO - OntoMapST.get_match_results: Results Generated\n",
      "14/06//2025 06:16:1749950194 PM - INFO - OntoMapST.get_match_results: Results Generated\n"
     ]
    }
   ],
   "source": [
    "# ST Strategy w/ SapBERT-mean-token\n",
    "other_params = {\"test_or_prod\": \"test\"}\n",
    "onto_engine_large = ome.OntoMapEngine(\n",
    "    method='mt-sap-bert',\n",
    "    topk=5,\n",
    "    query=query_list,\n",
    "    corpus=small_corpus_list,\n",
    "    cura_map=cura_map,\n",
    "    yaml_path='./src/models/method_model.yaml',\n",
    "    om_strategy='st',\n",
    "    **other_params)\n",
    "st_sapbert_result = onto_engine_large.run()"
   ]
  },
  {
   "cell_type": "code",
   "execution_count": 15,
   "id": "e0e34e45",
   "metadata": {},
   "outputs": [],
   "source": [
    "st_sapbert_result.to_csv(\"st_sapbert_result.csv\", index=False)"
   ]
  },
  {
   "cell_type": "code",
   "execution_count": 11,
   "id": "f25547cf",
   "metadata": {},
   "outputs": [
    {
     "name": "stdout",
     "output_type": "stream",
     "text": [
      "  Accuracy Level   Accuracy\n",
      "0    Top 1 Match  80.811333\n",
      "1  Top 3 Matches  86.091436\n",
      "2  Top 5 Matches  88.667096\n"
     ]
    }
   ],
   "source": [
    "st_sapbert_accuracy_df = calc.calc_accuracy(st_sapbert_result)\n",
    "print(st_sapbert_accuracy_df)"
   ]
  },
  {
   "cell_type": "code",
   "execution_count": 13,
   "id": "4b00623c",
   "metadata": {},
   "outputs": [
    {
     "name": "stdout",
     "output_type": "stream",
     "text": [
      "14/06//2025 06:23:1749950616 PM - INFO - OntoMapEngine: Initialized OntoMap Engine module\n",
      "14/06//2025 06:23:1749950616 PM - INFO - OntoMapEngine: Initialized OntoMap Engine module\n",
      "14/06//2025 06:23:1749950616 PM - INFO - OntoMapEngine: Initialized OntoMap Engine module\n",
      "14/06//2025 06:23:1749950616 PM - INFO - OntoMapEngine: Initialized OntoMap Engine module\n",
      "14/06//2025 06:23:1749950616 PM - INFO - OntoMapEngine: Initialized OntoMap Engine module\n",
      "14/06//2025 06:23:1749950616 PM - INFO - OntoMapEngine: Running Ontology Mapping\n",
      "14/06//2025 06:23:1749950616 PM - INFO - OntoMapEngine: Running Ontology Mapping\n",
      "14/06//2025 06:23:1749950616 PM - INFO - OntoMapEngine: Running Ontology Mapping\n",
      "14/06//2025 06:23:1749950616 PM - INFO - OntoMapEngine: Running Ontology Mapping\n",
      "14/06//2025 06:23:1749950616 PM - INFO - OntoMapEngine: Running Ontology Mapping\n",
      "14/06//2025 06:23:1749950616 PM - INFO - OntoMapEngine: Separating exact and non-exact matches\n",
      "14/06//2025 06:23:1749950616 PM - INFO - OntoMapEngine: Separating exact and non-exact matches\n",
      "14/06//2025 06:23:1749950616 PM - INFO - OntoMapEngine: Separating exact and non-exact matches\n",
      "14/06//2025 06:23:1749950616 PM - INFO - OntoMapEngine: Separating exact and non-exact matches\n",
      "14/06//2025 06:23:1749950616 PM - INFO - OntoMapEngine: Separating exact and non-exact matches\n",
      "14/06//2025 06:23:1749950616 PM - INFO - OntoMapEngine: Running OntoMap model for non-exact matches\n",
      "14/06//2025 06:23:1749950616 PM - INFO - OntoMapEngine: Running OntoMap model for non-exact matches\n",
      "14/06//2025 06:23:1749950616 PM - INFO - OntoMapEngine: Running OntoMap model for non-exact matches\n",
      "14/06//2025 06:23:1749950616 PM - INFO - OntoMapEngine: Running OntoMap model for non-exact matches\n",
      "14/06//2025 06:23:1749950616 PM - INFO - OntoMapEngine: Running OntoMap model for non-exact matches\n",
      "14/06//2025 06:23:1749950616 PM - INFO - OntoMapST: Initialized OntoMap Sentence Transformer module\n",
      "14/06//2025 06:23:1749950616 PM - INFO - OntoMapST: Initialized OntoMap Sentence Transformer module\n",
      "14/06//2025 06:23:1749950616 PM - INFO - OntoMapST: Initialized OntoMap Sentence Transformer module\n",
      "14/06//2025 06:23:1749950616 PM - INFO - OntoMapST: Initialized OntoMap Sentence Transformer module\n",
      "14/06//2025 06:23:1749950616 PM - INFO - OntoMapST.get_match_results: Creating embeddings for query_list and corpus\n",
      "14/06//2025 06:23:1749950616 PM - INFO - OntoMapST.get_match_results: Creating embeddings for query_list and corpus\n",
      "14/06//2025 06:23:1749950616 PM - INFO - OntoMapST.get_match_results: Creating embeddings for query_list and corpus\n",
      "14/06//2025 06:23:1749950616 PM - INFO - OntoMapST.get_match_results: Creating embeddings for query_list and corpus\n"
     ]
    },
    {
     "name": "stderr",
     "output_type": "stream",
     "text": [
      "Exception in worker\n",
      "Traceback (most recent call last):\n",
      "  File \"/home/lcc/miniconda3/envs/py310/lib/python3.10/concurrent/futures/thread.py\", line 81, in _worker\n",
      "    work_item = work_queue.get(block=True)\n",
      "  File \"src/gevent/queue.py\", line 381, in gevent._gevent_cqueue.SimpleQueue.get\n",
      "  File \"src/gevent/queue.py\", line 397, in gevent._gevent_cqueue.SimpleQueue.get\n",
      "  File \"src/gevent/queue.py\", line 373, in gevent._gevent_cqueue.SimpleQueue._SimpleQueue__get_or_peek\n",
      "  File \"src/gevent/_waiter.py\", line 154, in gevent._gevent_c_waiter.Waiter.get\n",
      "  File \"src/gevent/_greenlet_primitives.py\", line 65, in gevent._gevent_c_greenlet_primitives.SwitchOutGreenletWithLoop.switch\n",
      "  File \"src/gevent/_gevent_c_greenlet_primitives.pxd\", line 35, in gevent._gevent_c_greenlet_primitives._greenlet_switch\n",
      "gevent.exceptions.LoopExit: This operation would block forever\n",
      "\tHub: <Hub '' at 0x7f92219b2b10 epoll pending=0 ref=0 fileno=107 thread_ident=0x7f9220cfb640>\n",
      "\tHandles:\n",
      "[]\n",
      "Exception in worker\n",
      "Traceback (most recent call last):\n",
      "  File \"/home/lcc/miniconda3/envs/py310/lib/python3.10/concurrent/futures/thread.py\", line 81, in _worker\n",
      "    work_item = work_queue.get(block=True)\n",
      "  File \"src/gevent/queue.py\", line 381, in gevent._gevent_cqueue.SimpleQueue.get\n",
      "  File \"src/gevent/queue.py\", line 397, in gevent._gevent_cqueue.SimpleQueue.get\n",
      "  File \"src/gevent/queue.py\", line 373, in gevent._gevent_cqueue.SimpleQueue._SimpleQueue__get_or_peek\n",
      "  File \"src/gevent/_waiter.py\", line 154, in gevent._gevent_c_waiter.Waiter.get\n",
      "  File \"src/gevent/_greenlet_primitives.py\", line 65, in gevent._gevent_c_greenlet_primitives.SwitchOutGreenletWithLoop.switch\n",
      "  File \"src/gevent/_gevent_c_greenlet_primitives.pxd\", line 35, in gevent._gevent_c_greenlet_primitives._greenlet_switch\n",
      "gevent.exceptions.LoopExit: This operation would block forever\n",
      "\tHub: <Hub '' at 0x7f92210eb060 epoll pending=0 ref=0 fileno=106 thread_ident=0x7f9290fff640>\n",
      "\tHandles:\n",
      "[]\n"
     ]
    },
    {
     "name": "stdout",
     "output_type": "stream",
     "text": [
      "14/06//2025 06:23:1749950622 PM - INFO - OntoMapST.get_match_results: Calculating cosine similarity matrix\n",
      "14/06//2025 06:23:1749950622 PM - INFO - OntoMapST.get_match_results: Calculating cosine similarity matrix\n",
      "14/06//2025 06:23:1749950622 PM - INFO - OntoMapST.get_match_results: Calculating cosine similarity matrix\n",
      "14/06//2025 06:23:1749950622 PM - INFO - OntoMapST.get_match_results: Calculating cosine similarity matrix\n",
      "14/06//2025 06:23:1749950622 PM - INFO - OntoMapST.get_match_results: Generating results table\n",
      "14/06//2025 06:23:1749950622 PM - INFO - OntoMapST.get_match_results: Generating results table\n",
      "14/06//2025 06:23:1749950622 PM - INFO - OntoMapST.get_match_results: Generating results table\n",
      "14/06//2025 06:23:1749950622 PM - INFO - OntoMapST.get_match_results: Generating results table\n",
      "14/06//2025 06:23:1749950626 PM - INFO - OntoMapST.get_match_results: Results Generated\n",
      "14/06//2025 06:23:1749950626 PM - INFO - OntoMapST.get_match_results: Results Generated\n",
      "14/06//2025 06:23:1749950626 PM - INFO - OntoMapST.get_match_results: Results Generated\n",
      "14/06//2025 06:23:1749950626 PM - INFO - OntoMapST.get_match_results: Results Generated\n"
     ]
    }
   ],
   "source": [
    "# st - pubmed-bert\n",
    "other_params = {\"test_or_prod\": \"test\"}\n",
    "onto_engine_large = ome.OntoMapEngine(\n",
    "    method='pubmed-bert',\n",
    "    topk=5,\n",
    "    query=query_list,\n",
    "    corpus=small_corpus_list,\n",
    "    cura_map=cura_map,\n",
    "    yaml_path='./src/models/method_model.yaml',\n",
    "    om_strategy='st',\n",
    "    **other_params)\n",
    "\n",
    "st_pubmetbert_result = onto_engine_large.run()"
   ]
  },
  {
   "cell_type": "code",
   "execution_count": 14,
   "id": "ff38f0c1",
   "metadata": {},
   "outputs": [
    {
     "name": "stdout",
     "output_type": "stream",
     "text": [
      "  Accuracy Level   Accuracy\n",
      "0    Top 1 Match  76.625885\n",
      "1  Top 3 Matches  82.163554\n",
      "2  Top 5 Matches  85.383129\n"
     ]
    }
   ],
   "source": [
    "# Sentences Transformer Strategy w/ PubMedBERT\n",
    "st_pubmedbert_accuracy_df = calc.calc_accuracy(st_pubmetbert_result)\n",
    "st_pubmedbert_accuracy = st_pubmedbert_accuracy_df[\n",
    "    st_pubmedbert_accuracy_df[\"Accuracy Level\"] ==\n",
    "    \"Top 5 Matches\"][\"Accuracy\"].values[0]\n",
    "\n",
    "print(st_pubmedbert_accuracy_df)"
   ]
  },
  {
   "cell_type": "code",
   "execution_count": 19,
   "id": "b8481a29",
   "metadata": {},
   "outputs": [],
   "source": [
    "st_pubmetbert_result.to_csv(\"st_pubmedbert_result.csv\", index=False)"
   ]
  },
  {
   "cell_type": "markdown",
   "id": "864ede60",
   "metadata": {},
   "source": [
    "RAG"
   ]
  },
  {
   "cell_type": "code",
   "execution_count": 14,
   "id": "550487bf",
   "metadata": {},
   "outputs": [
    {
     "name": "stdout",
     "output_type": "stream",
     "text": [
      "13/06//2025 11:29:1749839365 AM - INFO - OntoMapEngine: Initialized OntoMap Engine module\n",
      "13/06//2025 11:29:1749839365 AM - INFO - OntoMapEngine: Initialized OntoMap Engine module\n",
      "13/06//2025 11:29:1749839365 AM - INFO - OntoMapEngine: Initialized OntoMap Engine module\n",
      "13/06//2025 11:29:1749839365 AM - INFO - OntoMapEngine: Running Ontology Mapping\n",
      "13/06//2025 11:29:1749839365 AM - INFO - OntoMapEngine: Running Ontology Mapping\n",
      "13/06//2025 11:29:1749839365 AM - INFO - OntoMapEngine: Running Ontology Mapping\n",
      "13/06//2025 11:29:1749839365 AM - INFO - OntoMapEngine: Separating exact and non-exact matches\n",
      "13/06//2025 11:29:1749839365 AM - INFO - OntoMapEngine: Separating exact and non-exact matches\n",
      "13/06//2025 11:29:1749839365 AM - INFO - OntoMapEngine: Separating exact and non-exact matches\n",
      "13/06//2025 11:29:1749839365 AM - INFO - OntoMapEngine: Running OntoMap model for non-exact matches\n",
      "13/06//2025 11:29:1749839365 AM - INFO - OntoMapEngine: Running OntoMap model for non-exact matches\n",
      "13/06//2025 11:29:1749839365 AM - INFO - OntoMapEngine: Running OntoMap model for non-exact matches\n",
      "13/06//2025 11:29:1749839365 AM - INFO - OntoMapRAG: Initialized OntoMapRAG module\n",
      "13/06//2025 11:29:1749839365 AM - INFO - OntoMapRAG: Generating results table\n"
     ]
    },
    {
     "name": "stderr",
     "output_type": "stream",
     "text": [
      "Processing queries:   0%|          | 0/439 [00:00<?, ?it/s]No sentence-transformers model found with name cambridgeltl/SapBERT-from-PubMedBERT-fulltext-mean-token. Creating a new one with mean pooling.\n",
      "Processing queries: 100%|██████████| 439/439 [00:07<00:00, 58.18it/s]"
     ]
    },
    {
     "name": "stdout",
     "output_type": "stream",
     "text": [
      "13/06//2025 11:29:1749839373 AM - INFO - OntoMapRAG: Results Generated\n"
     ]
    },
    {
     "name": "stderr",
     "output_type": "stream",
     "text": [
      "\n"
     ]
    }
   ],
   "source": [
    "# RAG Strategy w/ SapBERT\n",
    "rag_engine = ome.OntoMapEngine(method='mt-sap-bert',\n",
    "                               topk=5,\n",
    "                               query=query_list,\n",
    "                               corpus=small_corpus_list,\n",
    "                               cura_map=cura_map,\n",
    "                               yaml_path='./src/models/method_model.yaml',\n",
    "                               om_strategy='rag',\n",
    "                               test_or_prod='test')\n",
    "rag_result = rag_engine.run()"
   ]
  },
  {
   "cell_type": "code",
   "execution_count": null,
   "id": "73bfde4c",
   "metadata": {},
   "outputs": [],
   "source": [
    "rag_result.to_csv(\"rag_sapbert_result_partially_cleaned_contexts.csv\",\n",
    "                  index=False)"
   ]
  },
  {
   "cell_type": "code",
   "execution_count": null,
   "id": "749da2c8",
   "metadata": {},
   "outputs": [
    {
     "name": "stdout",
     "output_type": "stream",
     "text": [
      "RAG SapBERT Top-5 Accuracy: 91.34%\n",
      "  Accuracy Level   Accuracy\n",
      "0    Top 1 Match  64.464692\n",
      "1  Top 3 Matches  87.471526\n",
      "2  Top 5 Matches  91.343964\n"
     ]
    }
   ],
   "source": [
    "# RAG Strategy w/ SapBERT\n",
    "rag_accuracy_df = calc.calc_accuracy(rag_result)\n",
    "rag_accuracy = rag_accuracy_df[rag_accuracy_df[\"Accuracy Level\"] ==\n",
    "                               \"Top 5 Matches\"][\"Accuracy\"].values[0]\n",
    "\n",
    "print(rag_accuracy_df)"
   ]
  },
  {
   "cell_type": "code",
   "execution_count": 17,
   "id": "fdbd92ac",
   "metadata": {},
   "outputs": [
    {
     "name": "stdout",
     "output_type": "stream",
     "text": [
      "13/06//2025 11:33:1749839608 AM - INFO - OntoMapEngine: Initialized OntoMap Engine module\n",
      "13/06//2025 11:33:1749839608 AM - INFO - OntoMapEngine: Initialized OntoMap Engine module\n",
      "13/06//2025 11:33:1749839608 AM - INFO - OntoMapEngine: Initialized OntoMap Engine module\n",
      "13/06//2025 11:33:1749839608 AM - INFO - OntoMapEngine: Initialized OntoMap Engine module\n",
      "13/06//2025 11:33:1749839608 AM - INFO - OntoMapEngine: Running Ontology Mapping\n",
      "13/06//2025 11:33:1749839608 AM - INFO - OntoMapEngine: Running Ontology Mapping\n",
      "13/06//2025 11:33:1749839608 AM - INFO - OntoMapEngine: Running Ontology Mapping\n",
      "13/06//2025 11:33:1749839608 AM - INFO - OntoMapEngine: Running Ontology Mapping\n",
      "13/06//2025 11:33:1749839608 AM - INFO - OntoMapEngine: Separating exact and non-exact matches\n",
      "13/06//2025 11:33:1749839608 AM - INFO - OntoMapEngine: Separating exact and non-exact matches\n",
      "13/06//2025 11:33:1749839608 AM - INFO - OntoMapEngine: Separating exact and non-exact matches\n",
      "13/06//2025 11:33:1749839608 AM - INFO - OntoMapEngine: Separating exact and non-exact matches\n",
      "13/06//2025 11:33:1749839608 AM - INFO - OntoMapEngine: Running OntoMap model for non-exact matches\n",
      "13/06//2025 11:33:1749839608 AM - INFO - OntoMapEngine: Running OntoMap model for non-exact matches\n",
      "13/06//2025 11:33:1749839608 AM - INFO - OntoMapEngine: Running OntoMap model for non-exact matches\n",
      "13/06//2025 11:33:1749839608 AM - INFO - OntoMapEngine: Running OntoMap model for non-exact matches\n",
      "13/06//2025 11:33:1749839608 AM - INFO - OntoMapRAG: Initialized OntoMapRAG module\n",
      "13/06//2025 11:33:1749839608 AM - INFO - OntoMapRAG: Initialized OntoMapRAG module\n",
      "13/06//2025 11:33:1749839608 AM - INFO - OntoMapRAG: Generating results table\n",
      "13/06//2025 11:33:1749839608 AM - INFO - OntoMapRAG: Generating results table\n"
     ]
    },
    {
     "name": "stderr",
     "output_type": "stream",
     "text": [
      "Processing queries:   0%|          | 0/439 [00:00<?, ?it/s]Exception in worker\n",
      "Traceback (most recent call last):\n",
      "  File \"/home/lcc/miniconda3/envs/py310/lib/python3.10/concurrent/futures/thread.py\", line 81, in _worker\n",
      "    work_item = work_queue.get(block=True)\n",
      "  File \"src/gevent/queue.py\", line 381, in gevent._gevent_cqueue.SimpleQueue.get\n",
      "  File \"src/gevent/queue.py\", line 397, in gevent._gevent_cqueue.SimpleQueue.get\n",
      "  File \"src/gevent/queue.py\", line 373, in gevent._gevent_cqueue.SimpleQueue._SimpleQueue__get_or_peek\n",
      "  File \"src/gevent/_waiter.py\", line 154, in gevent._gevent_c_waiter.Waiter.get\n",
      "  File \"src/gevent/_greenlet_primitives.py\", line 65, in gevent._gevent_c_greenlet_primitives.SwitchOutGreenletWithLoop.switch\n",
      "  File \"src/gevent/_gevent_c_greenlet_primitives.pxd\", line 35, in gevent._gevent_c_greenlet_primitives._greenlet_switch\n",
      "gevent.exceptions.LoopExit: This operation would block forever\n",
      "\tHub: <Hub '' at 0x7f5db426ec00 epoll pending=0 ref=0 fileno=101 thread_ident=0x7f5d33fff640>\n",
      "\tHandles:\n",
      "[]\n",
      "Processing queries: 100%|██████████| 439/439 [00:09<00:00, 44.45it/s]"
     ]
    },
    {
     "name": "stdout",
     "output_type": "stream",
     "text": [
      "13/06//2025 11:33:1749839618 AM - INFO - OntoMapRAG: Results Generated\n",
      "13/06//2025 11:33:1749839618 AM - INFO - OntoMapRAG: Results Generated\n"
     ]
    },
    {
     "name": "stderr",
     "output_type": "stream",
     "text": [
      "\n"
     ]
    }
   ],
   "source": [
    "# RAG Strategy w/ pubmed-bert\n",
    "rag_engine = ome.OntoMapEngine(method='pubmed-bert',\n",
    "                               topk=5,\n",
    "                               query=query_list,\n",
    "                               corpus=small_corpus_list,\n",
    "                               cura_map=cura_map,\n",
    "                               yaml_path='./src/models/method_model.yaml',\n",
    "                               om_strategy='rag',\n",
    "                               test_or_prod='test')\n",
    "rag_pubmed_result = rag_engine.run()"
   ]
  },
  {
   "cell_type": "code",
   "execution_count": null,
   "id": "b63b5424",
   "metadata": {},
   "outputs": [],
   "source": [
    "rag_pubmed_result.to_csv(\"rag_pubmed_result_partially_cleaned_contexts.csv\",\n",
    "                         index=False)"
   ]
  },
  {
   "cell_type": "code",
   "execution_count": 18,
   "id": "c63304c8",
   "metadata": {},
   "outputs": [
    {
     "name": "stdout",
     "output_type": "stream",
     "text": [
      "RAG PubMedBERT Top-5 Accuracy: 93.85%\n",
      "  Accuracy Level   Accuracy\n",
      "0    Top 1 Match  70.387244\n",
      "1  Top 3 Matches  89.293850\n",
      "2  Top 5 Matches  93.849658\n"
     ]
    }
   ],
   "source": [
    "# RAG Strategy w/ pubmed-bert\n",
    "rag_pubmed_accuracy_df = calc.calc_accuracy(rag_pubmed_result)\n",
    "rag_pubmed_accuracy = rag_pubmed_accuracy_df[\n",
    "    rag_pubmed_accuracy_df[\"Accuracy Level\"] ==\n",
    "    \"Top 5 Matches\"][\"Accuracy\"].values[0]\n",
    "print(f\"RAG PubMedBERT Top-5 Accuracy: {rag_pubmed_accuracy:.2f}%\")\n",
    "print(rag_pubmed_accuracy_df)"
   ]
  },
  {
   "cell_type": "code",
   "execution_count": 8,
   "id": "2b7af671",
   "metadata": {},
   "outputs": [
    {
     "name": "stdout",
     "output_type": "stream",
     "text": [
      "11/06//2025 02:08:1749632890 AM - INFO - OntoMapEngine: Initialized OntoMap Engine module\n",
      "11/06//2025 02:08:1749632890 AM - INFO - OntoMapEngine: Initialized OntoMap Engine module\n",
      "11/06//2025 02:08:1749632890 AM - INFO - OntoMapEngine: Running Ontology Mapping\n",
      "11/06//2025 02:08:1749632890 AM - INFO - OntoMapEngine: Running Ontology Mapping\n",
      "11/06//2025 02:08:1749632890 AM - INFO - OntoMapEngine: Separating exact and non-exact matches\n",
      "11/06//2025 02:08:1749632890 AM - INFO - OntoMapEngine: Separating exact and non-exact matches\n",
      "11/06//2025 02:08:1749632890 AM - INFO - OntoMapEngine: Running OntoMap model for non-exact matches\n",
      "11/06//2025 02:08:1749632890 AM - INFO - OntoMapEngine: Running OntoMap model for non-exact matches\n",
      "11/06//2025 02:08:1749632890 AM - INFO - OntoMapRAG: Initialized OntoMapRAG module\n",
      "11/06//2025 02:08:1749632890 AM - INFO - OntoMapRAG: Initialized OntoMapRAG module\n",
      "11/06//2025 02:08:1749632890 AM - INFO - OntoMapRAG: Generating results table\n",
      "11/06//2025 02:08:1749632890 AM - INFO - OntoMapRAG: Generating results table\n"
     ]
    },
    {
     "name": "stderr",
     "output_type": "stream",
     "text": [
      "Processing queries:   0%|          | 0/439 [00:00<?, ?it/s]No sentence-transformers model found with name emilyalsentzer/Bio_ClinicalBERT. Creating a new one with mean pooling.\n",
      "Processing queries: 100%|██████████| 439/439 [00:16<00:00, 26.07it/s]"
     ]
    },
    {
     "name": "stdout",
     "output_type": "stream",
     "text": [
      "11/06//2025 02:08:1749632907 AM - INFO - OntoMapRAG: Results Generated\n",
      "11/06//2025 02:08:1749632907 AM - INFO - OntoMapRAG: Results Generated\n"
     ]
    },
    {
     "name": "stderr",
     "output_type": "stream",
     "text": [
      "\n"
     ]
    }
   ],
   "source": [
    "# RAG Strategy w/ clinical-bert\n",
    "rag_engine = ome.OntoMapEngine(method='clinical-bert',\n",
    "                               topk=5,\n",
    "                               query=query_list,\n",
    "                               corpus=small_corpus_list,\n",
    "                               cura_map=cura_map,\n",
    "                               yaml_path='./src/models/method_model.yaml',\n",
    "                               om_strategy='rag',\n",
    "                               test_or_prod='test')\n",
    "rag_clinical_result = rag_engine.run()"
   ]
  },
  {
   "cell_type": "code",
   "execution_count": 9,
   "id": "0e87470b",
   "metadata": {},
   "outputs": [
    {
     "name": "stdout",
     "output_type": "stream",
     "text": [
      "RAG ClinicalBERT Top-5 Accuracy: 37.81%\n",
      "  Accuracy Level   Accuracy\n",
      "0    Top 1 Match  10.022779\n",
      "1  Top 3 Matches  26.879271\n",
      "2  Top 5 Matches  37.813212\n"
     ]
    }
   ],
   "source": [
    "rag_clinical_accuracy_df = calc.calc_accuracy(rag_clinical_result)\n",
    "rag_clinical_accuracy = rag_clinical_accuracy_df[\n",
    "    rag_clinical_accuracy_df[\"Accuracy Level\"] ==\n",
    "    \"Top 5 Matches\"][\"Accuracy\"].values[0]\n",
    "print(f\"RAG ClinicalBERT Top-5 Accuracy: {rag_clinical_accuracy:.2f}%\")\n",
    "print(rag_clinical_accuracy_df)"
   ]
  },
  {
   "cell_type": "markdown",
   "id": "bf097f33",
   "metadata": {},
   "source": [
    "Overlapping of different strategies"
   ]
  },
  {
   "cell_type": "code",
   "execution_count": 8,
   "id": "36f91350",
   "metadata": {},
   "outputs": [],
   "source": [
    "import pandas as pd\n",
    "import seaborn as sns\n",
    "import matplotlib.pyplot as plt\n",
    "\n",
    "\n",
    "def compute_overlap_matrix(data_dict):\n",
    "    methods = list(data_dict.keys())\n",
    "    matrix = pd.DataFrame(index=methods, columns=methods)\n",
    "\n",
    "    for m1 in methods:\n",
    "        for m2 in methods:\n",
    "            if m1 == m2:\n",
    "                matrix.loc[m1, m2] = 1.0\n",
    "            else:\n",
    "                intersect = len(data_dict[m1] & data_dict[m2])\n",
    "                union = len(data_dict[m1] | data_dict[m2])\n",
    "                matrix.loc[m1, m2] = round(intersect / union, 3)\n",
    "    return matrix\n",
    "\n",
    "\n",
    "def plot_heatmap(matrix, title):\n",
    "    plt.figure(figsize=(8, 6))\n",
    "    sns.heatmap(matrix.astype(float),\n",
    "                annot=True,\n",
    "                fmt=\".2f\",\n",
    "                cmap=\"Blues\",\n",
    "                linewidths=0.5)\n",
    "    plt.title(title)\n",
    "    plt.tight_layout()\n",
    "    plt.show()\n"
   ]
  },
  {
   "cell_type": "code",
   "execution_count": 9,
   "id": "c4ec5e94",
   "metadata": {},
   "outputs": [
    {
     "name": "stdout",
     "output_type": "stream",
     "text": [
      "🔹 Top1 Jaccard Overlap Matrix\n",
      "         lm     st   rag1   rag2   rag3\n",
      "lm      1.0  0.884  0.759  0.719  0.754\n",
      "st    0.884    1.0  0.772  0.737  0.781\n",
      "rag1  0.759  0.772    1.0  0.895  0.721\n",
      "rag2  0.719  0.737  0.895    1.0  0.726\n",
      "rag3  0.754  0.781  0.721  0.726    1.0\n",
      "\n",
      "🔹 Top5 Jaccard Overlap Matrix\n",
      "         lm     st   rag1   rag2   rag3\n",
      "lm      1.0  0.899  0.855  0.853  0.822\n",
      "st    0.899    1.0  0.851  0.849  0.836\n",
      "rag1  0.855  0.851    1.0  0.973  0.915\n",
      "rag2  0.853  0.849  0.973    1.0  0.908\n",
      "rag3  0.822  0.836  0.915  0.908    1.0\n"
     ]
    }
   ],
   "source": [
    "files = {\n",
    "    'lm':\n",
    "    'data/outputs/cbio_bodysite/lm_sapbert_result.csv',\n",
    "    'st':\n",
    "    'data/outputs/cbio_bodysite/st_sapbert_result.csv',\n",
    "    'rag1':\n",
    "    'data/outputs/cbio_bodysite/rag_sapbert_result_removed_duplicates.csv',\n",
    "    'rag2':\n",
    "    'data/outputs/cbio_bodysite/rag_sapbert_result_partially_cleaned_contexts.csv',\n",
    "    'rag3':\n",
    "    'data/outputs/cbio_bodysite/rag_pubmed_result_partially_cleaned_contexts.csv',\n",
    "}\n",
    "\n",
    "top1_dict = {}\n",
    "top5_dict = {}\n",
    "\n",
    "for name, path in files.items():\n",
    "    df = pd.read_csv(path)\n",
    "    top1_dict[name] = set(df[df['match_level'] == 1]['original_value'])\n",
    "    top5_dict[name] = set(df[df['match_level'] <= 5]['original_value'])\n",
    "\n",
    "top1_overlap = compute_overlap_matrix(top1_dict)\n",
    "top5_overlap = compute_overlap_matrix(top5_dict)\n",
    "\n",
    "print(\"🔹 Top1 Jaccard Overlap Matrix\")\n",
    "print(top1_overlap)\n",
    "\n",
    "print(\"\\n🔹 Top5 Jaccard Overlap Matrix\")\n",
    "print(top5_overlap)"
   ]
  },
  {
   "cell_type": "code",
   "execution_count": 10,
   "id": "cbaa6815",
   "metadata": {},
   "outputs": [
    {
     "data": {
      "image/png": "[encoded data removed]",
      "text/plain": [
       "<Figure size 800x600 with 2 Axes>"
      ]
     },
     "metadata": {},
     "output_type": "display_data"
    },
    {
     "data": {
      "image/png": "[encoded data removed]",
      "text/plain": [
       "<Figure size 800x600 with 2 Axes>"
      ]
     },
     "metadata": {},
     "output_type": "display_data"
    }
   ],
   "source": [
    "plot_heatmap(top1_overlap, \"Top-1 Jaccard Overlap\")\n",
    "plot_heatmap(top5_overlap, \"Top-5 Jaccard Overlap\")"
   ]
  },
  {
   "cell_type": "markdown",
   "id": "db1eb193",
   "metadata": {},
   "source": [
    "Sample"
   ]
  },
  {
   "cell_type": "code",
   "execution_count": 28,
   "id": "97ca4eef",
   "metadata": {},
   "outputs": [
    {
     "name": "stdout",
     "output_type": "stream",
     "text": [
      "Max length of 'context' column: 6898\n"
     ]
    }
   ],
   "source": [
    "import sqlite3\n",
    "\n",
    "conn = sqlite3.connect('src/KnowledgeDb/vector_db.sqlite')\n",
    "cursor = conn.cursor()\n",
    "\n",
    "cursor.execute(\"SELECT MAX(LENGTH(context)) FROM mt_sap_bert_term_info;\")\n",
    "max_len = cursor.fetchone()[0]\n",
    "\n",
    "print(\"Max length of 'context' column:\", max_len)\n",
    "\n",
    "conn.close()"
   ]
  },
  {
   "cell_type": "code",
   "execution_count": null,
   "id": "77f1b100",
   "metadata": {},
   "outputs": [
    {
     "name": "stdout",
     "output_type": "stream",
     "text": [
      "✅ Exported 561 rows with long contexts to 'long_context_rows.csv'.\n"
     ]
    }
   ],
   "source": [
    "import sqlite3\n",
    "import csv\n",
    "\n",
    "conn = sqlite3.connect('src/KnowledgeDb/vector_db.sqlite')\n",
    "cursor = conn.cursor()\n",
    "\n",
    "cursor.execute(\"\"\"\n",
    "    SELECT * FROM pubmed_bert_term_info\n",
    "    WHERE LENGTH(context) > 2200;\n",
    "\"\"\")\n",
    "\n",
    "rows = cursor.fetchall()\n",
    "columns = [description[0] for description in cursor.description]\n",
    "\n",
    "with open('long_context_rows.csv', 'w', newline='', encoding='utf-8') as f:\n",
    "    writer = csv.writer(f)\n",
    "    writer.writerow(columns)\n",
    "    writer.writerows(rows)\n",
    "\n",
    "print(\n",
    "    f\"✅ Exported {len(rows)} rows with long contexts to 'long_context_rows.csv'.\"\n",
    ")\n",
    "\n",
    "conn.close()\n"
   ]
  },
  {
   "cell_type": "markdown",
   "id": "1d3d6c82",
   "metadata": {},
   "source": [
    "**Treatment**"
   ]
  },
  {
   "cell_type": "code",
   "execution_count": null,
   "id": "f23eb028",
   "metadata": {},
   "outputs": [],
   "source": [
    "# Updated code to pass the dict rather than a DataFrame\n",
    "df = pd.read_csv(\n",
    "    './data/corpus/cbio_treatment_name/trt_name_query_for_NCIT:C1909.csv')\n",
    "\n",
    "query_list = df['original_value'].tolist()\n",
    "small_corpus_list = df['curated_ontology'].tolist()\n",
    "\n",
    "cura_map = dict(zip(df['original_value'], df['curated_ontology']))"
   ]
  },
  {
   "cell_type": "markdown",
   "id": "693c4d7e",
   "metadata": {},
   "source": [
    "LM Strategy (SapBERT)"
   ]
  },
  {
   "cell_type": "code",
   "execution_count": 23,
   "id": "be2a9ad1",
   "metadata": {},
   "outputs": [
    {
     "name": "stdout",
     "output_type": "stream",
     "text": [
      "14/06//2025 01:43:1749890632 AM - INFO - OntoMapEngine: Initialized OntoMap Engine module\n",
      "14/06//2025 01:43:1749890632 AM - INFO - OntoMapEngine: Initialized OntoMap Engine module\n",
      "14/06//2025 01:43:1749890632 AM - INFO - OntoMapEngine: Initialized OntoMap Engine module\n",
      "14/06//2025 01:43:1749890632 AM - INFO - OntoMapEngine: Initialized OntoMap Engine module\n",
      "14/06//2025 01:43:1749890632 AM - INFO - OntoMapEngine: Initialized OntoMap Engine module\n",
      "14/06//2025 01:43:1749890632 AM - INFO - OntoMapEngine: Running Ontology Mapping\n",
      "14/06//2025 01:43:1749890632 AM - INFO - OntoMapEngine: Running Ontology Mapping\n",
      "14/06//2025 01:43:1749890632 AM - INFO - OntoMapEngine: Running Ontology Mapping\n",
      "14/06//2025 01:43:1749890632 AM - INFO - OntoMapEngine: Running Ontology Mapping\n",
      "14/06//2025 01:43:1749890632 AM - INFO - OntoMapEngine: Running Ontology Mapping\n",
      "14/06//2025 01:43:1749890632 AM - INFO - OntoMapEngine: Separating exact and non-exact matches\n",
      "14/06//2025 01:43:1749890632 AM - INFO - OntoMapEngine: Separating exact and non-exact matches\n",
      "14/06//2025 01:43:1749890632 AM - INFO - OntoMapEngine: Separating exact and non-exact matches\n",
      "14/06//2025 01:43:1749890632 AM - INFO - OntoMapEngine: Separating exact and non-exact matches\n",
      "14/06//2025 01:43:1749890632 AM - INFO - OntoMapEngine: Separating exact and non-exact matches\n",
      "14/06//2025 01:43:1749890632 AM - INFO - OntoMapEngine: Running OntoMap model for non-exact matches\n",
      "14/06//2025 01:43:1749890632 AM - INFO - OntoMapEngine: Running OntoMap model for non-exact matches\n",
      "14/06//2025 01:43:1749890632 AM - INFO - OntoMapEngine: Running OntoMap model for non-exact matches\n",
      "14/06//2025 01:43:1749890632 AM - INFO - OntoMapEngine: Running OntoMap model for non-exact matches\n",
      "14/06//2025 01:43:1749890632 AM - INFO - OntoMapEngine: Running OntoMap model for non-exact matches\n",
      "14/06//2025 01:43:1749890632 AM - INFO - OntoMapST: Initialized OntoMap Sentence Transformer module\n",
      "14/06//2025 01:43:1749890632 AM - INFO - OntoMapST: Initialized OntoMap Sentence Transformer module\n",
      "14/06//2025 01:43:1749890632 AM - INFO - OntoMapST: Initialized OntoMap Sentence Transformer module\n",
      "14/06//2025 01:43:1749890632 AM - INFO - OntoMapST: Initialized OntoMap Sentence Transformer module\n",
      "14/06//2025 01:43:1749890632 AM - INFO - OntoMapST.get_match_results: Creating embeddings for query_list and corpus\n",
      "14/06//2025 01:43:1749890632 AM - INFO - OntoMapST.get_match_results: Creating embeddings for query_list and corpus\n",
      "14/06//2025 01:43:1749890632 AM - INFO - OntoMapST.get_match_results: Creating embeddings for query_list and corpus\n",
      "14/06//2025 01:43:1749890632 AM - INFO - OntoMapST.get_match_results: Creating embeddings for query_list and corpus\n"
     ]
    },
    {
     "name": "stderr",
     "output_type": "stream",
     "text": [
      "No sentence-transformers model found with name cambridgeltl/SapBERT-from-PubmedBERT-fulltext. Creating a new one with mean pooling.\n",
      "No sentence-transformers model found with name cambridgeltl/SapBERT-from-PubmedBERT-fulltext. Creating a new one with mean pooling.\n"
     ]
    },
    {
     "name": "stdout",
     "output_type": "stream",
     "text": [
      "14/06//2025 01:43:1749890638 AM - INFO - OntoMapST.get_match_results: Calculating cosine similarity matrix\n",
      "14/06//2025 01:43:1749890638 AM - INFO - OntoMapST.get_match_results: Calculating cosine similarity matrix\n",
      "14/06//2025 01:43:1749890638 AM - INFO - OntoMapST.get_match_results: Calculating cosine similarity matrix\n",
      "14/06//2025 01:43:1749890638 AM - INFO - OntoMapST.get_match_results: Calculating cosine similarity matrix\n",
      "14/06//2025 01:43:1749890638 AM - INFO - OntoMapST.get_match_results: Generating results table\n",
      "14/06//2025 01:43:1749890638 AM - INFO - OntoMapST.get_match_results: Generating results table\n",
      "14/06//2025 01:43:1749890638 AM - INFO - OntoMapST.get_match_results: Generating results table\n",
      "14/06//2025 01:43:1749890638 AM - INFO - OntoMapST.get_match_results: Generating results table\n",
      "14/06//2025 01:43:1749890638 AM - INFO - OntoMapST.get_match_results: Results Generated\n",
      "14/06//2025 01:43:1749890638 AM - INFO - OntoMapST.get_match_results: Results Generated\n",
      "14/06//2025 01:43:1749890638 AM - INFO - OntoMapST.get_match_results: Results Generated\n",
      "14/06//2025 01:43:1749890638 AM - INFO - OntoMapST.get_match_results: Results Generated\n"
     ]
    }
   ],
   "source": [
    "# LM Strategy w/ SapBERT\n",
    "other_params = {\"test_or_prod\": \"test\"}\n",
    "onto_engine_large = ome.OntoMapEngine(\n",
    "    method='sap-bert',\n",
    "    topk=5,\n",
    "    query=query_list,\n",
    "    corpus=small_corpus_list,\n",
    "    cura_map=cura_map,\n",
    "    yaml_path='./src/models/method_model.yaml',\n",
    "    om_strategy='st',  # SapBERT is already CLS so no need to use 'lm' strategy\n",
    "    **other_params)\n",
    "lm_sapbert_result = onto_engine_large.run()"
   ]
  },
  {
   "cell_type": "code",
   "execution_count": 24,
   "id": "e30a8645",
   "metadata": {},
   "outputs": [
    {
     "name": "stdout",
     "output_type": "stream",
     "text": [
      "  Accuracy Level   Accuracy\n",
      "0    Top 1 Match  73.875433\n",
      "1  Top 3 Matches  78.373702\n",
      "2  Top 5 Matches  80.276817\n"
     ]
    }
   ],
   "source": [
    "lm_sapbert_accuracy_df = calc.calc_accuracy(lm_sapbert_result)\n",
    "print(lm_sapbert_accuracy_df)"
   ]
  },
  {
   "cell_type": "code",
   "execution_count": 25,
   "id": "3a8d3895",
   "metadata": {},
   "outputs": [],
   "source": [
    "lm_sapbert_result.to_csv(\"lm_sapbert_result.csv\", index=False)"
   ]
  },
  {
   "cell_type": "code",
   "execution_count": 26,
   "id": "7d341830",
   "metadata": {},
   "outputs": [
    {
     "name": "stdout",
     "output_type": "stream",
     "text": [
      "14/06//2025 01:44:1749890659 AM - INFO - OntoMapEngine: Initialized OntoMap Engine module\n",
      "14/06//2025 01:44:1749890659 AM - INFO - OntoMapEngine: Initialized OntoMap Engine module\n",
      "14/06//2025 01:44:1749890659 AM - INFO - OntoMapEngine: Initialized OntoMap Engine module\n",
      "14/06//2025 01:44:1749890659 AM - INFO - OntoMapEngine: Initialized OntoMap Engine module\n",
      "14/06//2025 01:44:1749890659 AM - INFO - OntoMapEngine: Initialized OntoMap Engine module\n",
      "14/06//2025 01:44:1749890659 AM - INFO - OntoMapEngine: Initialized OntoMap Engine module\n",
      "14/06//2025 01:44:1749890659 AM - INFO - OntoMapEngine: Running Ontology Mapping\n",
      "14/06//2025 01:44:1749890659 AM - INFO - OntoMapEngine: Running Ontology Mapping\n",
      "14/06//2025 01:44:1749890659 AM - INFO - OntoMapEngine: Running Ontology Mapping\n",
      "14/06//2025 01:44:1749890659 AM - INFO - OntoMapEngine: Running Ontology Mapping\n",
      "14/06//2025 01:44:1749890659 AM - INFO - OntoMapEngine: Running Ontology Mapping\n",
      "14/06//2025 01:44:1749890659 AM - INFO - OntoMapEngine: Running Ontology Mapping\n",
      "14/06//2025 01:44:1749890659 AM - INFO - OntoMapEngine: Separating exact and non-exact matches\n",
      "14/06//2025 01:44:1749890659 AM - INFO - OntoMapEngine: Separating exact and non-exact matches\n",
      "14/06//2025 01:44:1749890659 AM - INFO - OntoMapEngine: Separating exact and non-exact matches\n",
      "14/06//2025 01:44:1749890659 AM - INFO - OntoMapEngine: Separating exact and non-exact matches\n",
      "14/06//2025 01:44:1749890659 AM - INFO - OntoMapEngine: Separating exact and non-exact matches\n",
      "14/06//2025 01:44:1749890659 AM - INFO - OntoMapEngine: Separating exact and non-exact matches\n",
      "14/06//2025 01:44:1749890659 AM - INFO - OntoMapEngine: Running OntoMap model for non-exact matches\n",
      "14/06//2025 01:44:1749890659 AM - INFO - OntoMapEngine: Running OntoMap model for non-exact matches\n",
      "14/06//2025 01:44:1749890659 AM - INFO - OntoMapEngine: Running OntoMap model for non-exact matches\n",
      "14/06//2025 01:44:1749890659 AM - INFO - OntoMapEngine: Running OntoMap model for non-exact matches\n",
      "14/06//2025 01:44:1749890659 AM - INFO - OntoMapEngine: Running OntoMap model for non-exact matches\n",
      "14/06//2025 01:44:1749890659 AM - INFO - OntoMapEngine: Running OntoMap model for non-exact matches\n",
      "14/06//2025 01:44:1749890659 AM - INFO - OntoMapLM: Initialized OntoMap Language Model module\n",
      "14/06//2025 01:44:1749890659 AM - INFO - OntoMapLM: Initialized OntoMap Language Model module\n",
      "14/06//2025 01:44:1749890659 AM - INFO - OntoMapLM.get_match_results: Creating embeddings for query_list and corpus\n",
      "14/06//2025 01:44:1749890659 AM - INFO - OntoMapLM.get_match_results: Creating embeddings for query_list and corpus\n",
      "14/06//2025 01:44:1749890679 AM - INFO - OntoMapLM.get_match_results: Calculating cosine similarity matrix\n",
      "14/06//2025 01:44:1749890679 AM - INFO - OntoMapLM.get_match_results: Calculating cosine similarity matrix\n",
      "14/06//2025 01:44:1749890679 AM - INFO - OntoMapLM.get_match_results: Generating results table\n",
      "14/06//2025 01:44:1749890679 AM - INFO - OntoMapLM.get_match_results: Generating results table\n",
      "14/06//2025 01:44:1749890680 AM - INFO - OntoMapLM.get_match_results: Results Generated\n",
      "14/06//2025 01:44:1749890680 AM - INFO - OntoMapLM.get_match_results: Results Generated\n"
     ]
    }
   ],
   "source": [
    "# Language Model Strategy w/ PubMedBERT\n",
    "other_params = {\"test_or_prod\": \"test\"}\n",
    "onto_engine_large = ome.OntoMapEngine(\n",
    "    method='pubmed-bert',\n",
    "    topk=5,\n",
    "    query=query_list,\n",
    "    corpus=small_corpus_list,\n",
    "    cura_map=cura_map,\n",
    "    yaml_path='./src/models/method_model.yaml',\n",
    "    om_strategy='lm',\n",
    "    **other_params)\n",
    "\n",
    "lm_pubmedbert_result = onto_engine_large.run()"
   ]
  },
  {
   "cell_type": "code",
   "execution_count": 27,
   "id": "7068406e",
   "metadata": {},
   "outputs": [
    {
     "name": "stdout",
     "output_type": "stream",
     "text": [
      "  Accuracy Level   Accuracy\n",
      "0    Top 1 Match  67.647059\n",
      "1  Top 3 Matches  70.242215\n",
      "2  Top 5 Matches  71.799308\n"
     ]
    }
   ],
   "source": [
    "# Language Model Strategy w/ PubMedBERT\n",
    "lm_pubmedbert_accuracy_df = calc.calc_accuracy(lm_pubmedbert_result)\n",
    "lm_pubmedbert_accuracy = lm_pubmedbert_accuracy_df[\n",
    "    lm_pubmedbert_accuracy_df[\"Accuracy Level\"] ==\n",
    "    \"Top 5 Matches\"][\"Accuracy\"].values[0]\n",
    "\n",
    "print(lm_pubmedbert_accuracy_df)"
   ]
  },
  {
   "cell_type": "code",
   "execution_count": null,
   "id": "55586a0c",
   "metadata": {},
   "outputs": [],
   "source": [
    "lm_pubmedbert_result.to_csv(\"lm_pubmedbert_result.csv\", index=False)"
   ]
  },
  {
   "cell_type": "markdown",
   "id": "cd701edd",
   "metadata": {},
   "source": [
    "ST Strategy (PubMedBERT‑MS‑MARCO, SapBERT-mean-token)"
   ]
  },
  {
   "cell_type": "code",
   "execution_count": 28,
   "id": "c3b84a34",
   "metadata": {},
   "outputs": [
    {
     "name": "stdout",
     "output_type": "stream",
     "text": [
      "14/06//2025 01:44:1749890692 AM - INFO - OntoMapEngine: Initialized OntoMap Engine module\n",
      "14/06//2025 01:44:1749890692 AM - INFO - OntoMapEngine: Initialized OntoMap Engine module\n",
      "14/06//2025 01:44:1749890692 AM - INFO - OntoMapEngine: Initialized OntoMap Engine module\n",
      "14/06//2025 01:44:1749890692 AM - INFO - OntoMapEngine: Initialized OntoMap Engine module\n",
      "14/06//2025 01:44:1749890692 AM - INFO - OntoMapEngine: Initialized OntoMap Engine module\n",
      "14/06//2025 01:44:1749890692 AM - INFO - OntoMapEngine: Initialized OntoMap Engine module\n",
      "14/06//2025 01:44:1749890692 AM - INFO - OntoMapEngine: Initialized OntoMap Engine module\n",
      "14/06//2025 01:44:1749890692 AM - INFO - OntoMapEngine: Running Ontology Mapping\n",
      "14/06//2025 01:44:1749890692 AM - INFO - OntoMapEngine: Running Ontology Mapping\n",
      "14/06//2025 01:44:1749890692 AM - INFO - OntoMapEngine: Running Ontology Mapping\n",
      "14/06//2025 01:44:1749890692 AM - INFO - OntoMapEngine: Running Ontology Mapping\n",
      "14/06//2025 01:44:1749890692 AM - INFO - OntoMapEngine: Running Ontology Mapping\n",
      "14/06//2025 01:44:1749890692 AM - INFO - OntoMapEngine: Running Ontology Mapping\n",
      "14/06//2025 01:44:1749890692 AM - INFO - OntoMapEngine: Running Ontology Mapping\n",
      "14/06//2025 01:44:1749890692 AM - INFO - OntoMapEngine: Separating exact and non-exact matches\n",
      "14/06//2025 01:44:1749890692 AM - INFO - OntoMapEngine: Separating exact and non-exact matches\n",
      "14/06//2025 01:44:1749890692 AM - INFO - OntoMapEngine: Separating exact and non-exact matches\n",
      "14/06//2025 01:44:1749890692 AM - INFO - OntoMapEngine: Separating exact and non-exact matches\n",
      "14/06//2025 01:44:1749890692 AM - INFO - OntoMapEngine: Separating exact and non-exact matches\n",
      "14/06//2025 01:44:1749890692 AM - INFO - OntoMapEngine: Separating exact and non-exact matches\n",
      "14/06//2025 01:44:1749890692 AM - INFO - OntoMapEngine: Separating exact and non-exact matches\n",
      "14/06//2025 01:44:1749890692 AM - INFO - OntoMapEngine: Running OntoMap model for non-exact matches\n",
      "14/06//2025 01:44:1749890692 AM - INFO - OntoMapEngine: Running OntoMap model for non-exact matches\n",
      "14/06//2025 01:44:1749890692 AM - INFO - OntoMapEngine: Running OntoMap model for non-exact matches\n",
      "14/06//2025 01:44:1749890692 AM - INFO - OntoMapEngine: Running OntoMap model for non-exact matches\n",
      "14/06//2025 01:44:1749890692 AM - INFO - OntoMapEngine: Running OntoMap model for non-exact matches\n",
      "14/06//2025 01:44:1749890692 AM - INFO - OntoMapEngine: Running OntoMap model for non-exact matches\n",
      "14/06//2025 01:44:1749890692 AM - INFO - OntoMapEngine: Running OntoMap model for non-exact matches\n",
      "14/06//2025 01:44:1749890692 AM - INFO - OntoMapST: Initialized OntoMap Sentence Transformer module\n",
      "14/06//2025 01:44:1749890692 AM - INFO - OntoMapST: Initialized OntoMap Sentence Transformer module\n",
      "14/06//2025 01:44:1749890692 AM - INFO - OntoMapST: Initialized OntoMap Sentence Transformer module\n",
      "14/06//2025 01:44:1749890692 AM - INFO - OntoMapST: Initialized OntoMap Sentence Transformer module\n",
      "14/06//2025 01:44:1749890692 AM - INFO - OntoMapST: Initialized OntoMap Sentence Transformer module\n",
      "14/06//2025 01:44:1749890692 AM - INFO - OntoMapST.get_match_results: Creating embeddings for query_list and corpus\n",
      "14/06//2025 01:44:1749890692 AM - INFO - OntoMapST.get_match_results: Creating embeddings for query_list and corpus\n",
      "14/06//2025 01:44:1749890692 AM - INFO - OntoMapST.get_match_results: Creating embeddings for query_list and corpus\n",
      "14/06//2025 01:44:1749890692 AM - INFO - OntoMapST.get_match_results: Creating embeddings for query_list and corpus\n",
      "14/06//2025 01:44:1749890692 AM - INFO - OntoMapST.get_match_results: Creating embeddings for query_list and corpus\n"
     ]
    },
    {
     "name": "stderr",
     "output_type": "stream",
     "text": [
      "No sentence-transformers model found with name cambridgeltl/SapBERT-from-PubMedBERT-fulltext-mean-token. Creating a new one with mean pooling.\n",
      "No sentence-transformers model found with name cambridgeltl/SapBERT-from-PubMedBERT-fulltext-mean-token. Creating a new one with mean pooling.\n"
     ]
    },
    {
     "name": "stdout",
     "output_type": "stream",
     "text": [
      "14/06//2025 01:44:1749890696 AM - INFO - OntoMapST.get_match_results: Calculating cosine similarity matrix\n",
      "14/06//2025 01:44:1749890696 AM - INFO - OntoMapST.get_match_results: Calculating cosine similarity matrix\n",
      "14/06//2025 01:44:1749890696 AM - INFO - OntoMapST.get_match_results: Calculating cosine similarity matrix\n",
      "14/06//2025 01:44:1749890696 AM - INFO - OntoMapST.get_match_results: Calculating cosine similarity matrix\n",
      "14/06//2025 01:44:1749890696 AM - INFO - OntoMapST.get_match_results: Calculating cosine similarity matrix\n",
      "14/06//2025 01:44:1749890696 AM - INFO - OntoMapST.get_match_results: Generating results table\n",
      "14/06//2025 01:44:1749890696 AM - INFO - OntoMapST.get_match_results: Generating results table\n",
      "14/06//2025 01:44:1749890696 AM - INFO - OntoMapST.get_match_results: Generating results table\n",
      "14/06//2025 01:44:1749890696 AM - INFO - OntoMapST.get_match_results: Generating results table\n",
      "14/06//2025 01:44:1749890696 AM - INFO - OntoMapST.get_match_results: Generating results table\n",
      "14/06//2025 01:44:1749890697 AM - INFO - OntoMapST.get_match_results: Results Generated\n",
      "14/06//2025 01:44:1749890697 AM - INFO - OntoMapST.get_match_results: Results Generated\n",
      "14/06//2025 01:44:1749890697 AM - INFO - OntoMapST.get_match_results: Results Generated\n",
      "14/06//2025 01:44:1749890697 AM - INFO - OntoMapST.get_match_results: Results Generated\n",
      "14/06//2025 01:44:1749890697 AM - INFO - OntoMapST.get_match_results: Results Generated\n"
     ]
    }
   ],
   "source": [
    "# ST Strategy w/ SapBERT-mean-token\n",
    "other_params = {\"test_or_prod\": \"test\"}\n",
    "onto_engine_large = ome.OntoMapEngine(\n",
    "    method='mt-sap-bert',\n",
    "    topk=5,\n",
    "    query=query_list,\n",
    "    corpus=small_corpus_list,\n",
    "    cura_map=cura_map,\n",
    "    yaml_path='./src/models/method_model.yaml',\n",
    "    om_strategy='st',\n",
    "    **other_params)\n",
    "st_sapbert_result = onto_engine_large.run()"
   ]
  },
  {
   "cell_type": "code",
   "execution_count": null,
   "id": "1b062590",
   "metadata": {},
   "outputs": [],
   "source": [
    "st_sapbert_result.to_csv(\"st_sapbert_result.csv\", index=False)"
   ]
  },
  {
   "cell_type": "code",
   "execution_count": 29,
   "id": "7ab7ae52",
   "metadata": {},
   "outputs": [
    {
     "name": "stdout",
     "output_type": "stream",
     "text": [
      "  Accuracy Level   Accuracy\n",
      "0    Top 1 Match  73.356401\n",
      "1  Top 3 Matches  77.335640\n",
      "2  Top 5 Matches  78.892734\n"
     ]
    }
   ],
   "source": [
    "st_sapbert_accuracy_df = calc.calc_accuracy(st_sapbert_result)\n",
    "print(st_sapbert_accuracy_df)"
   ]
  },
  {
   "cell_type": "code",
   "execution_count": 30,
   "id": "ade5543c",
   "metadata": {},
   "outputs": [
    {
     "name": "stdout",
     "output_type": "stream",
     "text": [
      "14/06//2025 01:45:1749890708 AM - INFO - OntoMapEngine: Initialized OntoMap Engine module\n",
      "14/06//2025 01:45:1749890708 AM - INFO - OntoMapEngine: Initialized OntoMap Engine module\n",
      "14/06//2025 01:45:1749890708 AM - INFO - OntoMapEngine: Initialized OntoMap Engine module\n",
      "14/06//2025 01:45:1749890708 AM - INFO - OntoMapEngine: Initialized OntoMap Engine module\n",
      "14/06//2025 01:45:1749890708 AM - INFO - OntoMapEngine: Initialized OntoMap Engine module\n",
      "14/06//2025 01:45:1749890708 AM - INFO - OntoMapEngine: Initialized OntoMap Engine module\n",
      "14/06//2025 01:45:1749890708 AM - INFO - OntoMapEngine: Initialized OntoMap Engine module\n",
      "14/06//2025 01:45:1749890708 AM - INFO - OntoMapEngine: Initialized OntoMap Engine module\n",
      "14/06//2025 01:45:1749890708 AM - INFO - OntoMapEngine: Running Ontology Mapping\n",
      "14/06//2025 01:45:1749890708 AM - INFO - OntoMapEngine: Running Ontology Mapping\n",
      "14/06//2025 01:45:1749890708 AM - INFO - OntoMapEngine: Running Ontology Mapping\n",
      "14/06//2025 01:45:1749890708 AM - INFO - OntoMapEngine: Running Ontology Mapping\n",
      "14/06//2025 01:45:1749890708 AM - INFO - OntoMapEngine: Running Ontology Mapping\n",
      "14/06//2025 01:45:1749890708 AM - INFO - OntoMapEngine: Running Ontology Mapping\n",
      "14/06//2025 01:45:1749890708 AM - INFO - OntoMapEngine: Running Ontology Mapping\n",
      "14/06//2025 01:45:1749890708 AM - INFO - OntoMapEngine: Running Ontology Mapping\n",
      "14/06//2025 01:45:1749890708 AM - INFO - OntoMapEngine: Separating exact and non-exact matches\n",
      "14/06//2025 01:45:1749890708 AM - INFO - OntoMapEngine: Separating exact and non-exact matches\n",
      "14/06//2025 01:45:1749890708 AM - INFO - OntoMapEngine: Separating exact and non-exact matches\n",
      "14/06//2025 01:45:1749890708 AM - INFO - OntoMapEngine: Separating exact and non-exact matches\n",
      "14/06//2025 01:45:1749890708 AM - INFO - OntoMapEngine: Separating exact and non-exact matches\n",
      "14/06//2025 01:45:1749890708 AM - INFO - OntoMapEngine: Separating exact and non-exact matches\n",
      "14/06//2025 01:45:1749890708 AM - INFO - OntoMapEngine: Separating exact and non-exact matches\n",
      "14/06//2025 01:45:1749890708 AM - INFO - OntoMapEngine: Separating exact and non-exact matches\n",
      "14/06//2025 01:45:1749890708 AM - INFO - OntoMapEngine: Running OntoMap model for non-exact matches\n",
      "14/06//2025 01:45:1749890708 AM - INFO - OntoMapEngine: Running OntoMap model for non-exact matches\n",
      "14/06//2025 01:45:1749890708 AM - INFO - OntoMapEngine: Running OntoMap model for non-exact matches\n",
      "14/06//2025 01:45:1749890708 AM - INFO - OntoMapEngine: Running OntoMap model for non-exact matches\n",
      "14/06//2025 01:45:1749890708 AM - INFO - OntoMapEngine: Running OntoMap model for non-exact matches\n",
      "14/06//2025 01:45:1749890708 AM - INFO - OntoMapEngine: Running OntoMap model for non-exact matches\n",
      "14/06//2025 01:45:1749890708 AM - INFO - OntoMapEngine: Running OntoMap model for non-exact matches\n",
      "14/06//2025 01:45:1749890708 AM - INFO - OntoMapEngine: Running OntoMap model for non-exact matches\n",
      "14/06//2025 01:45:1749890708 AM - INFO - OntoMapST: Initialized OntoMap Sentence Transformer module\n",
      "14/06//2025 01:45:1749890708 AM - INFO - OntoMapST: Initialized OntoMap Sentence Transformer module\n",
      "14/06//2025 01:45:1749890708 AM - INFO - OntoMapST: Initialized OntoMap Sentence Transformer module\n",
      "14/06//2025 01:45:1749890708 AM - INFO - OntoMapST: Initialized OntoMap Sentence Transformer module\n",
      "14/06//2025 01:45:1749890708 AM - INFO - OntoMapST: Initialized OntoMap Sentence Transformer module\n",
      "14/06//2025 01:45:1749890708 AM - INFO - OntoMapST: Initialized OntoMap Sentence Transformer module\n",
      "14/06//2025 01:45:1749890708 AM - INFO - OntoMapST.get_match_results: Creating embeddings for query_list and corpus\n",
      "14/06//2025 01:45:1749890708 AM - INFO - OntoMapST.get_match_results: Creating embeddings for query_list and corpus\n",
      "14/06//2025 01:45:1749890708 AM - INFO - OntoMapST.get_match_results: Creating embeddings for query_list and corpus\n",
      "14/06//2025 01:45:1749890708 AM - INFO - OntoMapST.get_match_results: Creating embeddings for query_list and corpus\n",
      "14/06//2025 01:45:1749890708 AM - INFO - OntoMapST.get_match_results: Creating embeddings for query_list and corpus\n",
      "14/06//2025 01:45:1749890708 AM - INFO - OntoMapST.get_match_results: Creating embeddings for query_list and corpus\n"
     ]
    },
    {
     "name": "stderr",
     "output_type": "stream",
     "text": [
      "Exception in worker\n",
      "Traceback (most recent call last):\n",
      "  File \"/home/lcc/miniconda3/envs/py310/lib/python3.10/concurrent/futures/thread.py\", line 81, in _worker\n",
      "    work_item = work_queue.get(block=True)\n",
      "  File \"src/gevent/queue.py\", line 381, in gevent._gevent_cqueue.SimpleQueue.get\n",
      "  File \"src/gevent/queue.py\", line 397, in gevent._gevent_cqueue.SimpleQueue.get\n",
      "  File \"src/gevent/queue.py\", line 373, in gevent._gevent_cqueue.SimpleQueue._SimpleQueue__get_or_peek\n",
      "  File \"src/gevent/_waiter.py\", line 154, in gevent._gevent_c_waiter.Waiter.get\n",
      "  File \"src/gevent/_greenlet_primitives.py\", line 65, in gevent._gevent_c_greenlet_primitives.SwitchOutGreenletWithLoop.switch\n",
      "  File \"src/gevent/_gevent_c_greenlet_primitives.pxd\", line 35, in gevent._gevent_c_greenlet_primitives._greenlet_switch\n",
      "gevent.exceptions.LoopExit: This operation would block forever\n",
      "\tHub: <Hub '' at 0x7f6790fe7f60 epoll pending=0 ref=0 fileno=115 thread_ident=0x7f6729ff7640>\n",
      "\tHandles:\n",
      "[]\n",
      "Exception in worker\n",
      "Traceback (most recent call last):\n",
      "  File \"/home/lcc/miniconda3/envs/py310/lib/python3.10/concurrent/futures/thread.py\", line 81, in _worker\n",
      "    work_item = work_queue.get(block=True)\n",
      "  File \"src/gevent/queue.py\", line 381, in gevent._gevent_cqueue.SimpleQueue.get\n",
      "  File \"src/gevent/queue.py\", line 397, in gevent._gevent_cqueue.SimpleQueue.get\n",
      "  File \"src/gevent/queue.py\", line 373, in gevent._gevent_cqueue.SimpleQueue._SimpleQueue__get_or_peek\n",
      "  File \"src/gevent/_waiter.py\", line 154, in gevent._gevent_c_waiter.Waiter.get\n",
      "  File \"src/gevent/_greenlet_primitives.py\", line 65, in gevent._gevent_c_greenlet_primitives.SwitchOutGreenletWithLoop.switch\n",
      "  File \"src/gevent/_gevent_c_greenlet_primitives.pxd\", line 35, in gevent._gevent_c_greenlet_primitives._greenlet_switch\n",
      "gevent.exceptions.LoopExit: This operation would block forever\n",
      "\tHub: <Hub '' at 0x7f6791148860 epoll pending=0 ref=0 fileno=127 thread_ident=0x7f67297f6640>\n",
      "\tHandles:\n",
      "[]\n"
     ]
    },
    {
     "name": "stdout",
     "output_type": "stream",
     "text": [
      "14/06//2025 01:45:1749890715 AM - INFO - OntoMapST.get_match_results: Calculating cosine similarity matrix\n",
      "14/06//2025 01:45:1749890715 AM - INFO - OntoMapST.get_match_results: Calculating cosine similarity matrix\n",
      "14/06//2025 01:45:1749890715 AM - INFO - OntoMapST.get_match_results: Calculating cosine similarity matrix\n",
      "14/06//2025 01:45:1749890715 AM - INFO - OntoMapST.get_match_results: Calculating cosine similarity matrix\n",
      "14/06//2025 01:45:1749890715 AM - INFO - OntoMapST.get_match_results: Calculating cosine similarity matrix\n",
      "14/06//2025 01:45:1749890715 AM - INFO - OntoMapST.get_match_results: Calculating cosine similarity matrix\n",
      "14/06//2025 01:45:1749890715 AM - INFO - OntoMapST.get_match_results: Generating results table\n",
      "14/06//2025 01:45:1749890715 AM - INFO - OntoMapST.get_match_results: Generating results table\n",
      "14/06//2025 01:45:1749890715 AM - INFO - OntoMapST.get_match_results: Generating results table\n",
      "14/06//2025 01:45:1749890715 AM - INFO - OntoMapST.get_match_results: Generating results table\n",
      "14/06//2025 01:45:1749890715 AM - INFO - OntoMapST.get_match_results: Generating results table\n",
      "14/06//2025 01:45:1749890715 AM - INFO - OntoMapST.get_match_results: Generating results table\n",
      "14/06//2025 01:45:1749890715 AM - INFO - OntoMapST.get_match_results: Results Generated\n",
      "14/06//2025 01:45:1749890715 AM - INFO - OntoMapST.get_match_results: Results Generated\n",
      "14/06//2025 01:45:1749890715 AM - INFO - OntoMapST.get_match_results: Results Generated\n",
      "14/06//2025 01:45:1749890715 AM - INFO - OntoMapST.get_match_results: Results Generated\n",
      "14/06//2025 01:45:1749890715 AM - INFO - OntoMapST.get_match_results: Results Generated\n",
      "14/06//2025 01:45:1749890715 AM - INFO - OntoMapST.get_match_results: Results Generated\n"
     ]
    }
   ],
   "source": [
    "# st - pubmed-bert\n",
    "other_params = {\"test_or_prod\": \"test\"}\n",
    "onto_engine_large = ome.OntoMapEngine(\n",
    "    method='pubmed-bert',\n",
    "    topk=5,\n",
    "    query=query_list,\n",
    "    corpus=small_corpus_list,\n",
    "    cura_map=cura_map,\n",
    "    yaml_path='./src/models/method_model.yaml',\n",
    "    om_strategy='st',\n",
    "    **other_params)\n",
    "\n",
    "st_pubmetbert_result = onto_engine_large.run()"
   ]
  },
  {
   "cell_type": "code",
   "execution_count": 31,
   "id": "fd7b0257",
   "metadata": {},
   "outputs": [
    {
     "name": "stdout",
     "output_type": "stream",
     "text": [
      "  Accuracy Level   Accuracy\n",
      "0    Top 1 Match  67.820069\n",
      "1  Top 3 Matches  69.723183\n",
      "2  Top 5 Matches  70.934256\n"
     ]
    }
   ],
   "source": [
    "# Sentences Transformer Strategy w/ PubMedBERT\n",
    "st_pubmedbert_accuracy_df = calc.calc_accuracy(st_pubmetbert_result)\n",
    "st_pubmedbert_accuracy = st_pubmedbert_accuracy_df[\n",
    "    st_pubmedbert_accuracy_df[\"Accuracy Level\"] ==\n",
    "    \"Top 5 Matches\"][\"Accuracy\"].values[0]\n",
    "\n",
    "print(st_pubmedbert_accuracy_df)"
   ]
  },
  {
   "cell_type": "code",
   "execution_count": null,
   "id": "82534e99",
   "metadata": {},
   "outputs": [],
   "source": [
    "st_pubmetbert_result.to_csv(\"st_pubmedbert_result.csv\", index=False)"
   ]
  },
  {
   "cell_type": "markdown",
   "id": "6bcab5b4",
   "metadata": {},
   "source": [
    "RAG"
   ]
  },
  {
   "cell_type": "code",
   "execution_count": null,
   "id": "6facb7b9",
   "metadata": {},
   "outputs": [
    {
     "name": "stdout",
     "output_type": "stream",
     "text": [
      "13/06//2025 11:29:1749839365 AM - INFO - OntoMapEngine: Initialized OntoMap Engine module\n",
      "13/06//2025 11:29:1749839365 AM - INFO - OntoMapEngine: Initialized OntoMap Engine module\n",
      "13/06//2025 11:29:1749839365 AM - INFO - OntoMapEngine: Initialized OntoMap Engine module\n",
      "13/06//2025 11:29:1749839365 AM - INFO - OntoMapEngine: Running Ontology Mapping\n",
      "13/06//2025 11:29:1749839365 AM - INFO - OntoMapEngine: Running Ontology Mapping\n",
      "13/06//2025 11:29:1749839365 AM - INFO - OntoMapEngine: Running Ontology Mapping\n",
      "13/06//2025 11:29:1749839365 AM - INFO - OntoMapEngine: Separating exact and non-exact matches\n",
      "13/06//2025 11:29:1749839365 AM - INFO - OntoMapEngine: Separating exact and non-exact matches\n",
      "13/06//2025 11:29:1749839365 AM - INFO - OntoMapEngine: Separating exact and non-exact matches\n",
      "13/06//2025 11:29:1749839365 AM - INFO - OntoMapEngine: Running OntoMap model for non-exact matches\n",
      "13/06//2025 11:29:1749839365 AM - INFO - OntoMapEngine: Running OntoMap model for non-exact matches\n",
      "13/06//2025 11:29:1749839365 AM - INFO - OntoMapEngine: Running OntoMap model for non-exact matches\n",
      "13/06//2025 11:29:1749839365 AM - INFO - OntoMapRAG: Initialized OntoMapRAG module\n",
      "13/06//2025 11:29:1749839365 AM - INFO - OntoMapRAG: Generating results table\n"
     ]
    },
    {
     "name": "stderr",
     "output_type": "stream",
     "text": [
      "Processing queries:   0%|          | 0/439 [00:00<?, ?it/s]No sentence-transformers model found with name cambridgeltl/SapBERT-from-PubMedBERT-fulltext-mean-token. Creating a new one with mean pooling.\n",
      "Processing queries: 100%|██████████| 439/439 [00:07<00:00, 58.18it/s]"
     ]
    },
    {
     "name": "stdout",
     "output_type": "stream",
     "text": [
      "13/06//2025 11:29:1749839373 AM - INFO - OntoMapRAG: Results Generated\n"
     ]
    },
    {
     "name": "stderr",
     "output_type": "stream",
     "text": [
      "\n"
     ]
    }
   ],
   "source": [
    "# RAG Strategy w/ SapBERT\n",
    "rag_engine = ome.OntoMapEngine(method='mt-sap-bert',\n",
    "                               topk=5,\n",
    "                               query=query_list,\n",
    "                               corpus=small_corpus_list,\n",
    "                               cura_map=cura_map,\n",
    "                               yaml_path='./src/models/method_model.yaml',\n",
    "                               om_strategy='rag',\n",
    "                               test_or_prod='test')\n",
    "rag_result = rag_engine.run()"
   ]
  },
  {
   "cell_type": "code",
   "execution_count": null,
   "id": "3c1d3a7b",
   "metadata": {},
   "outputs": [],
   "source": [
    "rag_result.to_csv(\"rag_sapbert_result_partially_cleaned_contexts.csv\",\n",
    "                  index=False)"
   ]
  },
  {
   "cell_type": "code",
   "execution_count": null,
   "id": "11cef71b",
   "metadata": {},
   "outputs": [
    {
     "name": "stdout",
     "output_type": "stream",
     "text": [
      "RAG SapBERT Top-5 Accuracy: 91.34%\n",
      "  Accuracy Level   Accuracy\n",
      "0    Top 1 Match  64.464692\n",
      "1  Top 3 Matches  87.471526\n",
      "2  Top 5 Matches  91.343964\n"
     ]
    }
   ],
   "source": [
    "# RAG Strategy w/ SapBERT\n",
    "rag_accuracy_df = calc.calc_accuracy(rag_result)\n",
    "rag_accuracy = rag_accuracy_df[rag_accuracy_df[\"Accuracy Level\"] ==\n",
    "                               \"Top 5 Matches\"][\"Accuracy\"].values[0]\n",
    "\n",
    "print(rag_accuracy_df)"
   ]
  },
  {
   "cell_type": "code",
   "execution_count": null,
   "id": "f2b577fc",
   "metadata": {},
   "outputs": [
    {
     "name": "stdout",
     "output_type": "stream",
     "text": [
      "13/06//2025 11:33:1749839608 AM - INFO - OntoMapEngine: Initialized OntoMap Engine module\n",
      "13/06//2025 11:33:1749839608 AM - INFO - OntoMapEngine: Initialized OntoMap Engine module\n",
      "13/06//2025 11:33:1749839608 AM - INFO - OntoMapEngine: Initialized OntoMap Engine module\n",
      "13/06//2025 11:33:1749839608 AM - INFO - OntoMapEngine: Initialized OntoMap Engine module\n",
      "13/06//2025 11:33:1749839608 AM - INFO - OntoMapEngine: Running Ontology Mapping\n",
      "13/06//2025 11:33:1749839608 AM - INFO - OntoMapEngine: Running Ontology Mapping\n",
      "13/06//2025 11:33:1749839608 AM - INFO - OntoMapEngine: Running Ontology Mapping\n",
      "13/06//2025 11:33:1749839608 AM - INFO - OntoMapEngine: Running Ontology Mapping\n",
      "13/06//2025 11:33:1749839608 AM - INFO - OntoMapEngine: Separating exact and non-exact matches\n",
      "13/06//2025 11:33:1749839608 AM - INFO - OntoMapEngine: Separating exact and non-exact matches\n",
      "13/06//2025 11:33:1749839608 AM - INFO - OntoMapEngine: Separating exact and non-exact matches\n",
      "13/06//2025 11:33:1749839608 AM - INFO - OntoMapEngine: Separating exact and non-exact matches\n",
      "13/06//2025 11:33:1749839608 AM - INFO - OntoMapEngine: Running OntoMap model for non-exact matches\n",
      "13/06//2025 11:33:1749839608 AM - INFO - OntoMapEngine: Running OntoMap model for non-exact matches\n",
      "13/06//2025 11:33:1749839608 AM - INFO - OntoMapEngine: Running OntoMap model for non-exact matches\n",
      "13/06//2025 11:33:1749839608 AM - INFO - OntoMapEngine: Running OntoMap model for non-exact matches\n",
      "13/06//2025 11:33:1749839608 AM - INFO - OntoMapRAG: Initialized OntoMapRAG module\n",
      "13/06//2025 11:33:1749839608 AM - INFO - OntoMapRAG: Initialized OntoMapRAG module\n",
      "13/06//2025 11:33:1749839608 AM - INFO - OntoMapRAG: Generating results table\n",
      "13/06//2025 11:33:1749839608 AM - INFO - OntoMapRAG: Generating results table\n"
     ]
    },
    {
     "name": "stderr",
     "output_type": "stream",
     "text": [
      "Processing queries:   0%|          | 0/439 [00:00<?, ?it/s]Exception in worker\n",
      "Traceback (most recent call last):\n",
      "  File \"/home/lcc/miniconda3/envs/py310/lib/python3.10/concurrent/futures/thread.py\", line 81, in _worker\n",
      "    work_item = work_queue.get(block=True)\n",
      "  File \"src/gevent/queue.py\", line 381, in gevent._gevent_cqueue.SimpleQueue.get\n",
      "  File \"src/gevent/queue.py\", line 397, in gevent._gevent_cqueue.SimpleQueue.get\n",
      "  File \"src/gevent/queue.py\", line 373, in gevent._gevent_cqueue.SimpleQueue._SimpleQueue__get_or_peek\n",
      "  File \"src/gevent/_waiter.py\", line 154, in gevent._gevent_c_waiter.Waiter.get\n",
      "  File \"src/gevent/_greenlet_primitives.py\", line 65, in gevent._gevent_c_greenlet_primitives.SwitchOutGreenletWithLoop.switch\n",
      "  File \"src/gevent/_gevent_c_greenlet_primitives.pxd\", line 35, in gevent._gevent_c_greenlet_primitives._greenlet_switch\n",
      "gevent.exceptions.LoopExit: This operation would block forever\n",
      "\tHub: <Hub '' at 0x7f5db426ec00 epoll pending=0 ref=0 fileno=101 thread_ident=0x7f5d33fff640>\n",
      "\tHandles:\n",
      "[]\n",
      "Processing queries: 100%|██████████| 439/439 [00:09<00:00, 44.45it/s]"
     ]
    },
    {
     "name": "stdout",
     "output_type": "stream",
     "text": [
      "13/06//2025 11:33:1749839618 AM - INFO - OntoMapRAG: Results Generated\n",
      "13/06//2025 11:33:1749839618 AM - INFO - OntoMapRAG: Results Generated\n"
     ]
    },
    {
     "name": "stderr",
     "output_type": "stream",
     "text": [
      "\n"
     ]
    }
   ],
   "source": [
    "# RAG Strategy w/ pubmed-bert\n",
    "rag_engine = ome.OntoMapEngine(method='pubmed-bert',\n",
    "                               topk=5,\n",
    "                               query=query_list,\n",
    "                               corpus=small_corpus_list,\n",
    "                               cura_map=cura_map,\n",
    "                               yaml_path='./src/models/method_model.yaml',\n",
    "                               om_strategy='rag',\n",
    "                               test_or_prod='test')\n",
    "rag_pubmed_result = rag_engine.run()"
   ]
  },
  {
   "cell_type": "code",
   "execution_count": null,
   "id": "355e90ba",
   "metadata": {},
   "outputs": [],
   "source": [
    "rag_pubmed_result.to_csv(\"rag_pubmed_result_partially_cleaned_contexts.csv\",\n",
    "                         index=False)"
   ]
  },
  {
   "cell_type": "code",
   "execution_count": null,
   "id": "dc7586ac",
   "metadata": {},
   "outputs": [
    {
     "name": "stdout",
     "output_type": "stream",
     "text": [
      "RAG PubMedBERT Top-5 Accuracy: 93.85%\n",
      "  Accuracy Level   Accuracy\n",
      "0    Top 1 Match  70.387244\n",
      "1  Top 3 Matches  89.293850\n",
      "2  Top 5 Matches  93.849658\n"
     ]
    }
   ],
   "source": [
    "# RAG Strategy w/ pubmed-bert\n",
    "rag_pubmed_accuracy_df = calc.calc_accuracy(rag_pubmed_result)\n",
    "rag_pubmed_accuracy = rag_pubmed_accuracy_df[\n",
    "    rag_pubmed_accuracy_df[\"Accuracy Level\"] ==\n",
    "    \"Top 5 Matches\"][\"Accuracy\"].values[0]\n",
    "print(f\"RAG PubMedBERT Top-5 Accuracy: {rag_pubmed_accuracy:.2f}%\")\n",
    "print(rag_pubmed_accuracy_df)"
   ]
  },
  {
   "cell_type": "code",
   "execution_count": null,
   "id": "296eaf8c",
   "metadata": {},
   "outputs": [
    {
     "name": "stdout",
     "output_type": "stream",
     "text": [
      "11/06//2025 02:08:1749632890 AM - INFO - OntoMapEngine: Initialized OntoMap Engine module\n",
      "11/06//2025 02:08:1749632890 AM - INFO - OntoMapEngine: Initialized OntoMap Engine module\n",
      "11/06//2025 02:08:1749632890 AM - INFO - OntoMapEngine: Running Ontology Mapping\n",
      "11/06//2025 02:08:1749632890 AM - INFO - OntoMapEngine: Running Ontology Mapping\n",
      "11/06//2025 02:08:1749632890 AM - INFO - OntoMapEngine: Separating exact and non-exact matches\n",
      "11/06//2025 02:08:1749632890 AM - INFO - OntoMapEngine: Separating exact and non-exact matches\n",
      "11/06//2025 02:08:1749632890 AM - INFO - OntoMapEngine: Running OntoMap model for non-exact matches\n",
      "11/06//2025 02:08:1749632890 AM - INFO - OntoMapEngine: Running OntoMap model for non-exact matches\n",
      "11/06//2025 02:08:1749632890 AM - INFO - OntoMapRAG: Initialized OntoMapRAG module\n",
      "11/06//2025 02:08:1749632890 AM - INFO - OntoMapRAG: Initialized OntoMapRAG module\n",
      "11/06//2025 02:08:1749632890 AM - INFO - OntoMapRAG: Generating results table\n",
      "11/06//2025 02:08:1749632890 AM - INFO - OntoMapRAG: Generating results table\n"
     ]
    },
    {
     "name": "stderr",
     "output_type": "stream",
     "text": [
      "Processing queries:   0%|          | 0/439 [00:00<?, ?it/s]No sentence-transformers model found with name emilyalsentzer/Bio_ClinicalBERT. Creating a new one with mean pooling.\n",
      "Processing queries: 100%|██████████| 439/439 [00:16<00:00, 26.07it/s]"
     ]
    },
    {
     "name": "stdout",
     "output_type": "stream",
     "text": [
      "11/06//2025 02:08:1749632907 AM - INFO - OntoMapRAG: Results Generated\n",
      "11/06//2025 02:08:1749632907 AM - INFO - OntoMapRAG: Results Generated\n"
     ]
    },
    {
     "name": "stderr",
     "output_type": "stream",
     "text": [
      "\n"
     ]
    }
   ],
   "source": [
    "# RAG Strategy w/ clinical-bert\n",
    "rag_engine = ome.OntoMapEngine(method='clinical-bert',\n",
    "                               topk=5,\n",
    "                               query=query_list,\n",
    "                               corpus=small_corpus_list,\n",
    "                               cura_map=cura_map,\n",
    "                               yaml_path='./src/models/method_model.yaml',\n",
    "                               om_strategy='rag',\n",
    "                               test_or_prod='test')\n",
    "rag_clinical_result = rag_engine.run()"
   ]
  },
  {
   "cell_type": "code",
   "execution_count": null,
   "id": "d31d5f14",
   "metadata": {},
   "outputs": [
    {
     "name": "stdout",
     "output_type": "stream",
     "text": [
      "RAG ClinicalBERT Top-5 Accuracy: 37.81%\n",
      "  Accuracy Level   Accuracy\n",
      "0    Top 1 Match  10.022779\n",
      "1  Top 3 Matches  26.879271\n",
      "2  Top 5 Matches  37.813212\n"
     ]
    }
   ],
   "source": [
    "rag_clinical_accuracy_df = calc.calc_accuracy(rag_clinical_result)\n",
    "rag_clinical_accuracy = rag_clinical_accuracy_df[\n",
    "    rag_clinical_accuracy_df[\"Accuracy Level\"] ==\n",
    "    \"Top 5 Matches\"][\"Accuracy\"].values[0]\n",
    "print(f\"RAG ClinicalBERT Top-5 Accuracy: {rag_clinical_accuracy:.2f}%\")\n",
    "print(rag_clinical_accuracy_df)"
   ]
  },
  {
   "cell_type": "markdown",
   "id": "4deecbd2",
   "metadata": {},
   "source": [
    "Comparison"
   ]
  },
  {
   "cell_type": "code",
   "execution_count": 23,
   "id": "51927832",
   "metadata": {},
   "outputs": [
    {
     "data": {
      "image/png": "[encoded data removed]",
      "text/plain": [
       "<Figure size 800x600 with 1 Axes>"
      ]
     },
     "metadata": {},
     "output_type": "display_data"
    }
   ],
   "source": [
    "import pandas as pd\n",
    "import matplotlib.pyplot as plt\n",
    "\n",
    "file_path = r\"data/outputs/Comparison.xlsx\"\n",
    "df = pd.read_excel(file_path)\n",
    "\n",
    "df[\"model\"] = df[\"model\"].str.replace(\"–\", \"-\", regex=False)  # en dash\n",
    "df[\"model\"] = df[\"model\"].str.replace(\"‑\", \"-\",\n",
    "                                      regex=False)  # non-breaking hyphen\n",
    "\n",
    "categories = df[\"category\"].unique()\n",
    "topks = [\"Top 1\", \"Top 3\", \"Top 5\"]\n",
    "colors = {\"bodysite\": \"blue\", \"disease\": \"orange\", \"treatment\": \"green\"}\n",
    "linestyles = {\"SapBERT\": \"solid\", \"PubMedBERT-MS-MARCO\": \"dashed\"}\n",
    "\n",
    "plt.figure(figsize=(8, 6))\n",
    "\n",
    "for cat in categories:\n",
    "    df_sapbert = df[(df[\"category\"] == cat) & (df[\"model\"] == \"SapBERT\")]\n",
    "    if not df_sapbert.empty:\n",
    "        mean_accuracy = df_sapbert[topks].mean()\n",
    "        label = f\"{cat.capitalize()} - SapBERT\"\n",
    "        plt.plot(topks,\n",
    "                 mean_accuracy,\n",
    "                 label=label,\n",
    "                 color=colors[cat],\n",
    "                 linestyle=linestyles[\"SapBERT\"])\n",
    "\n",
    "    df_pubmed_mean = df[(df[\"category\"] == cat)\n",
    "                        & (df[\"model\"] == \"PubMedBERT-MS-MARCO\") &\n",
    "                        (df[\"pooling strategy\"] == \"lm\")]\n",
    "    if not df_pubmed_mean.empty:\n",
    "        mean_accuracy = df_pubmed_mean[topks].mean()\n",
    "        label = f\"{cat.capitalize()} - PubMedBERT\"\n",
    "        plt.plot(topks,\n",
    "                 mean_accuracy,\n",
    "                 label=label,\n",
    "                 color=colors[cat],\n",
    "                 linestyle=linestyles[\"PubMedBERT-MS-MARCO\"])\n",
    "\n",
    "plt.title(\"Accuracy Comparison between SapBERT and PubMedBERT\")\n",
    "plt.xlabel(\"Top K Match\")\n",
    "plt.ylabel(\"Accuracy (%)\")\n",
    "plt.ylim(60, 100)\n",
    "plt.grid(True)\n",
    "plt.legend(title=\"Model\")\n",
    "plt.tight_layout()\n",
    "plt.show()"
   ]
  },
  {
   "cell_type": "code",
   "execution_count": 25,
   "id": "aea964bd",
   "metadata": {},
   "outputs": [
    {
     "name": "stderr",
     "output_type": "stream",
     "text": [
      "huggingface/tokenizers: The current process just got forked, after parallelism has already been used. Disabling parallelism to avoid deadlocks...\n",
      "To disable this warning, you can either:\n",
      "\t- Avoid using `tokenizers` before the fork if possible\n",
      "\t- Explicitly set the environment variable TOKENIZERS_PARALLELISM=(true | false)\n"
     ]
    },
    {
     "name": "stdout",
     "output_type": "stream",
     "text": [
      "[{\"code\":\"R100\",\"name\":\"Disease_Has_Associated_Anatomic_Site\",\"terminology\":\"ncit\",\"version\":\"25.05d\"},{\"code\":\"R101\",\"name\":\"Disease_Has_Primary_Anatomic_Site\",\"terminology\":\"ncit\",\"version\":\"25.05d\"},{\"code\":\"R102\",\"name\":\"Disease_Has_Metastatic_Anatomic_Site\",\"terminology\":\"ncit\",\"version\":\"25.05d\"},{\"code\":\"R103\",\"name\":\"Disease_Has_Normal_Tissue_Origin\",\"terminology\":\"ncit\",\"version\":\"25.05d\"},{\"code\":\"R104\",\"name\":\"Disease_Has_Normal_Cell_Origin\",\"terminology\":\"ncit\",\"version\":\"25.05d\"},{\"code\":\"R105\",\"name\":\"Disease_Has_Abnormal_Cell\",\"terminology\":\"ncit\",\"version\":\"25.05d\"},{\"code\":\"R106\",\"name\":\"Disease_Has_Molecular_Abnormality\",\"terminology\":\"ncit\",\"version\":\"25.05d\"},{\"code\":\"R107\",\"name\":\"Disease_Has_Cytogenetic_Abnormality\",\"terminology\":\"ncit\",\"version\":\"25.05d\"},{\"code\":\"R108\",\"name\":\"Disease_Has_Finding\",\"terminology\":\"ncit\",\"version\":\"25.05d\"},{\"code\":\"R110\",\"name\":\"Disease_Is_Grade\",\"terminology\":\"ncit\",\"version\":\"25.05d\"},{\"code\":\"R111\",\"name\":\"Disease_May_Have_Normal_Tissue_Origin\",\"terminology\":\"ncit\",\"version\":\"25.05d\"},{\"code\":\"R112\",\"name\":\"Disease_May_Have_Normal_Cell_Origin\",\"terminology\":\"ncit\",\"version\":\"25.05d\"},{\"code\":\"R113\",\"name\":\"Disease_May_Have_Abnormal_Cell\",\"terminology\":\"ncit\",\"version\":\"25.05d\"},{\"code\":\"R114\",\"name\":\"Disease_May_Have_Cytogenetic_Abnormality\",\"terminology\":\"ncit\",\"version\":\"25.05d\"},{\"code\":\"R115\",\"name\":\"Disease_May_Have_Finding\",\"terminology\":\"ncit\",\"version\":\"25.05d\"},{\"code\":\"R116\",\"name\":\"Disease_May_Have_Associated_Disease\",\"terminology\":\"ncit\",\"version\":\"25.05d\"},{\"code\":\"R122\",\"name\":\"Chemical_Or_Drug_Is_Metabolized_By_Enzyme\",\"terminology\":\"ncit\",\"version\":\"25.05d\"},{\"code\":\"R123\",\"name\":\"Chemotherapy_Regimen_Has_Component\",\"terminology\":\"ncit\",\"version\":\"25.05d\"},{\"code\":\"R124\",\"name\":\"Chemical_Or_Drug_Has_Mechanism_Of_Action\",\"terminology\":\"ncit\",\"version\":\"25.05d\"},{\"code\":\"R125\",\"name\":\"Chemical_Or_Drug_Has_Physiologic_Effect\",\"terminology\":\"ncit\",\"version\":\"25.05d\"},{\"code\":\"R126\",\"name\":\"Disease_Has_Associated_Disease\",\"terminology\":\"ncit\",\"version\":\"25.05d\"},{\"code\":\"R130\",\"name\":\"Gene_Is_Element_In_Pathway\",\"terminology\":\"ncit\",\"version\":\"25.05d\"},{\"code\":\"R131\",\"name\":\"Gene_Product_Is_Element_In_Pathway\",\"terminology\":\"ncit\",\"version\":\"25.05d\"},{\"code\":\"R132\",\"name\":\"Gene_Has_Abnormality\",\"terminology\":\"ncit\",\"version\":\"25.05d\"},{\"code\":\"R133\",\"name\":\"Gene_Product_Has_Abnormality\",\"terminology\":\"ncit\",\"version\":\"25.05d\"},{\"code\":\"R135\",\"name\":\"Disease_Excludes_Primary_Anatomic_Site\",\"terminology\":\"ncit\",\"version\":\"25.05d\"},{\"code\":\"R136\",\"name\":\"Disease_Excludes_Metastatic_Anatomic_Site\",\"terminology\":\"ncit\",\"version\":\"25.05d\"},{\"code\":\"R137\",\"name\":\"Disease_Excludes_Normal_Tissue_Origin\",\"terminology\":\"ncit\",\"version\":\"25.05d\"},{\"code\":\"R138\",\"name\":\"Disease_Excludes_Normal_Cell_Origin\",\"terminology\":\"ncit\",\"version\":\"25.05d\"},{\"code\":\"R139\",\"name\":\"Disease_Excludes_Abnormal_Cell\",\"terminology\":\"ncit\",\"version\":\"25.05d\"},{\"code\":\"R140\",\"name\":\"Disease_Excludes_Molecular_Abnormality\",\"terminology\":\"ncit\",\"version\":\"25.05d\"},{\"code\":\"R141\",\"name\":\"Disease_Excludes_Cytogenetic_Abnormality\",\"terminology\":\"ncit\",\"version\":\"25.05d\"},{\"code\":\"R142\",\"name\":\"Disease_Excludes_Finding\",\"terminology\":\"ncit\",\"version\":\"25.05d\"},{\"code\":\"R145\",\"name\":\"Gene_Has_Physical_Location\",\"terminology\":\"ncit\",\"version\":\"25.05d\"},{\"code\":\"R146\",\"name\":\"Chemical_Or_Drug_Affects_Gene_Product\",\"terminology\":\"ncit\",\"version\":\"25.05d\"},{\"code\":\"R150\",\"name\":\"Chemical_Or_Drug_Affects_Abnormal_Cell\",\"terminology\":\"ncit\",\"version\":\"25.05d\"},{\"code\":\"R153\",\"name\":\"Allele_Has_Abnormality\",\"terminology\":\"ncit\",\"version\":\"25.05d\"},{\"code\":\"R155\",\"name\":\"Allele_In_Chromosomal_Location\",\"terminology\":\"ncit\",\"version\":\"25.05d\"},{\"code\":\"R40\",\"name\":\"Gene_In_Chromosomal_Location\",\"terminology\":\"ncit\",\"version\":\"25.05d\"},{\"code\":\"R156\",\"name\":\"Allele_Absent_From_Wild-type_Chromosomal_Location\",\"terminology\":\"ncit\",\"version\":\"25.05d\"},{\"code\":\"R158\",\"name\":\"Allele_Plays_Altered_Role_In_Process\",\"terminology\":\"ncit\",\"version\":\"25.05d\"},{\"code\":\"R37\",\"name\":\"Gene_Plays_Role_In_Process\",\"terminology\":\"ncit\",\"version\":\"25.05d\"},{\"code\":\"R159\",\"name\":\"Allele_Has_Activity\",\"terminology\":\"ncit\",\"version\":\"25.05d\"},{\"code\":\"R160\",\"name\":\"Allele_Plays_Role_In_Metabolism_Of_Chemical_Or_Drug\",\"terminology\":\"ncit\",\"version\":\"25.05d\"},{\"code\":\"R163\",\"name\":\"Procedure_Has_Target_Anatomy\",\"terminology\":\"ncit\",\"version\":\"25.05d\"},{\"code\":\"R165\",\"name\":\"Procedure_Has_Imaged_Anatomy\",\"terminology\":\"ncit\",\"version\":\"25.05d\"},{\"code\":\"R166\",\"name\":\"Procedure_May_Have_Excised_Anatomy\",\"terminology\":\"ncit\",\"version\":\"25.05d\"},{\"code\":\"R167\",\"name\":\"Procedure_Has_Excised_Anatomy\",\"terminology\":\"ncit\",\"version\":\"25.05d\"},{\"code\":\"R168\",\"name\":\"Procedure_May_Have_Partially_Excised_Anatomy\",\"terminology\":\"ncit\",\"version\":\"25.05d\"},{\"code\":\"R169\",\"name\":\"Procedure_Has_Partially_Excised_Anatomy\",\"terminology\":\"ncit\",\"version\":\"25.05d\"},{\"code\":\"R170\",\"name\":\"Procedure_May_Have_Completely_Excised_Anatomy\",\"terminology\":\"ncit\",\"version\":\"25.05d\"},{\"code\":\"R171\",\"name\":\"Procedure_Has_Completely_Excised_Anatomy\",\"terminology\":\"ncit\",\"version\":\"25.05d\"},{\"code\":\"R172\",\"name\":\"Regimen_Has_Accepted_Use_For_Disease\",\"terminology\":\"ncit\",\"version\":\"25.05d\"},{\"code\":\"R173\",\"name\":\"Cytogenetic_Abnormality_Involves_Chromosome\",\"terminology\":\"ncit\",\"version\":\"25.05d\"},{\"code\":\"R174\",\"name\":\"Disease_Mapped_To_Chromosome\",\"terminology\":\"ncit\",\"version\":\"25.05d\"},{\"code\":\"R175\",\"name\":\"Gene_Involved_In_Pathogenesis_Of_Disease\",\"terminology\":\"ncit\",\"version\":\"25.05d\"},{\"code\":\"R176\",\"name\":\"Disease_Mapped_To_Gene\",\"terminology\":\"ncit\",\"version\":\"25.05d\"},{\"code\":\"R177\",\"name\":\"Molecular_Abnormality_Involves_Gene\",\"terminology\":\"ncit\",\"version\":\"25.05d\"},{\"code\":\"R178\",\"name\":\"Gene_Mutant_Encodes_Gene_Product_Sequence_Variation\",\"terminology\":\"ncit\",\"version\":\"25.05d\"},{\"code\":\"R179\",\"name\":\"Gene_Product_Sequence_Variation_Encoded_By_Gene_Mutant\",\"terminology\":\"ncit\",\"version\":\"25.05d\"},{\"code\":\"R182\",\"name\":\"Gene_Product_Variant_Of_Gene_Product\",\"terminology\":\"ncit\",\"version\":\"25.05d\"},{\"code\":\"R23\",\"name\":\"EO_Disease_Has_Associated_Cell_Type\",\"terminology\":\"ncit\",\"version\":\"25.05d\"},{\"code\":\"R24\",\"name\":\"EO_Disease_Maps_To_Human_Disease\",\"terminology\":\"ncit\",\"version\":\"25.05d\"},{\"code\":\"R25\",\"name\":\"EO_Disease_Has_Associated_EO_Anatomy\",\"terminology\":\"ncit\",\"version\":\"25.05d\"},{\"code\":\"R26\",\"name\":\"EO_Disease_Has_Property_Or_Attribute\",\"terminology\":\"ncit\",\"version\":\"25.05d\"},{\"code\":\"R27\",\"name\":\"Conceptual_Part_Of\",\"terminology\":\"ncit\",\"version\":\"25.05d\"},{\"code\":\"R28\",\"name\":\"Biological_Process_Has_Initiator_Process\",\"terminology\":\"ncit\",\"version\":\"25.05d\"},{\"code\":\"R29\",\"name\":\"Biological_Process_Has_Result_Chemical_Or_Drug\",\"terminology\":\"ncit\",\"version\":\"25.05d\"},{\"code\":\"R30\",\"name\":\"Biological_Process_Has_Associated_Location\",\"terminology\":\"ncit\",\"version\":\"25.05d\"},{\"code\":\"R31\",\"name\":\"Biological_Process_Has_Result_Anatomy\",\"terminology\":\"ncit\",\"version\":\"25.05d\"},{\"code\":\"R32\",\"name\":\"Biological_Process_Has_Initiator_Chemical_Or_Drug\",\"terminology\":\"ncit\",\"version\":\"25.05d\"},{\"code\":\"R34\",\"name\":\"Biological_Process_Has_Result_Biological_Process\",\"terminology\":\"ncit\",\"version\":\"25.05d\"},{\"code\":\"R35\",\"name\":\"Biological_Process_Is_Part_Of_Process\",\"terminology\":\"ncit\",\"version\":\"25.05d\"},{\"code\":\"R36\",\"name\":\"Gene_Is_Biomarker_Type\",\"terminology\":\"ncit\",\"version\":\"25.05d\"},{\"code\":\"R38\",\"name\":\"Gene_Associated_With_Disease\",\"terminology\":\"ncit\",\"version\":\"25.05d\"},{\"code\":\"R39\",\"name\":\"Gene_Is_Biomarker_Of\",\"terminology\":\"ncit\",\"version\":\"25.05d\"},{\"code\":\"R41\",\"name\":\"Gene_Found_In_Organism\",\"terminology\":\"ncit\",\"version\":\"25.05d\"},{\"code\":\"R42\",\"name\":\"Gene_Product_Is_Biomarker_Type\",\"terminology\":\"ncit\",\"version\":\"25.05d\"},{\"code\":\"R44\",\"name\":\"Gene_Product_Has_Chemical_Classification\",\"terminology\":\"ncit\",\"version\":\"25.05d\"},{\"code\":\"R45\",\"name\":\"Gene_Product_Has_Organism_Source\",\"terminology\":\"ncit\",\"version\":\"25.05d\"},{\"code\":\"R46\",\"name\":\"Gene_Product_Has_Associated_Anatomy\",\"terminology\":\"ncit\",\"version\":\"25.05d\"},{\"code\":\"R47\",\"name\":\"Gene_Product_Is_Biomarker_Of\",\"terminology\":\"ncit\",\"version\":\"25.05d\"},{\"code\":\"R48\",\"name\":\"Gene_Product_Malfunction_Associated_With_Disease\",\"terminology\":\"ncit\",\"version\":\"25.05d\"},{\"code\":\"R49\",\"name\":\"Gene_Product_Expressed_In_Tissue\",\"terminology\":\"ncit\",\"version\":\"25.05d\"},{\"code\":\"R50\",\"name\":\"Gene_Product_Has_Structural_Domain_Or_Motif\",\"terminology\":\"ncit\",\"version\":\"25.05d\"},{\"code\":\"R51\",\"name\":\"Gene_Product_Is_Physical_Part_Of\",\"terminology\":\"ncit\",\"version\":\"25.05d\"},{\"code\":\"R52\",\"name\":\"Gene_Product_Has_Biochemical_Function\",\"terminology\":\"ncit\",\"version\":\"25.05d\"},{\"code\":\"R53\",\"name\":\"Gene_Product_Plays_Role_In_Biological_Process\",\"terminology\":\"ncit\",\"version\":\"25.05d\"},{\"code\":\"R54\",\"name\":\"Gene_Product_Encoded_By_Gene\",\"terminology\":\"ncit\",\"version\":\"25.05d\"},{\"code\":\"R66\",\"name\":\"Chemical_Or_Drug_Plays_Role_In_Biological_Process\",\"terminology\":\"ncit\",\"version\":\"25.05d\"},{\"code\":\"R72\",\"name\":\"Chemical_Or_Drug_Affects_Cell_Type_Or_Tissue\",\"terminology\":\"ncit\",\"version\":\"25.05d\"},{\"code\":\"R81\",\"name\":\"Anatomic_Structure_Has_Location\",\"terminology\":\"ncit\",\"version\":\"25.05d\"},{\"code\":\"R82\",\"name\":\"Anatomic_Structure_Is_Physical_Part_Of\",\"terminology\":\"ncit\",\"version\":\"25.05d\"},{\"code\":\"R88\",\"name\":\"Disease_Is_Stage\",\"terminology\":\"ncit\",\"version\":\"25.05d\"},{\"code\":\"R89\",\"name\":\"Disease_May_Have_Molecular_Abnormality\",\"terminology\":\"ncit\",\"version\":\"25.05d\"}]"
     ]
    }
   ],
   "source": [
    "!curl \"https://api-evsrest.nci.nih.gov/api/v1/metadata/ncit/roles\"\n",
    "\n"
   ]
  },
  {
   "cell_type": "code",
   "execution_count": 26,
   "id": "4ea0d9f8",
   "metadata": {},
   "outputs": [
    {
     "name": "stdout",
     "output_type": "stream",
     "text": [
      "   code                                  name terminology version\n",
      "0  R100  Disease_Has_Associated_Anatomic_Site        ncit  25.05d\n",
      "1  R101     Disease_Has_Primary_Anatomic_Site        ncit  25.05d\n",
      "2  R102  Disease_Has_Metastatic_Anatomic_Site        ncit  25.05d\n",
      "3  R103      Disease_Has_Normal_Tissue_Origin        ncit  25.05d\n",
      "4  R104        Disease_Has_Normal_Cell_Origin        ncit  25.05d\n"
     ]
    }
   ],
   "source": [
    "import requests\n",
    "import pandas as pd\n",
    "\n",
    "# 获取所有 roles\n",
    "url = \"https://api-evsrest.nci.nih.gov/api/v1/metadata/ncit/roles\"\n",
    "response = requests.get(url)\n",
    "roles = response.json()\n",
    "\n",
    "# 转为表格\n",
    "df = pd.DataFrame(roles)\n",
    "df.to_csv(\"ncit_roles.csv\", index=False)\n",
    "print(df.head())"
   ]
  },
  {
   "cell_type": "code",
   "execution_count": null,
   "id": "ba767989",
   "metadata": {},
   "outputs": [],
   "source": []
  },
  {
   "cell_type": "markdown",
   "id": "ef6dfa92",
   "metadata": {},
   "source": [
    "Overlapping of different strategies"
   ]
  },
  {
   "cell_type": "code",
   "execution_count": null,
   "id": "6dbd2019",
   "metadata": {},
   "outputs": [],
   "source": [
    "import pandas as pd\n",
    "import seaborn as sns\n",
    "import matplotlib.pyplot as plt\n",
    "\n",
    "\n",
    "def compute_overlap_matrix(data_dict):\n",
    "    methods = list(data_dict.keys())\n",
    "    matrix = pd.DataFrame(index=methods, columns=methods)\n",
    "\n",
    "    for m1 in methods:\n",
    "        for m2 in methods:\n",
    "            if m1 == m2:\n",
    "                matrix.loc[m1, m2] = 1.0\n",
    "            else:\n",
    "                intersect = len(data_dict[m1] & data_dict[m2])\n",
    "                union = len(data_dict[m1] | data_dict[m2])\n",
    "                matrix.loc[m1, m2] = round(intersect / union, 3)\n",
    "    return matrix\n",
    "\n",
    "\n",
    "def plot_heatmap(matrix, title):\n",
    "    plt.figure(figsize=(8, 6))\n",
    "    sns.heatmap(matrix.astype(float),\n",
    "                annot=True,\n",
    "                fmt=\".2f\",\n",
    "                cmap=\"Blues\",\n",
    "                linewidths=0.5)\n",
    "    plt.title(title)\n",
    "    plt.tight_layout()\n",
    "    plt.show()\n"
   ]
  },
  {
   "cell_type": "code",
   "execution_count": null,
   "id": "31d30c4e",
   "metadata": {},
   "outputs": [
    {
     "name": "stdout",
     "output_type": "stream",
     "text": [
      "🔹 Top1 Jaccard Overlap Matrix\n",
      "         lm     st   rag1   rag2   rag3\n",
      "lm      1.0  0.884  0.759  0.719  0.754\n",
      "st    0.884    1.0  0.772  0.737  0.781\n",
      "rag1  0.759  0.772    1.0  0.895  0.721\n",
      "rag2  0.719  0.737  0.895    1.0  0.726\n",
      "rag3  0.754  0.781  0.721  0.726    1.0\n",
      "\n",
      "🔹 Top5 Jaccard Overlap Matrix\n",
      "         lm     st   rag1   rag2   rag3\n",
      "lm      1.0  0.899  0.855  0.853  0.822\n",
      "st    0.899    1.0  0.851  0.849  0.836\n",
      "rag1  0.855  0.851    1.0  0.973  0.915\n",
      "rag2  0.853  0.849  0.973    1.0  0.908\n",
      "rag3  0.822  0.836  0.915  0.908    1.0\n"
     ]
    }
   ],
   "source": [
    "files = {\n",
    "    'lm':\n",
    "    'data/outputs/cbio_bodysite/lm_sapbert_result.csv',\n",
    "    'st':\n",
    "    'data/outputs/cbio_bodysite/st_sapbert_result.csv',\n",
    "    'rag1':\n",
    "    'data/outputs/cbio_bodysite/rag_sapbert_result_removed_duplicates.csv',\n",
    "    'rag2':\n",
    "    'data/outputs/cbio_bodysite/rag_sapbert_result_partially_cleaned_contexts.csv',\n",
    "    'rag3':\n",
    "    'data/outputs/cbio_bodysite/rag_pubmed_result_partially_cleaned_contexts.csv',\n",
    "}\n",
    "\n",
    "top1_dict = {}\n",
    "top5_dict = {}\n",
    "\n",
    "for name, path in files.items():\n",
    "    df = pd.read_csv(path)\n",
    "    top1_dict[name] = set(df[df['match_level'] == 1]['original_value'])\n",
    "    top5_dict[name] = set(df[df['match_level'] <= 5]['original_value'])\n",
    "\n",
    "top1_overlap = compute_overlap_matrix(top1_dict)\n",
    "top5_overlap = compute_overlap_matrix(top5_dict)\n",
    "\n",
    "print(\"🔹 Top1 Jaccard Overlap Matrix\")\n",
    "print(top1_overlap)\n",
    "\n",
    "print(\"\\n🔹 Top5 Jaccard Overlap Matrix\")\n",
    "print(top5_overlap)"
   ]
  },
  {
   "cell_type": "code",
   "execution_count": null,
   "id": "f3412186",
   "metadata": {},
   "outputs": [
    {
     "data": {
      "image/png": "[encoded data removed]",
      "text/plain": [
       "<Figure size 800x600 with 2 Axes>"
      ]
     },
     "metadata": {},
     "output_type": "display_data"
    },
    {
     "data": {
      "image/png": "[encoded data removed]",
      "text/plain": [
       "<Figure size 800x600 with 2 Axes>"
      ]
     },
     "metadata": {},
     "output_type": "display_data"
    }
   ],
   "source": [
    "plot_heatmap(top1_overlap, \"Top-1 Jaccard Overlap\")\n",
    "plot_heatmap(top5_overlap, \"Top-5 Jaccard Overlap\")"
   ]
  }
 ],
 "metadata": {
  "kernelspec": {
   "display_name": "py310",
   "language": "python",
   "name": "python3"
  },
  "language_info": {
   "codemirror_mode": {
    "name": "ipython",
    "version": 3
   },
   "file_extension": ".py",
   "mimetype": "text/x-python",
   "name": "python",
   "nbconvert_exporter": "python",
   "pygments_lexer": "ipython3",
   "version": "3.10.18"
  }
 },
 "nbformat": 4,
 "nbformat_minor": 5
}
