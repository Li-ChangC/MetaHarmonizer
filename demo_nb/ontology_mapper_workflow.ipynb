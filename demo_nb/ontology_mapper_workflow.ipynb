{
 "cells": [
  {
   "cell_type": "code",
   "execution_count": 1,
   "id": "012e2ab8",
   "metadata": {},
   "outputs": [
    {
     "name": "stdout",
     "output_type": "stream",
     "text": [
      "/home/lcc/projects/MetaHarmonizer\n"
     ]
    },
    {
     "name": "stderr",
     "output_type": "stream",
     "text": [
      "/home/lcc/miniconda3/envs/demo_env/lib/python3.10/site-packages/IPython/core/magics/osm.py:417: UserWarning: This is now an optional IPython functionality, setting dhist requires you to install the `pickleshare` library.\n",
      "  self.shell.db['dhist'] = compress_dhist(dhist)[-100:]\n"
     ]
    }
   ],
   "source": [
    "# First, change the working directory to the project root.\n",
    "# Example: %cd /home/your_username/MetaHarmonizer\n",
    "\n",
    "%cd /home/lcc/projects/MetaHarmonizer"
   ]
  },
  {
   "cell_type": "code",
   "execution_count": null,
   "id": "82311ad3",
   "metadata": {},
   "outputs": [],
   "source": [
    "# Required files:\n",
    "# data/corpus/oncotree_code_to_name.csv"
   ]
  },
  {
   "cell_type": "code",
   "execution_count": 2,
   "id": "43cf4b56",
   "metadata": {},
   "outputs": [],
   "source": [
    "# This is required to run asyncio code in Jupyter notebooks.\n",
    "# Jupyter already runs its own event loop, so calling asyncio.run() directly would raise an error.\n",
    "# nest_asyncio.apply() patches the loop to allow nested usage.\n",
    "\n",
    "import nest_asyncio\n",
    "\n",
    "nest_asyncio.apply()"
   ]
  },
  {
   "cell_type": "code",
   "execution_count": 3,
   "id": "f5b39b4c",
   "metadata": {},
   "outputs": [
    {
     "data": {
      "text/plain": [
       "<module 'src.models.ontology_mapper_bi_encoder' from '/home/lcc/projects/MetaHarmonizer/src/models/ontology_mapper_bi_encoder.py'>"
      ]
     },
     "execution_count": 3,
     "metadata": {},
     "output_type": "execute_result"
    }
   ],
   "source": [
    "# Import core modules and ontology mapper implementations\n",
    "\n",
    "import pandas as pd\n",
    "from importlib import reload\n",
    "\n",
    "# Import different ontology mapping strategies (ST, LM, RAG, Bi-Encoder)\n",
    "from src.models import ontology_mapper_st as om_st\n",
    "from src.models import ontology_mapper_lm as om_lm\n",
    "from src.models import ontology_mapper_rag as om_rag\n",
    "from src.models import ontology_mapper_bi_encoder as om_bi\n",
    "\n",
    "# Import the engine that handles pipeline logic and integrates the mappers\n",
    "from src.Engine import get_ontology_engine\n",
    "\n",
    "OntoMapEngine = get_ontology_engine()\n",
    "\n",
    "# Reload modules to reflect any code updates during development (useful in Jupyter)\n",
    "reload(om_st)\n",
    "reload(om_lm)\n",
    "reload(om_rag)\n",
    "reload(om_bi)"
   ]
  },
  {
   "cell_type": "code",
   "execution_count": 4,
   "id": "9b3ec51a",
   "metadata": {},
   "outputs": [],
   "source": [
    "# Import the CalcStats class for calculating Top1, Top3, and Top5 accuracy\n",
    "\n",
    "from evaluation.calc_stats import CalcStats\n",
    "\n",
    "calc = CalcStats()"
   ]
  },
  {
   "cell_type": "code",
   "execution_count": null,
   "id": "2266c30e",
   "metadata": {},
   "outputs": [
    {
     "name": "stdout",
     "output_type": "stream",
     "text": [
      "[Success] Table 'st_mt_sap_bert_disease' dropped from src/KnowledgeDb/vector_db.sqlite\n",
      "[Success] Index file 'src/KnowledgeDb/faiss_indexes/st_mt-sap-bert_disease.index' deleted.\n"
     ]
    }
   ],
   "source": [
    "# Optional utility: Clean up the FAISS + SQLite vector store\n",
    "# Useful after testing or re-running experiments to avoid stale data\n",
    "# Not required for standard inference or training runs\n",
    "\n",
    "from src.utils.cleanup_vector_store import cleanup_vector_store\n",
    "\n",
    "cleanup_vector_store(\"st\", \"mt-sap-bert\", \"disease\")  # (strategy, model_name, entity_type)"
   ]
  },
  {
   "cell_type": "markdown",
   "id": "9b337b49",
   "metadata": {},
   "source": [
    "DF"
   ]
  },
  {
   "cell_type": "code",
   "execution_count": 5,
   "id": "fa0ee3e0",
   "metadata": {},
   "outputs": [],
   "source": [
    "df = pd.read_csv(\"data/corpus/cbio_disease/disease_query_updated.csv\")\n",
    "large_corpus = pd.read_csv(\n",
    "    'data/corpus/cbio_disease/disease_corpus_updated.csv')\n",
    "\n",
    "query_list = df['original_value'].tolist()\n",
    "small_corpus_list = df['curated_ontology'].tolist() # Small corpus list is made of curated ontology values in the query file\n",
    "large_corpus_list = (\n",
    "    large_corpus[\"official_label\"].tolist()\n",
    "    if \"official_label\" in large_corpus.columns\n",
    "    else large_corpus[\"label\"].tolist()\n",
    ")\n",
    "\n",
    "cura_map = dict(zip(df['original_value'], df['curated_ontology']))"
   ]
  },
  {
   "cell_type": "code",
   "execution_count": 6,
   "id": "e041f396",
   "metadata": {},
   "outputs": [
    {
     "name": "stdout",
     "output_type": "stream",
     "text": [
      "29/10/2025 03:22:10 AM - INFO - OntoMapEngine: Initialized OntoMap Engine\n",
      "29/10/2025 03:22:10 AM - INFO - OntoMapEngine: Stage 1: Exact matching\n",
      "29/10/2025 03:22:10 AM - INFO - OntoMapEngine: Stage 2: ST\n",
      "29/10/2025 03:22:10 AM - INFO - OntoMapEngine: Stage 3: Disabled\n",
      "29/10/2025 03:22:10 AM - INFO - OntoMapEngine: ==================================================\n",
      "29/10/2025 03:22:10 AM - INFO - OntoMapEngine: Starting Ontology Mapping\n",
      "29/10/2025 03:22:10 AM - INFO - OntoMapEngine: ==================================================\n",
      "29/10/2025 03:22:10 AM - INFO - OntoMapEngine: Stage 1: Exact Matching\n",
      "29/10/2025 03:22:10 AM - INFO - OntoMapEngine: Exact matches: 342\n",
      "29/10/2025 03:22:10 AM - INFO - OntoMapEngine: Remaining for Stage 2: 1213\n",
      "29/10/2025 03:22:10 AM - INFO - OntoMapEngine: Stage 2: ST Matching\n",
      "29/10/2025 03:22:10 AM - INFO - OntoMapEngine: Replacing shortNames using rule-based name mapping\n",
      "29/10/2025 03:22:10 AM - INFO - OntoMapEngine: Replaced: ACC → Adrenocortical Carcinoma\n",
      "29/10/2025 03:22:10 AM - INFO - OntoMapEngine: Replaced: ACYC → Adenoid Cystic Carcinoma\n",
      "29/10/2025 03:22:10 AM - INFO - OntoMapEngine: Replaced: AML → Acute Myeloid Leukemia\n",
      "29/10/2025 03:22:10 AM - INFO - OntoMapEngine: Replaced: ANSC → Anal Squamous Cell Carcinoma\n",
      "29/10/2025 03:22:10 AM - INFO - OntoMapEngine: Replaced: APAD → Appendiceal Adenocarcinoma\n",
      "29/10/2025 03:22:10 AM - INFO - OntoMapEngine: Replaced: ASPS → Alveolar Soft Part Sarcoma\n",
      "29/10/2025 03:22:10 AM - INFO - OntoMapEngine: Replaced: ATRT → Atypical Teratoid/Rhabdoid Tumor\n",
      "29/10/2025 03:22:10 AM - INFO - OntoMapEngine: Replaced: BLCA → Bladder Urothelial Carcinoma\n",
      "29/10/2025 03:22:10 AM - INFO - OntoMapEngine: Replaced: BLL → B-Lymphoblastic Leukemia/Lymphoma\n",
      "29/10/2025 03:22:10 AM - INFO - OntoMapEngine: Replaced: BRCA → Invasive Breast Carcinoma\n",
      "29/10/2025 03:22:10 AM - INFO - OntoMapEngine: Replaced: CCOV → Clear Cell Ovarian Cancer\n",
      "29/10/2025 03:22:10 AM - INFO - OntoMapEngine: Replaced: CCRCC → Renal Clear Cell Carcinoma\n",
      "29/10/2025 03:22:10 AM - INFO - OntoMapEngine: Replaced: CESC → Cervical Squamous Cell Carcinoma\n",
      "29/10/2025 03:22:10 AM - INFO - OntoMapEngine: Replaced: CHOL → Cholangiocarcinoma\n",
      "29/10/2025 03:22:10 AM - INFO - OntoMapEngine: Replaced: CML → Chronic Myelogenous Leukemia\n",
      "29/10/2025 03:22:10 AM - INFO - OntoMapEngine: Replaced: CMML → Chronic Myelomonocytic Leukemia\n",
      "29/10/2025 03:22:10 AM - INFO - OntoMapEngine: Replaced: COAD → Colon Adenocarcinoma\n",
      "29/10/2025 03:22:10 AM - INFO - OntoMapEngine: Replaced: CSCC → Cutaneous Squamous Cell Carcinoma\n",
      "29/10/2025 03:22:10 AM - INFO - OntoMapEngine: Replaced: DIPG → Diffuse Intrinsic Pontine Glioma\n",
      "29/10/2025 03:22:10 AM - INFO - OntoMapEngine: Replaced: EMBT → Embryonal Tumor\n",
      "29/10/2025 03:22:10 AM - INFO - OntoMapEngine: Replaced: EPM → Ependymoma\n",
      "29/10/2025 03:22:10 AM - INFO - OntoMapEngine: Replaced: ES → Ewing Sarcoma\n",
      "29/10/2025 03:22:10 AM - INFO - OntoMapEngine: Replaced: ESCA → Esophageal Adenocarcinoma\n",
      "29/10/2025 03:22:10 AM - INFO - OntoMapEngine: Replaced: FL → Follicular Lymphoma\n",
      "29/10/2025 03:22:10 AM - INFO - OntoMapEngine: Replaced: GB → Glioblastoma\n",
      "29/10/2025 03:22:10 AM - INFO - OntoMapEngine: Replaced: GBC → Gallbladder Cancer\n",
      "29/10/2025 03:22:10 AM - INFO - OntoMapEngine: Replaced: GBM → Glioblastoma Multiforme\n",
      "29/10/2025 03:22:10 AM - INFO - OntoMapEngine: Replaced: GINET → Gastrointestinal Neuroendocrine Tumors\n",
      "29/10/2025 03:22:10 AM - INFO - OntoMapEngine: Replaced: GIST → Gastrointestinal Stromal Tumor\n",
      "29/10/2025 03:22:10 AM - INFO - OntoMapEngine: Replaced: HCC → Hepatocellular Carcinoma\n",
      "29/10/2025 03:22:10 AM - INFO - OntoMapEngine: Replaced: HGGNOS → High-Grade Glioma, NOS\n",
      "29/10/2025 03:22:10 AM - INFO - OntoMapEngine: Replaced: HGSOC → High-Grade Serous Ovarian Cancer\n",
      "29/10/2025 03:22:10 AM - INFO - OntoMapEngine: Replaced: HNSC → Head and Neck Squamous Cell Carcinoma\n",
      "29/10/2025 03:22:10 AM - INFO - OntoMapEngine: Replaced: IDC → Breast Invasive Ductal Carcinoma\n",
      "29/10/2025 03:22:10 AM - INFO - OntoMapEngine: Replaced: LGSOC → Low-Grade Serous Ovarian Cancer\n",
      "29/10/2025 03:22:10 AM - INFO - OntoMapEngine: Replaced: LIHB → Hepatoblastoma\n",
      "29/10/2025 03:22:10 AM - INFO - OntoMapEngine: Replaced: LNET → Lung Neuroendocrine Tumor\n",
      "29/10/2025 03:22:10 AM - INFO - OntoMapEngine: Replaced: LUAD → Lung Adenocarcinoma\n",
      "29/10/2025 03:22:10 AM - INFO - OntoMapEngine: Replaced: LUSC → Lung Squamous Cell Carcinoma\n",
      "29/10/2025 03:22:10 AM - INFO - OntoMapEngine: Replaced: MBL → Medulloblastoma\n",
      "29/10/2025 03:22:10 AM - INFO - OntoMapEngine: Replaced: MDS → Myelodysplastic Syndromes\n",
      "29/10/2025 03:22:10 AM - INFO - OntoMapEngine: Replaced: MGUS → Monoclonal Gammopathy of Undetermined Significance\n",
      "29/10/2025 03:22:10 AM - INFO - OntoMapEngine: Replaced: NBL → Neuroblastoma\n",
      "29/10/2025 03:22:10 AM - INFO - OntoMapEngine: Replaced: NHL → Non-Hodgkin Lymphoma\n",
      "29/10/2025 03:22:10 AM - INFO - OntoMapEngine: Replaced: NSCLC → Non-Small Cell Lung Cancer\n",
      "29/10/2025 03:22:10 AM - INFO - OntoMapEngine: Replaced: OS → Osteosarcoma\n",
      "29/10/2025 03:22:10 AM - INFO - OntoMapEngine: Replaced: PAAD → Pancreatic Adenocarcinoma\n",
      "29/10/2025 03:22:10 AM - INFO - OntoMapEngine: Replaced: PANET → Pancreatic Neuroendocrine Tumor\n",
      "29/10/2025 03:22:10 AM - INFO - OntoMapEngine: Replaced: PAST → Pilocytic Astrocytoma\n",
      "29/10/2025 03:22:10 AM - INFO - OntoMapEngine: Replaced: PLMESO → Pleural Mesothelioma\n",
      "29/10/2025 03:22:10 AM - INFO - OntoMapEngine: Replaced: PNET → Primitive Neuroectodermal Tumor\n",
      "29/10/2025 03:22:10 AM - INFO - OntoMapEngine: Replaced: PRAD → Prostate Adenocarcinoma\n",
      "29/10/2025 03:22:10 AM - INFO - OntoMapEngine: Replaced: RBL → Retinoblastoma\n",
      "29/10/2025 03:22:10 AM - INFO - OntoMapEngine: Replaced: READ → Rectal Adenocarcinoma\n",
      "29/10/2025 03:22:10 AM - INFO - OntoMapEngine: Replaced: RMS → Rhabdomyosarcoma\n",
      "29/10/2025 03:22:10 AM - INFO - OntoMapEngine: Replaced: SCLC → Small Cell Lung Cancer\n",
      "29/10/2025 03:22:10 AM - INFO - OntoMapEngine: Replaced: SKCM → Cutaneous Melanoma\n",
      "29/10/2025 03:22:10 AM - INFO - OntoMapEngine: Replaced: STAD → Stomach Adenocarcinoma\n",
      "29/10/2025 03:22:10 AM - INFO - OntoMapEngine: Replaced: TGCT → Tenosynovial Giant Cell Tumor Diffuse Type\n",
      "29/10/2025 03:22:10 AM - INFO - OntoMapEngine: Replaced: THPA → Papillary Thyroid Cancer\n",
      "29/10/2025 03:22:10 AM - INFO - OntoMapEngine: Replaced: THPD → Poorly Differentiated Thyroid Cancer\n",
      "29/10/2025 03:22:10 AM - INFO - OntoMapEngine: Replaced: THYM → Thymoma\n",
      "29/10/2025 03:22:10 AM - INFO - OntoMapEngine: Replaced: TLL → T-Lymphoblastic Leukemia/Lymphoma\n",
      "29/10/2025 03:22:10 AM - INFO - OntoMapEngine: Replaced: UCS → Uterine Carcinosarcoma/Uterine Malignant Mixed Mullerian Tumor\n",
      "29/10/2025 03:22:10 AM - INFO - OntoMapEngine: Replaced: UM → Uveal Melanoma\n",
      "29/10/2025 03:22:10 AM - INFO - OntoMapEngine: Replaced: WT → Wilms' Tumor\n",
      "29/10/2025 03:22:10 AM - INFO - OntoMapST: Initialized OntoMap Sentence Transformer module\n"
     ]
    },
    {
     "name": "stderr",
     "output_type": "stream",
     "text": [
      "No sentence-transformers model found with name model_cache/mt-sap-bert. Creating a new one with mean pooling.\n",
      "No sentence-transformers model found with name cambridgeltl/SapBERT-from-PubMedBERT-fulltext-mean-token. Creating a new one with mean pooling.\n",
      "/home/lcc/miniconda3/envs/demo_env/lib/python3.10/site-packages/torch/nn/modules/module.py:1762: FutureWarning: `encoder_attention_mask` is deprecated and will be removed in version 4.55.0 for `BertSdpaSelfAttention.forward`.\n",
      "  return forward_call(*args, **kwargs)\n"
     ]
    },
    {
     "name": "stdout",
     "output_type": "stream",
     "text": [
      "29/10/2025 03:22:18 AM - INFO - OntoMapEngine: Stage 2 completed: 1213 queries\n",
      "29/10/2025 03:22:18 AM - INFO - OntoMapEngine: Stage 3: Disabled\n",
      "29/10/2025 03:22:18 AM - INFO - OntoMapEngine: FINAL SUMMARY\n",
      "29/10/2025 03:22:18 AM - INFO - OntoMapEngine: Stage 1 (Exact): 342 queries\n",
      "29/10/2025 03:22:18 AM - INFO - OntoMapEngine: Stage 2 (ST): 1213 queries\n"
     ]
    }
   ],
   "source": [
    "# ST Strategy: use default pooling method. LM Strategy: use CLS token pooling method.\n",
    "# Arguments:\n",
    "# - method\n",
    "# - category\n",
    "# - topk: retrieve the top k matches\n",
    "# - query: list of original values to map\n",
    "# - corpus: list of curated ontology values to match against\n",
    "# - cura_map: dictionary mapping original values to curated ontology values\n",
    "# Returns: DF with original values, curated ontology values, match levels, stage, and top k matches with scores\n",
    "\n",
    "other_params = {\"test_or_prod\": \"test\"}\n",
    "onto_engine_large = OntoMapEngine(method='mt-sap-bert',\n",
    "                                      category='disease',\n",
    "                                      topk=5,\n",
    "                                      query=query_list,\n",
    "                                      corpus=large_corpus_list,\n",
    "                                      cura_map=cura_map,\n",
    "                                      s2_strategy=\"st\",\n",
    "                                      s3_strategy=None,\n",
    "                                      **other_params)\n",
    "st_sapbert_disease_top5_result = onto_engine_large.run()"
   ]
  },
  {
   "cell_type": "code",
   "execution_count": 7,
   "id": "04c328ca",
   "metadata": {},
   "outputs": [
    {
     "name": "stdout",
     "output_type": "stream",
     "text": [
      "  Accuracy Level   Accuracy\n",
      "0    Top 1 Match  75.562701\n",
      "1  Top 3 Matches  84.694534\n",
      "2  Top 5 Matches  87.781350\n"
     ]
    }
   ],
   "source": [
    "# Calculate Top1, Top3, and Top5 accuracy for the generated results\n",
    "\n",
    "st_sapbert_accuracy_df = calc.calc_accuracy(st_sapbert_disease_top5_result)\n",
    "print(st_sapbert_accuracy_df)"
   ]
  },
  {
   "cell_type": "code",
   "execution_count": 8,
   "id": "8c3c744b",
   "metadata": {},
   "outputs": [],
   "source": [
    "# Save the results to a CSV file for further analysis or reporting. Optional.\n",
    "\n",
    "st_sapbert_disease_top5_result.to_csv(\n",
    "    \"data/outputs/2025/large_corpus/1024/st_sapbert_disease_top5_result.csv\",\n",
    "    index=False)"
   ]
  },
  {
   "cell_type": "code",
   "execution_count": null,
   "id": "13abfc6f",
   "metadata": {},
   "outputs": [
    {
     "name": "stdout",
     "output_type": "stream",
     "text": [
      "29/10/2025 03:15:44 AM - INFO - OntoMapEngine: Initialized OntoMap Engine\n",
      "29/10/2025 03:15:44 AM - INFO - OntoMapEngine: Stage 1: Exact matching\n",
      "29/10/2025 03:15:44 AM - INFO - OntoMapEngine: Stage 2: ST\n",
      "29/10/2025 03:15:44 AM - INFO - OntoMapEngine: Stage 3: RAG (threshold=0.9)\n",
      "29/10/2025 03:15:44 AM - INFO - OntoMapEngine: ==================================================\n",
      "29/10/2025 03:15:44 AM - INFO - OntoMapEngine: Starting Ontology Mapping\n",
      "29/10/2025 03:15:44 AM - INFO - OntoMapEngine: ==================================================\n",
      "29/10/2025 03:15:44 AM - INFO - OntoMapEngine: Stage 1: Exact Matching\n",
      "29/10/2025 03:15:44 AM - INFO - OntoMapEngine: Exact matches: 341\n",
      "29/10/2025 03:15:44 AM - INFO - OntoMapEngine: Remaining for Stage 2: 1214\n",
      "29/10/2025 03:15:44 AM - INFO - OntoMapEngine: Stage 2: ST Matching\n",
      "29/10/2025 03:15:44 AM - INFO - OntoMapEngine: Replacing shortNames using rule-based name mapping\n",
      "29/10/2025 03:15:44 AM - INFO - OntoMapEngine: Replaced: ACC → Adrenocortical Carcinoma\n",
      "29/10/2025 03:15:44 AM - INFO - OntoMapEngine: Replaced: ACYC → Adenoid Cystic Carcinoma\n",
      "29/10/2025 03:15:44 AM - INFO - OntoMapEngine: Replaced: AML → Acute Myeloid Leukemia\n",
      "29/10/2025 03:15:44 AM - INFO - OntoMapEngine: Replaced: ANSC → Anal Squamous Cell Carcinoma\n",
      "29/10/2025 03:15:44 AM - INFO - OntoMapEngine: Replaced: APAD → Appendiceal Adenocarcinoma\n",
      "29/10/2025 03:15:44 AM - INFO - OntoMapEngine: Replaced: ASPS → Alveolar Soft Part Sarcoma\n",
      "29/10/2025 03:15:44 AM - INFO - OntoMapEngine: Replaced: ATRT → Atypical Teratoid/Rhabdoid Tumor\n",
      "29/10/2025 03:15:44 AM - INFO - OntoMapEngine: Replaced: BLCA → Bladder Urothelial Carcinoma\n",
      "29/10/2025 03:15:44 AM - INFO - OntoMapEngine: Replaced: BLL → B-Lymphoblastic Leukemia/Lymphoma\n",
      "29/10/2025 03:15:44 AM - INFO - OntoMapEngine: Replaced: BRCA → Invasive Breast Carcinoma\n",
      "29/10/2025 03:15:44 AM - INFO - OntoMapEngine: Replaced: CCOV → Clear Cell Ovarian Cancer\n",
      "29/10/2025 03:15:44 AM - INFO - OntoMapEngine: Replaced: CCRCC → Renal Clear Cell Carcinoma\n",
      "29/10/2025 03:15:44 AM - INFO - OntoMapEngine: Replaced: CESC → Cervical Squamous Cell Carcinoma\n",
      "29/10/2025 03:15:44 AM - INFO - OntoMapEngine: Replaced: CHOL → Cholangiocarcinoma\n",
      "29/10/2025 03:15:44 AM - INFO - OntoMapEngine: Replaced: CML → Chronic Myelogenous Leukemia\n",
      "29/10/2025 03:15:44 AM - INFO - OntoMapEngine: Replaced: CMML → Chronic Myelomonocytic Leukemia\n",
      "29/10/2025 03:15:44 AM - INFO - OntoMapEngine: Replaced: COAD → Colon Adenocarcinoma\n",
      "29/10/2025 03:15:44 AM - INFO - OntoMapEngine: Replaced: CSCC → Cutaneous Squamous Cell Carcinoma\n",
      "29/10/2025 03:15:44 AM - INFO - OntoMapEngine: Replaced: DIPG → Diffuse Intrinsic Pontine Glioma\n",
      "29/10/2025 03:15:44 AM - INFO - OntoMapEngine: Replaced: EMBT → Embryonal Tumor\n",
      "29/10/2025 03:15:44 AM - INFO - OntoMapEngine: Replaced: EPM → Ependymoma\n",
      "29/10/2025 03:15:44 AM - INFO - OntoMapEngine: Replaced: ES → Ewing Sarcoma\n",
      "29/10/2025 03:15:44 AM - INFO - OntoMapEngine: Replaced: ESCA → Esophageal Adenocarcinoma\n",
      "29/10/2025 03:15:44 AM - INFO - OntoMapEngine: Replaced: FL → Follicular Lymphoma\n",
      "29/10/2025 03:15:44 AM - INFO - OntoMapEngine: Replaced: GB → Glioblastoma\n",
      "29/10/2025 03:15:44 AM - INFO - OntoMapEngine: Replaced: GBC → Gallbladder Cancer\n",
      "29/10/2025 03:15:44 AM - INFO - OntoMapEngine: Replaced: GBM → Glioblastoma Multiforme\n",
      "29/10/2025 03:15:44 AM - INFO - OntoMapEngine: Replaced: GINET → Gastrointestinal Neuroendocrine Tumors\n",
      "29/10/2025 03:15:44 AM - INFO - OntoMapEngine: Replaced: GIST → Gastrointestinal Stromal Tumor\n",
      "29/10/2025 03:15:44 AM - INFO - OntoMapEngine: Replaced: HCC → Hepatocellular Carcinoma\n",
      "29/10/2025 03:15:44 AM - INFO - OntoMapEngine: Replaced: HGGNOS → High-Grade Glioma, NOS\n",
      "29/10/2025 03:15:44 AM - INFO - OntoMapEngine: Replaced: HGSOC → High-Grade Serous Ovarian Cancer\n",
      "29/10/2025 03:15:44 AM - INFO - OntoMapEngine: Replaced: HNSC → Head and Neck Squamous Cell Carcinoma\n",
      "29/10/2025 03:15:44 AM - INFO - OntoMapEngine: Replaced: IDC → Breast Invasive Ductal Carcinoma\n",
      "29/10/2025 03:15:44 AM - INFO - OntoMapEngine: Replaced: LGSOC → Low-Grade Serous Ovarian Cancer\n",
      "29/10/2025 03:15:44 AM - INFO - OntoMapEngine: Replaced: LIHB → Hepatoblastoma\n",
      "29/10/2025 03:15:44 AM - INFO - OntoMapEngine: Replaced: LNET → Lung Neuroendocrine Tumor\n",
      "29/10/2025 03:15:44 AM - INFO - OntoMapEngine: Replaced: LUAD → Lung Adenocarcinoma\n",
      "29/10/2025 03:15:44 AM - INFO - OntoMapEngine: Replaced: LUSC → Lung Squamous Cell Carcinoma\n",
      "29/10/2025 03:15:44 AM - INFO - OntoMapEngine: Replaced: MBL → Medulloblastoma\n",
      "29/10/2025 03:15:44 AM - INFO - OntoMapEngine: Replaced: MDS → Myelodysplastic Syndromes\n",
      "29/10/2025 03:15:44 AM - INFO - OntoMapEngine: Replaced: MGUS → Monoclonal Gammopathy of Undetermined Significance\n",
      "29/10/2025 03:15:44 AM - INFO - OntoMapEngine: Replaced: NBL → Neuroblastoma\n",
      "29/10/2025 03:15:45 AM - INFO - OntoMapEngine: Replaced: NHL → Non-Hodgkin Lymphoma\n",
      "29/10/2025 03:15:45 AM - INFO - OntoMapEngine: Replaced: NSCLC → Non-Small Cell Lung Cancer\n",
      "29/10/2025 03:15:45 AM - INFO - OntoMapEngine: Replaced: OS → Osteosarcoma\n",
      "29/10/2025 03:15:45 AM - INFO - OntoMapEngine: Replaced: PAAD → Pancreatic Adenocarcinoma\n",
      "29/10/2025 03:15:45 AM - INFO - OntoMapEngine: Replaced: PANET → Pancreatic Neuroendocrine Tumor\n",
      "29/10/2025 03:15:45 AM - INFO - OntoMapEngine: Replaced: PAST → Pilocytic Astrocytoma\n",
      "29/10/2025 03:15:45 AM - INFO - OntoMapEngine: Replaced: PLMESO → Pleural Mesothelioma\n",
      "29/10/2025 03:15:45 AM - INFO - OntoMapEngine: Replaced: PNET → Primitive Neuroectodermal Tumor\n",
      "29/10/2025 03:15:45 AM - INFO - OntoMapEngine: Replaced: PRAD → Prostate Adenocarcinoma\n",
      "29/10/2025 03:15:45 AM - INFO - OntoMapEngine: Replaced: RBL → Retinoblastoma\n",
      "29/10/2025 03:15:45 AM - INFO - OntoMapEngine: Replaced: READ → Rectal Adenocarcinoma\n",
      "29/10/2025 03:15:45 AM - INFO - OntoMapEngine: Replaced: RMS → Rhabdomyosarcoma\n",
      "29/10/2025 03:15:45 AM - INFO - OntoMapEngine: Replaced: SCLC → Small Cell Lung Cancer\n",
      "29/10/2025 03:15:45 AM - INFO - OntoMapEngine: Replaced: SKCM → Cutaneous Melanoma\n",
      "29/10/2025 03:15:45 AM - INFO - OntoMapEngine: Replaced: STAD → Stomach Adenocarcinoma\n",
      "29/10/2025 03:15:45 AM - INFO - OntoMapEngine: Replaced: TGCT → Tenosynovial Giant Cell Tumor Diffuse Type\n",
      "29/10/2025 03:15:45 AM - INFO - OntoMapEngine: Replaced: THPA → Papillary Thyroid Cancer\n",
      "29/10/2025 03:15:45 AM - INFO - OntoMapEngine: Replaced: THPD → Poorly Differentiated Thyroid Cancer\n",
      "29/10/2025 03:15:45 AM - INFO - OntoMapEngine: Replaced: THYM → Thymoma\n",
      "29/10/2025 03:15:45 AM - INFO - OntoMapEngine: Replaced: TLL → T-Lymphoblastic Leukemia/Lymphoma\n",
      "29/10/2025 03:15:45 AM - INFO - OntoMapEngine: Replaced: UCS → Uterine Carcinosarcoma/Uterine Malignant Mixed Mullerian Tumor\n",
      "29/10/2025 03:15:45 AM - INFO - OntoMapEngine: Replaced: UM → Uveal Melanoma\n",
      "29/10/2025 03:15:45 AM - INFO - OntoMapEngine: Replaced: WT → Wilms' Tumor\n",
      "29/10/2025 03:15:45 AM - INFO - OntoMapST: Initialized OntoMap Sentence Transformer module\n"
     ]
    },
    {
     "name": "stderr",
     "output_type": "stream",
     "text": [
      "/home/lcc/miniconda3/envs/demo_env/lib/python3.10/site-packages/torch/nn/modules/module.py:1762: FutureWarning: `encoder_attention_mask` is deprecated and will be removed in version 4.55.0 for `BertSdpaSelfAttention.forward`.\n",
      "  return forward_call(*args, **kwargs)\n"
     ]
    },
    {
     "name": "stdout",
     "output_type": "stream",
     "text": [
      "29/10/2025 03:15:49 AM - INFO - OntoMapEngine: Stage 2 completed: 1214 queries\n",
      "29/10/2025 03:15:49 AM - INFO - OntoMapEngine: Stage 3: RAG Matching\n",
      "29/10/2025 03:15:49 AM - INFO - OntoMapEngine: S2 result columns: ['original_value', 'updated_value', 'curated_ontology', 'match_level', 'top1_match', 'top1_score', 'top2_match', 'top2_score', 'top3_match', 'top3_score', 'top4_match', 'top4_score', 'top5_match', 'top5_score', 'stage']\n",
      "29/10/2025 03:15:49 AM - INFO - OntoMapEngine: S2 result top1_score dtype: object\n",
      "29/10/2025 03:15:49 AM - INFO - OntoMapEngine: S2 result top1_score unique values (first 10): ['0.9152' '0.9438' '0.8933' '0.9847' '0.9639' '0.9459' '0.9902' '0.9771'\n",
      " '0.9838' '0.9519']\n",
      "29/10/2025 03:15:49 AM - INFO - OntoMapEngine: Queries with top1_score < 0.9: 65\n",
      "29/10/2025 03:15:49 AM - INFO - OntoMapRAG: Initialized OntoMapRAG module\n",
      "29/10/2025 03:15:49 AM - INFO - OntoMapRAG: Generating results table\n"
     ]
    },
    {
     "name": "stderr",
     "output_type": "stream",
     "text": [
      "Processing queries:   0%|          | 0/65 [00:00<?, ?it/s]"
     ]
    },
    {
     "name": "stdout",
     "output_type": "stream",
     "text": [
      "29/10/2025 03:15:50 AM - INFO - FAISSSQLiteSearch: All corpus terms already processed.\n",
      "29/10/2025 03:15:50 AM - INFO - OntoMapRAG: True - Vector store initialized for method=pubmed-bert, category=disease, om_strategy=rag\n"
     ]
    },
    {
     "data": {
      "application/vnd.jupyter.widget-view+json": {
       "model_id": "f70cb8ac8c5d4c4f858345ba6475ab56",
       "version_major": 2,
       "version_minor": 0
      },
      "text/plain": [
       "Batches:   0%|          | 0/1 [00:00<?, ?it/s]"
      ]
     },
     "metadata": {},
     "output_type": "display_data"
    },
    {
     "name": "stderr",
     "output_type": "stream",
     "text": [
      "/home/lcc/miniconda3/envs/demo_env/lib/python3.10/site-packages/torch/nn/modules/module.py:1762: FutureWarning: `encoder_attention_mask` is deprecated and will be removed in version 4.55.0 for `BertSdpaSelfAttention.forward`.\n",
      "  return forward_call(*args, **kwargs)\n",
      "Processing queries:   2%|▏         | 1/65 [00:00<00:44,  1.43it/s]"
     ]
    },
    {
     "data": {
      "application/vnd.jupyter.widget-view+json": {
       "model_id": "bb726dbb68684f3ba26f7caa24117806",
       "version_major": 2,
       "version_minor": 0
      },
      "text/plain": [
       "Batches:   0%|          | 0/1 [00:00<?, ?it/s]"
      ]
     },
     "metadata": {},
     "output_type": "display_data"
    },
    {
     "data": {
      "application/vnd.jupyter.widget-view+json": {
       "model_id": "3b9fd6cc4f404d92a076a7670051ba00",
       "version_major": 2,
       "version_minor": 0
      },
      "text/plain": [
       "Batches:   0%|          | 0/1 [00:00<?, ?it/s]"
      ]
     },
     "metadata": {},
     "output_type": "display_data"
    },
    {
     "data": {
      "application/vnd.jupyter.widget-view+json": {
       "model_id": "6e2e34544a64497f97e7f9fa9c129511",
       "version_major": 2,
       "version_minor": 0
      },
      "text/plain": [
       "Batches:   0%|          | 0/1 [00:00<?, ?it/s]"
      ]
     },
     "metadata": {},
     "output_type": "display_data"
    },
    {
     "data": {
      "application/vnd.jupyter.widget-view+json": {
       "model_id": "e576f8bbed7940fea2e3ae223c21b6a9",
       "version_major": 2,
       "version_minor": 0
      },
      "text/plain": [
       "Batches:   0%|          | 0/1 [00:00<?, ?it/s]"
      ]
     },
     "metadata": {},
     "output_type": "display_data"
    },
    {
     "name": "stderr",
     "output_type": "stream",
     "text": [
      "Processing queries:   8%|▊         | 5/65 [00:00<00:07,  7.88it/s]"
     ]
    },
    {
     "data": {
      "application/vnd.jupyter.widget-view+json": {
       "model_id": "895cf3965ec04ec4b7401aa8528df101",
       "version_major": 2,
       "version_minor": 0
      },
      "text/plain": [
       "Batches:   0%|          | 0/1 [00:00<?, ?it/s]"
      ]
     },
     "metadata": {},
     "output_type": "display_data"
    },
    {
     "data": {
      "application/vnd.jupyter.widget-view+json": {
       "model_id": "630a84b9536947c7a62535565e18df1c",
       "version_major": 2,
       "version_minor": 0
      },
      "text/plain": [
       "Batches:   0%|          | 0/1 [00:00<?, ?it/s]"
      ]
     },
     "metadata": {},
     "output_type": "display_data"
    },
    {
     "data": {
      "application/vnd.jupyter.widget-view+json": {
       "model_id": "a090263d5c324f99a24db37f53fd8074",
       "version_major": 2,
       "version_minor": 0
      },
      "text/plain": [
       "Batches:   0%|          | 0/1 [00:00<?, ?it/s]"
      ]
     },
     "metadata": {},
     "output_type": "display_data"
    },
    {
     "data": {
      "application/vnd.jupyter.widget-view+json": {
       "model_id": "dc031eedd0594318b88dbbed9ef5c43d",
       "version_major": 2,
       "version_minor": 0
      },
      "text/plain": [
       "Batches:   0%|          | 0/1 [00:00<?, ?it/s]"
      ]
     },
     "metadata": {},
     "output_type": "display_data"
    },
    {
     "name": "stderr",
     "output_type": "stream",
     "text": [
      "Processing queries:  14%|█▍        | 9/65 [00:00<00:04, 13.73it/s]"
     ]
    },
    {
     "data": {
      "application/vnd.jupyter.widget-view+json": {
       "model_id": "773d3b753231456384200d64540180f2",
       "version_major": 2,
       "version_minor": 0
      },
      "text/plain": [
       "Batches:   0%|          | 0/1 [00:00<?, ?it/s]"
      ]
     },
     "metadata": {},
     "output_type": "display_data"
    },
    {
     "data": {
      "application/vnd.jupyter.widget-view+json": {
       "model_id": "7ace4bf5bfb4499687e166ee4f5967c7",
       "version_major": 2,
       "version_minor": 0
      },
      "text/plain": [
       "Batches:   0%|          | 0/1 [00:00<?, ?it/s]"
      ]
     },
     "metadata": {},
     "output_type": "display_data"
    },
    {
     "data": {
      "application/vnd.jupyter.widget-view+json": {
       "model_id": "ef0f20644269422488bfc2dc3e386177",
       "version_major": 2,
       "version_minor": 0
      },
      "text/plain": [
       "Batches:   0%|          | 0/1 [00:00<?, ?it/s]"
      ]
     },
     "metadata": {},
     "output_type": "display_data"
    },
    {
     "name": "stderr",
     "output_type": "stream",
     "text": [
      "Processing queries:  18%|█▊        | 12/65 [00:01<00:03, 17.10it/s]"
     ]
    },
    {
     "data": {
      "application/vnd.jupyter.widget-view+json": {
       "model_id": "64edd71edcf24715b49712a575eb62c4",
       "version_major": 2,
       "version_minor": 0
      },
      "text/plain": [
       "Batches:   0%|          | 0/1 [00:00<?, ?it/s]"
      ]
     },
     "metadata": {},
     "output_type": "display_data"
    },
    {
     "data": {
      "application/vnd.jupyter.widget-view+json": {
       "model_id": "1ca80eb8ba524c54b10be2d35a85d998",
       "version_major": 2,
       "version_minor": 0
      },
      "text/plain": [
       "Batches:   0%|          | 0/1 [00:00<?, ?it/s]"
      ]
     },
     "metadata": {},
     "output_type": "display_data"
    },
    {
     "data": {
      "application/vnd.jupyter.widget-view+json": {
       "model_id": "ad6a57c6f66e4f8cbba77b0372f34ebb",
       "version_major": 2,
       "version_minor": 0
      },
      "text/plain": [
       "Batches:   0%|          | 0/1 [00:00<?, ?it/s]"
      ]
     },
     "metadata": {},
     "output_type": "display_data"
    },
    {
     "name": "stderr",
     "output_type": "stream",
     "text": [
      "Processing queries:  23%|██▎       | 15/65 [00:01<00:02, 19.97it/s]"
     ]
    },
    {
     "data": {
      "application/vnd.jupyter.widget-view+json": {
       "model_id": "feefb1b356644c318786f12c2482fa73",
       "version_major": 2,
       "version_minor": 0
      },
      "text/plain": [
       "Batches:   0%|          | 0/1 [00:00<?, ?it/s]"
      ]
     },
     "metadata": {},
     "output_type": "display_data"
    },
    {
     "data": {
      "application/vnd.jupyter.widget-view+json": {
       "model_id": "2406eb7413a44d96a1b4b185389bf8a4",
       "version_major": 2,
       "version_minor": 0
      },
      "text/plain": [
       "Batches:   0%|          | 0/1 [00:00<?, ?it/s]"
      ]
     },
     "metadata": {},
     "output_type": "display_data"
    },
    {
     "data": {
      "application/vnd.jupyter.widget-view+json": {
       "model_id": "dbfa7e37b4ec4cf9ac62a17c1ab8e3a2",
       "version_major": 2,
       "version_minor": 0
      },
      "text/plain": [
       "Batches:   0%|          | 0/1 [00:00<?, ?it/s]"
      ]
     },
     "metadata": {},
     "output_type": "display_data"
    },
    {
     "data": {
      "application/vnd.jupyter.widget-view+json": {
       "model_id": "ba6535e256c241518708cc9857efd097",
       "version_major": 2,
       "version_minor": 0
      },
      "text/plain": [
       "Batches:   0%|          | 0/1 [00:00<?, ?it/s]"
      ]
     },
     "metadata": {},
     "output_type": "display_data"
    },
    {
     "name": "stderr",
     "output_type": "stream",
     "text": [
      "Processing queries:  29%|██▉       | 19/65 [00:01<00:01, 23.93it/s]"
     ]
    },
    {
     "data": {
      "application/vnd.jupyter.widget-view+json": {
       "model_id": "160456a78b284581ad8cde9aeb8fd27b",
       "version_major": 2,
       "version_minor": 0
      },
      "text/plain": [
       "Batches:   0%|          | 0/1 [00:00<?, ?it/s]"
      ]
     },
     "metadata": {},
     "output_type": "display_data"
    },
    {
     "data": {
      "application/vnd.jupyter.widget-view+json": {
       "model_id": "3ec2b254e086439c9d7377abb20a789c",
       "version_major": 2,
       "version_minor": 0
      },
      "text/plain": [
       "Batches:   0%|          | 0/1 [00:00<?, ?it/s]"
      ]
     },
     "metadata": {},
     "output_type": "display_data"
    },
    {
     "data": {
      "application/vnd.jupyter.widget-view+json": {
       "model_id": "9666607966f041d59e2193b87be463b3",
       "version_major": 2,
       "version_minor": 0
      },
      "text/plain": [
       "Batches:   0%|          | 0/1 [00:00<?, ?it/s]"
      ]
     },
     "metadata": {},
     "output_type": "display_data"
    },
    {
     "data": {
      "application/vnd.jupyter.widget-view+json": {
       "model_id": "b1d641d227244c1c940c5001b7307545",
       "version_major": 2,
       "version_minor": 0
      },
      "text/plain": [
       "Batches:   0%|          | 0/1 [00:00<?, ?it/s]"
      ]
     },
     "metadata": {},
     "output_type": "display_data"
    },
    {
     "name": "stderr",
     "output_type": "stream",
     "text": [
      "Processing queries:  35%|███▌      | 23/65 [00:01<00:01, 26.22it/s]"
     ]
    },
    {
     "data": {
      "application/vnd.jupyter.widget-view+json": {
       "model_id": "7bdefe9cf32f4e2791381c580ef5904f",
       "version_major": 2,
       "version_minor": 0
      },
      "text/plain": [
       "Batches:   0%|          | 0/1 [00:00<?, ?it/s]"
      ]
     },
     "metadata": {},
     "output_type": "display_data"
    },
    {
     "data": {
      "application/vnd.jupyter.widget-view+json": {
       "model_id": "03bf0f4326c9483093f32d803cf1c490",
       "version_major": 2,
       "version_minor": 0
      },
      "text/plain": [
       "Batches:   0%|          | 0/1 [00:00<?, ?it/s]"
      ]
     },
     "metadata": {},
     "output_type": "display_data"
    },
    {
     "data": {
      "application/vnd.jupyter.widget-view+json": {
       "model_id": "6b95b5d762a54558aaa98cf79bddadae",
       "version_major": 2,
       "version_minor": 0
      },
      "text/plain": [
       "Batches:   0%|          | 0/1 [00:00<?, ?it/s]"
      ]
     },
     "metadata": {},
     "output_type": "display_data"
    },
    {
     "data": {
      "application/vnd.jupyter.widget-view+json": {
       "model_id": "ba015168d2334759ad39a37a1cf0fde1",
       "version_major": 2,
       "version_minor": 0
      },
      "text/plain": [
       "Batches:   0%|          | 0/1 [00:00<?, ?it/s]"
      ]
     },
     "metadata": {},
     "output_type": "display_data"
    },
    {
     "name": "stderr",
     "output_type": "stream",
     "text": [
      "Processing queries:  42%|████▏     | 27/65 [00:01<00:01, 28.38it/s]"
     ]
    },
    {
     "data": {
      "application/vnd.jupyter.widget-view+json": {
       "model_id": "2242bb9dab54423d9f6da00b59dd09ed",
       "version_major": 2,
       "version_minor": 0
      },
      "text/plain": [
       "Batches:   0%|          | 0/1 [00:00<?, ?it/s]"
      ]
     },
     "metadata": {},
     "output_type": "display_data"
    },
    {
     "data": {
      "application/vnd.jupyter.widget-view+json": {
       "model_id": "cc4b9b84eff54d899d3d1eaa4a60f5e0",
       "version_major": 2,
       "version_minor": 0
      },
      "text/plain": [
       "Batches:   0%|          | 0/1 [00:00<?, ?it/s]"
      ]
     },
     "metadata": {},
     "output_type": "display_data"
    },
    {
     "data": {
      "application/vnd.jupyter.widget-view+json": {
       "model_id": "24f9a94361ba412580f8aef2f74b5d1b",
       "version_major": 2,
       "version_minor": 0
      },
      "text/plain": [
       "Batches:   0%|          | 0/1 [00:00<?, ?it/s]"
      ]
     },
     "metadata": {},
     "output_type": "display_data"
    },
    {
     "data": {
      "application/vnd.jupyter.widget-view+json": {
       "model_id": "69382e50318446c0805f7460c28f956f",
       "version_major": 2,
       "version_minor": 0
      },
      "text/plain": [
       "Batches:   0%|          | 0/1 [00:00<?, ?it/s]"
      ]
     },
     "metadata": {},
     "output_type": "display_data"
    },
    {
     "name": "stderr",
     "output_type": "stream",
     "text": [
      "Processing queries:  48%|████▊     | 31/65 [00:01<00:01, 29.12it/s]"
     ]
    },
    {
     "data": {
      "application/vnd.jupyter.widget-view+json": {
       "model_id": "a204f9aa9e90473cb84fec4ff6125415",
       "version_major": 2,
       "version_minor": 0
      },
      "text/plain": [
       "Batches:   0%|          | 0/1 [00:00<?, ?it/s]"
      ]
     },
     "metadata": {},
     "output_type": "display_data"
    },
    {
     "data": {
      "application/vnd.jupyter.widget-view+json": {
       "model_id": "b38b41a2a8c14337b678781dfe736cc2",
       "version_major": 2,
       "version_minor": 0
      },
      "text/plain": [
       "Batches:   0%|          | 0/1 [00:00<?, ?it/s]"
      ]
     },
     "metadata": {},
     "output_type": "display_data"
    },
    {
     "data": {
      "application/vnd.jupyter.widget-view+json": {
       "model_id": "c97ca9c5207c430da2429708fe40527f",
       "version_major": 2,
       "version_minor": 0
      },
      "text/plain": [
       "Batches:   0%|          | 0/1 [00:00<?, ?it/s]"
      ]
     },
     "metadata": {},
     "output_type": "display_data"
    },
    {
     "data": {
      "application/vnd.jupyter.widget-view+json": {
       "model_id": "32ee579010ff49109d75b3f061b63269",
       "version_major": 2,
       "version_minor": 0
      },
      "text/plain": [
       "Batches:   0%|          | 0/1 [00:00<?, ?it/s]"
      ]
     },
     "metadata": {},
     "output_type": "display_data"
    },
    {
     "name": "stderr",
     "output_type": "stream",
     "text": [
      "Processing queries:  54%|█████▍    | 35/65 [00:01<00:00, 30.96it/s]"
     ]
    },
    {
     "data": {
      "application/vnd.jupyter.widget-view+json": {
       "model_id": "b20ce4ba18724eda804022aee830b4ac",
       "version_major": 2,
       "version_minor": 0
      },
      "text/plain": [
       "Batches:   0%|          | 0/1 [00:00<?, ?it/s]"
      ]
     },
     "metadata": {},
     "output_type": "display_data"
    },
    {
     "data": {
      "application/vnd.jupyter.widget-view+json": {
       "model_id": "28c17d8d74064892b42f7ae4b6cc3df6",
       "version_major": 2,
       "version_minor": 0
      },
      "text/plain": [
       "Batches:   0%|          | 0/1 [00:00<?, ?it/s]"
      ]
     },
     "metadata": {},
     "output_type": "display_data"
    },
    {
     "data": {
      "application/vnd.jupyter.widget-view+json": {
       "model_id": "2a96c44dd23344f2af5a7eaacdbf7388",
       "version_major": 2,
       "version_minor": 0
      },
      "text/plain": [
       "Batches:   0%|          | 0/1 [00:00<?, ?it/s]"
      ]
     },
     "metadata": {},
     "output_type": "display_data"
    },
    {
     "data": {
      "application/vnd.jupyter.widget-view+json": {
       "model_id": "23e284b55446419282784f05e1f82fa8",
       "version_major": 2,
       "version_minor": 0
      },
      "text/plain": [
       "Batches:   0%|          | 0/1 [00:00<?, ?it/s]"
      ]
     },
     "metadata": {},
     "output_type": "display_data"
    },
    {
     "name": "stderr",
     "output_type": "stream",
     "text": [
      "Processing queries:  60%|██████    | 39/65 [00:01<00:00, 30.92it/s]"
     ]
    },
    {
     "data": {
      "application/vnd.jupyter.widget-view+json": {
       "model_id": "4df6ac8cf7ac43d0afb273aa89e17ab7",
       "version_major": 2,
       "version_minor": 0
      },
      "text/plain": [
       "Batches:   0%|          | 0/1 [00:00<?, ?it/s]"
      ]
     },
     "metadata": {},
     "output_type": "display_data"
    },
    {
     "data": {
      "application/vnd.jupyter.widget-view+json": {
       "model_id": "10d2e407525348e89e150daae60bfd35",
       "version_major": 2,
       "version_minor": 0
      },
      "text/plain": [
       "Batches:   0%|          | 0/1 [00:00<?, ?it/s]"
      ]
     },
     "metadata": {},
     "output_type": "display_data"
    },
    {
     "data": {
      "application/vnd.jupyter.widget-view+json": {
       "model_id": "57ddc696b21e4a18aef097ede23a2e67",
       "version_major": 2,
       "version_minor": 0
      },
      "text/plain": [
       "Batches:   0%|          | 0/1 [00:00<?, ?it/s]"
      ]
     },
     "metadata": {},
     "output_type": "display_data"
    },
    {
     "data": {
      "application/vnd.jupyter.widget-view+json": {
       "model_id": "38baad85c6f44b9c9f32902ec4c90710",
       "version_major": 2,
       "version_minor": 0
      },
      "text/plain": [
       "Batches:   0%|          | 0/1 [00:00<?, ?it/s]"
      ]
     },
     "metadata": {},
     "output_type": "display_data"
    },
    {
     "name": "stderr",
     "output_type": "stream",
     "text": [
      "Processing queries:  66%|██████▌   | 43/65 [00:01<00:00, 31.13it/s]"
     ]
    },
    {
     "data": {
      "application/vnd.jupyter.widget-view+json": {
       "model_id": "cb5a8ea04c294899a5078c0e11bbad14",
       "version_major": 2,
       "version_minor": 0
      },
      "text/plain": [
       "Batches:   0%|          | 0/1 [00:00<?, ?it/s]"
      ]
     },
     "metadata": {},
     "output_type": "display_data"
    },
    {
     "data": {
      "application/vnd.jupyter.widget-view+json": {
       "model_id": "62cd034f47504b89bd348ccdbce7838c",
       "version_major": 2,
       "version_minor": 0
      },
      "text/plain": [
       "Batches:   0%|          | 0/1 [00:00<?, ?it/s]"
      ]
     },
     "metadata": {},
     "output_type": "display_data"
    },
    {
     "data": {
      "application/vnd.jupyter.widget-view+json": {
       "model_id": "0b343e41ba884448b727b22c945b5fb2",
       "version_major": 2,
       "version_minor": 0
      },
      "text/plain": [
       "Batches:   0%|          | 0/1 [00:00<?, ?it/s]"
      ]
     },
     "metadata": {},
     "output_type": "display_data"
    },
    {
     "data": {
      "application/vnd.jupyter.widget-view+json": {
       "model_id": "dda4f7c1bdbd4fa8b26a5b893aabfc9f",
       "version_major": 2,
       "version_minor": 0
      },
      "text/plain": [
       "Batches:   0%|          | 0/1 [00:00<?, ?it/s]"
      ]
     },
     "metadata": {},
     "output_type": "display_data"
    },
    {
     "name": "stderr",
     "output_type": "stream",
     "text": [
      "Processing queries:  72%|███████▏  | 47/65 [00:02<00:00, 31.97it/s]"
     ]
    },
    {
     "data": {
      "application/vnd.jupyter.widget-view+json": {
       "model_id": "a08a4b4a8b04482082076530fa106655",
       "version_major": 2,
       "version_minor": 0
      },
      "text/plain": [
       "Batches:   0%|          | 0/1 [00:00<?, ?it/s]"
      ]
     },
     "metadata": {},
     "output_type": "display_data"
    },
    {
     "data": {
      "application/vnd.jupyter.widget-view+json": {
       "model_id": "5d1b9aedd10e4cf68de6df6d1c493a6c",
       "version_major": 2,
       "version_minor": 0
      },
      "text/plain": [
       "Batches:   0%|          | 0/1 [00:00<?, ?it/s]"
      ]
     },
     "metadata": {},
     "output_type": "display_data"
    },
    {
     "data": {
      "application/vnd.jupyter.widget-view+json": {
       "model_id": "963e0aef910d48f9acf52779f8efa82b",
       "version_major": 2,
       "version_minor": 0
      },
      "text/plain": [
       "Batches:   0%|          | 0/1 [00:00<?, ?it/s]"
      ]
     },
     "metadata": {},
     "output_type": "display_data"
    },
    {
     "data": {
      "application/vnd.jupyter.widget-view+json": {
       "model_id": "859661cd45f842e7a2fe0e3bd171275c",
       "version_major": 2,
       "version_minor": 0
      },
      "text/plain": [
       "Batches:   0%|          | 0/1 [00:00<?, ?it/s]"
      ]
     },
     "metadata": {},
     "output_type": "display_data"
    },
    {
     "name": "stderr",
     "output_type": "stream",
     "text": [
      "Processing queries:  78%|███████▊  | 51/65 [00:02<00:00, 30.66it/s]"
     ]
    },
    {
     "data": {
      "application/vnd.jupyter.widget-view+json": {
       "model_id": "5d4b9c301d9a436bbe7422bad2e939c7",
       "version_major": 2,
       "version_minor": 0
      },
      "text/plain": [
       "Batches:   0%|          | 0/1 [00:00<?, ?it/s]"
      ]
     },
     "metadata": {},
     "output_type": "display_data"
    },
    {
     "data": {
      "application/vnd.jupyter.widget-view+json": {
       "model_id": "36fbfab302264a56be206ff0550dae9c",
       "version_major": 2,
       "version_minor": 0
      },
      "text/plain": [
       "Batches:   0%|          | 0/1 [00:00<?, ?it/s]"
      ]
     },
     "metadata": {},
     "output_type": "display_data"
    },
    {
     "data": {
      "application/vnd.jupyter.widget-view+json": {
       "model_id": "a748e9b062a14b7995537a2f42aadd97",
       "version_major": 2,
       "version_minor": 0
      },
      "text/plain": [
       "Batches:   0%|          | 0/1 [00:00<?, ?it/s]"
      ]
     },
     "metadata": {},
     "output_type": "display_data"
    },
    {
     "data": {
      "application/vnd.jupyter.widget-view+json": {
       "model_id": "4dc61054babe452aa5d4527546272e55",
       "version_major": 2,
       "version_minor": 0
      },
      "text/plain": [
       "Batches:   0%|          | 0/1 [00:00<?, ?it/s]"
      ]
     },
     "metadata": {},
     "output_type": "display_data"
    },
    {
     "name": "stderr",
     "output_type": "stream",
     "text": [
      "Processing queries:  85%|████████▍ | 55/65 [00:02<00:00, 31.24it/s]"
     ]
    },
    {
     "data": {
      "application/vnd.jupyter.widget-view+json": {
       "model_id": "742fa136d4244f84b77ebdd4304701ad",
       "version_major": 2,
       "version_minor": 0
      },
      "text/plain": [
       "Batches:   0%|          | 0/1 [00:00<?, ?it/s]"
      ]
     },
     "metadata": {},
     "output_type": "display_data"
    },
    {
     "data": {
      "application/vnd.jupyter.widget-view+json": {
       "model_id": "e0318d47aad045e0bb037b959609aea9",
       "version_major": 2,
       "version_minor": 0
      },
      "text/plain": [
       "Batches:   0%|          | 0/1 [00:00<?, ?it/s]"
      ]
     },
     "metadata": {},
     "output_type": "display_data"
    },
    {
     "data": {
      "application/vnd.jupyter.widget-view+json": {
       "model_id": "7ed90248d3134e85aab8758fab6775e2",
       "version_major": 2,
       "version_minor": 0
      },
      "text/plain": [
       "Batches:   0%|          | 0/1 [00:00<?, ?it/s]"
      ]
     },
     "metadata": {},
     "output_type": "display_data"
    },
    {
     "data": {
      "application/vnd.jupyter.widget-view+json": {
       "model_id": "3e6650cdc317492ab26791acebf07e81",
       "version_major": 2,
       "version_minor": 0
      },
      "text/plain": [
       "Batches:   0%|          | 0/1 [00:00<?, ?it/s]"
      ]
     },
     "metadata": {},
     "output_type": "display_data"
    },
    {
     "name": "stderr",
     "output_type": "stream",
     "text": [
      "Processing queries:  91%|█████████ | 59/65 [00:02<00:00, 32.13it/s]"
     ]
    },
    {
     "data": {
      "application/vnd.jupyter.widget-view+json": {
       "model_id": "4cede98dc5764912830ea63c8d09b5de",
       "version_major": 2,
       "version_minor": 0
      },
      "text/plain": [
       "Batches:   0%|          | 0/1 [00:00<?, ?it/s]"
      ]
     },
     "metadata": {},
     "output_type": "display_data"
    },
    {
     "data": {
      "application/vnd.jupyter.widget-view+json": {
       "model_id": "b08409d7a1084750b7f955219810d07d",
       "version_major": 2,
       "version_minor": 0
      },
      "text/plain": [
       "Batches:   0%|          | 0/1 [00:00<?, ?it/s]"
      ]
     },
     "metadata": {},
     "output_type": "display_data"
    },
    {
     "data": {
      "application/vnd.jupyter.widget-view+json": {
       "model_id": "f569dde0be974c92b0293b0ccf0b5039",
       "version_major": 2,
       "version_minor": 0
      },
      "text/plain": [
       "Batches:   0%|          | 0/1 [00:00<?, ?it/s]"
      ]
     },
     "metadata": {},
     "output_type": "display_data"
    },
    {
     "data": {
      "application/vnd.jupyter.widget-view+json": {
       "model_id": "38b8bb8ffa734c1c9e81367c8ca9b308",
       "version_major": 2,
       "version_minor": 0
      },
      "text/plain": [
       "Batches:   0%|          | 0/1 [00:00<?, ?it/s]"
      ]
     },
     "metadata": {},
     "output_type": "display_data"
    },
    {
     "name": "stderr",
     "output_type": "stream",
     "text": [
      "Processing queries:  97%|█████████▋| 63/65 [00:02<00:00, 31.15it/s]"
     ]
    },
    {
     "data": {
      "application/vnd.jupyter.widget-view+json": {
       "model_id": "7c259d24a339452fb796ab4be68c190d",
       "version_major": 2,
       "version_minor": 0
      },
      "text/plain": [
       "Batches:   0%|          | 0/1 [00:00<?, ?it/s]"
      ]
     },
     "metadata": {},
     "output_type": "display_data"
    },
    {
     "data": {
      "application/vnd.jupyter.widget-view+json": {
       "model_id": "2ed843c972b94ea7b9abe475f57cc27d",
       "version_major": 2,
       "version_minor": 0
      },
      "text/plain": [
       "Batches:   0%|          | 0/1 [00:00<?, ?it/s]"
      ]
     },
     "metadata": {},
     "output_type": "display_data"
    },
    {
     "name": "stderr",
     "output_type": "stream",
     "text": [
      "Processing queries: 100%|██████████| 65/65 [00:02<00:00, 24.12it/s]"
     ]
    },
    {
     "name": "stdout",
     "output_type": "stream",
     "text": [
      "29/10/2025 03:15:52 AM - INFO - OntoMapRAG: Results Generated\n",
      "29/10/2025 03:15:52 AM - INFO - OntoMapEngine: Stage 3 completed: 65 queries\n",
      "29/10/2025 03:15:52 AM - INFO - OntoMapEngine: ==================================================\n",
      "29/10/2025 03:15:52 AM - INFO - OntoMapEngine: FINAL SUMMARY\n",
      "29/10/2025 03:15:52 AM - INFO - OntoMapEngine: ==================================================\n",
      "29/10/2025 03:15:52 AM - INFO - OntoMapEngine: Stage 1 (Exact): 341 queries\n",
      "29/10/2025 03:15:52 AM - INFO - OntoMapEngine: Stage 2 (ST): 1149 queries\n",
      "29/10/2025 03:15:52 AM - INFO - OntoMapEngine: Stage 3 (RAG): 65 queries\n"
     ]
    },
    {
     "name": "stderr",
     "output_type": "stream",
     "text": [
      "\n"
     ]
    }
   ],
   "source": [
    "# RAG Strategy: Need corpus_df for concept retrieval.\n",
    "# Example: \n",
    "other_params = {\"test_or_prod\": \"test\"}\n",
    "onto_engine_large = OntoMapEngine(method='pubmed-bert',\n",
    "                                      category='disease',\n",
    "                                      topk=5,\n",
    "                                      query=query_list,\n",
    "                                      corpus=large_corpus_list,\n",
    "                                      cura_map=cura_map,\n",
    "                                      corpus_df=large_corpus,\n",
    "                                      s2_strategy=\"st\",\n",
    "                                      s3_strategy=\"rag\",\n",
    "                                      **other_params)\n",
    "st_rag_pubmedbert_disease_top5_result = onto_engine_large.run()"
   ]
  },
  {
   "cell_type": "code",
   "execution_count": null,
   "id": "2cbb5140",
   "metadata": {},
   "outputs": [
    {
     "name": "stdout",
     "output_type": "stream",
     "text": [
      "  Accuracy Level   Accuracy\n",
      "0    Top 1 Match  72.990354\n",
      "1  Top 3 Matches  81.221865\n",
      "2  Top 5 Matches  84.630225\n"
     ]
    }
   ],
   "source": [
    "st_rag_pubmedbert_disease_top5_eval = calc.calc_accuracy(\n",
    "    st_rag_pubmedbert_disease_top5_result)\n",
    "print(st_rag_pubmedbert_disease_top5_eval)"
   ]
  },
  {
   "cell_type": "code",
   "execution_count": 10,
   "id": "cb7bd1f5",
   "metadata": {},
   "outputs": [],
   "source": [
    "st_rag_pubmedbert_disease_top5_result.to_csv(\n",
    "    \"data/outputs/2025/large_corpus/1024/st_rag_pubmedbert_disease_top5_result.csv\",\n",
    "    index=False)"
   ]
  },
  {
   "cell_type": "code",
   "execution_count": 9,
   "id": "4731235a",
   "metadata": {},
   "outputs": [
    {
     "name": "stdout",
     "output_type": "stream",
     "text": [
      "29/10/2025 03:22:41 AM - INFO - OntoMapEngine: Initialized OntoMap Engine\n",
      "29/10/2025 03:22:41 AM - INFO - OntoMapEngine: Stage 1: Exact matching\n",
      "29/10/2025 03:22:41 AM - INFO - OntoMapEngine: Stage 2: ST\n",
      "29/10/2025 03:22:41 AM - INFO - OntoMapEngine: Stage 3: RAG_BIE (threshold=0.95)\n",
      "29/10/2025 03:22:41 AM - INFO - OntoMapEngine: ==================================================\n",
      "29/10/2025 03:22:41 AM - INFO - OntoMapEngine: Starting Ontology Mapping\n",
      "29/10/2025 03:22:41 AM - INFO - OntoMapEngine: ==================================================\n",
      "29/10/2025 03:22:41 AM - INFO - OntoMapEngine: Stage 1: Exact Matching\n",
      "29/10/2025 03:22:41 AM - INFO - OntoMapEngine: Exact matches: 66\n",
      "29/10/2025 03:22:41 AM - INFO - OntoMapEngine: Remaining for Stage 2: 92\n",
      "29/10/2025 03:22:41 AM - INFO - OntoMapEngine: Stage 2: ST Matching\n",
      "29/10/2025 03:22:41 AM - INFO - OntoMapEngine: Replacing shortNames using rule-based name mapping\n",
      "29/10/2025 03:22:41 AM - INFO - OntoMapST: Initialized OntoMap Sentence Transformer module\n",
      "29/10/2025 03:22:46 AM - INFO - OntoMapEngine: Stage 2 completed: 92 queries\n",
      "29/10/2025 03:22:46 AM - INFO - OntoMapEngine: Stage 3: RAG_BIE Matching\n",
      "29/10/2025 03:22:46 AM - INFO - OntoMapEngine: S2 result columns: ['original_value', 'updated_value', 'curated_ontology', 'match_level', 'top1_match', 'top1_score', 'top2_match', 'top2_score', 'top3_match', 'top3_score', 'top4_match', 'top4_score', 'top5_match', 'top5_score', 'top6_match', 'top6_score', 'top7_match', 'top7_score', 'top8_match', 'top8_score', 'top9_match', 'top9_score', 'top10_match', 'top10_score', 'top11_match', 'top11_score', 'top12_match', 'top12_score', 'top13_match', 'top13_score', 'top14_match', 'top14_score', 'top15_match', 'top15_score', 'top16_match', 'top16_score', 'top17_match', 'top17_score', 'top18_match', 'top18_score', 'top19_match', 'top19_score', 'top20_match', 'top20_score', 'stage']\n",
      "29/10/2025 03:22:46 AM - INFO - OntoMapEngine: S2 result top1_score dtype: object\n",
      "29/10/2025 03:22:46 AM - INFO - OntoMapEngine: S2 result top1_score unique values (first 10): ['0.9939' '0.9725' '0.9609' '0.9639' '0.9292' '0.9795' '0.9233' '0.9977'\n",
      " '0.9781' '0.9461']\n",
      "29/10/2025 03:22:46 AM - INFO - OntoMapEngine: Queries with top1_score < 0.95: 14\n"
     ]
    },
    {
     "name": "stderr",
     "output_type": "stream",
     "text": [
      "/home/lcc/miniconda3/envs/demo_env/lib/python3.10/site-packages/torch/nn/modules/module.py:1762: FutureWarning: `encoder_attention_mask` is deprecated and will be removed in version 4.55.0 for `BertSdpaSelfAttention.forward`.\n",
      "  return forward_call(*args, **kwargs)\n"
     ]
    },
    {
     "name": "stdout",
     "output_type": "stream",
     "text": [
      "29/10/2025 03:22:46 AM - INFO - OntoMapBIE: Initialized Bi-Encoder (query with context) module\n",
      "29/10/2025 03:22:46 AM - WARNING - OntoMapBIE: No enriched_query column found. Adding context now.\n"
     ]
    },
    {
     "name": "stderr",
     "output_type": "stream",
     "text": [
      "Adding context to query_df: 100%|██████████| 214/214 [01:03<00:00,  3.38it/s]\n",
      "Processing queries (Bi-Encoder):   0%|          | 0/214 [00:00<?, ?it/s]"
     ]
    },
    {
     "name": "stdout",
     "output_type": "stream",
     "text": [
      "29/10/2025 03:23:50 AM - INFO - FAISSSQLiteSearch: 13927 new terms to add to the index.\n",
      "29/10/2025 03:23:50 AM - INFO - FAISSSQLiteSearch: Using provided DataFrame to update term-code pairs.\n",
      "29/10/2025 03:23:50 AM - INFO - FAISSSQLiteSearch: Using provided DataFrame to fetch term-code pairs.\n",
      "29/10/2025 03:23:50 AM - INFO - FAISSSQLiteSearch: Retrieved codes for 13924 terms\n",
      "29/10/2025 03:23:50 AM - INFO - FAISSSQLiteSearch: Fetching concept data for 13927 unique codes\n",
      "29/10/2025 03:23:50 AM - INFO - NCIDb: Fetching concept data for 13927 codes in batches of 50\n",
      "29/10/2025 03:23:54 AM - INFO - NCIDb: Processed batch 1 of 279\n",
      "29/10/2025 03:23:55 AM - INFO - NCIDb: Processed batch 2 of 279\n",
      "29/10/2025 03:24:00 AM - INFO - NCIDb: Processed batch 4 of 279\n",
      "29/10/2025 03:24:03 AM - INFO - NCIDb: Processed batch 5 of 279\n",
      "29/10/2025 03:24:06 AM - INFO - NCIDb: Processed batch 6 of 279\n",
      "29/10/2025 03:24:06 AM - INFO - NCIDb: Processed batch 3 of 279\n",
      "29/10/2025 03:24:09 AM - INFO - NCIDb: Processed batch 7 of 279\n",
      "29/10/2025 03:24:14 AM - INFO - NCIDb: Processed batch 9 of 279\n",
      "29/10/2025 03:24:17 AM - INFO - NCIDb: Processed batch 10 of 279\n",
      "29/10/2025 03:24:20 AM - INFO - NCIDb: Processed batch 11 of 279\n",
      "29/10/2025 03:24:20 AM - INFO - NCIDb: Processed batch 8 of 279\n",
      "29/10/2025 03:24:23 AM - INFO - NCIDb: Processed batch 12 of 279\n",
      "29/10/2025 03:24:25 AM - INFO - NCIDb: Processed batch 13 of 279\n",
      "29/10/2025 03:24:31 AM - INFO - NCIDb: Processed batch 15 of 279\n",
      "29/10/2025 03:24:34 AM - INFO - NCIDb: Processed batch 16 of 279\n",
      "29/10/2025 03:24:36 AM - INFO - NCIDb: Processed batch 17 of 279\n",
      "29/10/2025 03:24:36 AM - INFO - NCIDb: Processed batch 14 of 279\n",
      "29/10/2025 03:24:39 AM - INFO - NCIDb: Processed batch 18 of 279\n",
      "29/10/2025 03:24:47 AM - INFO - NCIDb: Processed batch 21 of 279\n",
      "29/10/2025 03:24:50 AM - INFO - NCIDb: Processed batch 19 of 279\n",
      "29/10/2025 03:24:50 AM - INFO - NCIDb: Processed batch 20 of 279\n",
      "29/10/2025 03:24:53 AM - INFO - NCIDb: Processed batch 23 of 279\n",
      "29/10/2025 03:24:53 AM - INFO - NCIDb: Processed batch 22 of 279\n",
      "29/10/2025 03:24:59 AM - INFO - NCIDb: Processed batch 25 of 279\n",
      "29/10/2025 03:25:01 AM - INFO - NCIDb: Processed batch 26 of 279\n",
      "29/10/2025 03:25:04 AM - INFO - NCIDb: Processed batch 27 of 279\n",
      "29/10/2025 03:25:04 AM - INFO - NCIDb: Processed batch 24 of 279\n",
      "29/10/2025 03:25:07 AM - INFO - NCIDb: Processed batch 28 of 279\n",
      "29/10/2025 03:25:21 AM - ERROR - NCIDb: Failed to fetch https://api-evsrest.nci.nih.gov/api/v1/concept/ncit/C114923?include=synonyms,definitions,parents,children,roles: \n",
      "29/10/2025 03:25:21 AM - ERROR - NCIDb: Failed to fetch https://api-evsrest.nci.nih.gov/api/v1/concept/ncit/C191734?include=synonyms,definitions,parents,children,roles: \n",
      "29/10/2025 03:25:22 AM - ERROR - NCIDb: Failed to fetch https://api-evsrest.nci.nih.gov/api/v1/concept/ncit/C5266?include=synonyms,definitions,parents,children,roles: \n",
      "29/10/2025 03:25:46 AM - ERROR - NCIDb: Failed to fetch https://api-evsrest.nci.nih.gov/api/v1/concept/ncit/C37869?include=synonyms,definitions,parents,children,roles: \n",
      "29/10/2025 03:25:47 AM - ERROR - NCIDb: Failed to fetch https://api-evsrest.nci.nih.gov/api/v1/concept/ncit/C4441?include=synonyms,definitions,parents,children,roles: \n",
      "29/10/2025 03:25:47 AM - ERROR - NCIDb: Failed to fetch https://api-evsrest.nci.nih.gov/api/v1/concept/ncit/C115360?include=synonyms,definitions,parents,children,roles: \n",
      "29/10/2025 03:25:47 AM - ERROR - NCIDb: Failed to fetch https://api-evsrest.nci.nih.gov/api/v1/concept/ncit/C45628?include=synonyms,definitions,parents,children,roles: \n",
      "29/10/2025 03:25:47 AM - ERROR - NCIDb: Failed to fetch https://api-evsrest.nci.nih.gov/api/v1/concept/ncit/C202611?include=synonyms,definitions,parents,children,roles: \n",
      "29/10/2025 03:25:51 AM - ERROR - NCIDb: Failed to fetch https://api-evsrest.nci.nih.gov/api/v1/concept/ncit/C5122?include=synonyms,definitions,parents,children,roles: \n",
      "29/10/2025 03:25:56 AM - ERROR - NCIDb: Failed to fetch https://api-evsrest.nci.nih.gov/api/v1/concept/ncit/C121654?include=synonyms,definitions,parents,children,roles: \n",
      "29/10/2025 03:25:56 AM - ERROR - NCIDb: Failed to fetch https://api-evsrest.nci.nih.gov/api/v1/concept/ncit/C177723?include=synonyms,definitions,parents,children,roles: \n",
      "29/10/2025 03:25:56 AM - ERROR - NCIDb: Failed to fetch https://api-evsrest.nci.nih.gov/api/v1/concept/ncit/C151991?include=synonyms,definitions,parents,children,roles: \n",
      "29/10/2025 03:25:56 AM - ERROR - NCIDb: Failed to fetch https://api-evsrest.nci.nih.gov/api/v1/concept/ncit/C198167?include=synonyms,definitions,parents,children,roles: \n",
      "29/10/2025 03:25:56 AM - ERROR - NCIDb: Failed to fetch https://api-evsrest.nci.nih.gov/api/v1/concept/ncit/C27357?include=synonyms,definitions,parents,children,roles: \n",
      "29/10/2025 03:25:56 AM - ERROR - NCIDb: Failed to fetch https://api-evsrest.nci.nih.gov/api/v1/concept/ncit/C139618?include=synonyms,definitions,parents,children,roles: \n",
      "29/10/2025 03:25:56 AM - ERROR - NCIDb: Failed to fetch https://api-evsrest.nci.nih.gov/api/v1/concept/ncit/C35506?include=synonyms,definitions,parents,children,roles: \n",
      "29/10/2025 03:25:56 AM - ERROR - NCIDb: Failed to fetch https://api-evsrest.nci.nih.gov/api/v1/concept/ncit/C6468?include=synonyms,definitions,parents,children,roles: \n",
      "29/10/2025 03:25:56 AM - ERROR - NCIDb: Failed to fetch https://api-evsrest.nci.nih.gov/api/v1/concept/ncit/C39578?include=synonyms,definitions,parents,children,roles: \n",
      "29/10/2025 03:25:56 AM - ERROR - NCIDb: Failed to fetch https://api-evsrest.nci.nih.gov/api/v1/concept/ncit/C187096?include=synonyms,definitions,parents,children,roles: \n",
      "29/10/2025 03:25:56 AM - ERROR - NCIDb: Failed to fetch https://api-evsrest.nci.nih.gov/api/v1/concept/ncit/C9118?include=synonyms,definitions,parents,children,roles: \n",
      "29/10/2025 03:25:56 AM - ERROR - NCIDb: Failed to fetch https://api-evsrest.nci.nih.gov/api/v1/concept/ncit/C4288?include=synonyms,definitions,parents,children,roles: \n",
      "29/10/2025 03:25:56 AM - ERROR - NCIDb: Failed to fetch https://api-evsrest.nci.nih.gov/api/v1/concept/ncit/C199264?include=synonyms,definitions,parents,children,roles: \n",
      "29/10/2025 03:25:56 AM - ERROR - NCIDb: Failed to fetch https://api-evsrest.nci.nih.gov/api/v1/concept/ncit/C27367?include=synonyms,definitions,parents,children,roles: \n",
      "29/10/2025 03:25:56 AM - ERROR - NCIDb: Failed to fetch https://api-evsrest.nci.nih.gov/api/v1/concept/ncit/C4834?include=synonyms,definitions,parents,children,roles: \n",
      "29/10/2025 03:25:56 AM - ERROR - NCIDb: Failed to fetch https://api-evsrest.nci.nih.gov/api/v1/concept/ncit/C188228?include=synonyms,definitions,parents,children,roles: \n",
      "29/10/2025 03:25:56 AM - ERROR - NCIDb: Failed to fetch https://api-evsrest.nci.nih.gov/api/v1/concept/ncit/C172235?include=synonyms,definitions,parents,children,roles: \n",
      "29/10/2025 03:25:56 AM - ERROR - NCIDb: Failed to fetch https://api-evsrest.nci.nih.gov/api/v1/concept/ncit/C39996?include=synonyms,definitions,parents,children,roles: \n",
      "29/10/2025 03:25:56 AM - ERROR - NCIDb: Failed to fetch https://api-evsrest.nci.nih.gov/api/v1/concept/ncit/C174539?include=synonyms,definitions,parents,children,roles: \n",
      "29/10/2025 03:25:56 AM - ERROR - NCIDb: Failed to fetch https://api-evsrest.nci.nih.gov/api/v1/concept/ncit/C7155?include=synonyms,definitions,parents,children,roles: \n",
      "29/10/2025 03:25:56 AM - ERROR - NCIDb: Failed to fetch https://api-evsrest.nci.nih.gov/api/v1/concept/ncit/C199392?include=synonyms,definitions,parents,children,roles: \n",
      "29/10/2025 03:25:56 AM - ERROR - NCIDb: Failed to fetch https://api-evsrest.nci.nih.gov/api/v1/concept/ncit/C135125?include=synonyms,definitions,parents,children,roles: \n",
      "29/10/2025 03:25:56 AM - ERROR - NCIDb: Failed to fetch https://api-evsrest.nci.nih.gov/api/v1/concept/ncit/C173688?include=synonyms,definitions,parents,children,roles: \n",
      "29/10/2025 03:25:56 AM - ERROR - NCIDb: Failed to fetch https://api-evsrest.nci.nih.gov/api/v1/concept/ncit/C148514?include=synonyms,definitions,parents,children,roles: \n",
      "29/10/2025 03:25:56 AM - ERROR - NCIDb: Failed to fetch https://api-evsrest.nci.nih.gov/api/v1/concept/ncit/C84347?include=synonyms,definitions,parents,children,roles: \n",
      "29/10/2025 03:25:56 AM - ERROR - NCIDb: Failed to fetch https://api-evsrest.nci.nih.gov/api/v1/concept/ncit/C9033?include=synonyms,definitions,parents,children,roles: \n",
      "29/10/2025 03:25:56 AM - ERROR - NCIDb: Failed to fetch https://api-evsrest.nci.nih.gov/api/v1/concept/ncit/C8017?include=synonyms,definitions,parents,children,roles: \n",
      "29/10/2025 03:25:56 AM - ERROR - NCIDb: Failed to fetch https://api-evsrest.nci.nih.gov/api/v1/concept/ncit/C4444?include=synonyms,definitions,parents,children,roles: \n",
      "29/10/2025 03:25:56 AM - ERROR - NCIDb: Failed to fetch https://api-evsrest.nci.nih.gov/api/v1/concept/ncit/C3766?include=synonyms,definitions,parents,children,roles: \n",
      "29/10/2025 03:25:56 AM - ERROR - NCIDb: Failed to fetch https://api-evsrest.nci.nih.gov/api/v1/concept/ncit/C189340?include=synonyms,definitions,parents,children,roles: \n",
      "29/10/2025 03:25:56 AM - ERROR - NCIDb: Failed to fetch https://api-evsrest.nci.nih.gov/api/v1/concept/ncit/C5135?include=synonyms,definitions,parents,children,roles: \n",
      "29/10/2025 03:25:56 AM - ERROR - NCIDb: Failed to fetch https://api-evsrest.nci.nih.gov/api/v1/concept/ncit/C172664?include=synonyms,definitions,parents,children,roles: \n",
      "29/10/2025 03:25:56 AM - ERROR - NCIDb: Failed to fetch https://api-evsrest.nci.nih.gov/api/v1/concept/ncit/C133682?include=synonyms,definitions,parents,children,roles: \n",
      "29/10/2025 03:25:56 AM - ERROR - NCIDb: Failed to fetch https://api-evsrest.nci.nih.gov/api/v1/concept/ncit/C6082?include=synonyms,definitions,parents,children,roles: \n",
      "29/10/2025 03:25:56 AM - ERROR - NCIDb: Failed to fetch https://api-evsrest.nci.nih.gov/api/v1/concept/ncit/C5889?include=synonyms,definitions,parents,children,roles: \n",
      "29/10/2025 03:25:56 AM - ERROR - NCIDb: Failed to fetch https://api-evsrest.nci.nih.gov/api/v1/concept/ncit/C3745?include=synonyms,definitions,parents,children,roles: \n",
      "29/10/2025 03:25:56 AM - ERROR - NCIDb: Failed to fetch https://api-evsrest.nci.nih.gov/api/v1/concept/ncit/C5516?include=synonyms,definitions,parents,children,roles: \n",
      "29/10/2025 03:25:56 AM - ERROR - NCIDb: Failed to fetch https://api-evsrest.nci.nih.gov/api/v1/concept/ncit/C183374?include=synonyms,definitions,parents,children,roles: \n",
      "29/10/2025 03:25:56 AM - ERROR - NCIDb: Failed to fetch https://api-evsrest.nci.nih.gov/api/v1/concept/ncit/C141168?include=synonyms,definitions,parents,children,roles: \n",
      "29/10/2025 03:25:56 AM - ERROR - NCIDb: Failed to fetch https://api-evsrest.nci.nih.gov/api/v1/concept/ncit/C45193?include=synonyms,definitions,parents,children,roles: \n",
      "29/10/2025 03:25:56 AM - ERROR - NCIDb: Failed to fetch https://api-evsrest.nci.nih.gov/api/v1/concept/ncit/C5358?include=synonyms,definitions,parents,children,roles: \n",
      "29/10/2025 03:25:56 AM - ERROR - NCIDb: Failed to fetch https://api-evsrest.nci.nih.gov/api/v1/concept/ncit/C170809?include=synonyms,definitions,parents,children,roles: \n",
      "29/10/2025 03:25:56 AM - ERROR - NCIDb: Failed to fetch https://api-evsrest.nci.nih.gov/api/v1/concept/ncit/C9158?include=synonyms,definitions,parents,children,roles: \n",
      "29/10/2025 03:25:56 AM - ERROR - NCIDb: Failed to fetch https://api-evsrest.nci.nih.gov/api/v1/concept/ncit/C89861?include=synonyms,definitions,parents,children,roles: \n",
      "29/10/2025 03:25:56 AM - ERROR - NCIDb: Failed to fetch https://api-evsrest.nci.nih.gov/api/v1/concept/ncit/C205301?include=synonyms,definitions,parents,children,roles: \n",
      "29/10/2025 03:25:56 AM - ERROR - NCIDb: Failed to fetch https://api-evsrest.nci.nih.gov/api/v1/concept/ncit/C8259?include=synonyms,definitions,parents,children,roles: \n",
      "29/10/2025 03:25:56 AM - ERROR - NCIDb: Failed to fetch https://api-evsrest.nci.nih.gov/api/v1/concept/ncit/C8990?include=synonyms,definitions,parents,children,roles: \n",
      "29/10/2025 03:25:56 AM - ERROR - NCIDb: Failed to fetch https://api-evsrest.nci.nih.gov/api/v1/concept/ncit/C42700?include=synonyms,definitions,parents,children,roles: \n",
      "29/10/2025 03:25:56 AM - ERROR - NCIDb: Failed to fetch https://api-evsrest.nci.nih.gov/api/v1/concept/ncit/C3191?include=synonyms,definitions,parents,children,roles: \n",
      "29/10/2025 03:25:56 AM - ERROR - NCIDb: Failed to fetch https://api-evsrest.nci.nih.gov/api/v1/concept/ncit/C95987?include=synonyms,definitions,parents,children,roles: \n",
      "29/10/2025 03:25:56 AM - ERROR - NCIDb: Failed to fetch https://api-evsrest.nci.nih.gov/api/v1/concept/ncit/C156300?include=synonyms,definitions,parents,children,roles: \n",
      "29/10/2025 03:25:56 AM - ERROR - NCIDb: Failed to fetch https://api-evsrest.nci.nih.gov/api/v1/concept/ncit/C95773?include=synonyms,definitions,parents,children,roles: \n",
      "29/10/2025 03:25:56 AM - ERROR - NCIDb: Failed to fetch https://api-evsrest.nci.nih.gov/api/v1/concept/ncit/C8396?include=synonyms,definitions,parents,children,roles: \n",
      "29/10/2025 03:25:56 AM - ERROR - NCIDb: Failed to fetch https://api-evsrest.nci.nih.gov/api/v1/concept/ncit/C157074?include=synonyms,definitions,parents,children,roles: \n",
      "29/10/2025 03:25:56 AM - ERROR - NCIDb: Failed to fetch https://api-evsrest.nci.nih.gov/api/v1/concept/ncit/C139971?include=synonyms,definitions,parents,children,roles: \n",
      "29/10/2025 03:25:56 AM - ERROR - NCIDb: Failed to fetch https://api-evsrest.nci.nih.gov/api/v1/concept/ncit/C168673?include=synonyms,definitions,parents,children,roles: \n",
      "29/10/2025 03:25:56 AM - ERROR - NCIDb: Failed to fetch https://api-evsrest.nci.nih.gov/api/v1/concept/ncit/C5455?include=synonyms,definitions,parents,children,roles: \n",
      "29/10/2025 03:25:56 AM - ERROR - NCIDb: Failed to fetch https://api-evsrest.nci.nih.gov/api/v1/concept/ncit/C4515?include=synonyms,definitions,parents,children,roles: \n",
      "29/10/2025 03:25:56 AM - ERROR - NCIDb: Failed to fetch https://api-evsrest.nci.nih.gov/api/v1/concept/ncit/C9350?include=synonyms,definitions,parents,children,roles: \n",
      "29/10/2025 03:25:56 AM - ERROR - NCIDb: Failed to fetch https://api-evsrest.nci.nih.gov/api/v1/concept/ncit/C172649?include=synonyms,definitions,parents,children,roles: \n",
      "29/10/2025 03:25:56 AM - ERROR - NCIDb: Failed to fetch https://api-evsrest.nci.nih.gov/api/v1/concept/ncit/C159904?include=synonyms,definitions,parents,children,roles: \n",
      "29/10/2025 03:25:56 AM - ERROR - NCIDb: Failed to fetch https://api-evsrest.nci.nih.gov/api/v1/concept/ncit/C200759?include=synonyms,definitions,parents,children,roles: \n",
      "29/10/2025 03:25:56 AM - ERROR - NCIDb: Failed to fetch https://api-evsrest.nci.nih.gov/api/v1/concept/ncit/C133081?include=synonyms,definitions,parents,children,roles: \n",
      "29/10/2025 03:25:56 AM - ERROR - NCIDb: Failed to fetch https://api-evsrest.nci.nih.gov/api/v1/concept/ncit/C35427?include=synonyms,definitions,parents,children,roles: \n",
      "29/10/2025 03:25:56 AM - ERROR - NCIDb: Failed to fetch https://api-evsrest.nci.nih.gov/api/v1/concept/ncit/C179203?include=synonyms,definitions,parents,children,roles: \n",
      "29/10/2025 03:25:56 AM - ERROR - NCIDb: Failed to fetch https://api-evsrest.nci.nih.gov/api/v1/concept/ncit/C3997?include=synonyms,definitions,parents,children,roles: \n",
      "29/10/2025 03:25:56 AM - ERROR - NCIDb: Failed to fetch https://api-evsrest.nci.nih.gov/api/v1/concept/ncit/C53284?include=synonyms,definitions,parents,children,roles: \n",
      "29/10/2025 03:25:56 AM - ERROR - NCIDb: Failed to fetch https://api-evsrest.nci.nih.gov/api/v1/concept/ncit/C66796?include=synonyms,definitions,parents,children,roles: \n",
      "29/10/2025 03:25:56 AM - ERROR - NCIDb: Failed to fetch https://api-evsrest.nci.nih.gov/api/v1/concept/ncit/C171304?include=synonyms,definitions,parents,children,roles: \n",
      "29/10/2025 03:25:56 AM - ERROR - NCIDb: Failed to fetch https://api-evsrest.nci.nih.gov/api/v1/concept/ncit/C7051?include=synonyms,definitions,parents,children,roles: \n",
      "29/10/2025 03:25:56 AM - ERROR - NCIDb: Failed to fetch https://api-evsrest.nci.nih.gov/api/v1/concept/ncit/C203374?include=synonyms,definitions,parents,children,roles: \n",
      "29/10/2025 03:25:56 AM - ERROR - NCIDb: Failed to fetch https://api-evsrest.nci.nih.gov/api/v1/concept/ncit/C95559?include=synonyms,definitions,parents,children,roles: \n",
      "29/10/2025 03:26:01 AM - WARNING - NCIDb: Failed to fetch code C170809: No response\n",
      "29/10/2025 03:26:01 AM - WARNING - NCIDb: Failed to fetch code C9158: No response\n",
      "29/10/2025 03:26:01 AM - WARNING - NCIDb: Failed to fetch code C157074: No response\n",
      "29/10/2025 03:26:01 AM - WARNING - NCIDb: Failed to fetch code C139971: No response\n",
      "29/10/2025 03:26:01 AM - WARNING - NCIDb: Failed to fetch code C168673: No response\n",
      "29/10/2025 03:26:01 AM - WARNING - NCIDb: Failed to fetch code C5455: No response\n",
      "29/10/2025 03:26:01 AM - WARNING - NCIDb: Failed to fetch code C4515: No response\n",
      "29/10/2025 03:26:01 AM - WARNING - NCIDb: Failed to fetch code C9350: No response\n",
      "29/10/2025 03:26:01 AM - WARNING - NCIDb: Failed to fetch code C172649: No response\n",
      "29/10/2025 03:26:01 AM - WARNING - NCIDb: Failed to fetch code C159904: No response\n",
      "29/10/2025 03:26:01 AM - WARNING - NCIDb: Failed to fetch code C200759: No response\n",
      "29/10/2025 03:26:01 AM - WARNING - NCIDb: Failed to fetch code C133081: No response\n",
      "29/10/2025 03:26:01 AM - WARNING - NCIDb: Failed to fetch code C35427: No response\n",
      "29/10/2025 03:26:01 AM - WARNING - NCIDb: Failed to fetch code C179203: No response\n",
      "29/10/2025 03:26:01 AM - WARNING - NCIDb: Failed to fetch code C3997: No response\n",
      "29/10/2025 03:26:01 AM - WARNING - NCIDb: Failed to fetch code C53284: No response\n",
      "29/10/2025 03:26:01 AM - WARNING - NCIDb: Failed to fetch code C66796: No response\n",
      "29/10/2025 03:26:01 AM - WARNING - NCIDb: Failed to fetch code C171304: No response\n",
      "29/10/2025 03:26:01 AM - WARNING - NCIDb: Failed to fetch code C7051: No response\n",
      "29/10/2025 03:26:01 AM - WARNING - NCIDb: Failed to fetch code C203374: No response\n",
      "29/10/2025 03:26:01 AM - WARNING - NCIDb: Failed to fetch code C95559: No response\n",
      "29/10/2025 03:26:01 AM - INFO - NCIDb: Processed batch 32 of 279\n",
      "29/10/2025 03:26:01 AM - WARNING - NCIDb: Failed to fetch code C5266: No response\n",
      "29/10/2025 03:26:01 AM - WARNING - NCIDb: Failed to fetch code C191734: No response\n",
      "29/10/2025 03:26:01 AM - INFO - NCIDb: Processed batch 29 of 279\n",
      "29/10/2025 03:26:01 AM - WARNING - NCIDb: Failed to fetch code C114923: No response\n",
      "29/10/2025 03:26:01 AM - WARNING - NCIDb: Failed to fetch code C174539: No response\n",
      "29/10/2025 03:26:01 AM - WARNING - NCIDb: Failed to fetch code C4288: No response\n",
      "29/10/2025 03:26:01 AM - WARNING - NCIDb: Failed to fetch code C151991: No response\n",
      "29/10/2025 03:26:01 AM - WARNING - NCIDb: Failed to fetch code C45193: No response\n",
      "29/10/2025 03:26:01 AM - WARNING - NCIDb: Failed to fetch code C198167: No response\n",
      "29/10/2025 03:26:01 AM - WARNING - NCIDb: Failed to fetch code C4834: No response\n",
      "29/10/2025 03:26:01 AM - WARNING - NCIDb: Failed to fetch code C7155: No response\n",
      "29/10/2025 03:26:01 AM - WARNING - NCIDb: Failed to fetch code C89861: No response\n",
      "29/10/2025 03:26:01 AM - WARNING - NCIDb: Failed to fetch code C188228: No response\n",
      "29/10/2025 03:26:01 AM - WARNING - NCIDb: Failed to fetch code C27367: No response\n",
      "29/10/2025 03:26:01 AM - WARNING - NCIDb: Failed to fetch code C177723: No response\n",
      "29/10/2025 03:26:01 AM - WARNING - NCIDb: Failed to fetch code C9118: No response\n",
      "29/10/2025 03:26:01 AM - WARNING - NCIDb: Failed to fetch code C5516: No response\n",
      "29/10/2025 03:26:01 AM - WARNING - NCIDb: Failed to fetch code C37869: No response\n",
      "29/10/2025 03:26:01 AM - WARNING - NCIDb: Failed to fetch code C202611: No response\n",
      "29/10/2025 03:26:01 AM - WARNING - NCIDb: Failed to fetch code C27357: No response\n",
      "29/10/2025 03:26:01 AM - WARNING - NCIDb: Failed to fetch code C115360: No response\n",
      "29/10/2025 03:26:01 AM - WARNING - NCIDb: Failed to fetch code C39578: No response\n",
      "29/10/2025 03:26:01 AM - WARNING - NCIDb: Failed to fetch code C139618: No response\n",
      "29/10/2025 03:26:01 AM - WARNING - NCIDb: Failed to fetch code C187096: No response\n",
      "29/10/2025 03:26:01 AM - WARNING - NCIDb: Failed to fetch code C6468: No response\n",
      "29/10/2025 03:26:01 AM - WARNING - NCIDb: Failed to fetch code C5122: No response\n",
      "29/10/2025 03:26:01 AM - WARNING - NCIDb: Failed to fetch code C45628: No response\n",
      "29/10/2025 03:26:01 AM - WARNING - NCIDb: Failed to fetch code C4441: No response\n",
      "29/10/2025 03:26:01 AM - WARNING - NCIDb: Failed to fetch code C35506: No response\n",
      "29/10/2025 03:26:01 AM - WARNING - NCIDb: Failed to fetch code C121654: No response\n",
      "29/10/2025 03:26:01 AM - WARNING - NCIDb: Failed to fetch code C205301: No response\n",
      "29/10/2025 03:26:01 AM - WARNING - NCIDb: Failed to fetch code C39996: No response\n",
      "29/10/2025 03:26:01 AM - WARNING - NCIDb: Failed to fetch code C172235: No response\n",
      "29/10/2025 03:26:01 AM - INFO - NCIDb: Processed batch 30 of 279\n",
      "29/10/2025 03:26:01 AM - WARNING - NCIDb: Failed to fetch code C135125: No response\n",
      "29/10/2025 03:26:01 AM - WARNING - NCIDb: Failed to fetch code C199392: No response\n",
      "29/10/2025 03:26:01 AM - WARNING - NCIDb: Failed to fetch code C199264: No response\n",
      "29/10/2025 03:26:01 AM - WARNING - NCIDb: Failed to fetch code C183374: No response\n",
      "29/10/2025 03:26:01 AM - WARNING - NCIDb: Failed to fetch code C141168: No response\n",
      "29/10/2025 03:26:01 AM - WARNING - NCIDb: Failed to fetch code C173688: No response\n",
      "29/10/2025 03:26:01 AM - WARNING - NCIDb: Failed to fetch code C5358: No response\n",
      "29/10/2025 03:26:01 AM - WARNING - NCIDb: Failed to fetch code C8259: No response\n",
      "29/10/2025 03:26:01 AM - WARNING - NCIDb: Failed to fetch code C8990: No response\n",
      "29/10/2025 03:26:01 AM - WARNING - NCIDb: Failed to fetch code C42700: No response\n",
      "29/10/2025 03:26:01 AM - WARNING - NCIDb: Failed to fetch code C3191: No response\n",
      "29/10/2025 03:26:01 AM - WARNING - NCIDb: Failed to fetch code C95987: No response\n",
      "29/10/2025 03:26:01 AM - WARNING - NCIDb: Failed to fetch code C156300: No response\n",
      "29/10/2025 03:26:01 AM - WARNING - NCIDb: Failed to fetch code C95773: No response\n",
      "29/10/2025 03:26:01 AM - WARNING - NCIDb: Failed to fetch code C8396: No response\n",
      "29/10/2025 03:26:01 AM - WARNING - NCIDb: Failed to fetch code C148514: No response\n",
      "29/10/2025 03:26:01 AM - WARNING - NCIDb: Failed to fetch code C84347: No response\n",
      "29/10/2025 03:26:01 AM - WARNING - NCIDb: Failed to fetch code C9033: No response\n",
      "29/10/2025 03:26:01 AM - WARNING - NCIDb: Failed to fetch code C8017: No response\n",
      "29/10/2025 03:26:01 AM - WARNING - NCIDb: Failed to fetch code C4444: No response\n",
      "29/10/2025 03:26:01 AM - WARNING - NCIDb: Failed to fetch code C3766: No response\n",
      "29/10/2025 03:26:01 AM - WARNING - NCIDb: Failed to fetch code C189340: No response\n",
      "29/10/2025 03:26:01 AM - WARNING - NCIDb: Failed to fetch code C5135: No response\n",
      "29/10/2025 03:26:01 AM - WARNING - NCIDb: Failed to fetch code C172664: No response\n",
      "29/10/2025 03:26:01 AM - WARNING - NCIDb: Failed to fetch code C133682: No response\n",
      "29/10/2025 03:26:01 AM - WARNING - NCIDb: Failed to fetch code C6082: No response\n",
      "29/10/2025 03:26:01 AM - WARNING - NCIDb: Failed to fetch code C5889: No response\n",
      "29/10/2025 03:26:01 AM - WARNING - NCIDb: Failed to fetch code C3745: No response\n",
      "29/10/2025 03:26:01 AM - INFO - NCIDb: Processed batch 31 of 279\n",
      "29/10/2025 03:26:06 AM - INFO - NCIDb: Processed batch 34 of 279\n",
      "29/10/2025 03:26:08 AM - INFO - NCIDb: Processed batch 35 of 279\n",
      "29/10/2025 03:26:08 AM - INFO - NCIDb: Processed batch 33 of 279\n",
      "29/10/2025 03:26:11 AM - INFO - NCIDb: Processed batch 36 of 279\n",
      "29/10/2025 03:26:14 AM - INFO - NCIDb: Processed batch 37 of 279\n",
      "29/10/2025 03:26:20 AM - INFO - NCIDb: Processed batch 39 of 279\n",
      "29/10/2025 03:26:22 AM - INFO - NCIDb: Processed batch 40 of 279\n",
      "29/10/2025 03:26:25 AM - INFO - NCIDb: Processed batch 38 of 279\n",
      "29/10/2025 03:26:28 AM - INFO - NCIDb: Processed batch 42 of 279\n",
      "29/10/2025 03:26:31 AM - INFO - NCIDb: Processed batch 43 of 279\n",
      "29/10/2025 03:26:31 AM - INFO - NCIDb: Processed batch 41 of 279\n",
      "29/10/2025 03:26:33 AM - INFO - NCIDb: Processed batch 44 of 279\n",
      "29/10/2025 03:26:36 AM - INFO - NCIDb: Processed batch 45 of 279\n",
      "29/10/2025 03:26:42 AM - INFO - NCIDb: Processed batch 47 of 279\n",
      "29/10/2025 03:26:45 AM - INFO - NCIDb: Processed batch 48 of 279\n",
      "29/10/2025 03:26:47 AM - INFO - NCIDb: Processed batch 49 of 279\n",
      "29/10/2025 03:26:47 AM - INFO - NCIDb: Processed batch 46 of 279\n",
      "29/10/2025 03:26:50 AM - INFO - NCIDb: Processed batch 50 of 279\n",
      "29/10/2025 03:26:53 AM - INFO - NCIDb: Processed batch 51 of 279\n",
      "29/10/2025 03:26:56 AM - INFO - NCIDb: Processed batch 52 of 279\n",
      "29/10/2025 03:27:01 AM - INFO - NCIDb: Processed batch 54 of 279\n",
      "29/10/2025 03:27:04 AM - INFO - NCIDb: Processed batch 55 of 279\n",
      "29/10/2025 03:27:07 AM - INFO - NCIDb: Processed batch 53 of 279\n",
      "29/10/2025 03:27:12 AM - INFO - NCIDb: Processed batch 58 of 279\n",
      "29/10/2025 03:27:12 AM - INFO - NCIDb: Processed batch 56 of 279\n",
      "29/10/2025 03:27:15 AM - INFO - NCIDb: Processed batch 59 of 279\n",
      "29/10/2025 03:27:15 AM - INFO - NCIDb: Processed batch 57 of 279\n",
      "29/10/2025 03:27:21 AM - INFO - NCIDb: Processed batch 61 of 279\n",
      "29/10/2025 03:27:23 AM - INFO - NCIDb: Processed batch 62 of 279\n",
      "29/10/2025 03:27:24 AM - INFO - NCIDb: Processed batch 60 of 279\n",
      "29/10/2025 03:27:29 AM - INFO - NCIDb: Processed batch 64 of 279\n",
      "29/10/2025 03:27:32 AM - INFO - NCIDb: Processed batch 65 of 279\n",
      "29/10/2025 03:27:35 AM - INFO - NCIDb: Processed batch 66 of 279\n",
      "29/10/2025 03:27:35 AM - INFO - NCIDb: Processed batch 63 of 279\n",
      "29/10/2025 03:27:40 AM - INFO - NCIDb: Processed batch 68 of 279\n",
      "29/10/2025 03:27:43 AM - INFO - NCIDb: Processed batch 69 of 279\n",
      "29/10/2025 03:27:43 AM - INFO - NCIDb: Processed batch 67 of 279\n",
      "29/10/2025 03:27:46 AM - INFO - NCIDb: Processed batch 70 of 279\n",
      "29/10/2025 03:27:48 AM - INFO - NCIDb: Processed batch 71 of 279\n",
      "29/10/2025 03:27:51 AM - INFO - NCIDb: Processed batch 72 of 279\n",
      "29/10/2025 03:27:54 AM - INFO - NCIDb: Processed batch 73 of 279\n",
      "29/10/2025 03:27:57 AM - INFO - NCIDb: Processed batch 74 of 279\n",
      "29/10/2025 03:28:00 AM - INFO - NCIDb: Processed batch 75 of 279\n",
      "29/10/2025 03:28:02 AM - INFO - NCIDb: Processed batch 76 of 279\n",
      "29/10/2025 03:28:05 AM - INFO - NCIDb: Processed batch 77 of 279\n",
      "29/10/2025 03:28:08 AM - INFO - NCIDb: Processed batch 78 of 279\n",
      "29/10/2025 03:28:11 AM - INFO - NCIDb: Processed batch 79 of 279\n",
      "29/10/2025 03:28:13 AM - INFO - NCIDb: Processed batch 80 of 279\n",
      "29/10/2025 03:28:19 AM - INFO - NCIDb: Processed batch 82 of 279\n",
      "29/10/2025 03:28:22 AM - INFO - NCIDb: Processed batch 83 of 279\n",
      "29/10/2025 03:28:25 AM - INFO - NCIDb: Processed batch 84 of 279\n",
      "29/10/2025 03:28:25 AM - INFO - NCIDb: Processed batch 81 of 279\n",
      "29/10/2025 03:28:27 AM - INFO - NCIDb: Processed batch 85 of 279\n",
      "29/10/2025 03:28:30 AM - INFO - NCIDb: Processed batch 86 of 279\n",
      "29/10/2025 03:28:36 AM - INFO - NCIDb: Processed batch 88 of 279\n",
      "29/10/2025 03:28:41 AM - INFO - NCIDb: Processed batch 90 of 279\n",
      "29/10/2025 03:28:41 AM - INFO - NCIDb: Processed batch 87 of 279\n",
      "29/10/2025 03:28:44 AM - INFO - NCIDb: Processed batch 89 of 279\n",
      "29/10/2025 03:28:50 AM - INFO - NCIDb: Processed batch 93 of 279\n",
      "29/10/2025 03:28:50 AM - INFO - NCIDb: Processed batch 91 of 279\n",
      "29/10/2025 03:28:52 AM - INFO - NCIDb: Processed batch 94 of 279\n",
      "29/10/2025 03:28:52 AM - INFO - NCIDb: Processed batch 92 of 279\n",
      "29/10/2025 03:28:55 AM - INFO - NCIDb: Processed batch 95 of 279\n",
      "29/10/2025 03:28:58 AM - INFO - NCIDb: Processed batch 96 of 279\n",
      "29/10/2025 03:29:01 AM - INFO - NCIDb: Processed batch 97 of 279\n",
      "29/10/2025 03:29:06 AM - INFO - NCIDb: Processed batch 99 of 279\n",
      "29/10/2025 03:29:12 AM - INFO - NCIDb: Processed batch 101 of 279\n",
      "29/10/2025 03:29:12 AM - INFO - NCIDb: Processed batch 98 of 279\n",
      "29/10/2025 03:29:15 AM - INFO - NCIDb: Processed batch 100 of 279\n",
      "29/10/2025 03:29:20 AM - INFO - NCIDb: Processed batch 104 of 279\n",
      "29/10/2025 03:29:20 AM - INFO - NCIDb: Processed batch 102 of 279\n",
      "29/10/2025 03:29:23 AM - INFO - NCIDb: Processed batch 103 of 279\n",
      "29/10/2025 03:29:28 AM - INFO - NCIDb: Processed batch 107 of 279\n",
      "29/10/2025 03:29:29 AM - INFO - NCIDb: Processed batch 105 of 279\n",
      "29/10/2025 03:29:31 AM - INFO - NCIDb: Processed batch 106 of 279\n",
      "29/10/2025 03:29:34 AM - INFO - NCIDb: Processed batch 109 of 279\n",
      "29/10/2025 03:29:37 AM - INFO - NCIDb: Processed batch 108 of 279\n",
      "29/10/2025 03:29:40 AM - INFO - NCIDb: Processed batch 111 of 279\n",
      "29/10/2025 03:29:42 AM - INFO - NCIDb: Processed batch 112 of 279\n",
      "29/10/2025 03:29:42 AM - INFO - NCIDb: Processed batch 110 of 279\n",
      "29/10/2025 03:29:45 AM - INFO - NCIDb: Processed batch 113 of 279\n",
      "29/10/2025 03:29:51 AM - INFO - NCIDb: Processed batch 115 of 279\n",
      "29/10/2025 03:29:54 AM - INFO - NCIDb: Processed batch 116 of 279\n",
      "29/10/2025 03:29:56 AM - INFO - NCIDb: Processed batch 117 of 279\n",
      "29/10/2025 03:29:56 AM - INFO - NCIDb: Processed batch 114 of 279\n",
      "29/10/2025 03:30:02 AM - INFO - NCIDb: Processed batch 119 of 279\n",
      "29/10/2025 03:30:05 AM - INFO - NCIDb: Processed batch 120 of 279\n",
      "29/10/2025 03:30:05 AM - INFO - NCIDb: Processed batch 118 of 279\n",
      "29/10/2025 03:30:10 AM - INFO - NCIDb: Processed batch 122 of 279\n",
      "29/10/2025 03:30:13 AM - INFO - NCIDb: Processed batch 121 of 279\n",
      "29/10/2025 03:30:16 AM - INFO - NCIDb: Processed batch 124 of 279\n",
      "29/10/2025 03:30:19 AM - INFO - NCIDb: Processed batch 123 of 279\n",
      "29/10/2025 03:30:21 AM - INFO - NCIDb: Processed batch 126 of 279\n",
      "29/10/2025 03:30:24 AM - INFO - NCIDb: Processed batch 127 of 279\n",
      "29/10/2025 03:30:24 AM - INFO - NCIDb: Processed batch 125 of 279\n",
      "29/10/2025 03:30:27 AM - INFO - NCIDb: Processed batch 128 of 279\n",
      "29/10/2025 03:30:30 AM - INFO - NCIDb: Processed batch 129 of 279\n",
      "29/10/2025 03:30:32 AM - INFO - NCIDb: Processed batch 130 of 279\n",
      "29/10/2025 03:30:38 AM - INFO - NCIDb: Processed batch 132 of 279\n",
      "29/10/2025 03:30:41 AM - INFO - NCIDb: Processed batch 133 of 279\n",
      "29/10/2025 03:30:44 AM - INFO - NCIDb: Processed batch 131 of 279\n",
      "29/10/2025 03:30:49 AM - INFO - NCIDb: Processed batch 136 of 279\n",
      "29/10/2025 03:30:49 AM - INFO - NCIDb: Processed batch 134 of 279\n",
      "29/10/2025 03:30:52 AM - INFO - NCIDb: Processed batch 135 of 279\n",
      "29/10/2025 03:30:55 AM - INFO - NCIDb: Processed batch 138 of 279\n",
      "29/10/2025 03:30:55 AM - INFO - NCIDb: Processed batch 137 of 279\n",
      "29/10/2025 03:31:00 AM - INFO - NCIDb: Processed batch 140 of 279\n",
      "29/10/2025 03:31:03 AM - INFO - NCIDb: Processed batch 141 of 279\n",
      "29/10/2025 03:31:06 AM - INFO - NCIDb: Processed batch 142 of 279\n",
      "29/10/2025 03:31:06 AM - INFO - NCIDb: Processed batch 139 of 279\n",
      "29/10/2025 03:31:09 AM - INFO - NCIDb: Processed batch 143 of 279\n",
      "29/10/2025 03:31:14 AM - INFO - NCIDb: Processed batch 145 of 279\n",
      "29/10/2025 03:31:17 AM - INFO - NCIDb: Processed batch 146 of 279\n",
      "29/10/2025 03:31:20 AM - INFO - NCIDb: Processed batch 144 of 279\n",
      "29/10/2025 03:31:22 AM - INFO - NCIDb: Processed batch 148 of 279\n",
      "29/10/2025 03:31:25 AM - INFO - NCIDb: Processed batch 147 of 279\n",
      "29/10/2025 03:31:31 AM - INFO - NCIDb: Processed batch 151 of 279\n",
      "29/10/2025 03:31:31 AM - INFO - NCIDb: Processed batch 149 of 279\n",
      "29/10/2025 03:31:34 AM - INFO - NCIDb: Processed batch 150 of 279\n",
      "29/10/2025 03:31:39 AM - INFO - NCIDb: Processed batch 154 of 279\n",
      "29/10/2025 03:31:39 AM - INFO - NCIDb: Processed batch 152 of 279\n",
      "29/10/2025 03:31:42 AM - INFO - NCIDb: Processed batch 153 of 279\n",
      "29/10/2025 03:31:45 AM - INFO - NCIDb: Processed batch 156 of 279\n",
      "29/10/2025 03:31:47 AM - INFO - NCIDb: Processed batch 157 of 279\n",
      "29/10/2025 03:31:47 AM - INFO - NCIDb: Processed batch 155 of 279\n",
      "29/10/2025 03:31:53 AM - INFO - NCIDb: Processed batch 159 of 279\n",
      "29/10/2025 03:31:56 AM - INFO - NCIDb: Processed batch 160 of 279\n",
      "29/10/2025 03:31:59 AM - INFO - NCIDb: Processed batch 161 of 279\n",
      "29/10/2025 03:31:59 AM - INFO - NCIDb: Processed batch 158 of 279\n",
      "29/10/2025 03:32:02 AM - INFO - NCIDb: Processed batch 162 of 279\n",
      "29/10/2025 03:32:04 AM - INFO - NCIDb: Processed batch 163 of 279\n",
      "29/10/2025 03:32:07 AM - INFO - NCIDb: Processed batch 164 of 279\n",
      "29/10/2025 03:32:10 AM - INFO - NCIDb: Processed batch 165 of 279\n",
      "29/10/2025 03:32:13 AM - INFO - NCIDb: Processed batch 166 of 279\n",
      "29/10/2025 03:32:18 AM - INFO - NCIDb: Processed batch 168 of 279\n",
      "29/10/2025 03:32:24 AM - INFO - NCIDb: Processed batch 170 of 279\n",
      "29/10/2025 03:32:24 AM - INFO - NCIDb: Processed batch 167 of 279\n",
      "29/10/2025 03:32:26 AM - INFO - NCIDb: Processed batch 169 of 279\n",
      "29/10/2025 03:32:29 AM - INFO - NCIDb: Processed batch 172 of 279\n",
      "29/10/2025 03:32:32 AM - INFO - NCIDb: Processed batch 171 of 279\n",
      "29/10/2025 03:32:35 AM - INFO - NCIDb: Processed batch 174 of 279\n",
      "29/10/2025 03:32:37 AM - INFO - NCIDb: Processed batch 175 of 279\n",
      "29/10/2025 03:32:38 AM - INFO - NCIDb: Processed batch 173 of 279\n",
      "29/10/2025 03:32:43 AM - INFO - NCIDb: Processed batch 177 of 279\n",
      "29/10/2025 03:32:46 AM - INFO - NCIDb: Processed batch 178 of 279\n",
      "29/10/2025 03:32:46 AM - INFO - NCIDb: Processed batch 176 of 279\n",
      "29/10/2025 03:32:51 AM - INFO - NCIDb: Processed batch 180 of 279\n",
      "29/10/2025 03:32:54 AM - INFO - NCIDb: Processed batch 181 of 279\n",
      "29/10/2025 03:32:57 AM - INFO - NCIDb: Processed batch 179 of 279\n",
      "29/10/2025 03:33:00 AM - INFO - NCIDb: Processed batch 183 of 279\n",
      "29/10/2025 03:33:03 AM - INFO - NCIDb: Processed batch 182 of 279\n",
      "29/10/2025 03:33:08 AM - INFO - NCIDb: Processed batch 186 of 279\n",
      "29/10/2025 03:33:08 AM - INFO - NCIDb: Processed batch 184 of 279\n",
      "29/10/2025 03:33:11 AM - INFO - NCIDb: Processed batch 187 of 279\n",
      "29/10/2025 03:33:11 AM - INFO - NCIDb: Processed batch 185 of 279\n",
      "29/10/2025 03:33:16 AM - INFO - NCIDb: Processed batch 189 of 279\n",
      "29/10/2025 03:33:19 AM - INFO - NCIDb: Processed batch 190 of 279\n",
      "29/10/2025 03:33:22 AM - INFO - NCIDb: Processed batch 188 of 279\n",
      "29/10/2025 03:33:25 AM - INFO - NCIDb: Processed batch 192 of 279\n",
      "29/10/2025 03:33:28 AM - INFO - NCIDb: Processed batch 193 of 279\n",
      "29/10/2025 03:33:28 AM - INFO - NCIDb: Processed batch 191 of 279\n",
      "29/10/2025 03:33:33 AM - INFO - NCIDb: Processed batch 195 of 279\n",
      "29/10/2025 03:33:39 AM - INFO - NCIDb: Processed batch 197 of 279\n",
      "29/10/2025 03:33:39 AM - INFO - NCIDb: Processed batch 194 of 279\n",
      "29/10/2025 03:33:41 AM - INFO - NCIDb: Processed batch 198 of 279\n",
      "29/10/2025 03:33:41 AM - INFO - NCIDb: Processed batch 196 of 279\n",
      "29/10/2025 03:33:47 AM - INFO - NCIDb: Processed batch 200 of 279\n",
      "29/10/2025 03:33:52 AM - INFO - NCIDb: Processed batch 202 of 279\n",
      "29/10/2025 03:33:53 AM - INFO - NCIDb: Processed batch 199 of 279\n",
      "29/10/2025 03:33:55 AM - INFO - NCIDb: Processed batch 203 of 279\n",
      "29/10/2025 03:33:58 AM - INFO - NCIDb: Processed batch 204 of 279\n",
      "29/10/2025 03:34:04 AM - INFO - NCIDb: Processed batch 206 of 279\n",
      "29/10/2025 03:34:04 AM - INFO - NCIDb: Processed batch 201 of 279\n",
      "29/10/2025 03:34:06 AM - INFO - NCIDb: Processed batch 205 of 279\n",
      "29/10/2025 03:34:12 AM - INFO - NCIDb: Processed batch 209 of 279\n",
      "29/10/2025 03:34:12 AM - INFO - NCIDb: Processed batch 207 of 279\n",
      "29/10/2025 03:34:15 AM - INFO - NCIDb: Processed batch 208 of 279\n",
      "29/10/2025 03:34:18 AM - INFO - NCIDb: Processed batch 211 of 279\n",
      "29/10/2025 03:34:20 AM - INFO - NCIDb: Processed batch 210 of 279\n",
      "29/10/2025 03:34:23 AM - INFO - NCIDb: Processed batch 213 of 279\n",
      "29/10/2025 03:34:26 AM - INFO - NCIDb: Processed batch 212 of 279\n",
      "29/10/2025 03:34:31 AM - INFO - NCIDb: Processed batch 216 of 279\n",
      "29/10/2025 03:34:31 AM - INFO - NCIDb: Processed batch 214 of 279\n",
      "29/10/2025 03:34:34 AM - INFO - NCIDb: Processed batch 217 of 279\n",
      "29/10/2025 03:34:34 AM - INFO - NCIDb: Processed batch 215 of 279\n",
      "29/10/2025 03:34:37 AM - INFO - NCIDb: Processed batch 218 of 279\n",
      "29/10/2025 03:34:40 AM - INFO - NCIDb: Processed batch 219 of 279\n",
      "29/10/2025 03:34:43 AM - INFO - NCIDb: Processed batch 220 of 279\n",
      "29/10/2025 03:34:45 AM - INFO - NCIDb: Processed batch 221 of 279\n",
      "29/10/2025 03:34:48 AM - INFO - NCIDb: Processed batch 222 of 279\n",
      "29/10/2025 03:34:54 AM - INFO - NCIDb: Processed batch 224 of 279\n",
      "29/10/2025 03:34:59 AM - INFO - NCIDb: Processed batch 226 of 279\n",
      "29/10/2025 03:34:59 AM - INFO - NCIDb: Processed batch 223 of 279\n",
      "29/10/2025 03:35:02 AM - INFO - NCIDb: Processed batch 225 of 279\n",
      "29/10/2025 03:35:05 AM - INFO - NCIDb: Processed batch 228 of 279\n",
      "29/10/2025 03:35:05 AM - INFO - NCIDb: Processed batch 227 of 279\n",
      "29/10/2025 03:35:10 AM - INFO - NCIDb: Processed batch 230 of 279\n",
      "29/10/2025 03:35:13 AM - INFO - NCIDb: Processed batch 231 of 279\n",
      "29/10/2025 03:35:13 AM - INFO - NCIDb: Processed batch 229 of 279\n",
      "29/10/2025 03:35:16 AM - INFO - NCIDb: Processed batch 232 of 279\n",
      "29/10/2025 03:35:19 AM - INFO - NCIDb: Processed batch 233 of 279\n",
      "29/10/2025 03:35:22 AM - INFO - NCIDb: Processed batch 234 of 279\n",
      "29/10/2025 03:35:27 AM - INFO - NCIDb: Processed batch 236 of 279\n",
      "29/10/2025 03:35:33 AM - INFO - NCIDb: Processed batch 238 of 279\n",
      "29/10/2025 03:35:33 AM - INFO - NCIDb: Processed batch 235 of 279\n",
      "29/10/2025 03:35:35 AM - INFO - NCIDb: Processed batch 237 of 279\n",
      "29/10/2025 03:35:38 AM - INFO - NCIDb: Processed batch 240 of 279\n",
      "29/10/2025 03:35:41 AM - INFO - NCIDb: Processed batch 241 of 279\n",
      "29/10/2025 03:35:41 AM - INFO - NCIDb: Processed batch 239 of 279\n",
      "29/10/2025 03:35:44 AM - INFO - NCIDb: Processed batch 242 of 279\n",
      "29/10/2025 03:35:46 AM - INFO - NCIDb: Processed batch 243 of 279\n",
      "29/10/2025 03:35:52 AM - INFO - NCIDb: Processed batch 245 of 279\n",
      "29/10/2025 03:35:55 AM - INFO - NCIDb: Processed batch 246 of 279\n",
      "29/10/2025 03:35:58 AM - INFO - NCIDb: Processed batch 247 of 279\n",
      "29/10/2025 03:35:58 AM - INFO - NCIDb: Processed batch 244 of 279\n",
      "29/10/2025 03:36:03 AM - INFO - NCIDb: Processed batch 249 of 279\n",
      "29/10/2025 03:36:09 AM - INFO - NCIDb: Processed batch 251 of 279\n",
      "29/10/2025 03:36:09 AM - INFO - NCIDb: Processed batch 248 of 279\n",
      "29/10/2025 03:36:12 AM - INFO - NCIDb: Processed batch 250 of 279\n",
      "29/10/2025 03:36:14 AM - INFO - NCIDb: Processed batch 252 of 279\n",
      "29/10/2025 03:36:20 AM - INFO - NCIDb: Processed batch 255 of 279\n",
      "29/10/2025 03:36:20 AM - INFO - NCIDb: Processed batch 253 of 279\n",
      "29/10/2025 03:36:23 AM - INFO - NCIDb: Processed batch 256 of 279\n",
      "29/10/2025 03:36:23 AM - INFO - NCIDb: Processed batch 254 of 279\n",
      "29/10/2025 03:36:28 AM - INFO - NCIDb: Processed batch 258 of 279\n",
      "29/10/2025 03:36:31 AM - INFO - NCIDb: Processed batch 259 of 279\n",
      "29/10/2025 03:36:31 AM - INFO - NCIDb: Processed batch 257 of 279\n",
      "29/10/2025 03:36:37 AM - INFO - NCIDb: Processed batch 261 of 279\n",
      "29/10/2025 03:36:39 AM - INFO - NCIDb: Processed batch 262 of 279\n",
      "29/10/2025 03:36:42 AM - INFO - NCIDb: Processed batch 263 of 279\n",
      "29/10/2025 03:36:42 AM - INFO - NCIDb: Processed batch 260 of 279\n",
      "29/10/2025 03:36:48 AM - INFO - NCIDb: Processed batch 265 of 279\n",
      "29/10/2025 03:36:50 AM - INFO - NCIDb: Processed batch 266 of 279\n",
      "29/10/2025 03:36:53 AM - INFO - NCIDb: Processed batch 267 of 279\n",
      "29/10/2025 03:36:53 AM - INFO - NCIDb: Processed batch 264 of 279\n",
      "29/10/2025 03:36:56 AM - INFO - NCIDb: Processed batch 268 of 279\n",
      "29/10/2025 03:37:02 AM - INFO - NCIDb: Processed batch 270 of 279\n",
      "29/10/2025 03:37:04 AM - INFO - NCIDb: Processed batch 271 of 279\n",
      "29/10/2025 03:37:07 AM - INFO - NCIDb: Processed batch 269 of 279\n",
      "29/10/2025 03:37:13 AM - INFO - NCIDb: Processed batch 274 of 279\n",
      "29/10/2025 03:37:13 AM - INFO - NCIDb: Processed batch 272 of 279\n",
      "29/10/2025 03:37:15 AM - INFO - NCIDb: Processed batch 273 of 279\n",
      "29/10/2025 03:37:18 AM - INFO - NCIDb: Processed batch 276 of 279\n",
      "29/10/2025 03:37:18 AM - INFO - NCIDb: Processed batch 275 of 279\n",
      "29/10/2025 03:37:21 AM - INFO - NCIDb: Processed batch 277 of 279\n",
      "29/10/2025 03:37:24 AM - INFO - NCIDb: Processed batch 278 of 279\n",
      "29/10/2025 03:37:25 AM - INFO - NCIDb: Processed batch 279 of 279\n",
      "29/10/2025 03:37:25 AM - INFO - NCIDb: Retrieved 13846 concept data entries\n",
      "29/10/2025 03:37:25 AM - INFO - FAISSSQLiteSearch: Retrieved 13846 concept data entries\n"
     ]
    },
    {
     "name": "stderr",
     "output_type": "stream",
     "text": [
      "Building context and records: 100%|██████████| 13924/13924 [00:01<00:00, 12066.97it/s]"
     ]
    },
    {
     "name": "stdout",
     "output_type": "stream",
     "text": [
      "29/10/2025 03:37:26 AM - INFO - FAISSSQLiteSearch: Inserting 13846 records into SQLite\n"
     ]
    },
    {
     "name": "stderr",
     "output_type": "stream",
     "text": [
      "\n"
     ]
    },
    {
     "name": "stdout",
     "output_type": "stream",
     "text": [
      "29/10/2025 03:37:27 AM - INFO - FAISSSQLiteSearch: Starting vector embedding and FAISS index insertion\n"
     ]
    },
    {
     "name": "stderr",
     "output_type": "stream",
     "text": []
    },
    {
     "data": {
      "application/vnd.jupyter.widget-view+json": {
       "model_id": "5bd9fabe76e5420aba1b28dc82f3d300",
       "version_major": 2,
       "version_minor": 0
      },
      "text/plain": [
       "Batches:   0%|          | 0/32 [00:00<?, ?it/s]"
      ]
     },
     "metadata": {},
     "output_type": "display_data"
    },
    {
     "name": "stderr",
     "output_type": "stream",
     "text": [
      "/home/lcc/miniconda3/envs/demo_env/lib/python3.10/site-packages/torch/nn/modules/module.py:1762: FutureWarning: `encoder_attention_mask` is deprecated and will be removed in version 4.55.0 for `BertSdpaSelfAttention.forward`.\n",
      "  return forward_call(*args, **kwargs)\n"
     ]
    },
    {
     "data": {
      "application/vnd.jupyter.widget-view+json": {
       "model_id": "75aa3d2a9f394b2390490e0972b7675c",
       "version_major": 2,
       "version_minor": 0
      },
      "text/plain": [
       "Batches:   0%|          | 0/32 [00:00<?, ?it/s]"
      ]
     },
     "metadata": {},
     "output_type": "display_data"
    },
    {
     "name": "stderr",
     "output_type": "stream",
     "text": []
    },
    {
     "data": {
      "application/vnd.jupyter.widget-view+json": {
       "model_id": "aab8b0ec050044b99aef63c3fb15f61d",
       "version_major": 2,
       "version_minor": 0
      },
      "text/plain": [
       "Batches:   0%|          | 0/32 [00:00<?, ?it/s]"
      ]
     },
     "metadata": {},
     "output_type": "display_data"
    },
    {
     "name": "stderr",
     "output_type": "stream",
     "text": []
    },
    {
     "data": {
      "application/vnd.jupyter.widget-view+json": {
       "model_id": "98fd3e7057534e0290100d91ae10f32f",
       "version_major": 2,
       "version_minor": 0
      },
      "text/plain": [
       "Batches:   0%|          | 0/32 [00:00<?, ?it/s]"
      ]
     },
     "metadata": {},
     "output_type": "display_data"
    },
    {
     "name": "stderr",
     "output_type": "stream",
     "text": []
    },
    {
     "data": {
      "application/vnd.jupyter.widget-view+json": {
       "model_id": "fcdf89342a79483d833f1795af2a0108",
       "version_major": 2,
       "version_minor": 0
      },
      "text/plain": [
       "Batches:   0%|          | 0/32 [00:00<?, ?it/s]"
      ]
     },
     "metadata": {},
     "output_type": "display_data"
    },
    {
     "name": "stderr",
     "output_type": "stream",
     "text": []
    },
    {
     "data": {
      "application/vnd.jupyter.widget-view+json": {
       "model_id": "aabd75c59f3a47e292a1d4df173dbdb8",
       "version_major": 2,
       "version_minor": 0
      },
      "text/plain": [
       "Batches:   0%|          | 0/32 [00:00<?, ?it/s]"
      ]
     },
     "metadata": {},
     "output_type": "display_data"
    },
    {
     "name": "stderr",
     "output_type": "stream",
     "text": []
    },
    {
     "data": {
      "application/vnd.jupyter.widget-view+json": {
       "model_id": "f7c042f9fb834d8b8b5685bff043aff6",
       "version_major": 2,
       "version_minor": 0
      },
      "text/plain": [
       "Batches:   0%|          | 0/32 [00:00<?, ?it/s]"
      ]
     },
     "metadata": {},
     "output_type": "display_data"
    },
    {
     "name": "stderr",
     "output_type": "stream",
     "text": []
    },
    {
     "data": {
      "application/vnd.jupyter.widget-view+json": {
       "model_id": "96ac5323e3814459897ba6a422c3c099",
       "version_major": 2,
       "version_minor": 0
      },
      "text/plain": [
       "Batches:   0%|          | 0/32 [00:00<?, ?it/s]"
      ]
     },
     "metadata": {},
     "output_type": "display_data"
    },
    {
     "name": "stderr",
     "output_type": "stream",
     "text": []
    },
    {
     "data": {
      "application/vnd.jupyter.widget-view+json": {
       "model_id": "bbce6916a36a41108b9eed1e77a84c86",
       "version_major": 2,
       "version_minor": 0
      },
      "text/plain": [
       "Batches:   0%|          | 0/32 [00:00<?, ?it/s]"
      ]
     },
     "metadata": {},
     "output_type": "display_data"
    },
    {
     "name": "stderr",
     "output_type": "stream",
     "text": []
    },
    {
     "data": {
      "application/vnd.jupyter.widget-view+json": {
       "model_id": "81ed992912ed42818b2cea50be3027c9",
       "version_major": 2,
       "version_minor": 0
      },
      "text/plain": [
       "Batches:   0%|          | 0/32 [00:00<?, ?it/s]"
      ]
     },
     "metadata": {},
     "output_type": "display_data"
    },
    {
     "name": "stderr",
     "output_type": "stream",
     "text": []
    },
    {
     "data": {
      "application/vnd.jupyter.widget-view+json": {
       "model_id": "c0a461fe7e3c45cda21dbd4cf7ed91bb",
       "version_major": 2,
       "version_minor": 0
      },
      "text/plain": [
       "Batches:   0%|          | 0/32 [00:00<?, ?it/s]"
      ]
     },
     "metadata": {},
     "output_type": "display_data"
    },
    {
     "name": "stderr",
     "output_type": "stream",
     "text": []
    },
    {
     "data": {
      "application/vnd.jupyter.widget-view+json": {
       "model_id": "c8b1da5417ba4916b2aa5b202f0ba875",
       "version_major": 2,
       "version_minor": 0
      },
      "text/plain": [
       "Batches:   0%|          | 0/32 [00:00<?, ?it/s]"
      ]
     },
     "metadata": {},
     "output_type": "display_data"
    },
    {
     "name": "stderr",
     "output_type": "stream",
     "text": []
    },
    {
     "data": {
      "application/vnd.jupyter.widget-view+json": {
       "model_id": "d25f240145bb4c2ea781594280105bff",
       "version_major": 2,
       "version_minor": 0
      },
      "text/plain": [
       "Batches:   0%|          | 0/32 [00:00<?, ?it/s]"
      ]
     },
     "metadata": {},
     "output_type": "display_data"
    },
    {
     "name": "stderr",
     "output_type": "stream",
     "text": []
    },
    {
     "data": {
      "application/vnd.jupyter.widget-view+json": {
       "model_id": "3c12ea97736a4878a0992e8b7b0d2077",
       "version_major": 2,
       "version_minor": 0
      },
      "text/plain": [
       "Batches:   0%|          | 0/32 [00:00<?, ?it/s]"
      ]
     },
     "metadata": {},
     "output_type": "display_data"
    },
    {
     "name": "stderr",
     "output_type": "stream",
     "text": []
    },
    {
     "data": {
      "application/vnd.jupyter.widget-view+json": {
       "model_id": "81bac343f742401593ecedd439a07afe",
       "version_major": 2,
       "version_minor": 0
      },
      "text/plain": [
       "Batches:   0%|          | 0/32 [00:00<?, ?it/s]"
      ]
     },
     "metadata": {},
     "output_type": "display_data"
    },
    {
     "name": "stderr",
     "output_type": "stream",
     "text": []
    },
    {
     "data": {
      "application/vnd.jupyter.widget-view+json": {
       "model_id": "8bce90e291204b9a945afac41dd8b197",
       "version_major": 2,
       "version_minor": 0
      },
      "text/plain": [
       "Batches:   0%|          | 0/32 [00:00<?, ?it/s]"
      ]
     },
     "metadata": {},
     "output_type": "display_data"
    },
    {
     "name": "stderr",
     "output_type": "stream",
     "text": []
    },
    {
     "data": {
      "application/vnd.jupyter.widget-view+json": {
       "model_id": "b2f9805aca2d4914a4efea3f8db209c4",
       "version_major": 2,
       "version_minor": 0
      },
      "text/plain": [
       "Batches:   0%|          | 0/32 [00:00<?, ?it/s]"
      ]
     },
     "metadata": {},
     "output_type": "display_data"
    },
    {
     "name": "stderr",
     "output_type": "stream",
     "text": []
    },
    {
     "data": {
      "application/vnd.jupyter.widget-view+json": {
       "model_id": "56724eba87264781af4656c2a9af50b2",
       "version_major": 2,
       "version_minor": 0
      },
      "text/plain": [
       "Batches:   0%|          | 0/32 [00:00<?, ?it/s]"
      ]
     },
     "metadata": {},
     "output_type": "display_data"
    },
    {
     "name": "stderr",
     "output_type": "stream",
     "text": []
    },
    {
     "data": {
      "application/vnd.jupyter.widget-view+json": {
       "model_id": "1af5df149a914807b40e8c2ee6509298",
       "version_major": 2,
       "version_minor": 0
      },
      "text/plain": [
       "Batches:   0%|          | 0/32 [00:00<?, ?it/s]"
      ]
     },
     "metadata": {},
     "output_type": "display_data"
    },
    {
     "name": "stderr",
     "output_type": "stream",
     "text": []
    },
    {
     "data": {
      "application/vnd.jupyter.widget-view+json": {
       "model_id": "0f3213cb352245c2a7d91ba60494e9b4",
       "version_major": 2,
       "version_minor": 0
      },
      "text/plain": [
       "Batches:   0%|          | 0/32 [00:00<?, ?it/s]"
      ]
     },
     "metadata": {},
     "output_type": "display_data"
    },
    {
     "name": "stderr",
     "output_type": "stream",
     "text": []
    },
    {
     "data": {
      "application/vnd.jupyter.widget-view+json": {
       "model_id": "32b5998fcf994619aa02bac2d3d8d61a",
       "version_major": 2,
       "version_minor": 0
      },
      "text/plain": [
       "Batches:   0%|          | 0/32 [00:00<?, ?it/s]"
      ]
     },
     "metadata": {},
     "output_type": "display_data"
    },
    {
     "name": "stderr",
     "output_type": "stream",
     "text": []
    },
    {
     "data": {
      "application/vnd.jupyter.widget-view+json": {
       "model_id": "035d772d845b4c8ca8284ef80baa60e9",
       "version_major": 2,
       "version_minor": 0
      },
      "text/plain": [
       "Batches:   0%|          | 0/32 [00:00<?, ?it/s]"
      ]
     },
     "metadata": {},
     "output_type": "display_data"
    },
    {
     "name": "stderr",
     "output_type": "stream",
     "text": []
    },
    {
     "data": {
      "application/vnd.jupyter.widget-view+json": {
       "model_id": "2a26772bf98c421b8c19e28640151342",
       "version_major": 2,
       "version_minor": 0
      },
      "text/plain": [
       "Batches:   0%|          | 0/32 [00:00<?, ?it/s]"
      ]
     },
     "metadata": {},
     "output_type": "display_data"
    },
    {
     "name": "stderr",
     "output_type": "stream",
     "text": []
    },
    {
     "data": {
      "application/vnd.jupyter.widget-view+json": {
       "model_id": "09c3c5e4f76a4148b10ea902964b0477",
       "version_major": 2,
       "version_minor": 0
      },
      "text/plain": [
       "Batches:   0%|          | 0/32 [00:00<?, ?it/s]"
      ]
     },
     "metadata": {},
     "output_type": "display_data"
    },
    {
     "name": "stderr",
     "output_type": "stream",
     "text": []
    },
    {
     "data": {
      "application/vnd.jupyter.widget-view+json": {
       "model_id": "2873c39a3c4e4add91104f7d19b1bbef",
       "version_major": 2,
       "version_minor": 0
      },
      "text/plain": [
       "Batches:   0%|          | 0/32 [00:00<?, ?it/s]"
      ]
     },
     "metadata": {},
     "output_type": "display_data"
    },
    {
     "name": "stderr",
     "output_type": "stream",
     "text": []
    },
    {
     "data": {
      "application/vnd.jupyter.widget-view+json": {
       "model_id": "709c63c73f2149d08fe5b2eaa14824c7",
       "version_major": 2,
       "version_minor": 0
      },
      "text/plain": [
       "Batches:   0%|          | 0/32 [00:00<?, ?it/s]"
      ]
     },
     "metadata": {},
     "output_type": "display_data"
    },
    {
     "name": "stderr",
     "output_type": "stream",
     "text": []
    },
    {
     "data": {
      "application/vnd.jupyter.widget-view+json": {
       "model_id": "62ba938c59694fb39f569041bd3195ff",
       "version_major": 2,
       "version_minor": 0
      },
      "text/plain": [
       "Batches:   0%|          | 0/32 [00:00<?, ?it/s]"
      ]
     },
     "metadata": {},
     "output_type": "display_data"
    },
    {
     "name": "stderr",
     "output_type": "stream",
     "text": []
    },
    {
     "data": {
      "application/vnd.jupyter.widget-view+json": {
       "model_id": "adcfba1799d34e059d9985266d375afa",
       "version_major": 2,
       "version_minor": 0
      },
      "text/plain": [
       "Batches:   0%|          | 0/2 [00:00<?, ?it/s]"
      ]
     },
     "metadata": {},
     "output_type": "display_data"
    },
    {
     "name": "stderr",
     "output_type": "stream",
     "text": [
      "Embedding batches: 100%|██████████| 28/28 [01:31<00:00,  3.25s/it]"
     ]
    },
    {
     "name": "stdout",
     "output_type": "stream",
     "text": [
      "29/10/2025 03:38:58 AM - INFO - FAISSSQLiteSearch: Finished fetching and storing all terms.\n",
      "29/10/2025 03:38:58 AM - INFO - OntoMapBIE: True - Vector store initialized for method=pubmed-bert, category=disease, om_strategy=rag_bie\n"
     ]
    },
    {
     "name": "stderr",
     "output_type": "stream",
     "text": [
      "\n"
     ]
    },
    {
     "data": {
      "application/vnd.jupyter.widget-view+json": {
       "model_id": "b8f1a774bc2441d4a96832e8b9c1fc0f",
       "version_major": 2,
       "version_minor": 0
      },
      "text/plain": [
       "Batches:   0%|          | 0/1 [00:00<?, ?it/s]"
      ]
     },
     "metadata": {},
     "output_type": "display_data"
    },
    {
     "name": "stderr",
     "output_type": "stream",
     "text": [
      "Processing queries (Bi-Encoder):   0%|          | 1/214 [15:08<53:45:31, 908.60s/it]"
     ]
    },
    {
     "data": {
      "application/vnd.jupyter.widget-view+json": {
       "model_id": "8bac922ed17c4267b4d30a9cf4a12273",
       "version_major": 2,
       "version_minor": 0
      },
      "text/plain": [
       "Batches:   0%|          | 0/1 [00:00<?, ?it/s]"
      ]
     },
     "metadata": {},
     "output_type": "display_data"
    },
    {
     "data": {
      "application/vnd.jupyter.widget-view+json": {
       "model_id": "d47bbbf36407439c810d7db1b397ae99",
       "version_major": 2,
       "version_minor": 0
      },
      "text/plain": [
       "Batches:   0%|          | 0/1 [00:00<?, ?it/s]"
      ]
     },
     "metadata": {},
     "output_type": "display_data"
    },
    {
     "data": {
      "application/vnd.jupyter.widget-view+json": {
       "model_id": "924489ec459b4074b158ed384db5d778",
       "version_major": 2,
       "version_minor": 0
      },
      "text/plain": [
       "Batches:   0%|          | 0/1 [00:00<?, ?it/s]"
      ]
     },
     "metadata": {},
     "output_type": "display_data"
    },
    {
     "data": {
      "application/vnd.jupyter.widget-view+json": {
       "model_id": "76480bb134534ef7861ce1ebe6fff1a4",
       "version_major": 2,
       "version_minor": 0
      },
      "text/plain": [
       "Batches:   0%|          | 0/1 [00:00<?, ?it/s]"
      ]
     },
     "metadata": {},
     "output_type": "display_data"
    },
    {
     "name": "stderr",
     "output_type": "stream",
     "text": [
      "Processing queries (Bi-Encoder):   2%|▏         | 5/214 [15:08<7:51:28, 135.35s/it] "
     ]
    },
    {
     "data": {
      "application/vnd.jupyter.widget-view+json": {
       "model_id": "8a93525c18864464a67734e9397e27bd",
       "version_major": 2,
       "version_minor": 0
      },
      "text/plain": [
       "Batches:   0%|          | 0/1 [00:00<?, ?it/s]"
      ]
     },
     "metadata": {},
     "output_type": "display_data"
    },
    {
     "data": {
      "application/vnd.jupyter.widget-view+json": {
       "model_id": "d57cb4f9d968419b944c94178b20de00",
       "version_major": 2,
       "version_minor": 0
      },
      "text/plain": [
       "Batches:   0%|          | 0/1 [00:00<?, ?it/s]"
      ]
     },
     "metadata": {},
     "output_type": "display_data"
    },
    {
     "data": {
      "application/vnd.jupyter.widget-view+json": {
       "model_id": "53319906ce5146aa93649485f3960840",
       "version_major": 2,
       "version_minor": 0
      },
      "text/plain": [
       "Batches:   0%|          | 0/1 [00:00<?, ?it/s]"
      ]
     },
     "metadata": {},
     "output_type": "display_data"
    },
    {
     "data": {
      "application/vnd.jupyter.widget-view+json": {
       "model_id": "2d8dba085dcc4dc29aa05750c4cbd087",
       "version_major": 2,
       "version_minor": 0
      },
      "text/plain": [
       "Batches:   0%|          | 0/1 [00:00<?, ?it/s]"
      ]
     },
     "metadata": {},
     "output_type": "display_data"
    },
    {
     "name": "stderr",
     "output_type": "stream",
     "text": [
      "Processing queries (Bi-Encoder):   4%|▍         | 9/214 [15:08<3:28:45, 61.10s/it] "
     ]
    },
    {
     "data": {
      "application/vnd.jupyter.widget-view+json": {
       "model_id": "39b182e310f3458897762b97af01b29a",
       "version_major": 2,
       "version_minor": 0
      },
      "text/plain": [
       "Batches:   0%|          | 0/1 [00:00<?, ?it/s]"
      ]
     },
     "metadata": {},
     "output_type": "display_data"
    },
    {
     "data": {
      "application/vnd.jupyter.widget-view+json": {
       "model_id": "adae9acaf30441ada3420681bcbc188d",
       "version_major": 2,
       "version_minor": 0
      },
      "text/plain": [
       "Batches:   0%|          | 0/1 [00:00<?, ?it/s]"
      ]
     },
     "metadata": {},
     "output_type": "display_data"
    },
    {
     "data": {
      "application/vnd.jupyter.widget-view+json": {
       "model_id": "c5d36e35084c43799c1017c16ddc8983",
       "version_major": 2,
       "version_minor": 0
      },
      "text/plain": [
       "Batches:   0%|          | 0/1 [00:00<?, ?it/s]"
      ]
     },
     "metadata": {},
     "output_type": "display_data"
    },
    {
     "data": {
      "application/vnd.jupyter.widget-view+json": {
       "model_id": "2f575a38b1ca4a8d92aa25f554b025d6",
       "version_major": 2,
       "version_minor": 0
      },
      "text/plain": [
       "Batches:   0%|          | 0/1 [00:00<?, ?it/s]"
      ]
     },
     "metadata": {},
     "output_type": "display_data"
    },
    {
     "name": "stderr",
     "output_type": "stream",
     "text": [
      "Processing queries (Bi-Encoder):   6%|▌         | 13/214 [15:08<1:54:47, 34.27s/it]"
     ]
    },
    {
     "data": {
      "application/vnd.jupyter.widget-view+json": {
       "model_id": "d715fe99c122417fa2eb08b6048f0c49",
       "version_major": 2,
       "version_minor": 0
      },
      "text/plain": [
       "Batches:   0%|          | 0/1 [00:00<?, ?it/s]"
      ]
     },
     "metadata": {},
     "output_type": "display_data"
    },
    {
     "data": {
      "application/vnd.jupyter.widget-view+json": {
       "model_id": "bec6abd6a9674794b56a7f8e7da9c95d",
       "version_major": 2,
       "version_minor": 0
      },
      "text/plain": [
       "Batches:   0%|          | 0/1 [00:00<?, ?it/s]"
      ]
     },
     "metadata": {},
     "output_type": "display_data"
    },
    {
     "data": {
      "application/vnd.jupyter.widget-view+json": {
       "model_id": "c7c829713b8d4938ad71a4d2521d37f6",
       "version_major": 2,
       "version_minor": 0
      },
      "text/plain": [
       "Batches:   0%|          | 0/1 [00:00<?, ?it/s]"
      ]
     },
     "metadata": {},
     "output_type": "display_data"
    },
    {
     "data": {
      "application/vnd.jupyter.widget-view+json": {
       "model_id": "5235d9f0394c4e94bd241a64a7e6d879",
       "version_major": 2,
       "version_minor": 0
      },
      "text/plain": [
       "Batches:   0%|          | 0/1 [00:00<?, ?it/s]"
      ]
     },
     "metadata": {},
     "output_type": "display_data"
    },
    {
     "name": "stderr",
     "output_type": "stream",
     "text": [
      "Processing queries (Bi-Encoder):   8%|▊         | 17/214 [15:09<1:09:09, 21.06s/it]"
     ]
    },
    {
     "data": {
      "application/vnd.jupyter.widget-view+json": {
       "model_id": "6aff8f12e20a4bd7ab5dbb4224e20f0b",
       "version_major": 2,
       "version_minor": 0
      },
      "text/plain": [
       "Batches:   0%|          | 0/1 [00:00<?, ?it/s]"
      ]
     },
     "metadata": {},
     "output_type": "display_data"
    },
    {
     "data": {
      "application/vnd.jupyter.widget-view+json": {
       "model_id": "f990a03aeafd4c3db7882b2bee2b77a6",
       "version_major": 2,
       "version_minor": 0
      },
      "text/plain": [
       "Batches:   0%|          | 0/1 [00:00<?, ?it/s]"
      ]
     },
     "metadata": {},
     "output_type": "display_data"
    },
    {
     "data": {
      "application/vnd.jupyter.widget-view+json": {
       "model_id": "98ef8bbcce4e4904b44d830d9184192b",
       "version_major": 2,
       "version_minor": 0
      },
      "text/plain": [
       "Batches:   0%|          | 0/1 [00:00<?, ?it/s]"
      ]
     },
     "metadata": {},
     "output_type": "display_data"
    },
    {
     "data": {
      "application/vnd.jupyter.widget-view+json": {
       "model_id": "2e9290f2f9194a0fa08c92dd73a36e07",
       "version_major": 2,
       "version_minor": 0
      },
      "text/plain": [
       "Batches:   0%|          | 0/1 [00:00<?, ?it/s]"
      ]
     },
     "metadata": {},
     "output_type": "display_data"
    },
    {
     "name": "stderr",
     "output_type": "stream",
     "text": [
      "Processing queries (Bi-Encoder):  10%|▉         | 21/214 [15:09<43:43, 13.59s/it]  "
     ]
    },
    {
     "data": {
      "application/vnd.jupyter.widget-view+json": {
       "model_id": "cd33a488c9594cfd86298ab75766df32",
       "version_major": 2,
       "version_minor": 0
      },
      "text/plain": [
       "Batches:   0%|          | 0/1 [00:00<?, ?it/s]"
      ]
     },
     "metadata": {},
     "output_type": "display_data"
    },
    {
     "data": {
      "application/vnd.jupyter.widget-view+json": {
       "model_id": "dd3e549f948f4318852326b3419999dc",
       "version_major": 2,
       "version_minor": 0
      },
      "text/plain": [
       "Batches:   0%|          | 0/1 [00:00<?, ?it/s]"
      ]
     },
     "metadata": {},
     "output_type": "display_data"
    },
    {
     "data": {
      "application/vnd.jupyter.widget-view+json": {
       "model_id": "2422c1a36bb3473e87b8998754ae517a",
       "version_major": 2,
       "version_minor": 0
      },
      "text/plain": [
       "Batches:   0%|          | 0/1 [00:00<?, ?it/s]"
      ]
     },
     "metadata": {},
     "output_type": "display_data"
    },
    {
     "data": {
      "application/vnd.jupyter.widget-view+json": {
       "model_id": "94bd33198031456aa11309afc9f0cc4e",
       "version_major": 2,
       "version_minor": 0
      },
      "text/plain": [
       "Batches:   0%|          | 0/1 [00:00<?, ?it/s]"
      ]
     },
     "metadata": {},
     "output_type": "display_data"
    },
    {
     "name": "stderr",
     "output_type": "stream",
     "text": [
      "Processing queries (Bi-Encoder):  12%|█▏        | 25/214 [15:09<28:25,  9.03s/it]"
     ]
    },
    {
     "data": {
      "application/vnd.jupyter.widget-view+json": {
       "model_id": "a012cd413ce24e8c9128e5dc3ffbfbc0",
       "version_major": 2,
       "version_minor": 0
      },
      "text/plain": [
       "Batches:   0%|          | 0/1 [00:00<?, ?it/s]"
      ]
     },
     "metadata": {},
     "output_type": "display_data"
    },
    {
     "data": {
      "application/vnd.jupyter.widget-view+json": {
       "model_id": "7ec9928276c34caab8d709948338f65d",
       "version_major": 2,
       "version_minor": 0
      },
      "text/plain": [
       "Batches:   0%|          | 0/1 [00:00<?, ?it/s]"
      ]
     },
     "metadata": {},
     "output_type": "display_data"
    },
    {
     "data": {
      "application/vnd.jupyter.widget-view+json": {
       "model_id": "a0e66bc803784553a483ec49e658ff63",
       "version_major": 2,
       "version_minor": 0
      },
      "text/plain": [
       "Batches:   0%|          | 0/1 [00:00<?, ?it/s]"
      ]
     },
     "metadata": {},
     "output_type": "display_data"
    },
    {
     "data": {
      "application/vnd.jupyter.widget-view+json": {
       "model_id": "3fd2b8d70b3a4dea960d44067557af2d",
       "version_major": 2,
       "version_minor": 0
      },
      "text/plain": [
       "Batches:   0%|          | 0/1 [00:00<?, ?it/s]"
      ]
     },
     "metadata": {},
     "output_type": "display_data"
    },
    {
     "name": "stderr",
     "output_type": "stream",
     "text": [
      "Processing queries (Bi-Encoder):  14%|█▎        | 29/214 [15:09<18:49,  6.11s/it]"
     ]
    },
    {
     "data": {
      "application/vnd.jupyter.widget-view+json": {
       "model_id": "669df89b516743f9ad3a33d2d6804650",
       "version_major": 2,
       "version_minor": 0
      },
      "text/plain": [
       "Batches:   0%|          | 0/1 [00:00<?, ?it/s]"
      ]
     },
     "metadata": {},
     "output_type": "display_data"
    },
    {
     "data": {
      "application/vnd.jupyter.widget-view+json": {
       "model_id": "a2044dfada664c609429db4bb82a49dc",
       "version_major": 2,
       "version_minor": 0
      },
      "text/plain": [
       "Batches:   0%|          | 0/1 [00:00<?, ?it/s]"
      ]
     },
     "metadata": {},
     "output_type": "display_data"
    },
    {
     "data": {
      "application/vnd.jupyter.widget-view+json": {
       "model_id": "ee5ea085e3e74e4dbaf988d08a49a816",
       "version_major": 2,
       "version_minor": 0
      },
      "text/plain": [
       "Batches:   0%|          | 0/1 [00:00<?, ?it/s]"
      ]
     },
     "metadata": {},
     "output_type": "display_data"
    },
    {
     "data": {
      "application/vnd.jupyter.widget-view+json": {
       "model_id": "616c553695bb4dd99d560eed49624aad",
       "version_major": 2,
       "version_minor": 0
      },
      "text/plain": [
       "Batches:   0%|          | 0/1 [00:00<?, ?it/s]"
      ]
     },
     "metadata": {},
     "output_type": "display_data"
    },
    {
     "name": "stderr",
     "output_type": "stream",
     "text": [
      "Processing queries (Bi-Encoder):  15%|█▌        | 33/214 [15:09<12:36,  4.18s/it]"
     ]
    },
    {
     "data": {
      "application/vnd.jupyter.widget-view+json": {
       "model_id": "6fb0f3baaeb74b88afdeeff5d4465122",
       "version_major": 2,
       "version_minor": 0
      },
      "text/plain": [
       "Batches:   0%|          | 0/1 [00:00<?, ?it/s]"
      ]
     },
     "metadata": {},
     "output_type": "display_data"
    },
    {
     "data": {
      "application/vnd.jupyter.widget-view+json": {
       "model_id": "c9c5c9365476472f97fb2b7699649b74",
       "version_major": 2,
       "version_minor": 0
      },
      "text/plain": [
       "Batches:   0%|          | 0/1 [00:00<?, ?it/s]"
      ]
     },
     "metadata": {},
     "output_type": "display_data"
    },
    {
     "data": {
      "application/vnd.jupyter.widget-view+json": {
       "model_id": "5a4e418583834b2a91fea8ab08c4dd80",
       "version_major": 2,
       "version_minor": 0
      },
      "text/plain": [
       "Batches:   0%|          | 0/1 [00:00<?, ?it/s]"
      ]
     },
     "metadata": {},
     "output_type": "display_data"
    },
    {
     "data": {
      "application/vnd.jupyter.widget-view+json": {
       "model_id": "2386da810f54411ebeaddebe417802d3",
       "version_major": 2,
       "version_minor": 0
      },
      "text/plain": [
       "Batches:   0%|          | 0/1 [00:00<?, ?it/s]"
      ]
     },
     "metadata": {},
     "output_type": "display_data"
    },
    {
     "name": "stderr",
     "output_type": "stream",
     "text": [
      "Processing queries (Bi-Encoder):  17%|█▋        | 37/214 [15:09<08:31,  2.89s/it]"
     ]
    },
    {
     "data": {
      "application/vnd.jupyter.widget-view+json": {
       "model_id": "a3202bfcb7b347fa9d41122f70e8ca4d",
       "version_major": 2,
       "version_minor": 0
      },
      "text/plain": [
       "Batches:   0%|          | 0/1 [00:00<?, ?it/s]"
      ]
     },
     "metadata": {},
     "output_type": "display_data"
    },
    {
     "data": {
      "application/vnd.jupyter.widget-view+json": {
       "model_id": "3d090f8b86d74dbb84375ef6780f2daa",
       "version_major": 2,
       "version_minor": 0
      },
      "text/plain": [
       "Batches:   0%|          | 0/1 [00:00<?, ?it/s]"
      ]
     },
     "metadata": {},
     "output_type": "display_data"
    },
    {
     "data": {
      "application/vnd.jupyter.widget-view+json": {
       "model_id": "dbdb55c4f35c432d8f19797cfdb93954",
       "version_major": 2,
       "version_minor": 0
      },
      "text/plain": [
       "Batches:   0%|          | 0/1 [00:00<?, ?it/s]"
      ]
     },
     "metadata": {},
     "output_type": "display_data"
    },
    {
     "data": {
      "application/vnd.jupyter.widget-view+json": {
       "model_id": "16ef6c76fd284a9e8124742c5d297c3a",
       "version_major": 2,
       "version_minor": 0
      },
      "text/plain": [
       "Batches:   0%|          | 0/1 [00:00<?, ?it/s]"
      ]
     },
     "metadata": {},
     "output_type": "display_data"
    },
    {
     "name": "stderr",
     "output_type": "stream",
     "text": [
      "Processing queries (Bi-Encoder):  19%|█▉        | 41/214 [15:09<05:47,  2.01s/it]"
     ]
    },
    {
     "data": {
      "application/vnd.jupyter.widget-view+json": {
       "model_id": "2a814717d2ef46408fe2d9334886a975",
       "version_major": 2,
       "version_minor": 0
      },
      "text/plain": [
       "Batches:   0%|          | 0/1 [00:00<?, ?it/s]"
      ]
     },
     "metadata": {},
     "output_type": "display_data"
    },
    {
     "data": {
      "application/vnd.jupyter.widget-view+json": {
       "model_id": "a3b77ed8469248098efcf2ede547dc8b",
       "version_major": 2,
       "version_minor": 0
      },
      "text/plain": [
       "Batches:   0%|          | 0/1 [00:00<?, ?it/s]"
      ]
     },
     "metadata": {},
     "output_type": "display_data"
    },
    {
     "data": {
      "application/vnd.jupyter.widget-view+json": {
       "model_id": "b83784e909c64072870fabee41eee81e",
       "version_major": 2,
       "version_minor": 0
      },
      "text/plain": [
       "Batches:   0%|          | 0/1 [00:00<?, ?it/s]"
      ]
     },
     "metadata": {},
     "output_type": "display_data"
    },
    {
     "data": {
      "application/vnd.jupyter.widget-view+json": {
       "model_id": "eeec98c94e5b43109d00e9ab0fd647c6",
       "version_major": 2,
       "version_minor": 0
      },
      "text/plain": [
       "Batches:   0%|          | 0/1 [00:00<?, ?it/s]"
      ]
     },
     "metadata": {},
     "output_type": "display_data"
    },
    {
     "name": "stderr",
     "output_type": "stream",
     "text": [
      "Processing queries (Bi-Encoder):  21%|██        | 45/214 [15:09<03:57,  1.40s/it]"
     ]
    },
    {
     "data": {
      "application/vnd.jupyter.widget-view+json": {
       "model_id": "6a2213ed5a30411693e6ed868ff87d73",
       "version_major": 2,
       "version_minor": 0
      },
      "text/plain": [
       "Batches:   0%|          | 0/1 [00:00<?, ?it/s]"
      ]
     },
     "metadata": {},
     "output_type": "display_data"
    },
    {
     "data": {
      "application/vnd.jupyter.widget-view+json": {
       "model_id": "2c23a9ba8c3d448cafd98ef27b1aa07a",
       "version_major": 2,
       "version_minor": 0
      },
      "text/plain": [
       "Batches:   0%|          | 0/1 [00:00<?, ?it/s]"
      ]
     },
     "metadata": {},
     "output_type": "display_data"
    },
    {
     "data": {
      "application/vnd.jupyter.widget-view+json": {
       "model_id": "905043ab8a5c427db5dbc19bcf9ef6a2",
       "version_major": 2,
       "version_minor": 0
      },
      "text/plain": [
       "Batches:   0%|          | 0/1 [00:00<?, ?it/s]"
      ]
     },
     "metadata": {},
     "output_type": "display_data"
    },
    {
     "data": {
      "application/vnd.jupyter.widget-view+json": {
       "model_id": "aa24fc923ae845eda21e473c52ce14b1",
       "version_major": 2,
       "version_minor": 0
      },
      "text/plain": [
       "Batches:   0%|          | 0/1 [00:00<?, ?it/s]"
      ]
     },
     "metadata": {},
     "output_type": "display_data"
    },
    {
     "name": "stderr",
     "output_type": "stream",
     "text": [
      "Processing queries (Bi-Encoder):  23%|██▎       | 49/214 [15:10<02:42,  1.01it/s]"
     ]
    },
    {
     "data": {
      "application/vnd.jupyter.widget-view+json": {
       "model_id": "0f409cbef8c146caa85c91d3c8a4e669",
       "version_major": 2,
       "version_minor": 0
      },
      "text/plain": [
       "Batches:   0%|          | 0/1 [00:00<?, ?it/s]"
      ]
     },
     "metadata": {},
     "output_type": "display_data"
    },
    {
     "data": {
      "application/vnd.jupyter.widget-view+json": {
       "model_id": "5e0551a8efd14ff79ef10f08e61fb3a6",
       "version_major": 2,
       "version_minor": 0
      },
      "text/plain": [
       "Batches:   0%|          | 0/1 [00:00<?, ?it/s]"
      ]
     },
     "metadata": {},
     "output_type": "display_data"
    },
    {
     "data": {
      "application/vnd.jupyter.widget-view+json": {
       "model_id": "b28bec7458fb490d885d6f04b2f22bff",
       "version_major": 2,
       "version_minor": 0
      },
      "text/plain": [
       "Batches:   0%|          | 0/1 [00:00<?, ?it/s]"
      ]
     },
     "metadata": {},
     "output_type": "display_data"
    },
    {
     "data": {
      "application/vnd.jupyter.widget-view+json": {
       "model_id": "d16f6fcf3ba945d386c14e0cf2a6315c",
       "version_major": 2,
       "version_minor": 0
      },
      "text/plain": [
       "Batches:   0%|          | 0/1 [00:00<?, ?it/s]"
      ]
     },
     "metadata": {},
     "output_type": "display_data"
    },
    {
     "name": "stderr",
     "output_type": "stream",
     "text": [
      "Processing queries (Bi-Encoder):  25%|██▍       | 53/214 [15:10<01:52,  1.43it/s]"
     ]
    },
    {
     "data": {
      "application/vnd.jupyter.widget-view+json": {
       "model_id": "7db874a7e6a4470f890ba27cc33c2cfd",
       "version_major": 2,
       "version_minor": 0
      },
      "text/plain": [
       "Batches:   0%|          | 0/1 [00:00<?, ?it/s]"
      ]
     },
     "metadata": {},
     "output_type": "display_data"
    },
    {
     "data": {
      "application/vnd.jupyter.widget-view+json": {
       "model_id": "0fcddfa03366471087695e5410124f8d",
       "version_major": 2,
       "version_minor": 0
      },
      "text/plain": [
       "Batches:   0%|          | 0/1 [00:00<?, ?it/s]"
      ]
     },
     "metadata": {},
     "output_type": "display_data"
    },
    {
     "data": {
      "application/vnd.jupyter.widget-view+json": {
       "model_id": "75945e94884945129e5dbbcac2a4a6d3",
       "version_major": 2,
       "version_minor": 0
      },
      "text/plain": [
       "Batches:   0%|          | 0/1 [00:00<?, ?it/s]"
      ]
     },
     "metadata": {},
     "output_type": "display_data"
    },
    {
     "data": {
      "application/vnd.jupyter.widget-view+json": {
       "model_id": "ae9fed7a0111463bb62a8ccac904d9d6",
       "version_major": 2,
       "version_minor": 0
      },
      "text/plain": [
       "Batches:   0%|          | 0/1 [00:00<?, ?it/s]"
      ]
     },
     "metadata": {},
     "output_type": "display_data"
    },
    {
     "name": "stderr",
     "output_type": "stream",
     "text": [
      "Processing queries (Bi-Encoder):  27%|██▋       | 57/214 [15:10<01:18,  2.01it/s]"
     ]
    },
    {
     "data": {
      "application/vnd.jupyter.widget-view+json": {
       "model_id": "5c9f7e0ff81a409d9e219aece038f0eb",
       "version_major": 2,
       "version_minor": 0
      },
      "text/plain": [
       "Batches:   0%|          | 0/1 [00:00<?, ?it/s]"
      ]
     },
     "metadata": {},
     "output_type": "display_data"
    },
    {
     "data": {
      "application/vnd.jupyter.widget-view+json": {
       "model_id": "92f4c6d8c8144e17becda5465f610172",
       "version_major": 2,
       "version_minor": 0
      },
      "text/plain": [
       "Batches:   0%|          | 0/1 [00:00<?, ?it/s]"
      ]
     },
     "metadata": {},
     "output_type": "display_data"
    },
    {
     "data": {
      "application/vnd.jupyter.widget-view+json": {
       "model_id": "1c341f6454ab4074aaa81eff8a6c8ac3",
       "version_major": 2,
       "version_minor": 0
      },
      "text/plain": [
       "Batches:   0%|          | 0/1 [00:00<?, ?it/s]"
      ]
     },
     "metadata": {},
     "output_type": "display_data"
    },
    {
     "data": {
      "application/vnd.jupyter.widget-view+json": {
       "model_id": "59533a2adb4c4114a8e32c72e8f5d532",
       "version_major": 2,
       "version_minor": 0
      },
      "text/plain": [
       "Batches:   0%|          | 0/1 [00:00<?, ?it/s]"
      ]
     },
     "metadata": {},
     "output_type": "display_data"
    },
    {
     "name": "stderr",
     "output_type": "stream",
     "text": [
      "Processing queries (Bi-Encoder):  29%|██▊       | 61/214 [15:10<00:54,  2.80it/s]"
     ]
    },
    {
     "data": {
      "application/vnd.jupyter.widget-view+json": {
       "model_id": "1221f3bb6b494572855e37536a899033",
       "version_major": 2,
       "version_minor": 0
      },
      "text/plain": [
       "Batches:   0%|          | 0/1 [00:00<?, ?it/s]"
      ]
     },
     "metadata": {},
     "output_type": "display_data"
    },
    {
     "data": {
      "application/vnd.jupyter.widget-view+json": {
       "model_id": "6da37d8ee1ee495b8d126e9f814ea8d1",
       "version_major": 2,
       "version_minor": 0
      },
      "text/plain": [
       "Batches:   0%|          | 0/1 [00:00<?, ?it/s]"
      ]
     },
     "metadata": {},
     "output_type": "display_data"
    },
    {
     "data": {
      "application/vnd.jupyter.widget-view+json": {
       "model_id": "5316e5d2e78e48fa93c3f1024e25519f",
       "version_major": 2,
       "version_minor": 0
      },
      "text/plain": [
       "Batches:   0%|          | 0/1 [00:00<?, ?it/s]"
      ]
     },
     "metadata": {},
     "output_type": "display_data"
    },
    {
     "data": {
      "application/vnd.jupyter.widget-view+json": {
       "model_id": "790682725de342e78e8870237b678d10",
       "version_major": 2,
       "version_minor": 0
      },
      "text/plain": [
       "Batches:   0%|          | 0/1 [00:00<?, ?it/s]"
      ]
     },
     "metadata": {},
     "output_type": "display_data"
    },
    {
     "name": "stderr",
     "output_type": "stream",
     "text": [
      "Processing queries (Bi-Encoder):  30%|███       | 65/214 [15:10<00:38,  3.87it/s]"
     ]
    },
    {
     "data": {
      "application/vnd.jupyter.widget-view+json": {
       "model_id": "b6b3291bd17d4741a4f532f784f85097",
       "version_major": 2,
       "version_minor": 0
      },
      "text/plain": [
       "Batches:   0%|          | 0/1 [00:00<?, ?it/s]"
      ]
     },
     "metadata": {},
     "output_type": "display_data"
    },
    {
     "data": {
      "application/vnd.jupyter.widget-view+json": {
       "model_id": "e934751921f64adeb11d143901847c4d",
       "version_major": 2,
       "version_minor": 0
      },
      "text/plain": [
       "Batches:   0%|          | 0/1 [00:00<?, ?it/s]"
      ]
     },
     "metadata": {},
     "output_type": "display_data"
    },
    {
     "data": {
      "application/vnd.jupyter.widget-view+json": {
       "model_id": "a02ca9b161234c37bb6fb6c694d8bf17",
       "version_major": 2,
       "version_minor": 0
      },
      "text/plain": [
       "Batches:   0%|          | 0/1 [00:00<?, ?it/s]"
      ]
     },
     "metadata": {},
     "output_type": "display_data"
    },
    {
     "data": {
      "application/vnd.jupyter.widget-view+json": {
       "model_id": "db0a6ac634c144278d84cc772af928c8",
       "version_major": 2,
       "version_minor": 0
      },
      "text/plain": [
       "Batches:   0%|          | 0/1 [00:00<?, ?it/s]"
      ]
     },
     "metadata": {},
     "output_type": "display_data"
    },
    {
     "name": "stderr",
     "output_type": "stream",
     "text": [
      "Processing queries (Bi-Encoder):  32%|███▏      | 69/214 [15:10<00:27,  5.28it/s]"
     ]
    },
    {
     "data": {
      "application/vnd.jupyter.widget-view+json": {
       "model_id": "52dfabd43d67417aa45a75b328156d36",
       "version_major": 2,
       "version_minor": 0
      },
      "text/plain": [
       "Batches:   0%|          | 0/1 [00:00<?, ?it/s]"
      ]
     },
     "metadata": {},
     "output_type": "display_data"
    },
    {
     "data": {
      "application/vnd.jupyter.widget-view+json": {
       "model_id": "8d5017a8b5dc4ff4a077b88beeb89069",
       "version_major": 2,
       "version_minor": 0
      },
      "text/plain": [
       "Batches:   0%|          | 0/1 [00:00<?, ?it/s]"
      ]
     },
     "metadata": {},
     "output_type": "display_data"
    },
    {
     "data": {
      "application/vnd.jupyter.widget-view+json": {
       "model_id": "cb30b60e07c141ba9dfee10e206e227e",
       "version_major": 2,
       "version_minor": 0
      },
      "text/plain": [
       "Batches:   0%|          | 0/1 [00:00<?, ?it/s]"
      ]
     },
     "metadata": {},
     "output_type": "display_data"
    },
    {
     "data": {
      "application/vnd.jupyter.widget-view+json": {
       "model_id": "202c72b9a25e428496949ad78c069996",
       "version_major": 2,
       "version_minor": 0
      },
      "text/plain": [
       "Batches:   0%|          | 0/1 [00:00<?, ?it/s]"
      ]
     },
     "metadata": {},
     "output_type": "display_data"
    },
    {
     "name": "stderr",
     "output_type": "stream",
     "text": [
      "Processing queries (Bi-Encoder):  34%|███▍      | 73/214 [15:10<00:20,  7.03it/s]"
     ]
    },
    {
     "data": {
      "application/vnd.jupyter.widget-view+json": {
       "model_id": "ae6b3eb3d99442c5b74a71557e431b8c",
       "version_major": 2,
       "version_minor": 0
      },
      "text/plain": [
       "Batches:   0%|          | 0/1 [00:00<?, ?it/s]"
      ]
     },
     "metadata": {},
     "output_type": "display_data"
    },
    {
     "data": {
      "application/vnd.jupyter.widget-view+json": {
       "model_id": "41046e29046844de9e68fd4e66afcc93",
       "version_major": 2,
       "version_minor": 0
      },
      "text/plain": [
       "Batches:   0%|          | 0/1 [00:00<?, ?it/s]"
      ]
     },
     "metadata": {},
     "output_type": "display_data"
    },
    {
     "data": {
      "application/vnd.jupyter.widget-view+json": {
       "model_id": "351671cdd54644f1867e76581dd7d946",
       "version_major": 2,
       "version_minor": 0
      },
      "text/plain": [
       "Batches:   0%|          | 0/1 [00:00<?, ?it/s]"
      ]
     },
     "metadata": {},
     "output_type": "display_data"
    },
    {
     "data": {
      "application/vnd.jupyter.widget-view+json": {
       "model_id": "b6719bac03b646c6a8807ca0e2ad9eb5",
       "version_major": 2,
       "version_minor": 0
      },
      "text/plain": [
       "Batches:   0%|          | 0/1 [00:00<?, ?it/s]"
      ]
     },
     "metadata": {},
     "output_type": "display_data"
    },
    {
     "name": "stderr",
     "output_type": "stream",
     "text": [
      "Processing queries (Bi-Encoder):  36%|███▌      | 77/214 [15:11<00:14,  9.14it/s]"
     ]
    },
    {
     "data": {
      "application/vnd.jupyter.widget-view+json": {
       "model_id": "92ea3d05716c48aabdd49c53b3e05eac",
       "version_major": 2,
       "version_minor": 0
      },
      "text/plain": [
       "Batches:   0%|          | 0/1 [00:00<?, ?it/s]"
      ]
     },
     "metadata": {},
     "output_type": "display_data"
    },
    {
     "data": {
      "application/vnd.jupyter.widget-view+json": {
       "model_id": "9da5a237dcbc4af6a9f644e55cda64e2",
       "version_major": 2,
       "version_minor": 0
      },
      "text/plain": [
       "Batches:   0%|          | 0/1 [00:00<?, ?it/s]"
      ]
     },
     "metadata": {},
     "output_type": "display_data"
    },
    {
     "data": {
      "application/vnd.jupyter.widget-view+json": {
       "model_id": "f7ac426acaef40c1b42736281e3e2880",
       "version_major": 2,
       "version_minor": 0
      },
      "text/plain": [
       "Batches:   0%|          | 0/1 [00:00<?, ?it/s]"
      ]
     },
     "metadata": {},
     "output_type": "display_data"
    },
    {
     "data": {
      "application/vnd.jupyter.widget-view+json": {
       "model_id": "4c5eb2cb4451481c9bfe2f8ed603f9fb",
       "version_major": 2,
       "version_minor": 0
      },
      "text/plain": [
       "Batches:   0%|          | 0/1 [00:00<?, ?it/s]"
      ]
     },
     "metadata": {},
     "output_type": "display_data"
    },
    {
     "name": "stderr",
     "output_type": "stream",
     "text": [
      "Processing queries (Bi-Encoder):  38%|███▊      | 81/214 [15:11<00:11, 11.68it/s]"
     ]
    },
    {
     "data": {
      "application/vnd.jupyter.widget-view+json": {
       "model_id": "010ca64c135d4d6d88a1084acdb6ed8b",
       "version_major": 2,
       "version_minor": 0
      },
      "text/plain": [
       "Batches:   0%|          | 0/1 [00:00<?, ?it/s]"
      ]
     },
     "metadata": {},
     "output_type": "display_data"
    },
    {
     "data": {
      "application/vnd.jupyter.widget-view+json": {
       "model_id": "43b211d538664b8eae733ed023292eab",
       "version_major": 2,
       "version_minor": 0
      },
      "text/plain": [
       "Batches:   0%|          | 0/1 [00:00<?, ?it/s]"
      ]
     },
     "metadata": {},
     "output_type": "display_data"
    },
    {
     "data": {
      "application/vnd.jupyter.widget-view+json": {
       "model_id": "8713b35aea9242fab7dcbcf83fd29886",
       "version_major": 2,
       "version_minor": 0
      },
      "text/plain": [
       "Batches:   0%|          | 0/1 [00:00<?, ?it/s]"
      ]
     },
     "metadata": {},
     "output_type": "display_data"
    },
    {
     "data": {
      "application/vnd.jupyter.widget-view+json": {
       "model_id": "cdb58401c33e472ea9804d3626897d51",
       "version_major": 2,
       "version_minor": 0
      },
      "text/plain": [
       "Batches:   0%|          | 0/1 [00:00<?, ?it/s]"
      ]
     },
     "metadata": {},
     "output_type": "display_data"
    },
    {
     "name": "stderr",
     "output_type": "stream",
     "text": [
      "Processing queries (Bi-Encoder):  40%|███▉      | 85/214 [15:11<00:08, 14.66it/s]"
     ]
    },
    {
     "data": {
      "application/vnd.jupyter.widget-view+json": {
       "model_id": "7ae6031e90824dcc94d7689026ba11a9",
       "version_major": 2,
       "version_minor": 0
      },
      "text/plain": [
       "Batches:   0%|          | 0/1 [00:00<?, ?it/s]"
      ]
     },
     "metadata": {},
     "output_type": "display_data"
    },
    {
     "data": {
      "application/vnd.jupyter.widget-view+json": {
       "model_id": "2b91920f302a44389d68fe90f35d7cdd",
       "version_major": 2,
       "version_minor": 0
      },
      "text/plain": [
       "Batches:   0%|          | 0/1 [00:00<?, ?it/s]"
      ]
     },
     "metadata": {},
     "output_type": "display_data"
    },
    {
     "data": {
      "application/vnd.jupyter.widget-view+json": {
       "model_id": "75fec3f9a34a4dd781262f29b502e175",
       "version_major": 2,
       "version_minor": 0
      },
      "text/plain": [
       "Batches:   0%|          | 0/1 [00:00<?, ?it/s]"
      ]
     },
     "metadata": {},
     "output_type": "display_data"
    },
    {
     "data": {
      "application/vnd.jupyter.widget-view+json": {
       "model_id": "aa22d90d15d94844ba8c5ef1e0b22400",
       "version_major": 2,
       "version_minor": 0
      },
      "text/plain": [
       "Batches:   0%|          | 0/1 [00:00<?, ?it/s]"
      ]
     },
     "metadata": {},
     "output_type": "display_data"
    },
    {
     "name": "stderr",
     "output_type": "stream",
     "text": [
      "Processing queries (Bi-Encoder):  42%|████▏     | 89/214 [15:11<00:07, 17.60it/s]"
     ]
    },
    {
     "data": {
      "application/vnd.jupyter.widget-view+json": {
       "model_id": "2aa3538eb294425c8f162381febb4e17",
       "version_major": 2,
       "version_minor": 0
      },
      "text/plain": [
       "Batches:   0%|          | 0/1 [00:00<?, ?it/s]"
      ]
     },
     "metadata": {},
     "output_type": "display_data"
    },
    {
     "data": {
      "application/vnd.jupyter.widget-view+json": {
       "model_id": "20936bcc05f343e590fa3861fcf54d02",
       "version_major": 2,
       "version_minor": 0
      },
      "text/plain": [
       "Batches:   0%|          | 0/1 [00:00<?, ?it/s]"
      ]
     },
     "metadata": {},
     "output_type": "display_data"
    },
    {
     "data": {
      "application/vnd.jupyter.widget-view+json": {
       "model_id": "06806b7a00134cf5b32ea5b5494b0b06",
       "version_major": 2,
       "version_minor": 0
      },
      "text/plain": [
       "Batches:   0%|          | 0/1 [00:00<?, ?it/s]"
      ]
     },
     "metadata": {},
     "output_type": "display_data"
    },
    {
     "data": {
      "application/vnd.jupyter.widget-view+json": {
       "model_id": "f1c269262edb4e2ea2644b864565eeaa",
       "version_major": 2,
       "version_minor": 0
      },
      "text/plain": [
       "Batches:   0%|          | 0/1 [00:00<?, ?it/s]"
      ]
     },
     "metadata": {},
     "output_type": "display_data"
    },
    {
     "name": "stderr",
     "output_type": "stream",
     "text": [
      "Processing queries (Bi-Encoder):  43%|████▎     | 93/214 [15:11<00:05, 20.91it/s]"
     ]
    },
    {
     "data": {
      "application/vnd.jupyter.widget-view+json": {
       "model_id": "5417be1d7f264781bf4647b16e715388",
       "version_major": 2,
       "version_minor": 0
      },
      "text/plain": [
       "Batches:   0%|          | 0/1 [00:00<?, ?it/s]"
      ]
     },
     "metadata": {},
     "output_type": "display_data"
    },
    {
     "data": {
      "application/vnd.jupyter.widget-view+json": {
       "model_id": "c3536ba97ac84d408180b55dedcb4ccb",
       "version_major": 2,
       "version_minor": 0
      },
      "text/plain": [
       "Batches:   0%|          | 0/1 [00:00<?, ?it/s]"
      ]
     },
     "metadata": {},
     "output_type": "display_data"
    },
    {
     "data": {
      "application/vnd.jupyter.widget-view+json": {
       "model_id": "d2c6d207c7e748cba6fc7ef48b45c0c5",
       "version_major": 2,
       "version_minor": 0
      },
      "text/plain": [
       "Batches:   0%|          | 0/1 [00:00<?, ?it/s]"
      ]
     },
     "metadata": {},
     "output_type": "display_data"
    },
    {
     "data": {
      "application/vnd.jupyter.widget-view+json": {
       "model_id": "c5f02db3a7e94d46a8d1c952ec362b2c",
       "version_major": 2,
       "version_minor": 0
      },
      "text/plain": [
       "Batches:   0%|          | 0/1 [00:00<?, ?it/s]"
      ]
     },
     "metadata": {},
     "output_type": "display_data"
    },
    {
     "name": "stderr",
     "output_type": "stream",
     "text": [
      "Processing queries (Bi-Encoder):  45%|████▌     | 97/214 [15:11<00:04, 23.93it/s]"
     ]
    },
    {
     "data": {
      "application/vnd.jupyter.widget-view+json": {
       "model_id": "374d305071344359b52e3eed2b4e3e7f",
       "version_major": 2,
       "version_minor": 0
      },
      "text/plain": [
       "Batches:   0%|          | 0/1 [00:00<?, ?it/s]"
      ]
     },
     "metadata": {},
     "output_type": "display_data"
    },
    {
     "data": {
      "application/vnd.jupyter.widget-view+json": {
       "model_id": "70d4ed23554a4122af4a03565c3ba116",
       "version_major": 2,
       "version_minor": 0
      },
      "text/plain": [
       "Batches:   0%|          | 0/1 [00:00<?, ?it/s]"
      ]
     },
     "metadata": {},
     "output_type": "display_data"
    },
    {
     "data": {
      "application/vnd.jupyter.widget-view+json": {
       "model_id": "54fbee15fab942cdade5d6f0c9cc18a8",
       "version_major": 2,
       "version_minor": 0
      },
      "text/plain": [
       "Batches:   0%|          | 0/1 [00:00<?, ?it/s]"
      ]
     },
     "metadata": {},
     "output_type": "display_data"
    },
    {
     "data": {
      "application/vnd.jupyter.widget-view+json": {
       "model_id": "f3bcea326a4b433bba9eda4c5bbf3206",
       "version_major": 2,
       "version_minor": 0
      },
      "text/plain": [
       "Batches:   0%|          | 0/1 [00:00<?, ?it/s]"
      ]
     },
     "metadata": {},
     "output_type": "display_data"
    },
    {
     "name": "stderr",
     "output_type": "stream",
     "text": [
      "Processing queries (Bi-Encoder):  47%|████▋     | 101/214 [15:11<00:04, 26.31it/s]"
     ]
    },
    {
     "data": {
      "application/vnd.jupyter.widget-view+json": {
       "model_id": "c669f962701a45398bc26dd3bc65029d",
       "version_major": 2,
       "version_minor": 0
      },
      "text/plain": [
       "Batches:   0%|          | 0/1 [00:00<?, ?it/s]"
      ]
     },
     "metadata": {},
     "output_type": "display_data"
    },
    {
     "data": {
      "application/vnd.jupyter.widget-view+json": {
       "model_id": "2025f2d3cda54a35aebb7db9f6a287dd",
       "version_major": 2,
       "version_minor": 0
      },
      "text/plain": [
       "Batches:   0%|          | 0/1 [00:00<?, ?it/s]"
      ]
     },
     "metadata": {},
     "output_type": "display_data"
    },
    {
     "data": {
      "application/vnd.jupyter.widget-view+json": {
       "model_id": "87d14fd6af964a67a41485e8281cbcaf",
       "version_major": 2,
       "version_minor": 0
      },
      "text/plain": [
       "Batches:   0%|          | 0/1 [00:00<?, ?it/s]"
      ]
     },
     "metadata": {},
     "output_type": "display_data"
    },
    {
     "data": {
      "application/vnd.jupyter.widget-view+json": {
       "model_id": "aec211e95efe429495a9dfc3abfbeddc",
       "version_major": 2,
       "version_minor": 0
      },
      "text/plain": [
       "Batches:   0%|          | 0/1 [00:00<?, ?it/s]"
      ]
     },
     "metadata": {},
     "output_type": "display_data"
    },
    {
     "name": "stderr",
     "output_type": "stream",
     "text": [
      "Processing queries (Bi-Encoder):  49%|████▉     | 105/214 [15:11<00:04, 25.81it/s]"
     ]
    },
    {
     "data": {
      "application/vnd.jupyter.widget-view+json": {
       "model_id": "abffcb22576f4a529e4cbee040bdb173",
       "version_major": 2,
       "version_minor": 0
      },
      "text/plain": [
       "Batches:   0%|          | 0/1 [00:00<?, ?it/s]"
      ]
     },
     "metadata": {},
     "output_type": "display_data"
    },
    {
     "data": {
      "application/vnd.jupyter.widget-view+json": {
       "model_id": "43a577649d7b41abb25db90dca0b3de3",
       "version_major": 2,
       "version_minor": 0
      },
      "text/plain": [
       "Batches:   0%|          | 0/1 [00:00<?, ?it/s]"
      ]
     },
     "metadata": {},
     "output_type": "display_data"
    },
    {
     "data": {
      "application/vnd.jupyter.widget-view+json": {
       "model_id": "e5c8a3b2704e4a00b6d1dd8c4c2aea52",
       "version_major": 2,
       "version_minor": 0
      },
      "text/plain": [
       "Batches:   0%|          | 0/1 [00:00<?, ?it/s]"
      ]
     },
     "metadata": {},
     "output_type": "display_data"
    },
    {
     "data": {
      "application/vnd.jupyter.widget-view+json": {
       "model_id": "f58a84a88639460fa9ab2f98c5b544f3",
       "version_major": 2,
       "version_minor": 0
      },
      "text/plain": [
       "Batches:   0%|          | 0/1 [00:00<?, ?it/s]"
      ]
     },
     "metadata": {},
     "output_type": "display_data"
    },
    {
     "name": "stderr",
     "output_type": "stream",
     "text": [
      "Processing queries (Bi-Encoder):  51%|█████     | 109/214 [15:11<00:03, 26.98it/s]"
     ]
    },
    {
     "data": {
      "application/vnd.jupyter.widget-view+json": {
       "model_id": "34481fe13e834f64b619fa97b4451c26",
       "version_major": 2,
       "version_minor": 0
      },
      "text/plain": [
       "Batches:   0%|          | 0/1 [00:00<?, ?it/s]"
      ]
     },
     "metadata": {},
     "output_type": "display_data"
    },
    {
     "data": {
      "application/vnd.jupyter.widget-view+json": {
       "model_id": "c38d4ccaede245d3baedb937d6b120af",
       "version_major": 2,
       "version_minor": 0
      },
      "text/plain": [
       "Batches:   0%|          | 0/1 [00:00<?, ?it/s]"
      ]
     },
     "metadata": {},
     "output_type": "display_data"
    },
    {
     "data": {
      "application/vnd.jupyter.widget-view+json": {
       "model_id": "747027bdcce54aa5a54386851a399fd2",
       "version_major": 2,
       "version_minor": 0
      },
      "text/plain": [
       "Batches:   0%|          | 0/1 [00:00<?, ?it/s]"
      ]
     },
     "metadata": {},
     "output_type": "display_data"
    },
    {
     "data": {
      "application/vnd.jupyter.widget-view+json": {
       "model_id": "590afeefcc134a44b2f9e75ade4fdc29",
       "version_major": 2,
       "version_minor": 0
      },
      "text/plain": [
       "Batches:   0%|          | 0/1 [00:00<?, ?it/s]"
      ]
     },
     "metadata": {},
     "output_type": "display_data"
    },
    {
     "name": "stderr",
     "output_type": "stream",
     "text": [
      "Processing queries (Bi-Encoder):  53%|█████▎    | 113/214 [15:12<00:03, 28.02it/s]"
     ]
    },
    {
     "data": {
      "application/vnd.jupyter.widget-view+json": {
       "model_id": "69b41e8c13814e27a456fe7bfe1e86eb",
       "version_major": 2,
       "version_minor": 0
      },
      "text/plain": [
       "Batches:   0%|          | 0/1 [00:00<?, ?it/s]"
      ]
     },
     "metadata": {},
     "output_type": "display_data"
    },
    {
     "data": {
      "application/vnd.jupyter.widget-view+json": {
       "model_id": "97a9cb88f78c4831986e34fe01818680",
       "version_major": 2,
       "version_minor": 0
      },
      "text/plain": [
       "Batches:   0%|          | 0/1 [00:00<?, ?it/s]"
      ]
     },
     "metadata": {},
     "output_type": "display_data"
    },
    {
     "data": {
      "application/vnd.jupyter.widget-view+json": {
       "model_id": "92a9ec8d55464f4f876eb235f69f4df7",
       "version_major": 2,
       "version_minor": 0
      },
      "text/plain": [
       "Batches:   0%|          | 0/1 [00:00<?, ?it/s]"
      ]
     },
     "metadata": {},
     "output_type": "display_data"
    },
    {
     "data": {
      "application/vnd.jupyter.widget-view+json": {
       "model_id": "bbf9c4e57fc54d1baaa86893839067fb",
       "version_major": 2,
       "version_minor": 0
      },
      "text/plain": [
       "Batches:   0%|          | 0/1 [00:00<?, ?it/s]"
      ]
     },
     "metadata": {},
     "output_type": "display_data"
    },
    {
     "name": "stderr",
     "output_type": "stream",
     "text": [
      "Processing queries (Bi-Encoder):  55%|█████▍    | 117/214 [15:12<00:03, 29.19it/s]"
     ]
    },
    {
     "data": {
      "application/vnd.jupyter.widget-view+json": {
       "model_id": "2065dca405c04b4dab9b7b2682ed27a7",
       "version_major": 2,
       "version_minor": 0
      },
      "text/plain": [
       "Batches:   0%|          | 0/1 [00:00<?, ?it/s]"
      ]
     },
     "metadata": {},
     "output_type": "display_data"
    },
    {
     "data": {
      "application/vnd.jupyter.widget-view+json": {
       "model_id": "ebcff39a1e204627ac9983372e87d0f8",
       "version_major": 2,
       "version_minor": 0
      },
      "text/plain": [
       "Batches:   0%|          | 0/1 [00:00<?, ?it/s]"
      ]
     },
     "metadata": {},
     "output_type": "display_data"
    },
    {
     "data": {
      "application/vnd.jupyter.widget-view+json": {
       "model_id": "3e934c6718334d71a3b1e91091f39749",
       "version_major": 2,
       "version_minor": 0
      },
      "text/plain": [
       "Batches:   0%|          | 0/1 [00:00<?, ?it/s]"
      ]
     },
     "metadata": {},
     "output_type": "display_data"
    },
    {
     "data": {
      "application/vnd.jupyter.widget-view+json": {
       "model_id": "65642f7042324e2c82e81ff01b28eaee",
       "version_major": 2,
       "version_minor": 0
      },
      "text/plain": [
       "Batches:   0%|          | 0/1 [00:00<?, ?it/s]"
      ]
     },
     "metadata": {},
     "output_type": "display_data"
    },
    {
     "name": "stderr",
     "output_type": "stream",
     "text": [
      "Processing queries (Bi-Encoder):  57%|█████▋    | 121/214 [15:12<00:02, 31.00it/s]"
     ]
    },
    {
     "data": {
      "application/vnd.jupyter.widget-view+json": {
       "model_id": "b0ed0f25366849529e7ccbd76977a34a",
       "version_major": 2,
       "version_minor": 0
      },
      "text/plain": [
       "Batches:   0%|          | 0/1 [00:00<?, ?it/s]"
      ]
     },
     "metadata": {},
     "output_type": "display_data"
    },
    {
     "data": {
      "application/vnd.jupyter.widget-view+json": {
       "model_id": "dae527166586469b829bc20da6b8a974",
       "version_major": 2,
       "version_minor": 0
      },
      "text/plain": [
       "Batches:   0%|          | 0/1 [00:00<?, ?it/s]"
      ]
     },
     "metadata": {},
     "output_type": "display_data"
    },
    {
     "data": {
      "application/vnd.jupyter.widget-view+json": {
       "model_id": "3d3c44da4ed74333a55da41774979aa2",
       "version_major": 2,
       "version_minor": 0
      },
      "text/plain": [
       "Batches:   0%|          | 0/1 [00:00<?, ?it/s]"
      ]
     },
     "metadata": {},
     "output_type": "display_data"
    },
    {
     "data": {
      "application/vnd.jupyter.widget-view+json": {
       "model_id": "09687a0401a74b3ca432143a5a0834e7",
       "version_major": 2,
       "version_minor": 0
      },
      "text/plain": [
       "Batches:   0%|          | 0/1 [00:00<?, ?it/s]"
      ]
     },
     "metadata": {},
     "output_type": "display_data"
    },
    {
     "name": "stderr",
     "output_type": "stream",
     "text": [
      "Processing queries (Bi-Encoder):  58%|█████▊    | 125/214 [15:12<00:02, 32.24it/s]"
     ]
    },
    {
     "data": {
      "application/vnd.jupyter.widget-view+json": {
       "model_id": "8e0e3d0480004a63a0a6c3567d574af6",
       "version_major": 2,
       "version_minor": 0
      },
      "text/plain": [
       "Batches:   0%|          | 0/1 [00:00<?, ?it/s]"
      ]
     },
     "metadata": {},
     "output_type": "display_data"
    },
    {
     "data": {
      "application/vnd.jupyter.widget-view+json": {
       "model_id": "75d309f542574769b452af1760c12275",
       "version_major": 2,
       "version_minor": 0
      },
      "text/plain": [
       "Batches:   0%|          | 0/1 [00:00<?, ?it/s]"
      ]
     },
     "metadata": {},
     "output_type": "display_data"
    },
    {
     "data": {
      "application/vnd.jupyter.widget-view+json": {
       "model_id": "e0f49e4fcde14b5a94f25932975f5b43",
       "version_major": 2,
       "version_minor": 0
      },
      "text/plain": [
       "Batches:   0%|          | 0/1 [00:00<?, ?it/s]"
      ]
     },
     "metadata": {},
     "output_type": "display_data"
    },
    {
     "data": {
      "application/vnd.jupyter.widget-view+json": {
       "model_id": "9c90c554991a4292affadf7d8ce564f3",
       "version_major": 2,
       "version_minor": 0
      },
      "text/plain": [
       "Batches:   0%|          | 0/1 [00:00<?, ?it/s]"
      ]
     },
     "metadata": {},
     "output_type": "display_data"
    },
    {
     "name": "stderr",
     "output_type": "stream",
     "text": [
      "Processing queries (Bi-Encoder):  60%|██████    | 129/214 [15:12<00:02, 33.31it/s]"
     ]
    },
    {
     "data": {
      "application/vnd.jupyter.widget-view+json": {
       "model_id": "df364325e7174fdb8a288055e558fdef",
       "version_major": 2,
       "version_minor": 0
      },
      "text/plain": [
       "Batches:   0%|          | 0/1 [00:00<?, ?it/s]"
      ]
     },
     "metadata": {},
     "output_type": "display_data"
    },
    {
     "data": {
      "application/vnd.jupyter.widget-view+json": {
       "model_id": "94b93ba88e3e4f718b9c7f8a823f13ac",
       "version_major": 2,
       "version_minor": 0
      },
      "text/plain": [
       "Batches:   0%|          | 0/1 [00:00<?, ?it/s]"
      ]
     },
     "metadata": {},
     "output_type": "display_data"
    },
    {
     "data": {
      "application/vnd.jupyter.widget-view+json": {
       "model_id": "3cf216967bfc486988a53b26e3302f1c",
       "version_major": 2,
       "version_minor": 0
      },
      "text/plain": [
       "Batches:   0%|          | 0/1 [00:00<?, ?it/s]"
      ]
     },
     "metadata": {},
     "output_type": "display_data"
    },
    {
     "data": {
      "application/vnd.jupyter.widget-view+json": {
       "model_id": "a084ebab657042bfa80aeada9a019b7f",
       "version_major": 2,
       "version_minor": 0
      },
      "text/plain": [
       "Batches:   0%|          | 0/1 [00:00<?, ?it/s]"
      ]
     },
     "metadata": {},
     "output_type": "display_data"
    },
    {
     "name": "stderr",
     "output_type": "stream",
     "text": [
      "Processing queries (Bi-Encoder):  62%|██████▏   | 133/214 [15:12<00:02, 34.06it/s]"
     ]
    },
    {
     "data": {
      "application/vnd.jupyter.widget-view+json": {
       "model_id": "7a48ffc06e0843838fcb1b21deb23737",
       "version_major": 2,
       "version_minor": 0
      },
      "text/plain": [
       "Batches:   0%|          | 0/1 [00:00<?, ?it/s]"
      ]
     },
     "metadata": {},
     "output_type": "display_data"
    },
    {
     "data": {
      "application/vnd.jupyter.widget-view+json": {
       "model_id": "1d4e5bc32a704a83a5d392d3c92da212",
       "version_major": 2,
       "version_minor": 0
      },
      "text/plain": [
       "Batches:   0%|          | 0/1 [00:00<?, ?it/s]"
      ]
     },
     "metadata": {},
     "output_type": "display_data"
    },
    {
     "data": {
      "application/vnd.jupyter.widget-view+json": {
       "model_id": "5791af7b8989423aa948ad157708f669",
       "version_major": 2,
       "version_minor": 0
      },
      "text/plain": [
       "Batches:   0%|          | 0/1 [00:00<?, ?it/s]"
      ]
     },
     "metadata": {},
     "output_type": "display_data"
    },
    {
     "data": {
      "application/vnd.jupyter.widget-view+json": {
       "model_id": "4d3671f418264158b7a1cab0a8549a1f",
       "version_major": 2,
       "version_minor": 0
      },
      "text/plain": [
       "Batches:   0%|          | 0/1 [00:00<?, ?it/s]"
      ]
     },
     "metadata": {},
     "output_type": "display_data"
    },
    {
     "name": "stderr",
     "output_type": "stream",
     "text": [
      "Processing queries (Bi-Encoder):  64%|██████▍   | 137/214 [15:12<00:02, 34.85it/s]"
     ]
    },
    {
     "data": {
      "application/vnd.jupyter.widget-view+json": {
       "model_id": "033e4c8535dd4a5d965bffc3402ca78c",
       "version_major": 2,
       "version_minor": 0
      },
      "text/plain": [
       "Batches:   0%|          | 0/1 [00:00<?, ?it/s]"
      ]
     },
     "metadata": {},
     "output_type": "display_data"
    },
    {
     "data": {
      "application/vnd.jupyter.widget-view+json": {
       "model_id": "71d4528ee49449589a1b3148595f7ab4",
       "version_major": 2,
       "version_minor": 0
      },
      "text/plain": [
       "Batches:   0%|          | 0/1 [00:00<?, ?it/s]"
      ]
     },
     "metadata": {},
     "output_type": "display_data"
    },
    {
     "data": {
      "application/vnd.jupyter.widget-view+json": {
       "model_id": "72637630515f46b984ae2a591ab27428",
       "version_major": 2,
       "version_minor": 0
      },
      "text/plain": [
       "Batches:   0%|          | 0/1 [00:00<?, ?it/s]"
      ]
     },
     "metadata": {},
     "output_type": "display_data"
    },
    {
     "data": {
      "application/vnd.jupyter.widget-view+json": {
       "model_id": "2747db09a81148d0a0bfc51660d9c51c",
       "version_major": 2,
       "version_minor": 0
      },
      "text/plain": [
       "Batches:   0%|          | 0/1 [00:00<?, ?it/s]"
      ]
     },
     "metadata": {},
     "output_type": "display_data"
    },
    {
     "name": "stderr",
     "output_type": "stream",
     "text": [
      "Processing queries (Bi-Encoder):  66%|██████▌   | 141/214 [15:12<00:02, 32.74it/s]"
     ]
    },
    {
     "data": {
      "application/vnd.jupyter.widget-view+json": {
       "model_id": "1d68c19e8ed346ad99c14bbba5e7cf6c",
       "version_major": 2,
       "version_minor": 0
      },
      "text/plain": [
       "Batches:   0%|          | 0/1 [00:00<?, ?it/s]"
      ]
     },
     "metadata": {},
     "output_type": "display_data"
    },
    {
     "data": {
      "application/vnd.jupyter.widget-view+json": {
       "model_id": "16e07a265da542cb8590a07988ef3014",
       "version_major": 2,
       "version_minor": 0
      },
      "text/plain": [
       "Batches:   0%|          | 0/1 [00:00<?, ?it/s]"
      ]
     },
     "metadata": {},
     "output_type": "display_data"
    },
    {
     "data": {
      "application/vnd.jupyter.widget-view+json": {
       "model_id": "dc1f529ffa504a74a5843925c4928bdb",
       "version_major": 2,
       "version_minor": 0
      },
      "text/plain": [
       "Batches:   0%|          | 0/1 [00:00<?, ?it/s]"
      ]
     },
     "metadata": {},
     "output_type": "display_data"
    },
    {
     "data": {
      "application/vnd.jupyter.widget-view+json": {
       "model_id": "d704cd39e1a4435c83ac4f0ef55fc7bf",
       "version_major": 2,
       "version_minor": 0
      },
      "text/plain": [
       "Batches:   0%|          | 0/1 [00:00<?, ?it/s]"
      ]
     },
     "metadata": {},
     "output_type": "display_data"
    },
    {
     "name": "stderr",
     "output_type": "stream",
     "text": [
      "Processing queries (Bi-Encoder):  68%|██████▊   | 145/214 [15:13<00:02, 33.29it/s]"
     ]
    },
    {
     "data": {
      "application/vnd.jupyter.widget-view+json": {
       "model_id": "4fb50a9ceaeb42faa647b6b49e6338f3",
       "version_major": 2,
       "version_minor": 0
      },
      "text/plain": [
       "Batches:   0%|          | 0/1 [00:00<?, ?it/s]"
      ]
     },
     "metadata": {},
     "output_type": "display_data"
    },
    {
     "data": {
      "application/vnd.jupyter.widget-view+json": {
       "model_id": "91076e0de7f34d0ba67b95b8bccae541",
       "version_major": 2,
       "version_minor": 0
      },
      "text/plain": [
       "Batches:   0%|          | 0/1 [00:00<?, ?it/s]"
      ]
     },
     "metadata": {},
     "output_type": "display_data"
    },
    {
     "data": {
      "application/vnd.jupyter.widget-view+json": {
       "model_id": "abef10bf81c9491eac9e7f21452cfad0",
       "version_major": 2,
       "version_minor": 0
      },
      "text/plain": [
       "Batches:   0%|          | 0/1 [00:00<?, ?it/s]"
      ]
     },
     "metadata": {},
     "output_type": "display_data"
    },
    {
     "data": {
      "application/vnd.jupyter.widget-view+json": {
       "model_id": "dfa4efd5884e4248b26c7f065c5aa3e4",
       "version_major": 2,
       "version_minor": 0
      },
      "text/plain": [
       "Batches:   0%|          | 0/1 [00:00<?, ?it/s]"
      ]
     },
     "metadata": {},
     "output_type": "display_data"
    },
    {
     "name": "stderr",
     "output_type": "stream",
     "text": [
      "Processing queries (Bi-Encoder):  70%|██████▉   | 149/214 [15:13<00:01, 32.70it/s]"
     ]
    },
    {
     "data": {
      "application/vnd.jupyter.widget-view+json": {
       "model_id": "68ba660b81fd48ef8138c91dcc5ff07d",
       "version_major": 2,
       "version_minor": 0
      },
      "text/plain": [
       "Batches:   0%|          | 0/1 [00:00<?, ?it/s]"
      ]
     },
     "metadata": {},
     "output_type": "display_data"
    },
    {
     "data": {
      "application/vnd.jupyter.widget-view+json": {
       "model_id": "65e4463340ae4a53b3f906017d21df28",
       "version_major": 2,
       "version_minor": 0
      },
      "text/plain": [
       "Batches:   0%|          | 0/1 [00:00<?, ?it/s]"
      ]
     },
     "metadata": {},
     "output_type": "display_data"
    },
    {
     "data": {
      "application/vnd.jupyter.widget-view+json": {
       "model_id": "633c90b3af7245e791051f53e0c07a27",
       "version_major": 2,
       "version_minor": 0
      },
      "text/plain": [
       "Batches:   0%|          | 0/1 [00:00<?, ?it/s]"
      ]
     },
     "metadata": {},
     "output_type": "display_data"
    },
    {
     "data": {
      "application/vnd.jupyter.widget-view+json": {
       "model_id": "8af985963de041aaac83ce9ebb987d1c",
       "version_major": 2,
       "version_minor": 0
      },
      "text/plain": [
       "Batches:   0%|          | 0/1 [00:00<?, ?it/s]"
      ]
     },
     "metadata": {},
     "output_type": "display_data"
    },
    {
     "name": "stderr",
     "output_type": "stream",
     "text": [
      "Processing queries (Bi-Encoder):  71%|███████▏  | 153/214 [15:13<00:01, 33.31it/s]"
     ]
    },
    {
     "data": {
      "application/vnd.jupyter.widget-view+json": {
       "model_id": "bc54df6675f74590ae5b194c4c684be6",
       "version_major": 2,
       "version_minor": 0
      },
      "text/plain": [
       "Batches:   0%|          | 0/1 [00:00<?, ?it/s]"
      ]
     },
     "metadata": {},
     "output_type": "display_data"
    },
    {
     "data": {
      "application/vnd.jupyter.widget-view+json": {
       "model_id": "34ec5db591ee4fcd929ade448ef7794e",
       "version_major": 2,
       "version_minor": 0
      },
      "text/plain": [
       "Batches:   0%|          | 0/1 [00:00<?, ?it/s]"
      ]
     },
     "metadata": {},
     "output_type": "display_data"
    },
    {
     "data": {
      "application/vnd.jupyter.widget-view+json": {
       "model_id": "e99e06b1794e4bbfb2ccbc27b7b141c1",
       "version_major": 2,
       "version_minor": 0
      },
      "text/plain": [
       "Batches:   0%|          | 0/1 [00:00<?, ?it/s]"
      ]
     },
     "metadata": {},
     "output_type": "display_data"
    },
    {
     "data": {
      "application/vnd.jupyter.widget-view+json": {
       "model_id": "6b66b03b79704b4c8cfc0ee9d3c58785",
       "version_major": 2,
       "version_minor": 0
      },
      "text/plain": [
       "Batches:   0%|          | 0/1 [00:00<?, ?it/s]"
      ]
     },
     "metadata": {},
     "output_type": "display_data"
    },
    {
     "name": "stderr",
     "output_type": "stream",
     "text": [
      "Processing queries (Bi-Encoder):  73%|███████▎  | 157/214 [15:13<00:01, 32.79it/s]"
     ]
    },
    {
     "data": {
      "application/vnd.jupyter.widget-view+json": {
       "model_id": "8d4fcd239747489496a34097a2017833",
       "version_major": 2,
       "version_minor": 0
      },
      "text/plain": [
       "Batches:   0%|          | 0/1 [00:00<?, ?it/s]"
      ]
     },
     "metadata": {},
     "output_type": "display_data"
    },
    {
     "data": {
      "application/vnd.jupyter.widget-view+json": {
       "model_id": "535e021516544184abdbb0b583c869c7",
       "version_major": 2,
       "version_minor": 0
      },
      "text/plain": [
       "Batches:   0%|          | 0/1 [00:00<?, ?it/s]"
      ]
     },
     "metadata": {},
     "output_type": "display_data"
    },
    {
     "data": {
      "application/vnd.jupyter.widget-view+json": {
       "model_id": "c19bd6e53cca4cf19b717d7a36deb443",
       "version_major": 2,
       "version_minor": 0
      },
      "text/plain": [
       "Batches:   0%|          | 0/1 [00:00<?, ?it/s]"
      ]
     },
     "metadata": {},
     "output_type": "display_data"
    },
    {
     "data": {
      "application/vnd.jupyter.widget-view+json": {
       "model_id": "820ed36da6a1444e9f1262a21379bfd7",
       "version_major": 2,
       "version_minor": 0
      },
      "text/plain": [
       "Batches:   0%|          | 0/1 [00:00<?, ?it/s]"
      ]
     },
     "metadata": {},
     "output_type": "display_data"
    },
    {
     "name": "stderr",
     "output_type": "stream",
     "text": [
      "Processing queries (Bi-Encoder):  75%|███████▌  | 161/214 [15:13<00:01, 33.71it/s]"
     ]
    },
    {
     "data": {
      "application/vnd.jupyter.widget-view+json": {
       "model_id": "de7c609374c5433fb1bb32404455871f",
       "version_major": 2,
       "version_minor": 0
      },
      "text/plain": [
       "Batches:   0%|          | 0/1 [00:00<?, ?it/s]"
      ]
     },
     "metadata": {},
     "output_type": "display_data"
    },
    {
     "data": {
      "application/vnd.jupyter.widget-view+json": {
       "model_id": "16ecfd52d0a74dcc8090455871a577fd",
       "version_major": 2,
       "version_minor": 0
      },
      "text/plain": [
       "Batches:   0%|          | 0/1 [00:00<?, ?it/s]"
      ]
     },
     "metadata": {},
     "output_type": "display_data"
    },
    {
     "data": {
      "application/vnd.jupyter.widget-view+json": {
       "model_id": "ff9cbff8b7f940bcbb2d4573df0e71be",
       "version_major": 2,
       "version_minor": 0
      },
      "text/plain": [
       "Batches:   0%|          | 0/1 [00:00<?, ?it/s]"
      ]
     },
     "metadata": {},
     "output_type": "display_data"
    },
    {
     "data": {
      "application/vnd.jupyter.widget-view+json": {
       "model_id": "a216c96fa0c9418eb20a774e4b04aed6",
       "version_major": 2,
       "version_minor": 0
      },
      "text/plain": [
       "Batches:   0%|          | 0/1 [00:00<?, ?it/s]"
      ]
     },
     "metadata": {},
     "output_type": "display_data"
    },
    {
     "name": "stderr",
     "output_type": "stream",
     "text": [
      "Processing queries (Bi-Encoder):  77%|███████▋  | 165/214 [15:13<00:01, 32.72it/s]"
     ]
    },
    {
     "data": {
      "application/vnd.jupyter.widget-view+json": {
       "model_id": "3e71ba9d3c7e408881c2b23913f23140",
       "version_major": 2,
       "version_minor": 0
      },
      "text/plain": [
       "Batches:   0%|          | 0/1 [00:00<?, ?it/s]"
      ]
     },
     "metadata": {},
     "output_type": "display_data"
    },
    {
     "data": {
      "application/vnd.jupyter.widget-view+json": {
       "model_id": "d5c06f5b533949b0a291995cb84cec9c",
       "version_major": 2,
       "version_minor": 0
      },
      "text/plain": [
       "Batches:   0%|          | 0/1 [00:00<?, ?it/s]"
      ]
     },
     "metadata": {},
     "output_type": "display_data"
    },
    {
     "data": {
      "application/vnd.jupyter.widget-view+json": {
       "model_id": "64b9e027220e4419936cb701759f5de6",
       "version_major": 2,
       "version_minor": 0
      },
      "text/plain": [
       "Batches:   0%|          | 0/1 [00:00<?, ?it/s]"
      ]
     },
     "metadata": {},
     "output_type": "display_data"
    },
    {
     "data": {
      "application/vnd.jupyter.widget-view+json": {
       "model_id": "a4aa6263118d4ec0b844e89c4f7f53ac",
       "version_major": 2,
       "version_minor": 0
      },
      "text/plain": [
       "Batches:   0%|          | 0/1 [00:00<?, ?it/s]"
      ]
     },
     "metadata": {},
     "output_type": "display_data"
    },
    {
     "name": "stderr",
     "output_type": "stream",
     "text": [
      "Processing queries (Bi-Encoder):  79%|███████▉  | 169/214 [15:13<00:01, 31.63it/s]"
     ]
    },
    {
     "data": {
      "application/vnd.jupyter.widget-view+json": {
       "model_id": "7d6e81d9a172465daa3faa9e5c73acbb",
       "version_major": 2,
       "version_minor": 0
      },
      "text/plain": [
       "Batches:   0%|          | 0/1 [00:00<?, ?it/s]"
      ]
     },
     "metadata": {},
     "output_type": "display_data"
    },
    {
     "data": {
      "application/vnd.jupyter.widget-view+json": {
       "model_id": "d5441e523f864992b2ce4cb613e3cfe2",
       "version_major": 2,
       "version_minor": 0
      },
      "text/plain": [
       "Batches:   0%|          | 0/1 [00:00<?, ?it/s]"
      ]
     },
     "metadata": {},
     "output_type": "display_data"
    },
    {
     "data": {
      "application/vnd.jupyter.widget-view+json": {
       "model_id": "1511792e7fe7483d9e31fa555a8e1eb1",
       "version_major": 2,
       "version_minor": 0
      },
      "text/plain": [
       "Batches:   0%|          | 0/1 [00:00<?, ?it/s]"
      ]
     },
     "metadata": {},
     "output_type": "display_data"
    },
    {
     "data": {
      "application/vnd.jupyter.widget-view+json": {
       "model_id": "0f7d6beefe7a4b878b7f9c950e9a4a27",
       "version_major": 2,
       "version_minor": 0
      },
      "text/plain": [
       "Batches:   0%|          | 0/1 [00:00<?, ?it/s]"
      ]
     },
     "metadata": {},
     "output_type": "display_data"
    },
    {
     "name": "stderr",
     "output_type": "stream",
     "text": [
      "Processing queries (Bi-Encoder):  81%|████████  | 173/214 [15:13<00:01, 32.93it/s]"
     ]
    },
    {
     "data": {
      "application/vnd.jupyter.widget-view+json": {
       "model_id": "fd2ee441a76b499f8684eeefe8d335ce",
       "version_major": 2,
       "version_minor": 0
      },
      "text/plain": [
       "Batches:   0%|          | 0/1 [00:00<?, ?it/s]"
      ]
     },
     "metadata": {},
     "output_type": "display_data"
    },
    {
     "data": {
      "application/vnd.jupyter.widget-view+json": {
       "model_id": "3c3b3795ec52454299c787a41ac8b689",
       "version_major": 2,
       "version_minor": 0
      },
      "text/plain": [
       "Batches:   0%|          | 0/1 [00:00<?, ?it/s]"
      ]
     },
     "metadata": {},
     "output_type": "display_data"
    },
    {
     "data": {
      "application/vnd.jupyter.widget-view+json": {
       "model_id": "0cd10823499841658b8e4c6686ec7867",
       "version_major": 2,
       "version_minor": 0
      },
      "text/plain": [
       "Batches:   0%|          | 0/1 [00:00<?, ?it/s]"
      ]
     },
     "metadata": {},
     "output_type": "display_data"
    },
    {
     "data": {
      "application/vnd.jupyter.widget-view+json": {
       "model_id": "f8ecb2e34bfa4e8c95526773af25d053",
       "version_major": 2,
       "version_minor": 0
      },
      "text/plain": [
       "Batches:   0%|          | 0/1 [00:00<?, ?it/s]"
      ]
     },
     "metadata": {},
     "output_type": "display_data"
    },
    {
     "name": "stderr",
     "output_type": "stream",
     "text": [
      "Processing queries (Bi-Encoder):  83%|████████▎ | 177/214 [15:14<00:01, 33.15it/s]"
     ]
    },
    {
     "data": {
      "application/vnd.jupyter.widget-view+json": {
       "model_id": "92eb5d36ee934573a79d4b276db85093",
       "version_major": 2,
       "version_minor": 0
      },
      "text/plain": [
       "Batches:   0%|          | 0/1 [00:00<?, ?it/s]"
      ]
     },
     "metadata": {},
     "output_type": "display_data"
    },
    {
     "data": {
      "application/vnd.jupyter.widget-view+json": {
       "model_id": "6c6d39e95d23470989c1f6b00a5659b8",
       "version_major": 2,
       "version_minor": 0
      },
      "text/plain": [
       "Batches:   0%|          | 0/1 [00:00<?, ?it/s]"
      ]
     },
     "metadata": {},
     "output_type": "display_data"
    },
    {
     "data": {
      "application/vnd.jupyter.widget-view+json": {
       "model_id": "c36c95df13d84929b8abbe691e6cf5fa",
       "version_major": 2,
       "version_minor": 0
      },
      "text/plain": [
       "Batches:   0%|          | 0/1 [00:00<?, ?it/s]"
      ]
     },
     "metadata": {},
     "output_type": "display_data"
    },
    {
     "data": {
      "application/vnd.jupyter.widget-view+json": {
       "model_id": "0a5cf3954d2343e69486dd37fb3a9ef9",
       "version_major": 2,
       "version_minor": 0
      },
      "text/plain": [
       "Batches:   0%|          | 0/1 [00:00<?, ?it/s]"
      ]
     },
     "metadata": {},
     "output_type": "display_data"
    },
    {
     "name": "stderr",
     "output_type": "stream",
     "text": [
      "Processing queries (Bi-Encoder):  85%|████████▍ | 181/214 [15:14<00:01, 31.22it/s]"
     ]
    },
    {
     "data": {
      "application/vnd.jupyter.widget-view+json": {
       "model_id": "91ebf305c5394d36891e08b7fb10fc5f",
       "version_major": 2,
       "version_minor": 0
      },
      "text/plain": [
       "Batches:   0%|          | 0/1 [00:00<?, ?it/s]"
      ]
     },
     "metadata": {},
     "output_type": "display_data"
    },
    {
     "data": {
      "application/vnd.jupyter.widget-view+json": {
       "model_id": "15a18370100b4766bb029270be392fb5",
       "version_major": 2,
       "version_minor": 0
      },
      "text/plain": [
       "Batches:   0%|          | 0/1 [00:00<?, ?it/s]"
      ]
     },
     "metadata": {},
     "output_type": "display_data"
    },
    {
     "data": {
      "application/vnd.jupyter.widget-view+json": {
       "model_id": "8082c3d2a91440dd8397088a4158c575",
       "version_major": 2,
       "version_minor": 0
      },
      "text/plain": [
       "Batches:   0%|          | 0/1 [00:00<?, ?it/s]"
      ]
     },
     "metadata": {},
     "output_type": "display_data"
    },
    {
     "data": {
      "application/vnd.jupyter.widget-view+json": {
       "model_id": "0175718a78914ee28c58eb834da14573",
       "version_major": 2,
       "version_minor": 0
      },
      "text/plain": [
       "Batches:   0%|          | 0/1 [00:00<?, ?it/s]"
      ]
     },
     "metadata": {},
     "output_type": "display_data"
    },
    {
     "name": "stderr",
     "output_type": "stream",
     "text": [
      "Processing queries (Bi-Encoder):  86%|████████▋ | 185/214 [15:14<00:00, 30.52it/s]"
     ]
    },
    {
     "data": {
      "application/vnd.jupyter.widget-view+json": {
       "model_id": "ae4eba1c873e412f8861d9be72d6bc26",
       "version_major": 2,
       "version_minor": 0
      },
      "text/plain": [
       "Batches:   0%|          | 0/1 [00:00<?, ?it/s]"
      ]
     },
     "metadata": {},
     "output_type": "display_data"
    },
    {
     "data": {
      "application/vnd.jupyter.widget-view+json": {
       "model_id": "069ae8b940f040b3b6411ef734861f54",
       "version_major": 2,
       "version_minor": 0
      },
      "text/plain": [
       "Batches:   0%|          | 0/1 [00:00<?, ?it/s]"
      ]
     },
     "metadata": {},
     "output_type": "display_data"
    },
    {
     "data": {
      "application/vnd.jupyter.widget-view+json": {
       "model_id": "c5aadb51030641da97f65ad7c896dede",
       "version_major": 2,
       "version_minor": 0
      },
      "text/plain": [
       "Batches:   0%|          | 0/1 [00:00<?, ?it/s]"
      ]
     },
     "metadata": {},
     "output_type": "display_data"
    },
    {
     "data": {
      "application/vnd.jupyter.widget-view+json": {
       "model_id": "61a7cbd26c544309bb9e9934ee525152",
       "version_major": 2,
       "version_minor": 0
      },
      "text/plain": [
       "Batches:   0%|          | 0/1 [00:00<?, ?it/s]"
      ]
     },
     "metadata": {},
     "output_type": "display_data"
    },
    {
     "name": "stderr",
     "output_type": "stream",
     "text": [
      "Processing queries (Bi-Encoder):  88%|████████▊ | 189/214 [15:14<00:00, 29.06it/s]"
     ]
    },
    {
     "data": {
      "application/vnd.jupyter.widget-view+json": {
       "model_id": "93ccd5d230c8455e85eadcb33a2d05e5",
       "version_major": 2,
       "version_minor": 0
      },
      "text/plain": [
       "Batches:   0%|          | 0/1 [00:00<?, ?it/s]"
      ]
     },
     "metadata": {},
     "output_type": "display_data"
    },
    {
     "data": {
      "application/vnd.jupyter.widget-view+json": {
       "model_id": "be9e679d672842bcaf25383177181ed2",
       "version_major": 2,
       "version_minor": 0
      },
      "text/plain": [
       "Batches:   0%|          | 0/1 [00:00<?, ?it/s]"
      ]
     },
     "metadata": {},
     "output_type": "display_data"
    },
    {
     "data": {
      "application/vnd.jupyter.widget-view+json": {
       "model_id": "0afc6d7005cc4741844b1cbf5d2b6ff1",
       "version_major": 2,
       "version_minor": 0
      },
      "text/plain": [
       "Batches:   0%|          | 0/1 [00:00<?, ?it/s]"
      ]
     },
     "metadata": {},
     "output_type": "display_data"
    },
    {
     "data": {
      "application/vnd.jupyter.widget-view+json": {
       "model_id": "6e86aee875d146b3927eafaf71467e65",
       "version_major": 2,
       "version_minor": 0
      },
      "text/plain": [
       "Batches:   0%|          | 0/1 [00:00<?, ?it/s]"
      ]
     },
     "metadata": {},
     "output_type": "display_data"
    },
    {
     "name": "stderr",
     "output_type": "stream",
     "text": [
      "Processing queries (Bi-Encoder):  90%|█████████ | 193/214 [15:14<00:00, 29.32it/s]"
     ]
    },
    {
     "data": {
      "application/vnd.jupyter.widget-view+json": {
       "model_id": "c2f4577884014b40aa9406ef2f168f02",
       "version_major": 2,
       "version_minor": 0
      },
      "text/plain": [
       "Batches:   0%|          | 0/1 [00:00<?, ?it/s]"
      ]
     },
     "metadata": {},
     "output_type": "display_data"
    },
    {
     "data": {
      "application/vnd.jupyter.widget-view+json": {
       "model_id": "c14b42394c0e4a74a4734e2fb6c827c1",
       "version_major": 2,
       "version_minor": 0
      },
      "text/plain": [
       "Batches:   0%|          | 0/1 [00:00<?, ?it/s]"
      ]
     },
     "metadata": {},
     "output_type": "display_data"
    },
    {
     "data": {
      "application/vnd.jupyter.widget-view+json": {
       "model_id": "46556724025a43e39a3dd389767ef61d",
       "version_major": 2,
       "version_minor": 0
      },
      "text/plain": [
       "Batches:   0%|          | 0/1 [00:00<?, ?it/s]"
      ]
     },
     "metadata": {},
     "output_type": "display_data"
    },
    {
     "name": "stderr",
     "output_type": "stream",
     "text": [
      "Processing queries (Bi-Encoder):  92%|█████████▏| 196/214 [15:14<00:00, 27.42it/s]"
     ]
    },
    {
     "data": {
      "application/vnd.jupyter.widget-view+json": {
       "model_id": "eebaf837ebbb4a529d6faabeade7aa72",
       "version_major": 2,
       "version_minor": 0
      },
      "text/plain": [
       "Batches:   0%|          | 0/1 [00:00<?, ?it/s]"
      ]
     },
     "metadata": {},
     "output_type": "display_data"
    },
    {
     "data": {
      "application/vnd.jupyter.widget-view+json": {
       "model_id": "7a4c9670948e45ecb311e96297ce9e7e",
       "version_major": 2,
       "version_minor": 0
      },
      "text/plain": [
       "Batches:   0%|          | 0/1 [00:00<?, ?it/s]"
      ]
     },
     "metadata": {},
     "output_type": "display_data"
    },
    {
     "data": {
      "application/vnd.jupyter.widget-view+json": {
       "model_id": "030dbb7e1cc64986be6bf6558732c079",
       "version_major": 2,
       "version_minor": 0
      },
      "text/plain": [
       "Batches:   0%|          | 0/1 [00:00<?, ?it/s]"
      ]
     },
     "metadata": {},
     "output_type": "display_data"
    },
    {
     "name": "stderr",
     "output_type": "stream",
     "text": [
      "Processing queries (Bi-Encoder):  93%|█████████▎| 199/214 [15:14<00:00, 27.18it/s]"
     ]
    },
    {
     "data": {
      "application/vnd.jupyter.widget-view+json": {
       "model_id": "01cea59dff3346008efb9b925b9f33f9",
       "version_major": 2,
       "version_minor": 0
      },
      "text/plain": [
       "Batches:   0%|          | 0/1 [00:00<?, ?it/s]"
      ]
     },
     "metadata": {},
     "output_type": "display_data"
    },
    {
     "data": {
      "application/vnd.jupyter.widget-view+json": {
       "model_id": "44447ddb61b94a94baf36a4e08c3526b",
       "version_major": 2,
       "version_minor": 0
      },
      "text/plain": [
       "Batches:   0%|          | 0/1 [00:00<?, ?it/s]"
      ]
     },
     "metadata": {},
     "output_type": "display_data"
    },
    {
     "data": {
      "application/vnd.jupyter.widget-view+json": {
       "model_id": "50b1d48964df474a94751855c6be297b",
       "version_major": 2,
       "version_minor": 0
      },
      "text/plain": [
       "Batches:   0%|          | 0/1 [00:00<?, ?it/s]"
      ]
     },
     "metadata": {},
     "output_type": "display_data"
    },
    {
     "data": {
      "application/vnd.jupyter.widget-view+json": {
       "model_id": "62d4984f86814c3fbc1925849294f7bd",
       "version_major": 2,
       "version_minor": 0
      },
      "text/plain": [
       "Batches:   0%|          | 0/1 [00:00<?, ?it/s]"
      ]
     },
     "metadata": {},
     "output_type": "display_data"
    },
    {
     "name": "stderr",
     "output_type": "stream",
     "text": [
      "Processing queries (Bi-Encoder):  95%|█████████▍| 203/214 [15:14<00:00, 28.49it/s]"
     ]
    },
    {
     "data": {
      "application/vnd.jupyter.widget-view+json": {
       "model_id": "326673f0d95b4b5faa10547e26c273ac",
       "version_major": 2,
       "version_minor": 0
      },
      "text/plain": [
       "Batches:   0%|          | 0/1 [00:00<?, ?it/s]"
      ]
     },
     "metadata": {},
     "output_type": "display_data"
    },
    {
     "data": {
      "application/vnd.jupyter.widget-view+json": {
       "model_id": "5b9ef9a1d2904e81b87526bce4603c19",
       "version_major": 2,
       "version_minor": 0
      },
      "text/plain": [
       "Batches:   0%|          | 0/1 [00:00<?, ?it/s]"
      ]
     },
     "metadata": {},
     "output_type": "display_data"
    },
    {
     "data": {
      "application/vnd.jupyter.widget-view+json": {
       "model_id": "524746ef5add4df88e6ae8a687df6f05",
       "version_major": 2,
       "version_minor": 0
      },
      "text/plain": [
       "Batches:   0%|          | 0/1 [00:00<?, ?it/s]"
      ]
     },
     "metadata": {},
     "output_type": "display_data"
    },
    {
     "data": {
      "application/vnd.jupyter.widget-view+json": {
       "model_id": "8f85825c24b34165b222ec20c611d795",
       "version_major": 2,
       "version_minor": 0
      },
      "text/plain": [
       "Batches:   0%|          | 0/1 [00:00<?, ?it/s]"
      ]
     },
     "metadata": {},
     "output_type": "display_data"
    },
    {
     "name": "stderr",
     "output_type": "stream",
     "text": [
      "Processing queries (Bi-Encoder):  97%|█████████▋| 207/214 [15:15<00:00, 29.28it/s]"
     ]
    },
    {
     "data": {
      "application/vnd.jupyter.widget-view+json": {
       "model_id": "ded63c90decb4f8aa2327b4f43f31a22",
       "version_major": 2,
       "version_minor": 0
      },
      "text/plain": [
       "Batches:   0%|          | 0/1 [00:00<?, ?it/s]"
      ]
     },
     "metadata": {},
     "output_type": "display_data"
    },
    {
     "data": {
      "application/vnd.jupyter.widget-view+json": {
       "model_id": "2c98f189404540e3a70caedede6144ad",
       "version_major": 2,
       "version_minor": 0
      },
      "text/plain": [
       "Batches:   0%|          | 0/1 [00:00<?, ?it/s]"
      ]
     },
     "metadata": {},
     "output_type": "display_data"
    },
    {
     "data": {
      "application/vnd.jupyter.widget-view+json": {
       "model_id": "46a3ecf75f3a4496bd5099792fda97f4",
       "version_major": 2,
       "version_minor": 0
      },
      "text/plain": [
       "Batches:   0%|          | 0/1 [00:00<?, ?it/s]"
      ]
     },
     "metadata": {},
     "output_type": "display_data"
    },
    {
     "data": {
      "application/vnd.jupyter.widget-view+json": {
       "model_id": "be6b22ed02004f05ad350e88fe22af86",
       "version_major": 2,
       "version_minor": 0
      },
      "text/plain": [
       "Batches:   0%|          | 0/1 [00:00<?, ?it/s]"
      ]
     },
     "metadata": {},
     "output_type": "display_data"
    },
    {
     "name": "stderr",
     "output_type": "stream",
     "text": [
      "Processing queries (Bi-Encoder):  99%|█████████▊| 211/214 [15:15<00:00, 30.43it/s]"
     ]
    },
    {
     "data": {
      "application/vnd.jupyter.widget-view+json": {
       "model_id": "1dfad508fc044264a1bf3c12b6d9c33c",
       "version_major": 2,
       "version_minor": 0
      },
      "text/plain": [
       "Batches:   0%|          | 0/1 [00:00<?, ?it/s]"
      ]
     },
     "metadata": {},
     "output_type": "display_data"
    },
    {
     "data": {
      "application/vnd.jupyter.widget-view+json": {
       "model_id": "07958402cd0f43a28070909a466b56d1",
       "version_major": 2,
       "version_minor": 0
      },
      "text/plain": [
       "Batches:   0%|          | 0/1 [00:00<?, ?it/s]"
      ]
     },
     "metadata": {},
     "output_type": "display_data"
    },
    {
     "data": {
      "application/vnd.jupyter.widget-view+json": {
       "model_id": "4a85467bd57d4fc9b4f10a446dc0670d",
       "version_major": 2,
       "version_minor": 0
      },
      "text/plain": [
       "Batches:   0%|          | 0/1 [00:00<?, ?it/s]"
      ]
     },
     "metadata": {},
     "output_type": "display_data"
    },
    {
     "name": "stderr",
     "output_type": "stream",
     "text": [
      "Processing queries (Bi-Encoder): 100%|██████████| 214/214 [15:15<00:00,  4.28s/it]"
     ]
    },
    {
     "name": "stdout",
     "output_type": "stream",
     "text": [
      "29/10/2025 03:39:05 AM - INFO - OntoMapBIE: Bi-Encoder Results Generated\n",
      "29/10/2025 03:39:05 AM - INFO - OntoMapEngine: Stage 3 completed: 20 queries\n"
     ]
    },
    {
     "name": "stderr",
     "output_type": "stream",
     "text": [
      "\n"
     ]
    },
    {
     "name": "stdout",
     "output_type": "stream",
     "text": [
      "29/10/2025 03:39:05 AM - INFO - OntoMapEngine: ==================================================\n",
      "29/10/2025 03:39:05 AM - INFO - OntoMapEngine: FINAL SUMMARY\n",
      "29/10/2025 03:39:05 AM - INFO - OntoMapEngine: ==================================================\n",
      "29/10/2025 03:39:05 AM - INFO - OntoMapEngine: Stage 1 (Exact): 66 queries\n",
      "29/10/2025 03:39:05 AM - INFO - OntoMapEngine: Stage 2 (ST): 78 queries\n",
      "29/10/2025 03:39:05 AM - INFO - OntoMapEngine: Stage 3 (RAG_BIE): 20 queries\n"
     ]
    }
   ],
   "source": [
    "# rag_bie Strategy: Need corpus_df for concept retrieval and query_df for query enrichment.\n",
    "\n",
    "# Example: \n",
    "\n",
    "# Note: rag_bie is a query-enriched variant of RAG, so we have to use query with expanded fields.\n",
    "query_df = pd.read_csv(\"data/corpus/cbio_disease/query_with_selected_fields_for_bie.csv\")\n",
    "large_corpus = pd.read_csv(\n",
    "    'data/corpus/cbio_disease/disease_corpus_updated.csv')\n",
    "\n",
    "query_list = query_df['original_cancer_type_value'].tolist() # TODO: use a common schema for all strategies.\n",
    "large_corpus_list = large_corpus['official_label'].tolist() \n",
    "\n",
    "cura_map = dict(zip(query_df['original_cancer_type_value'], query_df['official_label']))\n",
    "\n",
    "# run rag_bie strategy:\n",
    "other_params = {\"test_or_prod\": \"test\"}\n",
    "onto_engine_large = OntoMapEngine(method='pubmed-bert',\n",
    "                                      category='disease',\n",
    "                                      topk=20,\n",
    "                                      query=query_list,\n",
    "                                      corpus=large_corpus_list,\n",
    "                                      cura_map=cura_map,\n",
    "                                      s2_strategy='st',\n",
    "                                      s3_strategy='rag_bie',\n",
    "                                      s3_threshold=0.95,\n",
    "                                      corpus_df=large_corpus,\n",
    "                                      query_df=query_df,\n",
    "                                      **other_params)\n",
    "pubmedbert_rag_bie_result = onto_engine_large.run()"
   ]
  },
  {
   "cell_type": "code",
   "execution_count": 10,
   "id": "ac4da85e",
   "metadata": {},
   "outputs": [
    {
     "name": "stdout",
     "output_type": "stream",
     "text": [
      "  Accuracy Level   Accuracy\n",
      "0    Top 1 Match  76.219512\n",
      "1  Top 3 Matches  77.439024\n",
      "2  Top 5 Matches  82.926829\n"
     ]
    }
   ],
   "source": [
    "pubmedbert_rag_bie_accuracy_df = calc.calc_accuracy(pubmedbert_rag_bie_result)\n",
    "print(pubmedbert_rag_bie_accuracy_df)"
   ]
  },
  {
   "cell_type": "markdown",
   "id": "a7566c09",
   "metadata": {},
   "source": [
    "Workflow Code"
   ]
  },
  {
   "cell_type": "code",
   "execution_count": 12,
   "id": "7a9e95d1",
   "metadata": {},
   "outputs": [
    {
     "name": "stdout",
     "output_type": "stream",
     "text": [
      "Flowchart saved as 'ontology_mapping_3stage_workflow.png'\n"
     ]
    }
   ],
   "source": [
    "from graphviz import Digraph\n",
    "\n",
    "dot = Digraph(comment='3-Stage Ontology Mapping Workflow')\n",
    "dot.attr(rankdir='TB', fontsize='10', fontname='Helvetica')\n",
    "\n",
    "# Input\n",
    "dot.node('A', 'Input Arguments\\n(query, corpus, s2_strategy, s3_strategy, s3_threshold)', shape='box', style='filled', fillcolor='lightgray')\n",
    "\n",
    "# ========== Stage 1 ==========\n",
    "with dot.subgraph(name='cluster_s1') as s1:\n",
    "    s1.attr(label='Stage 1: Exact Matching', style='filled', fillcolor='lightblue', fontsize='11')\n",
    "    s1.node('S1_EXACT', 'Exact Match?', shape='diamond')\n",
    "    s1.node('S1_MATCHED', 'Exact Matched Terms\\n(stage=1)', shape='box', style='filled', fillcolor='lightgreen')\n",
    "\n",
    "# ========== Stage 2 ==========\n",
    "with dot.subgraph(name='cluster_s2') as s2:\n",
    "    s2.attr(label='Stage 2: LM/ST (Transformer-based)', style='filled', fillcolor='lightyellow', fontsize='11')\n",
    "    s2.node('S2_ABBR', 'Replace Abbreviations\\n(via abbreviation dict)', shape='box')\n",
    "    s2.node('S2_STRATEGY', 'Choose s2_strategy:\\nLM or ST', shape='box', style='filled', fillcolor='orange')\n",
    "    s2.node('S2_FAISS', 'Check FAISS Index &\\nSQLite Table', shape='box')\n",
    "    s2.node('S2_BUILD', 'Encode Corpus Terms\\n→ Store in FAISS & SQLite', shape='box')\n",
    "    s2.node('S2_CHECK', 'Check Completeness\\n→ Append Missing if Needed', shape='box')\n",
    "    s2.node('S2_ENCODE', 'Encode Query Terms', shape='box', style='filled', fillcolor='lightyellow')\n",
    "    s2.node('S2_SEARCH', 'FAISS Search\\n(Get top-k matches + scores)', shape='ellipse', style='filled', fillcolor='orange')\n",
    "    s2.node('S2_RESULT', 'Stage 2 Results\\n(stage=2, with top1_score)', shape='box', style='filled', fillcolor='lightgreen')\n",
    "\n",
    "# ========== Stage 3 ==========\n",
    "with dot.subgraph(name='cluster_s3') as s3:\n",
    "    s3.attr(label='Stage 3: RAG/RAG_BIE (Optional, for low-confidence queries)', style='filled', fillcolor='lightcoral', fontsize='11')\n",
    "    s3.node('S3_CHECK', 'top1_score < s3_threshold?', shape='diamond')\n",
    "    s3.node('S3_SKIP', 'Skip Stage 3', shape='box', style='dashed')\n",
    "    s3.node('S3_ABBR', 'Replace Abbreviations\\nfor low-confidence queries', shape='box')\n",
    "    s3.node('S3_STRATEGY', 'Choose s3_strategy:\\nRAG or RAG_BIE', shape='box', style='filled', fillcolor='orange')\n",
    "    s3.node('S3_FAISS', 'Check FAISS Index &\\nSQLite Table', shape='box')\n",
    "    s3.node('S3_BUILD', 'Encode Corpus Contexts\\n→ Store in FAISS & SQLite', shape='box')\n",
    "    s3.node('S3_CHECK_DB', 'Check Completeness\\n→ Append Missing if Needed', shape='box')\n",
    "    s3.node('S3_ENCODE_RAG', 'RAG:\\nEncode Query Terms', shape='box', style='filled', fillcolor='lightcoral')\n",
    "    s3.node('S3_ENCODE_RAGBIE', 'RAG_BIE:\\nEnrich + Encode Query', shape='box', style='filled', fillcolor='lightcoral')\n",
    "    s3.node('S3_SEARCH', 'FAISS Search\\n(Get top-k matches + scores)', shape='ellipse', style='filled', fillcolor='orange')\n",
    "    s3.node('S3_RESULT', 'Stage 3 Results\\n(stage=3, overrides low-confidence S2 results)', shape='box', style='filled', fillcolor='lightgreen')\n",
    "\n",
    "# ========== Final Merge ==========\n",
    "dot.node('MERGE', 'Merge All Stages:\\nStage 1 + Stage 2 (filtered) + Stage 3', shape='box', style='filled', fillcolor='lightgreen')\n",
    "dot.node('OUTPUT', 'Final Output DataFrame\\n(with stage column: 1, 2, or 3)', shape='box', style='filled', fillcolor='green')\n",
    "\n",
    "# ========== Flow Edges ==========\n",
    "# Input to Stage 1\n",
    "dot.edge('A', 'S1_EXACT')\n",
    "\n",
    "# Stage 1 flow\n",
    "dot.edge('S1_EXACT', 'S1_MATCHED', label='Yes')\n",
    "dot.edge('S1_EXACT', 'S2_ABBR', label='No\\n(unmatched queries)')\n",
    "\n",
    "# Stage 2 flow\n",
    "dot.edge('S2_ABBR', 'S2_STRATEGY')\n",
    "dot.edge('S2_STRATEGY', 'S2_FAISS')\n",
    "dot.edge('S2_FAISS', 'S2_BUILD', label='Not Exist')\n",
    "dot.edge('S2_FAISS', 'S2_CHECK', label='Exist')\n",
    "dot.edge('S2_BUILD', 'S2_ENCODE')\n",
    "dot.edge('S2_CHECK', 'S2_ENCODE')\n",
    "dot.edge('S2_ENCODE', 'S2_SEARCH')\n",
    "dot.edge('S2_SEARCH', 'S2_RESULT')\n",
    "\n",
    "# Stage 2 to Stage 3 decision\n",
    "dot.edge('S2_RESULT', 'S3_CHECK')\n",
    "dot.edge('S3_CHECK', 'S3_SKIP', label='No / s3_strategy=None')\n",
    "dot.edge('S3_CHECK', 'S3_ABBR', label='Yes')\n",
    "\n",
    "# Stage 3 flow\n",
    "dot.edge('S3_ABBR', 'S3_STRATEGY')\n",
    "dot.edge('S3_STRATEGY', 'S3_FAISS')\n",
    "dot.edge('S3_FAISS', 'S3_BUILD', label='Not Exist')\n",
    "dot.edge('S3_FAISS', 'S3_CHECK_DB', label='Exist')\n",
    "dot.edge('S3_BUILD', 'S3_ENCODE_RAG', label='RAG')\n",
    "dot.edge('S3_BUILD', 'S3_ENCODE_RAGBIE', label='RAG_BIE')\n",
    "dot.edge('S3_CHECK_DB', 'S3_ENCODE_RAG', label='RAG')\n",
    "dot.edge('S3_CHECK_DB', 'S3_ENCODE_RAGBIE', label='RAG_BIE')\n",
    "dot.edge('S3_ENCODE_RAG', 'S3_SEARCH')\n",
    "dot.edge('S3_ENCODE_RAGBIE', 'S3_SEARCH')\n",
    "dot.edge('S3_SEARCH', 'S3_RESULT')\n",
    "\n",
    "# Merge all stages\n",
    "dot.edge('S1_MATCHED', 'MERGE')\n",
    "dot.edge('S2_RESULT', 'MERGE', label='(if S3 skipped)')\n",
    "dot.edge('S3_SKIP', 'MERGE')\n",
    "dot.edge('S3_RESULT', 'MERGE')\n",
    "\n",
    "# Final output\n",
    "dot.edge('MERGE', 'OUTPUT')\n",
    "\n",
    "# Note\n",
    "dot.node('NOTE', 'Note:\\n• Stage 1: Exact matching (always runs)\\n• Stage 2: LM/ST transformer matching (always runs)\\n• Stage 3: RAG/RAG_BIE context-based matching\\n  (only for queries with top1_score < s3_threshold)\\n• RAG_BIE enriches queries before encoding', \n",
    "         shape='note', style='dashed', fontsize='9', fontcolor='slategray')\n",
    "dot.edge('OUTPUT', 'NOTE', style='invis')\n",
    "\n",
    "# Render\n",
    "dot.render('ontology_mapping_3stage_workflow', format='png', cleanup=True)\n",
    "print(\"Flowchart saved as 'ontology_mapping_3stage_workflow.png'\")"
   ]
  }
 ],
 "metadata": {
  "kernelspec": {
   "display_name": "demo_env",
   "language": "python",
   "name": "python3"
  },
  "language_info": {
   "codemirror_mode": {
    "name": "ipython",
    "version": 3
   },
   "file_extension": ".py",
   "mimetype": "text/x-python",
   "name": "python",
   "nbconvert_exporter": "python",
   "pygments_lexer": "ipython3",
   "version": "3.10.18"
  }
 },
 "nbformat": 4,
 "nbformat_minor": 5
}
