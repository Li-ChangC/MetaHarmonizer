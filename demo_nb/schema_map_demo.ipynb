{
 "cells": [
  {
   "cell_type": "markdown",
   "metadata": {},
   "source": [
    "## Import schema mapping module"
   ]
  },
  {
   "cell_type": "code",
   "execution_count": 1,
   "metadata": {},
   "outputs": [
    {
     "name": "stdout",
     "output_type": "stream",
     "text": [
      "/Users/abhilashdhal/Desktop/cbioportal_gsoc/OmicsMLRepoHarmonizer\n"
     ]
    }
   ],
   "source": [
    "%cd '/Users/abhilashdhal/Desktop/cbioportal_gsoc/OmicsMLRepoHarmonizer'"
   ]
  },
  {
   "cell_type": "code",
   "execution_count": 2,
   "metadata": {},
   "outputs": [
    {
     "name": "stderr",
     "output_type": "stream",
     "text": [
      "/opt/homebrew/anaconda3/envs/‘gsoc_harmon_2024’/lib/python3.12/site-packages/tqdm/auto.py:21: TqdmWarning: IProgress not found. Please update jupyter and ipywidgets. See https://ipywidgets.readthedocs.io/en/stable/user_install.html\n",
      "  from .autonotebook import tqdm as notebook_tqdm\n",
      "/opt/homebrew/anaconda3/envs/‘gsoc_harmon_2024’/lib/python3.12/site-packages/fuzzywuzzy/fuzz.py:11: UserWarning: Using slow pure-python SequenceMatcher. Install python-Levenshtein to remove this warning\n",
      "  warnings.warn('Using slow pure-python SequenceMatcher. Install python-Levenshtein to remove this warning')\n",
      "[nltk_data] Downloading package punkt to\n",
      "[nltk_data]     /Users/abhilashdhal/nltk_data...\n",
      "[nltk_data]   Package punkt is already up-to-date!\n",
      "[nltk_data] Downloading package wordnet to\n",
      "[nltk_data]     /Users/abhilashdhal/nltk_data...\n",
      "[nltk_data]   Package wordnet is already up-to-date!\n",
      "[nltk_data] Downloading package punkt to\n",
      "[nltk_data]     /Users/abhilashdhal/nltk_data...\n",
      "[nltk_data]   Package punkt is already up-to-date!\n",
      "[nltk_data] Downloading package stopwords to\n",
      "[nltk_data]     /Users/abhilashdhal/nltk_data...\n",
      "[nltk_data]   Package stopwords is already up-to-date!\n",
      "[nltk_data] Downloading package wordnet to\n",
      "[nltk_data]     /Users/abhilashdhal/nltk_data...\n",
      "[nltk_data]   Package wordnet is already up-to-date!\n"
     ]
    }
   ],
   "source": [
    "import src.Engine.schema_mapping_engine as sme"
   ]
  },
  {
   "cell_type": "markdown",
   "metadata": {},
   "source": [
    "## Initialize Schema Mapping Engine"
   ]
  },
  {
   "cell_type": "code",
   "execution_count": 3,
   "metadata": {},
   "outputs": [
    {
     "name": "stdout",
     "output_type": "stream",
     "text": [
      "02/09//2024 06:01:1725280285 PM - INFO - SchemaMapEngine: Initialized SchemaMap Engine module\n",
      "02/09//2024 06:01:1725280285 PM - INFO - SchemaMapEngine: Initialized SchemaMap Engine module\n",
      "02/09//2024 06:01:1725280285 PM - INFO - SchemaMapEngine: Initialized SchemaMap Engine module\n",
      "02/09//2024 06:01:1725280285 PM - INFO - SchemaMapEngine: Initialized SchemaMap Engine module\n",
      "02/09//2024 06:01:1725280285 PM - INFO - SchemaMapEngine: Initialized SchemaMap Engine module\n",
      "02/09//2024 06:01:1725280285 PM - INFO - SchemaMapEngine: Initialized SchemaMap Engine module\n"
     ]
    }
   ],
   "source": [
    "\n",
    "sme_runner_bert = sme.SchemaMapEngine(\n",
    "     clinical_data_path='./personal_docs/schema_mapping_msk_impact_datasets/hnsc_tcga_gdc_clinical_data.tsv', \n",
    "     schema_map_path='./personal_docs/schema_map_less_nested_dict.pkl', \n",
    "     matcher_type='Bert', output_file_name='test_bert_schema_mapping.json', k=5\n",
    ")\n",
    "\n",
    "sme_runner_lda = sme.SchemaMapEngine(\n",
    "     clinical_data_path='./personal_docs/schema_mapping_msk_impact_datasets/hnsc_tcga_gdc_clinical_data.tsv', \n",
    "     schema_map_path='./personal_docs/schema_map_less_nested_dict.pkl', \n",
    "     matcher_type='LDA', output_file_name='test_LDA_schema_mapping.json', k=5\n",
    ") \n",
    "\n",
    "sme_runner_freq = sme.SchemaMapEngine(\n",
    "     clinical_data_path='./personal_docs/schema_mapping_msk_impact_datasets/hnsc_tcga_gdc_clinical_data.tsv', \n",
    "     schema_map_path='./personal_docs/schema_map_less_nested_dict.pkl', \n",
    "     matcher_type=None, output_file_name='test_freq_schema_mapping.json', k=5\n",
    ")"
   ]
  },
  {
   "cell_type": "markdown",
   "metadata": {},
   "source": [
    "## Run Schema Mapping"
   ]
  },
  {
   "cell_type": "markdown",
   "metadata": {},
   "source": [
    "## Bert approach"
   ]
  },
  {
   "cell_type": "code",
   "execution_count": 4,
   "metadata": {},
   "outputs": [
    {
     "name": "stdout",
     "output_type": "stream",
     "text": [
      "02/09//2024 06:01:1725280285 PM - INFO - SchemaMapEngine: Running Schema Mapper\n",
      "02/09//2024 06:01:1725280285 PM - INFO - SchemaMapEngine: Running Schema Mapper\n",
      "02/09//2024 06:01:1725280285 PM - INFO - SchemaMapEngine: Running Schema Mapper\n"
     ]
    },
    {
     "name": "stderr",
     "output_type": "stream",
     "text": [
      "/opt/homebrew/anaconda3/envs/‘gsoc_harmon_2024’/lib/python3.12/site-packages/transformers/tokenization_utils_base.py:1601: FutureWarning: `clean_up_tokenization_spaces` was not set. It will be set to `True` by default. This behavior will be depracted in transformers v4.45, and will be then set to `False` by default. For more details check this issue: https://github.com/huggingface/transformers/issues/31884\n",
      "  warnings.warn(\n"
     ]
    },
    {
     "name": "stdout",
     "output_type": "stream",
     "text": [
      "02/09//2024 06:01:1725280302 PM - INFO - SchemaMapEngine: Json file saved\n",
      "02/09//2024 06:01:1725280302 PM - INFO - SchemaMapEngine: Json file saved\n",
      "02/09//2024 06:01:1725280302 PM - INFO - SchemaMapEngine: Json file saved\n"
     ]
    }
   ],
   "source": [
    "# # Using the class to process the provided files and save the output as a JSON file\n",
    "# matcher = ClinicalDataMatcher(clinical_data_path='./blca_mskcc_solit_2014_clinical_data.tsv',\n",
    "#                               schema_map_path='./schema_map_nested_dict.pkl')\n",
    "\n",
    "# output_json_path = './column_mapping_output.json'\n",
    "# matcher.save_output_to_json(output_json_path)\n",
    "sme_runner_bert.run_schema_mapping()"
   ]
  },
  {
   "cell_type": "markdown",
   "metadata": {},
   "source": [
    "## LDA Approach"
   ]
  },
  {
   "cell_type": "code",
   "execution_count": 5,
   "metadata": {},
   "outputs": [
    {
     "name": "stdout",
     "output_type": "stream",
     "text": [
      "26/08//2024 12:40:1724613006 AM - INFO - SchemaMapEngine: Running Schema Mapper\n",
      "26/08//2024 12:40:1724613006 AM - INFO - SchemaMapEngine: Running Schema Mapper\n",
      "26/08//2024 12:40:1724613006 AM - INFO - SchemaMapEngine: Running Schema Mapper\n",
      "26/08//2024 12:40:1724613007 AM - INFO - SchemaMapEngine: Json file saved\n",
      "26/08//2024 12:40:1724613007 AM - INFO - SchemaMapEngine: Json file saved\n",
      "26/08//2024 12:40:1724613007 AM - INFO - SchemaMapEngine: Json file saved\n"
     ]
    }
   ],
   "source": [
    "sme_runner_lda.run_schema_mapping()"
   ]
  },
  {
   "cell_type": "markdown",
   "metadata": {},
   "source": [
    "## Frequency approach"
   ]
  },
  {
   "cell_type": "code",
   "execution_count": 6,
   "metadata": {},
   "outputs": [
    {
     "name": "stdout",
     "output_type": "stream",
     "text": [
      "26/08//2024 12:40:1724613007 AM - INFO - SchemaMapEngine: Running Schema Mapper\n",
      "26/08//2024 12:40:1724613007 AM - INFO - SchemaMapEngine: Running Schema Mapper\n",
      "26/08//2024 12:40:1724613007 AM - INFO - SchemaMapEngine: Running Schema Mapper\n",
      "26/08//2024 12:40:1724613007 AM - INFO - SchemaMapEngine: Json file saved\n",
      "26/08//2024 12:40:1724613007 AM - INFO - SchemaMapEngine: Json file saved\n",
      "26/08//2024 12:40:1724613007 AM - INFO - SchemaMapEngine: Json file saved\n"
     ]
    }
   ],
   "source": [
    "sme_runner_freq.run_schema_mapping()"
   ]
  }
 ],
 "metadata": {
  "kernelspec": {
   "display_name": "‘gsoc_harmon_2024’",
   "language": "python",
   "name": "python3"
  },
  "language_info": {
   "codemirror_mode": {
    "name": "ipython",
    "version": 3
   },
   "file_extension": ".py",
   "mimetype": "text/x-python",
   "name": "python",
   "nbconvert_exporter": "python",
   "pygments_lexer": "ipython3",
   "version": "3.12.2"
  }
 },
 "nbformat": 4,
 "nbformat_minor": 2
}
