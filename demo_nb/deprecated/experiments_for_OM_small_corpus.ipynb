{
 "cells": [
  {
   "cell_type": "code",
   "execution_count": 1,
   "metadata": {},
   "outputs": [
    {
     "name": "stderr",
     "output_type": "stream",
     "text": [
      "/opt/homebrew/anaconda3/envs/‘gsoc_harmon_2024’/lib/python3.12/site-packages/tqdm/auto.py:21: TqdmWarning: IProgress not found. Please update jupyter and ipywidgets. See https://ipywidgets.readthedocs.io/en/stable/user_install.html\n",
      "  from .autonotebook import tqdm as notebook_tqdm\n",
      "/opt/homebrew/anaconda3/envs/‘gsoc_harmon_2024’/lib/python3.12/site-packages/fuzzywuzzy/fuzz.py:11: UserWarning: Using slow pure-python SequenceMatcher. Install python-Levenshtein to remove this warning\n",
      "  warnings.warn('Using slow pure-python SequenceMatcher. Install python-Levenshtein to remove this warning')\n",
      "[nltk_data] Downloading package punkt to\n",
      "[nltk_data]     /Users/abhilashdhal/nltk_data...\n",
      "[nltk_data]   Package punkt is already up-to-date!\n",
      "[nltk_data] Downloading package wordnet to\n",
      "[nltk_data]     /Users/abhilashdhal/nltk_data...\n",
      "[nltk_data]   Package wordnet is already up-to-date!\n",
      "USER_AGENT environment variable not set, consider setting it to identify your requests.\n",
      "[nltk_data] Downloading package punkt to\n",
      "[nltk_data]     /Users/abhilashdhal/nltk_data...\n",
      "[nltk_data]   Package punkt is already up-to-date!\n",
      "[nltk_data] Downloading package stopwords to\n",
      "[nltk_data]     /Users/abhilashdhal/nltk_data...\n",
      "[nltk_data]   Package stopwords is already up-to-date!\n",
      "[nltk_data] Downloading package wordnet to\n",
      "[nltk_data]     /Users/abhilashdhal/nltk_data...\n",
      "[nltk_data]   Package wordnet is already up-to-date!\n"
     ]
    },
    {
     "data": {
      "text/plain": [
       "<module 'src.models.ontology_mapper_lm' from '/Users/abhilashdhal/Desktop/cbioportal_gsoc/OmicsMLRepoHarmonizer/src/models/ontology_mapper_lm.py'>"
      ]
     },
     "execution_count": 1,
     "metadata": {},
     "output_type": "execute_result"
    }
   ],
   "source": [
    "import gevent.monkey\n",
    "gevent.monkey.patch_all(thread=False, select=False)\n",
    "import numpy as np\n",
    "import torch\n",
    "from tqdm.auto import tqdm\n",
    "from transformers import AutoTokenizer, AutoModel\n",
    "import os\n",
    "import pandas as pd\n",
    "from importlib import reload\n",
    "import src.models.ontology_mapper_st as om_st\n",
    "import src.Engine.ontology_mapping_engine as ome\n",
    "import src.models.ontology_mapper_lm as om_lm\n",
    "import sys\n",
    "sys.setrecursionlimit(5000)  # Increase as needed\n",
    "reload(om_st)\n",
    "reload(ome)\n",
    "reload(om_lm)"
   ]
  },
  {
   "cell_type": "code",
   "execution_count": 2,
   "metadata": {},
   "outputs": [],
   "source": [
    "file_dict = {'treatment': './data/cBioPortal_treatment_name_map.csv', 'bodysite': './data/cBioPortal_bodysite_map.csv', 'disease': './data/cBioPortal_disease_map.csv'}\n",
    "\n",
    "def get_query_corpus_curamap(file_path):    \n",
    "    cura_map = pd.read_csv(file_path)\n",
    "    query_list = cura_map['original_value'].tolist()\n",
    "    small_corpus_list = cura_map['curated_ontology'].to_list()\n",
    "    cura_map = dict(zip(query_list, small_corpus_list))\n",
    "    return {'query': list(np.unique(query_list)), 'corpus': list(np.unique(small_corpus_list)), 'cura_map': cura_map}"
   ]
  },
  {
   "cell_type": "markdown",
   "metadata": {},
   "source": [
    "## 1. Run experiments for each file in the file_dict (Stage I + Stage II) using Only sap-bert and pubmedbert"
   ]
  },
  {
   "cell_type": "code",
   "execution_count": 3,
   "metadata": {},
   "outputs": [
    {
     "name": "stdout",
     "output_type": "stream",
     "text": [
      "09/09//2024 01:14:1725867863 PM - INFO - OntoMapEngine: Initialized OntoMap Engine module\n",
      "09/09//2024 01:14:1725867863 PM - INFO - OntoMapEngine: Running Ontology Mapping\n",
      "09/09//2024 01:14:1725867863 PM - INFO - OntoMapEngine: Separating exact and non-exact matches\n",
      "09/09//2024 01:14:1725867863 PM - INFO - OntoMapEngine: Running OntoMap model for non-exact matches\n",
      "09/09//2024 01:14:1725867863 PM - INFO - OntoMapLM: Initialized OntoMap Language Model module\n",
      "09/09//2024 01:14:1725867863 PM - INFO - OntoMapLM.get_match_results: Creating embeddings for query_list and corpus\n"
     ]
    },
    {
     "name": "stderr",
     "output_type": "stream",
     "text": [
      "/opt/homebrew/anaconda3/envs/‘gsoc_harmon_2024’/lib/python3.12/site-packages/transformers/tokenization_utils_base.py:1601: FutureWarning: `clean_up_tokenization_spaces` was not set. It will be set to `True` by default. This behavior will be depracted in transformers v4.45, and will be then set to `False` by default. For more details check this issue: https://github.com/huggingface/transformers/issues/31884\n",
      "  warnings.warn(\n",
      "/opt/homebrew/anaconda3/envs/‘gsoc_harmon_2024’/lib/python3.12/site-packages/transformers/tokenization_utils_base.py:1601: FutureWarning: `clean_up_tokenization_spaces` was not set. It will be set to `True` by default. This behavior will be depracted in transformers v4.45, and will be then set to `False` by default. For more details check this issue: https://github.com/huggingface/transformers/issues/31884\n",
      "  warnings.warn(\n"
     ]
    },
    {
     "name": "stdout",
     "output_type": "stream",
     "text": [
      "09/09//2024 01:14:1725867878 PM - INFO - OntoMapLM.get_match_results: Calculating cosine similarity matrix\n",
      "09/09//2024 01:14:1725867878 PM - INFO - OntoMapLM.get_match_results: Generating results table\n",
      "09/09//2024 01:14:1725867878 PM - INFO - OntoMapLM.get_match_results: Results Generated\n",
      "09/09//2024 01:14:1725867878 PM - INFO - OntoMapEngine: Initialized OntoMap Engine module\n",
      "09/09//2024 01:14:1725867878 PM - INFO - OntoMapEngine: Initialized OntoMap Engine module\n",
      "09/09//2024 01:14:1725867878 PM - INFO - OntoMapEngine: Running Ontology Mapping\n",
      "09/09//2024 01:14:1725867878 PM - INFO - OntoMapEngine: Running Ontology Mapping\n",
      "09/09//2024 01:14:1725867878 PM - INFO - OntoMapEngine: Separating exact and non-exact matches\n",
      "09/09//2024 01:14:1725867878 PM - INFO - OntoMapEngine: Separating exact and non-exact matches\n",
      "09/09//2024 01:14:1725867878 PM - INFO - OntoMapEngine: Running OntoMap model for non-exact matches\n",
      "09/09//2024 01:14:1725867878 PM - INFO - OntoMapEngine: Running OntoMap model for non-exact matches\n",
      "09/09//2024 01:14:1725867878 PM - INFO - OntoMapLM: Initialized OntoMap Language Model module\n",
      "09/09//2024 01:14:1725867878 PM - INFO - OntoMapLM: Initialized OntoMap Language Model module\n",
      "09/09//2024 01:14:1725867878 PM - INFO - OntoMapLM.get_match_results: Creating embeddings for query_list and corpus\n",
      "09/09//2024 01:14:1725867878 PM - INFO - OntoMapLM.get_match_results: Creating embeddings for query_list and corpus\n"
     ]
    },
    {
     "name": "stderr",
     "output_type": "stream",
     "text": [
      "/opt/homebrew/anaconda3/envs/‘gsoc_harmon_2024’/lib/python3.12/site-packages/transformers/tokenization_utils_base.py:1601: FutureWarning: `clean_up_tokenization_spaces` was not set. It will be set to `True` by default. This behavior will be depracted in transformers v4.45, and will be then set to `False` by default. For more details check this issue: https://github.com/huggingface/transformers/issues/31884\n",
      "  warnings.warn(\n"
     ]
    },
    {
     "name": "stdout",
     "output_type": "stream",
     "text": [
      "09/09//2024 01:14:1725867891 PM - INFO - OntoMapLM.get_match_results: Calculating cosine similarity matrix\n",
      "09/09//2024 01:14:1725867891 PM - INFO - OntoMapLM.get_match_results: Calculating cosine similarity matrix\n",
      "09/09//2024 01:14:1725867891 PM - INFO - OntoMapLM.get_match_results: Generating results table\n",
      "09/09//2024 01:14:1725867891 PM - INFO - OntoMapLM.get_match_results: Generating results table\n",
      "09/09//2024 01:14:1725867892 PM - INFO - OntoMapLM.get_match_results: Results Generated\n",
      "09/09//2024 01:14:1725867892 PM - INFO - OntoMapLM.get_match_results: Results Generated\n",
      "09/09//2024 01:14:1725867892 PM - INFO - OntoMapEngine: Initialized OntoMap Engine module\n",
      "09/09//2024 01:14:1725867892 PM - INFO - OntoMapEngine: Initialized OntoMap Engine module\n",
      "09/09//2024 01:14:1725867892 PM - INFO - OntoMapEngine: Initialized OntoMap Engine module\n",
      "09/09//2024 01:14:1725867892 PM - INFO - OntoMapEngine: Running Ontology Mapping\n",
      "09/09//2024 01:14:1725867892 PM - INFO - OntoMapEngine: Running Ontology Mapping\n",
      "09/09//2024 01:14:1725867892 PM - INFO - OntoMapEngine: Running Ontology Mapping\n",
      "09/09//2024 01:14:1725867892 PM - INFO - OntoMapEngine: Separating exact and non-exact matches\n",
      "09/09//2024 01:14:1725867892 PM - INFO - OntoMapEngine: Separating exact and non-exact matches\n",
      "09/09//2024 01:14:1725867892 PM - INFO - OntoMapEngine: Separating exact and non-exact matches\n",
      "09/09//2024 01:14:1725867892 PM - INFO - OntoMapEngine: Running OntoMap model for non-exact matches\n",
      "09/09//2024 01:14:1725867892 PM - INFO - OntoMapEngine: Running OntoMap model for non-exact matches\n",
      "09/09//2024 01:14:1725867892 PM - INFO - OntoMapEngine: Running OntoMap model for non-exact matches\n",
      "09/09//2024 01:14:1725867892 PM - INFO - OntoMapLM: Initialized OntoMap Language Model module\n",
      "09/09//2024 01:14:1725867892 PM - INFO - OntoMapLM: Initialized OntoMap Language Model module\n",
      "09/09//2024 01:14:1725867892 PM - INFO - OntoMapLM: Initialized OntoMap Language Model module\n",
      "09/09//2024 01:14:1725867892 PM - INFO - OntoMapLM.get_match_results: Creating embeddings for query_list and corpus\n",
      "09/09//2024 01:14:1725867892 PM - INFO - OntoMapLM.get_match_results: Creating embeddings for query_list and corpus\n",
      "09/09//2024 01:14:1725867892 PM - INFO - OntoMapLM.get_match_results: Creating embeddings for query_list and corpus\n"
     ]
    },
    {
     "name": "stderr",
     "output_type": "stream",
     "text": [
      "/opt/homebrew/anaconda3/envs/‘gsoc_harmon_2024’/lib/python3.12/site-packages/transformers/tokenization_utils_base.py:1601: FutureWarning: `clean_up_tokenization_spaces` was not set. It will be set to `True` by default. This behavior will be depracted in transformers v4.45, and will be then set to `False` by default. For more details check this issue: https://github.com/huggingface/transformers/issues/31884\n",
      "  warnings.warn(\n"
     ]
    },
    {
     "name": "stdout",
     "output_type": "stream",
     "text": [
      "09/09//2024 01:15:1725867924 PM - INFO - OntoMapLM.get_match_results: Calculating cosine similarity matrix\n",
      "09/09//2024 01:15:1725867924 PM - INFO - OntoMapLM.get_match_results: Calculating cosine similarity matrix\n",
      "09/09//2024 01:15:1725867924 PM - INFO - OntoMapLM.get_match_results: Calculating cosine similarity matrix\n",
      "09/09//2024 01:15:1725867924 PM - INFO - OntoMapLM.get_match_results: Generating results table\n",
      "09/09//2024 01:15:1725867924 PM - INFO - OntoMapLM.get_match_results: Generating results table\n",
      "09/09//2024 01:15:1725867924 PM - INFO - OntoMapLM.get_match_results: Generating results table\n",
      "09/09//2024 01:15:1725867924 PM - INFO - OntoMapLM.get_match_results: Results Generated\n",
      "09/09//2024 01:15:1725867924 PM - INFO - OntoMapLM.get_match_results: Results Generated\n",
      "09/09//2024 01:15:1725867924 PM - INFO - OntoMapLM.get_match_results: Results Generated\n",
      "09/09//2024 01:15:1725867925 PM - INFO - OntoMapEngine: Initialized OntoMap Engine module\n",
      "09/09//2024 01:15:1725867925 PM - INFO - OntoMapEngine: Initialized OntoMap Engine module\n",
      "09/09//2024 01:15:1725867925 PM - INFO - OntoMapEngine: Initialized OntoMap Engine module\n",
      "09/09//2024 01:15:1725867925 PM - INFO - OntoMapEngine: Initialized OntoMap Engine module\n",
      "09/09//2024 01:15:1725867925 PM - INFO - OntoMapEngine: Running Ontology Mapping\n",
      "09/09//2024 01:15:1725867925 PM - INFO - OntoMapEngine: Running Ontology Mapping\n",
      "09/09//2024 01:15:1725867925 PM - INFO - OntoMapEngine: Running Ontology Mapping\n",
      "09/09//2024 01:15:1725867925 PM - INFO - OntoMapEngine: Running Ontology Mapping\n",
      "09/09//2024 01:15:1725867925 PM - INFO - OntoMapEngine: Separating exact and non-exact matches\n",
      "09/09//2024 01:15:1725867925 PM - INFO - OntoMapEngine: Separating exact and non-exact matches\n",
      "09/09//2024 01:15:1725867925 PM - INFO - OntoMapEngine: Separating exact and non-exact matches\n",
      "09/09//2024 01:15:1725867925 PM - INFO - OntoMapEngine: Separating exact and non-exact matches\n",
      "09/09//2024 01:15:1725867925 PM - INFO - OntoMapEngine: Running OntoMap model for non-exact matches\n",
      "09/09//2024 01:15:1725867925 PM - INFO - OntoMapEngine: Running OntoMap model for non-exact matches\n",
      "09/09//2024 01:15:1725867925 PM - INFO - OntoMapEngine: Running OntoMap model for non-exact matches\n",
      "09/09//2024 01:15:1725867925 PM - INFO - OntoMapEngine: Running OntoMap model for non-exact matches\n",
      "09/09//2024 01:15:1725867925 PM - INFO - OntoMapLM: Initialized OntoMap Language Model module\n",
      "09/09//2024 01:15:1725867925 PM - INFO - OntoMapLM: Initialized OntoMap Language Model module\n",
      "09/09//2024 01:15:1725867925 PM - INFO - OntoMapLM: Initialized OntoMap Language Model module\n",
      "09/09//2024 01:15:1725867925 PM - INFO - OntoMapLM: Initialized OntoMap Language Model module\n",
      "09/09//2024 01:15:1725867925 PM - INFO - OntoMapLM.get_match_results: Creating embeddings for query_list and corpus\n",
      "09/09//2024 01:15:1725867925 PM - INFO - OntoMapLM.get_match_results: Creating embeddings for query_list and corpus\n",
      "09/09//2024 01:15:1725867925 PM - INFO - OntoMapLM.get_match_results: Creating embeddings for query_list and corpus\n",
      "09/09//2024 01:15:1725867925 PM - INFO - OntoMapLM.get_match_results: Creating embeddings for query_list and corpus\n"
     ]
    },
    {
     "name": "stderr",
     "output_type": "stream",
     "text": [
      "/opt/homebrew/anaconda3/envs/‘gsoc_harmon_2024’/lib/python3.12/site-packages/transformers/tokenization_utils_base.py:1601: FutureWarning: `clean_up_tokenization_spaces` was not set. It will be set to `True` by default. This behavior will be depracted in transformers v4.45, and will be then set to `False` by default. For more details check this issue: https://github.com/huggingface/transformers/issues/31884\n",
      "  warnings.warn(\n"
     ]
    },
    {
     "name": "stdout",
     "output_type": "stream",
     "text": [
      "09/09//2024 01:15:1725867936 PM - INFO - OntoMapLM.get_match_results: Calculating cosine similarity matrix\n",
      "09/09//2024 01:15:1725867936 PM - INFO - OntoMapLM.get_match_results: Calculating cosine similarity matrix\n",
      "09/09//2024 01:15:1725867936 PM - INFO - OntoMapLM.get_match_results: Calculating cosine similarity matrix\n",
      "09/09//2024 01:15:1725867936 PM - INFO - OntoMapLM.get_match_results: Calculating cosine similarity matrix\n",
      "09/09//2024 01:15:1725867936 PM - INFO - OntoMapLM.get_match_results: Generating results table\n",
      "09/09//2024 01:15:1725867936 PM - INFO - OntoMapLM.get_match_results: Generating results table\n",
      "09/09//2024 01:15:1725867936 PM - INFO - OntoMapLM.get_match_results: Generating results table\n",
      "09/09//2024 01:15:1725867936 PM - INFO - OntoMapLM.get_match_results: Generating results table\n",
      "09/09//2024 01:15:1725867936 PM - INFO - OntoMapLM.get_match_results: Results Generated\n",
      "09/09//2024 01:15:1725867936 PM - INFO - OntoMapLM.get_match_results: Results Generated\n",
      "09/09//2024 01:15:1725867936 PM - INFO - OntoMapLM.get_match_results: Results Generated\n",
      "09/09//2024 01:15:1725867936 PM - INFO - OntoMapLM.get_match_results: Results Generated\n",
      "09/09//2024 01:15:1725867936 PM - INFO - OntoMapEngine: Initialized OntoMap Engine module\n",
      "09/09//2024 01:15:1725867936 PM - INFO - OntoMapEngine: Initialized OntoMap Engine module\n",
      "09/09//2024 01:15:1725867936 PM - INFO - OntoMapEngine: Initialized OntoMap Engine module\n",
      "09/09//2024 01:15:1725867936 PM - INFO - OntoMapEngine: Initialized OntoMap Engine module\n",
      "09/09//2024 01:15:1725867936 PM - INFO - OntoMapEngine: Initialized OntoMap Engine module\n",
      "09/09//2024 01:15:1725867936 PM - INFO - OntoMapEngine: Running Ontology Mapping\n",
      "09/09//2024 01:15:1725867936 PM - INFO - OntoMapEngine: Running Ontology Mapping\n",
      "09/09//2024 01:15:1725867936 PM - INFO - OntoMapEngine: Running Ontology Mapping\n",
      "09/09//2024 01:15:1725867936 PM - INFO - OntoMapEngine: Running Ontology Mapping\n",
      "09/09//2024 01:15:1725867936 PM - INFO - OntoMapEngine: Running Ontology Mapping\n",
      "09/09//2024 01:15:1725867936 PM - INFO - OntoMapEngine: Separating exact and non-exact matches\n",
      "09/09//2024 01:15:1725867936 PM - INFO - OntoMapEngine: Separating exact and non-exact matches\n",
      "09/09//2024 01:15:1725867936 PM - INFO - OntoMapEngine: Separating exact and non-exact matches\n",
      "09/09//2024 01:15:1725867936 PM - INFO - OntoMapEngine: Separating exact and non-exact matches\n",
      "09/09//2024 01:15:1725867936 PM - INFO - OntoMapEngine: Separating exact and non-exact matches\n",
      "09/09//2024 01:15:1725867936 PM - INFO - OntoMapEngine: Running OntoMap model for non-exact matches\n",
      "09/09//2024 01:15:1725867936 PM - INFO - OntoMapEngine: Running OntoMap model for non-exact matches\n",
      "09/09//2024 01:15:1725867936 PM - INFO - OntoMapEngine: Running OntoMap model for non-exact matches\n",
      "09/09//2024 01:15:1725867936 PM - INFO - OntoMapEngine: Running OntoMap model for non-exact matches\n",
      "09/09//2024 01:15:1725867936 PM - INFO - OntoMapEngine: Running OntoMap model for non-exact matches\n",
      "09/09//2024 01:15:1725867936 PM - INFO - OntoMapLM: Initialized OntoMap Language Model module\n",
      "09/09//2024 01:15:1725867936 PM - INFO - OntoMapLM: Initialized OntoMap Language Model module\n",
      "09/09//2024 01:15:1725867936 PM - INFO - OntoMapLM: Initialized OntoMap Language Model module\n",
      "09/09//2024 01:15:1725867936 PM - INFO - OntoMapLM: Initialized OntoMap Language Model module\n",
      "09/09//2024 01:15:1725867936 PM - INFO - OntoMapLM: Initialized OntoMap Language Model module\n",
      "09/09//2024 01:15:1725867936 PM - INFO - OntoMapLM.get_match_results: Creating embeddings for query_list and corpus\n",
      "09/09//2024 01:15:1725867936 PM - INFO - OntoMapLM.get_match_results: Creating embeddings for query_list and corpus\n",
      "09/09//2024 01:15:1725867936 PM - INFO - OntoMapLM.get_match_results: Creating embeddings for query_list and corpus\n",
      "09/09//2024 01:15:1725867936 PM - INFO - OntoMapLM.get_match_results: Creating embeddings for query_list and corpus\n",
      "09/09//2024 01:15:1725867936 PM - INFO - OntoMapLM.get_match_results: Creating embeddings for query_list and corpus\n"
     ]
    },
    {
     "name": "stderr",
     "output_type": "stream",
     "text": [
      "/opt/homebrew/anaconda3/envs/‘gsoc_harmon_2024’/lib/python3.12/site-packages/transformers/tokenization_utils_base.py:1601: FutureWarning: `clean_up_tokenization_spaces` was not set. It will be set to `True` by default. This behavior will be depracted in transformers v4.45, and will be then set to `False` by default. For more details check this issue: https://github.com/huggingface/transformers/issues/31884\n",
      "  warnings.warn(\n"
     ]
    },
    {
     "name": "stdout",
     "output_type": "stream",
     "text": [
      "09/09//2024 01:15:1725867947 PM - INFO - OntoMapLM.get_match_results: Calculating cosine similarity matrix\n",
      "09/09//2024 01:15:1725867947 PM - INFO - OntoMapLM.get_match_results: Calculating cosine similarity matrix\n",
      "09/09//2024 01:15:1725867947 PM - INFO - OntoMapLM.get_match_results: Calculating cosine similarity matrix\n",
      "09/09//2024 01:15:1725867947 PM - INFO - OntoMapLM.get_match_results: Calculating cosine similarity matrix\n",
      "09/09//2024 01:15:1725867947 PM - INFO - OntoMapLM.get_match_results: Calculating cosine similarity matrix\n",
      "09/09//2024 01:15:1725867947 PM - INFO - OntoMapLM.get_match_results: Generating results table\n",
      "09/09//2024 01:15:1725867947 PM - INFO - OntoMapLM.get_match_results: Generating results table\n",
      "09/09//2024 01:15:1725867947 PM - INFO - OntoMapLM.get_match_results: Generating results table\n",
      "09/09//2024 01:15:1725867947 PM - INFO - OntoMapLM.get_match_results: Generating results table\n",
      "09/09//2024 01:15:1725867947 PM - INFO - OntoMapLM.get_match_results: Generating results table\n",
      "09/09//2024 01:15:1725867947 PM - INFO - OntoMapLM.get_match_results: Results Generated\n",
      "09/09//2024 01:15:1725867947 PM - INFO - OntoMapLM.get_match_results: Results Generated\n",
      "09/09//2024 01:15:1725867947 PM - INFO - OntoMapLM.get_match_results: Results Generated\n",
      "09/09//2024 01:15:1725867947 PM - INFO - OntoMapLM.get_match_results: Results Generated\n",
      "09/09//2024 01:15:1725867947 PM - INFO - OntoMapLM.get_match_results: Results Generated\n",
      "09/09//2024 01:15:1725867947 PM - INFO - OntoMapEngine: Initialized OntoMap Engine module\n",
      "09/09//2024 01:15:1725867947 PM - INFO - OntoMapEngine: Initialized OntoMap Engine module\n",
      "09/09//2024 01:15:1725867947 PM - INFO - OntoMapEngine: Initialized OntoMap Engine module\n",
      "09/09//2024 01:15:1725867947 PM - INFO - OntoMapEngine: Initialized OntoMap Engine module\n",
      "09/09//2024 01:15:1725867947 PM - INFO - OntoMapEngine: Initialized OntoMap Engine module\n",
      "09/09//2024 01:15:1725867947 PM - INFO - OntoMapEngine: Initialized OntoMap Engine module\n",
      "09/09//2024 01:15:1725867947 PM - INFO - OntoMapEngine: Running Ontology Mapping\n",
      "09/09//2024 01:15:1725867947 PM - INFO - OntoMapEngine: Running Ontology Mapping\n",
      "09/09//2024 01:15:1725867947 PM - INFO - OntoMapEngine: Running Ontology Mapping\n",
      "09/09//2024 01:15:1725867947 PM - INFO - OntoMapEngine: Running Ontology Mapping\n",
      "09/09//2024 01:15:1725867947 PM - INFO - OntoMapEngine: Running Ontology Mapping\n",
      "09/09//2024 01:15:1725867947 PM - INFO - OntoMapEngine: Running Ontology Mapping\n",
      "09/09//2024 01:15:1725867947 PM - INFO - OntoMapEngine: Separating exact and non-exact matches\n",
      "09/09//2024 01:15:1725867947 PM - INFO - OntoMapEngine: Separating exact and non-exact matches\n",
      "09/09//2024 01:15:1725867947 PM - INFO - OntoMapEngine: Separating exact and non-exact matches\n",
      "09/09//2024 01:15:1725867947 PM - INFO - OntoMapEngine: Separating exact and non-exact matches\n",
      "09/09//2024 01:15:1725867947 PM - INFO - OntoMapEngine: Separating exact and non-exact matches\n",
      "09/09//2024 01:15:1725867947 PM - INFO - OntoMapEngine: Separating exact and non-exact matches\n",
      "09/09//2024 01:15:1725867947 PM - INFO - OntoMapEngine: Running OntoMap model for non-exact matches\n",
      "09/09//2024 01:15:1725867947 PM - INFO - OntoMapEngine: Running OntoMap model for non-exact matches\n",
      "09/09//2024 01:15:1725867947 PM - INFO - OntoMapEngine: Running OntoMap model for non-exact matches\n",
      "09/09//2024 01:15:1725867947 PM - INFO - OntoMapEngine: Running OntoMap model for non-exact matches\n",
      "09/09//2024 01:15:1725867947 PM - INFO - OntoMapEngine: Running OntoMap model for non-exact matches\n",
      "09/09//2024 01:15:1725867947 PM - INFO - OntoMapEngine: Running OntoMap model for non-exact matches\n",
      "09/09//2024 01:15:1725867947 PM - INFO - OntoMapLM: Initialized OntoMap Language Model module\n",
      "09/09//2024 01:15:1725867947 PM - INFO - OntoMapLM: Initialized OntoMap Language Model module\n",
      "09/09//2024 01:15:1725867947 PM - INFO - OntoMapLM: Initialized OntoMap Language Model module\n",
      "09/09//2024 01:15:1725867947 PM - INFO - OntoMapLM: Initialized OntoMap Language Model module\n",
      "09/09//2024 01:15:1725867947 PM - INFO - OntoMapLM: Initialized OntoMap Language Model module\n",
      "09/09//2024 01:15:1725867947 PM - INFO - OntoMapLM: Initialized OntoMap Language Model module\n",
      "09/09//2024 01:15:1725867947 PM - INFO - OntoMapLM.get_match_results: Creating embeddings for query_list and corpus\n",
      "09/09//2024 01:15:1725867947 PM - INFO - OntoMapLM.get_match_results: Creating embeddings for query_list and corpus\n",
      "09/09//2024 01:15:1725867947 PM - INFO - OntoMapLM.get_match_results: Creating embeddings for query_list and corpus\n",
      "09/09//2024 01:15:1725867947 PM - INFO - OntoMapLM.get_match_results: Creating embeddings for query_list and corpus\n",
      "09/09//2024 01:15:1725867947 PM - INFO - OntoMapLM.get_match_results: Creating embeddings for query_list and corpus\n",
      "09/09//2024 01:15:1725867947 PM - INFO - OntoMapLM.get_match_results: Creating embeddings for query_list and corpus\n"
     ]
    },
    {
     "name": "stderr",
     "output_type": "stream",
     "text": [
      "/opt/homebrew/anaconda3/envs/‘gsoc_harmon_2024’/lib/python3.12/site-packages/transformers/tokenization_utils_base.py:1601: FutureWarning: `clean_up_tokenization_spaces` was not set. It will be set to `True` by default. This behavior will be depracted in transformers v4.45, and will be then set to `False` by default. For more details check this issue: https://github.com/huggingface/transformers/issues/31884\n",
      "  warnings.warn(\n"
     ]
    },
    {
     "name": "stdout",
     "output_type": "stream",
     "text": [
      "09/09//2024 01:16:1725867976 PM - INFO - OntoMapLM.get_match_results: Calculating cosine similarity matrix\n",
      "09/09//2024 01:16:1725867976 PM - INFO - OntoMapLM.get_match_results: Calculating cosine similarity matrix\n",
      "09/09//2024 01:16:1725867976 PM - INFO - OntoMapLM.get_match_results: Calculating cosine similarity matrix\n",
      "09/09//2024 01:16:1725867976 PM - INFO - OntoMapLM.get_match_results: Calculating cosine similarity matrix\n",
      "09/09//2024 01:16:1725867976 PM - INFO - OntoMapLM.get_match_results: Calculating cosine similarity matrix\n",
      "09/09//2024 01:16:1725867976 PM - INFO - OntoMapLM.get_match_results: Calculating cosine similarity matrix\n",
      "09/09//2024 01:16:1725867976 PM - INFO - OntoMapLM.get_match_results: Generating results table\n",
      "09/09//2024 01:16:1725867976 PM - INFO - OntoMapLM.get_match_results: Generating results table\n",
      "09/09//2024 01:16:1725867976 PM - INFO - OntoMapLM.get_match_results: Generating results table\n",
      "09/09//2024 01:16:1725867976 PM - INFO - OntoMapLM.get_match_results: Generating results table\n",
      "09/09//2024 01:16:1725867976 PM - INFO - OntoMapLM.get_match_results: Generating results table\n",
      "09/09//2024 01:16:1725867976 PM - INFO - OntoMapLM.get_match_results: Generating results table\n",
      "09/09//2024 01:16:1725867977 PM - INFO - OntoMapLM.get_match_results: Results Generated\n",
      "09/09//2024 01:16:1725867977 PM - INFO - OntoMapLM.get_match_results: Results Generated\n",
      "09/09//2024 01:16:1725867977 PM - INFO - OntoMapLM.get_match_results: Results Generated\n",
      "09/09//2024 01:16:1725867977 PM - INFO - OntoMapLM.get_match_results: Results Generated\n",
      "09/09//2024 01:16:1725867977 PM - INFO - OntoMapLM.get_match_results: Results Generated\n",
      "09/09//2024 01:16:1725867977 PM - INFO - OntoMapLM.get_match_results: Results Generated\n"
     ]
    }
   ],
   "source": [
    "other_params = {\"test_or_prod\": \"test\"}\n",
    "\n",
    "def run_experiments_by_model(file_dict, model_name):\n",
    "    results_dict = {}\n",
    "    for file_name, file_path in file_dict.items():\n",
    "        input_dict = get_query_corpus_curamap(file_path)\n",
    "        query_list, corpus_list, cura_map = input_dict['query'], input_dict['corpus'], input_dict['cura_map']\n",
    "        onto_engine_large = ome.OntoMapEngine(method=model_name, topk=5,\n",
    "        query=query_list, corpus=corpus_list,\n",
    "        cura_map=cura_map, \n",
    "        yaml_path='./src/models/method_model.yaml', \n",
    "        om_strategy='lm', **other_params)\n",
    "        \n",
    "        results_engine_testing = onto_engine_large.run()\n",
    "        results_dict[file_name] = results_engine_testing\n",
    "    return results_dict\n",
    "\n",
    "results_dict_sapbert = run_experiments_by_model(file_dict, 'sap-bert')\n",
    "results_dict_pubmedbert = run_experiments_by_model(file_dict, 'pubmed-bert')"
   ]
  },
  {
   "cell_type": "code",
   "execution_count": 24,
   "metadata": {},
   "outputs": [
    {
     "data": {
      "text/html": [
       "<div>\n",
       "<style scoped>\n",
       "    .dataframe tbody tr th:only-of-type {\n",
       "        vertical-align: middle;\n",
       "    }\n",
       "\n",
       "    .dataframe tbody tr th {\n",
       "        vertical-align: top;\n",
       "    }\n",
       "\n",
       "    .dataframe thead th {\n",
       "        text-align: right;\n",
       "    }\n",
       "</style>\n",
       "<table border=\"1\" class=\"dataframe\">\n",
       "  <thead>\n",
       "    <tr style=\"text-align: right;\">\n",
       "      <th></th>\n",
       "      <th>original_value</th>\n",
       "      <th>curated_ontology</th>\n",
       "      <th>match_level</th>\n",
       "      <th>top1_match</th>\n",
       "      <th>top1_score</th>\n",
       "      <th>top2_match</th>\n",
       "      <th>top2_score</th>\n",
       "      <th>top3_match</th>\n",
       "      <th>top3_score</th>\n",
       "      <th>top4_match</th>\n",
       "      <th>top4_score</th>\n",
       "      <th>top5_match</th>\n",
       "      <th>top5_score</th>\n",
       "    </tr>\n",
       "  </thead>\n",
       "  <tbody>\n",
       "    <tr>\n",
       "      <th>0</th>\n",
       "      <td>17-DMAG</td>\n",
       "      <td>Alvespimycin</td>\n",
       "      <td>99</td>\n",
       "      <td>Memantine</td>\n",
       "      <td>0.5213</td>\n",
       "      <td>Polyamine Analogue PG11047</td>\n",
       "      <td>0.4905</td>\n",
       "      <td>Serdemetan</td>\n",
       "      <td>0.4807</td>\n",
       "      <td>Methotrexate</td>\n",
       "      <td>0.4750</td>\n",
       "      <td>Dinaciclib</td>\n",
       "      <td>0.4725</td>\n",
       "    </tr>\n",
       "    <tr>\n",
       "      <th>1</th>\n",
       "      <td>19D12</td>\n",
       "      <td>Robatumumab</td>\n",
       "      <td>99</td>\n",
       "      <td>Everolimus</td>\n",
       "      <td>0.4492</td>\n",
       "      <td>MDM2 Inhibitor</td>\n",
       "      <td>0.4417</td>\n",
       "      <td>Cetuximab</td>\n",
       "      <td>0.4298</td>\n",
       "      <td>Trastuzumab</td>\n",
       "      <td>0.4275</td>\n",
       "      <td>PSMA-targeting Agent;Antineoplastic Antibody-D...</td>\n",
       "      <td>0.4266</td>\n",
       "    </tr>\n",
       "    <tr>\n",
       "      <th>2</th>\n",
       "      <td>5 fu</td>\n",
       "      <td>Fluorouracil</td>\n",
       "      <td>1</td>\n",
       "      <td>Fluorouracil</td>\n",
       "      <td>0.8909</td>\n",
       "      <td>Floxuridine</td>\n",
       "      <td>0.7742</td>\n",
       "      <td>Fluoropyrimidine</td>\n",
       "      <td>0.7596</td>\n",
       "      <td>Gemcitabine</td>\n",
       "      <td>0.6081</td>\n",
       "      <td>Leucovorin</td>\n",
       "      <td>0.5865</td>\n",
       "    </tr>\n",
       "    <tr>\n",
       "      <th>3</th>\n",
       "      <td>5-FU</td>\n",
       "      <td>Fluorouracil</td>\n",
       "      <td>1</td>\n",
       "      <td>Fluorouracil</td>\n",
       "      <td>0.8948</td>\n",
       "      <td>Floxuridine</td>\n",
       "      <td>0.7626</td>\n",
       "      <td>Fluoropyrimidine</td>\n",
       "      <td>0.7557</td>\n",
       "      <td>Gemcitabine</td>\n",
       "      <td>0.6171</td>\n",
       "      <td>Fotemustine</td>\n",
       "      <td>0.5771</td>\n",
       "    </tr>\n",
       "    <tr>\n",
       "      <th>4</th>\n",
       "      <td>5-fluorouracil</td>\n",
       "      <td>Fluorouracil</td>\n",
       "      <td>1</td>\n",
       "      <td>Fluorouracil</td>\n",
       "      <td>0.9522</td>\n",
       "      <td>Fluoropyrimidine</td>\n",
       "      <td>0.7612</td>\n",
       "      <td>Floxuridine</td>\n",
       "      <td>0.7425</td>\n",
       "      <td>Gemcitabine</td>\n",
       "      <td>0.5893</td>\n",
       "      <td>Capecitabine</td>\n",
       "      <td>0.5692</td>\n",
       "    </tr>\n",
       "  </tbody>\n",
       "</table>\n",
       "</div>"
      ],
      "text/plain": [
       "   original_value curated_ontology  match_level    top1_match top1_score  \\\n",
       "0         17-DMAG     Alvespimycin           99     Memantine     0.5213   \n",
       "1           19D12      Robatumumab           99    Everolimus     0.4492   \n",
       "2            5 fu     Fluorouracil            1  Fluorouracil     0.8909   \n",
       "3            5-FU     Fluorouracil            1  Fluorouracil     0.8948   \n",
       "4  5-fluorouracil     Fluorouracil            1  Fluorouracil     0.9522   \n",
       "\n",
       "                   top2_match top2_score        top3_match top3_score  \\\n",
       "0  Polyamine Analogue PG11047     0.4905        Serdemetan     0.4807   \n",
       "1              MDM2 Inhibitor     0.4417         Cetuximab     0.4298   \n",
       "2                 Floxuridine     0.7742  Fluoropyrimidine     0.7596   \n",
       "3                 Floxuridine     0.7626  Fluoropyrimidine     0.7557   \n",
       "4            Fluoropyrimidine     0.7612       Floxuridine     0.7425   \n",
       "\n",
       "     top4_match top4_score                                         top5_match  \\\n",
       "0  Methotrexate     0.4750                                         Dinaciclib   \n",
       "1   Trastuzumab     0.4275  PSMA-targeting Agent;Antineoplastic Antibody-D...   \n",
       "2   Gemcitabine     0.6081                                         Leucovorin   \n",
       "3   Gemcitabine     0.6171                                        Fotemustine   \n",
       "4   Gemcitabine     0.5893                                       Capecitabine   \n",
       "\n",
       "  top5_score  \n",
       "0     0.4725  \n",
       "1     0.4266  \n",
       "2     0.5865  \n",
       "3     0.5771  \n",
       "4     0.5692  "
      ]
     },
     "execution_count": 24,
     "metadata": {},
     "output_type": "execute_result"
    }
   ],
   "source": [
    "results_dict_sapbert['treatment'].head()"
   ]
  },
  {
   "cell_type": "markdown",
   "metadata": {},
   "source": [
    "## 1.1. Plotting the results"
   ]
  },
  {
   "cell_type": "code",
   "execution_count": 4,
   "metadata": {},
   "outputs": [
    {
     "data": {
      "image/png": "[encoded data removed]",
      "text/plain": [
       "<Figure size 1200x800 with 1 Axes>"
      ]
     },
     "metadata": {},
     "output_type": "display_data"
    }
   ],
   "source": [
    "import matplotlib.pyplot as plt\n",
    "import numpy as np\n",
    "\n",
    "def calculate_accuracy(results_df, top_k):\n",
    "    correct_matches = 0\n",
    "    total_rows = len(results_df)\n",
    "    \n",
    "    for _, row in results_df.iterrows():\n",
    "        curated_ontology = row['curated_ontology']\n",
    "        top_k_matches = [row[f'top{i+1}_match'] for i in range(top_k)]\n",
    "        if curated_ontology in top_k_matches:\n",
    "            correct_matches += 1\n",
    "    \n",
    "    return (correct_matches / total_rows) * 100\n",
    "\n",
    "def get_accuracies(results_dict, top_k_values):\n",
    "    accuracies = {}\n",
    "    for category, df in results_dict.items():\n",
    "        accuracies[category] = [calculate_accuracy(df, k) for k in top_k_values]\n",
    "    return accuracies\n",
    "\n",
    "# Define parameters\n",
    "top_k_values = [1, 3, 5]\n",
    "categories = ['bodysite', 'disease', 'treatment']\n",
    "models = ['SapBert', 'PubMedBert']\n",
    "colors = ['blue', 'orange', 'green']\n",
    "\n",
    "# Calculate accuracies\n",
    "sapbert_accuracies = get_accuracies(results_dict_sapbert, top_k_values)\n",
    "pubmedbert_accuracies = get_accuracies(results_dict_pubmedbert, top_k_values)\n",
    "\n",
    "# Create the plot\n",
    "plt.figure(figsize=(12, 8))\n",
    "\n",
    "for i, category in enumerate(categories):\n",
    "    sapbert_acc = sapbert_accuracies[category]\n",
    "    pubmedbert_acc = pubmedbert_accuracies[category]\n",
    "    \n",
    "    plt.plot(top_k_values, sapbert_acc, color=colors[i], linestyle='-', label=f'{category} (SapBert)')\n",
    "    plt.plot(top_k_values, pubmedbert_acc, color=colors[i], linestyle='--', label=f'{category} (PubMedBert)')\n",
    "\n",
    "plt.xlabel('Top K Match', fontsize=12)\n",
    "plt.ylabel('Accuracy (%)', fontsize=12)\n",
    "plt.title('Accuracy Comparison between PubMedBert and SapBert', fontsize=14)\n",
    "plt.xticks(top_k_values, [f'Top{k}' for k in top_k_values])\n",
    "plt.ylim(0, 100)\n",
    "plt.grid(True, linestyle='--', alpha=0.7)\n",
    "\n",
    "# Create custom legend\n",
    "legend_elements = [plt.Line2D([0], [0], color='blue', label='Bodysite'),\n",
    "                   plt.Line2D([0], [0], color='orange', label='Disease'),\n",
    "                   plt.Line2D([0], [0], color='green', label='Treatment'),\n",
    "                   plt.Line2D([0], [0], color='black', linestyle='-', label='SapBert'),\n",
    "                   plt.Line2D([0], [0], color='black', linestyle='--', label='PubMedBert')]\n",
    "\n",
    "plt.legend(handles=legend_elements, loc='lower right', title='Ontology Category', \n",
    "           title_fontsize=10, fontsize=8, ncol=2)\n",
    "\n",
    "plt.tight_layout()\n",
    "plt.show()"
   ]
  },
  {
   "cell_type": "code",
   "execution_count": 5,
   "metadata": {},
   "outputs": [
    {
     "data": {
      "text/plain": [
       "{'treatment': [78.54030501089323, 84.74945533769062, 86.49237472766885],\n",
       " 'bodysite': [80.50632911392405, 91.01265822784809, 93.67088607594937],\n",
       " 'disease': [75.99444958371878, 86.30897317298798, 89.63922294172063]}"
      ]
     },
     "execution_count": 5,
     "metadata": {},
     "output_type": "execute_result"
    }
   ],
   "source": [
    "sapbert_accuracies"
   ]
  },
  {
   "cell_type": "code",
   "execution_count": 6,
   "metadata": {},
   "outputs": [
    {
     "data": {
      "text/plain": [
       "{'treatment': [72.22222222222221, 78.32244008714598, 79.62962962962963],\n",
       " 'bodysite': [79.74683544303798, 91.51898734177215, 93.79746835443038],\n",
       " 'disease': [72.20166512488436, 85.24514338575393, 88.02035152636448]}"
      ]
     },
     "execution_count": 6,
     "metadata": {},
     "output_type": "execute_result"
    }
   ],
   "source": [
    "pubmedbert_accuracies"
   ]
  },
  {
   "cell_type": "markdown",
   "metadata": {},
   "source": [
    "## 1.3. Save the results\n"
   ]
  },
  {
   "cell_type": "code",
   "execution_count": 7,
   "metadata": {},
   "outputs": [
    {
     "name": "stdout",
     "output_type": "stream",
     "text": [
      "Saved ./outputs/comparison_of_models/sapbert_treatment_non_exact_match_results.csv\n",
      "Saved ./outputs/comparison_of_models/sapbert_bodysite_non_exact_match_results.csv\n",
      "Saved ./outputs/comparison_of_models/sapbert_disease_non_exact_match_results.csv\n",
      "Saved ./outputs/comparison_of_models/pubmedbert_treatment_non_exact_match_results.csv\n",
      "Saved ./outputs/comparison_of_models/pubmedbert_bodysite_non_exact_match_results.csv\n",
      "Saved ./outputs/comparison_of_models/pubmedbert_disease_non_exact_match_results.csv\n",
      "All results have been saved.\n"
     ]
    }
   ],
   "source": [
    "import os\n",
    "import pandas as pd\n",
    "\n",
    "# Define the output directory\n",
    "output_dir = './outputs/comparison_of_models/'\n",
    "\n",
    "# Ensure the output directory exists\n",
    "os.makedirs(output_dir, exist_ok=True)\n",
    "\n",
    "# Function to save results for a given model\n",
    "def save_results(results_dict, model_name):\n",
    "    for category, df in results_dict.items():\n",
    "        file_name = f\"{model_name}_{category}_non_exact_match_results.csv\"\n",
    "        file_path = os.path.join(output_dir, file_name)\n",
    "        df.to_csv(file_path, index=False)\n",
    "        print(f\"Saved {file_path}\")\n",
    "\n",
    "# Save results for SapBert\n",
    "save_results(results_dict_sapbert, \"sapbert\")\n",
    "\n",
    "# Save results for PubMedBert\n",
    "save_results(results_dict_pubmedbert, \"pubmedbert\")\n",
    "\n",
    "# If you have results for other models, you can add them here\n",
    "# For example:\n",
    "# save_results(results_dict_other_model, \"other_model\")\n",
    "\n",
    "print(\"All results have been saved.\")"
   ]
  },
  {
   "cell_type": "markdown",
   "metadata": {},
   "source": [
    "## 2. Run Experiments for different models "
   ]
  },
  {
   "cell_type": "code",
   "execution_count": null,
   "metadata": {},
   "outputs": [],
   "source": [
    "different_models = ['sap-bert', 'pubmed-bert', 'sap-roberta', 'sap-deberta']"
   ]
  }
 ],
 "metadata": {
  "kernelspec": {
   "display_name": "‘gsoc_harmon_2024’",
   "language": "python",
   "name": "python3"
  },
  "language_info": {
   "codemirror_mode": {
    "name": "ipython",
    "version": 3
   },
   "file_extension": ".py",
   "mimetype": "text/x-python",
   "name": "python",
   "nbconvert_exporter": "python",
   "pygments_lexer": "ipython3",
   "version": "3.12.2"
  }
 },
 "nbformat": 4,
 "nbformat_minor": 2
}
