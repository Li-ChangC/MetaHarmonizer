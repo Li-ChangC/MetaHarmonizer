{
 "cells": [
  {
   "cell_type": "code",
   "execution_count": 2,
   "id": "1aea3cfe",
   "metadata": {},
   "outputs": [
    {
     "name": "stdout",
     "output_type": "stream",
     "text": [
      "/home/lcc/projects/MetaHarmonizer\n"
     ]
    }
   ],
   "source": [
    "%cd .."
   ]
  },
  {
   "cell_type": "code",
   "execution_count": 3,
   "id": "0f9d1fed",
   "metadata": {},
   "outputs": [
    {
     "data": {
      "text/plain": [
       "True"
      ]
     },
     "execution_count": 3,
     "metadata": {},
     "output_type": "execute_result"
    }
   ],
   "source": [
    "import gevent.monkey\n",
    "gevent.monkey.patch_all(thread=False, select=False)"
   ]
  },
  {
   "cell_type": "code",
   "execution_count": 4,
   "id": "782e1f0b",
   "metadata": {},
   "outputs": [
    {
     "name": "stderr",
     "output_type": "stream",
     "text": [
      "/home/lcc/miniconda3/envs/gsoc/lib/python3.12/site-packages/tqdm/auto.py:21: TqdmWarning: IProgress not found. Please update jupyter and ipywidgets. See https://ipywidgets.readthedocs.io/en/stable/user_install.html\n",
      "  from .autonotebook import tqdm as notebook_tqdm\n",
      "/home/lcc/miniconda3/envs/gsoc/lib/python3.12/site-packages/fuzzywuzzy/fuzz.py:11: UserWarning: Using slow pure-python SequenceMatcher. Install python-Levenshtein to remove this warning\n",
      "  warnings.warn('Using slow pure-python SequenceMatcher. Install python-Levenshtein to remove this warning')\n",
      "[nltk_data] Downloading package punkt to /home/lcc/nltk_data...\n",
      "[nltk_data]   Package punkt is already up-to-date!\n",
      "[nltk_data] Downloading package wordnet to /home/lcc/nltk_data...\n",
      "[nltk_data]   Package wordnet is already up-to-date!\n",
      "[nltk_data] Downloading package punkt to /home/lcc/nltk_data...\n",
      "[nltk_data]   Package punkt is already up-to-date!\n",
      "[nltk_data] Downloading package stopwords to /home/lcc/nltk_data...\n",
      "[nltk_data]   Package stopwords is already up-to-date!\n",
      "[nltk_data] Downloading package wordnet to /home/lcc/nltk_data...\n",
      "[nltk_data]   Package wordnet is already up-to-date!\n"
     ]
    },
    {
     "data": {
      "text/plain": [
       "<module 'src.models.ontology_mapper_lm' from '/home/lcc/projects/MetaHarmonizer/src/models/ontology_mapper_lm.py'>"
      ]
     },
     "execution_count": 4,
     "metadata": {},
     "output_type": "execute_result"
    }
   ],
   "source": [
    "import numpy as np\n",
    "import torch\n",
    "from tqdm.auto import tqdm\n",
    "from transformers import AutoTokenizer, AutoModel\n",
    "import os\n",
    "import pandas as pd\n",
    "from importlib import reload\n",
    "import src.models.ontology_mapper_st as om_st\n",
    "from src.Engine import ontology_mapping_engine as ome\n",
    "import src.models.ontology_mapper_lm as om_lm\n",
    "reload(om_st)\n",
    "reload(ome)\n",
    "reload(om_lm)"
   ]
  },
  {
   "cell_type": "code",
   "execution_count": 5,
   "id": "6a0ff26d",
   "metadata": {},
   "outputs": [],
   "source": [
    "cura_map = pd.read_csv('./data/corpus/cbio_treatment_name/trt_name_query_for_NCIT:C1909.csv')\n",
    "query_list = cura_map['original_value'].tolist()\n",
    "small_corpus_list = cura_map['curated_ontology'].to_list()\n",
    "# large_corpus_list = pd.read_csv('./data/corpus_from_NCIT_C1909.csv')"
   ]
  },
  {
   "cell_type": "code",
   "execution_count": 6,
   "id": "ab08246f",
   "metadata": {},
   "outputs": [],
   "source": [
    "df = pd.read_csv('./data/corpus/cbio_treatment_name/trt_name_query_for_NCIT:C1909.csv')\n",
    "\n",
    "df[\"original_value\"] = df[\"original_value\"].astype(str).str.strip()\n",
    "df[\"curated_ontology\"] = df[\"curated_ontology\"].astype(str).str.strip()\n",
    "\n",
    "cura_map = dict(zip(df[\"original_value\"], df[\"curated_ontology\"]))"
   ]
  },
  {
   "cell_type": "code",
   "execution_count": 6,
   "id": "4ede01a5",
   "metadata": {},
   "outputs": [
    {
     "name": "stdout",
     "output_type": "stream",
     "text": [
      "21/05//2025 02:27:1747862830 PM - INFO - OntoMapEngine: Initialized OntoMap Engine module\n"
     ]
    }
   ],
   "source": [
    "other_params = {\"test_or_prod\": \"test\"}\n",
    "onto_engine_large = ome.OntoMapEngine(method='sap-bert', topk=5,\n",
    "query=query_list, corpus=small_corpus_list,\n",
    "cura_map=cura_map, \n",
    "yaml_path='./src/models/method_model.yaml', \n",
    "om_strategy='st', **other_params)"
   ]
  },
  {
   "cell_type": "code",
   "execution_count": 7,
   "id": "6ea22f4b",
   "metadata": {},
   "outputs": [
    {
     "name": "stdout",
     "output_type": "stream",
     "text": [
      "21/05//2025 02:27:1747862836 PM - INFO - OntoMapEngine: Running Ontology Mapping\n",
      "21/05//2025 02:27:1747862836 PM - INFO - OntoMapEngine: Separating exact and non-exact matches\n",
      "21/05//2025 02:27:1747862836 PM - INFO - OntoMapEngine: Running OntoMap model for non-exact matches\n",
      "21/05//2025 02:27:1747862836 PM - INFO - OntoMapST: Initialized OntoMap Sentence Transformer module\n",
      "21/05//2025 02:27:1747862836 PM - INFO - OntoMapST.get_match_results: Creating embeddings for query_list and corpus\n"
     ]
    },
    {
     "name": "stderr",
     "output_type": "stream",
     "text": [
      "No sentence-transformers model found with name cambridgeltl/SapBERT-from-PubmedBERT-fulltext. Creating a new one with MEAN pooling.\n",
      "No sentence-transformers model found with name cambridgeltl/SapBERT-from-PubmedBERT-fulltext. Creating a new one with MEAN pooling.\n"
     ]
    },
    {
     "name": "stdout",
     "output_type": "stream",
     "text": [
      "21/05//2025 02:27:1747862844 PM - INFO - OntoMapST.get_match_results: Calculating cosine similarity matrix\n",
      "21/05//2025 02:27:1747862844 PM - INFO - OntoMapST.get_match_results: Generating results table\n",
      "21/05//2025 02:27:1747862844 PM - INFO - OntoMapST.get_match_results: Results Generated\n"
     ]
    }
   ],
   "source": [
    "results_engine_testing = onto_engine_large.run()"
   ]
  },
  {
   "cell_type": "code",
   "execution_count": 8,
   "id": "f8e4f7f4",
   "metadata": {},
   "outputs": [
    {
     "data": {
      "text/html": [
       "<div>\n",
       "<style scoped>\n",
       "    .dataframe tbody tr th:only-of-type {\n",
       "        vertical-align: middle;\n",
       "    }\n",
       "\n",
       "    .dataframe tbody tr th {\n",
       "        vertical-align: top;\n",
       "    }\n",
       "\n",
       "    .dataframe thead th {\n",
       "        text-align: right;\n",
       "    }\n",
       "</style>\n",
       "<table border=\"1\" class=\"dataframe\">\n",
       "  <thead>\n",
       "    <tr style=\"text-align: right;\">\n",
       "      <th></th>\n",
       "      <th>original_value</th>\n",
       "      <th>curated_ontology</th>\n",
       "      <th>match_level</th>\n",
       "      <th>stage</th>\n",
       "      <th>top1_match</th>\n",
       "      <th>top1_score</th>\n",
       "      <th>top2_match</th>\n",
       "      <th>top2_score</th>\n",
       "      <th>top3_match</th>\n",
       "      <th>top3_score</th>\n",
       "      <th>top4_match</th>\n",
       "      <th>top4_score</th>\n",
       "      <th>top5_match</th>\n",
       "      <th>top5_score</th>\n",
       "    </tr>\n",
       "  </thead>\n",
       "  <tbody>\n",
       "    <tr>\n",
       "      <th>0</th>\n",
       "      <td>Abiraterone</td>\n",
       "      <td>Abiraterone</td>\n",
       "      <td>1</td>\n",
       "      <td>1</td>\n",
       "      <td>Abiraterone</td>\n",
       "      <td>1.0</td>\n",
       "      <td>Abiraterone</td>\n",
       "      <td>1.0</td>\n",
       "      <td>Abiraterone</td>\n",
       "      <td>1.0</td>\n",
       "      <td>Abiraterone</td>\n",
       "      <td>1.0</td>\n",
       "      <td>Abiraterone</td>\n",
       "      <td>1.0</td>\n",
       "    </tr>\n",
       "    <tr>\n",
       "      <th>1</th>\n",
       "      <td>Adalimumab</td>\n",
       "      <td>Adalimumab</td>\n",
       "      <td>1</td>\n",
       "      <td>1</td>\n",
       "      <td>Adalimumab</td>\n",
       "      <td>1.0</td>\n",
       "      <td>Adalimumab</td>\n",
       "      <td>1.0</td>\n",
       "      <td>Adalimumab</td>\n",
       "      <td>1.0</td>\n",
       "      <td>Adalimumab</td>\n",
       "      <td>1.0</td>\n",
       "      <td>Adalimumab</td>\n",
       "      <td>1.0</td>\n",
       "    </tr>\n",
       "    <tr>\n",
       "      <th>2</th>\n",
       "      <td>Afatinib</td>\n",
       "      <td>Afatinib</td>\n",
       "      <td>1</td>\n",
       "      <td>1</td>\n",
       "      <td>Afatinib</td>\n",
       "      <td>1.0</td>\n",
       "      <td>Afatinib</td>\n",
       "      <td>1.0</td>\n",
       "      <td>Afatinib</td>\n",
       "      <td>1.0</td>\n",
       "      <td>Afatinib</td>\n",
       "      <td>1.0</td>\n",
       "      <td>Afatinib</td>\n",
       "      <td>1.0</td>\n",
       "    </tr>\n",
       "    <tr>\n",
       "      <th>3</th>\n",
       "      <td>Alisertib</td>\n",
       "      <td>Alisertib</td>\n",
       "      <td>1</td>\n",
       "      <td>1</td>\n",
       "      <td>Alisertib</td>\n",
       "      <td>1.0</td>\n",
       "      <td>Alisertib</td>\n",
       "      <td>1.0</td>\n",
       "      <td>Alisertib</td>\n",
       "      <td>1.0</td>\n",
       "      <td>Alisertib</td>\n",
       "      <td>1.0</td>\n",
       "      <td>Alisertib</td>\n",
       "      <td>1.0</td>\n",
       "    </tr>\n",
       "    <tr>\n",
       "      <th>4</th>\n",
       "      <td>Alpelisib</td>\n",
       "      <td>Alpelisib</td>\n",
       "      <td>1</td>\n",
       "      <td>1</td>\n",
       "      <td>Alpelisib</td>\n",
       "      <td>1.0</td>\n",
       "      <td>Alpelisib</td>\n",
       "      <td>1.0</td>\n",
       "      <td>Alpelisib</td>\n",
       "      <td>1.0</td>\n",
       "      <td>Alpelisib</td>\n",
       "      <td>1.0</td>\n",
       "      <td>Alpelisib</td>\n",
       "      <td>1.0</td>\n",
       "    </tr>\n",
       "    <tr>\n",
       "      <th>...</th>\n",
       "      <td>...</td>\n",
       "      <td>...</td>\n",
       "      <td>...</td>\n",
       "      <td>...</td>\n",
       "      <td>...</td>\n",
       "      <td>...</td>\n",
       "      <td>...</td>\n",
       "      <td>...</td>\n",
       "      <td>...</td>\n",
       "      <td>...</td>\n",
       "      <td>...</td>\n",
       "      <td>...</td>\n",
       "      <td>...</td>\n",
       "      <td>...</td>\n",
       "    </tr>\n",
       "    <tr>\n",
       "      <th>573</th>\n",
       "      <td>vinblastine</td>\n",
       "      <td>Vinblastine</td>\n",
       "      <td>1</td>\n",
       "      <td>2</td>\n",
       "      <td>Vinblastine</td>\n",
       "      <td>1.0000</td>\n",
       "      <td>Vinblastine</td>\n",
       "      <td>1.0000</td>\n",
       "      <td>Vinblastine</td>\n",
       "      <td>1.0000</td>\n",
       "      <td>Vinorelbine</td>\n",
       "      <td>0.7879</td>\n",
       "      <td>Vinorelbine</td>\n",
       "      <td>0.7879</td>\n",
       "    </tr>\n",
       "    <tr>\n",
       "      <th>574</th>\n",
       "      <td>vincrisinte</td>\n",
       "      <td>Vincristine</td>\n",
       "      <td>1</td>\n",
       "      <td>2</td>\n",
       "      <td>Vincristine</td>\n",
       "      <td>0.8525</td>\n",
       "      <td>Vincristine</td>\n",
       "      <td>0.8525</td>\n",
       "      <td>Vincristine</td>\n",
       "      <td>0.8525</td>\n",
       "      <td>Vincristine</td>\n",
       "      <td>0.8525</td>\n",
       "      <td>Vincristine</td>\n",
       "      <td>0.8525</td>\n",
       "    </tr>\n",
       "    <tr>\n",
       "      <th>575</th>\n",
       "      <td>vincristine</td>\n",
       "      <td>Vincristine</td>\n",
       "      <td>1</td>\n",
       "      <td>2</td>\n",
       "      <td>Vincristine</td>\n",
       "      <td>1.0000</td>\n",
       "      <td>Vincristine</td>\n",
       "      <td>1.0000</td>\n",
       "      <td>Vincristine</td>\n",
       "      <td>1.0000</td>\n",
       "      <td>Vincristine</td>\n",
       "      <td>1.0000</td>\n",
       "      <td>Vincristine</td>\n",
       "      <td>1.0000</td>\n",
       "    </tr>\n",
       "    <tr>\n",
       "      <th>576</th>\n",
       "      <td>vincristine sulfate</td>\n",
       "      <td>Vincristine Sulfate</td>\n",
       "      <td>1</td>\n",
       "      <td>2</td>\n",
       "      <td>Vincristine Sulfate</td>\n",
       "      <td>1.0000</td>\n",
       "      <td>Vincristine Sulfate</td>\n",
       "      <td>1.0000</td>\n",
       "      <td>Vincristine</td>\n",
       "      <td>0.8753</td>\n",
       "      <td>Vincristine</td>\n",
       "      <td>0.8753</td>\n",
       "      <td>Vincristine</td>\n",
       "      <td>0.8753</td>\n",
       "    </tr>\n",
       "    <tr>\n",
       "      <th>577</th>\n",
       "      <td>xeloda</td>\n",
       "      <td>Capecitabine</td>\n",
       "      <td>1</td>\n",
       "      <td>2</td>\n",
       "      <td>Capecitabine</td>\n",
       "      <td>0.7274</td>\n",
       "      <td>Capecitabine</td>\n",
       "      <td>0.7274</td>\n",
       "      <td>Capecitabine</td>\n",
       "      <td>0.7274</td>\n",
       "      <td>Capecitabine</td>\n",
       "      <td>0.7274</td>\n",
       "      <td>Capecitabine</td>\n",
       "      <td>0.7274</td>\n",
       "    </tr>\n",
       "  </tbody>\n",
       "</table>\n",
       "<p>578 rows × 14 columns</p>\n",
       "</div>"
      ],
      "text/plain": [
       "          original_value     curated_ontology  match_level  stage  \\\n",
       "0            Abiraterone          Abiraterone            1      1   \n",
       "1             Adalimumab           Adalimumab            1      1   \n",
       "2               Afatinib             Afatinib            1      1   \n",
       "3              Alisertib            Alisertib            1      1   \n",
       "4              Alpelisib            Alpelisib            1      1   \n",
       "..                   ...                  ...          ...    ...   \n",
       "573          vinblastine          Vinblastine            1      2   \n",
       "574          vincrisinte          Vincristine            1      2   \n",
       "575          vincristine          Vincristine            1      2   \n",
       "576  vincristine sulfate  Vincristine Sulfate            1      2   \n",
       "577               xeloda         Capecitabine            1      2   \n",
       "\n",
       "              top1_match top1_score           top2_match top2_score  \\\n",
       "0            Abiraterone        1.0          Abiraterone        1.0   \n",
       "1             Adalimumab        1.0           Adalimumab        1.0   \n",
       "2               Afatinib        1.0             Afatinib        1.0   \n",
       "3              Alisertib        1.0            Alisertib        1.0   \n",
       "4              Alpelisib        1.0            Alpelisib        1.0   \n",
       "..                   ...        ...                  ...        ...   \n",
       "573          Vinblastine     1.0000          Vinblastine     1.0000   \n",
       "574          Vincristine     0.8525          Vincristine     0.8525   \n",
       "575          Vincristine     1.0000          Vincristine     1.0000   \n",
       "576  Vincristine Sulfate     1.0000  Vincristine Sulfate     1.0000   \n",
       "577         Capecitabine     0.7274         Capecitabine     0.7274   \n",
       "\n",
       "       top3_match top3_score    top4_match top4_score    top5_match top5_score  \n",
       "0     Abiraterone        1.0   Abiraterone        1.0   Abiraterone        1.0  \n",
       "1      Adalimumab        1.0    Adalimumab        1.0    Adalimumab        1.0  \n",
       "2        Afatinib        1.0      Afatinib        1.0      Afatinib        1.0  \n",
       "3       Alisertib        1.0     Alisertib        1.0     Alisertib        1.0  \n",
       "4       Alpelisib        1.0     Alpelisib        1.0     Alpelisib        1.0  \n",
       "..            ...        ...           ...        ...           ...        ...  \n",
       "573   Vinblastine     1.0000   Vinorelbine     0.7879   Vinorelbine     0.7879  \n",
       "574   Vincristine     0.8525   Vincristine     0.8525   Vincristine     0.8525  \n",
       "575   Vincristine     1.0000   Vincristine     1.0000   Vincristine     1.0000  \n",
       "576   Vincristine     0.8753   Vincristine     0.8753   Vincristine     0.8753  \n",
       "577  Capecitabine     0.7274  Capecitabine     0.7274  Capecitabine     0.7274  \n",
       "\n",
       "[578 rows x 14 columns]"
      ]
     },
     "execution_count": 8,
     "metadata": {},
     "output_type": "execute_result"
    }
   ],
   "source": [
    "results_engine_testing"
   ]
  },
  {
   "cell_type": "code",
   "execution_count": 10,
   "id": "ea87df3f",
   "metadata": {},
   "outputs": [
    {
     "name": "stdout",
     "output_type": "stream",
     "text": [
      "Total records: 578\n",
      "Unmatched records: 114 (19.72%)\n",
      "Matched records: 464 (1.16)\n"
     ]
    }
   ],
   "source": [
    "# Sentences Transformer Strategy\n",
    "total = len(results_engine_testing)\n",
    "\n",
    "# unmatched（match_level == 99）\n",
    "unmatched_count = (results_engine_testing['match_level'] == 99).sum()\n",
    "unmatched_ratio = unmatched_count / total\n",
    "\n",
    "# matched（match_level != 99）\n",
    "matched_df = results_engine_testing[results_engine_testing['match_level'] != 99]\n",
    "matched_count = len(matched_df)\n",
    "average_match_level = matched_df['match_level'].mean()\n",
    "\n",
    "print(f\"Total records: {total}\")\n",
    "print(f\"Unmatched records: {unmatched_count} ({unmatched_ratio:.2%})\")\n",
    "print(f\"Matched records: {matched_count} ({average_match_level:.2f})\")"
   ]
  },
  {
   "cell_type": "code",
   "execution_count": 21,
   "id": "cf251950",
   "metadata": {},
   "outputs": [],
   "source": [
    "results_engine_testing.to_csv('results_engine_testing.csv', index=False)"
   ]
  },
  {
   "cell_type": "code",
   "execution_count": null,
   "id": "4b00623c",
   "metadata": {},
   "outputs": [
    {
     "name": "stdout",
     "output_type": "stream",
     "text": [
      "21/05//2025 02:28:1747862916 PM - INFO - OntoMapEngine: Initialized OntoMap Engine module\n",
      "21/05//2025 02:28:1747862916 PM - INFO - OntoMapEngine: Initialized OntoMap Engine module\n",
      "21/05//2025 02:28:1747862916 PM - INFO - OntoMapEngine: Running Ontology Mapping\n",
      "21/05//2025 02:28:1747862916 PM - INFO - OntoMapEngine: Running Ontology Mapping\n",
      "21/05//2025 02:28:1747862916 PM - INFO - OntoMapEngine: Separating exact and non-exact matches\n",
      "21/05//2025 02:28:1747862916 PM - INFO - OntoMapEngine: Separating exact and non-exact matches\n",
      "21/05//2025 02:28:1747862916 PM - INFO - OntoMapEngine: Running OntoMap model for non-exact matches\n",
      "21/05//2025 02:28:1747862916 PM - INFO - OntoMapEngine: Running OntoMap model for non-exact matches\n",
      "21/05//2025 02:28:1747862916 PM - INFO - OntoMapST: Initialized OntoMap Sentence Transformer module\n",
      "21/05//2025 02:28:1747862916 PM - INFO - OntoMapST: Initialized OntoMap Sentence Transformer module\n",
      "21/05//2025 02:28:1747862916 PM - INFO - OntoMapST.get_match_results: Creating embeddings for query_list and corpus\n",
      "21/05//2025 02:28:1747862916 PM - INFO - OntoMapST.get_match_results: Creating embeddings for query_list and corpus\n"
     ]
    },
    {
     "name": "stderr",
     "output_type": "stream",
     "text": [
      "Exception in worker\n",
      "Traceback (most recent call last):\n",
      "  File \"/home/lcc/miniconda3/envs/gsoc/lib/python3.12/concurrent/futures/thread.py\", line 89, in _worker\n",
      "    work_item = work_queue.get(block=True)\n",
      "                ^^^^^^^^^^^^^^^^^^^^^^^^^^\n",
      "  File \"src/gevent/queue.py\", line 381, in gevent._gevent_cqueue.SimpleQueue.get\n",
      "  File \"src/gevent/queue.py\", line 397, in gevent._gevent_cqueue.SimpleQueue.get\n",
      "  File \"src/gevent/queue.py\", line 373, in gevent._gevent_cqueue.SimpleQueue._SimpleQueue__get_or_peek\n",
      "  File \"src/gevent/_waiter.py\", line 154, in gevent._gevent_c_waiter.Waiter.get\n",
      "  File \"src/gevent/_greenlet_primitives.py\", line 65, in gevent._gevent_c_greenlet_primitives.SwitchOutGreenletWithLoop.switch\n",
      "  File \"src/gevent/_gevent_c_greenlet_primitives.pxd\", line 35, in gevent._gevent_c_greenlet_primitives._greenlet_switch\n",
      "gevent.exceptions.LoopExit: This operation would block forever\n",
      "\tHub: <Hub '' at 0x7f41f4316c00 epoll pending=0 ref=0 fileno=94 thread_ident=0x7f41eeefd640>\n",
      "\tHandles:\n",
      "[]\n",
      "Exception in worker\n",
      "Traceback (most recent call last):\n",
      "  File \"/home/lcc/miniconda3/envs/gsoc/lib/python3.12/concurrent/futures/thread.py\", line 89, in _worker\n",
      "    work_item = work_queue.get(block=True)\n",
      "                ^^^^^^^^^^^^^^^^^^^^^^^^^^\n",
      "  File \"src/gevent/queue.py\", line 381, in gevent._gevent_cqueue.SimpleQueue.get\n",
      "  File \"src/gevent/queue.py\", line 397, in gevent._gevent_cqueue.SimpleQueue.get\n",
      "  File \"src/gevent/queue.py\", line 373, in gevent._gevent_cqueue.SimpleQueue._SimpleQueue__get_or_peek\n",
      "  File \"src/gevent/_waiter.py\", line 154, in gevent._gevent_c_waiter.Waiter.get\n",
      "  File \"src/gevent/_greenlet_primitives.py\", line 65, in gevent._gevent_c_greenlet_primitives.SwitchOutGreenletWithLoop.switch\n",
      "  File \"src/gevent/_gevent_c_greenlet_primitives.pxd\", line 35, in gevent._gevent_c_greenlet_primitives._greenlet_switch\n",
      "gevent.exceptions.LoopExit: This operation would block forever\n",
      "\tHub: <Hub '' at 0x7f41f4680400 epoll pending=0 ref=0 fileno=93 thread_ident=0x7f41effff640>\n",
      "\tHandles:\n",
      "[]\n"
     ]
    },
    {
     "name": "stdout",
     "output_type": "stream",
     "text": [
      "21/05//2025 02:28:1747862921 PM - INFO - OntoMapST.get_match_results: Calculating cosine similarity matrix\n",
      "21/05//2025 02:28:1747862921 PM - INFO - OntoMapST.get_match_results: Calculating cosine similarity matrix\n",
      "21/05//2025 02:28:1747862921 PM - INFO - OntoMapST.get_match_results: Generating results table\n",
      "21/05//2025 02:28:1747862921 PM - INFO - OntoMapST.get_match_results: Generating results table\n",
      "21/05//2025 02:28:1747862922 PM - INFO - OntoMapST.get_match_results: Results Generated\n",
      "21/05//2025 02:28:1747862922 PM - INFO - OntoMapST.get_match_results: Results Generated\n"
     ]
    }
   ],
   "source": [
    "# st - pubmed-bert\n",
    "other_params = {\"test_or_prod\": \"test\"}\n",
    "onto_engine_large = ome.OntoMapEngine(method='pubmed-bert', topk=5,\n",
    "query=query_list, corpus=small_corpus_list,\n",
    "cura_map=cura_map, \n",
    "yaml_path='./src/models/method_model.yaml', \n",
    "om_strategy='st', **other_params)\n",
    "\n",
    "results_engine_testing2 = onto_engine_large.run()"
   ]
  },
  {
   "cell_type": "code",
   "execution_count": 12,
   "id": "ff38f0c1",
   "metadata": {},
   "outputs": [
    {
     "name": "stdout",
     "output_type": "stream",
     "text": [
      "Total records: 578\n",
      "Unmatched records: 168 (29.07%)\n",
      "Matched records: 410 (1.10)\n"
     ]
    }
   ],
   "source": [
    "# Sentences Transformer Strategy\n",
    "total = len(results_engine_testing2)\n",
    "\n",
    "# unmatched（match_level == 99）\n",
    "unmatched_count = (results_engine_testing2['match_level'] == 99).sum()\n",
    "unmatched_ratio = unmatched_count / total\n",
    "\n",
    "# matched（match_level != 99）\n",
    "matched_df = results_engine_testing2[results_engine_testing2['match_level'] != 99]\n",
    "matched_count = len(matched_df)\n",
    "average_match_level = matched_df['match_level'].mean()\n",
    "\n",
    "print(f\"Total records: {total}\")\n",
    "print(f\"Unmatched records: {unmatched_count} ({unmatched_ratio:.2%})\")\n",
    "print(f\"Matched records: {matched_count} ({average_match_level:.2f})\")"
   ]
  },
  {
   "cell_type": "code",
   "execution_count": 13,
   "id": "f5a84e3a",
   "metadata": {},
   "outputs": [
    {
     "name": "stdout",
     "output_type": "stream",
     "text": [
      "21/05//2025 02:29:1747862963 PM - INFO - OntoMapEngine: Initialized OntoMap Engine module\n",
      "21/05//2025 02:29:1747862963 PM - INFO - OntoMapEngine: Initialized OntoMap Engine module\n",
      "21/05//2025 02:29:1747862963 PM - INFO - OntoMapEngine: Initialized OntoMap Engine module\n"
     ]
    }
   ],
   "source": [
    "# lm\n",
    "other_params = {\"test_or_prod\": \"test\"}\n",
    "onto_engine_large = ome.OntoMapEngine(method='sap-bert', topk=5,\n",
    "query=query_list, corpus=small_corpus_list,\n",
    "cura_map=cura_map, \n",
    "yaml_path='./src/models/method_model.yaml', \n",
    "om_strategy='lm', **other_params)"
   ]
  },
  {
   "cell_type": "code",
   "execution_count": 14,
   "id": "cd9620e5",
   "metadata": {},
   "outputs": [
    {
     "name": "stdout",
     "output_type": "stream",
     "text": [
      "21/05//2025 02:29:1747862982 PM - INFO - OntoMapEngine: Running Ontology Mapping\n",
      "21/05//2025 02:29:1747862982 PM - INFO - OntoMapEngine: Running Ontology Mapping\n",
      "21/05//2025 02:29:1747862982 PM - INFO - OntoMapEngine: Running Ontology Mapping\n",
      "21/05//2025 02:29:1747862982 PM - INFO - OntoMapEngine: Separating exact and non-exact matches\n",
      "21/05//2025 02:29:1747862982 PM - INFO - OntoMapEngine: Separating exact and non-exact matches\n",
      "21/05//2025 02:29:1747862982 PM - INFO - OntoMapEngine: Separating exact and non-exact matches\n",
      "21/05//2025 02:29:1747862982 PM - INFO - OntoMapEngine: Running OntoMap model for non-exact matches\n",
      "21/05//2025 02:29:1747862982 PM - INFO - OntoMapEngine: Running OntoMap model for non-exact matches\n",
      "21/05//2025 02:29:1747862982 PM - INFO - OntoMapEngine: Running OntoMap model for non-exact matches\n",
      "21/05//2025 02:29:1747862982 PM - INFO - OntoMapLM: Initialized OntoMap Language Model module\n",
      "21/05//2025 02:29:1747862982 PM - INFO - OntoMapLM.get_match_results: Creating embeddings for query_list and corpus\n",
      "21/05//2025 02:30:1747863007 PM - INFO - OntoMapLM.get_match_results: Calculating cosine similarity matrix\n",
      "21/05//2025 02:30:1747863008 PM - INFO - OntoMapLM.get_match_results: Generating results table\n",
      "21/05//2025 02:30:1747863008 PM - INFO - OntoMapLM.get_match_results: Results Generated\n"
     ]
    }
   ],
   "source": [
    "results_engine_testing3 = onto_engine_large.run()"
   ]
  },
  {
   "cell_type": "code",
   "execution_count": 15,
   "id": "f2764a49",
   "metadata": {},
   "outputs": [
    {
     "name": "stdout",
     "output_type": "stream",
     "text": [
      "Total records: 578\n",
      "Unmatched records: 114 (19.72%)\n",
      "Matched records: 464 (1.16)\n"
     ]
    }
   ],
   "source": [
    "# Language Model Strategy\n",
    "total = len(results_engine_testing3)\n",
    "\n",
    "# unmatched（match_level == 99）\n",
    "unmatched_count = (results_engine_testing3['match_level'] == 99).sum()\n",
    "unmatched_ratio = unmatched_count / total\n",
    "\n",
    "# matched（match_level != 99）\n",
    "matched_df = results_engine_testing3[results_engine_testing3['match_level'] != 99]\n",
    "matched_count = len(matched_df)\n",
    "average_match_level = matched_df['match_level'].mean()\n",
    "\n",
    "print(f\"Total records: {total}\")\n",
    "print(f\"Unmatched records: {unmatched_count} ({unmatched_ratio:.2%})\")\n",
    "print(f\"Matched records: {matched_count} ({average_match_level:.2f})\")"
   ]
  },
  {
   "cell_type": "code",
   "execution_count": 16,
   "id": "550487bf",
   "metadata": {},
   "outputs": [
    {
     "name": "stdout",
     "output_type": "stream",
     "text": [
      "Using om_strategy: lm\n",
      "21/05//2025 02:33:1747863196 PM - INFO - OntoMapLM: Initialized OntoMap Language Model module\n",
      "21/05//2025 02:33:1747863196 PM - INFO - OntoMapLM: Initialized OntoMap Language Model module\n",
      "Engine class: <class 'src.models.ontology_mapper_lm.OntoMapLM'>\n"
     ]
    }
   ],
   "source": [
    "print(f\"Using om_strategy: {onto_engine_large.om_strategy}\")\n",
    "print(f\"Engine class: {type(onto_engine_large._om_model_from_strategy(['test']))}\")"
   ]
  },
  {
   "cell_type": "code",
   "execution_count": 7,
   "id": "749da2c8",
   "metadata": {},
   "outputs": [
    {
     "name": "stdout",
     "output_type": "stream",
     "text": [
      "22/05//2025 12:47:1747900072 AM - INFO - OntoMapEngine: Initialized OntoMap Engine module\n",
      "22/05//2025 12:47:1747900073 AM - INFO - OntoMapEngine: Initialized OntoMap Engine module\n",
      "22/05//2025 12:47:1747900073 AM - INFO - OntoMapEngine: Initialized OntoMap Engine module\n",
      "22/05//2025 12:47:1747900073 AM - INFO - OntoMapLM: Initialized OntoMap Language Model module\n",
      "22/05//2025 12:47:1747900076 AM - INFO - OntoMapST: Initialized OntoMap Sentence Transformer module\n"
     ]
    },
    {
     "name": "stderr",
     "output_type": "stream",
     "text": [
      "No sentence-transformers model found with name cambridgeltl/SapBERT-from-PubmedBERT-fulltext. Creating a new one with MEAN pooling.\n"
     ]
    },
    {
     "name": "stdout",
     "output_type": "stream",
     "text": [
      "LM model type: <class 'transformers.models.bert.modeling_bert.BertModel'>\n",
      "ST model type: <class 'sentence_transformers.SentenceTransformer.SentenceTransformer'>\n",
      "LM model: BertModel(\n",
      "  (embeddings): BertEmbeddings(\n",
      "    (word_embeddings): Embedding(30522, 768, padding_idx=0)\n",
      "    (position_embeddings): Embedding(512, 768)\n",
      "    (token_type_embeddings): Embedding(2, 768)\n",
      "    (LayerNorm): LayerNorm((768,), eps=1e-12, elementwise_affine=True)\n",
      "    (dropout): Dropout(p=0.1, inplace=False)\n",
      "  )\n",
      "  (encoder): BertEncoder(\n",
      "    (layer): ModuleList(\n",
      "      (0-11): 12 x BertLayer(\n",
      "        (attention): BertAttention(\n",
      "          (self): BertSdpaSelfAttention(\n",
      "            (query): Linear(in_features=768, out_features=768, bias=True)\n",
      "            (key): Linear(in_features=768, out_features=768, bias=True)\n",
      "            (value): Linear(in_features=768, out_features=768, bias=True)\n",
      "            (dropout): Dropout(p=0.1, inplace=False)\n",
      "          )\n",
      "          (output): BertSelfOutput(\n",
      "            (dense): Linear(in_features=768, out_features=768, bias=True)\n",
      "            (LayerNorm): LayerNorm((768,), eps=1e-12, elementwise_affine=True)\n",
      "            (dropout): Dropout(p=0.1, inplace=False)\n",
      "          )\n",
      "        )\n",
      "        (intermediate): BertIntermediate(\n",
      "          (dense): Linear(in_features=768, out_features=3072, bias=True)\n",
      "          (intermediate_act_fn): GELUActivation()\n",
      "        )\n",
      "        (output): BertOutput(\n",
      "          (dense): Linear(in_features=3072, out_features=768, bias=True)\n",
      "          (LayerNorm): LayerNorm((768,), eps=1e-12, elementwise_affine=True)\n",
      "          (dropout): Dropout(p=0.1, inplace=False)\n",
      "        )\n",
      "      )\n",
      "    )\n",
      "  )\n",
      "  (pooler): BertPooler(\n",
      "    (dense): Linear(in_features=768, out_features=768, bias=True)\n",
      "    (activation): Tanh()\n",
      "  )\n",
      ")\n",
      "ST model: SentenceTransformer(\n",
      "  (0): Transformer({'max_seq_length': 512, 'do_lower_case': False}) with Transformer model: BertModel \n",
      "  (1): Pooling({'word_embedding_dimension': 768, 'pooling_mode_cls_token': False, 'pooling_mode_mean_tokens': True, 'pooling_mode_max_tokens': False, 'pooling_mode_mean_sqrt_len_tokens': False, 'pooling_mode_weightedmean_tokens': False, 'pooling_mode_lasttoken': False, 'include_prompt': True})\n",
      ")\n"
     ]
    }
   ],
   "source": [
    "lm_engine = ome.OntoMapEngine(\n",
    "    method='sap-bert', topk=5,\n",
    "    query=query_list, corpus=small_corpus_list,\n",
    "    cura_map=cura_map, \n",
    "    yaml_path='./src/models/method_model.yaml', \n",
    "    om_strategy='lm', test_or_prod='test'\n",
    ")\n",
    "st_engine = ome.OntoMapEngine(\n",
    "    method='sap-bert', topk=5,\n",
    "    query=query_list, corpus=small_corpus_list,\n",
    "    cura_map=cura_map, \n",
    "    yaml_path='./src/models/method_model.yaml', \n",
    "    om_strategy='st', test_or_prod='test'\n",
    ")\n",
    "\n",
    "lm_model = lm_engine._om_model_from_strategy(['test']).model\n",
    "st_model = st_engine._om_model_from_strategy(['test']).model\n",
    "\n",
    "print(\"LM model type:\", type(lm_model))\n",
    "print(\"ST model type:\", type(st_model))\n",
    "\n",
    "print(\"LM model:\", lm_model)\n",
    "print(\"ST model:\", st_model)"
   ]
  }
 ],
 "metadata": {
  "kernelspec": {
   "display_name": "gsoc",
   "language": "python",
   "name": "python3"
  },
  "language_info": {
   "codemirror_mode": {
    "name": "ipython",
    "version": 3
   },
   "file_extension": ".py",
   "mimetype": "text/x-python",
   "name": "python",
   "nbconvert_exporter": "python",
   "pygments_lexer": "ipython3",
   "version": "3.12.2"
  }
 },
 "nbformat": 4,
 "nbformat_minor": 5
}
