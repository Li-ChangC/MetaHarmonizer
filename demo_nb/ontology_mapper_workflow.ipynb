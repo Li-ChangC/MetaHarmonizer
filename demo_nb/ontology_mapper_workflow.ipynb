{
 "cells": [
  {
   "cell_type": "code",
   "execution_count": null,
   "id": "012e2ab8",
   "metadata": {},
   "outputs": [
    {
     "name": "stdout",
     "output_type": "stream",
     "text": [
      "/home/lcc/projects/MetaHarmonizer\n"
     ]
    },
    {
     "name": "stderr",
     "output_type": "stream",
     "text": [
      "/home/lcc/miniconda3/envs/py310/lib/python3.10/site-packages/IPython/core/magics/osm.py:417: UserWarning: This is now an optional IPython functionality, setting dhist requires you to install the `pickleshare` library.\n",
      "  self.shell.db['dhist'] = compress_dhist(dhist)[-100:]\n"
     ]
    }
   ],
   "source": [
    "# First, change the working directory to the project root.\n",
    "# Example: %cd /home/your_username/MetaHarmonizer\n",
    "\n",
    "%cd /home/lcc/projects/MetaHarmonizer"
   ]
  },
  {
   "cell_type": "code",
   "execution_count": null,
   "id": "43cf4b56",
   "metadata": {},
   "outputs": [],
   "source": [
    "# This is required to run asyncio code in Jupyter notebooks.\n",
    "# Jupyter already runs its own event loop, so calling asyncio.run() directly would raise an error.\n",
    "# nest_asyncio.apply() patches the loop to allow nested usage.\n",
    "\n",
    "import nest_asyncio\n",
    "\n",
    "nest_asyncio.apply()"
   ]
  },
  {
   "cell_type": "code",
   "execution_count": null,
   "id": "f5b39b4c",
   "metadata": {},
   "outputs": [
    {
     "name": "stderr",
     "output_type": "stream",
     "text": [
      "/home/lcc/miniconda3/envs/py310/lib/python3.10/site-packages/tqdm/auto.py:21: TqdmWarning: IProgress not found. Please update jupyter and ipywidgets. See https://ipywidgets.readthedocs.io/en/stable/user_install.html\n",
      "  from .autonotebook import tqdm as notebook_tqdm\n",
      "/home/lcc/miniconda3/envs/py310/lib/python3.10/site-packages/fuzzywuzzy/fuzz.py:11: UserWarning: Using slow pure-python SequenceMatcher. Install python-Levenshtein to remove this warning\n",
      "  warnings.warn('Using slow pure-python SequenceMatcher. Install python-Levenshtein to remove this warning')\n",
      "[nltk_data] Downloading package punkt to /home/lcc/nltk_data...\n",
      "[nltk_data]   Package punkt is already up-to-date!\n",
      "[nltk_data] Downloading package wordnet to /home/lcc/nltk_data...\n",
      "[nltk_data]   Package wordnet is already up-to-date!\n",
      "[nltk_data] Downloading package punkt to /home/lcc/nltk_data...\n",
      "[nltk_data]   Package punkt is already up-to-date!\n",
      "[nltk_data] Downloading package stopwords to /home/lcc/nltk_data...\n",
      "[nltk_data]   Package stopwords is already up-to-date!\n",
      "[nltk_data] Downloading package wordnet to /home/lcc/nltk_data...\n",
      "[nltk_data]   Package wordnet is already up-to-date!\n"
     ]
    },
    {
     "data": {
      "text/plain": [
       "<module 'src.models.ontology_mapper_bi_encoder' from '/home/lcc/projects/MetaHarmonizer/src/models/ontology_mapper_bi_encoder.py'>"
      ]
     },
     "execution_count": 3,
     "metadata": {},
     "output_type": "execute_result"
    }
   ],
   "source": [
    "# Import core modules and ontology mapper implementations\n",
    "\n",
    "import pandas as pd\n",
    "from importlib import reload\n",
    "\n",
    "# Import different ontology mapping strategies (ST, LM, RAG, Bi-Encoder)\n",
    "from src.models import ontology_mapper_st as om_st\n",
    "from src.models import ontology_mapper_lm as om_lm\n",
    "from src.models import ontology_mapper_rag_faiss as om_rag\n",
    "from src.models import ontology_mapper_bi_encoder as om_bi\n",
    "\n",
    "# Import the engine that handles pipeline logic and integrates the mappers\n",
    "from src.Engine import ontology_mapping_engine as ome\n",
    "\n",
    "# Reload modules to reflect any code updates during development (useful in Jupyter)\n",
    "reload(om_st)\n",
    "reload(om_lm)\n",
    "reload(om_rag)\n",
    "reload(om_bi)\n",
    "reload(ome)"
   ]
  },
  {
   "cell_type": "code",
   "execution_count": null,
   "id": "9b3ec51a",
   "metadata": {},
   "outputs": [],
   "source": [
    "# Import the CalcStats class for calculating Top1, Top3, and Top5 accuracy\n",
    "\n",
    "from src.models.calc_stats import CalcStats\n",
    "\n",
    "calc = CalcStats()"
   ]
  },
  {
   "cell_type": "code",
   "execution_count": null,
   "id": "2266c30e",
   "metadata": {},
   "outputs": [
    {
     "name": "stdout",
     "output_type": "stream",
     "text": [
      "[Success] Table 'st_mt_sap_bert_disease' dropped from src/KnowledgeDb/vector_db.sqlite\n",
      "[Success] Index file 'src/KnowledgeDb/faiss_indexes/st_mt-sap-bert_disease.index' deleted.\n"
     ]
    }
   ],
   "source": [
    "# Optional utility: Clean up the FAISS + SQLite vector store\n",
    "# Useful after testing or re-running experiments to avoid stale data\n",
    "# Not required for standard inference or training runs\n",
    "\n",
    "from src.utils.cleanup_vector_store import cleanup_vector_store\n",
    "\n",
    "cleanup_vector_store(\"st\", \"mt-sap-bert\", \"disease\")  # (strategy, model_name, entity_type)"
   ]
  },
  {
   "cell_type": "markdown",
   "id": "9b337b49",
   "metadata": {},
   "source": [
    "DF"
   ]
  },
  {
   "cell_type": "code",
   "execution_count": null,
   "id": "fa0ee3e0",
   "metadata": {},
   "outputs": [],
   "source": [
    "df = pd.read_csv(\"data/corpus/cbio_disease/disease_query_updated.csv\")\n",
    "large_corpus = pd.read_csv(\n",
    "    'data/corpus/cbio_disease/disease_corpus_updated.csv')\n",
    "\n",
    "query_list = df['original_value'].tolist()\n",
    "small_corpus_list = df['curated_ontology'].tolist() # Small corpus list is made of curated ontology values in the query file\n",
    "large_corpus_list = large_corpus['official_label'].tolist() \n",
    "\n",
    "cura_map = dict(zip(df['original_value'], df['curated_ontology']))"
   ]
  },
  {
   "cell_type": "code",
   "execution_count": null,
   "id": "e041f396",
   "metadata": {},
   "outputs": [
    {
     "name": "stdout",
     "output_type": "stream",
     "text": [
      "09/07/2025 03:37:15 PM - INFO - OntoMapEngine: Initialized OntoMap Engine module\n",
      "09/07/2025 03:37:15 PM - INFO - OntoMapEngine: Running Ontology Mapping\n",
      "09/07/2025 03:37:15 PM - INFO - OntoMapEngine: Separating exact and non-exact matches\n",
      "09/07/2025 03:37:15 PM - INFO - OntoMapEngine: Replacing shortNames using rule-based name mapping\n",
      "09/07/2025 03:37:15 PM - INFO - OntoMapEngine: Replaced: ACC → Adrenocortical Carcinoma\n",
      "09/07/2025 03:37:15 PM - INFO - OntoMapEngine: Replaced: ACYC → Adenoid Cystic Carcinoma\n",
      "09/07/2025 03:37:15 PM - INFO - OntoMapEngine: Replaced: AML → Acute Myeloid Leukemia\n",
      "09/07/2025 03:37:15 PM - INFO - OntoMapEngine: Replaced: ANSC → Anal Squamous Cell Carcinoma\n",
      "09/07/2025 03:37:15 PM - INFO - OntoMapEngine: Replaced: APAD → Appendiceal Adenocarcinoma\n",
      "09/07/2025 03:37:15 PM - INFO - OntoMapEngine: Replaced: ASPS → Alveolar Soft Part Sarcoma\n",
      "09/07/2025 03:37:15 PM - INFO - OntoMapEngine: Replaced: ATRT → Atypical Teratoid/Rhabdoid Tumor\n",
      "09/07/2025 03:37:15 PM - INFO - OntoMapEngine: Replaced: BLCA → Bladder Urothelial Carcinoma\n",
      "09/07/2025 03:37:15 PM - INFO - OntoMapEngine: Replaced: BLL → B-Lymphoblastic Leukemia/Lymphoma\n",
      "09/07/2025 03:37:15 PM - INFO - OntoMapEngine: Replaced: BRCA → Invasive Breast Carcinoma\n",
      "09/07/2025 03:37:15 PM - INFO - OntoMapEngine: Replaced: CCOV → Clear Cell Ovarian Cancer\n",
      "09/07/2025 03:37:15 PM - INFO - OntoMapEngine: Replaced: CCRCC → Renal Clear Cell Carcinoma\n",
      "09/07/2025 03:37:15 PM - INFO - OntoMapEngine: Replaced: CESC → Cervical Squamous Cell Carcinoma\n",
      "09/07/2025 03:37:15 PM - INFO - OntoMapEngine: Replaced: CHOL → Cholangiocarcinoma\n",
      "09/07/2025 03:37:15 PM - INFO - OntoMapEngine: Replaced: CML → Chronic Myelogenous Leukemia\n",
      "09/07/2025 03:37:15 PM - INFO - OntoMapEngine: Replaced: CMML → Chronic Myelomonocytic Leukemia\n",
      "09/07/2025 03:37:15 PM - INFO - OntoMapEngine: Replaced: COAD → Colon Adenocarcinoma\n",
      "09/07/2025 03:37:15 PM - INFO - OntoMapEngine: Replaced: CSCC → Cutaneous Squamous Cell Carcinoma\n",
      "09/07/2025 03:37:15 PM - INFO - OntoMapEngine: Replaced: DIPG → Diffuse Intrinsic Pontine Glioma\n",
      "09/07/2025 03:37:15 PM - INFO - OntoMapEngine: Replaced: EMBT → Embryonal Tumor\n",
      "09/07/2025 03:37:15 PM - INFO - OntoMapEngine: Replaced: EPM → Ependymoma\n",
      "09/07/2025 03:37:15 PM - INFO - OntoMapEngine: Replaced: ES → Ewing Sarcoma\n",
      "09/07/2025 03:37:15 PM - INFO - OntoMapEngine: Replaced: ESCA → Esophageal Adenocarcinoma\n",
      "09/07/2025 03:37:15 PM - INFO - OntoMapEngine: Replaced: FL → Follicular Lymphoma\n",
      "09/07/2025 03:37:15 PM - INFO - OntoMapEngine: Replaced: GB → Glioblastoma\n",
      "09/07/2025 03:37:15 PM - INFO - OntoMapEngine: Replaced: GBC → Gallbladder Cancer\n",
      "09/07/2025 03:37:15 PM - INFO - OntoMapEngine: Replaced: GBM → Glioblastoma Multiforme\n",
      "09/07/2025 03:37:15 PM - INFO - OntoMapEngine: Replaced: GINET → Gastrointestinal Neuroendocrine Tumors\n",
      "09/07/2025 03:37:15 PM - INFO - OntoMapEngine: Replaced: GIST → Gastrointestinal Stromal Tumor\n",
      "09/07/2025 03:37:15 PM - INFO - OntoMapEngine: Replaced: HCC → Hepatocellular Carcinoma\n",
      "09/07/2025 03:37:15 PM - INFO - OntoMapEngine: Replaced: HGGNOS → High-Grade Glioma, NOS\n",
      "09/07/2025 03:37:15 PM - INFO - OntoMapEngine: Replaced: HGSOC → High-Grade Serous Ovarian Cancer\n",
      "09/07/2025 03:37:15 PM - INFO - OntoMapEngine: Replaced: HNSC → Head and Neck Squamous Cell Carcinoma\n",
      "09/07/2025 03:37:15 PM - INFO - OntoMapEngine: Replaced: IDC → Breast Invasive Ductal Carcinoma\n",
      "09/07/2025 03:37:15 PM - INFO - OntoMapEngine: Replaced: LGSOC → Low-Grade Serous Ovarian Cancer\n",
      "09/07/2025 03:37:15 PM - INFO - OntoMapEngine: Replaced: LIHB → Hepatoblastoma\n",
      "09/07/2025 03:37:15 PM - INFO - OntoMapEngine: Replaced: LNET → Lung Neuroendocrine Tumor\n",
      "09/07/2025 03:37:15 PM - INFO - OntoMapEngine: Replaced: LUAD → Lung Adenocarcinoma\n",
      "09/07/2025 03:37:15 PM - INFO - OntoMapEngine: Replaced: LUSC → Lung Squamous Cell Carcinoma\n",
      "09/07/2025 03:37:15 PM - INFO - OntoMapEngine: Replaced: MBL → Medulloblastoma\n",
      "09/07/2025 03:37:15 PM - INFO - OntoMapEngine: Replaced: MDS → Myelodysplastic Syndromes\n",
      "09/07/2025 03:37:15 PM - INFO - OntoMapEngine: Replaced: MGUS → Monoclonal Gammopathy of Undetermined Significance\n",
      "09/07/2025 03:37:15 PM - INFO - OntoMapEngine: Replaced: NBL → Neuroblastoma\n",
      "09/07/2025 03:37:15 PM - INFO - OntoMapEngine: Replaced: NHL → Non-Hodgkin Lymphoma\n",
      "09/07/2025 03:37:15 PM - INFO - OntoMapEngine: Replaced: NSCLC → Non-Small Cell Lung Cancer\n",
      "09/07/2025 03:37:15 PM - INFO - OntoMapEngine: Replaced: OS → Osteosarcoma\n",
      "09/07/2025 03:37:15 PM - INFO - OntoMapEngine: Replaced: PAAD → Pancreatic Adenocarcinoma\n",
      "09/07/2025 03:37:15 PM - INFO - OntoMapEngine: Replaced: PANET → Pancreatic Neuroendocrine Tumor\n",
      "09/07/2025 03:37:15 PM - INFO - OntoMapEngine: Replaced: PAST → Pilocytic Astrocytoma\n",
      "09/07/2025 03:37:15 PM - INFO - OntoMapEngine: Replaced: PLMESO → Pleural Mesothelioma\n",
      "09/07/2025 03:37:15 PM - INFO - OntoMapEngine: Replaced: PNET → Primitive Neuroectodermal Tumor\n",
      "09/07/2025 03:37:15 PM - INFO - OntoMapEngine: Replaced: PRAD → Prostate Adenocarcinoma\n",
      "09/07/2025 03:37:15 PM - INFO - OntoMapEngine: Replaced: RBL → Retinoblastoma\n",
      "09/07/2025 03:37:15 PM - INFO - OntoMapEngine: Replaced: READ → Rectal Adenocarcinoma\n",
      "09/07/2025 03:37:15 PM - INFO - OntoMapEngine: Replaced: RMS → Rhabdomyosarcoma\n",
      "09/07/2025 03:37:15 PM - INFO - OntoMapEngine: Replaced: SCLC → Small Cell Lung Cancer\n",
      "09/07/2025 03:37:15 PM - INFO - OntoMapEngine: Replaced: SKCM → Cutaneous Melanoma\n",
      "09/07/2025 03:37:15 PM - INFO - OntoMapEngine: Replaced: STAD → Stomach Adenocarcinoma\n",
      "09/07/2025 03:37:15 PM - INFO - OntoMapEngine: Replaced: TGCT → Tenosynovial Giant Cell Tumor Diffuse Type\n",
      "09/07/2025 03:37:15 PM - INFO - OntoMapEngine: Replaced: THPA → Papillary Thyroid Cancer\n",
      "09/07/2025 03:37:15 PM - INFO - OntoMapEngine: Replaced: THPD → Poorly Differentiated Thyroid Cancer\n",
      "09/07/2025 03:37:15 PM - INFO - OntoMapEngine: Replaced: THYM → Thymoma\n",
      "09/07/2025 03:37:15 PM - INFO - OntoMapEngine: Replaced: TLL → T-Lymphoblastic Leukemia/Lymphoma\n",
      "09/07/2025 03:37:15 PM - INFO - OntoMapEngine: Replaced: UCS → Uterine Carcinosarcoma/Uterine Malignant Mixed Mullerian Tumor\n",
      "09/07/2025 03:37:15 PM - INFO - OntoMapEngine: Replaced: UM → Uveal Melanoma\n",
      "09/07/2025 03:37:15 PM - INFO - OntoMapEngine: Replaced: WT → Wilms' Tumor\n",
      "09/07/2025 03:37:15 PM - INFO - OntoMapST: Initialized OntoMap Sentence Transformer module\n"
     ]
    },
    {
     "name": "stderr",
     "output_type": "stream",
     "text": [
      "No sentence-transformers model found with name model_cache/mt-sap-bert. Creating a new one with mean pooling.\n",
      "Batches: 100%|██████████| 16/16 [00:00<00:00, 22.10it/s]\n",
      "Batches: 100%|██████████| 16/16 [00:00<00:00, 62.87it/s]\n",
      "Batches: 100%|██████████| 16/16 [00:00<00:00, 65.62it/s]\n",
      "Batches: 100%|██████████| 16/16 [00:00<00:00, 73.16it/s]\n",
      "Batches: 100%|██████████| 16/16 [00:00<00:00, 75.38it/s]\n",
      "Batches: 100%|██████████| 16/16 [00:00<00:00, 71.31it/s]\n",
      "Batches: 100%|██████████| 16/16 [00:00<00:00, 70.76it/s]\n",
      "Batches: 100%|██████████| 16/16 [00:00<00:00, 72.96it/s]\n",
      "Batches: 100%|██████████| 16/16 [00:00<00:00, 75.97it/s]\n",
      "Batches: 100%|██████████| 16/16 [00:00<00:00, 73.88it/s]\n",
      "Batches: 100%|██████████| 16/16 [00:00<00:00, 70.75it/s]\n",
      "Batches: 100%|██████████| 16/16 [00:00<00:00, 70.94it/s]\n",
      "Batches: 100%|██████████| 16/16 [00:00<00:00, 64.52it/s]\n",
      "Batches: 100%|██████████| 16/16 [00:00<00:00, 70.14it/s]\n",
      "Batches: 100%|██████████| 16/16 [00:00<00:00, 71.41it/s]\n",
      "Batches: 100%|██████████| 16/16 [00:00<00:00, 72.47it/s]\n",
      "Batches: 100%|██████████| 16/16 [00:00<00:00, 72.09it/s]\n",
      "Batches: 100%|██████████| 16/16 [00:00<00:00, 70.39it/s]\n",
      "Batches: 100%|██████████| 16/16 [00:00<00:00, 67.68it/s]\n",
      "Batches: 100%|██████████| 16/16 [00:00<00:00, 63.89it/s]\n",
      "Batches: 100%|██████████| 16/16 [00:00<00:00, 65.04it/s]\n",
      "Batches: 100%|██████████| 16/16 [00:00<00:00, 74.73it/s]\n",
      "Batches: 100%|██████████| 16/16 [00:00<00:00, 70.41it/s]\n",
      "Batches: 100%|██████████| 16/16 [00:00<00:00, 66.82it/s]\n",
      "Batches: 100%|██████████| 16/16 [00:00<00:00, 69.14it/s]\n",
      "Batches: 100%|██████████| 16/16 [00:00<00:00, 71.79it/s]\n",
      "Batches: 100%|██████████| 16/16 [00:00<00:00, 75.08it/s]\n",
      "Batches: 100%|██████████| 16/16 [00:00<00:00, 77.56it/s]\n",
      "Batches: 100%|██████████| 16/16 [00:00<00:00, 74.76it/s]\n",
      "Batches: 100%|██████████| 16/16 [00:00<00:00, 62.99it/s]\n",
      "Batches: 100%|██████████| 16/16 [00:00<00:00, 73.90it/s]\n",
      "Batches: 100%|██████████| 16/16 [00:00<00:00, 72.35it/s]\n",
      "Batches: 100%|██████████| 16/16 [00:00<00:00, 75.28it/s]\n",
      "Batches: 100%|██████████| 16/16 [00:00<00:00, 62.10it/s]\n",
      "Batches: 100%|██████████| 16/16 [00:00<00:00, 67.50it/s]\n",
      "Batches: 100%|██████████| 16/16 [00:00<00:00, 76.09it/s]\n",
      "Batches: 100%|██████████| 16/16 [00:00<00:00, 65.62it/s]\n",
      "Batches: 100%|██████████| 16/16 [00:00<00:00, 59.77it/s]\n",
      "Batches: 100%|██████████| 16/16 [00:00<00:00, 70.50it/s]\n",
      "Batches: 100%|██████████| 16/16 [00:00<00:00, 72.79it/s]\n",
      "Batches: 100%|██████████| 16/16 [00:00<00:00, 65.48it/s]\n",
      "Batches: 100%|██████████| 16/16 [00:00<00:00, 57.60it/s]\n",
      "Batches: 100%|██████████| 16/16 [00:00<00:00, 61.38it/s]\n",
      "Batches: 100%|██████████| 16/16 [00:00<00:00, 68.77it/s]\n",
      "Batches: 100%|██████████| 16/16 [00:00<00:00, 66.57it/s]\n",
      "Batches: 100%|██████████| 16/16 [00:00<00:00, 67.47it/s]\n",
      "Batches: 100%|██████████| 16/16 [00:00<00:00, 71.19it/s]\n",
      "Batches: 100%|██████████| 16/16 [00:00<00:00, 70.69it/s]\n",
      "Batches: 100%|██████████| 16/16 [00:00<00:00, 63.53it/s]\n",
      "Batches: 100%|██████████| 16/16 [00:00<00:00, 72.88it/s]\n",
      "Batches: 100%|██████████| 16/16 [00:00<00:00, 71.44it/s]\n",
      "Batches: 100%|██████████| 16/16 [00:00<00:00, 57.30it/s]\n",
      "Batches: 100%|██████████| 16/16 [00:00<00:00, 65.84it/s]\n",
      "Batches: 100%|██████████| 16/16 [00:00<00:00, 63.57it/s]\n",
      "Batches: 100%|██████████| 8/8 [00:00<00:00, 62.21it/s]\n",
      "No sentence-transformers model found with name cambridgeltl/SapBERT-from-PubMedBERT-fulltext-mean-token. Creating a new one with mean pooling.\n"
     ]
    }
   ],
   "source": [
    "# ST Strategy: use default pooling method. LM Strategy: use CLS token pooling method.\n",
    "# Arguments:\n",
    "# - method\n",
    "# - category\n",
    "# - topk: retrieve the top k matches\n",
    "# - query: list of original values to map\n",
    "# - corpus: list of curated ontology values to match against\n",
    "# - cura_map: dictionary mapping original values to curated ontology values\n",
    "# Returns: DF with original values, curated ontology values, match levels, stage, and top k matches with scores\n",
    "\n",
    "other_params = {\"test_or_prod\": \"test\"}\n",
    "onto_engine_large = ome.OntoMapEngine(method='mt-sap-bert',\n",
    "                                      category='disease',\n",
    "                                      topk=20,\n",
    "                                      query=query_list,\n",
    "                                      corpus=large_corpus_list,\n",
    "                                      cura_map=cura_map,\n",
    "                                      om_strategy='st',\n",
    "                                      **other_params)\n",
    "st_sapbert_disease_top20_result = onto_engine_large.run()"
   ]
  },
  {
   "cell_type": "code",
   "execution_count": null,
   "id": "04c328ca",
   "metadata": {},
   "outputs": [
    {
     "name": "stdout",
     "output_type": "stream",
     "text": [
      "  Accuracy Level   Accuracy\n",
      "0    Top 1 Match  75.241779\n",
      "1  Top 3 Matches  84.526112\n",
      "2  Top 5 Matches  87.685364\n"
     ]
    }
   ],
   "source": [
    "# Calculate Top1, Top3, and Top5 accuracy for the generated results\n",
    "\n",
    "st_sapbert_accuracy_df = calc.calc_accuracy(st_sapbert_disease_top20_result)\n",
    "print(st_sapbert_accuracy_df)"
   ]
  },
  {
   "cell_type": "code",
   "execution_count": null,
   "id": "8c3c744b",
   "metadata": {},
   "outputs": [],
   "source": [
    "# Save the results to a CSV file for further analysis or reporting. Optional.\n",
    "\n",
    "st_sapbert_disease_top20_result.to_csv(\n",
    "    \"st_sapbert_disease_top20_result.csv\",\n",
    "    index=False)"
   ]
  },
  {
   "cell_type": "code",
   "execution_count": null,
   "id": "13abfc6f",
   "metadata": {},
   "outputs": [],
   "source": [
    "# RAG Strategy: Need corpus_df for concept retrieval.\n",
    "# Example: \n",
    "other_params = {\"test_or_prod\": \"test\"}\n",
    "onto_engine_large = ome.OntoMapEngine(method='pubmed-bert',\n",
    "                                      category='disease',\n",
    "                                      topk=5,\n",
    "                                      query=query_list,\n",
    "                                      corpus=large_corpus_list,\n",
    "                                      cura_map=cura_map,\n",
    "                                      om_strategy='rag',\n",
    "                                      corpus_df=large_corpus,\n",
    "                                      **other_params)\n",
    "pubmed_bert_result = onto_engine_large.run()"
   ]
  },
  {
   "cell_type": "code",
   "execution_count": null,
   "id": "4731235a",
   "metadata": {},
   "outputs": [],
   "source": [
    "# BIE Strategy: Need corpus_df for concept retrieval and query_df for query enrichment.\n",
    "# Example: \n",
    "other_params = {\"test_or_prod\": \"test\"}\n",
    "onto_engine_large = ome.OntoMapEngine(method='pubmed-bert',\n",
    "                                      category='disease',\n",
    "                                      topk=20,\n",
    "                                      query=query_list,\n",
    "                                      corpus=large_corpus_list,\n",
    "                                      cura_map=cura_map,\n",
    "                                      om_strategy='bie',\n",
    "                                      corpus_df=large_corpus,\n",
    "                                      query_df=df,\n",
    "                                      **other_params)\n",
    "pubmedbert_bie_result = onto_engine_large.run()"
   ]
  }
 ],
 "metadata": {
  "kernelspec": {
   "display_name": "py310",
   "language": "python",
   "name": "python3"
  },
  "language_info": {
   "codemirror_mode": {
    "name": "ipython",
    "version": 3
   },
   "file_extension": ".py",
   "mimetype": "text/x-python",
   "name": "python",
   "nbconvert_exporter": "python",
   "pygments_lexer": "ipython3",
   "version": "3.10.18"
  }
 },
 "nbformat": 4,
 "nbformat_minor": 5
}
