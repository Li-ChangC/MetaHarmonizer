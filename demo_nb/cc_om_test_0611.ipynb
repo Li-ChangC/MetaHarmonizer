{
 "cells": [
  {
   "cell_type": "code",
   "execution_count": 1,
   "id": "1aea3cfe",
   "metadata": {},
   "outputs": [
    {
     "name": "stdout",
     "output_type": "stream",
     "text": [
      "/home/lcc/projects/MetaHarmonizer\n"
     ]
    },
    {
     "name": "stderr",
     "output_type": "stream",
     "text": [
      "/home/lcc/miniconda3/envs/py310/lib/python3.10/site-packages/IPython/core/magics/osm.py:417: UserWarning: This is now an optional IPython functionality, setting dhist requires you to install the `pickleshare` library.\n",
      "  self.shell.db['dhist'] = compress_dhist(dhist)[-100:]\n"
     ]
    }
   ],
   "source": [
    "%cd /home/lcc/projects/MetaHarmonizer"
   ]
  },
  {
   "cell_type": "code",
   "execution_count": 2,
   "id": "0f9d1fed",
   "metadata": {},
   "outputs": [
    {
     "data": {
      "text/plain": [
       "True"
      ]
     },
     "execution_count": 2,
     "metadata": {},
     "output_type": "execute_result"
    }
   ],
   "source": [
    "import gevent.monkey\n",
    "\n",
    "gevent.monkey.patch_all(thread=False, select=False)"
   ]
  },
  {
   "cell_type": "code",
   "execution_count": 3,
   "id": "782e1f0b",
   "metadata": {},
   "outputs": [
    {
     "name": "stderr",
     "output_type": "stream",
     "text": [
      "/home/lcc/miniconda3/envs/py310/lib/python3.10/site-packages/tqdm/auto.py:21: TqdmWarning: IProgress not found. Please update jupyter and ipywidgets. See https://ipywidgets.readthedocs.io/en/stable/user_install.html\n",
      "  from .autonotebook import tqdm as notebook_tqdm\n",
      "/home/lcc/miniconda3/envs/py310/lib/python3.10/site-packages/fuzzywuzzy/fuzz.py:11: UserWarning: Using slow pure-python SequenceMatcher. Install python-Levenshtein to remove this warning\n",
      "  warnings.warn('Using slow pure-python SequenceMatcher. Install python-Levenshtein to remove this warning')\n",
      "[nltk_data] Downloading package punkt to /home/lcc/nltk_data...\n",
      "[nltk_data]   Package punkt is already up-to-date!\n",
      "[nltk_data] Downloading package wordnet to /home/lcc/nltk_data...\n",
      "[nltk_data]   Package wordnet is already up-to-date!\n",
      "[nltk_data] Downloading package punkt to /home/lcc/nltk_data...\n",
      "[nltk_data]   Package punkt is already up-to-date!\n",
      "[nltk_data] Downloading package stopwords to /home/lcc/nltk_data...\n",
      "[nltk_data]   Package stopwords is already up-to-date!\n",
      "[nltk_data] Downloading package wordnet to /home/lcc/nltk_data...\n",
      "[nltk_data]   Package wordnet is already up-to-date!\n"
     ]
    },
    {
     "data": {
      "text/plain": [
       "<module 'src.models.ontology_mapper_rag_faiss' from '/home/lcc/projects/MetaHarmonizer/src/models/ontology_mapper_rag_faiss.py'>"
      ]
     },
     "execution_count": 3,
     "metadata": {},
     "output_type": "execute_result"
    }
   ],
   "source": [
    "import pandas as pd\n",
    "from importlib import reload\n",
    "from src.models import ontology_mapper_st as om_st\n",
    "from src.Engine import ontology_mapping_engine as ome\n",
    "import src.models.ontology_mapper_lm as om_lm\n",
    "import src.models.ontology_mapper_rag_faiss as om_rag\n",
    "\n",
    "reload(om_st)\n",
    "reload(ome)\n",
    "reload(om_lm)\n",
    "reload(om_rag)"
   ]
  },
  {
   "cell_type": "code",
   "execution_count": 4,
   "id": "cfa9f51d",
   "metadata": {},
   "outputs": [],
   "source": [
    "from src.models.calc_stats import CalcStats\n",
    "\n",
    "calc = CalcStats()"
   ]
  },
  {
   "cell_type": "code",
   "execution_count": null,
   "id": "6a0ff26d",
   "metadata": {},
   "outputs": [],
   "source": [
    "# Deprecated\n",
    "cura_map = pd.read_csv(\n",
    "    './data/corpus/cbio_body_site/body_site_query_for_NCIT:C32221.csv')\n",
    "query_list = cura_map['original_value'].tolist()\n",
    "small_corpus_list = cura_map['curated_ontology'].to_list()\n",
    "# large_corpus_list = pd.read_csv('./data/corpus_from_NCIT_C1909.csv')"
   ]
  },
  {
   "cell_type": "code",
   "execution_count": 5,
   "id": "ab08246f",
   "metadata": {},
   "outputs": [],
   "source": [
    "# Updated code to pass the dict rather than a DataFrame\n",
    "df = pd.read_csv(\n",
    "    './data/corpus/cbio_body_site/body_site_query_for_NCIT:C32221.csv')\n",
    "\n",
    "query_list = df['original_value'].tolist()\n",
    "small_corpus_list = df['curated_ontology'].tolist()\n",
    "\n",
    "cura_map = dict(zip(df['original_value'], df['curated_ontology']))"
   ]
  },
  {
   "cell_type": "code",
   "execution_count": 6,
   "id": "4ede01a5",
   "metadata": {},
   "outputs": [
    {
     "name": "stdout",
     "output_type": "stream",
     "text": [
      "14/06//2025 06:08:1749949681 PM - INFO - OntoMapEngine: Initialized OntoMap Engine module\n"
     ]
    }
   ],
   "source": [
    "# Sentences Transformer Strategy w/ SapBERT\n",
    "other_params = {\"test_or_prod\": \"test\"}\n",
    "onto_engine_large = ome.OntoMapEngine(\n",
    "    method='sap-bert',\n",
    "    topk=5,\n",
    "    query=query_list,\n",
    "    corpus=small_corpus_list,\n",
    "    cura_map=cura_map,\n",
    "    yaml_path='./src/models/method_model.yaml',\n",
    "    om_strategy='st',\n",
    "    **other_params)"
   ]
  },
  {
   "cell_type": "code",
   "execution_count": 7,
   "id": "6ea22f4b",
   "metadata": {},
   "outputs": [
    {
     "name": "stdout",
     "output_type": "stream",
     "text": [
      "14/06//2025 06:08:1749949701 PM - INFO - OntoMapEngine: Running Ontology Mapping\n",
      "14/06//2025 06:08:1749949701 PM - INFO - OntoMapEngine: Separating exact and non-exact matches\n",
      "14/06//2025 06:08:1749949701 PM - INFO - OntoMapEngine: Running OntoMap model for non-exact matches\n",
      "14/06//2025 06:08:1749949701 PM - INFO - OntoMapST: Initialized OntoMap Sentence Transformer module\n",
      "14/06//2025 06:08:1749949701 PM - INFO - OntoMapST.get_match_results: Creating embeddings for query_list and corpus\n"
     ]
    },
    {
     "name": "stderr",
     "output_type": "stream",
     "text": [
      "No sentence-transformers model found with name cambridgeltl/SapBERT-from-PubmedBERT-fulltext. Creating a new one with mean pooling.\n",
      "No sentence-transformers model found with name cambridgeltl/SapBERT-from-PubmedBERT-fulltext. Creating a new one with mean pooling.\n"
     ]
    },
    {
     "name": "stdout",
     "output_type": "stream",
     "text": [
      "14/06//2025 06:08:1749949709 PM - INFO - OntoMapST.get_match_results: Calculating cosine similarity matrix\n",
      "14/06//2025 06:08:1749949709 PM - INFO - OntoMapST.get_match_results: Generating results table\n",
      "14/06//2025 06:08:1749949709 PM - INFO - OntoMapST.get_match_results: Results Generated\n"
     ]
    }
   ],
   "source": [
    "st_result = onto_engine_large.run()"
   ]
  },
  {
   "cell_type": "code",
   "execution_count": 8,
   "id": "f8e4f7f4",
   "metadata": {},
   "outputs": [
    {
     "data": {
      "text/html": [
       "<div>\n",
       "<style scoped>\n",
       "    .dataframe tbody tr th:only-of-type {\n",
       "        vertical-align: middle;\n",
       "    }\n",
       "\n",
       "    .dataframe tbody tr th {\n",
       "        vertical-align: top;\n",
       "    }\n",
       "\n",
       "    .dataframe thead th {\n",
       "        text-align: right;\n",
       "    }\n",
       "</style>\n",
       "<table border=\"1\" class=\"dataframe\">\n",
       "  <thead>\n",
       "    <tr style=\"text-align: right;\">\n",
       "      <th></th>\n",
       "      <th>original_value</th>\n",
       "      <th>curated_ontology</th>\n",
       "      <th>match_level</th>\n",
       "      <th>stage</th>\n",
       "      <th>top1_match</th>\n",
       "      <th>top1_score</th>\n",
       "      <th>top2_match</th>\n",
       "      <th>top2_score</th>\n",
       "      <th>top3_match</th>\n",
       "      <th>top3_score</th>\n",
       "      <th>top4_match</th>\n",
       "      <th>top4_score</th>\n",
       "      <th>top5_match</th>\n",
       "      <th>top5_score</th>\n",
       "    </tr>\n",
       "  </thead>\n",
       "  <tbody>\n",
       "    <tr>\n",
       "      <th>0</th>\n",
       "      <td>\"BRAIN, CEREBELLUM\"</td>\n",
       "      <td>Cerebellum</td>\n",
       "      <td>1</td>\n",
       "      <td>2</td>\n",
       "      <td>Cerebellum</td>\n",
       "      <td>0.9495</td>\n",
       "      <td>Cerebellum</td>\n",
       "      <td>0.9495</td>\n",
       "      <td>Cerebellum</td>\n",
       "      <td>0.9495</td>\n",
       "      <td>Cerebellum</td>\n",
       "      <td>0.9495</td>\n",
       "      <td>Cerebellum</td>\n",
       "      <td>0.9495</td>\n",
       "    </tr>\n",
       "    <tr>\n",
       "      <th>1</th>\n",
       "      <td>\"BRAIN, LEFT FRONTAL\"</td>\n",
       "      <td>Frontal Lobe</td>\n",
       "      <td>1</td>\n",
       "      <td>2</td>\n",
       "      <td>Frontal Lobe</td>\n",
       "      <td>0.6980</td>\n",
       "      <td>Frontal Lobe</td>\n",
       "      <td>0.6980</td>\n",
       "      <td>Frontal Lobe</td>\n",
       "      <td>0.6980</td>\n",
       "      <td>Frontal Lobe</td>\n",
       "      <td>0.6980</td>\n",
       "      <td>Frontal Lobe</td>\n",
       "      <td>0.6980</td>\n",
       "    </tr>\n",
       "    <tr>\n",
       "      <th>2</th>\n",
       "      <td>\"BRAIN, PARIETAL\"</td>\n",
       "      <td>Parietal Lobe</td>\n",
       "      <td>1</td>\n",
       "      <td>2</td>\n",
       "      <td>Parietal Lobe</td>\n",
       "      <td>0.9470</td>\n",
       "      <td>Parietal Lobe</td>\n",
       "      <td>0.9470</td>\n",
       "      <td>Parietal Lobe</td>\n",
       "      <td>0.9470</td>\n",
       "      <td>Parietal Lobe</td>\n",
       "      <td>0.9470</td>\n",
       "      <td>Parietal Lobe</td>\n",
       "      <td>0.9470</td>\n",
       "    </tr>\n",
       "    <tr>\n",
       "      <th>3</th>\n",
       "      <td>\"BRAIN, RIGHT FRONTAL\"</td>\n",
       "      <td>Frontal Lobe</td>\n",
       "      <td>1</td>\n",
       "      <td>2</td>\n",
       "      <td>Frontal Lobe</td>\n",
       "      <td>0.7084</td>\n",
       "      <td>Frontal Lobe</td>\n",
       "      <td>0.7084</td>\n",
       "      <td>Frontal Lobe</td>\n",
       "      <td>0.7084</td>\n",
       "      <td>Frontal Lobe</td>\n",
       "      <td>0.7084</td>\n",
       "      <td>Frontal Lobe</td>\n",
       "      <td>0.7084</td>\n",
       "    </tr>\n",
       "    <tr>\n",
       "      <th>4</th>\n",
       "      <td>\"BRAIN, RIGHT TEMPORAL\"</td>\n",
       "      <td>Temporal Lobe</td>\n",
       "      <td>1</td>\n",
       "      <td>2</td>\n",
       "      <td>Temporal Lobe</td>\n",
       "      <td>0.6802</td>\n",
       "      <td>Temporal Lobe</td>\n",
       "      <td>0.6802</td>\n",
       "      <td>Temporal Lobe</td>\n",
       "      <td>0.6802</td>\n",
       "      <td>Temporal Lobe</td>\n",
       "      <td>0.6802</td>\n",
       "      <td>Temporal Lobe</td>\n",
       "      <td>0.6802</td>\n",
       "    </tr>\n",
       "    <tr>\n",
       "      <th>...</th>\n",
       "      <td>...</td>\n",
       "      <td>...</td>\n",
       "      <td>...</td>\n",
       "      <td>...</td>\n",
       "      <td>...</td>\n",
       "      <td>...</td>\n",
       "      <td>...</td>\n",
       "      <td>...</td>\n",
       "      <td>...</td>\n",
       "      <td>...</td>\n",
       "      <td>...</td>\n",
       "      <td>...</td>\n",
       "      <td>...</td>\n",
       "      <td>...</td>\n",
       "    </tr>\n",
       "    <tr>\n",
       "      <th>434</th>\n",
       "      <td>URETER; RENAL PELVIS</td>\n",
       "      <td>Renal Pelvis</td>\n",
       "      <td>1</td>\n",
       "      <td>2</td>\n",
       "      <td>Renal Pelvis</td>\n",
       "      <td>0.7938</td>\n",
       "      <td>Renal Pelvis</td>\n",
       "      <td>0.7938</td>\n",
       "      <td>Renal Pelvis</td>\n",
       "      <td>0.7938</td>\n",
       "      <td>Renal Pelvis</td>\n",
       "      <td>0.7938</td>\n",
       "      <td>Upper Urinary System</td>\n",
       "      <td>0.6381</td>\n",
       "    </tr>\n",
       "    <tr>\n",
       "      <th>435</th>\n",
       "      <td>URETER; RENAL PELVIS; BLADDER</td>\n",
       "      <td>Renal Pelvis</td>\n",
       "      <td>1</td>\n",
       "      <td>2</td>\n",
       "      <td>Renal Pelvis</td>\n",
       "      <td>0.6683</td>\n",
       "      <td>Renal Pelvis</td>\n",
       "      <td>0.6683</td>\n",
       "      <td>Renal Pelvis</td>\n",
       "      <td>0.6683</td>\n",
       "      <td>Renal Pelvis</td>\n",
       "      <td>0.6683</td>\n",
       "      <td>Upper Urinary System</td>\n",
       "      <td>0.6014</td>\n",
       "    </tr>\n",
       "    <tr>\n",
       "      <th>436</th>\n",
       "      <td>VENTRICLES</td>\n",
       "      <td>Brain Ventricle</td>\n",
       "      <td>1</td>\n",
       "      <td>2</td>\n",
       "      <td>Brain Ventricle</td>\n",
       "      <td>0.8388</td>\n",
       "      <td>Brain Ventricle</td>\n",
       "      <td>0.8388</td>\n",
       "      <td>Brain Ventricle</td>\n",
       "      <td>0.8388</td>\n",
       "      <td>Brain Ventricle</td>\n",
       "      <td>0.8388</td>\n",
       "      <td>Brain Ventricle</td>\n",
       "      <td>0.8388</td>\n",
       "    </tr>\n",
       "    <tr>\n",
       "      <th>437</th>\n",
       "      <td>VERY DISTAL RECTUM RECURRENCE</td>\n",
       "      <td>Rectum</td>\n",
       "      <td>1</td>\n",
       "      <td>2</td>\n",
       "      <td>Rectum</td>\n",
       "      <td>0.5641</td>\n",
       "      <td>Rectum</td>\n",
       "      <td>0.5641</td>\n",
       "      <td>Rectum</td>\n",
       "      <td>0.5641</td>\n",
       "      <td>Rectum</td>\n",
       "      <td>0.5641</td>\n",
       "      <td>Rectum</td>\n",
       "      <td>0.5641</td>\n",
       "    </tr>\n",
       "    <tr>\n",
       "      <th>438</th>\n",
       "      <td>VETEBRAL METASTASOS</td>\n",
       "      <td>Vertebra</td>\n",
       "      <td>99</td>\n",
       "      <td>2</td>\n",
       "      <td>T4 Vertebra</td>\n",
       "      <td>0.4480</td>\n",
       "      <td>Fourth Ventricle</td>\n",
       "      <td>0.4411</td>\n",
       "      <td>Pons Varolii</td>\n",
       "      <td>0.4274</td>\n",
       "      <td>Pons Varolii</td>\n",
       "      <td>0.4274</td>\n",
       "      <td>Pons Varolii</td>\n",
       "      <td>0.4274</td>\n",
       "    </tr>\n",
       "  </tbody>\n",
       "</table>\n",
       "<p>439 rows × 14 columns</p>\n",
       "</div>"
      ],
      "text/plain": [
       "                    original_value curated_ontology  match_level  stage  \\\n",
       "0              \"BRAIN, CEREBELLUM\"       Cerebellum            1      2   \n",
       "1            \"BRAIN, LEFT FRONTAL\"     Frontal Lobe            1      2   \n",
       "2                \"BRAIN, PARIETAL\"    Parietal Lobe            1      2   \n",
       "3           \"BRAIN, RIGHT FRONTAL\"     Frontal Lobe            1      2   \n",
       "4          \"BRAIN, RIGHT TEMPORAL\"    Temporal Lobe            1      2   \n",
       "..                             ...              ...          ...    ...   \n",
       "434           URETER; RENAL PELVIS     Renal Pelvis            1      2   \n",
       "435  URETER; RENAL PELVIS; BLADDER     Renal Pelvis            1      2   \n",
       "436                     VENTRICLES  Brain Ventricle            1      2   \n",
       "437  VERY DISTAL RECTUM RECURRENCE           Rectum            1      2   \n",
       "438            VETEBRAL METASTASOS         Vertebra           99      2   \n",
       "\n",
       "          top1_match top1_score        top2_match top2_score       top3_match  \\\n",
       "0         Cerebellum     0.9495        Cerebellum     0.9495       Cerebellum   \n",
       "1       Frontal Lobe     0.6980      Frontal Lobe     0.6980     Frontal Lobe   \n",
       "2      Parietal Lobe     0.9470     Parietal Lobe     0.9470    Parietal Lobe   \n",
       "3       Frontal Lobe     0.7084      Frontal Lobe     0.7084     Frontal Lobe   \n",
       "4      Temporal Lobe     0.6802     Temporal Lobe     0.6802    Temporal Lobe   \n",
       "..               ...        ...               ...        ...              ...   \n",
       "434     Renal Pelvis     0.7938      Renal Pelvis     0.7938     Renal Pelvis   \n",
       "435     Renal Pelvis     0.6683      Renal Pelvis     0.6683     Renal Pelvis   \n",
       "436  Brain Ventricle     0.8388   Brain Ventricle     0.8388  Brain Ventricle   \n",
       "437           Rectum     0.5641            Rectum     0.5641           Rectum   \n",
       "438      T4 Vertebra     0.4480  Fourth Ventricle     0.4411     Pons Varolii   \n",
       "\n",
       "    top3_score       top4_match top4_score            top5_match top5_score  \n",
       "0       0.9495       Cerebellum     0.9495            Cerebellum     0.9495  \n",
       "1       0.6980     Frontal Lobe     0.6980          Frontal Lobe     0.6980  \n",
       "2       0.9470    Parietal Lobe     0.9470         Parietal Lobe     0.9470  \n",
       "3       0.7084     Frontal Lobe     0.7084          Frontal Lobe     0.7084  \n",
       "4       0.6802    Temporal Lobe     0.6802         Temporal Lobe     0.6802  \n",
       "..         ...              ...        ...                   ...        ...  \n",
       "434     0.7938     Renal Pelvis     0.7938  Upper Urinary System     0.6381  \n",
       "435     0.6683     Renal Pelvis     0.6683  Upper Urinary System     0.6014  \n",
       "436     0.8388  Brain Ventricle     0.8388       Brain Ventricle     0.8388  \n",
       "437     0.5641           Rectum     0.5641                Rectum     0.5641  \n",
       "438     0.4274     Pons Varolii     0.4274          Pons Varolii     0.4274  \n",
       "\n",
       "[439 rows x 14 columns]"
      ]
     },
     "execution_count": 8,
     "metadata": {},
     "output_type": "execute_result"
    }
   ],
   "source": [
    "st_result"
   ]
  },
  {
   "cell_type": "code",
   "execution_count": null,
   "id": "d29c04ae",
   "metadata": {},
   "outputs": [],
   "source": [
    "st_result.to_csv(\"st_sapbert_result.csv\", index=False)\n",
    "# Actually this model sap-bert used the CLS token, so it's basically 'lm' strategy of SapBERT,\n",
    "# and the real 'st' strategy of SapBERT will be the use of mt-sap-bert in st strategy."
   ]
  },
  {
   "cell_type": "code",
   "execution_count": 8,
   "id": "ea87df3f",
   "metadata": {},
   "outputs": [
    {
     "name": "stdout",
     "output_type": "stream",
     "text": [
      "  Accuracy Level   Accuracy\n",
      "0    Top 1 Match  72.209567\n",
      "1  Top 3 Matches  77.220957\n",
      "2  Top 5 Matches  80.865604\n"
     ]
    }
   ],
   "source": [
    "# Sentences Transformer Strategy w/ SapBERT\n",
    "st_accuracy_df = calc.calc_accuracy(st_result)\n",
    "print(st_accuracy_df)"
   ]
  },
  {
   "cell_type": "code",
   "execution_count": 9,
   "id": "4b00623c",
   "metadata": {},
   "outputs": [
    {
     "name": "stdout",
     "output_type": "stream",
     "text": [
      "14/06//2025 06:11:1749949878 PM - INFO - OntoMapEngine: Initialized OntoMap Engine module\n",
      "14/06//2025 06:11:1749949878 PM - INFO - OntoMapEngine: Initialized OntoMap Engine module\n",
      "14/06//2025 06:11:1749949878 PM - INFO - OntoMapEngine: Running Ontology Mapping\n",
      "14/06//2025 06:11:1749949878 PM - INFO - OntoMapEngine: Running Ontology Mapping\n",
      "14/06//2025 06:11:1749949878 PM - INFO - OntoMapEngine: Separating exact and non-exact matches\n",
      "14/06//2025 06:11:1749949878 PM - INFO - OntoMapEngine: Separating exact and non-exact matches\n",
      "14/06//2025 06:11:1749949878 PM - INFO - OntoMapEngine: Running OntoMap model for non-exact matches\n",
      "14/06//2025 06:11:1749949878 PM - INFO - OntoMapEngine: Running OntoMap model for non-exact matches\n",
      "14/06//2025 06:11:1749949878 PM - INFO - OntoMapST: Initialized OntoMap Sentence Transformer module\n",
      "14/06//2025 06:11:1749949878 PM - INFO - OntoMapST: Initialized OntoMap Sentence Transformer module\n",
      "14/06//2025 06:11:1749949878 PM - INFO - OntoMapST.get_match_results: Creating embeddings for query_list and corpus\n",
      "14/06//2025 06:11:1749949878 PM - INFO - OntoMapST.get_match_results: Creating embeddings for query_list and corpus\n"
     ]
    },
    {
     "name": "stderr",
     "output_type": "stream",
     "text": [
      "Exception in worker\n",
      "Traceback (most recent call last):\n",
      "  File \"/home/lcc/miniconda3/envs/py310/lib/python3.10/concurrent/futures/thread.py\", line 81, in _worker\n",
      "    work_item = work_queue.get(block=True)\n",
      "  File \"src/gevent/queue.py\", line 381, in gevent._gevent_cqueue.SimpleQueue.get\n",
      "  File \"src/gevent/queue.py\", line 397, in gevent._gevent_cqueue.SimpleQueue.get\n",
      "  File \"src/gevent/queue.py\", line 373, in gevent._gevent_cqueue.SimpleQueue._SimpleQueue__get_or_peek\n",
      "  File \"src/gevent/_waiter.py\", line 154, in gevent._gevent_c_waiter.Waiter.get\n",
      "  File \"src/gevent/_greenlet_primitives.py\", line 65, in gevent._gevent_c_greenlet_primitives.SwitchOutGreenletWithLoop.switch\n",
      "  File \"src/gevent/_gevent_c_greenlet_primitives.pxd\", line 35, in gevent._gevent_c_greenlet_primitives._greenlet_switch\n",
      "gevent.exceptions.LoopExit: This operation would block forever\n",
      "\tHub: <Hub '' at 0x7fc1a11cfdd0 epoll pending=0 ref=0 fileno=96 thread_ident=0x7fc1457f6640>\n",
      "\tHandles:\n",
      "[]\n",
      "Exception in worker\n",
      "Traceback (most recent call last):\n",
      "  File \"/home/lcc/miniconda3/envs/py310/lib/python3.10/concurrent/futures/thread.py\", line 81, in _worker\n",
      "    work_item = work_queue.get(block=True)\n",
      "  File \"src/gevent/queue.py\", line 381, in gevent._gevent_cqueue.SimpleQueue.get\n",
      "  File \"src/gevent/queue.py\", line 397, in gevent._gevent_cqueue.SimpleQueue.get\n",
      "  File \"src/gevent/queue.py\", line 373, in gevent._gevent_cqueue.SimpleQueue._SimpleQueue__get_or_peek\n",
      "  File \"src/gevent/_waiter.py\", line 154, in gevent._gevent_c_waiter.Waiter.get\n",
      "  File \"src/gevent/_greenlet_primitives.py\", line 65, in gevent._gevent_c_greenlet_primitives.SwitchOutGreenletWithLoop.switch\n",
      "  File \"src/gevent/_gevent_c_greenlet_primitives.pxd\", line 35, in gevent._gevent_c_greenlet_primitives._greenlet_switch\n",
      "gevent.exceptions.LoopExit: This operation would block forever\n",
      "\tHub: <Hub '' at 0x7fc1a0ab0770 epoll pending=0 ref=0 fileno=94 thread_ident=0x7fc1a7bff640>\n",
      "\tHandles:\n",
      "[]\n"
     ]
    },
    {
     "name": "stdout",
     "output_type": "stream",
     "text": [
      "14/06//2025 06:11:1749949884 PM - INFO - OntoMapST.get_match_results: Calculating cosine similarity matrix\n",
      "14/06//2025 06:11:1749949884 PM - INFO - OntoMapST.get_match_results: Calculating cosine similarity matrix\n",
      "14/06//2025 06:11:1749949884 PM - INFO - OntoMapST.get_match_results: Generating results table\n",
      "14/06//2025 06:11:1749949884 PM - INFO - OntoMapST.get_match_results: Generating results table\n",
      "14/06//2025 06:11:1749949884 PM - INFO - OntoMapST.get_match_results: Results Generated\n",
      "14/06//2025 06:11:1749949884 PM - INFO - OntoMapST.get_match_results: Results Generated\n"
     ]
    }
   ],
   "source": [
    "# st - pubmed-bert\n",
    "other_params = {\"test_or_prod\": \"test\"}\n",
    "onto_engine_large = ome.OntoMapEngine(\n",
    "    method='pubmed-bert',\n",
    "    topk=5,\n",
    "    query=query_list,\n",
    "    corpus=small_corpus_list,\n",
    "    cura_map=cura_map,\n",
    "    yaml_path='./src/models/method_model.yaml',\n",
    "    om_strategy='st',\n",
    "    **other_params)\n",
    "\n",
    "st_pubmetbert_result = onto_engine_large.run()"
   ]
  },
  {
   "cell_type": "code",
   "execution_count": 10,
   "id": "ff38f0c1",
   "metadata": {},
   "outputs": [
    {
     "name": "stdout",
     "output_type": "stream",
     "text": [
      "ST PubMedBERT Top-5 Accuracy: 81.09%\n",
      "  Accuracy Level   Accuracy\n",
      "0    Top 1 Match  74.259681\n",
      "1  Top 3 Matches  78.132118\n",
      "2  Top 5 Matches  81.093394\n"
     ]
    }
   ],
   "source": [
    "# Sentences Transformer Strategy w/ PubMedBERT\n",
    "st_pubmedbert_accuracy_df = calc.calc_accuracy(st_pubmetbert_result)\n",
    "st_pubmedbert_accuracy = st_pubmedbert_accuracy_df[\n",
    "    st_pubmedbert_accuracy_df[\"Accuracy Level\"] ==\n",
    "    \"Top 5 Matches\"][\"Accuracy\"].values[0]\n",
    "print(f\"ST PubMedBERT Top-5 Accuracy: {st_pubmedbert_accuracy:.2f}%\")\n",
    "print(st_pubmedbert_accuracy_df)"
   ]
  },
  {
   "cell_type": "code",
   "execution_count": 11,
   "id": "f2764a49",
   "metadata": {},
   "outputs": [
    {
     "name": "stdout",
     "output_type": "stream",
     "text": [
      "14/06//2025 06:11:1749949917 PM - INFO - OntoMapEngine: Initialized OntoMap Engine module\n",
      "14/06//2025 06:11:1749949917 PM - INFO - OntoMapEngine: Initialized OntoMap Engine module\n",
      "14/06//2025 06:11:1749949917 PM - INFO - OntoMapEngine: Initialized OntoMap Engine module\n",
      "14/06//2025 06:11:1749949917 PM - INFO - OntoMapEngine: Running Ontology Mapping\n",
      "14/06//2025 06:11:1749949917 PM - INFO - OntoMapEngine: Running Ontology Mapping\n",
      "14/06//2025 06:11:1749949917 PM - INFO - OntoMapEngine: Running Ontology Mapping\n",
      "14/06//2025 06:11:1749949917 PM - INFO - OntoMapEngine: Separating exact and non-exact matches\n",
      "14/06//2025 06:11:1749949917 PM - INFO - OntoMapEngine: Separating exact and non-exact matches\n",
      "14/06//2025 06:11:1749949917 PM - INFO - OntoMapEngine: Separating exact and non-exact matches\n",
      "14/06//2025 06:11:1749949917 PM - INFO - OntoMapEngine: Running OntoMap model for non-exact matches\n",
      "14/06//2025 06:11:1749949917 PM - INFO - OntoMapEngine: Running OntoMap model for non-exact matches\n",
      "14/06//2025 06:11:1749949917 PM - INFO - OntoMapEngine: Running OntoMap model for non-exact matches\n",
      "14/06//2025 06:11:1749949917 PM - INFO - OntoMapLM: Initialized OntoMap Language Model module\n",
      "14/06//2025 06:11:1749949917 PM - INFO - OntoMapLM.get_match_results: Creating embeddings for query_list and corpus\n",
      "14/06//2025 06:12:1749949933 PM - INFO - OntoMapLM.get_match_results: Calculating cosine similarity matrix\n",
      "14/06//2025 06:12:1749949933 PM - INFO - OntoMapLM.get_match_results: Generating results table\n",
      "14/06//2025 06:12:1749949934 PM - INFO - OntoMapLM.get_match_results: Results Generated\n"
     ]
    }
   ],
   "source": [
    "# Language Model Strategy w/ PubMedBERT\n",
    "other_params = {\"test_or_prod\": \"test\"}\n",
    "onto_engine_large = ome.OntoMapEngine(\n",
    "    method='pubmed-bert',\n",
    "    topk=5,\n",
    "    query=query_list,\n",
    "    corpus=small_corpus_list,\n",
    "    cura_map=cura_map,\n",
    "    yaml_path='./src/models/method_model.yaml',\n",
    "    om_strategy='lm',\n",
    "    **other_params)\n",
    "\n",
    "lm_pubmedbert_result = onto_engine_large.run()"
   ]
  },
  {
   "cell_type": "code",
   "execution_count": 12,
   "id": "6284a8d3",
   "metadata": {},
   "outputs": [
    {
     "name": "stdout",
     "output_type": "stream",
     "text": [
      "LM PubMedBERT Top-5 Accuracy: 80.64%\n",
      "  Accuracy Level   Accuracy\n",
      "0    Top 1 Match  72.892938\n",
      "1  Top 3 Matches  77.676538\n",
      "2  Top 5 Matches  80.637813\n"
     ]
    }
   ],
   "source": [
    "# Language Model Strategy w/ PubMedBERT\n",
    "lm_pubmedbert_accuracy_df = calc.calc_accuracy(lm_pubmedbert_result)\n",
    "lm_pubmedbert_accuracy = lm_pubmedbert_accuracy_df[\n",
    "    lm_pubmedbert_accuracy_df[\"Accuracy Level\"] ==\n",
    "    \"Top 5 Matches\"][\"Accuracy\"].values[0]\n",
    "print(f\"LM PubMedBERT Top-5 Accuracy: {lm_pubmedbert_accuracy:.2f}%\")\n",
    "print(lm_pubmedbert_accuracy_df)"
   ]
  },
  {
   "cell_type": "code",
   "execution_count": 14,
   "id": "550487bf",
   "metadata": {},
   "outputs": [
    {
     "name": "stdout",
     "output_type": "stream",
     "text": [
      "13/06//2025 11:29:1749839365 AM - INFO - OntoMapEngine: Initialized OntoMap Engine module\n",
      "13/06//2025 11:29:1749839365 AM - INFO - OntoMapEngine: Initialized OntoMap Engine module\n",
      "13/06//2025 11:29:1749839365 AM - INFO - OntoMapEngine: Initialized OntoMap Engine module\n",
      "13/06//2025 11:29:1749839365 AM - INFO - OntoMapEngine: Running Ontology Mapping\n",
      "13/06//2025 11:29:1749839365 AM - INFO - OntoMapEngine: Running Ontology Mapping\n",
      "13/06//2025 11:29:1749839365 AM - INFO - OntoMapEngine: Running Ontology Mapping\n",
      "13/06//2025 11:29:1749839365 AM - INFO - OntoMapEngine: Separating exact and non-exact matches\n",
      "13/06//2025 11:29:1749839365 AM - INFO - OntoMapEngine: Separating exact and non-exact matches\n",
      "13/06//2025 11:29:1749839365 AM - INFO - OntoMapEngine: Separating exact and non-exact matches\n",
      "13/06//2025 11:29:1749839365 AM - INFO - OntoMapEngine: Running OntoMap model for non-exact matches\n",
      "13/06//2025 11:29:1749839365 AM - INFO - OntoMapEngine: Running OntoMap model for non-exact matches\n",
      "13/06//2025 11:29:1749839365 AM - INFO - OntoMapEngine: Running OntoMap model for non-exact matches\n",
      "13/06//2025 11:29:1749839365 AM - INFO - OntoMapRAG: Initialized OntoMapRAG module\n",
      "13/06//2025 11:29:1749839365 AM - INFO - OntoMapRAG: Generating results table\n"
     ]
    },
    {
     "name": "stderr",
     "output_type": "stream",
     "text": [
      "Processing queries:   0%|          | 0/439 [00:00<?, ?it/s]No sentence-transformers model found with name cambridgeltl/SapBERT-from-PubMedBERT-fulltext-mean-token. Creating a new one with mean pooling.\n",
      "Processing queries: 100%|██████████| 439/439 [00:07<00:00, 58.18it/s]"
     ]
    },
    {
     "name": "stdout",
     "output_type": "stream",
     "text": [
      "13/06//2025 11:29:1749839373 AM - INFO - OntoMapRAG: Results Generated\n"
     ]
    },
    {
     "name": "stderr",
     "output_type": "stream",
     "text": [
      "\n"
     ]
    }
   ],
   "source": [
    "# RAG Strategy w/ SapBERT\n",
    "rag_engine = ome.OntoMapEngine(method='mt-sap-bert',\n",
    "                               topk=5,\n",
    "                               query=query_list,\n",
    "                               corpus=small_corpus_list,\n",
    "                               cura_map=cura_map,\n",
    "                               yaml_path='./src/models/method_model.yaml',\n",
    "                               om_strategy='rag',\n",
    "                               test_or_prod='test')\n",
    "rag_result = rag_engine.run()"
   ]
  },
  {
   "cell_type": "code",
   "execution_count": null,
   "id": "73bfde4c",
   "metadata": {},
   "outputs": [],
   "source": [
    "rag_result.to_csv(\"rag_sapbert_result_partially_cleaned_contexts.csv\",\n",
    "                  index=False)"
   ]
  },
  {
   "cell_type": "code",
   "execution_count": 16,
   "id": "749da2c8",
   "metadata": {},
   "outputs": [
    {
     "name": "stdout",
     "output_type": "stream",
     "text": [
      "RAG SapBERT Top-5 Accuracy: 91.34%\n",
      "  Accuracy Level   Accuracy\n",
      "0    Top 1 Match  64.464692\n",
      "1  Top 3 Matches  87.471526\n",
      "2  Top 5 Matches  91.343964\n"
     ]
    }
   ],
   "source": [
    "# RAG Strategy w/ SapBERT\n",
    "rag_accuracy_df = calc.calc_accuracy(rag_result)\n",
    "rag_accuracy = rag_accuracy_df[rag_accuracy_df[\"Accuracy Level\"] ==\n",
    "                               \"Top 5 Matches\"][\"Accuracy\"].values[0]\n",
    "print(f\"RAG SapBERT Top-5 Accuracy: {rag_accuracy:.2f}%\")\n",
    "print(rag_accuracy_df)"
   ]
  },
  {
   "cell_type": "code",
   "execution_count": 21,
   "id": "2bcf14e1",
   "metadata": {},
   "outputs": [
    {
     "name": "stdout",
     "output_type": "stream",
     "text": [
      "13/06//2025 12:16:1749842188 PM - INFO - OntoMapEngine: Initialized OntoMap Engine module\n",
      "13/06//2025 12:16:1749842188 PM - INFO - OntoMapEngine: Initialized OntoMap Engine module\n",
      "13/06//2025 12:16:1749842188 PM - INFO - OntoMapEngine: Initialized OntoMap Engine module\n",
      "13/06//2025 12:16:1749842188 PM - INFO - OntoMapEngine: Initialized OntoMap Engine module\n",
      "13/06//2025 12:16:1749842188 PM - INFO - OntoMapEngine: Initialized OntoMap Engine module\n",
      "13/06//2025 12:16:1749842188 PM - INFO - OntoMapEngine: Running Ontology Mapping\n",
      "13/06//2025 12:16:1749842188 PM - INFO - OntoMapEngine: Running Ontology Mapping\n",
      "13/06//2025 12:16:1749842188 PM - INFO - OntoMapEngine: Running Ontology Mapping\n",
      "13/06//2025 12:16:1749842188 PM - INFO - OntoMapEngine: Running Ontology Mapping\n",
      "13/06//2025 12:16:1749842188 PM - INFO - OntoMapEngine: Running Ontology Mapping\n",
      "13/06//2025 12:16:1749842188 PM - INFO - OntoMapEngine: Separating exact and non-exact matches\n",
      "13/06//2025 12:16:1749842188 PM - INFO - OntoMapEngine: Separating exact and non-exact matches\n",
      "13/06//2025 12:16:1749842188 PM - INFO - OntoMapEngine: Separating exact and non-exact matches\n",
      "13/06//2025 12:16:1749842188 PM - INFO - OntoMapEngine: Separating exact and non-exact matches\n",
      "13/06//2025 12:16:1749842188 PM - INFO - OntoMapEngine: Separating exact and non-exact matches\n",
      "13/06//2025 12:16:1749842188 PM - INFO - OntoMapEngine: Running OntoMap model for non-exact matches\n",
      "13/06//2025 12:16:1749842188 PM - INFO - OntoMapEngine: Running OntoMap model for non-exact matches\n",
      "13/06//2025 12:16:1749842188 PM - INFO - OntoMapEngine: Running OntoMap model for non-exact matches\n",
      "13/06//2025 12:16:1749842188 PM - INFO - OntoMapEngine: Running OntoMap model for non-exact matches\n",
      "13/06//2025 12:16:1749842188 PM - INFO - OntoMapEngine: Running OntoMap model for non-exact matches\n",
      "13/06//2025 12:16:1749842188 PM - INFO - OntoMapRAG: Initialized OntoMapRAG module\n",
      "13/06//2025 12:16:1749842188 PM - INFO - OntoMapRAG: Initialized OntoMapRAG module\n",
      "13/06//2025 12:16:1749842188 PM - INFO - OntoMapRAG: Initialized OntoMapRAG module\n",
      "13/06//2025 12:16:1749842188 PM - INFO - OntoMapRAG: Generating results table\n",
      "13/06//2025 12:16:1749842188 PM - INFO - OntoMapRAG: Generating results table\n",
      "13/06//2025 12:16:1749842188 PM - INFO - OntoMapRAG: Generating results table\n"
     ]
    },
    {
     "name": "stderr",
     "output_type": "stream",
     "text": [
      "Processing queries: 100%|██████████| 439/439 [00:05<00:00, 77.17it/s]"
     ]
    },
    {
     "name": "stdout",
     "output_type": "stream",
     "text": [
      "13/06//2025 12:16:1749842193 PM - INFO - OntoMapRAG: Results Generated\n",
      "13/06//2025 12:16:1749842193 PM - INFO - OntoMapRAG: Results Generated\n",
      "13/06//2025 12:16:1749842193 PM - INFO - OntoMapRAG: Results Generated\n"
     ]
    },
    {
     "name": "stderr",
     "output_type": "stream",
     "text": [
      "\n"
     ]
    }
   ],
   "source": [
    "# RAG Strategy w/ SapBERT not cleaned up\n",
    "rag_engine = ome.OntoMapEngine(method='mt-sap-bert',\n",
    "                               topk=5,\n",
    "                               query=query_list,\n",
    "                               corpus=small_corpus_list,\n",
    "                               cura_map=cura_map,\n",
    "                               yaml_path='./src/models/method_model.yaml',\n",
    "                               om_strategy='rag',\n",
    "                               test_or_prod='test')\n",
    "rag_result = rag_engine.run()"
   ]
  },
  {
   "cell_type": "code",
   "execution_count": 23,
   "id": "835395ca",
   "metadata": {},
   "outputs": [],
   "source": [
    "rag_result.to_csv(\"rag_sapbert_result_removed_duplicates.csv\", index=False)"
   ]
  },
  {
   "cell_type": "code",
   "execution_count": 22,
   "id": "b12a91e0",
   "metadata": {},
   "outputs": [
    {
     "name": "stdout",
     "output_type": "stream",
     "text": [
      "RAG SapBERT Top-5 Accuracy: 90.66%\n",
      "  Accuracy Level   Accuracy\n",
      "0    Top 1 Match  67.198178\n",
      "1  Top 3 Matches  85.876993\n",
      "2  Top 5 Matches  90.660592\n"
     ]
    }
   ],
   "source": [
    "# RAG Strategy w/ SapBERT not cleaned up\n",
    "rag_accuracy_df = calc.calc_accuracy(rag_result)\n",
    "rag_accuracy = rag_accuracy_df[rag_accuracy_df[\"Accuracy Level\"] ==\n",
    "                               \"Top 5 Matches\"][\"Accuracy\"].values[0]\n",
    "print(f\"RAG SapBERT Top-5 Accuracy: {rag_accuracy:.2f}%\")\n",
    "print(rag_accuracy_df)"
   ]
  },
  {
   "cell_type": "code",
   "execution_count": 13,
   "id": "8c954c22",
   "metadata": {},
   "outputs": [
    {
     "name": "stdout",
     "output_type": "stream",
     "text": [
      "14/06//2025 06:12:1749949974 PM - INFO - OntoMapEngine: Initialized OntoMap Engine module\n",
      "14/06//2025 06:12:1749949974 PM - INFO - OntoMapEngine: Initialized OntoMap Engine module\n",
      "14/06//2025 06:12:1749949974 PM - INFO - OntoMapEngine: Initialized OntoMap Engine module\n",
      "14/06//2025 06:12:1749949974 PM - INFO - OntoMapEngine: Initialized OntoMap Engine module\n",
      "14/06//2025 06:12:1749949974 PM - INFO - OntoMapEngine: Running Ontology Mapping\n",
      "14/06//2025 06:12:1749949974 PM - INFO - OntoMapEngine: Running Ontology Mapping\n",
      "14/06//2025 06:12:1749949974 PM - INFO - OntoMapEngine: Running Ontology Mapping\n",
      "14/06//2025 06:12:1749949974 PM - INFO - OntoMapEngine: Running Ontology Mapping\n",
      "14/06//2025 06:12:1749949974 PM - INFO - OntoMapEngine: Separating exact and non-exact matches\n",
      "14/06//2025 06:12:1749949974 PM - INFO - OntoMapEngine: Separating exact and non-exact matches\n",
      "14/06//2025 06:12:1749949974 PM - INFO - OntoMapEngine: Separating exact and non-exact matches\n",
      "14/06//2025 06:12:1749949974 PM - INFO - OntoMapEngine: Separating exact and non-exact matches\n",
      "14/06//2025 06:12:1749949974 PM - INFO - OntoMapEngine: Running OntoMap model for non-exact matches\n",
      "14/06//2025 06:12:1749949974 PM - INFO - OntoMapEngine: Running OntoMap model for non-exact matches\n",
      "14/06//2025 06:12:1749949974 PM - INFO - OntoMapEngine: Running OntoMap model for non-exact matches\n",
      "14/06//2025 06:12:1749949974 PM - INFO - OntoMapEngine: Running OntoMap model for non-exact matches\n",
      "14/06//2025 06:12:1749949974 PM - INFO - OntoMapST: Initialized OntoMap Sentence Transformer module\n",
      "14/06//2025 06:12:1749949974 PM - INFO - OntoMapST: Initialized OntoMap Sentence Transformer module\n",
      "14/06//2025 06:12:1749949974 PM - INFO - OntoMapST: Initialized OntoMap Sentence Transformer module\n",
      "14/06//2025 06:12:1749949974 PM - INFO - OntoMapST.get_match_results: Creating embeddings for query_list and corpus\n",
      "14/06//2025 06:12:1749949974 PM - INFO - OntoMapST.get_match_results: Creating embeddings for query_list and corpus\n",
      "14/06//2025 06:12:1749949974 PM - INFO - OntoMapST.get_match_results: Creating embeddings for query_list and corpus\n"
     ]
    },
    {
     "name": "stderr",
     "output_type": "stream",
     "text": [
      "No sentence-transformers model found with name cambridgeltl/SapBERT-from-PubMedBERT-fulltext-mean-token. Creating a new one with mean pooling.\n",
      "No sentence-transformers model found with name cambridgeltl/SapBERT-from-PubMedBERT-fulltext-mean-token. Creating a new one with mean pooling.\n"
     ]
    },
    {
     "name": "stdout",
     "output_type": "stream",
     "text": [
      "14/06//2025 06:12:1749949978 PM - INFO - OntoMapST.get_match_results: Calculating cosine similarity matrix\n",
      "14/06//2025 06:12:1749949978 PM - INFO - OntoMapST.get_match_results: Calculating cosine similarity matrix\n",
      "14/06//2025 06:12:1749949978 PM - INFO - OntoMapST.get_match_results: Calculating cosine similarity matrix\n",
      "14/06//2025 06:12:1749949978 PM - INFO - OntoMapST.get_match_results: Generating results table\n",
      "14/06//2025 06:12:1749949978 PM - INFO - OntoMapST.get_match_results: Generating results table\n",
      "14/06//2025 06:12:1749949978 PM - INFO - OntoMapST.get_match_results: Generating results table\n",
      "14/06//2025 06:12:1749949979 PM - INFO - OntoMapST.get_match_results: Results Generated\n",
      "14/06//2025 06:12:1749949979 PM - INFO - OntoMapST.get_match_results: Results Generated\n",
      "14/06//2025 06:12:1749949979 PM - INFO - OntoMapST.get_match_results: Results Generated\n"
     ]
    }
   ],
   "source": [
    "# Real ST Strategy w/ SapBERT\n",
    "other_params = {\"test_or_prod\": \"test\"}\n",
    "onto_engine_large = ome.OntoMapEngine(\n",
    "    method='mt-sap-bert',\n",
    "    topk=5,\n",
    "    query=query_list,\n",
    "    corpus=small_corpus_list,\n",
    "    cura_map=cura_map,\n",
    "    yaml_path='./src/models/method_model.yaml',\n",
    "    om_strategy='st',\n",
    "    **other_params)\n",
    "real_st_result = onto_engine_large.run()"
   ]
  },
  {
   "cell_type": "code",
   "execution_count": 12,
   "id": "952f497d",
   "metadata": {},
   "outputs": [],
   "source": [
    "real_st_result.to_csv(\"st_sapbert_result.csv\", index=False)"
   ]
  },
  {
   "cell_type": "code",
   "execution_count": 14,
   "id": "c6c6f43d",
   "metadata": {},
   "outputs": [
    {
     "name": "stdout",
     "output_type": "stream",
     "text": [
      "Real ST SapBERT Top-5 Accuracy: 81.78%\n",
      "  Accuracy Level   Accuracy\n",
      "0    Top 1 Match  72.437358\n",
      "1  Top 3 Matches  77.904328\n",
      "2  Top 5 Matches  81.776765\n"
     ]
    }
   ],
   "source": [
    "real_st_accuracy_df = calc.calc_accuracy(real_st_result)\n",
    "real_st_accuracy = real_st_accuracy_df[real_st_accuracy_df[\"Accuracy Level\"] ==\n",
    "                                       \"Top 5 Matches\"][\"Accuracy\"].values[0]\n",
    "print(f\"Real ST SapBERT Top-5 Accuracy: {real_st_accuracy:.2f}%\")\n",
    "print(real_st_accuracy_df)"
   ]
  },
  {
   "cell_type": "code",
   "execution_count": 51,
   "id": "a1e99310",
   "metadata": {},
   "outputs": [
    {
     "name": "stdout",
     "output_type": "stream",
     "text": [
      "11/06//2025 12:35:1749627351 AM - INFO - OntoMapEngine: Initialized OntoMap Engine module\n",
      "11/06//2025 12:35:1749627351 AM - INFO - OntoMapEngine: Initialized OntoMap Engine module\n",
      "11/06//2025 12:35:1749627351 AM - INFO - OntoMapEngine: Initialized OntoMap Engine module\n",
      "11/06//2025 12:35:1749627351 AM - INFO - OntoMapEngine: Initialized OntoMap Engine module\n",
      "11/06//2025 12:35:1749627351 AM - INFO - OntoMapEngine: Initialized OntoMap Engine module\n",
      "11/06//2025 12:35:1749627351 AM - INFO - OntoMapEngine: Initialized OntoMap Engine module\n",
      "11/06//2025 12:35:1749627351 AM - INFO - OntoMapEngine: Initialized OntoMap Engine module\n",
      "11/06//2025 12:35:1749627351 AM - INFO - OntoMapEngine: Initialized OntoMap Engine module\n",
      "11/06//2025 12:35:1749627351 AM - INFO - OntoMapEngine: Initialized OntoMap Engine module\n",
      "11/06//2025 12:35:1749627351 AM - INFO - OntoMapEngine: Initialized OntoMap Engine module\n",
      "11/06//2025 12:35:1749627351 AM - INFO - OntoMapEngine: Initialized OntoMap Engine module\n",
      "11/06//2025 12:35:1749627351 AM - INFO - OntoMapEngine: Running Ontology Mapping\n",
      "11/06//2025 12:35:1749627351 AM - INFO - OntoMapEngine: Running Ontology Mapping\n",
      "11/06//2025 12:35:1749627351 AM - INFO - OntoMapEngine: Running Ontology Mapping\n",
      "11/06//2025 12:35:1749627351 AM - INFO - OntoMapEngine: Running Ontology Mapping\n",
      "11/06//2025 12:35:1749627351 AM - INFO - OntoMapEngine: Running Ontology Mapping\n",
      "11/06//2025 12:35:1749627351 AM - INFO - OntoMapEngine: Running Ontology Mapping\n",
      "11/06//2025 12:35:1749627351 AM - INFO - OntoMapEngine: Running Ontology Mapping\n",
      "11/06//2025 12:35:1749627351 AM - INFO - OntoMapEngine: Running Ontology Mapping\n",
      "11/06//2025 12:35:1749627351 AM - INFO - OntoMapEngine: Running Ontology Mapping\n",
      "11/06//2025 12:35:1749627351 AM - INFO - OntoMapEngine: Running Ontology Mapping\n",
      "11/06//2025 12:35:1749627351 AM - INFO - OntoMapEngine: Running Ontology Mapping\n",
      "11/06//2025 12:35:1749627351 AM - INFO - OntoMapEngine: Separating exact and non-exact matches\n",
      "11/06//2025 12:35:1749627351 AM - INFO - OntoMapEngine: Separating exact and non-exact matches\n",
      "11/06//2025 12:35:1749627351 AM - INFO - OntoMapEngine: Separating exact and non-exact matches\n",
      "11/06//2025 12:35:1749627351 AM - INFO - OntoMapEngine: Separating exact and non-exact matches\n",
      "11/06//2025 12:35:1749627351 AM - INFO - OntoMapEngine: Separating exact and non-exact matches\n",
      "11/06//2025 12:35:1749627351 AM - INFO - OntoMapEngine: Separating exact and non-exact matches\n",
      "11/06//2025 12:35:1749627351 AM - INFO - OntoMapEngine: Separating exact and non-exact matches\n",
      "11/06//2025 12:35:1749627351 AM - INFO - OntoMapEngine: Separating exact and non-exact matches\n",
      "11/06//2025 12:35:1749627351 AM - INFO - OntoMapEngine: Separating exact and non-exact matches\n",
      "11/06//2025 12:35:1749627351 AM - INFO - OntoMapEngine: Separating exact and non-exact matches\n",
      "11/06//2025 12:35:1749627351 AM - INFO - OntoMapEngine: Separating exact and non-exact matches\n",
      "11/06//2025 12:35:1749627351 AM - INFO - OntoMapEngine: Running OntoMap model for non-exact matches\n",
      "11/06//2025 12:35:1749627351 AM - INFO - OntoMapEngine: Running OntoMap model for non-exact matches\n",
      "11/06//2025 12:35:1749627351 AM - INFO - OntoMapEngine: Running OntoMap model for non-exact matches\n",
      "11/06//2025 12:35:1749627351 AM - INFO - OntoMapEngine: Running OntoMap model for non-exact matches\n",
      "11/06//2025 12:35:1749627351 AM - INFO - OntoMapEngine: Running OntoMap model for non-exact matches\n",
      "11/06//2025 12:35:1749627351 AM - INFO - OntoMapEngine: Running OntoMap model for non-exact matches\n",
      "11/06//2025 12:35:1749627351 AM - INFO - OntoMapEngine: Running OntoMap model for non-exact matches\n",
      "11/06//2025 12:35:1749627351 AM - INFO - OntoMapEngine: Running OntoMap model for non-exact matches\n",
      "11/06//2025 12:35:1749627351 AM - INFO - OntoMapEngine: Running OntoMap model for non-exact matches\n",
      "11/06//2025 12:35:1749627351 AM - INFO - OntoMapEngine: Running OntoMap model for non-exact matches\n",
      "11/06//2025 12:35:1749627351 AM - INFO - OntoMapEngine: Running OntoMap model for non-exact matches\n",
      "11/06//2025 12:35:1749627351 AM - INFO - OntoMapRAG: Initialized OntoMapRAG module\n",
      "11/06//2025 12:35:1749627351 AM - INFO - OntoMapRAG: Initialized OntoMapRAG module\n",
      "11/06//2025 12:35:1749627351 AM - INFO - OntoMapRAG: Initialized OntoMapRAG module\n",
      "11/06//2025 12:35:1749627351 AM - INFO - OntoMapRAG: Initialized OntoMapRAG module\n",
      "11/06//2025 12:35:1749627351 AM - INFO - OntoMapRAG: Initialized OntoMapRAG module\n",
      "11/06//2025 12:35:1749627351 AM - INFO - OntoMapRAG: Initialized OntoMapRAG module\n",
      "11/06//2025 12:35:1749627351 AM - INFO - OntoMapRAG: Initialized OntoMapRAG module\n",
      "11/06//2025 12:35:1749627351 AM - INFO - OntoMapRAG: Initialized OntoMapRAG module\n",
      "11/06//2025 12:35:1749627351 AM - INFO - OntoMapRAG: Generating results table\n",
      "11/06//2025 12:35:1749627351 AM - INFO - OntoMapRAG: Generating results table\n",
      "11/06//2025 12:35:1749627351 AM - INFO - OntoMapRAG: Generating results table\n",
      "11/06//2025 12:35:1749627351 AM - INFO - OntoMapRAG: Generating results table\n",
      "11/06//2025 12:35:1749627351 AM - INFO - OntoMapRAG: Generating results table\n",
      "11/06//2025 12:35:1749627351 AM - INFO - OntoMapRAG: Generating results table\n",
      "11/06//2025 12:35:1749627351 AM - INFO - OntoMapRAG: Generating results table\n",
      "11/06//2025 12:35:1749627351 AM - INFO - OntoMapRAG: Generating results table\n"
     ]
    },
    {
     "name": "stderr",
     "output_type": "stream",
     "text": [
      "Processing queries: 100%|██████████| 439/439 [00:05<00:00, 73.64it/s]"
     ]
    },
    {
     "name": "stdout",
     "output_type": "stream",
     "text": [
      "11/06//2025 12:35:1749627357 AM - INFO - OntoMapRAG: Results Generated\n",
      "11/06//2025 12:35:1749627357 AM - INFO - OntoMapRAG: Results Generated\n",
      "11/06//2025 12:35:1749627357 AM - INFO - OntoMapRAG: Results Generated\n",
      "11/06//2025 12:35:1749627357 AM - INFO - OntoMapRAG: Results Generated\n",
      "11/06//2025 12:35:1749627357 AM - INFO - OntoMapRAG: Results Generated\n",
      "11/06//2025 12:35:1749627357 AM - INFO - OntoMapRAG: Results Generated\n",
      "11/06//2025 12:35:1749627357 AM - INFO - OntoMapRAG: Results Generated\n",
      "11/06//2025 12:35:1749627357 AM - INFO - OntoMapRAG: Results Generated\n"
     ]
    },
    {
     "name": "stderr",
     "output_type": "stream",
     "text": [
      "\n"
     ]
    }
   ],
   "source": [
    "# RAG Strategy w/ msr-biomed-bert\n",
    "rag_engine = ome.OntoMapEngine(method='msr-biomed-bert',\n",
    "                               topk=5,\n",
    "                               query=query_list,\n",
    "                               corpus=small_corpus_list,\n",
    "                               cura_map=cura_map,\n",
    "                               yaml_path='./src/models/method_model.yaml',\n",
    "                               om_strategy='rag',\n",
    "                               test_or_prod='test')\n",
    "rag_msr_result = rag_engine.run()"
   ]
  },
  {
   "cell_type": "code",
   "execution_count": null,
   "id": "0a49e40f",
   "metadata": {},
   "outputs": [
    {
     "name": "stdout",
     "output_type": "stream",
     "text": [
      "RAG PubMedBERT Top-5 Accuracy: 34.40%\n",
      "  Accuracy Level   Accuracy\n",
      "0    Top 1 Match   9.567198\n",
      "1  Top 3 Matches  24.145786\n",
      "2  Top 5 Matches  34.396355\n"
     ]
    }
   ],
   "source": [
    "# RAG Strategy w/ msr-biomed-bert\n",
    "rag_msr_accuracy_df = calc.calc_accuracy(rag_msr_result)\n",
    "rag_msr_accuracy = rag_msr_accuracy_df[rag_msr_accuracy_df[\"Accuracy Level\"] ==\n",
    "                                       \"Top 5 Matches\"][\"Accuracy\"].values[0]\n",
    "print(f\"RAG PubMedBERT Top-5 Accuracy: {rag_msr_accuracy:.2f}%\")\n",
    "print(rag_msr_accuracy_df)"
   ]
  },
  {
   "cell_type": "code",
   "execution_count": 7,
   "id": "e31e4a30",
   "metadata": {},
   "outputs": [
    {
     "name": "stdout",
     "output_type": "stream",
     "text": [
      "11/06//2025 01:02:1749628924 AM - INFO - OntoMapEngine: Initialized OntoMap Engine module\n",
      "11/06//2025 01:02:1749628924 AM - INFO - OntoMapEngine: Running Ontology Mapping\n",
      "11/06//2025 01:02:1749628924 AM - INFO - OntoMapEngine: Separating exact and non-exact matches\n",
      "11/06//2025 01:02:1749628924 AM - INFO - OntoMapEngine: Running OntoMap model for non-exact matches\n",
      "11/06//2025 01:02:1749628924 AM - INFO - OntoMapRAG: Initialized OntoMapRAG module\n",
      "11/06//2025 01:02:1749628924 AM - INFO - OntoMapRAG: Generating results table\n"
     ]
    },
    {
     "name": "stderr",
     "output_type": "stream",
     "text": [
      "Processing queries:   0%|          | 0/439 [00:00<?, ?it/s]No sentence-transformers model found with name michiyasunaga/BioLinkBERT-large. Creating a new one with mean pooling.\n",
      "Processing queries: 100%|██████████| 439/439 [00:26<00:00, 16.72it/s]"
     ]
    },
    {
     "name": "stdout",
     "output_type": "stream",
     "text": [
      "11/06//2025 01:02:1749628951 AM - INFO - OntoMapRAG: Results Generated\n"
     ]
    },
    {
     "name": "stderr",
     "output_type": "stream",
     "text": [
      "\n"
     ]
    }
   ],
   "source": [
    "# RAG Strategy w/ biolink-large\n",
    "rag_engine = ome.OntoMapEngine(method='biolink-large',\n",
    "                               topk=5,\n",
    "                               query=query_list,\n",
    "                               corpus=small_corpus_list,\n",
    "                               cura_map=cura_map,\n",
    "                               yaml_path='./src/models/method_model.yaml',\n",
    "                               om_strategy='rag',\n",
    "                               test_or_prod='test')\n",
    "rag_biolink_result = rag_engine.run()"
   ]
  },
  {
   "cell_type": "code",
   "execution_count": 8,
   "id": "7db1e729",
   "metadata": {},
   "outputs": [
    {
     "name": "stdout",
     "output_type": "stream",
     "text": [
      "RAG BioLinkBERT Top-5 Accuracy: 26.65%\n",
      "  Accuracy Level   Accuracy\n",
      "0    Top 1 Match   9.567198\n",
      "1  Top 3 Matches  18.906606\n",
      "2  Top 5 Matches  26.651481\n"
     ]
    }
   ],
   "source": [
    "# RAG Strategy w/ biolink-large\n",
    "rag_biolink_accuracy_df = calc.calc_accuracy(rag_biolink_result)\n",
    "rag_biolink_accuracy = rag_biolink_accuracy_df[\n",
    "    rag_biolink_accuracy_df[\"Accuracy Level\"] ==\n",
    "    \"Top 5 Matches\"][\"Accuracy\"].values[0]\n",
    "print(f\"RAG BioLinkBERT Top-5 Accuracy: {rag_biolink_accuracy:.2f}%\")\n",
    "print(rag_biolink_accuracy_df)"
   ]
  },
  {
   "cell_type": "code",
   "execution_count": 17,
   "id": "fdbd92ac",
   "metadata": {},
   "outputs": [
    {
     "name": "stdout",
     "output_type": "stream",
     "text": [
      "13/06//2025 11:33:1749839608 AM - INFO - OntoMapEngine: Initialized OntoMap Engine module\n",
      "13/06//2025 11:33:1749839608 AM - INFO - OntoMapEngine: Initialized OntoMap Engine module\n",
      "13/06//2025 11:33:1749839608 AM - INFO - OntoMapEngine: Initialized OntoMap Engine module\n",
      "13/06//2025 11:33:1749839608 AM - INFO - OntoMapEngine: Initialized OntoMap Engine module\n",
      "13/06//2025 11:33:1749839608 AM - INFO - OntoMapEngine: Running Ontology Mapping\n",
      "13/06//2025 11:33:1749839608 AM - INFO - OntoMapEngine: Running Ontology Mapping\n",
      "13/06//2025 11:33:1749839608 AM - INFO - OntoMapEngine: Running Ontology Mapping\n",
      "13/06//2025 11:33:1749839608 AM - INFO - OntoMapEngine: Running Ontology Mapping\n",
      "13/06//2025 11:33:1749839608 AM - INFO - OntoMapEngine: Separating exact and non-exact matches\n",
      "13/06//2025 11:33:1749839608 AM - INFO - OntoMapEngine: Separating exact and non-exact matches\n",
      "13/06//2025 11:33:1749839608 AM - INFO - OntoMapEngine: Separating exact and non-exact matches\n",
      "13/06//2025 11:33:1749839608 AM - INFO - OntoMapEngine: Separating exact and non-exact matches\n",
      "13/06//2025 11:33:1749839608 AM - INFO - OntoMapEngine: Running OntoMap model for non-exact matches\n",
      "13/06//2025 11:33:1749839608 AM - INFO - OntoMapEngine: Running OntoMap model for non-exact matches\n",
      "13/06//2025 11:33:1749839608 AM - INFO - OntoMapEngine: Running OntoMap model for non-exact matches\n",
      "13/06//2025 11:33:1749839608 AM - INFO - OntoMapEngine: Running OntoMap model for non-exact matches\n",
      "13/06//2025 11:33:1749839608 AM - INFO - OntoMapRAG: Initialized OntoMapRAG module\n",
      "13/06//2025 11:33:1749839608 AM - INFO - OntoMapRAG: Initialized OntoMapRAG module\n",
      "13/06//2025 11:33:1749839608 AM - INFO - OntoMapRAG: Generating results table\n",
      "13/06//2025 11:33:1749839608 AM - INFO - OntoMapRAG: Generating results table\n"
     ]
    },
    {
     "name": "stderr",
     "output_type": "stream",
     "text": [
      "Processing queries:   0%|          | 0/439 [00:00<?, ?it/s]Exception in worker\n",
      "Traceback (most recent call last):\n",
      "  File \"/home/lcc/miniconda3/envs/py310/lib/python3.10/concurrent/futures/thread.py\", line 81, in _worker\n",
      "    work_item = work_queue.get(block=True)\n",
      "  File \"src/gevent/queue.py\", line 381, in gevent._gevent_cqueue.SimpleQueue.get\n",
      "  File \"src/gevent/queue.py\", line 397, in gevent._gevent_cqueue.SimpleQueue.get\n",
      "  File \"src/gevent/queue.py\", line 373, in gevent._gevent_cqueue.SimpleQueue._SimpleQueue__get_or_peek\n",
      "  File \"src/gevent/_waiter.py\", line 154, in gevent._gevent_c_waiter.Waiter.get\n",
      "  File \"src/gevent/_greenlet_primitives.py\", line 65, in gevent._gevent_c_greenlet_primitives.SwitchOutGreenletWithLoop.switch\n",
      "  File \"src/gevent/_gevent_c_greenlet_primitives.pxd\", line 35, in gevent._gevent_c_greenlet_primitives._greenlet_switch\n",
      "gevent.exceptions.LoopExit: This operation would block forever\n",
      "\tHub: <Hub '' at 0x7f5db426ec00 epoll pending=0 ref=0 fileno=101 thread_ident=0x7f5d33fff640>\n",
      "\tHandles:\n",
      "[]\n",
      "Processing queries: 100%|██████████| 439/439 [00:09<00:00, 44.45it/s]"
     ]
    },
    {
     "name": "stdout",
     "output_type": "stream",
     "text": [
      "13/06//2025 11:33:1749839618 AM - INFO - OntoMapRAG: Results Generated\n",
      "13/06//2025 11:33:1749839618 AM - INFO - OntoMapRAG: Results Generated\n"
     ]
    },
    {
     "name": "stderr",
     "output_type": "stream",
     "text": [
      "\n"
     ]
    }
   ],
   "source": [
    "# RAG Strategy w/ pubmed-bert\n",
    "rag_engine = ome.OntoMapEngine(method='pubmed-bert',\n",
    "                               topk=5,\n",
    "                               query=query_list,\n",
    "                               corpus=small_corpus_list,\n",
    "                               cura_map=cura_map,\n",
    "                               yaml_path='./src/models/method_model.yaml',\n",
    "                               om_strategy='rag',\n",
    "                               test_or_prod='test')\n",
    "rag_pubmed_result = rag_engine.run()"
   ]
  },
  {
   "cell_type": "code",
   "execution_count": null,
   "id": "b63b5424",
   "metadata": {},
   "outputs": [],
   "source": [
    "rag_pubmed_result.to_csv(\"rag_pubmed_result_partially_cleaned_contexts.csv\",\n",
    "                         index=False)"
   ]
  },
  {
   "cell_type": "code",
   "execution_count": 18,
   "id": "c63304c8",
   "metadata": {},
   "outputs": [
    {
     "name": "stdout",
     "output_type": "stream",
     "text": [
      "RAG PubMedBERT Top-5 Accuracy: 93.85%\n",
      "  Accuracy Level   Accuracy\n",
      "0    Top 1 Match  70.387244\n",
      "1  Top 3 Matches  89.293850\n",
      "2  Top 5 Matches  93.849658\n"
     ]
    }
   ],
   "source": [
    "# RAG Strategy w/ pubmed-bert\n",
    "rag_pubmed_accuracy_df = calc.calc_accuracy(rag_pubmed_result)\n",
    "rag_pubmed_accuracy = rag_pubmed_accuracy_df[\n",
    "    rag_pubmed_accuracy_df[\"Accuracy Level\"] ==\n",
    "    \"Top 5 Matches\"][\"Accuracy\"].values[0]\n",
    "print(f\"RAG PubMedBERT Top-5 Accuracy: {rag_pubmed_accuracy:.2f}%\")\n",
    "print(rag_pubmed_accuracy_df)"
   ]
  },
  {
   "cell_type": "code",
   "execution_count": 8,
   "id": "2b7af671",
   "metadata": {},
   "outputs": [
    {
     "name": "stdout",
     "output_type": "stream",
     "text": [
      "11/06//2025 02:08:1749632890 AM - INFO - OntoMapEngine: Initialized OntoMap Engine module\n",
      "11/06//2025 02:08:1749632890 AM - INFO - OntoMapEngine: Initialized OntoMap Engine module\n",
      "11/06//2025 02:08:1749632890 AM - INFO - OntoMapEngine: Running Ontology Mapping\n",
      "11/06//2025 02:08:1749632890 AM - INFO - OntoMapEngine: Running Ontology Mapping\n",
      "11/06//2025 02:08:1749632890 AM - INFO - OntoMapEngine: Separating exact and non-exact matches\n",
      "11/06//2025 02:08:1749632890 AM - INFO - OntoMapEngine: Separating exact and non-exact matches\n",
      "11/06//2025 02:08:1749632890 AM - INFO - OntoMapEngine: Running OntoMap model for non-exact matches\n",
      "11/06//2025 02:08:1749632890 AM - INFO - OntoMapEngine: Running OntoMap model for non-exact matches\n",
      "11/06//2025 02:08:1749632890 AM - INFO - OntoMapRAG: Initialized OntoMapRAG module\n",
      "11/06//2025 02:08:1749632890 AM - INFO - OntoMapRAG: Initialized OntoMapRAG module\n",
      "11/06//2025 02:08:1749632890 AM - INFO - OntoMapRAG: Generating results table\n",
      "11/06//2025 02:08:1749632890 AM - INFO - OntoMapRAG: Generating results table\n"
     ]
    },
    {
     "name": "stderr",
     "output_type": "stream",
     "text": [
      "Processing queries:   0%|          | 0/439 [00:00<?, ?it/s]No sentence-transformers model found with name emilyalsentzer/Bio_ClinicalBERT. Creating a new one with mean pooling.\n",
      "Processing queries: 100%|██████████| 439/439 [00:16<00:00, 26.07it/s]"
     ]
    },
    {
     "name": "stdout",
     "output_type": "stream",
     "text": [
      "11/06//2025 02:08:1749632907 AM - INFO - OntoMapRAG: Results Generated\n",
      "11/06//2025 02:08:1749632907 AM - INFO - OntoMapRAG: Results Generated\n"
     ]
    },
    {
     "name": "stderr",
     "output_type": "stream",
     "text": [
      "\n"
     ]
    }
   ],
   "source": [
    "# RAG Strategy w/ clinical-bert\n",
    "rag_engine = ome.OntoMapEngine(method='clinical-bert',\n",
    "                               topk=5,\n",
    "                               query=query_list,\n",
    "                               corpus=small_corpus_list,\n",
    "                               cura_map=cura_map,\n",
    "                               yaml_path='./src/models/method_model.yaml',\n",
    "                               om_strategy='rag',\n",
    "                               test_or_prod='test')\n",
    "rag_clinical_result = rag_engine.run()"
   ]
  },
  {
   "cell_type": "code",
   "execution_count": 9,
   "id": "0e87470b",
   "metadata": {},
   "outputs": [
    {
     "name": "stdout",
     "output_type": "stream",
     "text": [
      "RAG ClinicalBERT Top-5 Accuracy: 37.81%\n",
      "  Accuracy Level   Accuracy\n",
      "0    Top 1 Match  10.022779\n",
      "1  Top 3 Matches  26.879271\n",
      "2  Top 5 Matches  37.813212\n"
     ]
    }
   ],
   "source": [
    "rag_clinical_accuracy_df = calc.calc_accuracy(rag_clinical_result)\n",
    "rag_clinical_accuracy = rag_clinical_accuracy_df[\n",
    "    rag_clinical_accuracy_df[\"Accuracy Level\"] ==\n",
    "    \"Top 5 Matches\"][\"Accuracy\"].values[0]\n",
    "print(f\"RAG ClinicalBERT Top-5 Accuracy: {rag_clinical_accuracy:.2f}%\")\n",
    "print(rag_clinical_accuracy_df)"
   ]
  },
  {
   "cell_type": "markdown",
   "id": "f1912ce5",
   "metadata": {},
   "source": [
    "Sample output"
   ]
  },
  {
   "cell_type": "code",
   "execution_count": null,
   "id": "2897251f",
   "metadata": {},
   "outputs": [
    {
     "name": "stdout",
     "output_type": "stream",
     "text": [
      "https://uts-ws.nlm.nih.gov/rest/search/current?string=lung+cancer&apiKey=07bb3180-6b91-44a7-8fc4-ca051b1bacb2&pageNumber=1&searchType=exact&sabs=NCI&returnIdType=code\n",
      "Results for page 1\n",
      "\n",
      "UI: C4878\n",
      "URI: https://uts-ws.nlm.nih.gov/rest/content/2025AA/source/NCI/C4878\n",
      "Name: Lung Carcinoma\n",
      "Source Vocabulary: NCI\n",
      "\n",
      "\n",
      "([{'ui': 'C4878', 'rootSource': 'NCI', 'uri': 'https://uts-ws.nlm.nih.gov/rest/content/2025AA/source/NCI/C4878', 'name': 'Lung Carcinoma'}], ['C4878'])\n"
     ]
    }
   ],
   "source": [
    "from src.KnowledgeDb.faiss_sqlite_pipeline import UMLSDb\n",
    "\n",
    "umls = UMLSDb(api_key=\"\")\n",
    "codes = umls.get_nci_code_by_term(\"lung cancer\")\n",
    "print(codes)"
   ]
  },
  {
   "cell_type": "code",
   "execution_count": null,
   "id": "054a1c9b",
   "metadata": {},
   "outputs": [
    {
     "name": "stderr",
     "output_type": "stream",
     "text": [
      "/home/lcc/miniconda3/envs/py310/lib/python3.10/site-packages/tqdm/auto.py:21: TqdmWarning: IProgress not found. Please update jupyter and ipywidgets. See https://ipywidgets.readthedocs.io/en/stable/user_install.html\n",
      "  from .autonotebook import tqdm as notebook_tqdm\n"
     ]
    },
    {
     "name": "stdout",
     "output_type": "stream",
     "text": [
      "{'C4878': {'code': 'C4878', 'name': 'Lung Carcinoma', 'terminology': 'ncit', 'version': '25.05d', 'conceptStatus': 'DEFAULT', 'leaf': False, 'active': True, 'roles': [{'type': 'Disease_Excludes_Finding', 'relatedCode': 'C36122', 'relatedName': 'Benign Cellular Infiltrate'}, {'type': 'Disease_Has_Finding', 'relatedCode': 'C54172', 'relatedName': 'Carcinomatous Component Present'}, {'type': 'Disease_Has_Normal_Cell_Origin', 'relatedCode': 'C12578', 'relatedName': 'Epithelial Cell'}, {'type': 'Disease_Has_Finding', 'relatedCode': 'C53596', 'relatedName': 'Epithelial Component Present'}, {'type': 'Disease_Has_Normal_Tissue_Origin', 'relatedCode': 'C45714', 'relatedName': 'Epithelial Tissue'}, {'type': 'Disease_Has_Associated_Anatomic_Site', 'relatedCode': 'C12468', 'relatedName': 'Lung'}, {'type': 'Disease_Has_Primary_Anatomic_Site', 'relatedCode': 'C12468', 'relatedName': 'Lung'}, {'type': 'Disease_Has_Abnormal_Cell', 'relatedCode': 'C12917', 'relatedName': 'Malignant Cell'}, {'type': 'Disease_Has_Finding', 'relatedCode': 'C36115', 'relatedName': 'Malignant Cellular Infiltrate'}, {'type': 'Disease_Has_Abnormal_Cell', 'relatedCode': 'C36779', 'relatedName': 'Malignant Epithelial Cell'}, {'type': 'Disease_Excludes_Abnormal_Cell', 'relatedCode': 'C37153', 'relatedName': 'Malignant Stromal Cell'}, {'type': 'Disease_Excludes_Primary_Anatomic_Site', 'relatedCode': 'C13063', 'relatedName': 'Neck'}, {'type': 'Disease_Has_Abnormal_Cell', 'relatedCode': 'C12922', 'relatedName': 'Neoplastic Cell'}, {'type': 'Disease_Has_Abnormal_Cell', 'relatedCode': 'C36753', 'relatedName': 'Neoplastic Epithelial Cell'}, {'type': 'Disease_Excludes_Abnormal_Cell', 'relatedCode': 'C36937', 'relatedName': 'Neoplastic Smooth Muscle Cell'}, {'type': 'Disease_Excludes_Finding', 'relatedCode': 'C42624', 'relatedName': 'Premalignant Lesion'}, {'type': 'Disease_Has_Associated_Anatomic_Site', 'relatedCode': 'C12779', 'relatedName': 'Respiratory System'}, {'type': 'Disease_Has_Associated_Anatomic_Site', 'relatedCode': 'C12905', 'relatedName': 'Thoracic Cavity'}, {'type': 'Disease_Mapped_To_Gene', 'relatedCode': 'C17359', 'relatedName': 'TP53 Gene'}]}}\n",
      "roles: Disease_Excludes_Finding: Benign Cellular Infiltrate, Disease_Has_Finding: Carcinomatous Component Present, Disease_Has_Normal_Cell_Origin: Epithelial Cell, Disease_Has_Finding: Epithelial Component Present, Disease_Has_Normal_Tissue_Origin: Epithelial Tissue, Disease_Has_Associated_Anatomic_Site: Lung, Disease_Has_Primary_Anatomic_Site: Lung, Disease_Has_Abnormal_Cell: Malignant Cell, Disease_Has_Finding: Malignant Cellular Infiltrate, Disease_Has_Abnormal_Cell: Malignant Epithelial Cell, Disease_Excludes_Abnormal_Cell: Malignant Stromal Cell, Disease_Excludes_Primary_Anatomic_Site: Neck, Disease_Has_Abnormal_Cell: Neoplastic Cell, Disease_Has_Abnormal_Cell: Neoplastic Epithelial Cell, Disease_Excludes_Abnormal_Cell: Neoplastic Smooth Muscle Cell, Disease_Excludes_Finding: Premalignant Lesion, Disease_Has_Associated_Anatomic_Site: Respiratory System, Disease_Has_Associated_Anatomic_Site: Thoracic Cavity, Disease_Mapped_To_Gene: TP53 Gene\n"
     ]
    }
   ],
   "source": [
    "from src.KnowledgeDb.faiss_sqlite_pipeline import NCIDb\n",
    "\n",
    "nci = NCIDb(umls_api_key=\"\")\n",
    "conceptDict = nci.get_custom_concepts_by_codes([\"C4878\"], [\"roles\"])\n",
    "print(conceptDict)\n",
    "\n",
    "context = nci.create_context_list(conceptDict[\"C4878\"])\n",
    "\n",
    "print(context)"
   ]
  },
  {
   "cell_type": "markdown",
   "id": "bf097f33",
   "metadata": {},
   "source": [
    "Overlapping of different strategies"
   ]
  },
  {
   "cell_type": "code",
   "execution_count": 8,
   "id": "36f91350",
   "metadata": {},
   "outputs": [],
   "source": [
    "import pandas as pd\n",
    "import seaborn as sns\n",
    "import matplotlib.pyplot as plt\n",
    "\n",
    "\n",
    "def compute_overlap_matrix(data_dict):\n",
    "    methods = list(data_dict.keys())\n",
    "    matrix = pd.DataFrame(index=methods, columns=methods)\n",
    "\n",
    "    for m1 in methods:\n",
    "        for m2 in methods:\n",
    "            if m1 == m2:\n",
    "                matrix.loc[m1, m2] = 1.0\n",
    "            else:\n",
    "                intersect = len(data_dict[m1] & data_dict[m2])\n",
    "                union = len(data_dict[m1] | data_dict[m2])\n",
    "                matrix.loc[m1, m2] = round(intersect / union, 3)\n",
    "    return matrix\n",
    "\n",
    "\n",
    "def plot_heatmap(matrix, title):\n",
    "    plt.figure(figsize=(8, 6))\n",
    "    sns.heatmap(matrix.astype(float),\n",
    "                annot=True,\n",
    "                fmt=\".2f\",\n",
    "                cmap=\"Blues\",\n",
    "                linewidths=0.5)\n",
    "    plt.title(title)\n",
    "    plt.tight_layout()\n",
    "    plt.show()\n"
   ]
  },
  {
   "cell_type": "code",
   "execution_count": 9,
   "id": "c4ec5e94",
   "metadata": {},
   "outputs": [
    {
     "name": "stdout",
     "output_type": "stream",
     "text": [
      "🔹 Top1 Jaccard Overlap Matrix\n",
      "         lm     st   rag1   rag2   rag3\n",
      "lm      1.0  0.884  0.759  0.719  0.754\n",
      "st    0.884    1.0  0.772  0.737  0.781\n",
      "rag1  0.759  0.772    1.0  0.895  0.721\n",
      "rag2  0.719  0.737  0.895    1.0  0.726\n",
      "rag3  0.754  0.781  0.721  0.726    1.0\n",
      "\n",
      "🔹 Top5 Jaccard Overlap Matrix\n",
      "         lm     st   rag1   rag2   rag3\n",
      "lm      1.0  0.899  0.855  0.853  0.822\n",
      "st    0.899    1.0  0.851  0.849  0.836\n",
      "rag1  0.855  0.851    1.0  0.973  0.915\n",
      "rag2  0.853  0.849  0.973    1.0  0.908\n",
      "rag3  0.822  0.836  0.915  0.908    1.0\n"
     ]
    }
   ],
   "source": [
    "files = {\n",
    "    'lm':\n",
    "    'data/outputs/cbio_bodysite/lm_sapbert_result.csv',\n",
    "    'st':\n",
    "    'data/outputs/cbio_bodysite/st_sapbert_result.csv',\n",
    "    'rag1':\n",
    "    'data/outputs/cbio_bodysite/rag_sapbert_result_removed_duplicates.csv',\n",
    "    'rag2':\n",
    "    'data/outputs/cbio_bodysite/rag_sapbert_result_partially_cleaned_contexts.csv',\n",
    "    'rag3':\n",
    "    'data/outputs/cbio_bodysite/rag_pubmed_result_partially_cleaned_contexts.csv',\n",
    "}\n",
    "\n",
    "top1_dict = {}\n",
    "top5_dict = {}\n",
    "\n",
    "for name, path in files.items():\n",
    "    df = pd.read_csv(path)\n",
    "    top1_dict[name] = set(df[df['match_level'] == 1]['original_value'])\n",
    "    top5_dict[name] = set(df[df['match_level'] <= 5]['original_value'])\n",
    "\n",
    "top1_overlap = compute_overlap_matrix(top1_dict)\n",
    "top5_overlap = compute_overlap_matrix(top5_dict)\n",
    "\n",
    "print(\"🔹 Top1 Jaccard Overlap Matrix\")\n",
    "print(top1_overlap)\n",
    "\n",
    "print(\"\\n🔹 Top5 Jaccard Overlap Matrix\")\n",
    "print(top5_overlap)"
   ]
  },
  {
   "cell_type": "code",
   "execution_count": 10,
   "id": "cbaa6815",
   "metadata": {},
   "outputs": [
    {
     "data": {
      "image/png": "[encoded data removed]",
      "text/plain": [
       "<Figure size 800x600 with 2 Axes>"
      ]
     },
     "metadata": {},
     "output_type": "display_data"
    },
    {
     "data": {
      "image/png": "[encoded data removed]",
      "text/plain": [
       "<Figure size 800x600 with 2 Axes>"
      ]
     },
     "metadata": {},
     "output_type": "display_data"
    }
   ],
   "source": [
    "plot_heatmap(top1_overlap, \"Top-1 Jaccard Overlap\")\n",
    "plot_heatmap(top5_overlap, \"Top-5 Jaccard Overlap\")"
   ]
  }
 ],
 "metadata": {
  "kernelspec": {
   "display_name": "py310",
   "language": "python",
   "name": "python3"
  },
  "language_info": {
   "codemirror_mode": {
    "name": "ipython",
    "version": 3
   },
   "file_extension": ".py",
   "mimetype": "text/x-python",
   "name": "python",
   "nbconvert_exporter": "python",
   "pygments_lexer": "ipython3",
   "version": "3.10.18"
  }
 },
 "nbformat": 4,
 "nbformat_minor": 5
}
