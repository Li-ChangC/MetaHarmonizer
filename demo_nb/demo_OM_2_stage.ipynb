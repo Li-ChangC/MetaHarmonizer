{
 "cells": [
  {
   "cell_type": "markdown",
   "metadata": {},
   "source": [
    "# Ontology Mapping Demo\n",
    "\n",
    "This notebook demonstrates the ontology mapping process using different strategies."
   ]
  },
  {
   "cell_type": "code",
   "execution_count": 1,
   "metadata": {},
   "outputs": [
    {
     "name": "stdout",
     "output_type": "stream",
     "text": [
      "/Users/abhilashdhal/Desktop/cbioportal_gsoc/OmicsMLRepoHarmonizer\n"
     ]
    }
   ],
   "source": [
    "%cd '/Users/abhilashdhal/Desktop/cbioportal_gsoc/OmicsMLRepoHarmonizer'"
   ]
  },
  {
   "cell_type": "code",
   "execution_count": 1,
   "metadata": {},
   "outputs": [
    {
     "name": "stdout",
     "output_type": "stream",
     "text": [
      "/home/lcc/projects/MetaHarmonizer\n"
     ]
    }
   ],
   "source": [
    "%cd .."
   ]
  },
  {
   "cell_type": "code",
   "execution_count": 2,
   "metadata": {},
   "outputs": [
    {
     "data": {
      "text/plain": [
       "True"
      ]
     },
     "execution_count": 2,
     "metadata": {},
     "output_type": "execute_result"
    }
   ],
   "source": [
    "import gevent.monkey\n",
    "gevent.monkey.patch_all(thread=False, select=False)"
   ]
  },
  {
   "cell_type": "code",
   "execution_count": 3,
   "metadata": {},
   "outputs": [
    {
     "name": "stderr",
     "output_type": "stream",
     "text": [
      "/home/lcc/miniconda3/envs/gsoc/lib/python3.12/site-packages/tqdm/auto.py:21: TqdmWarning: IProgress not found. Please update jupyter and ipywidgets. See https://ipywidgets.readthedocs.io/en/stable/user_install.html\n",
      "  from .autonotebook import tqdm as notebook_tqdm\n",
      "/home/lcc/miniconda3/envs/gsoc/lib/python3.12/site-packages/fuzzywuzzy/fuzz.py:11: UserWarning: Using slow pure-python SequenceMatcher. Install python-Levenshtein to remove this warning\n",
      "  warnings.warn('Using slow pure-python SequenceMatcher. Install python-Levenshtein to remove this warning')\n",
      "[nltk_data] Downloading package punkt to /home/lcc/nltk_data...\n",
      "[nltk_data]   Package punkt is already up-to-date!\n",
      "[nltk_data] Downloading package wordnet to /home/lcc/nltk_data...\n",
      "[nltk_data]   Package wordnet is already up-to-date!\n",
      "[nltk_data] Downloading package punkt to /home/lcc/nltk_data...\n",
      "[nltk_data]   Package punkt is already up-to-date!\n",
      "[nltk_data] Downloading package stopwords to /home/lcc/nltk_data...\n",
      "[nltk_data]   Package stopwords is already up-to-date!\n",
      "[nltk_data] Downloading package wordnet to /home/lcc/nltk_data...\n",
      "[nltk_data]   Package wordnet is already up-to-date!\n"
     ]
    },
    {
     "data": {
      "text/plain": [
       "<module 'src.models.ontology_mapper_lm' from '/home/lcc/projects/MetaHarmonizer/src/models/ontology_mapper_lm.py'>"
      ]
     },
     "execution_count": 3,
     "metadata": {},
     "output_type": "execute_result"
    }
   ],
   "source": [
    "import numpy as np\n",
    "import torch\n",
    "from tqdm.auto import tqdm\n",
    "from transformers import AutoTokenizer, AutoModel\n",
    "import os\n",
    "import pandas as pd\n",
    "from importlib import reload\n",
    "import src.models.ontology_mapper_st as om_st\n",
    "from src.Engine import ontology_mapping_engine as ome\n",
    "import src.models.ontology_mapper_lm as om_lm\n",
    "reload(om_st)\n",
    "reload(ome)\n",
    "reload(om_lm)"
   ]
  },
  {
   "cell_type": "markdown",
   "metadata": {},
   "source": [
    "## Load the data"
   ]
  },
  {
   "cell_type": "code",
   "execution_count": 4,
   "metadata": {},
   "outputs": [],
   "source": [
    "cura_map = pd.read_csv('./data/corpus/cbio_treatment_name/trt_name_query_for_NCIT:C1909.csv')\n",
    "query_list = cura_map['original_value'].tolist()\n",
    "small_corpus_list = cura_map['curated_ontology'].to_list()\n",
    "# large_corpus_list = pd.read_csv('./data/corpus_from_NCIT_C1909.csv')"
   ]
  },
  {
   "cell_type": "code",
   "execution_count": 5,
   "metadata": {},
   "outputs": [
    {
     "data": {
      "text/html": [
       "<div>\n",
       "<style scoped>\n",
       "    .dataframe tbody tr th:only-of-type {\n",
       "        vertical-align: middle;\n",
       "    }\n",
       "\n",
       "    .dataframe tbody tr th {\n",
       "        vertical-align: top;\n",
       "    }\n",
       "\n",
       "    .dataframe thead th {\n",
       "        text-align: right;\n",
       "    }\n",
       "</style>\n",
       "<table border=\"1\" class=\"dataframe\">\n",
       "  <thead>\n",
       "    <tr style=\"text-align: right;\">\n",
       "      <th></th>\n",
       "      <th>original_value</th>\n",
       "      <th>curated_ontology</th>\n",
       "      <th>curated_ontology_term_id</th>\n",
       "      <th>curated_ontology_term_db</th>\n",
       "    </tr>\n",
       "  </thead>\n",
       "  <tbody>\n",
       "    <tr>\n",
       "      <th>0</th>\n",
       "      <td>17-DMAG</td>\n",
       "      <td>Alvespimycin</td>\n",
       "      <td>NCIT:C38142</td>\n",
       "      <td>NCIT</td>\n",
       "    </tr>\n",
       "    <tr>\n",
       "      <th>1</th>\n",
       "      <td>19D12</td>\n",
       "      <td>Robatumumab</td>\n",
       "      <td>NCIT:C71527</td>\n",
       "      <td>NCIT</td>\n",
       "    </tr>\n",
       "    <tr>\n",
       "      <th>2</th>\n",
       "      <td>5 fu</td>\n",
       "      <td>Fluorouracil</td>\n",
       "      <td>NCIT:C505</td>\n",
       "      <td>NCIT</td>\n",
       "    </tr>\n",
       "    <tr>\n",
       "      <th>3</th>\n",
       "      <td>5-FU</td>\n",
       "      <td>Fluorouracil</td>\n",
       "      <td>NCIT:C505</td>\n",
       "      <td>NCIT</td>\n",
       "    </tr>\n",
       "    <tr>\n",
       "      <th>4</th>\n",
       "      <td>5-fluorouracil</td>\n",
       "      <td>Fluorouracil</td>\n",
       "      <td>NCIT:C505</td>\n",
       "      <td>NCIT</td>\n",
       "    </tr>\n",
       "    <tr>\n",
       "      <th>...</th>\n",
       "      <td>...</td>\n",
       "      <td>...</td>\n",
       "      <td>...</td>\n",
       "      <td>...</td>\n",
       "    </tr>\n",
       "    <tr>\n",
       "      <th>573</th>\n",
       "      <td>vinblastine</td>\n",
       "      <td>Vinblastine</td>\n",
       "      <td>NCIT:C930</td>\n",
       "      <td>NCIT</td>\n",
       "    </tr>\n",
       "    <tr>\n",
       "      <th>574</th>\n",
       "      <td>vincrisinte</td>\n",
       "      <td>Vincristine</td>\n",
       "      <td>NCIT:C933</td>\n",
       "      <td>NCIT</td>\n",
       "    </tr>\n",
       "    <tr>\n",
       "      <th>575</th>\n",
       "      <td>vincristine</td>\n",
       "      <td>Vincristine</td>\n",
       "      <td>NCIT:C933</td>\n",
       "      <td>NCIT</td>\n",
       "    </tr>\n",
       "    <tr>\n",
       "      <th>576</th>\n",
       "      <td>vincristine sulfate</td>\n",
       "      <td>Vincristine Sulfate</td>\n",
       "      <td>NCIT:C1739</td>\n",
       "      <td>NCIT</td>\n",
       "    </tr>\n",
       "    <tr>\n",
       "      <th>577</th>\n",
       "      <td>xeloda</td>\n",
       "      <td>Capecitabine</td>\n",
       "      <td>NCIT:C1794</td>\n",
       "      <td>NCIT</td>\n",
       "    </tr>\n",
       "  </tbody>\n",
       "</table>\n",
       "<p>578 rows × 4 columns</p>\n",
       "</div>"
      ],
      "text/plain": [
       "          original_value     curated_ontology curated_ontology_term_id  \\\n",
       "0                17-DMAG         Alvespimycin              NCIT:C38142   \n",
       "1                  19D12          Robatumumab              NCIT:C71527   \n",
       "2                   5 fu         Fluorouracil                NCIT:C505   \n",
       "3                   5-FU         Fluorouracil                NCIT:C505   \n",
       "4         5-fluorouracil         Fluorouracil                NCIT:C505   \n",
       "..                   ...                  ...                      ...   \n",
       "573          vinblastine          Vinblastine                NCIT:C930   \n",
       "574          vincrisinte          Vincristine                NCIT:C933   \n",
       "575          vincristine          Vincristine                NCIT:C933   \n",
       "576  vincristine sulfate  Vincristine Sulfate               NCIT:C1739   \n",
       "577               xeloda         Capecitabine               NCIT:C1794   \n",
       "\n",
       "    curated_ontology_term_db  \n",
       "0                       NCIT  \n",
       "1                       NCIT  \n",
       "2                       NCIT  \n",
       "3                       NCIT  \n",
       "4                       NCIT  \n",
       "..                       ...  \n",
       "573                     NCIT  \n",
       "574                     NCIT  \n",
       "575                     NCIT  \n",
       "576                     NCIT  \n",
       "577                     NCIT  \n",
       "\n",
       "[578 rows x 4 columns]"
      ]
     },
     "execution_count": 5,
     "metadata": {},
     "output_type": "execute_result"
    }
   ],
   "source": [
    "cura_map "
   ]
  },
  {
   "cell_type": "markdown",
   "metadata": {},
   "source": [
    "## Initialize the Engine"
   ]
  },
  {
   "cell_type": "code",
   "execution_count": 6,
   "metadata": {},
   "outputs": [
    {
     "name": "stdout",
     "output_type": "stream",
     "text": [
      "21/05//2025 12:47:1747856869 PM - INFO - OntoMapEngine: Initialized OntoMap Engine module\n"
     ]
    }
   ],
   "source": [
    "other_params = {\"test_or_prod\": \"prod\"}\n",
    "onto_engine_large = ome.OntoMapEngine(method='sap-bert', topk=5,\n",
    "query=query_list, corpus=small_corpus_list,\n",
    "cura_map=None, \n",
    "yaml_path='./src/models/method_model.yaml', \n",
    "om_strategy='lm', **other_params)"
   ]
  },
  {
   "cell_type": "markdown",
   "metadata": {},
   "source": [
    "## Run the Ontology Mapping"
   ]
  },
  {
   "cell_type": "code",
   "execution_count": 7,
   "metadata": {},
   "outputs": [
    {
     "name": "stdout",
     "output_type": "stream",
     "text": [
      "21/05//2025 12:47:1747856872 PM - INFO - OntoMapEngine: Running Ontology Mapping\n",
      "21/05//2025 12:47:1747856872 PM - INFO - OntoMapEngine: Separating exact and non-exact matches\n",
      "21/05//2025 12:47:1747856872 PM - INFO - OntoMapEngine: Running OntoMap model for non-exact matches\n",
      "21/05//2025 12:47:1747856872 PM - INFO - OntoMapLM: Initialized OntoMap Language Model module\n",
      "21/05//2025 12:47:1747856872 PM - INFO - OntoMapLM.get_match_results: Creating embeddings for query_list and corpus\n",
      "21/05//2025 12:48:1747856895 PM - INFO - OntoMapLM.get_match_results: Calculating cosine similarity matrix\n",
      "21/05//2025 12:48:1747856895 PM - INFO - OntoMapLM.get_match_results: Generating results table\n",
      "21/05//2025 12:48:1747856896 PM - INFO - OntoMapLM.get_match_results: Results Generated\n"
     ]
    }
   ],
   "source": [
    "results_engine_testing = onto_engine_large.run()"
   ]
  },
  {
   "cell_type": "markdown",
   "metadata": {},
   "source": [
    "## Display Results"
   ]
  },
  {
   "cell_type": "code",
   "execution_count": 8,
   "metadata": {},
   "outputs": [
    {
     "data": {
      "text/html": [
       "<div>\n",
       "<style scoped>\n",
       "    .dataframe tbody tr th:only-of-type {\n",
       "        vertical-align: middle;\n",
       "    }\n",
       "\n",
       "    .dataframe tbody tr th {\n",
       "        vertical-align: top;\n",
       "    }\n",
       "\n",
       "    .dataframe thead th {\n",
       "        text-align: right;\n",
       "    }\n",
       "</style>\n",
       "<table border=\"1\" class=\"dataframe\">\n",
       "  <thead>\n",
       "    <tr style=\"text-align: right;\">\n",
       "      <th></th>\n",
       "      <th>original_value</th>\n",
       "      <th>curated_ontology</th>\n",
       "      <th>match_level</th>\n",
       "      <th>stage</th>\n",
       "      <th>top1_match</th>\n",
       "      <th>top1_score</th>\n",
       "      <th>top2_match</th>\n",
       "      <th>top2_score</th>\n",
       "      <th>top3_match</th>\n",
       "      <th>top3_score</th>\n",
       "      <th>top4_match</th>\n",
       "      <th>top4_score</th>\n",
       "      <th>top5_match</th>\n",
       "      <th>top5_score</th>\n",
       "    </tr>\n",
       "  </thead>\n",
       "  <tbody>\n",
       "    <tr>\n",
       "      <th>0</th>\n",
       "      <td>Abiraterone</td>\n",
       "      <td>Abiraterone</td>\n",
       "      <td>1</td>\n",
       "      <td>1</td>\n",
       "      <td>Abiraterone</td>\n",
       "      <td>1.0</td>\n",
       "      <td>Abiraterone</td>\n",
       "      <td>1.0</td>\n",
       "      <td>Abiraterone</td>\n",
       "      <td>1.0</td>\n",
       "      <td>Abiraterone</td>\n",
       "      <td>1.0</td>\n",
       "      <td>Abiraterone</td>\n",
       "      <td>1.0</td>\n",
       "    </tr>\n",
       "    <tr>\n",
       "      <th>1</th>\n",
       "      <td>Adalimumab</td>\n",
       "      <td>Adalimumab</td>\n",
       "      <td>1</td>\n",
       "      <td>1</td>\n",
       "      <td>Adalimumab</td>\n",
       "      <td>1.0</td>\n",
       "      <td>Adalimumab</td>\n",
       "      <td>1.0</td>\n",
       "      <td>Adalimumab</td>\n",
       "      <td>1.0</td>\n",
       "      <td>Adalimumab</td>\n",
       "      <td>1.0</td>\n",
       "      <td>Adalimumab</td>\n",
       "      <td>1.0</td>\n",
       "    </tr>\n",
       "    <tr>\n",
       "      <th>2</th>\n",
       "      <td>Afatinib</td>\n",
       "      <td>Afatinib</td>\n",
       "      <td>1</td>\n",
       "      <td>1</td>\n",
       "      <td>Afatinib</td>\n",
       "      <td>1.0</td>\n",
       "      <td>Afatinib</td>\n",
       "      <td>1.0</td>\n",
       "      <td>Afatinib</td>\n",
       "      <td>1.0</td>\n",
       "      <td>Afatinib</td>\n",
       "      <td>1.0</td>\n",
       "      <td>Afatinib</td>\n",
       "      <td>1.0</td>\n",
       "    </tr>\n",
       "    <tr>\n",
       "      <th>3</th>\n",
       "      <td>Alisertib</td>\n",
       "      <td>Alisertib</td>\n",
       "      <td>1</td>\n",
       "      <td>1</td>\n",
       "      <td>Alisertib</td>\n",
       "      <td>1.0</td>\n",
       "      <td>Alisertib</td>\n",
       "      <td>1.0</td>\n",
       "      <td>Alisertib</td>\n",
       "      <td>1.0</td>\n",
       "      <td>Alisertib</td>\n",
       "      <td>1.0</td>\n",
       "      <td>Alisertib</td>\n",
       "      <td>1.0</td>\n",
       "    </tr>\n",
       "    <tr>\n",
       "      <th>4</th>\n",
       "      <td>Alpelisib</td>\n",
       "      <td>Alpelisib</td>\n",
       "      <td>1</td>\n",
       "      <td>1</td>\n",
       "      <td>Alpelisib</td>\n",
       "      <td>1.0</td>\n",
       "      <td>Alpelisib</td>\n",
       "      <td>1.0</td>\n",
       "      <td>Alpelisib</td>\n",
       "      <td>1.0</td>\n",
       "      <td>Alpelisib</td>\n",
       "      <td>1.0</td>\n",
       "      <td>Alpelisib</td>\n",
       "      <td>1.0</td>\n",
       "    </tr>\n",
       "    <tr>\n",
       "      <th>...</th>\n",
       "      <td>...</td>\n",
       "      <td>...</td>\n",
       "      <td>...</td>\n",
       "      <td>...</td>\n",
       "      <td>...</td>\n",
       "      <td>...</td>\n",
       "      <td>...</td>\n",
       "      <td>...</td>\n",
       "      <td>...</td>\n",
       "      <td>...</td>\n",
       "      <td>...</td>\n",
       "      <td>...</td>\n",
       "      <td>...</td>\n",
       "      <td>...</td>\n",
       "    </tr>\n",
       "    <tr>\n",
       "      <th>573</th>\n",
       "      <td>vinblastine</td>\n",
       "      <td>Not Available for Prod Environment</td>\n",
       "      <td>99</td>\n",
       "      <td>2</td>\n",
       "      <td>Vinblastine</td>\n",
       "      <td>1.0000</td>\n",
       "      <td>Vinblastine</td>\n",
       "      <td>1.0000</td>\n",
       "      <td>Vinblastine</td>\n",
       "      <td>1.0000</td>\n",
       "      <td>Vinorelbine</td>\n",
       "      <td>0.7998</td>\n",
       "      <td>Vinorelbine</td>\n",
       "      <td>0.7998</td>\n",
       "    </tr>\n",
       "    <tr>\n",
       "      <th>574</th>\n",
       "      <td>vincrisinte</td>\n",
       "      <td>Not Available for Prod Environment</td>\n",
       "      <td>99</td>\n",
       "      <td>2</td>\n",
       "      <td>Vincristine</td>\n",
       "      <td>0.8570</td>\n",
       "      <td>Vincristine</td>\n",
       "      <td>0.8570</td>\n",
       "      <td>Vincristine</td>\n",
       "      <td>0.8570</td>\n",
       "      <td>Vincristine</td>\n",
       "      <td>0.8570</td>\n",
       "      <td>Vincristine</td>\n",
       "      <td>0.8570</td>\n",
       "    </tr>\n",
       "    <tr>\n",
       "      <th>575</th>\n",
       "      <td>vincristine</td>\n",
       "      <td>Not Available for Prod Environment</td>\n",
       "      <td>99</td>\n",
       "      <td>2</td>\n",
       "      <td>Vincristine</td>\n",
       "      <td>1.0000</td>\n",
       "      <td>Vincristine</td>\n",
       "      <td>1.0000</td>\n",
       "      <td>Vincristine</td>\n",
       "      <td>1.0000</td>\n",
       "      <td>Vincristine</td>\n",
       "      <td>1.0000</td>\n",
       "      <td>Vincristine</td>\n",
       "      <td>1.0000</td>\n",
       "    </tr>\n",
       "    <tr>\n",
       "      <th>576</th>\n",
       "      <td>vincristine sulfate</td>\n",
       "      <td>Not Available for Prod Environment</td>\n",
       "      <td>99</td>\n",
       "      <td>2</td>\n",
       "      <td>Vincristine Sulfate</td>\n",
       "      <td>1.0000</td>\n",
       "      <td>Vincristine Sulfate</td>\n",
       "      <td>1.0000</td>\n",
       "      <td>Vincristine</td>\n",
       "      <td>0.8704</td>\n",
       "      <td>Vincristine</td>\n",
       "      <td>0.8704</td>\n",
       "      <td>Vincristine</td>\n",
       "      <td>0.8704</td>\n",
       "    </tr>\n",
       "    <tr>\n",
       "      <th>577</th>\n",
       "      <td>xeloda</td>\n",
       "      <td>Not Available for Prod Environment</td>\n",
       "      <td>99</td>\n",
       "      <td>2</td>\n",
       "      <td>Capecitabine</td>\n",
       "      <td>0.7316</td>\n",
       "      <td>Capecitabine</td>\n",
       "      <td>0.7316</td>\n",
       "      <td>Capecitabine</td>\n",
       "      <td>0.7316</td>\n",
       "      <td>Capecitabine</td>\n",
       "      <td>0.7316</td>\n",
       "      <td>Capecitabine</td>\n",
       "      <td>0.7316</td>\n",
       "    </tr>\n",
       "  </tbody>\n",
       "</table>\n",
       "<p>578 rows × 14 columns</p>\n",
       "</div>"
      ],
      "text/plain": [
       "          original_value                    curated_ontology  match_level  \\\n",
       "0            Abiraterone                         Abiraterone            1   \n",
       "1             Adalimumab                          Adalimumab            1   \n",
       "2               Afatinib                            Afatinib            1   \n",
       "3              Alisertib                           Alisertib            1   \n",
       "4              Alpelisib                           Alpelisib            1   \n",
       "..                   ...                                 ...          ...   \n",
       "573          vinblastine  Not Available for Prod Environment           99   \n",
       "574          vincrisinte  Not Available for Prod Environment           99   \n",
       "575          vincristine  Not Available for Prod Environment           99   \n",
       "576  vincristine sulfate  Not Available for Prod Environment           99   \n",
       "577               xeloda  Not Available for Prod Environment           99   \n",
       "\n",
       "     stage           top1_match top1_score           top2_match top2_score  \\\n",
       "0        1          Abiraterone        1.0          Abiraterone        1.0   \n",
       "1        1           Adalimumab        1.0           Adalimumab        1.0   \n",
       "2        1             Afatinib        1.0             Afatinib        1.0   \n",
       "3        1            Alisertib        1.0            Alisertib        1.0   \n",
       "4        1            Alpelisib        1.0            Alpelisib        1.0   \n",
       "..     ...                  ...        ...                  ...        ...   \n",
       "573      2          Vinblastine     1.0000          Vinblastine     1.0000   \n",
       "574      2          Vincristine     0.8570          Vincristine     0.8570   \n",
       "575      2          Vincristine     1.0000          Vincristine     1.0000   \n",
       "576      2  Vincristine Sulfate     1.0000  Vincristine Sulfate     1.0000   \n",
       "577      2         Capecitabine     0.7316         Capecitabine     0.7316   \n",
       "\n",
       "       top3_match top3_score    top4_match top4_score    top5_match top5_score  \n",
       "0     Abiraterone        1.0   Abiraterone        1.0   Abiraterone        1.0  \n",
       "1      Adalimumab        1.0    Adalimumab        1.0    Adalimumab        1.0  \n",
       "2        Afatinib        1.0      Afatinib        1.0      Afatinib        1.0  \n",
       "3       Alisertib        1.0     Alisertib        1.0     Alisertib        1.0  \n",
       "4       Alpelisib        1.0     Alpelisib        1.0     Alpelisib        1.0  \n",
       "..            ...        ...           ...        ...           ...        ...  \n",
       "573   Vinblastine     1.0000   Vinorelbine     0.7998   Vinorelbine     0.7998  \n",
       "574   Vincristine     0.8570   Vincristine     0.8570   Vincristine     0.8570  \n",
       "575   Vincristine     1.0000   Vincristine     1.0000   Vincristine     1.0000  \n",
       "576   Vincristine     0.8704   Vincristine     0.8704   Vincristine     0.8704  \n",
       "577  Capecitabine     0.7316  Capecitabine     0.7316  Capecitabine     0.7316  \n",
       "\n",
       "[578 rows x 14 columns]"
      ]
     },
     "execution_count": 8,
     "metadata": {},
     "output_type": "execute_result"
    }
   ],
   "source": [
    "results_engine_testing"
   ]
  },
  {
   "cell_type": "code",
   "execution_count": 9,
   "metadata": {},
   "outputs": [
    {
     "name": "stdout",
     "output_type": "stream",
     "text": [
      "Total records: 578\n",
      "Unmatched records: 436 (75.43%)\n",
      "Matched records: 142 (1.00)\n"
     ]
    }
   ],
   "source": [
    "df = results_engine_testing\n",
    "\n",
    "# total count of records\n",
    "total = len(df)\n",
    "\n",
    "# unmatched（match_level == 99）\n",
    "unmatched_count = (df['match_level'] == 99).sum()\n",
    "unmatched_ratio = unmatched_count / total\n",
    "\n",
    "# matched（match_level != 99）\n",
    "matched_df = df[df['match_level'] != 99]\n",
    "matched_count = len(matched_df)\n",
    "average_match_level = matched_df['match_level'].mean()\n",
    "\n",
    "print(f\"Total records: {total}\")\n",
    "print(f\"Unmatched records: {unmatched_count} ({unmatched_ratio:.2%})\")\n",
    "print(f\"Matched records: {matched_count} ({average_match_level:.2f})\")"
   ]
  },
  {
   "cell_type": "code",
   "execution_count": 10,
   "metadata": {},
   "outputs": [],
   "source": [
    "results_engine_testing.to_csv('results_engine_testing.csv', index=False)"
   ]
  }
 ],
 "metadata": {
  "kernelspec": {
   "display_name": "gsoc",
   "language": "python",
   "name": "python3"
  },
  "language_info": {
   "codemirror_mode": {
    "name": "ipython",
    "version": 3
   },
   "file_extension": ".py",
   "mimetype": "text/x-python",
   "name": "python",
   "nbconvert_exporter": "python",
   "pygments_lexer": "ipython3",
   "version": "3.12.2"
  }
 },
 "nbformat": 4,
 "nbformat_minor": 4
}
